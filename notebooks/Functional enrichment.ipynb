{
 "cells": [
  {
   "cell_type": "code",
   "execution_count": 20,
   "id": "019ec8e9",
   "metadata": {},
   "outputs": [],
   "source": [
    "#!pip install statsmodels"
   ]
  },
  {
   "cell_type": "code",
   "execution_count": 21,
   "id": "ad7b36da",
   "metadata": {},
   "outputs": [],
   "source": [
    "import os\n",
    "import pandas as pd\n",
    "import scipy.stats as stats\n",
    "from statsmodels.stats.multitest import multipletests\n",
    "import plotly.express as px"
   ]
  },
  {
   "cell_type": "code",
   "execution_count": 2,
   "id": "bf893589",
   "metadata": {},
   "outputs": [],
   "source": [
    "data_dir = '../data'\n",
    "predictions_path = os.path.join(data_dir, 'predictions.tsv')\n",
    "gos_path = os.path.join(data_dir, 'gos.tsv')"
   ]
  },
  {
   "cell_type": "code",
   "execution_count": 3,
   "id": "3538814e",
   "metadata": {},
   "outputs": [
    {
     "data": {
      "text/html": [
       "<div>\n",
       "<style scoped>\n",
       "    .dataframe tbody tr th:only-of-type {\n",
       "        vertical-align: middle;\n",
       "    }\n",
       "\n",
       "    .dataframe tbody tr th {\n",
       "        vertical-align: top;\n",
       "    }\n",
       "\n",
       "    .dataframe thead th {\n",
       "        text-align: right;\n",
       "    }\n",
       "</style>\n",
       "<table border=\"1\" class=\"dataframe\">\n",
       "  <thead>\n",
       "    <tr style=\"text-align: right;\">\n",
       "      <th></th>\n",
       "      <th>taxid1</th>\n",
       "      <th>taxid1_label</th>\n",
       "      <th>source_color</th>\n",
       "      <th>source_shape</th>\n",
       "      <th>source</th>\n",
       "      <th>source_name</th>\n",
       "      <th>taxid2</th>\n",
       "      <th>taxid2_label</th>\n",
       "      <th>target_color</th>\n",
       "      <th>target_shape</th>\n",
       "      <th>target</th>\n",
       "      <th>target_name</th>\n",
       "      <th>experimental_evidence_score</th>\n",
       "      <th>databases_evidence_score</th>\n",
       "      <th>weight</th>\n",
       "      <th>group1</th>\n",
       "      <th>group2</th>\n",
       "      <th>edge_type</th>\n",
       "    </tr>\n",
       "  </thead>\n",
       "  <tbody>\n",
       "    <tr>\n",
       "      <th>0</th>\n",
       "      <td>5691</td>\n",
       "      <td>Trypanosoma brucei</td>\n",
       "      <td>#bc80bd</td>\n",
       "      <td>diamond</td>\n",
       "      <td>5691.EAN79407</td>\n",
       "      <td>EAN79407</td>\n",
       "      <td>9606</td>\n",
       "      <td>Homo sapiens</td>\n",
       "      <td>#525252</td>\n",
       "      <td>dot</td>\n",
       "      <td>9606.ENSP00000339740</td>\n",
       "      <td>CAMK2D</td>\n",
       "      <td>0.000</td>\n",
       "      <td>0.77</td>\n",
       "      <td>0.385</td>\n",
       "      <td>KOG0039</td>\n",
       "      <td>KOG0033</td>\n",
       "      <td>inter-species</td>\n",
       "    </tr>\n",
       "    <tr>\n",
       "      <th>1</th>\n",
       "      <td>5691</td>\n",
       "      <td>Trypanosoma brucei</td>\n",
       "      <td>#bc80bd</td>\n",
       "      <td>diamond</td>\n",
       "      <td>5691.EAN79407</td>\n",
       "      <td>EAN79407</td>\n",
       "      <td>9606</td>\n",
       "      <td>Homo sapiens</td>\n",
       "      <td>#525252</td>\n",
       "      <td>dot</td>\n",
       "      <td>9606.ENSP00000362057</td>\n",
       "      <td>NOX1</td>\n",
       "      <td>0.000</td>\n",
       "      <td>0.77</td>\n",
       "      <td>0.385</td>\n",
       "      <td>KOG0039</td>\n",
       "      <td>KOG0033</td>\n",
       "      <td>inter-species</td>\n",
       "    </tr>\n",
       "    <tr>\n",
       "      <th>2</th>\n",
       "      <td>5691</td>\n",
       "      <td>Trypanosoma brucei</td>\n",
       "      <td>#bc80bd</td>\n",
       "      <td>diamond</td>\n",
       "      <td>5691.EAN79407</td>\n",
       "      <td>EAN79407</td>\n",
       "      <td>9606</td>\n",
       "      <td>Homo sapiens</td>\n",
       "      <td>#525252</td>\n",
       "      <td>dot</td>\n",
       "      <td>9606.ENSP00000475084</td>\n",
       "      <td>DUOX2</td>\n",
       "      <td>0.000</td>\n",
       "      <td>0.77</td>\n",
       "      <td>0.385</td>\n",
       "      <td>KOG0039</td>\n",
       "      <td>KOG0033</td>\n",
       "      <td>inter-species</td>\n",
       "    </tr>\n",
       "    <tr>\n",
       "      <th>3</th>\n",
       "      <td>5671</td>\n",
       "      <td>Leishmania infantum</td>\n",
       "      <td>#e31a1c</td>\n",
       "      <td>diamond</td>\n",
       "      <td>5671.XP_001467017.1</td>\n",
       "      <td>XP_001467017.1</td>\n",
       "      <td>9606</td>\n",
       "      <td>Homo sapiens</td>\n",
       "      <td>#525252</td>\n",
       "      <td>dot</td>\n",
       "      <td>9606.ENSP00000339740</td>\n",
       "      <td>CAMK2D</td>\n",
       "      <td>0.994</td>\n",
       "      <td>0.00</td>\n",
       "      <td>0.497</td>\n",
       "      <td>KOG0078</td>\n",
       "      <td>KOG0033</td>\n",
       "      <td>inter-species</td>\n",
       "    </tr>\n",
       "    <tr>\n",
       "      <th>4</th>\n",
       "      <td>5671</td>\n",
       "      <td>Leishmania infantum</td>\n",
       "      <td>#e31a1c</td>\n",
       "      <td>diamond</td>\n",
       "      <td>5671.XP_001467017.1</td>\n",
       "      <td>XP_001467017.1</td>\n",
       "      <td>9606</td>\n",
       "      <td>Homo sapiens</td>\n",
       "      <td>#525252</td>\n",
       "      <td>dot</td>\n",
       "      <td>9606.ENSP00000300935</td>\n",
       "      <td>RAB8A</td>\n",
       "      <td>0.994</td>\n",
       "      <td>0.00</td>\n",
       "      <td>0.497</td>\n",
       "      <td>KOG0078</td>\n",
       "      <td>KOG0033</td>\n",
       "      <td>inter-species</td>\n",
       "    </tr>\n",
       "  </tbody>\n",
       "</table>\n",
       "</div>"
      ],
      "text/plain": [
       "   taxid1         taxid1_label source_color source_shape               source  \\\n",
       "0    5691   Trypanosoma brucei      #bc80bd      diamond        5691.EAN79407   \n",
       "1    5691   Trypanosoma brucei      #bc80bd      diamond        5691.EAN79407   \n",
       "2    5691   Trypanosoma brucei      #bc80bd      diamond        5691.EAN79407   \n",
       "3    5671  Leishmania infantum      #e31a1c      diamond  5671.XP_001467017.1   \n",
       "4    5671  Leishmania infantum      #e31a1c      diamond  5671.XP_001467017.1   \n",
       "\n",
       "      source_name  taxid2  taxid2_label target_color target_shape  \\\n",
       "0        EAN79407    9606  Homo sapiens      #525252          dot   \n",
       "1        EAN79407    9606  Homo sapiens      #525252          dot   \n",
       "2        EAN79407    9606  Homo sapiens      #525252          dot   \n",
       "3  XP_001467017.1    9606  Homo sapiens      #525252          dot   \n",
       "4  XP_001467017.1    9606  Homo sapiens      #525252          dot   \n",
       "\n",
       "                 target target_name  experimental_evidence_score  \\\n",
       "0  9606.ENSP00000339740      CAMK2D                        0.000   \n",
       "1  9606.ENSP00000362057        NOX1                        0.000   \n",
       "2  9606.ENSP00000475084       DUOX2                        0.000   \n",
       "3  9606.ENSP00000339740      CAMK2D                        0.994   \n",
       "4  9606.ENSP00000300935       RAB8A                        0.994   \n",
       "\n",
       "   databases_evidence_score  weight   group1   group2      edge_type  \n",
       "0                      0.77   0.385  KOG0039  KOG0033  inter-species  \n",
       "1                      0.77   0.385  KOG0039  KOG0033  inter-species  \n",
       "2                      0.77   0.385  KOG0039  KOG0033  inter-species  \n",
       "3                      0.00   0.497  KOG0078  KOG0033  inter-species  \n",
       "4                      0.00   0.497  KOG0078  KOG0033  inter-species  "
      ]
     },
     "execution_count": 3,
     "metadata": {},
     "output_type": "execute_result"
    }
   ],
   "source": [
    "predictions = pd.read_csv(predictions_path, sep='\\t')\n",
    "predictions.head()"
   ]
  },
  {
   "cell_type": "code",
   "execution_count": 4,
   "id": "27a3f604",
   "metadata": {},
   "outputs": [
    {
     "data": {
      "text/html": [
       "<div>\n",
       "<style scoped>\n",
       "    .dataframe tbody tr th:only-of-type {\n",
       "        vertical-align: middle;\n",
       "    }\n",
       "\n",
       "    .dataframe tbody tr th {\n",
       "        vertical-align: top;\n",
       "    }\n",
       "\n",
       "    .dataframe thead th {\n",
       "        text-align: right;\n",
       "    }\n",
       "</style>\n",
       "<table border=\"1\" class=\"dataframe\">\n",
       "  <thead>\n",
       "    <tr style=\"text-align: right;\">\n",
       "      <th></th>\n",
       "      <th>#string_protein_id</th>\n",
       "      <th>description</th>\n",
       "      <th>taxid</th>\n",
       "    </tr>\n",
       "  </thead>\n",
       "  <tbody>\n",
       "    <tr>\n",
       "      <th>0</th>\n",
       "      <td>9606.ENSP00000000233</td>\n",
       "      <td>Transport</td>\n",
       "      <td>9606</td>\n",
       "    </tr>\n",
       "    <tr>\n",
       "      <th>1</th>\n",
       "      <td>9606.ENSP00000000233</td>\n",
       "      <td>Intracellular protein transport</td>\n",
       "      <td>9606</td>\n",
       "    </tr>\n",
       "    <tr>\n",
       "      <th>2</th>\n",
       "      <td>9606.ENSP00000000233</td>\n",
       "      <td>Retrograde vesicle-mediated transport, golgi t...</td>\n",
       "      <td>9606</td>\n",
       "    </tr>\n",
       "    <tr>\n",
       "      <th>3</th>\n",
       "      <td>9606.ENSP00000000233</td>\n",
       "      <td>Protein localization</td>\n",
       "      <td>9606</td>\n",
       "    </tr>\n",
       "    <tr>\n",
       "      <th>4</th>\n",
       "      <td>9606.ENSP00000000233</td>\n",
       "      <td>Cellular process</td>\n",
       "      <td>9606</td>\n",
       "    </tr>\n",
       "  </tbody>\n",
       "</table>\n",
       "</div>"
      ],
      "text/plain": [
       "     #string_protein_id                                        description  \\\n",
       "0  9606.ENSP00000000233                                          Transport   \n",
       "1  9606.ENSP00000000233                    Intracellular protein transport   \n",
       "2  9606.ENSP00000000233  Retrograde vesicle-mediated transport, golgi t...   \n",
       "3  9606.ENSP00000000233                               Protein localization   \n",
       "4  9606.ENSP00000000233                                   Cellular process   \n",
       "\n",
       "   taxid  \n",
       "0   9606  \n",
       "1   9606  \n",
       "2   9606  \n",
       "3   9606  \n",
       "4   9606  "
      ]
     },
     "execution_count": 4,
     "metadata": {},
     "output_type": "execute_result"
    }
   ],
   "source": [
    "gos = pd.read_csv(gos_path, sep='\\t')\n",
    "gos.head()"
   ]
  },
  {
   "cell_type": "code",
   "execution_count": 5,
   "id": "784124d4",
   "metadata": {},
   "outputs": [
    {
     "data": {
      "text/html": [
       "<div>\n",
       "<style scoped>\n",
       "    .dataframe tbody tr th:only-of-type {\n",
       "        vertical-align: middle;\n",
       "    }\n",
       "\n",
       "    .dataframe tbody tr th {\n",
       "        vertical-align: top;\n",
       "    }\n",
       "\n",
       "    .dataframe thead th {\n",
       "        text-align: right;\n",
       "    }\n",
       "</style>\n",
       "<table border=\"1\" class=\"dataframe\">\n",
       "  <thead>\n",
       "    <tr style=\"text-align: right;\">\n",
       "      <th></th>\n",
       "      <th>taxid1</th>\n",
       "      <th>taxid1_label</th>\n",
       "      <th>source_color</th>\n",
       "      <th>source_shape</th>\n",
       "      <th>source</th>\n",
       "      <th>source_name</th>\n",
       "      <th>taxid2</th>\n",
       "      <th>taxid2_label</th>\n",
       "      <th>target_color</th>\n",
       "      <th>target_shape</th>\n",
       "      <th>target</th>\n",
       "      <th>target_name</th>\n",
       "      <th>experimental_evidence_score</th>\n",
       "      <th>databases_evidence_score</th>\n",
       "      <th>weight</th>\n",
       "      <th>group1</th>\n",
       "      <th>group2</th>\n",
       "      <th>edge_type</th>\n",
       "    </tr>\n",
       "  </thead>\n",
       "  <tbody>\n",
       "    <tr>\n",
       "      <th>74</th>\n",
       "      <td>5691</td>\n",
       "      <td>Trypanosoma brucei</td>\n",
       "      <td>#bc80bd</td>\n",
       "      <td>diamond</td>\n",
       "      <td>5691.EAN79407</td>\n",
       "      <td>EAN79407</td>\n",
       "      <td>9606</td>\n",
       "      <td>Homo sapiens</td>\n",
       "      <td>#525252</td>\n",
       "      <td>dot</td>\n",
       "      <td>9606.ENSP00000263025</td>\n",
       "      <td>MAPK3</td>\n",
       "      <td>0.354</td>\n",
       "      <td>0.866</td>\n",
       "      <td>0.6100</td>\n",
       "      <td>KOG0039</td>\n",
       "      <td>KOG0660</td>\n",
       "      <td>inter-species</td>\n",
       "    </tr>\n",
       "    <tr>\n",
       "      <th>75</th>\n",
       "      <td>5691</td>\n",
       "      <td>Trypanosoma brucei</td>\n",
       "      <td>#bc80bd</td>\n",
       "      <td>diamond</td>\n",
       "      <td>5691.EAN79407</td>\n",
       "      <td>EAN79407</td>\n",
       "      <td>9606</td>\n",
       "      <td>Homo sapiens</td>\n",
       "      <td>#525252</td>\n",
       "      <td>dot</td>\n",
       "      <td>9606.ENSP00000215832</td>\n",
       "      <td>MAPK1</td>\n",
       "      <td>0.354</td>\n",
       "      <td>0.866</td>\n",
       "      <td>0.6100</td>\n",
       "      <td>KOG0039</td>\n",
       "      <td>KOG0660</td>\n",
       "      <td>inter-species</td>\n",
       "    </tr>\n",
       "    <tr>\n",
       "      <th>109</th>\n",
       "      <td>5691</td>\n",
       "      <td>Trypanosoma brucei</td>\n",
       "      <td>#bc80bd</td>\n",
       "      <td>diamond</td>\n",
       "      <td>5691.EAN79407</td>\n",
       "      <td>EAN79407</td>\n",
       "      <td>9606</td>\n",
       "      <td>Homo sapiens</td>\n",
       "      <td>#525252</td>\n",
       "      <td>dot</td>\n",
       "      <td>9606.ENSP00000315768</td>\n",
       "      <td>STAT2</td>\n",
       "      <td>0.259</td>\n",
       "      <td>0.866</td>\n",
       "      <td>0.5625</td>\n",
       "      <td>KOG0039</td>\n",
       "      <td>KOG3667</td>\n",
       "      <td>inter-species</td>\n",
       "    </tr>\n",
       "    <tr>\n",
       "      <th>110</th>\n",
       "      <td>5691</td>\n",
       "      <td>Trypanosoma brucei</td>\n",
       "      <td>#bc80bd</td>\n",
       "      <td>diamond</td>\n",
       "      <td>5691.EAN79407</td>\n",
       "      <td>EAN79407</td>\n",
       "      <td>9606</td>\n",
       "      <td>Homo sapiens</td>\n",
       "      <td>#525252</td>\n",
       "      <td>dot</td>\n",
       "      <td>9606.ENSP00000264657</td>\n",
       "      <td>STAT3</td>\n",
       "      <td>0.259</td>\n",
       "      <td>0.866</td>\n",
       "      <td>0.5625</td>\n",
       "      <td>KOG0039</td>\n",
       "      <td>KOG3667</td>\n",
       "      <td>inter-species</td>\n",
       "    </tr>\n",
       "    <tr>\n",
       "      <th>121</th>\n",
       "      <td>5691</td>\n",
       "      <td>Trypanosoma brucei</td>\n",
       "      <td>#bc80bd</td>\n",
       "      <td>diamond</td>\n",
       "      <td>5691.EAN79407</td>\n",
       "      <td>EAN79407</td>\n",
       "      <td>9606</td>\n",
       "      <td>Homo sapiens</td>\n",
       "      <td>#525252</td>\n",
       "      <td>dot</td>\n",
       "      <td>9606.ENSP00000360293</td>\n",
       "      <td>SORBS1</td>\n",
       "      <td>0.467</td>\n",
       "      <td>0.866</td>\n",
       "      <td>0.6665</td>\n",
       "      <td>KOG0039</td>\n",
       "      <td>KOG4225</td>\n",
       "      <td>inter-species</td>\n",
       "    </tr>\n",
       "  </tbody>\n",
       "</table>\n",
       "</div>"
      ],
      "text/plain": [
       "     taxid1        taxid1_label source_color source_shape         source  \\\n",
       "74     5691  Trypanosoma brucei      #bc80bd      diamond  5691.EAN79407   \n",
       "75     5691  Trypanosoma brucei      #bc80bd      diamond  5691.EAN79407   \n",
       "109    5691  Trypanosoma brucei      #bc80bd      diamond  5691.EAN79407   \n",
       "110    5691  Trypanosoma brucei      #bc80bd      diamond  5691.EAN79407   \n",
       "121    5691  Trypanosoma brucei      #bc80bd      diamond  5691.EAN79407   \n",
       "\n",
       "    source_name  taxid2  taxid2_label target_color target_shape  \\\n",
       "74     EAN79407    9606  Homo sapiens      #525252          dot   \n",
       "75     EAN79407    9606  Homo sapiens      #525252          dot   \n",
       "109    EAN79407    9606  Homo sapiens      #525252          dot   \n",
       "110    EAN79407    9606  Homo sapiens      #525252          dot   \n",
       "121    EAN79407    9606  Homo sapiens      #525252          dot   \n",
       "\n",
       "                   target target_name  experimental_evidence_score  \\\n",
       "74   9606.ENSP00000263025       MAPK3                        0.354   \n",
       "75   9606.ENSP00000215832       MAPK1                        0.354   \n",
       "109  9606.ENSP00000315768       STAT2                        0.259   \n",
       "110  9606.ENSP00000264657       STAT3                        0.259   \n",
       "121  9606.ENSP00000360293      SORBS1                        0.467   \n",
       "\n",
       "     databases_evidence_score  weight   group1   group2      edge_type  \n",
       "74                      0.866  0.6100  KOG0039  KOG0660  inter-species  \n",
       "75                      0.866  0.6100  KOG0039  KOG0660  inter-species  \n",
       "109                     0.866  0.5625  KOG0039  KOG3667  inter-species  \n",
       "110                     0.866  0.5625  KOG0039  KOG3667  inter-species  \n",
       "121                     0.866  0.6665  KOG0039  KOG4225  inter-species  "
      ]
     },
     "execution_count": 5,
     "metadata": {},
     "output_type": "execute_result"
    }
   ],
   "source": [
    "net = predictions[(predictions['taxid1'].isin([5691, 9606])) & (predictions['weight'] >=0.4)]\n",
    "net.head()"
   ]
  },
  {
   "cell_type": "code",
   "execution_count": 6,
   "id": "856ed886",
   "metadata": {},
   "outputs": [
    {
     "data": {
      "text/html": [
       "<div>\n",
       "<style scoped>\n",
       "    .dataframe tbody tr th:only-of-type {\n",
       "        vertical-align: middle;\n",
       "    }\n",
       "\n",
       "    .dataframe tbody tr th {\n",
       "        vertical-align: top;\n",
       "    }\n",
       "\n",
       "    .dataframe thead th {\n",
       "        text-align: right;\n",
       "    }\n",
       "</style>\n",
       "<table border=\"1\" class=\"dataframe\">\n",
       "  <thead>\n",
       "    <tr style=\"text-align: right;\">\n",
       "      <th></th>\n",
       "      <th>#string_protein_id</th>\n",
       "      <th>description</th>\n",
       "      <th>taxid</th>\n",
       "    </tr>\n",
       "  </thead>\n",
       "  <tbody>\n",
       "    <tr>\n",
       "      <th>2</th>\n",
       "      <td>9606.ENSP00000000233</td>\n",
       "      <td>Retrograde vesicle-mediated transport, golgi t...</td>\n",
       "      <td>9606</td>\n",
       "    </tr>\n",
       "    <tr>\n",
       "      <th>13</th>\n",
       "      <td>9606.ENSP00000000233</td>\n",
       "      <td>Golgi vesicle transport</td>\n",
       "      <td>9606</td>\n",
       "    </tr>\n",
       "    <tr>\n",
       "      <th>21</th>\n",
       "      <td>9606.ENSP00000000412</td>\n",
       "      <td>Peptide secretion</td>\n",
       "      <td>9606</td>\n",
       "    </tr>\n",
       "    <tr>\n",
       "      <th>22</th>\n",
       "      <td>9606.ENSP00000000412</td>\n",
       "      <td>Protein targeting</td>\n",
       "      <td>9606</td>\n",
       "    </tr>\n",
       "    <tr>\n",
       "      <th>23</th>\n",
       "      <td>9606.ENSP00000000412</td>\n",
       "      <td>Protein targeting to lysosome</td>\n",
       "      <td>9606</td>\n",
       "    </tr>\n",
       "  </tbody>\n",
       "</table>\n",
       "</div>"
      ],
      "text/plain": [
       "      #string_protein_id                                        description  \\\n",
       "2   9606.ENSP00000000233  Retrograde vesicle-mediated transport, golgi t...   \n",
       "13  9606.ENSP00000000233                            Golgi vesicle transport   \n",
       "21  9606.ENSP00000000412                                  Peptide secretion   \n",
       "22  9606.ENSP00000000412                                  Protein targeting   \n",
       "23  9606.ENSP00000000412                      Protein targeting to lysosome   \n",
       "\n",
       "    taxid  \n",
       "2    9606  \n",
       "13   9606  \n",
       "21   9606  \n",
       "22   9606  \n",
       "23   9606  "
      ]
     },
     "execution_count": 6,
     "metadata": {},
     "output_type": "execute_result"
    }
   ],
   "source": [
    "net_gos = gos[gos['taxid'].isin([5691, 9606])].groupby('description').filter(lambda x: len(x)< 500)\n",
    "net_gos.head()"
   ]
  },
  {
   "cell_type": "code",
   "execution_count": 7,
   "id": "0ab5c30e",
   "metadata": {},
   "outputs": [],
   "source": [
    "nodes = net['source'].unique().tolist() + net['target'].unique().tolist()"
   ]
  },
  {
   "cell_type": "code",
   "execution_count": 8,
   "id": "652a2eda",
   "metadata": {},
   "outputs": [],
   "source": [
    "total_nodes = len(nodes)"
   ]
  },
  {
   "cell_type": "code",
   "execution_count": 9,
   "id": "beef571d",
   "metadata": {},
   "outputs": [
    {
     "data": {
      "text/plain": [
       "274"
      ]
     },
     "execution_count": 9,
     "metadata": {},
     "output_type": "execute_result"
    }
   ],
   "source": [
    "#C'\n",
    "total_nodes"
   ]
  },
  {
   "cell_type": "code",
   "execution_count": 10,
   "id": "deb4f441",
   "metadata": {},
   "outputs": [],
   "source": [
    "selected_gos = net_gos[net_gos['#string_protein_id'].isin(nodes)].groupby('description').filter(lambda x: len(x)> 10)['description'].unique().tolist()"
   ]
  },
  {
   "cell_type": "code",
   "execution_count": 11,
   "id": "629d047a",
   "metadata": {},
   "outputs": [
    {
     "data": {
      "text/plain": [
       "280"
      ]
     },
     "execution_count": 11,
     "metadata": {},
     "output_type": "execute_result"
    }
   ],
   "source": [
    "len(selected_gos)"
   ]
  },
  {
   "cell_type": "code",
   "execution_count": 12,
   "id": "2a8afd89",
   "metadata": {},
   "outputs": [],
   "source": [
    "total_prots = len(net_gos['#string_protein_id'].unique().tolist())"
   ]
  },
  {
   "cell_type": "code",
   "execution_count": 13,
   "id": "31603e0f",
   "metadata": {},
   "outputs": [
    {
     "data": {
      "text/plain": [
       "17858"
      ]
     },
     "execution_count": 13,
     "metadata": {},
     "output_type": "execute_result"
    }
   ],
   "source": [
    "#G\n",
    "total_prots"
   ]
  },
  {
   "cell_type": "code",
   "execution_count": 15,
   "id": "5439e2dd",
   "metadata": {},
   "outputs": [],
   "source": [
    "enrichment = []\n",
    "for term in selected_gos:   \n",
    "    members = net_gos[(net_gos['description'] == term)]['#string_protein_id']\n",
    "    #E\n",
    "    total_members = len(members)\n",
    "    net_members = net_gos[(net_gos['description'] == term) & (net_gos['#string_protein_id'].isin(nodes))]['#string_protein_id']\n",
    "    #A\n",
    "    total_net_members = len(net_members)\n",
    "    \n",
    "    odd_ratio, p_value = stats.fisher_exact([[total_net_members, total_nodes - total_net_members],\n",
    "                                             [total_members - total_net_members, total_prots - total_members - total_nodes - total_net_members]])\n",
    "    enrichment.append([term, total_net_members, total_nodes - total_net_members, total_members - total_net_members,  total_prots - total_members - total_nodes - total_net_members, p_value, odd_ratio, ','.join(net_members)])"
   ]
  },
  {
   "cell_type": "code",
   "execution_count": 16,
   "id": "6339b35b",
   "metadata": {},
   "outputs": [
    {
     "data": {
      "text/html": [
       "<div>\n",
       "<style scoped>\n",
       "    .dataframe tbody tr th:only-of-type {\n",
       "        vertical-align: middle;\n",
       "    }\n",
       "\n",
       "    .dataframe tbody tr th {\n",
       "        vertical-align: top;\n",
       "    }\n",
       "\n",
       "    .dataframe thead th {\n",
       "        text-align: right;\n",
       "    }\n",
       "</style>\n",
       "<table border=\"1\" class=\"dataframe\">\n",
       "  <thead>\n",
       "    <tr style=\"text-align: right;\">\n",
       "      <th></th>\n",
       "      <th>go_term</th>\n",
       "      <th>A</th>\n",
       "      <th>B</th>\n",
       "      <th>C</th>\n",
       "      <th>D</th>\n",
       "      <th>p_value</th>\n",
       "      <th>odds</th>\n",
       "      <th>nodes</th>\n",
       "      <th>fdr_bh</th>\n",
       "    </tr>\n",
       "  </thead>\n",
       "  <tbody>\n",
       "    <tr>\n",
       "      <th>0</th>\n",
       "      <td>Eye development</td>\n",
       "      <td>15</td>\n",
       "      <td>259</td>\n",
       "      <td>350</td>\n",
       "      <td>17204</td>\n",
       "      <td>0.000553</td>\n",
       "      <td>2.846773</td>\n",
       "      <td>9606.ENSP00000005226,9606.ENSP00000232461,9606...</td>\n",
       "      <td>0.000711</td>\n",
       "    </tr>\n",
       "    <tr>\n",
       "      <th>1</th>\n",
       "      <td>Regulation of cellular component size</td>\n",
       "      <td>19</td>\n",
       "      <td>255</td>\n",
       "      <td>376</td>\n",
       "      <td>17170</td>\n",
       "      <td>0.000012</td>\n",
       "      <td>3.402482</td>\n",
       "      <td>9606.ENSP00000005226,9606.ENSP00000229264,9606...</td>\n",
       "      <td>0.000024</td>\n",
       "    </tr>\n",
       "    <tr>\n",
       "      <th>2</th>\n",
       "      <td>Camera-type eye development</td>\n",
       "      <td>12</td>\n",
       "      <td>262</td>\n",
       "      <td>306</td>\n",
       "      <td>17254</td>\n",
       "      <td>0.003881</td>\n",
       "      <td>2.582548</td>\n",
       "      <td>9606.ENSP00000005226,9606.ENSP00000232461,9606...</td>\n",
       "      <td>0.004436</td>\n",
       "    </tr>\n",
       "    <tr>\n",
       "      <th>3</th>\n",
       "      <td>Embryonic organ development</td>\n",
       "      <td>13</td>\n",
       "      <td>261</td>\n",
       "      <td>437</td>\n",
       "      <td>17121</td>\n",
       "      <td>0.029363</td>\n",
       "      <td>1.951419</td>\n",
       "      <td>9606.ENSP00000005226,9606.ENSP00000215832,9606...</td>\n",
       "      <td>0.030678</td>\n",
       "    </tr>\n",
       "    <tr>\n",
       "      <th>4</th>\n",
       "      <td>Sensory system development</td>\n",
       "      <td>15</td>\n",
       "      <td>259</td>\n",
       "      <td>356</td>\n",
       "      <td>17198</td>\n",
       "      <td>0.000654</td>\n",
       "      <td>2.797818</td>\n",
       "      <td>9606.ENSP00000005226,9606.ENSP00000232461,9606...</td>\n",
       "      <td>0.000825</td>\n",
       "    </tr>\n",
       "  </tbody>\n",
       "</table>\n",
       "</div>"
      ],
      "text/plain": [
       "                                 go_term   A    B    C      D   p_value  \\\n",
       "0                        Eye development  15  259  350  17204  0.000553   \n",
       "1  Regulation of cellular component size  19  255  376  17170  0.000012   \n",
       "2            Camera-type eye development  12  262  306  17254  0.003881   \n",
       "3            Embryonic organ development  13  261  437  17121  0.029363   \n",
       "4             Sensory system development  15  259  356  17198  0.000654   \n",
       "\n",
       "       odds                                              nodes    fdr_bh  \n",
       "0  2.846773  9606.ENSP00000005226,9606.ENSP00000232461,9606...  0.000711  \n",
       "1  3.402482  9606.ENSP00000005226,9606.ENSP00000229264,9606...  0.000024  \n",
       "2  2.582548  9606.ENSP00000005226,9606.ENSP00000232461,9606...  0.004436  \n",
       "3  1.951419  9606.ENSP00000005226,9606.ENSP00000215832,9606...  0.030678  \n",
       "4  2.797818  9606.ENSP00000005226,9606.ENSP00000232461,9606...  0.000825  "
      ]
     },
     "execution_count": 16,
     "metadata": {},
     "output_type": "execute_result"
    }
   ],
   "source": [
    "enrichment = pd.DataFrame(enrichment, columns=['go_term', 'A', 'B', 'C', 'D', 'p_value', 'odds', 'nodes'])\n",
    "enrichment['fdr_bh'] = multipletests(enrichment['p_value'].tolist(), alpha=0.01, method='fdr_bh')[1]\n",
    "enrichment.head()"
   ]
  },
  {
   "cell_type": "code",
   "execution_count": 17,
   "id": "e990ea19",
   "metadata": {},
   "outputs": [
    {
     "data": {
      "text/plain": [
       "(280, 9)"
      ]
     },
     "execution_count": 17,
     "metadata": {},
     "output_type": "execute_result"
    }
   ],
   "source": [
    "enrichment.shape"
   ]
  },
  {
   "cell_type": "code",
   "execution_count": null,
   "id": "0c7351f0",
   "metadata": {},
   "outputs": [],
   "source": []
  },
  {
   "cell_type": "code",
   "execution_count": 18,
   "id": "8aa8fd97",
   "metadata": {},
   "outputs": [
    {
     "data": {
      "text/html": [
       "<div>\n",
       "<style scoped>\n",
       "    .dataframe tbody tr th:only-of-type {\n",
       "        vertical-align: middle;\n",
       "    }\n",
       "\n",
       "    .dataframe tbody tr th {\n",
       "        vertical-align: top;\n",
       "    }\n",
       "\n",
       "    .dataframe thead th {\n",
       "        text-align: right;\n",
       "    }\n",
       "</style>\n",
       "<table border=\"1\" class=\"dataframe\">\n",
       "  <thead>\n",
       "    <tr style=\"text-align: right;\">\n",
       "      <th></th>\n",
       "      <th>go_term</th>\n",
       "      <th>A</th>\n",
       "      <th>B</th>\n",
       "      <th>C</th>\n",
       "      <th>D</th>\n",
       "      <th>p_value</th>\n",
       "      <th>odds</th>\n",
       "      <th>nodes</th>\n",
       "      <th>fdr_bh</th>\n",
       "    </tr>\n",
       "  </thead>\n",
       "  <tbody>\n",
       "    <tr>\n",
       "      <th>0</th>\n",
       "      <td>Eye development</td>\n",
       "      <td>15</td>\n",
       "      <td>259</td>\n",
       "      <td>350</td>\n",
       "      <td>17204</td>\n",
       "      <td>0.000553</td>\n",
       "      <td>2.846773</td>\n",
       "      <td>9606.ENSP00000005226,9606.ENSP00000232461,9606...</td>\n",
       "      <td>0.000711</td>\n",
       "    </tr>\n",
       "    <tr>\n",
       "      <th>1</th>\n",
       "      <td>Regulation of cellular component size</td>\n",
       "      <td>19</td>\n",
       "      <td>255</td>\n",
       "      <td>376</td>\n",
       "      <td>17170</td>\n",
       "      <td>0.000012</td>\n",
       "      <td>3.402482</td>\n",
       "      <td>9606.ENSP00000005226,9606.ENSP00000229264,9606...</td>\n",
       "      <td>0.000024</td>\n",
       "    </tr>\n",
       "    <tr>\n",
       "      <th>2</th>\n",
       "      <td>Camera-type eye development</td>\n",
       "      <td>12</td>\n",
       "      <td>262</td>\n",
       "      <td>306</td>\n",
       "      <td>17254</td>\n",
       "      <td>0.003881</td>\n",
       "      <td>2.582548</td>\n",
       "      <td>9606.ENSP00000005226,9606.ENSP00000232461,9606...</td>\n",
       "      <td>0.004436</td>\n",
       "    </tr>\n",
       "    <tr>\n",
       "      <th>4</th>\n",
       "      <td>Sensory system development</td>\n",
       "      <td>15</td>\n",
       "      <td>259</td>\n",
       "      <td>356</td>\n",
       "      <td>17198</td>\n",
       "      <td>0.000654</td>\n",
       "      <td>2.797818</td>\n",
       "      <td>9606.ENSP00000005226,9606.ENSP00000232461,9606...</td>\n",
       "      <td>0.000825</td>\n",
       "    </tr>\n",
       "    <tr>\n",
       "      <th>5</th>\n",
       "      <td>Sensory organ morphogenesis</td>\n",
       "      <td>11</td>\n",
       "      <td>263</td>\n",
       "      <td>253</td>\n",
       "      <td>17309</td>\n",
       "      <td>0.002658</td>\n",
       "      <td>2.861465</td>\n",
       "      <td>9606.ENSP00000005226,9606.ENSP00000215832,9606...</td>\n",
       "      <td>0.003075</td>\n",
       "    </tr>\n",
       "    <tr>\n",
       "      <th>...</th>\n",
       "      <td>...</td>\n",
       "      <td>...</td>\n",
       "      <td>...</td>\n",
       "      <td>...</td>\n",
       "      <td>...</td>\n",
       "      <td>...</td>\n",
       "      <td>...</td>\n",
       "      <td>...</td>\n",
       "      <td>...</td>\n",
       "    </tr>\n",
       "    <tr>\n",
       "      <th>272</th>\n",
       "      <td>Regulation of reactive oxygen species metaboli...</td>\n",
       "      <td>12</td>\n",
       "      <td>262</td>\n",
       "      <td>176</td>\n",
       "      <td>17384</td>\n",
       "      <td>0.000035</td>\n",
       "      <td>4.523942</td>\n",
       "      <td>9606.ENSP00000264657,9606.ENSP00000275493,9606...</td>\n",
       "      <td>0.000061</td>\n",
       "    </tr>\n",
       "    <tr>\n",
       "      <th>273</th>\n",
       "      <td>Response to insulin</td>\n",
       "      <td>11</td>\n",
       "      <td>263</td>\n",
       "      <td>221</td>\n",
       "      <td>17341</td>\n",
       "      <td>0.000956</td>\n",
       "      <td>3.281851</td>\n",
       "      <td>9606.ENSP00000264710,9606.ENSP00000278568,9606...</td>\n",
       "      <td>0.001174</td>\n",
       "    </tr>\n",
       "    <tr>\n",
       "      <th>274</th>\n",
       "      <td>Cellular response to insulin stimulus</td>\n",
       "      <td>11</td>\n",
       "      <td>263</td>\n",
       "      <td>159</td>\n",
       "      <td>17403</td>\n",
       "      <td>0.000066</td>\n",
       "      <td>4.577875</td>\n",
       "      <td>9606.ENSP00000264710,9606.ENSP00000278568,9606...</td>\n",
       "      <td>0.000107</td>\n",
       "    </tr>\n",
       "    <tr>\n",
       "      <th>278</th>\n",
       "      <td>Regulation of dendrite development</td>\n",
       "      <td>11</td>\n",
       "      <td>263</td>\n",
       "      <td>145</td>\n",
       "      <td>17417</td>\n",
       "      <td>0.000030</td>\n",
       "      <td>5.023915</td>\n",
       "      <td>9606.ENSP00000286827,9606.ENSP00000292385,9606...</td>\n",
       "      <td>0.000053</td>\n",
       "    </tr>\n",
       "    <tr>\n",
       "      <th>279</th>\n",
       "      <td>Multicellular organismal signaling</td>\n",
       "      <td>11</td>\n",
       "      <td>263</td>\n",
       "      <td>127</td>\n",
       "      <td>17435</td>\n",
       "      <td>0.000009</td>\n",
       "      <td>5.741894</td>\n",
       "      <td>9606.ENSP00000301050,9606.ENSP00000320025,9606...</td>\n",
       "      <td>0.000018</td>\n",
       "    </tr>\n",
       "  </tbody>\n",
       "</table>\n",
       "<p>253 rows × 9 columns</p>\n",
       "</div>"
      ],
      "text/plain": [
       "                                               go_term   A    B    C      D  \\\n",
       "0                                      Eye development  15  259  350  17204   \n",
       "1                Regulation of cellular component size  19  255  376  17170   \n",
       "2                          Camera-type eye development  12  262  306  17254   \n",
       "4                           Sensory system development  15  259  356  17198   \n",
       "5                          Sensory organ morphogenesis  11  263  253  17309   \n",
       "..                                                 ...  ..  ...  ...    ...   \n",
       "272  Regulation of reactive oxygen species metaboli...  12  262  176  17384   \n",
       "273                                Response to insulin  11  263  221  17341   \n",
       "274              Cellular response to insulin stimulus  11  263  159  17403   \n",
       "278                 Regulation of dendrite development  11  263  145  17417   \n",
       "279                 Multicellular organismal signaling  11  263  127  17435   \n",
       "\n",
       "      p_value      odds                                              nodes  \\\n",
       "0    0.000553  2.846773  9606.ENSP00000005226,9606.ENSP00000232461,9606...   \n",
       "1    0.000012  3.402482  9606.ENSP00000005226,9606.ENSP00000229264,9606...   \n",
       "2    0.003881  2.582548  9606.ENSP00000005226,9606.ENSP00000232461,9606...   \n",
       "4    0.000654  2.797818  9606.ENSP00000005226,9606.ENSP00000232461,9606...   \n",
       "5    0.002658  2.861465  9606.ENSP00000005226,9606.ENSP00000215832,9606...   \n",
       "..        ...       ...                                                ...   \n",
       "272  0.000035  4.523942  9606.ENSP00000264657,9606.ENSP00000275493,9606...   \n",
       "273  0.000956  3.281851  9606.ENSP00000264710,9606.ENSP00000278568,9606...   \n",
       "274  0.000066  4.577875  9606.ENSP00000264710,9606.ENSP00000278568,9606...   \n",
       "278  0.000030  5.023915  9606.ENSP00000286827,9606.ENSP00000292385,9606...   \n",
       "279  0.000009  5.741894  9606.ENSP00000301050,9606.ENSP00000320025,9606...   \n",
       "\n",
       "       fdr_bh  \n",
       "0    0.000711  \n",
       "1    0.000024  \n",
       "2    0.004436  \n",
       "4    0.000825  \n",
       "5    0.003075  \n",
       "..        ...  \n",
       "272  0.000061  \n",
       "273  0.001174  \n",
       "274  0.000107  \n",
       "278  0.000053  \n",
       "279  0.000018  \n",
       "\n",
       "[253 rows x 9 columns]"
      ]
     },
     "execution_count": 18,
     "metadata": {},
     "output_type": "execute_result"
    }
   ],
   "source": [
    "enrichment[enrichment['fdr_bh']<0.01]"
   ]
  },
  {
   "cell_type": "code",
   "execution_count": 23,
   "id": "7f59fcb1",
   "metadata": {},
   "outputs": [
    {
     "data": {
      "application/vnd.plotly.v1+json": {
       "config": {
        "plotlyServerURL": "https://plot.ly"
       },
       "data": [
        {
         "hovertemplate": "go_term=Eye development<br>fdr_bh=%{x}<br>odds=%{marker.size}<extra></extra>",
         "legendgroup": "Eye development",
         "marker": {
          "color": "#636efa",
          "size": [
           2.846773303916161
          ],
          "sizemode": "area",
          "sizeref": 0.04711196203214325,
          "symbol": "circle"
         },
         "mode": "markers",
         "name": "Eye development",
         "orientation": "v",
         "showlegend": true,
         "type": "scatter",
         "x": [
          0.0007107053834466814
         ],
         "xaxis": "x",
         "y": [
          2.846773303916161
         ],
         "yaxis": "y"
        },
        {
         "hovertemplate": "go_term=Regulation of cellular component size<br>fdr_bh=%{x}<br>odds=%{marker.size}<extra></extra>",
         "legendgroup": "Regulation of cellular component size",
         "marker": {
          "color": "#EF553B",
          "size": [
           3.402482269503546
          ],
          "sizemode": "area",
          "sizeref": 0.04711196203214325,
          "symbol": "circle"
         },
         "mode": "markers",
         "name": "Regulation of cellular component size",
         "orientation": "v",
         "showlegend": true,
         "type": "scatter",
         "x": [
          2.3951491652503447e-05
         ],
         "xaxis": "x",
         "y": [
          3.402482269503546
         ],
         "yaxis": "y"
        },
        {
         "hovertemplate": "go_term=Camera-type eye development<br>fdr_bh=%{x}<br>odds=%{marker.size}<extra></extra>",
         "legendgroup": "Camera-type eye development",
         "marker": {
          "color": "#00cc96",
          "size": [
           2.5825475228259243
          ],
          "sizemode": "area",
          "sizeref": 0.04711196203214325,
          "symbol": "circle"
         },
         "mode": "markers",
         "name": "Camera-type eye development",
         "orientation": "v",
         "showlegend": true,
         "type": "scatter",
         "x": [
          0.004435902174945687
         ],
         "xaxis": "x",
         "y": [
          2.5825475228259243
         ],
         "yaxis": "y"
        },
        {
         "hovertemplate": "go_term=Sensory system development<br>fdr_bh=%{x}<br>odds=%{marker.size}<extra></extra>",
         "legendgroup": "Sensory system development",
         "marker": {
          "color": "#ab63fa",
          "size": [
           2.797817882087545
          ],
          "sizemode": "area",
          "sizeref": 0.04711196203214325,
          "symbol": "circle"
         },
         "mode": "markers",
         "name": "Sensory system development",
         "orientation": "v",
         "showlegend": true,
         "type": "scatter",
         "x": [
          0.000825272591258616
         ],
         "xaxis": "x",
         "y": [
          2.797817882087545
         ],
         "yaxis": "y"
        },
        {
         "hovertemplate": "go_term=Sensory organ morphogenesis<br>fdr_bh=%{x}<br>odds=%{marker.size}<extra></extra>",
         "legendgroup": "Sensory organ morphogenesis",
         "marker": {
          "color": "#FFA15A",
          "size": [
           2.8614647049099027
          ],
          "sizemode": "area",
          "sizeref": 0.04711196203214325,
          "symbol": "circle"
         },
         "mode": "markers",
         "name": "Sensory organ morphogenesis",
         "orientation": "v",
         "showlegend": true,
         "type": "scatter",
         "x": [
          0.003075344304131533
         ],
         "xaxis": "x",
         "y": [
          2.8614647049099027
         ],
         "yaxis": "y"
        },
        {
         "hovertemplate": "go_term=Visual system development<br>fdr_bh=%{x}<br>odds=%{marker.size}<extra></extra>",
         "legendgroup": "Visual system development",
         "marker": {
          "color": "#19d3f3",
          "size": [
           2.846773303916161
          ],
          "sizemode": "area",
          "sizeref": 0.04711196203214325,
          "symbol": "circle"
         },
         "mode": "markers",
         "name": "Visual system development",
         "orientation": "v",
         "showlegend": true,
         "type": "scatter",
         "x": [
          0.0007107053834466814
         ],
         "xaxis": "x",
         "y": [
          2.846773303916161
         ],
         "yaxis": "y"
        },
        {
         "hovertemplate": "go_term=Formation of primary germ layer<br>fdr_bh=%{x}<br>odds=%{marker.size}<extra></extra>",
         "legendgroup": "Formation of primary germ layer",
         "marker": {
          "color": "#FF6692",
          "size": [
           6.953720803910918
          ],
          "sizemode": "area",
          "sizeref": 0.04711196203214325,
          "symbol": "circle"
         },
         "mode": "markers",
         "name": "Formation of primary germ layer",
         "orientation": "v",
         "showlegend": true,
         "type": "scatter",
         "x": [
          4.3979466861879685e-06
         ],
         "xaxis": "x",
         "y": [
          6.953720803910918
         ],
         "yaxis": "y"
        },
        {
         "hovertemplate": "go_term=Cell-matrix adhesion<br>fdr_bh=%{x}<br>odds=%{marker.size}<extra></extra>",
         "legendgroup": "Cell-matrix adhesion",
         "marker": {
          "color": "#B6E880",
          "size": [
           8.311844792375766
          ],
          "sizemode": "area",
          "sizeref": 0.04711196203214325,
          "symbol": "circle"
         },
         "mode": "markers",
         "name": "Cell-matrix adhesion",
         "orientation": "v",
         "showlegend": true,
         "type": "scatter",
         "x": [
          5.206769040894957e-08
         ],
         "xaxis": "x",
         "y": [
          8.311844792375766
         ],
         "yaxis": "y"
        },
        {
         "hovertemplate": "go_term=Integrin-mediated signaling pathway<br>fdr_bh=%{x}<br>odds=%{marker.size}<extra></extra>",
         "legendgroup": "Integrin-mediated signaling pathway",
         "marker": {
          "color": "#FF97FF",
          "size": [
           13.893063009342079
          ],
          "sizemode": "area",
          "sizeref": 0.04711196203214325,
          "symbol": "circle"
         },
         "mode": "markers",
         "name": "Integrin-mediated signaling pathway",
         "orientation": "v",
         "showlegend": true,
         "type": "scatter",
         "x": [
          2.7326095851159278e-11
         ],
         "xaxis": "x",
         "y": [
          13.893063009342079
         ],
         "yaxis": "y"
        },
        {
         "hovertemplate": "go_term=Gastrulation<br>fdr_bh=%{x}<br>odds=%{marker.size}<extra></extra>",
         "legendgroup": "Gastrulation",
         "marker": {
          "color": "#FECB52",
          "size": [
           5.940166902849945
          ],
          "sizemode": "area",
          "sizeref": 0.04711196203214325,
          "symbol": "circle"
         },
         "mode": "markers",
         "name": "Gastrulation",
         "orientation": "v",
         "showlegend": true,
         "type": "scatter",
         "x": [
          2.9792697991295785e-06
         ],
         "xaxis": "x",
         "y": [
          5.940166902849945
         ],
         "yaxis": "y"
        },
        {
         "hovertemplate": "go_term=Learning or memory<br>fdr_bh=%{x}<br>odds=%{marker.size}<extra></extra>",
         "legendgroup": "Learning or memory",
         "marker": {
          "color": "#636efa",
          "size": [
           6.034875610323181
          ],
          "sizemode": "area",
          "sizeref": 0.04711196203214325,
          "symbol": "circle"
         },
         "mode": "markers",
         "name": "Learning or memory",
         "orientation": "v",
         "showlegend": true,
         "type": "scatter",
         "x": [
          5.30204070895848e-09
         ],
         "xaxis": "x",
         "y": [
          6.034875610323181
         ],
         "yaxis": "y"
        },
        {
         "hovertemplate": "go_term=Memory<br>fdr_bh=%{x}<br>odds=%{marker.size}<extra></extra>",
         "legendgroup": "Memory",
         "marker": {
          "color": "#EF553B",
          "size": [
           7.265787647467037
          ],
          "sizemode": "area",
          "sizeref": 0.04711196203214325,
          "symbol": "circle"
         },
         "mode": "markers",
         "name": "Memory",
         "orientation": "v",
         "showlegend": true,
         "type": "scatter",
         "x": [
          1.2119740530041932e-06
         ],
         "xaxis": "x",
         "y": [
          7.265787647467037
         ],
         "yaxis": "y"
        },
        {
         "hovertemplate": "go_term=Regulation of cell-substrate adhesion<br>fdr_bh=%{x}<br>odds=%{marker.size}<extra></extra>",
         "legendgroup": "Regulation of cell-substrate adhesion",
         "marker": {
          "color": "#00cc96",
          "size": [
           5.4915361493434585
          ],
          "sizemode": "area",
          "sizeref": 0.04711196203214325,
          "symbol": "circle"
         },
         "mode": "markers",
         "name": "Regulation of cell-substrate adhesion",
         "orientation": "v",
         "showlegend": true,
         "type": "scatter",
         "x": [
          6.452484829393182e-07
         ],
         "xaxis": "x",
         "y": [
          5.4915361493434585
         ],
         "yaxis": "y"
        },
        {
         "hovertemplate": "go_term=Positive regulation of cell-substrate adhesion<br>fdr_bh=%{x}<br>odds=%{marker.size}<extra></extra>",
         "legendgroup": "Positive regulation of cell-substrate adhesion",
         "marker": {
          "color": "#ab63fa",
          "size": [
           6.45846091725832
          ],
          "sizemode": "area",
          "sizeref": 0.04711196203214325,
          "symbol": "circle"
         },
         "mode": "markers",
         "name": "Positive regulation of cell-substrate adhesion",
         "orientation": "v",
         "showlegend": true,
         "type": "scatter",
         "x": [
          7.458499744399835e-06
         ],
         "xaxis": "x",
         "y": [
          6.45846091725832
         ],
         "yaxis": "y"
        },
        {
         "hovertemplate": "go_term=Positive regulation of neuron projection development<br>fdr_bh=%{x}<br>odds=%{marker.size}<extra></extra>",
         "legendgroup": "Positive regulation of neuron projection development",
         "marker": {
          "color": "#FFA15A",
          "size": [
           5.370386818847981
          ],
          "sizemode": "area",
          "sizeref": 0.04711196203214325,
          "symbol": "circle"
         },
         "mode": "markers",
         "name": "Positive regulation of neuron projection development",
         "orientation": "v",
         "showlegend": true,
         "type": "scatter",
         "x": [
          2.402517977495445e-08
         ],
         "xaxis": "x",
         "y": [
          5.370386818847981
         ],
         "yaxis": "y"
        },
        {
         "hovertemplate": "go_term=Regulation of wnt signaling pathway<br>fdr_bh=%{x}<br>odds=%{marker.size}<extra></extra>",
         "legendgroup": "Regulation of wnt signaling pathway",
         "marker": {
          "color": "#19d3f3",
          "size": [
           2.601555747623163
          ],
          "sizemode": "area",
          "sizeref": 0.04711196203214325,
          "symbol": "circle"
         },
         "mode": "markers",
         "name": "Regulation of wnt signaling pathway",
         "orientation": "v",
         "showlegend": true,
         "type": "scatter",
         "x": [
          0.0021564214373833834
         ],
         "xaxis": "x",
         "y": [
          2.601555747623163
         ],
         "yaxis": "y"
        },
        {
         "hovertemplate": "go_term=Extracellular matrix organization<br>fdr_bh=%{x}<br>odds=%{marker.size}<extra></extra>",
         "legendgroup": "Extracellular matrix organization",
         "marker": {
          "color": "#FF6692",
          "size": [
           4.510230545753793
          ],
          "sizemode": "area",
          "sizeref": 0.04711196203214325,
          "symbol": "circle"
         },
         "mode": "markers",
         "name": "Extracellular matrix organization",
         "orientation": "v",
         "showlegend": true,
         "type": "scatter",
         "x": [
          2.6910743960809e-07
         ],
         "xaxis": "x",
         "y": [
          4.510230545753793
         ],
         "yaxis": "y"
        },
        {
         "hovertemplate": "go_term=Respiratory tube development<br>fdr_bh=%{x}<br>odds=%{marker.size}<extra></extra>",
         "legendgroup": "Respiratory tube development",
         "marker": {
          "color": "#B6E880",
          "size": [
           4.918857789086797
          ],
          "sizemode": "area",
          "sizeref": 0.04711196203214325,
          "symbol": "circle"
         },
         "mode": "markers",
         "name": "Respiratory tube development",
         "orientation": "v",
         "showlegend": true,
         "type": "scatter",
         "x": [
          3.111009153418355e-05
         ],
         "xaxis": "x",
         "y": [
          4.918857789086797
         ],
         "yaxis": "y"
        },
        {
         "hovertemplate": "go_term=Lung development<br>fdr_bh=%{x}<br>odds=%{marker.size}<extra></extra>",
         "legendgroup": "Lung development",
         "marker": {
          "color": "#FF97FF",
          "size": [
           4.577875026902934
          ],
          "sizemode": "area",
          "sizeref": 0.04711196203214325,
          "symbol": "circle"
         },
         "mode": "markers",
         "name": "Lung development",
         "orientation": "v",
         "showlegend": true,
         "type": "scatter",
         "x": [
          0.00010709121403669208
         ],
         "xaxis": "x",
         "y": [
          4.577875026902934
         ],
         "yaxis": "y"
        },
        {
         "hovertemplate": "go_term=Positive regulation of cell projection organization<br>fdr_bh=%{x}<br>odds=%{marker.size}<extra></extra>",
         "legendgroup": "Positive regulation of cell projection organization",
         "marker": {
          "color": "#FECB52",
          "size": [
           4.478608695652174
          ],
          "sizemode": "area",
          "sizeref": 0.04711196203214325,
          "symbol": "circle"
         },
         "mode": "markers",
         "name": "Positive regulation of cell projection organization",
         "orientation": "v",
         "showlegend": true,
         "type": "scatter",
         "x": [
          5.253029449767704e-08
         ],
         "xaxis": "x",
         "y": [
          4.478608695652174
         ],
         "yaxis": "y"
        },
        {
         "hovertemplate": "go_term=Cell-substrate adhesion<br>fdr_bh=%{x}<br>odds=%{marker.size}<extra></extra>",
         "legendgroup": "Cell-substrate adhesion",
         "marker": {
          "color": "#636efa",
          "size": [
           7.9460363286418865
          ],
          "sizemode": "area",
          "sizeref": 0.04711196203214325,
          "symbol": "circle"
         },
         "mode": "markers",
         "name": "Cell-substrate adhesion",
         "orientation": "v",
         "showlegend": true,
         "type": "scatter",
         "x": [
          6.677901352361279e-10
         ],
         "xaxis": "x",
         "y": [
          7.9460363286418865
         ],
         "yaxis": "y"
        },
        {
         "hovertemplate": "go_term=Cell junction organization<br>fdr_bh=%{x}<br>odds=%{marker.size}<extra></extra>",
         "legendgroup": "Cell junction organization",
         "marker": {
          "color": "#EF553B",
          "size": [
           4.520562464669305
          ],
          "sizemode": "area",
          "sizeref": 0.04711196203214325,
          "symbol": "circle"
         },
         "mode": "markers",
         "name": "Cell junction organization",
         "orientation": "v",
         "showlegend": true,
         "type": "scatter",
         "x": [
          1.6834400442285559e-09
         ],
         "xaxis": "x",
         "y": [
          4.520562464669305
         ],
         "yaxis": "y"
        },
        {
         "hovertemplate": "go_term=Extracellular structure organization<br>fdr_bh=%{x}<br>odds=%{marker.size}<extra></extra>",
         "legendgroup": "Extracellular structure organization",
         "marker": {
          "color": "#00cc96",
          "size": [
           4.4957864121112685
          ],
          "sizemode": "area",
          "sizeref": 0.04711196203214325,
          "symbol": "circle"
         },
         "mode": "markers",
         "name": "Extracellular structure organization",
         "orientation": "v",
         "showlegend": true,
         "type": "scatter",
         "x": [
          2.7353716235094425e-07
         ],
         "xaxis": "x",
         "y": [
          4.4957864121112685
         ],
         "yaxis": "y"
        },
        {
         "hovertemplate": "go_term=Positive regulation of neuron differentiation<br>fdr_bh=%{x}<br>odds=%{marker.size}<extra></extra>",
         "legendgroup": "Positive regulation of neuron differentiation",
         "marker": {
          "color": "#ab63fa",
          "size": [
           4.0070391259936935
          ],
          "sizemode": "area",
          "sizeref": 0.04711196203214325,
          "symbol": "circle"
         },
         "mode": "markers",
         "name": "Positive regulation of neuron differentiation",
         "orientation": "v",
         "showlegend": true,
         "type": "scatter",
         "x": [
          1.2614226034890811e-06
         ],
         "xaxis": "x",
         "y": [
          4.0070391259936935
         ],
         "yaxis": "y"
        },
        {
         "hovertemplate": "go_term=Positive regulation of cell adhesion<br>fdr_bh=%{x}<br>odds=%{marker.size}<extra></extra>",
         "legendgroup": "Positive regulation of cell adhesion",
         "marker": {
          "color": "#FFA15A",
          "size": [
           3.731326445790286
          ],
          "sizemode": "area",
          "sizeref": 0.04711196203214325,
          "symbol": "circle"
         },
         "mode": "markers",
         "name": "Positive regulation of cell adhesion",
         "orientation": "v",
         "showlegend": true,
         "type": "scatter",
         "x": [
          1.9365891646628963e-06
         ],
         "xaxis": "x",
         "y": [
          3.731326445790286
         ],
         "yaxis": "y"
        },
        {
         "hovertemplate": "go_term=Regulation of ras protein signal transduction<br>fdr_bh=%{x}<br>odds=%{marker.size}<extra></extra>",
         "legendgroup": "Regulation of ras protein signal transduction",
         "marker": {
          "color": "#19d3f3",
          "size": [
           5.140236686390533
          ],
          "sizemode": "area",
          "sizeref": 0.04711196203214325,
          "symbol": "circle"
         },
         "mode": "markers",
         "name": "Regulation of ras protein signal transduction",
         "orientation": "v",
         "showlegend": true,
         "type": "scatter",
         "x": [
          5.119732011484324e-06
         ],
         "xaxis": "x",
         "y": [
          5.140236686390533
         ],
         "yaxis": "y"
        },
        {
         "hovertemplate": "go_term=Positive regulation of neurogenesis<br>fdr_bh=%{x}<br>odds=%{marker.size}<extra></extra>",
         "legendgroup": "Positive regulation of neurogenesis",
         "marker": {
          "color": "#FF6692",
          "size": [
           4.130145820644191
          ],
          "sizemode": "area",
          "sizeref": 0.04711196203214325,
          "symbol": "circle"
         },
         "mode": "markers",
         "name": "Positive regulation of neurogenesis",
         "orientation": "v",
         "showlegend": true,
         "type": "scatter",
         "x": [
          3.695377555748493e-08
         ],
         "xaxis": "x",
         "y": [
          4.130145820644191
         ],
         "yaxis": "y"
        },
        {
         "hovertemplate": "go_term=Synapse organization<br>fdr_bh=%{x}<br>odds=%{marker.size}<extra></extra>",
         "legendgroup": "Synapse organization",
         "marker": {
          "color": "#B6E880",
          "size": [
           4.585701650943396
          ],
          "sizemode": "area",
          "sizeref": 0.04711196203214325,
          "symbol": "circle"
         },
         "mode": "markers",
         "name": "Synapse organization",
         "orientation": "v",
         "showlegend": true,
         "type": "scatter",
         "x": [
          1.265824592318294e-06
         ],
         "xaxis": "x",
         "y": [
          4.585701650943396
         ],
         "yaxis": "y"
        },
        {
         "hovertemplate": "go_term=Cognition<br>fdr_bh=%{x}<br>odds=%{marker.size}<extra></extra>",
         "legendgroup": "Cognition",
         "marker": {
          "color": "#FF97FF",
          "size": [
           5.3815192743764175
          ],
          "sizemode": "area",
          "sizeref": 0.04711196203214325,
          "symbol": "circle"
         },
         "mode": "markers",
         "name": "Cognition",
         "orientation": "v",
         "showlegend": true,
         "type": "scatter",
         "x": [
          1.2923995614952275e-08
         ],
         "xaxis": "x",
         "y": [
          5.3815192743764175
         ],
         "yaxis": "y"
        },
        {
         "hovertemplate": "go_term=Leukocyte migration<br>fdr_bh=%{x}<br>odds=%{marker.size}<extra></extra>",
         "legendgroup": "Leukocyte migration",
         "marker": {
          "color": "#FECB52",
          "size": [
           4.32733874694659
          ],
          "sizemode": "area",
          "sizeref": 0.04711196203214325,
          "symbol": "circle"
         },
         "mode": "markers",
         "name": "Leukocyte migration",
         "orientation": "v",
         "showlegend": true,
         "type": "scatter",
         "x": [
          1.3948085159870874e-06
         ],
         "xaxis": "x",
         "y": [
          4.32733874694659
         ],
         "yaxis": "y"
        },
        {
         "hovertemplate": "go_term=Regulation of small gtpase mediated signal transduction<br>fdr_bh=%{x}<br>odds=%{marker.size}<extra></extra>",
         "legendgroup": "Regulation of small gtpase mediated signal transduction",
         "marker": {
          "color": "#636efa",
          "size": [
           6.321006439692416
          ],
          "sizemode": "area",
          "sizeref": 0.04711196203214325,
          "symbol": "circle"
         },
         "mode": "markers",
         "name": "Regulation of small gtpase mediated signal transduction",
         "orientation": "v",
         "showlegend": true,
         "type": "scatter",
         "x": [
          2.7326095851159278e-11
         ],
         "xaxis": "x",
         "y": [
          6.321006439692416
         ],
         "yaxis": "y"
        },
        {
         "hovertemplate": "go_term=Respiratory system development<br>fdr_bh=%{x}<br>odds=%{marker.size}<extra></extra>",
         "legendgroup": "Respiratory system development",
         "marker": {
          "color": "#EF553B",
          "size": [
           3.907273396295842
          ],
          "sizemode": "area",
          "sizeref": 0.04711196203214325,
          "symbol": "circle"
         },
         "mode": "markers",
         "name": "Respiratory system development",
         "orientation": "v",
         "showlegend": true,
         "type": "scatter",
         "x": [
          0.00034097440611877166
         ],
         "xaxis": "x",
         "y": [
          3.907273396295842
         ],
         "yaxis": "y"
        },
        {
         "hovertemplate": "go_term=Regulation of cellular response to growth factor stimulus<br>fdr_bh=%{x}<br>odds=%{marker.size}<extra></extra>",
         "legendgroup": "Regulation of cellular response to growth factor stimulus",
         "marker": {
          "color": "#00cc96",
          "size": [
           3.213387087550752
          ],
          "sizemode": "area",
          "sizeref": 0.04711196203214325,
          "symbol": "circle"
         },
         "mode": "markers",
         "name": "Regulation of cellular response to growth factor stimulus",
         "orientation": "v",
         "showlegend": true,
         "type": "scatter",
         "x": [
          0.0005567140393140953
         ],
         "xaxis": "x",
         "y": [
          3.213387087550752
         ],
         "yaxis": "y"
        },
        {
         "hovertemplate": "go_term=Positive regulation of cellular protein localization<br>fdr_bh=%{x}<br>odds=%{marker.size}<extra></extra>",
         "legendgroup": "Positive regulation of cellular protein localization",
         "marker": {
          "color": "#ab63fa",
          "size": [
           4.683009444691688
          ],
          "sizemode": "area",
          "sizeref": 0.04711196203214325,
          "symbol": "circle"
         },
         "mode": "markers",
         "name": "Positive regulation of cellular protein localization",
         "orientation": "v",
         "showlegend": true,
         "type": "scatter",
         "x": [
          8.659907002778514e-08
         ],
         "xaxis": "x",
         "y": [
          4.683009444691688
         ],
         "yaxis": "y"
        },
        {
         "hovertemplate": "go_term=Regulation of protein localization to membrane<br>fdr_bh=%{x}<br>odds=%{marker.size}<extra></extra>",
         "legendgroup": "Regulation of protein localization to membrane",
         "marker": {
          "color": "#FFA15A",
          "size": [
           6.746503798342541
          ],
          "sizemode": "area",
          "sizeref": 0.04711196203214325,
          "symbol": "circle"
         },
         "mode": "markers",
         "name": "Regulation of protein localization to membrane",
         "orientation": "v",
         "showlegend": true,
         "type": "scatter",
         "x": [
          1.2968221429332738e-08
         ],
         "xaxis": "x",
         "y": [
          6.746503798342541
         ],
         "yaxis": "y"
        },
        {
         "hovertemplate": "go_term=Positive regulation of protein localization to membrane<br>fdr_bh=%{x}<br>odds=%{marker.size}<extra></extra>",
         "legendgroup": "Positive regulation of protein localization to membrane",
         "marker": {
          "color": "#19d3f3",
          "size": [
           8.095490716180372
          ],
          "sizemode": "area",
          "sizeref": 0.04711196203214325,
          "symbol": "circle"
         },
         "mode": "markers",
         "name": "Positive regulation of protein localization to membrane",
         "orientation": "v",
         "showlegend": true,
         "type": "scatter",
         "x": [
          6.792412496569224e-08
         ],
         "xaxis": "x",
         "y": [
          8.095490716180372
         ],
         "yaxis": "y"
        },
        {
         "hovertemplate": "go_term=Vesicle fusion<br>fdr_bh=%{x}<br>odds=%{marker.size}<extra></extra>",
         "legendgroup": "Vesicle fusion",
         "marker": {
          "color": "#FF6692",
          "size": [
           12.09653043848446
          ],
          "sizemode": "area",
          "sizeref": 0.04711196203214325,
          "symbol": "circle"
         },
         "mode": "markers",
         "name": "Vesicle fusion",
         "orientation": "v",
         "showlegend": true,
         "type": "scatter",
         "x": [
          4.988162599205334e-09
         ],
         "xaxis": "x",
         "y": [
          12.09653043848446
         ],
         "yaxis": "y"
        },
        {
         "hovertemplate": "go_term=Response to metal ion<br>fdr_bh=%{x}<br>odds=%{marker.size}<extra></extra>",
         "legendgroup": "Response to metal ion",
         "marker": {
          "color": "#B6E880",
          "size": [
           3.6395499108734404
          ],
          "sizemode": "area",
          "sizeref": 0.04711196203214325,
          "symbol": "circle"
         },
         "mode": "markers",
         "name": "Response to metal ion",
         "orientation": "v",
         "showlegend": true,
         "type": "scatter",
         "x": [
          1.0821623790390405e-05
         ],
         "xaxis": "x",
         "y": [
          3.6395499108734404
         ],
         "yaxis": "y"
        },
        {
         "hovertemplate": "go_term=Vesicle organization<br>fdr_bh=%{x}<br>odds=%{marker.size}<extra></extra>",
         "legendgroup": "Vesicle organization",
         "marker": {
          "color": "#FF97FF",
          "size": [
           4.406381020554249
          ],
          "sizemode": "area",
          "sizeref": 0.04711196203214325,
          "symbol": "circle"
         },
         "mode": "markers",
         "name": "Vesicle organization",
         "orientation": "v",
         "showlegend": true,
         "type": "scatter",
         "x": [
          6.452484829393182e-07
         ],
         "xaxis": "x",
         "y": [
          4.406381020554249
         ],
         "yaxis": "y"
        },
        {
         "hovertemplate": "go_term=Regulation of exocytosis<br>fdr_bh=%{x}<br>odds=%{marker.size}<extra></extra>",
         "legendgroup": "Regulation of exocytosis",
         "marker": {
          "color": "#FECB52",
          "size": [
           7.98408376544075
          ],
          "sizemode": "area",
          "sizeref": 0.04711196203214325,
          "symbol": "circle"
         },
         "mode": "markers",
         "name": "Regulation of exocytosis",
         "orientation": "v",
         "showlegend": true,
         "type": "scatter",
         "x": [
          1.776835948871738e-11
         ],
         "xaxis": "x",
         "y": [
          7.98408376544075
         ],
         "yaxis": "y"
        },
        {
         "hovertemplate": "go_term=Organelle fusion<br>fdr_bh=%{x}<br>odds=%{marker.size}<extra></extra>",
         "legendgroup": "Organelle fusion",
         "marker": {
          "color": "#636efa",
          "size": [
           8.78389256550176
          ],
          "sizemode": "area",
          "sizeref": 0.04711196203214325,
          "symbol": "circle"
         },
         "mode": "markers",
         "name": "Organelle fusion",
         "orientation": "v",
         "showlegend": true,
         "type": "scatter",
         "x": [
          8.477634504772643e-08
         ],
         "xaxis": "x",
         "y": [
          8.78389256550176
         ],
         "yaxis": "y"
        },
        {
         "hovertemplate": "go_term=Response to calcium ion<br>fdr_bh=%{x}<br>odds=%{marker.size}<extra></extra>",
         "legendgroup": "Response to calcium ion",
         "marker": {
          "color": "#EF553B",
          "size": [
           6.2874118496307405
          ],
          "sizemode": "area",
          "sizeref": 0.04711196203214325,
          "symbol": "circle"
         },
         "mode": "markers",
         "name": "Response to calcium ion",
         "orientation": "v",
         "showlegend": true,
         "type": "scatter",
         "x": [
          1.7019130456963047e-06
         ],
         "xaxis": "x",
         "y": [
          6.2874118496307405
         ],
         "yaxis": "y"
        },
        {
         "hovertemplate": "go_term=Regulation of amine transport<br>fdr_bh=%{x}<br>odds=%{marker.size}<extra></extra>",
         "legendgroup": "Regulation of amine transport",
         "marker": {
          "color": "#00cc96",
          "size": [
           10.13489226012175
          ],
          "sizemode": "area",
          "sizeref": 0.04711196203214325,
          "symbol": "circle"
         },
         "mode": "markers",
         "name": "Regulation of amine transport",
         "orientation": "v",
         "showlegend": true,
         "type": "scatter",
         "x": [
          7.43326776902694e-08
         ],
         "xaxis": "x",
         "y": [
          10.13489226012175
         ],
         "yaxis": "y"
        },
        {
         "hovertemplate": "go_term=Membrane fusion<br>fdr_bh=%{x}<br>odds=%{marker.size}<extra></extra>",
         "legendgroup": "Membrane fusion",
         "marker": {
          "color": "#ab63fa",
          "size": [
           6.575467316846627
          ],
          "sizemode": "area",
          "sizeref": 0.04711196203214325,
          "symbol": "circle"
         },
         "mode": "markers",
         "name": "Membrane fusion",
         "orientation": "v",
         "showlegend": true,
         "type": "scatter",
         "x": [
          1.1843688487012394e-06
         ],
         "xaxis": "x",
         "y": [
          6.575467316846627
         ],
         "yaxis": "y"
        },
        {
         "hovertemplate": "go_term=Cellular response to inorganic substance<br>fdr_bh=%{x}<br>odds=%{marker.size}<extra></extra>",
         "legendgroup": "Cellular response to inorganic substance",
         "marker": {
          "color": "#FFA15A",
          "size": [
           6.365633149811649
          ],
          "sizemode": "area",
          "sizeref": 0.04711196203214325,
          "symbol": "circle"
         },
         "mode": "markers",
         "name": "Cellular response to inorganic substance",
         "orientation": "v",
         "showlegend": true,
         "type": "scatter",
         "x": [
          1.2510130052500426e-08
         ],
         "xaxis": "x",
         "y": [
          6.365633149811649
         ],
         "yaxis": "y"
        },
        {
         "hovertemplate": "go_term=Cellular response to metal ion<br>fdr_bh=%{x}<br>odds=%{marker.size}<extra></extra>",
         "legendgroup": "Cellular response to metal ion",
         "marker": {
          "color": "#19d3f3",
          "size": [
           6.087680112118425
          ],
          "sizemode": "area",
          "sizeref": 0.04711196203214325,
          "symbol": "circle"
         },
         "mode": "markers",
         "name": "Cellular response to metal ion",
         "orientation": "v",
         "showlegend": true,
         "type": "scatter",
         "x": [
          2.1581414640635662e-07
         ],
         "xaxis": "x",
         "y": [
          6.087680112118425
         ],
         "yaxis": "y"
        },
        {
         "hovertemplate": "go_term=Organelle membrane fusion<br>fdr_bh=%{x}<br>odds=%{marker.size}<extra></extra>",
         "legendgroup": "Organelle membrane fusion",
         "marker": {
          "color": "#FF6692",
          "size": [
           11.020272564139871
          ],
          "sizemode": "area",
          "sizeref": 0.04711196203214325,
          "symbol": "circle"
         },
         "mode": "markers",
         "name": "Organelle membrane fusion",
         "orientation": "v",
         "showlegend": true,
         "type": "scatter",
         "x": [
          1.1796734792944452e-08
         ],
         "xaxis": "x",
         "y": [
          11.020272564139871
         ],
         "yaxis": "y"
        },
        {
         "hovertemplate": "go_term=Regulation of regulated secretory pathway<br>fdr_bh=%{x}<br>odds=%{marker.size}<extra></extra>",
         "legendgroup": "Regulation of regulated secretory pathway",
         "marker": {
          "color": "#B6E880",
          "size": [
           7.342720033749934
          ],
          "sizemode": "area",
          "sizeref": 0.04711196203214325,
          "symbol": "circle"
         },
         "mode": "markers",
         "name": "Regulation of regulated secretory pathway",
         "orientation": "v",
         "showlegend": true,
         "type": "scatter",
         "x": [
          2.6343416794182588e-08
         ],
         "xaxis": "x",
         "y": [
          7.342720033749934
         ],
         "yaxis": "y"
        },
        {
         "hovertemplate": "go_term=Regulation of peptide secretion<br>fdr_bh=%{x}<br>odds=%{marker.size}<extra></extra>",
         "legendgroup": "Regulation of peptide secretion",
         "marker": {
          "color": "#FF97FF",
          "size": [
           4.089074373987791
          ],
          "sizemode": "area",
          "sizeref": 0.04711196203214325,
          "symbol": "circle"
         },
         "mode": "markers",
         "name": "Regulation of peptide secretion",
         "orientation": "v",
         "showlegend": true,
         "type": "scatter",
         "x": [
          9.914372363509295e-07
         ],
         "xaxis": "x",
         "y": [
          4.089074373987791
         ],
         "yaxis": "y"
        },
        {
         "hovertemplate": "go_term=Regulation of protein secretion<br>fdr_bh=%{x}<br>odds=%{marker.size}<extra></extra>",
         "legendgroup": "Regulation of protein secretion",
         "marker": {
          "color": "#FECB52",
          "size": [
           4.238188976377953
          ],
          "sizemode": "area",
          "sizeref": 0.04711196203214325,
          "symbol": "circle"
         },
         "mode": "markers",
         "name": "Regulation of protein secretion",
         "orientation": "v",
         "showlegend": true,
         "type": "scatter",
         "x": [
          1.0483610577330664e-06
         ],
         "xaxis": "x",
         "y": [
          4.238188976377953
         ],
         "yaxis": "y"
        },
        {
         "hovertemplate": "go_term=Negative regulation of transport<br>fdr_bh=%{x}<br>odds=%{marker.size}<extra></extra>",
         "legendgroup": "Negative regulation of transport",
         "marker": {
          "color": "#636efa",
          "size": [
           2.8260343309859155
          ],
          "sizemode": "area",
          "sizeref": 0.04711196203214325,
          "symbol": "circle"
         },
         "mode": "markers",
         "name": "Negative regulation of transport",
         "orientation": "v",
         "showlegend": true,
         "type": "scatter",
         "x": [
          0.00026900295072987917
         ],
         "xaxis": "x",
         "y": [
          2.8260343309859155
         ],
         "yaxis": "y"
        },
        {
         "hovertemplate": "go_term=Regulation of leukocyte proliferation<br>fdr_bh=%{x}<br>odds=%{marker.size}<extra></extra>",
         "legendgroup": "Regulation of leukocyte proliferation",
         "marker": {
          "color": "#EF553B",
          "size": [
           3.5287531806615777
          ],
          "sizemode": "area",
          "sizeref": 0.04711196203214325,
          "symbol": "circle"
         },
         "mode": "markers",
         "name": "Regulation of leukocyte proliferation",
         "orientation": "v",
         "showlegend": true,
         "type": "scatter",
         "x": [
          0.0004284588287790868
         ],
         "xaxis": "x",
         "y": [
          3.5287531806615777
         ],
         "yaxis": "y"
        },
        {
         "hovertemplate": "go_term=Autophagy<br>fdr_bh=%{x}<br>odds=%{marker.size}<extra></extra>",
         "legendgroup": "Autophagy",
         "marker": {
          "color": "#00cc96",
          "size": [
           3.073535851122058
          ],
          "sizemode": "area",
          "sizeref": 0.04711196203214325,
          "symbol": "circle"
         },
         "mode": "markers",
         "name": "Autophagy",
         "orientation": "v",
         "showlegend": true,
         "type": "scatter",
         "x": [
          0.0008058425817561382
         ],
         "xaxis": "x",
         "y": [
          3.073535851122058
         ],
         "yaxis": "y"
        },
        {
         "hovertemplate": "go_term=Cell junction assembly<br>fdr_bh=%{x}<br>odds=%{marker.size}<extra></extra>",
         "legendgroup": "Cell junction assembly",
         "marker": {
          "color": "#ab63fa",
          "size": [
           3.4866897147796023
          ],
          "sizemode": "area",
          "sizeref": 0.04711196203214325,
          "symbol": "circle"
         },
         "mode": "markers",
         "name": "Cell junction assembly",
         "orientation": "v",
         "showlegend": true,
         "type": "scatter",
         "x": [
          0.00017925103531024416
         ],
         "xaxis": "x",
         "y": [
          3.4866897147796023
         ],
         "yaxis": "y"
        },
        {
         "hovertemplate": "go_term=Process utilizing autophagic mechanism<br>fdr_bh=%{x}<br>odds=%{marker.size}<extra></extra>",
         "legendgroup": "Process utilizing autophagic mechanism",
         "marker": {
          "color": "#FFA15A",
          "size": [
           3.073535851122058
          ],
          "sizemode": "area",
          "sizeref": 0.04711196203214325,
          "symbol": "circle"
         },
         "mode": "markers",
         "name": "Process utilizing autophagic mechanism",
         "orientation": "v",
         "showlegend": true,
         "type": "scatter",
         "x": [
          0.0008058425817561382
         ],
         "xaxis": "x",
         "y": [
          3.073535851122058
         ],
         "yaxis": "y"
        },
        {
         "hovertemplate": "go_term=Regulation of neurotransmitter levels<br>fdr_bh=%{x}<br>odds=%{marker.size}<extra></extra>",
         "legendgroup": "Regulation of neurotransmitter levels",
         "marker": {
          "color": "#19d3f3",
          "size": [
           7.204459561602419
          ],
          "sizemode": "area",
          "sizeref": 0.04711196203214325,
          "symbol": "circle"
         },
         "mode": "markers",
         "name": "Regulation of neurotransmitter levels",
         "orientation": "v",
         "showlegend": true,
         "type": "scatter",
         "x": [
          1.6137754741712056e-10
         ],
         "xaxis": "x",
         "y": [
          7.204459561602419
         ],
         "yaxis": "y"
        },
        {
         "hovertemplate": "go_term=Neutrophil activation involved in immune response<br>fdr_bh=%{x}<br>odds=%{marker.size}<extra></extra>",
         "legendgroup": "Neutrophil activation involved in immune response",
         "marker": {
          "color": "#FF6692",
          "size": [
           4.223259102156239
          ],
          "sizemode": "area",
          "sizeref": 0.04711196203214325,
          "symbol": "circle"
         },
         "mode": "markers",
         "name": "Neutrophil activation involved in immune response",
         "orientation": "v",
         "showlegend": true,
         "type": "scatter",
         "x": [
          1.4930219241181944e-08
         ],
         "xaxis": "x",
         "y": [
          4.223259102156239
         ],
         "yaxis": "y"
        },
        {
         "hovertemplate": "go_term=Neutrophil mediated immunity<br>fdr_bh=%{x}<br>odds=%{marker.size}<extra></extra>",
         "legendgroup": "Neutrophil mediated immunity",
         "marker": {
          "color": "#B6E880",
          "size": [
           4.158249334099336
          ],
          "sizemode": "area",
          "sizeref": 0.04711196203214325,
          "symbol": "circle"
         },
         "mode": "markers",
         "name": "Neutrophil mediated immunity",
         "orientation": "v",
         "showlegend": true,
         "type": "scatter",
         "x": [
          1.962057461411847e-08
         ],
         "xaxis": "x",
         "y": [
          4.158249334099336
         ],
         "yaxis": "y"
        },
        {
         "hovertemplate": "go_term=Neurotransmitter transport<br>fdr_bh=%{x}<br>odds=%{marker.size}<extra></extra>",
         "legendgroup": "Neurotransmitter transport",
         "marker": {
          "color": "#FF97FF",
          "size": [
           8.140802092414996
          ],
          "sizemode": "area",
          "sizeref": 0.04711196203214325,
          "symbol": "circle"
         },
         "mode": "markers",
         "name": "Neurotransmitter transport",
         "orientation": "v",
         "showlegend": true,
         "type": "scatter",
         "x": [
          2.2783927088148867e-08
         ],
         "xaxis": "x",
         "y": [
          8.140802092414996
         ],
         "yaxis": "y"
        },
        {
         "hovertemplate": "go_term=Chemical synaptic transmission<br>fdr_bh=%{x}<br>odds=%{marker.size}<extra></extra>",
         "legendgroup": "Chemical synaptic transmission",
         "marker": {
          "color": "#FECB52",
          "size": [
           4.988626203397584
          ],
          "sizemode": "area",
          "sizeref": 0.04711196203214325,
          "symbol": "circle"
         },
         "mode": "markers",
         "name": "Chemical synaptic transmission",
         "orientation": "v",
         "showlegend": true,
         "type": "scatter",
         "x": [
          8.289723768262965e-10
         ],
         "xaxis": "x",
         "y": [
          4.988626203397584
         ],
         "yaxis": "y"
        },
        {
         "hovertemplate": "go_term=Neurotransmitter secretion<br>fdr_bh=%{x}<br>odds=%{marker.size}<extra></extra>",
         "legendgroup": "Neurotransmitter secretion",
         "marker": {
          "color": "#636efa",
          "size": [
           10.688461538461539
          ],
          "sizemode": "area",
          "sizeref": 0.04711196203214325,
          "symbol": "circle"
         },
         "mode": "markers",
         "name": "Neurotransmitter secretion",
         "orientation": "v",
         "showlegend": true,
         "type": "scatter",
         "x": [
          4.879097716762227e-09
         ],
         "xaxis": "x",
         "y": [
          10.688461538461539
         ],
         "yaxis": "y"
        },
        {
         "hovertemplate": "go_term=Membrane docking<br>fdr_bh=%{x}<br>odds=%{marker.size}<extra></extra>",
         "legendgroup": "Membrane docking",
         "marker": {
          "color": "#EF553B",
          "size": [
           6.018968429258153
          ],
          "sizemode": "area",
          "sizeref": 0.04711196203214325,
          "symbol": "circle"
         },
         "mode": "markers",
         "name": "Membrane docking",
         "orientation": "v",
         "showlegend": true,
         "type": "scatter",
         "x": [
          2.4486195750611504e-07
         ],
         "xaxis": "x",
         "y": [
          6.018968429258153
         ],
         "yaxis": "y"
        },
        {
         "hovertemplate": "go_term=Signal release<br>fdr_bh=%{x}<br>odds=%{marker.size}<extra></extra>",
         "legendgroup": "Signal release",
         "marker": {
          "color": "#00cc96",
          "size": [
           5.918732430360337
          ],
          "sizemode": "area",
          "sizeref": 0.04711196203214325,
          "symbol": "circle"
         },
         "mode": "markers",
         "name": "Signal release",
         "orientation": "v",
         "showlegend": true,
         "type": "scatter",
         "x": [
          2.822246566402775e-07
         ],
         "xaxis": "x",
         "y": [
          5.918732430360337
         ],
         "yaxis": "y"
        },
        {
         "hovertemplate": "go_term=Neutrophil activation<br>fdr_bh=%{x}<br>odds=%{marker.size}<extra></extra>",
         "legendgroup": "Neutrophil activation",
         "marker": {
          "color": "#ab63fa",
          "size": [
           4.314338042909472
          ],
          "sizemode": "area",
          "sizeref": 0.04711196203214325,
          "symbol": "circle"
         },
         "mode": "markers",
         "name": "Neutrophil activation",
         "orientation": "v",
         "showlegend": true,
         "type": "scatter",
         "x": [
          6.704716939254043e-09
         ],
         "xaxis": "x",
         "y": [
          4.314338042909472
         ],
         "yaxis": "y"
        },
        {
         "hovertemplate": "go_term=Neutrophil degranulation<br>fdr_bh=%{x}<br>odds=%{marker.size}<extra></extra>",
         "legendgroup": "Neutrophil degranulation",
         "marker": {
          "color": "#FFA15A",
          "size": [
           4.261303665668236
          ],
          "sizemode": "area",
          "sizeref": 0.04711196203214325,
          "symbol": "circle"
         },
         "mode": "markers",
         "name": "Neutrophil degranulation",
         "orientation": "v",
         "showlegend": true,
         "type": "scatter",
         "x": [
          1.3392693782440955e-08
         ],
         "xaxis": "x",
         "y": [
          4.261303665668236
         ],
         "yaxis": "y"
        },
        {
         "hovertemplate": "go_term=Establishment of organelle localization<br>fdr_bh=%{x}<br>odds=%{marker.size}<extra></extra>",
         "legendgroup": "Establishment of organelle localization",
         "marker": {
          "color": "#19d3f3",
          "size": [
           2.5895873552123554
          ],
          "sizemode": "area",
          "sizeref": 0.04711196203214325,
          "symbol": "circle"
         },
         "mode": "markers",
         "name": "Establishment of organelle localization",
         "orientation": "v",
         "showlegend": true,
         "type": "scatter",
         "x": [
          0.001625953673426923
         ],
         "xaxis": "x",
         "y": [
          2.5895873552123554
         ],
         "yaxis": "y"
        },
        {
         "hovertemplate": "go_term=Anterograde trans-synaptic signaling<br>fdr_bh=%{x}<br>odds=%{marker.size}<extra></extra>",
         "legendgroup": "Anterograde trans-synaptic signaling",
         "marker": {
          "color": "#FF6692",
          "size": [
           4.988626203397584
          ],
          "sizemode": "area",
          "sizeref": 0.04711196203214325,
          "symbol": "circle"
         },
         "mode": "markers",
         "name": "Anterograde trans-synaptic signaling",
         "orientation": "v",
         "showlegend": true,
         "type": "scatter",
         "x": [
          8.289723768262965e-10
         ],
         "xaxis": "x",
         "y": [
          4.988626203397584
         ],
         "yaxis": "y"
        },
        {
         "hovertemplate": "go_term=Vesicle-mediated transport in synapse<br>fdr_bh=%{x}<br>odds=%{marker.size}<extra></extra>",
         "legendgroup": "Vesicle-mediated transport in synapse",
         "marker": {
          "color": "#B6E880",
          "size": [
           8.782440825919087
          ],
          "sizemode": "area",
          "sizeref": 0.04711196203214325,
          "symbol": "circle"
         },
         "mode": "markers",
         "name": "Vesicle-mediated transport in synapse",
         "orientation": "v",
         "showlegend": true,
         "type": "scatter",
         "x": [
          1.1796734792944452e-08
         ],
         "xaxis": "x",
         "y": [
          8.782440825919087
         ],
         "yaxis": "y"
        },
        {
         "hovertemplate": "go_term=Synaptic vesicle cycle<br>fdr_bh=%{x}<br>odds=%{marker.size}<extra></extra>",
         "legendgroup": "Synaptic vesicle cycle",
         "marker": {
          "color": "#FF97FF",
          "size": [
           7.401187446988974
          ],
          "sizemode": "area",
          "sizeref": 0.04711196203214325,
          "symbol": "circle"
         },
         "mode": "markers",
         "name": "Synaptic vesicle cycle",
         "orientation": "v",
         "showlegend": true,
         "type": "scatter",
         "x": [
          1.046027284554359e-06
         ],
         "xaxis": "x",
         "y": [
          7.401187446988974
         ],
         "yaxis": "y"
        },
        {
         "hovertemplate": "go_term=Synaptic signaling<br>fdr_bh=%{x}<br>odds=%{marker.size}<extra></extra>",
         "legendgroup": "Synaptic signaling",
         "marker": {
          "color": "#FECB52",
          "size": [
           5.818234893451396
          ],
          "sizemode": "area",
          "sizeref": 0.04711196203214325,
          "symbol": "circle"
         },
         "mode": "markers",
         "name": "Synaptic signaling",
         "orientation": "v",
         "showlegend": true,
         "type": "scatter",
         "x": [
          3.6141890408771475e-13
         ],
         "xaxis": "x",
         "y": [
          5.818234893451396
         ],
         "yaxis": "y"
        },
        {
         "hovertemplate": "go_term=Trans-synaptic signaling<br>fdr_bh=%{x}<br>odds=%{marker.size}<extra></extra>",
         "legendgroup": "Trans-synaptic signaling",
         "marker": {
          "color": "#636efa",
          "size": [
           4.953774761738436
          ],
          "sizemode": "area",
          "sizeref": 0.04711196203214325,
          "symbol": "circle"
         },
         "mode": "markers",
         "name": "Trans-synaptic signaling",
         "orientation": "v",
         "showlegend": true,
         "type": "scatter",
         "x": [
          5.287737392874885e-10
         ],
         "xaxis": "x",
         "y": [
          4.953774761738436
         ],
         "yaxis": "y"
        },
        {
         "hovertemplate": "go_term=Signal release from synapse<br>fdr_bh=%{x}<br>odds=%{marker.size}<extra></extra>",
         "legendgroup": "Signal release from synapse",
         "marker": {
          "color": "#EF553B",
          "size": [
           10.688461538461539
          ],
          "sizemode": "area",
          "sizeref": 0.04711196203214325,
          "symbol": "circle"
         },
         "mode": "markers",
         "name": "Signal release from synapse",
         "orientation": "v",
         "showlegend": true,
         "type": "scatter",
         "x": [
          4.879097716762227e-09
         ],
         "xaxis": "x",
         "y": [
          10.688461538461539
         ],
         "yaxis": "y"
        },
        {
         "hovertemplate": "go_term=Exocytic process<br>fdr_bh=%{x}<br>odds=%{marker.size}<extra></extra>",
         "legendgroup": "Exocytic process",
         "marker": {
          "color": "#00cc96",
          "size": [
           12.140180430256766
          ],
          "sizemode": "area",
          "sizeref": 0.04711196203214325,
          "symbol": "circle"
         },
         "mode": "markers",
         "name": "Exocytic process",
         "orientation": "v",
         "showlegend": true,
         "type": "scatter",
         "x": [
          1.4930219241181944e-08
         ],
         "xaxis": "x",
         "y": [
          12.140180430256766
         ],
         "yaxis": "y"
        },
        {
         "hovertemplate": "go_term=Organelle localization by membrane tethering<br>fdr_bh=%{x}<br>odds=%{marker.size}<extra></extra>",
         "legendgroup": "Organelle localization by membrane tethering",
         "marker": {
          "color": "#ab63fa",
          "size": [
           5.887353518932466
          ],
          "sizemode": "area",
          "sizeref": 0.04711196203214325,
          "symbol": "circle"
         },
         "mode": "markers",
         "name": "Organelle localization by membrane tethering",
         "orientation": "v",
         "showlegend": true,
         "type": "scatter",
         "x": [
          6.55597381464492e-07
         ],
         "xaxis": "x",
         "y": [
          5.887353518932466
         ],
         "yaxis": "y"
        },
        {
         "hovertemplate": "go_term=Aging<br>fdr_bh=%{x}<br>odds=%{marker.size}<extra></extra>",
         "legendgroup": "Aging",
         "marker": {
          "color": "#FFA15A",
          "size": [
           3.300905741254532
          ],
          "sizemode": "area",
          "sizeref": 0.04711196203214325,
          "symbol": "circle"
         },
         "mode": "markers",
         "name": "Aging",
         "orientation": "v",
         "showlegend": true,
         "type": "scatter",
         "x": [
          0.0004546717573901661
         ],
         "xaxis": "x",
         "y": [
          3.300905741254532
         ],
         "yaxis": "y"
        },
        {
         "hovertemplate": "go_term=Negative regulation of cell migration<br>fdr_bh=%{x}<br>odds=%{marker.size}<extra></extra>",
         "legendgroup": "Negative regulation of cell migration",
         "marker": {
          "color": "#19d3f3",
          "size": [
           3.4483371647509578
          ],
          "sizemode": "area",
          "sizeref": 0.04711196203214325,
          "symbol": "circle"
         },
         "mode": "markers",
         "name": "Negative regulation of cell migration",
         "orientation": "v",
         "showlegend": true,
         "type": "scatter",
         "x": [
          0.0003232361570838487
         ],
         "xaxis": "x",
         "y": [
          3.4483371647509578
         ],
         "yaxis": "y"
        },
        {
         "hovertemplate": "go_term=Negative regulation of locomotion<br>fdr_bh=%{x}<br>odds=%{marker.size}<extra></extra>",
         "legendgroup": "Negative regulation of locomotion",
         "marker": {
          "color": "#FF6692",
          "size": [
           3.376682667223208
          ],
          "sizemode": "area",
          "sizeref": 0.04711196203214325,
          "symbol": "circle"
         },
         "mode": "markers",
         "name": "Negative regulation of locomotion",
         "orientation": "v",
         "showlegend": true,
         "type": "scatter",
         "x": [
          0.00015129294248837164
         ],
         "xaxis": "x",
         "y": [
          3.376682667223208
         ],
         "yaxis": "y"
        },
        {
         "hovertemplate": "go_term=Positive regulation of ion transport<br>fdr_bh=%{x}<br>odds=%{marker.size}<extra></extra>",
         "legendgroup": "Positive regulation of ion transport",
         "marker": {
          "color": "#B6E880",
          "size": [
           3.434430882770366
          ],
          "sizemode": "area",
          "sizeref": 0.04711196203214325,
          "symbol": "circle"
         },
         "mode": "markers",
         "name": "Positive regulation of ion transport",
         "orientation": "v",
         "showlegend": true,
         "type": "scatter",
         "x": [
          0.00020567966523977088
         ],
         "xaxis": "x",
         "y": [
          3.434430882770366
         ],
         "yaxis": "y"
        },
        {
         "hovertemplate": "go_term=Regulation of map kinase activity<br>fdr_bh=%{x}<br>odds=%{marker.size}<extra></extra>",
         "legendgroup": "Regulation of map kinase activity",
         "marker": {
          "color": "#FF97FF",
          "size": [
           6.043761919100673
          ],
          "sizemode": "area",
          "sizeref": 0.04711196203214325,
          "symbol": "circle"
         },
         "mode": "markers",
         "name": "Regulation of map kinase activity",
         "orientation": "v",
         "showlegend": true,
         "type": "scatter",
         "x": [
          2.7326095851159278e-11
         ],
         "xaxis": "x",
         "y": [
          6.043761919100673
         ],
         "yaxis": "y"
        },
        {
         "hovertemplate": "go_term=Positive regulation of map kinase activity<br>fdr_bh=%{x}<br>odds=%{marker.size}<extra></extra>",
         "legendgroup": "Positive regulation of map kinase activity",
         "marker": {
          "color": "#FECB52",
          "size": [
           6.692129032258064
          ],
          "sizemode": "area",
          "sizeref": 0.04711196203214325,
          "symbol": "circle"
         },
         "mode": "markers",
         "name": "Positive regulation of map kinase activity",
         "orientation": "v",
         "showlegend": true,
         "type": "scatter",
         "x": [
          9.490203271297907e-11
         ],
         "xaxis": "x",
         "y": [
          6.692129032258064
         ],
         "yaxis": "y"
        },
        {
         "hovertemplate": "go_term=Regulation of peptidyl-tyrosine phosphorylation<br>fdr_bh=%{x}<br>odds=%{marker.size}<extra></extra>",
         "legendgroup": "Regulation of peptidyl-tyrosine phosphorylation",
         "marker": {
          "color": "#636efa",
          "size": [
           4.435902364020757
          ],
          "sizemode": "area",
          "sizeref": 0.04711196203214325,
          "symbol": "circle"
         },
         "mode": "markers",
         "name": "Regulation of peptidyl-tyrosine phosphorylation",
         "orientation": "v",
         "showlegend": true,
         "type": "scatter",
         "x": [
          5.986881083408407e-06
         ],
         "xaxis": "x",
         "y": [
          4.435902364020757
         ],
         "yaxis": "y"
        },
        {
         "hovertemplate": "go_term=Positive regulation of secretion<br>fdr_bh=%{x}<br>odds=%{marker.size}<extra></extra>",
         "legendgroup": "Positive regulation of secretion",
         "marker": {
          "color": "#EF553B",
          "size": [
           3.9113103778096603
          ],
          "sizemode": "area",
          "sizeref": 0.04711196203214325,
          "symbol": "circle"
         },
         "mode": "markers",
         "name": "Positive regulation of secretion",
         "orientation": "v",
         "showlegend": true,
         "type": "scatter",
         "x": [
          4.765691538997992e-06
         ],
         "xaxis": "x",
         "y": [
          3.9113103778096603
         ],
         "yaxis": "y"
        },
        {
         "hovertemplate": "go_term=Positive regulation of protein transport<br>fdr_bh=%{x}<br>odds=%{marker.size}<extra></extra>",
         "legendgroup": "Positive regulation of protein transport",
         "marker": {
          "color": "#00cc96",
          "size": [
           3.748148148148148
          ],
          "sizemode": "area",
          "sizeref": 0.04711196203214325,
          "symbol": "circle"
         },
         "mode": "markers",
         "name": "Positive regulation of protein transport",
         "orientation": "v",
         "showlegend": true,
         "type": "scatter",
         "x": [
          7.505922056689726e-06
         ],
         "xaxis": "x",
         "y": [
          3.748148148148148
         ],
         "yaxis": "y"
        },
        {
         "hovertemplate": "go_term=Negative regulation of cellular component movement<br>fdr_bh=%{x}<br>odds=%{marker.size}<extra></extra>",
         "legendgroup": "Negative regulation of cellular component movement",
         "marker": {
          "color": "#ab63fa",
          "size": [
           3.118378936499742
          ],
          "sizemode": "area",
          "sizeref": 0.04711196203214325,
          "symbol": "circle"
         },
         "mode": "markers",
         "name": "Negative regulation of cellular component movement",
         "orientation": "v",
         "showlegend": true,
         "type": "scatter",
         "x": [
          0.000473126081620628
         ],
         "xaxis": "x",
         "y": [
          3.118378936499742
         ],
         "yaxis": "y"
        },
        {
         "hovertemplate": "go_term=Regulation of erk1 and erk2 cascade<br>fdr_bh=%{x}<br>odds=%{marker.size}<extra></extra>",
         "legendgroup": "Regulation of erk1 and erk2 cascade",
         "marker": {
          "color": "#FFA15A",
          "size": [
           4.1552882914750615
          ],
          "sizemode": "area",
          "sizeref": 0.04711196203214325,
          "symbol": "circle"
         },
         "mode": "markers",
         "name": "Regulation of erk1 and erk2 cascade",
         "orientation": "v",
         "showlegend": true,
         "type": "scatter",
         "x": [
          6.698455376481228e-06
         ],
         "xaxis": "x",
         "y": [
          4.1552882914750615
         ],
         "yaxis": "y"
        },
        {
         "hovertemplate": "go_term=Positive regulation of erk1 and erk2 cascade<br>fdr_bh=%{x}<br>odds=%{marker.size}<extra></extra>",
         "legendgroup": "Positive regulation of erk1 and erk2 cascade",
         "marker": {
          "color": "#19d3f3",
          "size": [
           4.412111971225272
          ],
          "sizemode": "area",
          "sizeref": 0.04711196203214325,
          "symbol": "circle"
         },
         "mode": "markers",
         "name": "Positive regulation of erk1 and erk2 cascade",
         "orientation": "v",
         "showlegend": true,
         "type": "scatter",
         "x": [
          4.0678714130491455e-05
         ],
         "xaxis": "x",
         "y": [
          4.412111971225272
         ],
         "yaxis": "y"
        },
        {
         "hovertemplate": "go_term=Positive regulation of protein serine/threonine kinase activity<br>fdr_bh=%{x}<br>odds=%{marker.size}<extra></extra>",
         "legendgroup": "Positive regulation of protein serine/threonine kinase activity",
         "marker": {
          "color": "#FF6692",
          "size": [
           5.170382127311642
          ],
          "sizemode": "area",
          "sizeref": 0.04711196203214325,
          "symbol": "circle"
         },
         "mode": "markers",
         "name": "Positive regulation of protein serine/threonine kinase activity",
         "orientation": "v",
         "showlegend": true,
         "type": "scatter",
         "x": [
          3.4201498919899854e-09
         ],
         "xaxis": "x",
         "y": [
          5.170382127311642
         ],
         "yaxis": "y"
        },
        {
         "hovertemplate": "go_term=Positive regulation of secretion by cell<br>fdr_bh=%{x}<br>odds=%{marker.size}<extra></extra>",
         "legendgroup": "Positive regulation of secretion by cell",
         "marker": {
          "color": "#B6E880",
          "size": [
           4.028836171096345
          ],
          "sizemode": "area",
          "sizeref": 0.04711196203214325,
          "symbol": "circle"
         },
         "mode": "markers",
         "name": "Positive regulation of secretion by cell",
         "orientation": "v",
         "showlegend": true,
         "type": "scatter",
         "x": [
          5.548503505403722e-06
         ],
         "xaxis": "x",
         "y": [
          4.028836171096345
         ],
         "yaxis": "y"
        },
        {
         "hovertemplate": "go_term=Positive regulation of establishment of protein localization<br>fdr_bh=%{x}<br>odds=%{marker.size}<extra></extra>",
         "legendgroup": "Positive regulation of establishment of protein localization",
         "marker": {
          "color": "#FF97FF",
          "size": [
           3.5773031000109543
          ],
          "sizemode": "area",
          "sizeref": 0.04711196203214325,
          "symbol": "circle"
         },
         "mode": "markers",
         "name": "Positive regulation of establishment of protein localization",
         "orientation": "v",
         "showlegend": true,
         "type": "scatter",
         "x": [
          1.3100123878614486e-05
         ],
         "xaxis": "x",
         "y": [
          3.5773031000109543
         ],
         "yaxis": "y"
        },
        {
         "hovertemplate": "go_term=Negative regulation of cell motility<br>fdr_bh=%{x}<br>odds=%{marker.size}<extra></extra>",
         "legendgroup": "Negative regulation of cell motility",
         "marker": {
          "color": "#FECB52",
          "size": [
           3.513410740203193
          ],
          "sizemode": "area",
          "sizeref": 0.04711196203214325,
          "symbol": "circle"
         },
         "mode": "markers",
         "name": "Negative regulation of cell motility",
         "orientation": "v",
         "showlegend": true,
         "type": "scatter",
         "x": [
          0.0001678774702737682
         ],
         "xaxis": "x",
         "y": [
          3.513410740203193
         ],
         "yaxis": "y"
        },
        {
         "hovertemplate": "go_term=Regulation of apoptotic signaling pathway<br>fdr_bh=%{x}<br>odds=%{marker.size}<extra></extra>",
         "legendgroup": "Regulation of apoptotic signaling pathway",
         "marker": {
          "color": "#636efa",
          "size": [
           3.4633555420956994
          ],
          "sizemode": "area",
          "sizeref": 0.04711196203214325,
          "symbol": "circle"
         },
         "mode": "markers",
         "name": "Regulation of apoptotic signaling pathway",
         "orientation": "v",
         "showlegend": true,
         "type": "scatter",
         "x": [
          1.2320007252905105e-05
         ],
         "xaxis": "x",
         "y": [
          3.4633555420956994
         ],
         "yaxis": "y"
        },
        {
         "hovertemplate": "go_term=Negative regulation of apoptotic signaling pathway<br>fdr_bh=%{x}<br>odds=%{marker.size}<extra></extra>",
         "legendgroup": "Negative regulation of apoptotic signaling pathway",
         "marker": {
          "color": "#EF553B",
          "size": [
           3.2668790463467268
          ],
          "sizemode": "area",
          "sizeref": 0.04711196203214325,
          "symbol": "circle"
         },
         "mode": "markers",
         "name": "Negative regulation of apoptotic signaling pathway",
         "orientation": "v",
         "showlegend": true,
         "type": "scatter",
         "x": [
          0.0012104225068734658
         ],
         "xaxis": "x",
         "y": [
          3.2668790463467268
         ],
         "yaxis": "y"
        },
        {
         "hovertemplate": "go_term=MAPK cascade<br>fdr_bh=%{x}<br>odds=%{marker.size}<extra></extra>",
         "legendgroup": "MAPK cascade",
         "marker": {
          "color": "#00cc96",
          "size": [
           4.287297675781886
          ],
          "sizemode": "area",
          "sizeref": 0.04711196203214325,
          "symbol": "circle"
         },
         "mode": "markers",
         "name": "MAPK cascade",
         "orientation": "v",
         "showlegend": true,
         "type": "scatter",
         "x": [
          1.8098148460463515e-07
         ],
         "xaxis": "x",
         "y": [
          4.287297675781886
         ],
         "yaxis": "y"
        },
        {
         "hovertemplate": "go_term=Response to reactive oxygen species<br>fdr_bh=%{x}<br>odds=%{marker.size}<extra></extra>",
         "legendgroup": "Response to reactive oxygen species",
         "marker": {
          "color": "#ab63fa",
          "size": [
           6.108825233876977
          ],
          "sizemode": "area",
          "sizeref": 0.04711196203214325,
          "symbol": "circle"
         },
         "mode": "markers",
         "name": "Response to reactive oxygen species",
         "orientation": "v",
         "showlegend": true,
         "type": "scatter",
         "x": [
          9.085228310585387e-08
         ],
         "xaxis": "x",
         "y": [
          6.108825233876977
         ],
         "yaxis": "y"
        },
        {
         "hovertemplate": "go_term=In utero embryonic development<br>fdr_bh=%{x}<br>odds=%{marker.size}<extra></extra>",
         "legendgroup": "In utero embryonic development",
         "marker": {
          "color": "#FFA15A",
          "size": [
           2.5080050031269545
          ],
          "sizemode": "area",
          "sizeref": 0.04711196203214325,
          "symbol": "circle"
         },
         "mode": "markers",
         "name": "In utero embryonic development",
         "orientation": "v",
         "showlegend": true,
         "type": "scatter",
         "x": [
          0.0029208900866327134
         ],
         "xaxis": "x",
         "y": [
          2.5080050031269545
         ],
         "yaxis": "y"
        },
        {
         "hovertemplate": "go_term=Activation of immune response<br>fdr_bh=%{x}<br>odds=%{marker.size}<extra></extra>",
         "legendgroup": "Activation of immune response",
         "marker": {
          "color": "#19d3f3",
          "size": [
           3.0884579597360853
          ],
          "sizemode": "area",
          "sizeref": 0.04711196203214325,
          "symbol": "circle"
         },
         "mode": "markers",
         "name": "Activation of immune response",
         "orientation": "v",
         "showlegend": true,
         "type": "scatter",
         "x": [
          0.00015496145526732913
         ],
         "xaxis": "x",
         "y": [
          3.0884579597360853
         ],
         "yaxis": "y"
        },
        {
         "hovertemplate": "go_term=Immune response-activating cell surface receptor signaling pathway<br>fdr_bh=%{x}<br>odds=%{marker.size}<extra></extra>",
         "legendgroup": "Immune response-activating cell surface receptor signaling pathway",
         "marker": {
          "color": "#FF6692",
          "size": [
           3.6278018657206674
          ],
          "sizemode": "area",
          "sizeref": 0.04711196203214325,
          "symbol": "circle"
         },
         "mode": "markers",
         "name": "Immune response-activating cell surface receptor signaling pathway",
         "orientation": "v",
         "showlegend": true,
         "type": "scatter",
         "x": [
          4.785745176556898e-05
         ],
         "xaxis": "x",
         "y": [
          3.6278018657206674
         ],
         "yaxis": "y"
        },
        {
         "hovertemplate": "go_term=Immune response-activating signal transduction<br>fdr_bh=%{x}<br>odds=%{marker.size}<extra></extra>",
         "legendgroup": "Immune response-activating signal transduction",
         "marker": {
          "color": "#B6E880",
          "size": [
           3.6278018657206674
          ],
          "sizemode": "area",
          "sizeref": 0.04711196203214325,
          "symbol": "circle"
         },
         "mode": "markers",
         "name": "Immune response-activating signal transduction",
         "orientation": "v",
         "showlegend": true,
         "type": "scatter",
         "x": [
          4.785745176556898e-05
         ],
         "xaxis": "x",
         "y": [
          3.6278018657206674
         ],
         "yaxis": "y"
        },
        {
         "hovertemplate": "go_term=Immune response-regulating signaling pathway<br>fdr_bh=%{x}<br>odds=%{marker.size}<extra></extra>",
         "legendgroup": "Immune response-regulating signaling pathway",
         "marker": {
          "color": "#FF97FF",
          "size": [
           4.356189144895401
          ],
          "sizemode": "area",
          "sizeref": 0.04711196203214325,
          "symbol": "circle"
         },
         "mode": "markers",
         "name": "Immune response-regulating signaling pathway",
         "orientation": "v",
         "showlegend": true,
         "type": "scatter",
         "x": [
          4.0756275171744067e-07
         ],
         "xaxis": "x",
         "y": [
          4.356189144895401
         ],
         "yaxis": "y"
        },
        {
         "hovertemplate": "go_term=Immune response-regulating cell surface receptor signaling pathway<br>fdr_bh=%{x}<br>odds=%{marker.size}<extra></extra>",
         "legendgroup": "Immune response-regulating cell surface receptor signaling pathway",
         "marker": {
          "color": "#FECB52",
          "size": [
           4.39716631194892
          ],
          "sizemode": "area",
          "sizeref": 0.04711196203214325,
          "symbol": "circle"
         },
         "mode": "markers",
         "name": "Immune response-regulating cell surface receptor signaling pathway",
         "orientation": "v",
         "showlegend": true,
         "type": "scatter",
         "x": [
          3.711718691014872e-07
         ],
         "xaxis": "x",
         "y": [
          4.39716631194892
         ],
         "yaxis": "y"
        },
        {
         "hovertemplate": "go_term=Endocytosis<br>fdr_bh=%{x}<br>odds=%{marker.size}<extra></extra>",
         "legendgroup": "Endocytosis",
         "marker": {
          "color": "#636efa",
          "size": [
           6.495046557228947
          ],
          "sizemode": "area",
          "sizeref": 0.04711196203214325,
          "symbol": "circle"
         },
         "mode": "markers",
         "name": "Endocytosis",
         "orientation": "v",
         "showlegend": true,
         "type": "scatter",
         "x": [
          4.34324396550109e-15
         ],
         "xaxis": "x",
         "y": [
          6.495046557228947
         ],
         "yaxis": "y"
        },
        {
         "hovertemplate": "go_term=Phagocytosis<br>fdr_bh=%{x}<br>odds=%{marker.size}<extra></extra>",
         "legendgroup": "Phagocytosis",
         "marker": {
          "color": "#EF553B",
          "size": [
           8.05775075987842
          ],
          "sizemode": "area",
          "sizeref": 0.04711196203214325,
          "symbol": "circle"
         },
         "mode": "markers",
         "name": "Phagocytosis",
         "orientation": "v",
         "showlegend": true,
         "type": "scatter",
         "x": [
          3.075139487071895e-11
         ],
         "xaxis": "x",
         "y": [
          8.05775075987842
         ],
         "yaxis": "y"
        },
        {
         "hovertemplate": "go_term=Response to oxidative stress<br>fdr_bh=%{x}<br>odds=%{marker.size}<extra></extra>",
         "legendgroup": "Response to oxidative stress",
         "marker": {
          "color": "#00cc96",
          "size": [
           3.22687660922955
          ],
          "sizemode": "area",
          "sizeref": 0.04711196203214325,
          "symbol": "circle"
         },
         "mode": "markers",
         "name": "Response to oxidative stress",
         "orientation": "v",
         "showlegend": true,
         "type": "scatter",
         "x": [
          4.503762043564535e-05
         ],
         "xaxis": "x",
         "y": [
          3.22687660922955
         ],
         "yaxis": "y"
        },
        {
         "hovertemplate": "go_term=Axonogenesis<br>fdr_bh=%{x}<br>odds=%{marker.size}<extra></extra>",
         "legendgroup": "Axonogenesis",
         "marker": {
          "color": "#ab63fa",
          "size": [
           5.000806451612903
          ],
          "sizemode": "area",
          "sizeref": 0.04711196203214325,
          "symbol": "circle"
         },
         "mode": "markers",
         "name": "Axonogenesis",
         "orientation": "v",
         "showlegend": true,
         "type": "scatter",
         "x": [
          3.1872340119887505e-09
         ],
         "xaxis": "x",
         "y": [
          5.000806451612903
         ],
         "yaxis": "y"
        },
        {
         "hovertemplate": "go_term=Axon guidance<br>fdr_bh=%{x}<br>odds=%{marker.size}<extra></extra>",
         "legendgroup": "Axon guidance",
         "marker": {
          "color": "#FFA15A",
          "size": [
           5.6047122035573125
          ],
          "sizemode": "area",
          "sizeref": 0.04711196203214325,
          "symbol": "circle"
         },
         "mode": "markers",
         "name": "Axon guidance",
         "orientation": "v",
         "showlegend": true,
         "type": "scatter",
         "x": [
          1.3673861660840727e-08
         ],
         "xaxis": "x",
         "y": [
          5.6047122035573125
         ],
         "yaxis": "y"
        },
        {
         "hovertemplate": "go_term=Blood coagulation<br>fdr_bh=%{x}<br>odds=%{marker.size}<extra></extra>",
         "legendgroup": "Blood coagulation",
         "marker": {
          "color": "#19d3f3",
          "size": [
           3.4720881595881594
          ],
          "sizemode": "area",
          "sizeref": 0.04711196203214325,
          "symbol": "circle"
         },
         "mode": "markers",
         "name": "Blood coagulation",
         "orientation": "v",
         "showlegend": true,
         "type": "scatter",
         "x": [
          0.0001182498254944941
         ],
         "xaxis": "x",
         "y": [
          3.4720881595881594
         ],
         "yaxis": "y"
        },
        {
         "hovertemplate": "go_term=Hemostasis<br>fdr_bh=%{x}<br>odds=%{marker.size}<extra></extra>",
         "legendgroup": "Hemostasis",
         "marker": {
          "color": "#FF6692",
          "size": [
           3.411849196832132
          ],
          "sizemode": "area",
          "sizeref": 0.04711196203214325,
          "symbol": "circle"
         },
         "mode": "markers",
         "name": "Hemostasis",
         "orientation": "v",
         "showlegend": true,
         "type": "scatter",
         "x": [
          0.00013732013517836266
         ],
         "xaxis": "x",
         "y": [
          3.411849196832132
         ],
         "yaxis": "y"
        },
        {
         "hovertemplate": "go_term=Cell population proliferation<br>fdr_bh=%{x}<br>odds=%{marker.size}<extra></extra>",
         "legendgroup": "Cell population proliferation",
         "marker": {
          "color": "#B6E880",
          "size": [
           2.83564238014552
          ],
          "sizemode": "area",
          "sizeref": 0.04711196203214325,
          "symbol": "circle"
         },
         "mode": "markers",
         "name": "Cell population proliferation",
         "orientation": "v",
         "showlegend": true,
         "type": "scatter",
         "x": [
          0.00013129304055937725
         ],
         "xaxis": "x",
         "y": [
          2.83564238014552
         ],
         "yaxis": "y"
        },
        {
         "hovertemplate": "go_term=Glial cell differentiation<br>fdr_bh=%{x}<br>odds=%{marker.size}<extra></extra>",
         "legendgroup": "Glial cell differentiation",
         "marker": {
          "color": "#FF97FF",
          "size": [
           5.250412167653547
          ],
          "sizemode": "area",
          "sizeref": 0.04711196203214325,
          "symbol": "circle"
         },
         "mode": "markers",
         "name": "Glial cell differentiation",
         "orientation": "v",
         "showlegend": true,
         "type": "scatter",
         "x": [
          8.416108991156131e-06
         ],
         "xaxis": "x",
         "y": [
          5.250412167653547
         ],
         "yaxis": "y"
        },
        {
         "hovertemplate": "go_term=Peptidyl-serine phosphorylation<br>fdr_bh=%{x}<br>odds=%{marker.size}<extra></extra>",
         "legendgroup": "Peptidyl-serine phosphorylation",
         "marker": {
          "color": "#FECB52",
          "size": [
           4.921538461538462
          ],
          "sizemode": "area",
          "sizeref": 0.04711196203214325,
          "symbol": "circle"
         },
         "mode": "markers",
         "name": "Peptidyl-serine phosphorylation",
         "orientation": "v",
         "showlegend": true,
         "type": "scatter",
         "x": [
          7.505922056689726e-06
         ],
         "xaxis": "x",
         "y": [
          4.921538461538462
         ],
         "yaxis": "y"
        },
        {
         "hovertemplate": "go_term=Peptidyl-serine modification<br>fdr_bh=%{x}<br>odds=%{marker.size}<extra></extra>",
         "legendgroup": "Peptidyl-serine modification",
         "marker": {
          "color": "#636efa",
          "size": [
           4.363551401869159
          ],
          "sizemode": "area",
          "sizeref": 0.04711196203214325,
          "symbol": "circle"
         },
         "mode": "markers",
         "name": "Peptidyl-serine modification",
         "orientation": "v",
         "showlegend": true,
         "type": "scatter",
         "x": [
          2.3897549114045394e-05
         ],
         "xaxis": "x",
         "y": [
          4.363551401869159
         ],
         "yaxis": "y"
        },
        {
         "hovertemplate": "go_term=Signal transduction by protein phosphorylation<br>fdr_bh=%{x}<br>odds=%{marker.size}<extra></extra>",
         "legendgroup": "Signal transduction by protein phosphorylation",
         "marker": {
          "color": "#EF553B",
          "size": [
           5.602160216021602
          ],
          "sizemode": "area",
          "sizeref": 0.04711196203214325,
          "symbol": "circle"
         },
         "mode": "markers",
         "name": "Signal transduction by protein phosphorylation",
         "orientation": "v",
         "showlegend": true,
         "type": "scatter",
         "x": [
          8.342495892612694e-12
         ],
         "xaxis": "x",
         "y": [
          5.602160216021602
         ],
         "yaxis": "y"
        },
        {
         "hovertemplate": "go_term=Platelet activation<br>fdr_bh=%{x}<br>odds=%{marker.size}<extra></extra>",
         "legendgroup": "Platelet activation",
         "marker": {
          "color": "#00cc96",
          "size": [
           6.493018059951592
          ],
          "sizemode": "area",
          "sizeref": 0.04711196203214325,
          "symbol": "circle"
         },
         "mode": "markers",
         "name": "Platelet activation",
         "orientation": "v",
         "showlegend": true,
         "type": "scatter",
         "x": [
          3.165797270520368e-06
         ],
         "xaxis": "x",
         "y": [
          6.493018059951592
         ],
         "yaxis": "y"
        },
        {
         "hovertemplate": "go_term=Stress-activated protein kinase signaling cascade<br>fdr_bh=%{x}<br>odds=%{marker.size}<extra></extra>",
         "legendgroup": "Stress-activated protein kinase signaling cascade",
         "marker": {
          "color": "#ab63fa",
          "size": [
           6.747039291643608
          ],
          "sizemode": "area",
          "sizeref": 0.04711196203214325,
          "symbol": "circle"
         },
         "mode": "markers",
         "name": "Stress-activated protein kinase signaling cascade",
         "orientation": "v",
         "showlegend": true,
         "type": "scatter",
         "x": [
          3.757940396173667e-07
         ],
         "xaxis": "x",
         "y": [
          6.747039291643608
         ],
         "yaxis": "y"
        },
        {
         "hovertemplate": "go_term=Activation of protein kinase activity<br>fdr_bh=%{x}<br>odds=%{marker.size}<extra></extra>",
         "legendgroup": "Activation of protein kinase activity",
         "marker": {
          "color": "#FFA15A",
          "size": [
           6.012846088081198
          ],
          "sizemode": "area",
          "sizeref": 0.04711196203214325,
          "symbol": "circle"
         },
         "mode": "markers",
         "name": "Activation of protein kinase activity",
         "orientation": "v",
         "showlegend": true,
         "type": "scatter",
         "x": [
          1.6404484484191915e-12
         ],
         "xaxis": "x",
         "y": [
          6.012846088081198
         ],
         "yaxis": "y"
        },
        {
         "hovertemplate": "go_term=Regulation of intracellular transport<br>fdr_bh=%{x}<br>odds=%{marker.size}<extra></extra>",
         "legendgroup": "Regulation of intracellular transport",
         "marker": {
          "color": "#19d3f3",
          "size": [
           3.26019867771175
          ],
          "sizemode": "area",
          "sizeref": 0.04711196203214325,
          "symbol": "circle"
         },
         "mode": "markers",
         "name": "Regulation of intracellular transport",
         "orientation": "v",
         "showlegend": true,
         "type": "scatter",
         "x": [
          9.24468569686691e-05
         ],
         "xaxis": "x",
         "y": [
          3.26019867771175
         ],
         "yaxis": "y"
        },
        {
         "hovertemplate": "go_term=Positive regulation of intracellular transport<br>fdr_bh=%{x}<br>odds=%{marker.size}<extra></extra>",
         "legendgroup": "Positive regulation of intracellular transport",
         "marker": {
          "color": "#FF6692",
          "size": [
           4.7375610111459165
          ],
          "sizemode": "area",
          "sizeref": 0.04711196203214325,
          "symbol": "circle"
         },
         "mode": "markers",
         "name": "Positive regulation of intracellular transport",
         "orientation": "v",
         "showlegend": true,
         "type": "scatter",
         "x": [
          5.712904060996442e-06
         ],
         "xaxis": "x",
         "y": [
          4.7375610111459165
         ],
         "yaxis": "y"
        },
        {
         "hovertemplate": "go_term=Regulation of stress-activated mapk cascade<br>fdr_bh=%{x}<br>odds=%{marker.size}<extra></extra>",
         "legendgroup": "Regulation of stress-activated mapk cascade",
         "marker": {
          "color": "#B6E880",
          "size": [
           5.072400175515577
          ],
          "sizemode": "area",
          "sizeref": 0.04711196203214325,
          "symbol": "circle"
         },
         "mode": "markers",
         "name": "Regulation of stress-activated mapk cascade",
         "orientation": "v",
         "showlegend": true,
         "type": "scatter",
         "x": [
          1.462658498308632e-06
         ],
         "xaxis": "x",
         "y": [
          5.072400175515577
         ],
         "yaxis": "y"
        },
        {
         "hovertemplate": "go_term=Regulation of intracellular protein transport<br>fdr_bh=%{x}<br>odds=%{marker.size}<extra></extra>",
         "legendgroup": "Regulation of intracellular protein transport",
         "marker": {
          "color": "#FF97FF",
          "size": [
           3.3530569345677357
          ],
          "sizemode": "area",
          "sizeref": 0.04711196203214325,
          "symbol": "circle"
         },
         "mode": "markers",
         "name": "Regulation of intracellular protein transport",
         "orientation": "v",
         "showlegend": true,
         "type": "scatter",
         "x": [
          0.00040253570384056096
         ],
         "xaxis": "x",
         "y": [
          3.3530569345677357
         ],
         "yaxis": "y"
        },
        {
         "hovertemplate": "go_term=Cellular response to oxidative stress<br>fdr_bh=%{x}<br>odds=%{marker.size}<extra></extra>",
         "legendgroup": "Cellular response to oxidative stress",
         "marker": {
          "color": "#FECB52",
          "size": [
           4.213685474189676
          ],
          "sizemode": "area",
          "sizeref": 0.04711196203214325,
          "symbol": "circle"
         },
         "mode": "markers",
         "name": "Cellular response to oxidative stress",
         "orientation": "v",
         "showlegend": true,
         "type": "scatter",
         "x": [
          1.8078831393670856e-05
         ],
         "xaxis": "x",
         "y": [
          4.213685474189676
         ],
         "yaxis": "y"
        },
        {
         "hovertemplate": "go_term=Cellular response to reactive oxygen species<br>fdr_bh=%{x}<br>odds=%{marker.size}<extra></extra>",
         "legendgroup": "Cellular response to reactive oxygen species",
         "marker": {
          "color": "#636efa",
          "size": [
           7.508738461538462
          ],
          "sizemode": "area",
          "sizeref": 0.04711196203214325,
          "symbol": "circle"
         },
         "mode": "markers",
         "name": "Cellular response to reactive oxygen species",
         "orientation": "v",
         "showlegend": true,
         "type": "scatter",
         "x": [
          1.4016376799736622e-07
         ],
         "xaxis": "x",
         "y": [
          7.508738461538462
         ],
         "yaxis": "y"
        },
        {
         "hovertemplate": "go_term=Fc receptor signaling pathway<br>fdr_bh=%{x}<br>odds=%{marker.size}<extra></extra>",
         "legendgroup": "Fc receptor signaling pathway",
         "marker": {
          "color": "#EF553B",
          "size": [
           6.217646217646218
          ],
          "sizemode": "area",
          "sizeref": 0.04711196203214325,
          "symbol": "circle"
         },
         "mode": "markers",
         "name": "Fc receptor signaling pathway",
         "orientation": "v",
         "showlegend": true,
         "type": "scatter",
         "x": [
          3.7230039250140884e-07
         ],
         "xaxis": "x",
         "y": [
          6.217646217646218
         ],
         "yaxis": "y"
        },
        {
         "hovertemplate": "go_term=Fc-epsilon receptor signaling pathway<br>fdr_bh=%{x}<br>odds=%{marker.size}<extra></extra>",
         "legendgroup": "Fc-epsilon receptor signaling pathway",
         "marker": {
          "color": "#00cc96",
          "size": [
           7.020985668324071
          ],
          "sizemode": "area",
          "sizeref": 0.04711196203214325,
          "symbol": "circle"
         },
         "mode": "markers",
         "name": "Fc-epsilon receptor signaling pathway",
         "orientation": "v",
         "showlegend": true,
         "type": "scatter",
         "x": [
          4.16499037642968e-06
         ],
         "xaxis": "x",
         "y": [
          7.020985668324071
         ],
         "yaxis": "y"
        },
        {
         "hovertemplate": "go_term=ERBB signaling pathway<br>fdr_bh=%{x}<br>odds=%{marker.size}<extra></extra>",
         "legendgroup": "ERBB signaling pathway",
         "marker": {
          "color": "#ab63fa",
          "size": [
           13.821005527770465
          ],
          "sizemode": "area",
          "sizeref": 0.04711196203214325,
          "symbol": "circle"
         },
         "mode": "markers",
         "name": "ERBB signaling pathway",
         "orientation": "v",
         "showlegend": true,
         "type": "scatter",
         "x": [
          5.561982253031747e-09
         ],
         "xaxis": "x",
         "y": [
          13.821005527770465
         ],
         "yaxis": "y"
        },
        {
         "hovertemplate": "go_term=Wound healing<br>fdr_bh=%{x}<br>odds=%{marker.size}<extra></extra>",
         "legendgroup": "Wound healing",
         "marker": {
          "color": "#FFA15A",
          "size": [
           5.144995791414486
          ],
          "sizemode": "area",
          "sizeref": 0.04711196203214325,
          "symbol": "circle"
         },
         "mode": "markers",
         "name": "Wound healing",
         "orientation": "v",
         "showlegend": true,
         "type": "scatter",
         "x": [
          1.326870294930713e-10
         ],
         "xaxis": "x",
         "y": [
          5.144995791414486
         ],
         "yaxis": "y"
        },
        {
         "hovertemplate": "go_term=Gliogenesis<br>fdr_bh=%{x}<br>odds=%{marker.size}<extra></extra>",
         "legendgroup": "Gliogenesis",
         "marker": {
          "color": "#19d3f3",
          "size": [
           5.072400175515577
          ],
          "sizemode": "area",
          "sizeref": 0.04711196203214325,
          "symbol": "circle"
         },
         "mode": "markers",
         "name": "Gliogenesis",
         "orientation": "v",
         "showlegend": true,
         "type": "scatter",
         "x": [
          1.462658498308632e-06
         ],
         "xaxis": "x",
         "y": [
          5.072400175515577
         ],
         "yaxis": "y"
        },
        {
         "hovertemplate": "go_term=Positive regulation of growth<br>fdr_bh=%{x}<br>odds=%{marker.size}<extra></extra>",
         "legendgroup": "Positive regulation of growth",
         "marker": {
          "color": "#FF6692",
          "size": [
           3.944608275316937
          ],
          "sizemode": "area",
          "sizeref": 0.04711196203214325,
          "symbol": "circle"
         },
         "mode": "markers",
         "name": "Positive regulation of growth",
         "orientation": "v",
         "showlegend": true,
         "type": "scatter",
         "x": [
          3.539556054657505e-05
         ],
         "xaxis": "x",
         "y": [
          3.944608275316937
         ],
         "yaxis": "y"
        },
        {
         "hovertemplate": "go_term=Regulation of synaptic plasticity<br>fdr_bh=%{x}<br>odds=%{marker.size}<extra></extra>",
         "legendgroup": "Regulation of synaptic plasticity",
         "marker": {
          "color": "#B6E880",
          "size": [
           5.286962190352021
          ],
          "sizemode": "area",
          "sizeref": 0.04711196203214325,
          "symbol": "circle"
         },
         "mode": "markers",
         "name": "Regulation of synaptic plasticity",
         "orientation": "v",
         "showlegend": true,
         "type": "scatter",
         "x": [
          4.160498218809756e-06
         ],
         "xaxis": "x",
         "y": [
          5.286962190352021
         ],
         "yaxis": "y"
        },
        {
         "hovertemplate": "go_term=Reproductive structure development<br>fdr_bh=%{x}<br>odds=%{marker.size}<extra></extra>",
         "legendgroup": "Reproductive structure development",
         "marker": {
          "color": "#FF97FF",
          "size": [
           2.2574572127139363
          ],
          "sizemode": "area",
          "sizeref": 0.04711196203214325,
          "symbol": "circle"
         },
         "mode": "markers",
         "name": "Reproductive structure development",
         "orientation": "v",
         "showlegend": true,
         "type": "scatter",
         "x": [
          0.008154812344858611
         ],
         "xaxis": "x",
         "y": [
          2.2574572127139363
         ],
         "yaxis": "y"
        },
        {
         "hovertemplate": "go_term=Regulation of developmental growth<br>fdr_bh=%{x}<br>odds=%{marker.size}<extra></extra>",
         "legendgroup": "Regulation of developmental growth",
         "marker": {
          "color": "#FECB52",
          "size": [
           2.9002884615384614
          ],
          "sizemode": "area",
          "sizeref": 0.04711196203214325,
          "symbol": "circle"
         },
         "mode": "markers",
         "name": "Regulation of developmental growth",
         "orientation": "v",
         "showlegend": true,
         "type": "scatter",
         "x": [
          0.0008668177299902224
         ],
         "xaxis": "x",
         "y": [
          2.9002884615384614
         ],
         "yaxis": "y"
        },
        {
         "hovertemplate": "go_term=Cell morphogenesis involved in neuron differentiation<br>fdr_bh=%{x}<br>odds=%{marker.size}<extra></extra>",
         "legendgroup": "Cell morphogenesis involved in neuron differentiation",
         "marker": {
          "color": "#636efa",
          "size": [
           5.03157110361597
          ],
          "sizemode": "area",
          "sizeref": 0.04711196203214325,
          "symbol": "circle"
         },
         "mode": "markers",
         "name": "Cell morphogenesis involved in neuron differentiation",
         "orientation": "v",
         "showlegend": true,
         "type": "scatter",
         "x": [
          1.9833964788444867e-10
         ],
         "xaxis": "x",
         "y": [
          5.03157110361597
         ],
         "yaxis": "y"
        },
        {
         "hovertemplate": "go_term=Gland development<br>fdr_bh=%{x}<br>odds=%{marker.size}<extra></extra>",
         "legendgroup": "Gland development",
         "marker": {
          "color": "#EF553B",
          "size": [
           2.5158594399100727
          ],
          "sizemode": "area",
          "sizeref": 0.04711196203214325,
          "symbol": "circle"
         },
         "mode": "markers",
         "name": "Gland development",
         "orientation": "v",
         "showlegend": true,
         "type": "scatter",
         "x": [
          0.0020938637665885987
         ],
         "xaxis": "x",
         "y": [
          2.5158594399100727
         ],
         "yaxis": "y"
        },
        {
         "hovertemplate": "go_term=Neuron projection morphogenesis<br>fdr_bh=%{x}<br>odds=%{marker.size}<extra></extra>",
         "legendgroup": "Neuron projection morphogenesis",
         "marker": {
          "color": "#00cc96",
          "size": [
           5.773662099453582
          ],
          "sizemode": "area",
          "sizeref": 0.04711196203214325,
          "symbol": "circle"
         },
         "mode": "markers",
         "name": "Neuron projection morphogenesis",
         "orientation": "v",
         "showlegend": true,
         "type": "scatter",
         "x": [
          1.0463702087249112e-13
         ],
         "xaxis": "x",
         "y": [
          5.773662099453582
         ],
         "yaxis": "y"
        },
        {
         "hovertemplate": "go_term=Modulation of chemical synaptic transmission<br>fdr_bh=%{x}<br>odds=%{marker.size}<extra></extra>",
         "legendgroup": "Modulation of chemical synaptic transmission",
         "marker": {
          "color": "#ab63fa",
          "size": [
           5.245785849952517
          ],
          "sizemode": "area",
          "sizeref": 0.04711196203214325,
          "symbol": "circle"
         },
         "mode": "markers",
         "name": "Modulation of chemical synaptic transmission",
         "orientation": "v",
         "showlegend": true,
         "type": "scatter",
         "x": [
          4.740399292527751e-11
         ],
         "xaxis": "x",
         "y": [
          5.245785849952517
         ],
         "yaxis": "y"
        },
        {
         "hovertemplate": "go_term=Positive regulation of synaptic transmission<br>fdr_bh=%{x}<br>odds=%{marker.size}<extra></extra>",
         "legendgroup": "Positive regulation of synaptic transmission",
         "marker": {
          "color": "#FFA15A",
          "size": [
           6.476582604220278
          ],
          "sizemode": "area",
          "sizeref": 0.04711196203214325,
          "symbol": "circle"
         },
         "mode": "markers",
         "name": "Positive regulation of synaptic transmission",
         "orientation": "v",
         "showlegend": true,
         "type": "scatter",
         "x": [
          1.3288150971937627e-06
         ],
         "xaxis": "x",
         "y": [
          6.476582604220278
         ],
         "yaxis": "y"
        },
        {
         "hovertemplate": "go_term=Coagulation<br>fdr_bh=%{x}<br>odds=%{marker.size}<extra></extra>",
         "legendgroup": "Coagulation",
         "marker": {
          "color": "#19d3f3",
          "size": [
           3.4477433098122754
          ],
          "sizemode": "area",
          "sizeref": 0.04711196203214325,
          "symbol": "circle"
         },
         "mode": "markers",
         "name": "Coagulation",
         "orientation": "v",
         "showlegend": true,
         "type": "scatter",
         "x": [
          0.00012586622434078586
         ],
         "xaxis": "x",
         "y": [
          3.4477433098122754
         ],
         "yaxis": "y"
        },
        {
         "hovertemplate": "go_term=Regulation of dna-binding transcription factor activity<br>fdr_bh=%{x}<br>odds=%{marker.size}<extra></extra>",
         "legendgroup": "Regulation of dna-binding transcription factor activity",
         "marker": {
          "color": "#FF6692",
          "size": [
           2.523485978382957
          ],
          "sizemode": "area",
          "sizeref": 0.04711196203214325,
          "symbol": "circle"
         },
         "mode": "markers",
         "name": "Regulation of dna-binding transcription factor activity",
         "orientation": "v",
         "showlegend": true,
         "type": "scatter",
         "x": [
          0.0015087765196457493
         ],
         "xaxis": "x",
         "y": [
          2.523485978382957
         ],
         "yaxis": "y"
        },
        {
         "hovertemplate": "go_term=Mesenchyme development<br>fdr_bh=%{x}<br>odds=%{marker.size}<extra></extra>",
         "legendgroup": "Mesenchyme development",
         "marker": {
          "color": "#B6E880",
          "size": [
           3.9755725190839692
          ],
          "sizemode": "area",
          "sizeref": 0.04711196203214325,
          "symbol": "circle"
         },
         "mode": "markers",
         "name": "Mesenchyme development",
         "orientation": "v",
         "showlegend": true,
         "type": "scatter",
         "x": [
          0.0001678774702737682
         ],
         "xaxis": "x",
         "y": [
          3.9755725190839692
         ],
         "yaxis": "y"
        },
        {
         "hovertemplate": "go_term=Reproductive system development<br>fdr_bh=%{x}<br>odds=%{marker.size}<extra></extra>",
         "legendgroup": "Reproductive system development",
         "marker": {
          "color": "#FF97FF",
          "size": [
           2.2350717079530638
          ],
          "sizemode": "area",
          "sizeref": 0.04711196203214325,
          "symbol": "circle"
         },
         "mode": "markers",
         "name": "Reproductive system development",
         "orientation": "v",
         "showlegend": true,
         "type": "scatter",
         "x": [
          0.00858657924491511
         ],
         "xaxis": "x",
         "y": [
          2.2350717079530638
         ],
         "yaxis": "y"
        },
        {
         "hovertemplate": "go_term=Axon development<br>fdr_bh=%{x}<br>odds=%{marker.size}<extra></extra>",
         "legendgroup": "Axon development",
         "marker": {
          "color": "#FECB52",
          "size": [
           5.146876618667772
          ],
          "sizemode": "area",
          "sizeref": 0.04711196203214325,
          "symbol": "circle"
         },
         "mode": "markers",
         "name": "Axon development",
         "orientation": "v",
         "showlegend": true,
         "type": "scatter",
         "x": [
          2.389706084226961e-10
         ],
         "xaxis": "x",
         "y": [
          5.146876618667772
         ],
         "yaxis": "y"
        },
        {
         "hovertemplate": "go_term=Cellular response to chemical stress<br>fdr_bh=%{x}<br>odds=%{marker.size}<extra></extra>",
         "legendgroup": "Cellular response to chemical stress",
         "marker": {
          "color": "#636efa",
          "size": [
           4.545098039215686
          ],
          "sizemode": "area",
          "sizeref": 0.04711196203214325,
          "symbol": "circle"
         },
         "mode": "markers",
         "name": "Cellular response to chemical stress",
         "orientation": "v",
         "showlegend": true,
         "type": "scatter",
         "x": [
          7.782491803764583e-07
         ],
         "xaxis": "x",
         "y": [
          4.545098039215686
         ],
         "yaxis": "y"
        },
        {
         "hovertemplate": "go_term=Regulation of stress-activated protein kinase signaling cascade<br>fdr_bh=%{x}<br>odds=%{marker.size}<extra></extra>",
         "legendgroup": "Regulation of stress-activated protein kinase signaling cascade",
         "marker": {
          "color": "#EF553B",
          "size": [
           5.000757166035695
          ],
          "sizemode": "area",
          "sizeref": 0.04711196203214325,
          "symbol": "circle"
         },
         "mode": "markers",
         "name": "Regulation of stress-activated protein kinase signaling cascade",
         "orientation": "v",
         "showlegend": true,
         "type": "scatter",
         "x": [
          1.7019130456963047e-06
         ],
         "xaxis": "x",
         "y": [
          5.000757166035695
         ],
         "yaxis": "y"
        },
        {
         "hovertemplate": "go_term=Cellular response to growth factor stimulus<br>fdr_bh=%{x}<br>odds=%{marker.size}<extra></extra>",
         "legendgroup": "Cellular response to growth factor stimulus",
         "marker": {
          "color": "#00cc96",
          "size": [
           3.1569141781006187
          ],
          "sizemode": "area",
          "sizeref": 0.04711196203214325,
          "symbol": "circle"
         },
         "mode": "markers",
         "name": "Cellular response to growth factor stimulus",
         "orientation": "v",
         "showlegend": true,
         "type": "scatter",
         "x": [
          1.7207460909067924e-05
         ],
         "xaxis": "x",
         "y": [
          3.1569141781006187
         ],
         "yaxis": "y"
        },
        {
         "hovertemplate": "go_term=Cellular response to external stimulus<br>fdr_bh=%{x}<br>odds=%{marker.size}<extra></extra>",
         "legendgroup": "Cellular response to external stimulus",
         "marker": {
          "color": "#ab63fa",
          "size": [
           2.6085707807421965
          ],
          "sizemode": "area",
          "sizeref": 0.04711196203214325,
          "symbol": "circle"
         },
         "mode": "markers",
         "name": "Cellular response to external stimulus",
         "orientation": "v",
         "showlegend": true,
         "type": "scatter",
         "x": [
          0.004130020504067366
         ],
         "xaxis": "x",
         "y": [
          2.6085707807421965
         ],
         "yaxis": "y"
        },
        {
         "hovertemplate": "go_term=Positive regulation of intracellular protein transport<br>fdr_bh=%{x}<br>odds=%{marker.size}<extra></extra>",
         "legendgroup": "Positive regulation of intracellular protein transport",
         "marker": {
          "color": "#FFA15A",
          "size": [
           5.034705515459325
          ],
          "sizemode": "area",
          "sizeref": 0.04711196203214325,
          "symbol": "circle"
         },
         "mode": "markers",
         "name": "Positive regulation of intracellular protein transport",
         "orientation": "v",
         "showlegend": true,
         "type": "scatter",
         "x": [
          1.2320007252905105e-05
         ],
         "xaxis": "x",
         "y": [
          5.034705515459325
         ],
         "yaxis": "y"
        },
        {
         "hovertemplate": "go_term=Neuron projection guidance<br>fdr_bh=%{x}<br>odds=%{marker.size}<extra></extra>",
         "legendgroup": "Neuron projection guidance",
         "marker": {
          "color": "#19d3f3",
          "size": [
           5.582581012288338
          ],
          "sizemode": "area",
          "sizeref": 0.04711196203214325,
          "symbol": "circle"
         },
         "mode": "markers",
         "name": "Neuron projection guidance",
         "orientation": "v",
         "showlegend": true,
         "type": "scatter",
         "x": [
          1.4250127267505298e-08
         ],
         "xaxis": "x",
         "y": [
          5.582581012288338
         ],
         "yaxis": "y"
        },
        {
         "hovertemplate": "go_term=Regulation of trans-synaptic signaling<br>fdr_bh=%{x}<br>odds=%{marker.size}<extra></extra>",
         "legendgroup": "Regulation of trans-synaptic signaling",
         "marker": {
          "color": "#FF6692",
          "size": [
           5.232900099673348
          ],
          "sizemode": "area",
          "sizeref": 0.04711196203214325,
          "symbol": "circle"
         },
         "mode": "markers",
         "name": "Regulation of trans-synaptic signaling",
         "orientation": "v",
         "showlegend": true,
         "type": "scatter",
         "x": [
          4.740399292527751e-11
         ],
         "xaxis": "x",
         "y": [
          5.232900099673348
         ],
         "yaxis": "y"
        },
        {
         "hovertemplate": "go_term=Small gtpase mediated signal transduction<br>fdr_bh=%{x}<br>odds=%{marker.size}<extra></extra>",
         "legendgroup": "Small gtpase mediated signal transduction",
         "marker": {
          "color": "#B6E880",
          "size": [
           9.08188385662684
          ],
          "sizemode": "area",
          "sizeref": 0.04711196203214325,
          "symbol": "circle"
         },
         "mode": "markers",
         "name": "Small gtpase mediated signal transduction",
         "orientation": "v",
         "showlegend": true,
         "type": "scatter",
         "x": [
          1.224390600385234e-19
         ],
         "xaxis": "x",
         "y": [
          9.08188385662684
         ],
         "yaxis": "y"
        },
        {
         "hovertemplate": "go_term=Ras protein signal transduction<br>fdr_bh=%{x}<br>odds=%{marker.size}<extra></extra>",
         "legendgroup": "Ras protein signal transduction",
         "marker": {
          "color": "#FF97FF",
          "size": [
           11.51179155572461
          ],
          "sizemode": "area",
          "sizeref": 0.04711196203214325,
          "symbol": "circle"
         },
         "mode": "markers",
         "name": "Ras protein signal transduction",
         "orientation": "v",
         "showlegend": true,
         "type": "scatter",
         "x": [
          8.520653768331626e-21
         ],
         "xaxis": "x",
         "y": [
          11.51179155572461
         ],
         "yaxis": "y"
        },
        {
         "hovertemplate": "go_term=Endomembrane system organization<br>fdr_bh=%{x}<br>odds=%{marker.size}<extra></extra>",
         "legendgroup": "Endomembrane system organization",
         "marker": {
          "color": "#FECB52",
          "size": [
           3.1870218350365778
          ],
          "sizemode": "area",
          "sizeref": 0.04711196203214325,
          "symbol": "circle"
         },
         "mode": "markers",
         "name": "Endomembrane system organization",
         "orientation": "v",
         "showlegend": true,
         "type": "scatter",
         "x": [
          3.455931481507827e-05
         ],
         "xaxis": "x",
         "y": [
          3.1870218350365778
         ],
         "yaxis": "y"
        },
        {
         "hovertemplate": "go_term=Rab protein signal transduction<br>fdr_bh=%{x}<br>odds=%{marker.size}<extra></extra>",
         "legendgroup": "Rab protein signal transduction",
         "marker": {
          "color": "#636efa",
          "size": [
           18.8447848128573
          ],
          "sizemode": "area",
          "sizeref": 0.04711196203214325,
          "symbol": "circle"
         },
         "mode": "markers",
         "name": "Rab protein signal transduction",
         "orientation": "v",
         "showlegend": true,
         "type": "scatter",
         "x": [
          9.920862003419724e-16
         ],
         "xaxis": "x",
         "y": [
          18.8447848128573
         ],
         "yaxis": "y"
        },
        {
         "hovertemplate": "go_term=Regulation of neurotransmitter transport<br>fdr_bh=%{x}<br>odds=%{marker.size}<extra></extra>",
         "legendgroup": "Regulation of neurotransmitter transport",
         "marker": {
          "color": "#EF553B",
          "size": [
           7.401187446988974
          ],
          "sizemode": "area",
          "sizeref": 0.04711196203214325,
          "symbol": "circle"
         },
         "mode": "markers",
         "name": "Regulation of neurotransmitter transport",
         "orientation": "v",
         "showlegend": true,
         "type": "scatter",
         "x": [
          1.046027284554359e-06
         ],
         "xaxis": "x",
         "y": [
          7.401187446988974
         ],
         "yaxis": "y"
        },
        {
         "hovertemplate": "go_term=Regulation of wound healing<br>fdr_bh=%{x}<br>odds=%{marker.size}<extra></extra>",
         "legendgroup": "Regulation of wound healing",
         "marker": {
          "color": "#00cc96",
          "size": [
           6.237595419847328
          ],
          "sizemode": "area",
          "sizeref": 0.04711196203214325,
          "symbol": "circle"
         },
         "mode": "markers",
         "name": "Regulation of wound healing",
         "orientation": "v",
         "showlegend": true,
         "type": "scatter",
         "x": [
          4.3979466861879685e-06
         ],
         "xaxis": "x",
         "y": [
          6.237595419847328
         ],
         "yaxis": "y"
        },
        {
         "hovertemplate": "go_term=Protein localization to plasma membrane<br>fdr_bh=%{x}<br>odds=%{marker.size}<extra></extra>",
         "legendgroup": "Protein localization to plasma membrane",
         "marker": {
          "color": "#ab63fa",
          "size": [
           4.301629874148958
          ],
          "sizemode": "area",
          "sizeref": 0.04711196203214325,
          "symbol": "circle"
         },
         "mode": "markers",
         "name": "Protein localization to plasma membrane",
         "orientation": "v",
         "showlegend": true,
         "type": "scatter",
         "x": [
          9.259416912447456e-05
         ],
         "xaxis": "x",
         "y": [
          4.301629874148958
         ],
         "yaxis": "y"
        },
        {
         "hovertemplate": "go_term=Regulation of synaptic vesicle cycle<br>fdr_bh=%{x}<br>odds=%{marker.size}<extra></extra>",
         "legendgroup": "Regulation of synaptic vesicle cycle",
         "marker": {
          "color": "#FFA15A",
          "size": [
           7.089556646609325
          ],
          "sizemode": "area",
          "sizeref": 0.04711196203214325,
          "symbol": "circle"
         },
         "mode": "markers",
         "name": "Regulation of synaptic vesicle cycle",
         "orientation": "v",
         "showlegend": true,
         "type": "scatter",
         "x": [
          3.899134442718025e-06
         ],
         "xaxis": "x",
         "y": [
          7.089556646609325
         ],
         "yaxis": "y"
        },
        {
         "hovertemplate": "go_term=Regulation of response to wounding<br>fdr_bh=%{x}<br>odds=%{marker.size}<extra></extra>",
         "legendgroup": "Regulation of response to wounding",
         "marker": {
          "color": "#19d3f3",
          "size": [
           5.556194125159642
          ],
          "sizemode": "area",
          "sizeref": 0.04711196203214325,
          "symbol": "circle"
         },
         "mode": "markers",
         "name": "Regulation of response to wounding",
         "orientation": "v",
         "showlegend": true,
         "type": "scatter",
         "x": [
          5.170171906174994e-06
         ],
         "xaxis": "x",
         "y": [
          5.556194125159642
         ],
         "yaxis": "y"
        },
        {
         "hovertemplate": "go_term=Protein localization to cell periphery<br>fdr_bh=%{x}<br>odds=%{marker.size}<extra></extra>",
         "legendgroup": "Protein localization to cell periphery",
         "marker": {
          "color": "#FF6692",
          "size": [
           4.440496121912051
          ],
          "sizemode": "area",
          "sizeref": 0.04711196203214325,
          "symbol": "circle"
         },
         "mode": "markers",
         "name": "Protein localization to cell periphery",
         "orientation": "v",
         "showlegend": true,
         "type": "scatter",
         "x": [
          1.0821623790390405e-05
         ],
         "xaxis": "x",
         "y": [
          4.440496121912051
         ],
         "yaxis": "y"
        },
        {
         "hovertemplate": "go_term=Protein folding<br>fdr_bh=%{x}<br>odds=%{marker.size}<extra></extra>",
         "legendgroup": "Protein folding",
         "marker": {
          "color": "#B6E880",
          "size": [
           3.194686756542427
          ],
          "sizemode": "area",
          "sizeref": 0.04711196203214325,
          "symbol": "circle"
         },
         "mode": "markers",
         "name": "Protein folding",
         "orientation": "v",
         "showlegend": true,
         "type": "scatter",
         "x": [
          0.00039111513870041106
         ],
         "xaxis": "x",
         "y": [
          3.194686756542427
         ],
         "yaxis": "y"
        },
        {
         "hovertemplate": "go_term=Antigen processing and presentation<br>fdr_bh=%{x}<br>odds=%{marker.size}<extra></extra>",
         "legendgroup": "Antigen processing and presentation",
         "marker": {
          "color": "#FF97FF",
          "size": [
           5.680856801633471
          ],
          "sizemode": "area",
          "sizeref": 0.04711196203214325,
          "symbol": "circle"
         },
         "mode": "markers",
         "name": "Antigen processing and presentation",
         "orientation": "v",
         "showlegend": true,
         "type": "scatter",
         "x": [
          2.1581414640635662e-07
         ],
         "xaxis": "x",
         "y": [
          5.680856801633471
         ],
         "yaxis": "y"
        },
        {
         "hovertemplate": "go_term=G protein-coupled receptor signaling pathway, coupled to cyclic nucleotide second messenger<br>fdr_bh=%{x}<br>odds=%{marker.size}<extra></extra>",
         "legendgroup": "G protein-coupled receptor signaling pathway, coupled to cyclic nucleotide second messenger",
         "marker": {
          "color": "#FECB52",
          "size": [
           4.511497622304736
          ],
          "sizemode": "area",
          "sizeref": 0.04711196203214325,
          "symbol": "circle"
         },
         "mode": "markers",
         "name": "G protein-coupled receptor signaling pathway, coupled to cyclic nucleotide second messenger",
         "orientation": "v",
         "showlegend": true,
         "type": "scatter",
         "x": [
          5.098614670353954e-06
         ],
         "xaxis": "x",
         "y": [
          4.511497622304736
         ],
         "yaxis": "y"
        },
        {
         "hovertemplate": "go_term=Adenylate cyclase-modulating g protein-coupled receptor signaling pathway<br>fdr_bh=%{x}<br>odds=%{marker.size}<extra></extra>",
         "legendgroup": "Adenylate cyclase-modulating g protein-coupled receptor signaling pathway",
         "marker": {
          "color": "#636efa",
          "size": [
           4.80639559586928
          ],
          "sizemode": "area",
          "sizeref": 0.04711196203214325,
          "symbol": "circle"
         },
         "mode": "markers",
         "name": "Adenylate cyclase-modulating g protein-coupled receptor signaling pathway",
         "orientation": "v",
         "showlegend": true,
         "type": "scatter",
         "x": [
          5.054717910135645e-06
         ],
         "xaxis": "x",
         "y": [
          4.80639559586928
         ],
         "yaxis": "y"
        },
        {
         "hovertemplate": "go_term=Cellular response to abiotic stimulus<br>fdr_bh=%{x}<br>odds=%{marker.size}<extra></extra>",
         "legendgroup": "Cellular response to abiotic stimulus",
         "marker": {
          "color": "#EF553B",
          "size": [
           3.0763627101375444
          ],
          "sizemode": "area",
          "sizeref": 0.04711196203214325,
          "symbol": "circle"
         },
         "mode": "markers",
         "name": "Cellular response to abiotic stimulus",
         "orientation": "v",
         "showlegend": true,
         "type": "scatter",
         "x": [
          0.0005250491597375758
         ],
         "xaxis": "x",
         "y": [
          3.0763627101375444
         ],
         "yaxis": "y"
        },
        {
         "hovertemplate": "go_term=Cellular response to environmental stimulus<br>fdr_bh=%{x}<br>odds=%{marker.size}<extra></extra>",
         "legendgroup": "Cellular response to environmental stimulus",
         "marker": {
          "color": "#00cc96",
          "size": [
           3.0763627101375444
          ],
          "sizemode": "area",
          "sizeref": 0.04711196203214325,
          "symbol": "circle"
         },
         "mode": "markers",
         "name": "Cellular response to environmental stimulus",
         "orientation": "v",
         "showlegend": true,
         "type": "scatter",
         "x": [
          0.0005250491597375758
         ],
         "xaxis": "x",
         "y": [
          3.0763627101375444
         ],
         "yaxis": "y"
        },
        {
         "hovertemplate": "go_term=Calcium ion transport<br>fdr_bh=%{x}<br>odds=%{marker.size}<extra></extra>",
         "legendgroup": "Calcium ion transport",
         "marker": {
          "color": "#ab63fa",
          "size": [
           5.649497370140986
          ],
          "sizemode": "area",
          "sizeref": 0.04711196203214325,
          "symbol": "circle"
         },
         "mode": "markers",
         "name": "Calcium ion transport",
         "orientation": "v",
         "showlegend": true,
         "type": "scatter",
         "x": [
          1.2923995614952275e-08
         ],
         "xaxis": "x",
         "y": [
          5.649497370140986
         ],
         "yaxis": "y"
        },
        {
         "hovertemplate": "go_term=Cellular calcium ion homeostasis<br>fdr_bh=%{x}<br>odds=%{marker.size}<extra></extra>",
         "legendgroup": "Cellular calcium ion homeostasis",
         "marker": {
          "color": "#FFA15A",
          "size": [
           3.0969318490361117
          ],
          "sizemode": "area",
          "sizeref": 0.04711196203214325,
          "symbol": "circle"
         },
         "mode": "markers",
         "name": "Cellular calcium ion homeostasis",
         "orientation": "v",
         "showlegend": true,
         "type": "scatter",
         "x": [
          4.785745176556898e-05
         ],
         "xaxis": "x",
         "y": [
          3.0969318490361117
         ],
         "yaxis": "y"
        },
        {
         "hovertemplate": "go_term=Regulation of heart contraction<br>fdr_bh=%{x}<br>odds=%{marker.size}<extra></extra>",
         "legendgroup": "Regulation of heart contraction",
         "marker": {
          "color": "#19d3f3",
          "size": [
           3.376644469709274
          ],
          "sizemode": "area",
          "sizeref": 0.04711196203214325,
          "symbol": "circle"
         },
         "mode": "markers",
         "name": "Regulation of heart contraction",
         "orientation": "v",
         "showlegend": true,
         "type": "scatter",
         "x": [
          0.0005931030736418996
         ],
         "xaxis": "x",
         "y": [
          3.376644469709274
         ],
         "yaxis": "y"
        },
        {
         "hovertemplate": "go_term=Regulation of membrane potential<br>fdr_bh=%{x}<br>odds=%{marker.size}<extra></extra>",
         "legendgroup": "Regulation of membrane potential",
         "marker": {
          "color": "#FF6692",
          "size": [
           3.0234736548647896
          ],
          "sizemode": "area",
          "sizeref": 0.04711196203214325,
          "symbol": "circle"
         },
         "mode": "markers",
         "name": "Regulation of membrane potential",
         "orientation": "v",
         "showlegend": true,
         "type": "scatter",
         "x": [
          9.27989848661003e-05
         ],
         "xaxis": "x",
         "y": [
          3.0234736548647896
         ],
         "yaxis": "y"
        },
        {
         "hovertemplate": "go_term=Regulation of cytosolic calcium ion concentration<br>fdr_bh=%{x}<br>odds=%{marker.size}<extra></extra>",
         "legendgroup": "Regulation of cytosolic calcium ion concentration",
         "marker": {
          "color": "#B6E880",
          "size": [
           3.0415999623316696
          ],
          "sizemode": "area",
          "sizeref": 0.04711196203214325,
          "symbol": "circle"
         },
         "mode": "markers",
         "name": "Regulation of cytosolic calcium ion concentration",
         "orientation": "v",
         "showlegend": true,
         "type": "scatter",
         "x": [
          0.00039974068832017353
         ],
         "xaxis": "x",
         "y": [
          3.0415999623316696
         ],
         "yaxis": "y"
        },
        {
         "hovertemplate": "go_term=Calcium ion homeostasis<br>fdr_bh=%{x}<br>odds=%{marker.size}<extra></extra>",
         "legendgroup": "Calcium ion homeostasis",
         "marker": {
          "color": "#FF97FF",
          "size": [
           3.0047806524184475
          ],
          "sizemode": "area",
          "sizeref": 0.04711196203214325,
          "symbol": "circle"
         },
         "mode": "markers",
         "name": "Calcium ion homeostasis",
         "orientation": "v",
         "showlegend": true,
         "type": "scatter",
         "x": [
          6.793356910240194e-05
         ],
         "xaxis": "x",
         "y": [
          3.0047806524184475
         ],
         "yaxis": "y"
        },
        {
         "hovertemplate": "go_term=Calcium ion transmembrane transport<br>fdr_bh=%{x}<br>odds=%{marker.size}<extra></extra>",
         "legendgroup": "Calcium ion transmembrane transport",
         "marker": {
          "color": "#FECB52",
          "size": [
           5.569264478108118
          ],
          "sizemode": "area",
          "sizeref": 0.04711196203214325,
          "symbol": "circle"
         },
         "mode": "markers",
         "name": "Calcium ion transmembrane transport",
         "orientation": "v",
         "showlegend": true,
         "type": "scatter",
         "x": [
          2.6910743960809e-07
         ],
         "xaxis": "x",
         "y": [
          5.569264478108118
         ],
         "yaxis": "y"
        },
        {
         "hovertemplate": "go_term=Divalent metal ion transport<br>fdr_bh=%{x}<br>odds=%{marker.size}<extra></extra>",
         "legendgroup": "Divalent metal ion transport",
         "marker": {
          "color": "#636efa",
          "size": [
           4.613948744103022
          ],
          "sizemode": "area",
          "sizeref": 0.04711196203214325,
          "symbol": "circle"
         },
         "mode": "markers",
         "name": "Divalent metal ion transport",
         "orientation": "v",
         "showlegend": true,
         "type": "scatter",
         "x": [
          2.0480277134954638e-07
         ],
         "xaxis": "x",
         "y": [
          4.613948744103022
         ],
         "yaxis": "y"
        },
        {
         "hovertemplate": "go_term=Cellular divalent inorganic cation homeostasis<br>fdr_bh=%{x}<br>odds=%{marker.size}<extra></extra>",
         "legendgroup": "Cellular divalent inorganic cation homeostasis",
         "marker": {
          "color": "#EF553B",
          "size": [
           2.8856746983880233
          ],
          "sizemode": "area",
          "sizeref": 0.04711196203214325,
          "symbol": "circle"
         },
         "mode": "markers",
         "name": "Cellular divalent inorganic cation homeostasis",
         "orientation": "v",
         "showlegend": true,
         "type": "scatter",
         "x": [
          0.00010929109381871292
         ],
         "xaxis": "x",
         "y": [
          2.8856746983880233
         ],
         "yaxis": "y"
        },
        {
         "hovertemplate": "go_term=Divalent inorganic cation transport<br>fdr_bh=%{x}<br>odds=%{marker.size}<extra></extra>",
         "legendgroup": "Divalent inorganic cation transport",
         "marker": {
          "color": "#00cc96",
          "size": [
           4.4957864121112685
          ],
          "sizemode": "area",
          "sizeref": 0.04711196203214325,
          "symbol": "circle"
         },
         "mode": "markers",
         "name": "Divalent inorganic cation transport",
         "orientation": "v",
         "showlegend": true,
         "type": "scatter",
         "x": [
          2.7353716235094425e-07
         ],
         "xaxis": "x",
         "y": [
          4.4957864121112685
         ],
         "yaxis": "y"
        },
        {
         "hovertemplate": "go_term=Regulation of blood circulation<br>fdr_bh=%{x}<br>odds=%{marker.size}<extra></extra>",
         "legendgroup": "Regulation of blood circulation",
         "marker": {
          "color": "#ab63fa",
          "size": [
           3.0624207469219127
          ],
          "sizemode": "area",
          "sizeref": 0.04711196203214325,
          "symbol": "circle"
         },
         "mode": "markers",
         "name": "Regulation of blood circulation",
         "orientation": "v",
         "showlegend": true,
         "type": "scatter",
         "x": [
          0.000825272591258616
         ],
         "xaxis": "x",
         "y": [
          3.0624207469219127
         ],
         "yaxis": "y"
        },
        {
         "hovertemplate": "go_term=Establishment or maintenance of cell polarity<br>fdr_bh=%{x}<br>odds=%{marker.size}<extra></extra>",
         "legendgroup": "Establishment or maintenance of cell polarity",
         "marker": {
          "color": "#FFA15A",
          "size": [
           3.8038938546373897
          ],
          "sizemode": "area",
          "sizeref": 0.04711196203214325,
          "symbol": "circle"
         },
         "mode": "markers",
         "name": "Establishment or maintenance of cell polarity",
         "orientation": "v",
         "showlegend": true,
         "type": "scatter",
         "x": [
          0.00041064273711722237
         ],
         "xaxis": "x",
         "y": [
          3.8038938546373897
         ],
         "yaxis": "y"
        },
        {
         "hovertemplate": "go_term=Regulation of cell growth<br>fdr_bh=%{x}<br>odds=%{marker.size}<extra></extra>",
         "legendgroup": "Regulation of cell growth",
         "marker": {
          "color": "#19d3f3",
          "size": [
           3.521093413689195
          ],
          "sizemode": "area",
          "sizeref": 0.04711196203214325,
          "symbol": "circle"
         },
         "mode": "markers",
         "name": "Regulation of cell growth",
         "orientation": "v",
         "showlegend": true,
         "type": "scatter",
         "x": [
          6.447079375707016e-06
         ],
         "xaxis": "x",
         "y": [
          3.521093413689195
         ],
         "yaxis": "y"
        },
        {
         "hovertemplate": "go_term=Receptor-mediated endocytosis<br>fdr_bh=%{x}<br>odds=%{marker.size}<extra></extra>",
         "legendgroup": "Receptor-mediated endocytosis",
         "marker": {
          "color": "#FF6692",
          "size": [
           8.58399209486166
          ],
          "sizemode": "area",
          "sizeref": 0.04711196203214325,
          "symbol": "circle"
         },
         "mode": "markers",
         "name": "Receptor-mediated endocytosis",
         "orientation": "v",
         "showlegend": true,
         "type": "scatter",
         "x": [
          3.075139487071895e-11
         ],
         "xaxis": "x",
         "y": [
          8.58399209486166
         ],
         "yaxis": "y"
        },
        {
         "hovertemplate": "go_term=Negative regulation of cell adhesion<br>fdr_bh=%{x}<br>odds=%{marker.size}<extra></extra>",
         "legendgroup": "Negative regulation of cell adhesion",
         "marker": {
          "color": "#B6E880",
          "size": [
           2.688778322755735
          ],
          "sizemode": "area",
          "sizeref": 0.04711196203214325,
          "symbol": "circle"
         },
         "mode": "markers",
         "name": "Negative regulation of cell adhesion",
         "orientation": "v",
         "showlegend": true,
         "type": "scatter",
         "x": [
          0.004725248976556221
         ],
         "xaxis": "x",
         "y": [
          2.688778322755735
         ],
         "yaxis": "y"
        },
        {
         "hovertemplate": "go_term=Positive regulation of cytosolic calcium ion concentration<br>fdr_bh=%{x}<br>odds=%{marker.size}<extra></extra>",
         "legendgroup": "Positive regulation of cytosolic calcium ion concentration",
         "marker": {
          "color": "#FF97FF",
          "size": [
           2.997356722335696
          ],
          "sizemode": "area",
          "sizeref": 0.04711196203214325,
          "symbol": "circle"
         },
         "mode": "markers",
         "name": "Positive regulation of cytosolic calcium ion concentration",
         "orientation": "v",
         "showlegend": true,
         "type": "scatter",
         "x": [
          0.0009760970810274185
         ],
         "xaxis": "x",
         "y": [
          2.997356722335696
         ],
         "yaxis": "y"
        },
        {
         "hovertemplate": "go_term=Positive regulation of catabolic process<br>fdr_bh=%{x}<br>odds=%{marker.size}<extra></extra>",
         "legendgroup": "Positive regulation of catabolic process",
         "marker": {
          "color": "#FECB52",
          "size": [
           2.2991474549765423
          ],
          "sizemode": "area",
          "sizeref": 0.04711196203214325,
          "symbol": "circle"
         },
         "mode": "markers",
         "name": "Positive regulation of catabolic process",
         "orientation": "v",
         "showlegend": true,
         "type": "scatter",
         "x": [
          0.004117126815053951
         ],
         "xaxis": "x",
         "y": [
          2.2991474549765423
         ],
         "yaxis": "y"
        },
        {
         "hovertemplate": "go_term=Negative regulation of cell development<br>fdr_bh=%{x}<br>odds=%{marker.size}<extra></extra>",
         "legendgroup": "Negative regulation of cell development",
         "marker": {
          "color": "#636efa",
          "size": [
           2.4833645398242834
          ],
          "sizemode": "area",
          "sizeref": 0.04711196203214325,
          "symbol": "circle"
         },
         "mode": "markers",
         "name": "Negative regulation of cell development",
         "orientation": "v",
         "showlegend": true,
         "type": "scatter",
         "x": [
          0.005841327591167259
         ],
         "xaxis": "x",
         "y": [
          2.4833645398242834
         ],
         "yaxis": "y"
        },
        {
         "hovertemplate": "go_term=Regulation of cell morphogenesis involved in differentiation<br>fdr_bh=%{x}<br>odds=%{marker.size}<extra></extra>",
         "legendgroup": "Regulation of cell morphogenesis involved in differentiation",
         "marker": {
          "color": "#EF553B",
          "size": [
           3.8959509169864943
          ],
          "sizemode": "area",
          "sizeref": 0.04711196203214325,
          "symbol": "circle"
         },
         "mode": "markers",
         "name": "Regulation of cell morphogenesis involved in differentiation",
         "orientation": "v",
         "showlegend": true,
         "type": "scatter",
         "x": [
          1.3272245988138043e-05
         ],
         "xaxis": "x",
         "y": [
          3.8959509169864943
         ],
         "yaxis": "y"
        },
        {
         "hovertemplate": "go_term=Positive regulation of cell morphogenesis involved in differentiation<br>fdr_bh=%{x}<br>odds=%{marker.size}<extra></extra>",
         "legendgroup": "Positive regulation of cell morphogenesis involved in differentiation",
         "marker": {
          "color": "#00cc96",
          "size": [
           4.921231117048608
          ],
          "sizemode": "area",
          "sizeref": 0.04711196203214325,
          "symbol": "circle"
         },
         "mode": "markers",
         "name": "Positive regulation of cell morphogenesis involved in differentiation",
         "orientation": "v",
         "showlegend": true,
         "type": "scatter",
         "x": [
          6.134978985180864e-05
         ],
         "xaxis": "x",
         "y": [
          4.921231117048608
         ],
         "yaxis": "y"
        },
        {
         "hovertemplate": "go_term=Telencephalon development<br>fdr_bh=%{x}<br>odds=%{marker.size}<extra></extra>",
         "legendgroup": "Telencephalon development",
         "marker": {
          "color": "#ab63fa",
          "size": [
           3.2236082666170174
          ],
          "sizemode": "area",
          "sizeref": 0.04711196203214325,
          "symbol": "circle"
         },
         "mode": "markers",
         "name": "Telencephalon development",
         "orientation": "v",
         "showlegend": true,
         "type": "scatter",
         "x": [
          0.0008453048732323948
         ],
         "xaxis": "x",
         "y": [
          3.2236082666170174
         ],
         "yaxis": "y"
        },
        {
         "hovertemplate": "go_term=Positive regulation of cell growth<br>fdr_bh=%{x}<br>odds=%{marker.size}<extra></extra>",
         "legendgroup": "Positive regulation of cell growth",
         "marker": {
          "color": "#FFA15A",
          "size": [
           4.949694182352662
          ],
          "sizemode": "area",
          "sizeref": 0.04711196203214325,
          "symbol": "circle"
         },
         "mode": "markers",
         "name": "Positive regulation of cell growth",
         "orientation": "v",
         "showlegend": true,
         "type": "scatter",
         "x": [
          2.956125813658113e-05
         ],
         "xaxis": "x",
         "y": [
          4.949694182352662
         ],
         "yaxis": "y"
        },
        {
         "hovertemplate": "go_term=Forebrain development<br>fdr_bh=%{x}<br>odds=%{marker.size}<extra></extra>",
         "legendgroup": "Forebrain development",
         "marker": {
          "color": "#19d3f3",
          "size": [
           2.8640493456697507
          ],
          "sizemode": "area",
          "sizeref": 0.04711196203214325,
          "symbol": "circle"
         },
         "mode": "markers",
         "name": "Forebrain development",
         "orientation": "v",
         "showlegend": true,
         "type": "scatter",
         "x": [
          0.0004727107553676671
         ],
         "xaxis": "x",
         "y": [
          2.8640493456697507
         ],
         "yaxis": "y"
        },
        {
         "hovertemplate": "go_term=Regulation of actin cytoskeleton organization<br>fdr_bh=%{x}<br>odds=%{marker.size}<extra></extra>",
         "legendgroup": "Regulation of actin cytoskeleton organization",
         "marker": {
          "color": "#FF6692",
          "size": [
           3.7593582887700534
          ],
          "sizemode": "area",
          "sizeref": 0.04711196203214325,
          "symbol": "circle"
         },
         "mode": "markers",
         "name": "Regulation of actin cytoskeleton organization",
         "orientation": "v",
         "showlegend": true,
         "type": "scatter",
         "x": [
          7.382304214382514e-06
         ],
         "xaxis": "x",
         "y": [
          3.7593582887700534
         ],
         "yaxis": "y"
        },
        {
         "hovertemplate": "go_term=Regulation of actin filament-based process<br>fdr_bh=%{x}<br>odds=%{marker.size}<extra></extra>",
         "legendgroup": "Regulation of actin filament-based process",
         "marker": {
          "color": "#B6E880",
          "size": [
           3.5375355567465063
          ],
          "sizemode": "area",
          "sizeref": 0.04711196203214325,
          "symbol": "circle"
         },
         "mode": "markers",
         "name": "Regulation of actin filament-based process",
         "orientation": "v",
         "showlegend": true,
         "type": "scatter",
         "x": [
          9.538502009744498e-06
         ],
         "xaxis": "x",
         "y": [
          3.5375355567465063
         ],
         "yaxis": "y"
        },
        {
         "hovertemplate": "go_term=Regulation of protein catabolic process<br>fdr_bh=%{x}<br>odds=%{marker.size}<extra></extra>",
         "legendgroup": "Regulation of protein catabolic process",
         "marker": {
          "color": "#FF97FF",
          "size": [
           2.5735683315502
          ],
          "sizemode": "area",
          "sizeref": 0.04711196203214325,
          "symbol": "circle"
         },
         "mode": "markers",
         "name": "Regulation of protein catabolic process",
         "orientation": "v",
         "showlegend": true,
         "type": "scatter",
         "x": [
          0.0012562884849088825
         ],
         "xaxis": "x",
         "y": [
          2.5735683315502
         ],
         "yaxis": "y"
        },
        {
         "hovertemplate": "go_term=Receptor metabolic process<br>fdr_bh=%{x}<br>odds=%{marker.size}<extra></extra>",
         "legendgroup": "Receptor metabolic process",
         "marker": {
          "color": "#FECB52",
          "size": [
           8.602314700812608
          ],
          "sizemode": "area",
          "sizeref": 0.04711196203214325,
          "symbol": "circle"
         },
         "mode": "markers",
         "name": "Receptor metabolic process",
         "orientation": "v",
         "showlegend": true,
         "type": "scatter",
         "x": [
          2.824227290622976e-07
         ],
         "xaxis": "x",
         "y": [
          8.602314700812608
         ],
         "yaxis": "y"
        },
        {
         "hovertemplate": "go_term=Positive regulation of protein catabolic process<br>fdr_bh=%{x}<br>odds=%{marker.size}<extra></extra>",
         "legendgroup": "Positive regulation of protein catabolic process",
         "marker": {
          "color": "#636efa",
          "size": [
           3.0315318898452044
          ],
          "sizemode": "area",
          "sizeref": 0.04711196203214325,
          "symbol": "circle"
         },
         "mode": "markers",
         "name": "Positive regulation of protein catabolic process",
         "orientation": "v",
         "showlegend": true,
         "type": "scatter",
         "x": [
          0.002063392048494943
         ],
         "xaxis": "x",
         "y": [
          3.0315318898452044
         ],
         "yaxis": "y"
        },
        {
         "hovertemplate": "go_term=Regulation of hormone secretion<br>fdr_bh=%{x}<br>odds=%{marker.size}<extra></extra>",
         "legendgroup": "Regulation of hormone secretion",
         "marker": {
          "color": "#EF553B",
          "size": [
           3.960428525645917
          ],
          "sizemode": "area",
          "sizeref": 0.04711196203214325,
          "symbol": "circle"
         },
         "mode": "markers",
         "name": "Regulation of hormone secretion",
         "orientation": "v",
         "showlegend": true,
         "type": "scatter",
         "x": [
          3.433980355798436e-05
         ],
         "xaxis": "x",
         "y": [
          3.960428525645917
         ],
         "yaxis": "y"
        },
        {
         "hovertemplate": "go_term=Blood vessel morphogenesis<br>fdr_bh=%{x}<br>odds=%{marker.size}<extra></extra>",
         "legendgroup": "Blood vessel morphogenesis",
         "marker": {
          "color": "#00cc96",
          "size": [
           3.660068890537204
          ],
          "sizemode": "area",
          "sizeref": 0.04711196203214325,
          "symbol": "circle"
         },
         "mode": "markers",
         "name": "Blood vessel morphogenesis",
         "orientation": "v",
         "showlegend": true,
         "type": "scatter",
         "x": [
          4.16499037642968e-06
         ],
         "xaxis": "x",
         "y": [
          3.660068890537204
         ],
         "yaxis": "y"
        },
        {
         "hovertemplate": "go_term=Negative regulation of neurogenesis<br>fdr_bh=%{x}<br>odds=%{marker.size}<extra></extra>",
         "legendgroup": "Negative regulation of neurogenesis",
         "marker": {
          "color": "#ab63fa",
          "size": [
           2.619523888245991
          ],
          "sizemode": "area",
          "sizeref": 0.04711196203214325,
          "symbol": "circle"
         },
         "mode": "markers",
         "name": "Negative regulation of neurogenesis",
         "orientation": "v",
         "showlegend": true,
         "type": "scatter",
         "x": [
          0.005629641506616779
         ],
         "xaxis": "x",
         "y": [
          2.619523888245991
         ],
         "yaxis": "y"
        },
        {
         "hovertemplate": "go_term=Regulation of axonogenesis<br>fdr_bh=%{x}<br>odds=%{marker.size}<extra></extra>",
         "legendgroup": "Regulation of axonogenesis",
         "marker": {
          "color": "#FFA15A",
          "size": [
           4.523941707147814
          ],
          "sizemode": "area",
          "sizeref": 0.04711196203214325,
          "symbol": "circle"
         },
         "mode": "markers",
         "name": "Regulation of axonogenesis",
         "orientation": "v",
         "showlegend": true,
         "type": "scatter",
         "x": [
          6.086671554550615e-05
         ],
         "xaxis": "x",
         "y": [
          4.523941707147814
         ],
         "yaxis": "y"
        },
        {
         "hovertemplate": "go_term=Regulation of insulin secretion<br>fdr_bh=%{x}<br>odds=%{marker.size}<extra></extra>",
         "legendgroup": "Regulation of insulin secretion",
         "marker": {
          "color": "#19d3f3",
          "size": [
           4.68522676246071
          ],
          "sizemode": "area",
          "sizeref": 0.04711196203214325,
          "symbol": "circle"
         },
         "mode": "markers",
         "name": "Regulation of insulin secretion",
         "orientation": "v",
         "showlegend": true,
         "type": "scatter",
         "x": [
          4.6495893630471773e-05
         ],
         "xaxis": "x",
         "y": [
          4.68522676246071
         ],
         "yaxis": "y"
        },
        {
         "hovertemplate": "go_term=Negative regulation of nervous system development<br>fdr_bh=%{x}<br>odds=%{marker.size}<extra></extra>",
         "legendgroup": "Negative regulation of nervous system development",
         "marker": {
          "color": "#FF6692",
          "size": [
           3.1077694880370466
          ],
          "sizemode": "area",
          "sizeref": 0.04711196203214325,
          "symbol": "circle"
         },
         "mode": "markers",
         "name": "Negative regulation of nervous system development",
         "orientation": "v",
         "showlegend": true,
         "type": "scatter",
         "x": [
          0.0004861204125134621
         ],
         "xaxis": "x",
         "y": [
          3.1077694880370466
         ],
         "yaxis": "y"
        },
        {
         "hovertemplate": "go_term=Regulation of peptide hormone secretion<br>fdr_bh=%{x}<br>odds=%{marker.size}<extra></extra>",
         "legendgroup": "Regulation of peptide hormone secretion",
         "marker": {
          "color": "#B6E880",
          "size": [
           4.649253731343284
          ],
          "sizemode": "area",
          "sizeref": 0.04711196203214325,
          "symbol": "circle"
         },
         "mode": "markers",
         "name": "Regulation of peptide hormone secretion",
         "orientation": "v",
         "showlegend": true,
         "type": "scatter",
         "x": [
          1.2953159051161438e-05
         ],
         "xaxis": "x",
         "y": [
          4.649253731343284
         ],
         "yaxis": "y"
        },
        {
         "hovertemplate": "go_term=Regulation of neuron death<br>fdr_bh=%{x}<br>odds=%{marker.size}<extra></extra>",
         "legendgroup": "Regulation of neuron death",
         "marker": {
          "color": "#FF97FF",
          "size": [
           2.808153657376105
          ],
          "sizemode": "area",
          "sizeref": 0.04711196203214325,
          "symbol": "circle"
         },
         "mode": "markers",
         "name": "Regulation of neuron death",
         "orientation": "v",
         "showlegend": true,
         "type": "scatter",
         "x": [
          0.0016389868660841105
         ],
         "xaxis": "x",
         "y": [
          2.808153657376105
         ],
         "yaxis": "y"
        },
        {
         "hovertemplate": "go_term=Response to peptide<br>fdr_bh=%{x}<br>odds=%{marker.size}<extra></extra>",
         "legendgroup": "Response to peptide",
         "marker": {
          "color": "#FECB52",
          "size": [
           3.970620842572062
          ],
          "sizemode": "area",
          "sizeref": 0.04711196203214325,
          "symbol": "circle"
         },
         "mode": "markers",
         "name": "Response to peptide",
         "orientation": "v",
         "showlegend": true,
         "type": "scatter",
         "x": [
          1.1780002043816169e-07
         ],
         "xaxis": "x",
         "y": [
          3.970620842572062
         ],
         "yaxis": "y"
        },
        {
         "hovertemplate": "go_term=Cellular response to peptide<br>fdr_bh=%{x}<br>odds=%{marker.size}<extra></extra>",
         "legendgroup": "Cellular response to peptide",
         "marker": {
          "color": "#636efa",
          "size": [
           4.5988460023130795
          ],
          "sizemode": "area",
          "sizeref": 0.04711196203214325,
          "symbol": "circle"
         },
         "mode": "markers",
         "name": "Cellular response to peptide",
         "orientation": "v",
         "showlegend": true,
         "type": "scatter",
         "x": [
          2.1232993050325743e-07
         ],
         "xaxis": "x",
         "y": [
          4.5988460023130795
         ],
         "yaxis": "y"
        },
        {
         "hovertemplate": "go_term=Regulation of cellular protein catabolic process<br>fdr_bh=%{x}<br>odds=%{marker.size}<extra></extra>",
         "legendgroup": "Regulation of cellular protein catabolic process",
         "marker": {
          "color": "#EF553B",
          "size": [
           2.6292015209125474
          ],
          "sizemode": "area",
          "sizeref": 0.04711196203214325,
          "symbol": "circle"
         },
         "mode": "markers",
         "name": "Regulation of cellular protein catabolic process",
         "orientation": "v",
         "showlegend": true,
         "type": "scatter",
         "x": [
          0.005508706063213269
         ],
         "xaxis": "x",
         "y": [
          2.6292015209125474
         ],
         "yaxis": "y"
        },
        {
         "hovertemplate": "go_term=Antigen processing and presentation of exogenous peptide antigen<br>fdr_bh=%{x}<br>odds=%{marker.size}<extra></extra>",
         "legendgroup": "Antigen processing and presentation of exogenous peptide antigen",
         "marker": {
          "color": "#00cc96",
          "size": [
           4.464508152744408
          ],
          "sizemode": "area",
          "sizeref": 0.04711196203214325,
          "symbol": "circle"
         },
         "mode": "markers",
         "name": "Antigen processing and presentation of exogenous peptide antigen",
         "orientation": "v",
         "showlegend": true,
         "type": "scatter",
         "x": [
          0.00012690566248224058
         ],
         "xaxis": "x",
         "y": [
          4.464508152744408
         ],
         "yaxis": "y"
        },
        {
         "hovertemplate": "go_term=Antigen processing and presentation of exogenous antigen<br>fdr_bh=%{x}<br>odds=%{marker.size}<extra></extra>",
         "legendgroup": "Antigen processing and presentation of exogenous antigen",
         "marker": {
          "color": "#ab63fa",
          "size": [
           4.253685544660129
          ],
          "sizemode": "area",
          "sizeref": 0.04711196203214325,
          "symbol": "circle"
         },
         "mode": "markers",
         "name": "Antigen processing and presentation of exogenous antigen",
         "orientation": "v",
         "showlegend": true,
         "type": "scatter",
         "x": [
          0.00017950751510912837
         ],
         "xaxis": "x",
         "y": [
          4.253685544660129
         ],
         "yaxis": "y"
        },
        {
         "hovertemplate": "go_term=Antigen processing and presentation of peptide antigen<br>fdr_bh=%{x}<br>odds=%{marker.size}<extra></extra>",
         "legendgroup": "Antigen processing and presentation of peptide antigen",
         "marker": {
          "color": "#FFA15A",
          "size": [
           4.038910012674271
          ],
          "sizemode": "area",
          "sizeref": 0.04711196203214325,
          "symbol": "circle"
         },
         "mode": "markers",
         "name": "Antigen processing and presentation of peptide antigen",
         "orientation": "v",
         "showlegend": true,
         "type": "scatter",
         "x": [
          0.00026737585059451803
         ],
         "xaxis": "x",
         "y": [
          4.038910012674271
         ],
         "yaxis": "y"
        },
        {
         "hovertemplate": "go_term=Regulation of jnk cascade<br>fdr_bh=%{x}<br>odds=%{marker.size}<extra></extra>",
         "legendgroup": "Regulation of jnk cascade",
         "marker": {
          "color": "#19d3f3",
          "size": [
           5.094523326572008
          ],
          "sizemode": "area",
          "sizeref": 0.04711196203214325,
          "symbol": "circle"
         },
         "mode": "markers",
         "name": "Regulation of jnk cascade",
         "orientation": "v",
         "showlegend": true,
         "type": "scatter",
         "x": [
          1.1069347262467815e-05
         ],
         "xaxis": "x",
         "y": [
          5.094523326572008
         ],
         "yaxis": "y"
        },
        {
         "hovertemplate": "go_term=Apoptotic signaling pathway<br>fdr_bh=%{x}<br>odds=%{marker.size}<extra></extra>",
         "legendgroup": "Apoptotic signaling pathway",
         "marker": {
          "color": "#FF6692",
          "size": [
           3.421606334841629
          ],
          "sizemode": "area",
          "sizeref": 0.04711196203214325,
          "symbol": "circle"
         },
         "mode": "markers",
         "name": "Apoptotic signaling pathway",
         "orientation": "v",
         "showlegend": true,
         "type": "scatter",
         "x": [
          0.0002111194697006377
         ],
         "xaxis": "x",
         "y": [
          3.421606334841629
         ],
         "yaxis": "y"
        },
        {
         "hovertemplate": "go_term=Golgi vesicle transport<br>fdr_bh=%{x}<br>odds=%{marker.size}<extra></extra>",
         "legendgroup": "Golgi vesicle transport",
         "marker": {
          "color": "#B6E880",
          "size": [
           3.014296875
          ],
          "sizemode": "area",
          "sizeref": 0.04711196203214325,
          "symbol": "circle"
         },
         "mode": "markers",
         "name": "Golgi vesicle transport",
         "orientation": "v",
         "showlegend": true,
         "type": "scatter",
         "x": [
          0.00013667661558428344
         ],
         "xaxis": "x",
         "y": [
          3.014296875
         ],
         "yaxis": "y"
        },
        {
         "hovertemplate": "go_term=Regulation of ion transmembrane transport<br>fdr_bh=%{x}<br>odds=%{marker.size}<extra></extra>",
         "legendgroup": "Regulation of ion transmembrane transport",
         "marker": {
          "color": "#FF97FF",
          "size": [
           4.139545948275088
          ],
          "sizemode": "area",
          "sizeref": 0.04711196203214325,
          "symbol": "circle"
         },
         "mode": "markers",
         "name": "Regulation of ion transmembrane transport",
         "orientation": "v",
         "showlegend": true,
         "type": "scatter",
         "x": [
          3.6058386015585414e-08
         ],
         "xaxis": "x",
         "y": [
          4.139545948275088
         ],
         "yaxis": "y"
        },
        {
         "hovertemplate": "go_term=Ameboidal-type cell migration<br>fdr_bh=%{x}<br>odds=%{marker.size}<extra></extra>",
         "legendgroup": "Ameboidal-type cell migration",
         "marker": {
          "color": "#FECB52",
          "size": [
           5.416044061302682
          ],
          "sizemode": "area",
          "sizeref": 0.04711196203214325,
          "symbol": "circle"
         },
         "mode": "markers",
         "name": "Ameboidal-type cell migration",
         "orientation": "v",
         "showlegend": true,
         "type": "scatter",
         "x": [
          6.447079375707016e-06
         ],
         "xaxis": "x",
         "y": [
          5.416044061302682
         ],
         "yaxis": "y"
        },
        {
         "hovertemplate": "go_term=Morphogenesis of an epithelium<br>fdr_bh=%{x}<br>odds=%{marker.size}<extra></extra>",
         "legendgroup": "Morphogenesis of an epithelium",
         "marker": {
          "color": "#636efa",
          "size": [
           4.19335880105789
          ],
          "sizemode": "area",
          "sizeref": 0.04711196203214325,
          "symbol": "circle"
         },
         "mode": "markers",
         "name": "Morphogenesis of an epithelium",
         "orientation": "v",
         "showlegend": true,
         "type": "scatter",
         "x": [
          8.395898686668555e-08
         ],
         "xaxis": "x",
         "y": [
          4.19335880105789
         ],
         "yaxis": "y"
        },
        {
         "hovertemplate": "go_term=Epithelial tube morphogenesis<br>fdr_bh=%{x}<br>odds=%{marker.size}<extra></extra>",
         "legendgroup": "Epithelial tube morphogenesis",
         "marker": {
          "color": "#EF553B",
          "size": [
           3.6785210048216523
          ],
          "sizemode": "area",
          "sizeref": 0.04711196203214325,
          "symbol": "circle"
         },
         "mode": "markers",
         "name": "Epithelial tube morphogenesis",
         "orientation": "v",
         "showlegend": true,
         "type": "scatter",
         "x": [
          4.2495176197633705e-05
         ],
         "xaxis": "x",
         "y": [
          3.6785210048216523
         ],
         "yaxis": "y"
        },
        {
         "hovertemplate": "go_term=Negative regulation of protein phosphorylation<br>fdr_bh=%{x}<br>odds=%{marker.size}<extra></extra>",
         "legendgroup": "Negative regulation of protein phosphorylation",
         "marker": {
          "color": "#00cc96",
          "size": [
           2.666044957354627
          ],
          "sizemode": "area",
          "sizeref": 0.04711196203214325,
          "symbol": "circle"
         },
         "mode": "markers",
         "name": "Negative regulation of protein phosphorylation",
         "orientation": "v",
         "showlegend": true,
         "type": "scatter",
         "x": [
          0.0009053631799784913
         ],
         "xaxis": "x",
         "y": [
          2.666044957354627
         ],
         "yaxis": "y"
        },
        {
         "hovertemplate": "go_term=Negative regulation of protein kinase activity<br>fdr_bh=%{x}<br>odds=%{marker.size}<extra></extra>",
         "legendgroup": "Negative regulation of protein kinase activity",
         "marker": {
          "color": "#ab63fa",
          "size": [
           3.1657396184435553
          ],
          "sizemode": "area",
          "sizeref": 0.04711196203214325,
          "symbol": "circle"
         },
         "mode": "markers",
         "name": "Negative regulation of protein kinase activity",
         "orientation": "v",
         "showlegend": true,
         "type": "scatter",
         "x": [
          0.0015106654369240343
         ],
         "xaxis": "x",
         "y": [
          3.1657396184435553
         ],
         "yaxis": "y"
        },
        {
         "hovertemplate": "go_term=Negative regulation of kinase activity<br>fdr_bh=%{x}<br>odds=%{marker.size}<extra></extra>",
         "legendgroup": "Negative regulation of kinase activity",
         "marker": {
          "color": "#FFA15A",
          "size": [
           2.919998773457623
          ],
          "sizemode": "area",
          "sizeref": 0.04711196203214325,
          "symbol": "circle"
         },
         "mode": "markers",
         "name": "Negative regulation of kinase activity",
         "orientation": "v",
         "showlegend": true,
         "type": "scatter",
         "x": [
          0.0026865231271385563
         ],
         "xaxis": "x",
         "y": [
          2.919998773457623
         ],
         "yaxis": "y"
        },
        {
         "hovertemplate": "go_term=Negative regulation of phosphorylation<br>fdr_bh=%{x}<br>odds=%{marker.size}<extra></extra>",
         "legendgroup": "Negative regulation of phosphorylation",
         "marker": {
          "color": "#19d3f3",
          "size": [
           2.7661099137931036
          ],
          "sizemode": "area",
          "sizeref": 0.04711196203214325,
          "symbol": "circle"
         },
         "mode": "markers",
         "name": "Negative regulation of phosphorylation",
         "orientation": "v",
         "showlegend": true,
         "type": "scatter",
         "x": [
          0.0003384265492817074
         ],
         "xaxis": "x",
         "y": [
          2.7661099137931036
         ],
         "yaxis": "y"
        },
        {
         "hovertemplate": "go_term=Negative regulation of transferase activity<br>fdr_bh=%{x}<br>odds=%{marker.size}<extra></extra>",
         "legendgroup": "Negative regulation of transferase activity",
         "marker": {
          "color": "#FF6692",
          "size": [
           2.517520965540997
          ],
          "sizemode": "area",
          "sizeref": 0.04711196203214325,
          "symbol": "circle"
         },
         "mode": "markers",
         "name": "Negative regulation of transferase activity",
         "orientation": "v",
         "showlegend": true,
         "type": "scatter",
         "x": [
          0.007319399601528992
         ],
         "xaxis": "x",
         "y": [
          2.517520965540997
         ],
         "yaxis": "y"
        },
        {
         "hovertemplate": "go_term=Angiogenesis<br>fdr_bh=%{x}<br>odds=%{marker.size}<extra></extra>",
         "legendgroup": "Angiogenesis",
         "marker": {
          "color": "#B6E880",
          "size": [
           3.578439760441783
          ],
          "sizemode": "area",
          "sizeref": 0.04711196203214325,
          "symbol": "circle"
         },
         "mode": "markers",
         "name": "Angiogenesis",
         "orientation": "v",
         "showlegend": true,
         "type": "scatter",
         "x": [
          5.51702079176544e-05
         ],
         "xaxis": "x",
         "y": [
          3.578439760441783
         ],
         "yaxis": "y"
        },
        {
         "hovertemplate": "go_term=Viral life cycle<br>fdr_bh=%{x}<br>odds=%{marker.size}<extra></extra>",
         "legendgroup": "Viral life cycle",
         "marker": {
          "color": "#FF97FF",
          "size": [
           4.1872237846524705
          ],
          "sizemode": "area",
          "sizeref": 0.04711196203214325,
          "symbol": "circle"
         },
         "mode": "markers",
         "name": "Viral life cycle",
         "orientation": "v",
         "showlegend": true,
         "type": "scatter",
         "x": [
          0.00011319182616976893
         ],
         "xaxis": "x",
         "y": [
          4.1872237846524705
         ],
         "yaxis": "y"
        },
        {
         "hovertemplate": "go_term=Entry into host<br>fdr_bh=%{x}<br>odds=%{marker.size}<extra></extra>",
         "legendgroup": "Entry into host",
         "marker": {
          "color": "#FECB52",
          "size": [
           7.942221854852042
          ],
          "sizemode": "area",
          "sizeref": 0.04711196203214325,
          "symbol": "circle"
         },
         "mode": "markers",
         "name": "Entry into host",
         "orientation": "v",
         "showlegend": true,
         "type": "scatter",
         "x": [
          1.502997274134833e-06
         ],
         "xaxis": "x",
         "y": [
          7.942221854852042
         ],
         "yaxis": "y"
        },
        {
         "hovertemplate": "go_term=Interaction with host<br>fdr_bh=%{x}<br>odds=%{marker.size}<extra></extra>",
         "legendgroup": "Interaction with host",
         "marker": {
          "color": "#636efa",
          "size": [
           5.425455678454588
          ],
          "sizemode": "area",
          "sizeref": 0.04711196203214325,
          "symbol": "circle"
         },
         "mode": "markers",
         "name": "Interaction with host",
         "orientation": "v",
         "showlegend": true,
         "type": "scatter",
         "x": [
          1.3262478793525158e-05
         ],
         "xaxis": "x",
         "y": [
          5.425455678454588
         ],
         "yaxis": "y"
        },
        {
         "hovertemplate": "go_term=Movement in host environment<br>fdr_bh=%{x}<br>odds=%{marker.size}<extra></extra>",
         "legendgroup": "Movement in host environment",
         "marker": {
          "color": "#EF553B",
          "size": [
           8.33206106870229
          ],
          "sizemode": "area",
          "sizeref": 0.04711196203214325,
          "symbol": "circle"
         },
         "mode": "markers",
         "name": "Movement in host environment",
         "orientation": "v",
         "showlegend": true,
         "type": "scatter",
         "x": [
          3.7230039250140884e-07
         ],
         "xaxis": "x",
         "y": [
          8.33206106870229
         ],
         "yaxis": "y"
        },
        {
         "hovertemplate": "go_term=Regulation of metal ion transport<br>fdr_bh=%{x}<br>odds=%{marker.size}<extra></extra>",
         "legendgroup": "Regulation of metal ion transport",
         "marker": {
          "color": "#00cc96",
          "size": [
           2.645917193789534
          ],
          "sizemode": "area",
          "sizeref": 0.04711196203214325,
          "symbol": "circle"
         },
         "mode": "markers",
         "name": "Regulation of metal ion transport",
         "orientation": "v",
         "showlegend": true,
         "type": "scatter",
         "x": [
          0.0013477890811138635
         ],
         "xaxis": "x",
         "y": [
          2.645917193789534
         ],
         "yaxis": "y"
        },
        {
         "hovertemplate": "go_term=Regulation of transmembrane transporter activity<br>fdr_bh=%{x}<br>odds=%{marker.size}<extra></extra>",
         "legendgroup": "Regulation of transmembrane transporter activity",
         "marker": {
          "color": "#ab63fa",
          "size": [
           3.6533031674208143
          ],
          "sizemode": "area",
          "sizeref": 0.04711196203214325,
          "symbol": "circle"
         },
         "mode": "markers",
         "name": "Regulation of transmembrane transporter activity",
         "orientation": "v",
         "showlegend": true,
         "type": "scatter",
         "x": [
          0.00011989167132763207
         ],
         "xaxis": "x",
         "y": [
          3.6533031674208143
         ],
         "yaxis": "y"
        },
        {
         "hovertemplate": "go_term=Regulation of transporter activity<br>fdr_bh=%{x}<br>odds=%{marker.size}<extra></extra>",
         "legendgroup": "Regulation of transporter activity",
         "marker": {
          "color": "#FFA15A",
          "size": [
           4.045517039637268
          ],
          "sizemode": "area",
          "sizeref": 0.04711196203214325,
          "symbol": "circle"
         },
         "mode": "markers",
         "name": "Regulation of transporter activity",
         "orientation": "v",
         "showlegend": true,
         "type": "scatter",
         "x": [
          1.5400594493879338e-05
         ],
         "xaxis": "x",
         "y": [
          4.045517039637268
         ],
         "yaxis": "y"
        },
        {
         "hovertemplate": "go_term=Regulation of ion transmembrane transporter activity<br>fdr_bh=%{x}<br>odds=%{marker.size}<extra></extra>",
         "legendgroup": "Regulation of ion transmembrane transporter activity",
         "marker": {
          "color": "#19d3f3",
          "size": [
           3.7889305816135086
          ],
          "sizemode": "area",
          "sizeref": 0.04711196203214325,
          "symbol": "circle"
         },
         "mode": "markers",
         "name": "Regulation of ion transmembrane transporter activity",
         "orientation": "v",
         "showlegend": true,
         "type": "scatter",
         "x": [
          8.866441605625897e-05
         ],
         "xaxis": "x",
         "y": [
          3.7889305816135086
         ],
         "yaxis": "y"
        },
        {
         "hovertemplate": "go_term=Positive regulation of gtpase activity<br>fdr_bh=%{x}<br>odds=%{marker.size}<extra></extra>",
         "legendgroup": "Positive regulation of gtpase activity",
         "marker": {
          "color": "#FF6692",
          "size": [
           4.203856992763229
          ],
          "sizemode": "area",
          "sizeref": 0.04711196203214325,
          "symbol": "circle"
         },
         "mode": "markers",
         "name": "Positive regulation of gtpase activity",
         "orientation": "v",
         "showlegend": true,
         "type": "scatter",
         "x": [
          8.165918512763714e-08
         ],
         "xaxis": "x",
         "y": [
          4.203856992763229
         ],
         "yaxis": "y"
        },
        {
         "hovertemplate": "go_term=Regulation of calcium ion transport<br>fdr_bh=%{x}<br>odds=%{marker.size}<extra></extra>",
         "legendgroup": "Regulation of calcium ion transport",
         "marker": {
          "color": "#B6E880",
          "size": [
           3.5491067909118144
          ],
          "sizemode": "area",
          "sizeref": 0.04711196203214325,
          "symbol": "circle"
         },
         "mode": "markers",
         "name": "Regulation of calcium ion transport",
         "orientation": "v",
         "showlegend": true,
         "type": "scatter",
         "x": [
          0.0002520690754334243
         ],
         "xaxis": "x",
         "y": [
          3.5491067909118144
         ],
         "yaxis": "y"
        },
        {
         "hovertemplate": "go_term=Regulation of calcium ion transmembrane transport<br>fdr_bh=%{x}<br>odds=%{marker.size}<extra></extra>",
         "legendgroup": "Regulation of calcium ion transmembrane transport",
         "marker": {
          "color": "#FF97FF",
          "size": [
           5.094764551038315
          ],
          "sizemode": "area",
          "sizeref": 0.04711196203214325,
          "symbol": "circle"
         },
         "mode": "markers",
         "name": "Regulation of calcium ion transmembrane transport",
         "orientation": "v",
         "showlegend": true,
         "type": "scatter",
         "x": [
          4.785745176556898e-05
         ],
         "xaxis": "x",
         "y": [
          5.094764551038315
         ],
         "yaxis": "y"
        },
        {
         "hovertemplate": "go_term=Regulation of cation transmembrane transport<br>fdr_bh=%{x}<br>odds=%{marker.size}<extra></extra>",
         "legendgroup": "Regulation of cation transmembrane transport",
         "marker": {
          "color": "#FECB52",
          "size": [
           3.328938153541501
          ],
          "sizemode": "area",
          "sizeref": 0.04711196203214325,
          "symbol": "circle"
         },
         "mode": "markers",
         "name": "Regulation of cation transmembrane transport",
         "orientation": "v",
         "showlegend": true,
         "type": "scatter",
         "x": [
          0.00011319182616976893
         ],
         "xaxis": "x",
         "y": [
          3.328938153541501
         ],
         "yaxis": "y"
        },
        {
         "hovertemplate": "go_term=Regulation of cation channel activity<br>fdr_bh=%{x}<br>odds=%{marker.size}<extra></extra>",
         "legendgroup": "Regulation of cation channel activity",
         "marker": {
          "color": "#636efa",
          "size": [
           4.3830683952540195
          ],
          "sizemode": "area",
          "sizeref": 0.04711196203214325,
          "symbol": "circle"
         },
         "mode": "markers",
         "name": "Regulation of cation channel activity",
         "orientation": "v",
         "showlegend": true,
         "type": "scatter",
         "x": [
          0.00014468097474060486
         ],
         "xaxis": "x",
         "y": [
          4.3830683952540195
         ],
         "yaxis": "y"
        },
        {
         "hovertemplate": "go_term=Regulation of actin filament organization<br>fdr_bh=%{x}<br>odds=%{marker.size}<extra></extra>",
         "legendgroup": "Regulation of actin filament organization",
         "marker": {
          "color": "#EF553B",
          "size": [
           4.298118837950908
          ],
          "sizemode": "area",
          "sizeref": 0.04711196203214325,
          "symbol": "circle"
         },
         "mode": "markers",
         "name": "Regulation of actin filament organization",
         "orientation": "v",
         "showlegend": true,
         "type": "scatter",
         "x": [
          4.767682807757738e-06
         ],
         "xaxis": "x",
         "y": [
          4.298118837950908
         ],
         "yaxis": "y"
        },
        {
         "hovertemplate": "go_term=Regulation of supramolecular fiber organization<br>fdr_bh=%{x}<br>odds=%{marker.size}<extra></extra>",
         "legendgroup": "Regulation of supramolecular fiber organization",
         "marker": {
          "color": "#00cc96",
          "size": [
           3.779967448203053
          ],
          "sizemode": "area",
          "sizeref": 0.04711196203214325,
          "symbol": "circle"
         },
         "mode": "markers",
         "name": "Regulation of supramolecular fiber organization",
         "orientation": "v",
         "showlegend": true,
         "type": "scatter",
         "x": [
          4.3979466861879685e-06
         ],
         "xaxis": "x",
         "y": [
          3.779967448203053
         ],
         "yaxis": "y"
        },
        {
         "hovertemplate": "go_term=Muscle system process<br>fdr_bh=%{x}<br>odds=%{marker.size}<extra></extra>",
         "legendgroup": "Muscle system process",
         "marker": {
          "color": "#ab63fa",
          "size": [
           2.756549724712078
          ],
          "sizemode": "area",
          "sizeref": 0.04711196203214325,
          "symbol": "circle"
         },
         "mode": "markers",
         "name": "Muscle system process",
         "orientation": "v",
         "showlegend": true,
         "type": "scatter",
         "x": [
          0.002752576717466009
         ],
         "xaxis": "x",
         "y": [
          2.756549724712078
         ],
         "yaxis": "y"
        },
        {
         "hovertemplate": "go_term=Wnt signaling pathway<br>fdr_bh=%{x}<br>odds=%{marker.size}<extra></extra>",
         "legendgroup": "Wnt signaling pathway",
         "marker": {
          "color": "#FFA15A",
          "size": [
           2.9678019856591287
          ],
          "sizemode": "area",
          "sizeref": 0.04711196203214325,
          "symbol": "circle"
         },
         "mode": "markers",
         "name": "Wnt signaling pathway",
         "orientation": "v",
         "showlegend": true,
         "type": "scatter",
         "x": [
          0.0004861204125134621
         ],
         "xaxis": "x",
         "y": [
          2.9678019856591287
         ],
         "yaxis": "y"
        },
        {
         "hovertemplate": "go_term=Cell-cell signaling by wnt<br>fdr_bh=%{x}<br>odds=%{marker.size}<extra></extra>",
         "legendgroup": "Cell-cell signaling by wnt",
         "marker": {
          "color": "#19d3f3",
          "size": [
           2.9678019856591287
          ],
          "sizemode": "area",
          "sizeref": 0.04711196203214325,
          "symbol": "circle"
         },
         "mode": "markers",
         "name": "Cell-cell signaling by wnt",
         "orientation": "v",
         "showlegend": true,
         "type": "scatter",
         "x": [
          0.0004861204125134621
         ],
         "xaxis": "x",
         "y": [
          2.9678019856591287
         ],
         "yaxis": "y"
        },
        {
         "hovertemplate": "go_term=Cell surface receptor signaling pathway involved in cell-cell signaling<br>fdr_bh=%{x}<br>odds=%{marker.size}<extra></extra>",
         "legendgroup": "Cell surface receptor signaling pathway involved in cell-cell signaling",
         "marker": {
          "color": "#FF6692",
          "size": [
           2.7148878386004514
          ],
          "sizemode": "area",
          "sizeref": 0.04711196203214325,
          "symbol": "circle"
         },
         "mode": "markers",
         "name": "Cell surface receptor signaling pathway involved in cell-cell signaling",
         "orientation": "v",
         "showlegend": true,
         "type": "scatter",
         "x": [
          0.00040582174857767484
         ],
         "xaxis": "x",
         "y": [
          2.7148878386004514
         ],
         "yaxis": "y"
        },
        {
         "hovertemplate": "go_term=Regulation of cell shape<br>fdr_bh=%{x}<br>odds=%{marker.size}<extra></extra>",
         "legendgroup": "Regulation of cell shape",
         "marker": {
          "color": "#B6E880",
          "size": [
           6.650572831423895
          ],
          "sizemode": "area",
          "sizeref": 0.04711196203214325,
          "symbol": "circle"
         },
         "mode": "markers",
         "name": "Regulation of cell shape",
         "orientation": "v",
         "showlegend": true,
         "type": "scatter",
         "x": [
          4.3109846422621e-07
         ],
         "xaxis": "x",
         "y": [
          6.650572831423895
         ],
         "yaxis": "y"
        },
        {
         "hovertemplate": "go_term=Regulation of protein kinase b signaling<br>fdr_bh=%{x}<br>odds=%{marker.size}<extra></extra>",
         "legendgroup": "Regulation of protein kinase b signaling",
         "marker": {
          "color": "#FF97FF",
          "size": [
           3.3587874947190537
          ],
          "sizemode": "area",
          "sizeref": 0.04711196203214325,
          "symbol": "circle"
         },
         "mode": "markers",
         "name": "Regulation of protein kinase b signaling",
         "orientation": "v",
         "showlegend": true,
         "type": "scatter",
         "x": [
          0.0009868765606994088
         ],
         "xaxis": "x",
         "y": [
          3.3587874947190537
         ],
         "yaxis": "y"
        },
        {
         "hovertemplate": "go_term=Protein autophosphorylation<br>fdr_bh=%{x}<br>odds=%{marker.size}<extra></extra>",
         "legendgroup": "Protein autophosphorylation",
         "marker": {
          "color": "#FECB52",
          "size": [
           5.2272883541039965
          ],
          "sizemode": "area",
          "sizeref": 0.04711196203214325,
          "symbol": "circle"
         },
         "mode": "markers",
         "name": "Protein autophosphorylation",
         "orientation": "v",
         "showlegend": true,
         "type": "scatter",
         "x": [
          4.456035897576498e-06
         ],
         "xaxis": "x",
         "y": [
          5.2272883541039965
         ],
         "yaxis": "y"
        },
        {
         "hovertemplate": "go_term=Heart morphogenesis<br>fdr_bh=%{x}<br>odds=%{marker.size}<extra></extra>",
         "legendgroup": "Heart morphogenesis",
         "marker": {
          "color": "#636efa",
          "size": [
           3.624714253517499
          ],
          "sizemode": "area",
          "sizeref": 0.04711196203214325,
          "symbol": "circle"
         },
         "mode": "markers",
         "name": "Heart morphogenesis",
         "orientation": "v",
         "showlegend": true,
         "type": "scatter",
         "x": [
          0.00020961779780775413
         ],
         "xaxis": "x",
         "y": [
          3.624714253517499
         ],
         "yaxis": "y"
        },
        {
         "hovertemplate": "go_term=Response to peptide hormone<br>fdr_bh=%{x}<br>odds=%{marker.size}<extra></extra>",
         "legendgroup": "Response to peptide hormone",
         "marker": {
          "color": "#EF553B",
          "size": [
           4.017979488488872
          ],
          "sizemode": "area",
          "sizeref": 0.04711196203214325,
          "symbol": "circle"
         },
         "mode": "markers",
         "name": "Response to peptide hormone",
         "orientation": "v",
         "showlegend": true,
         "type": "scatter",
         "x": [
          7.285990313590635e-07
         ],
         "xaxis": "x",
         "y": [
          4.017979488488872
         ],
         "yaxis": "y"
        },
        {
         "hovertemplate": "go_term=Regulation of angiogenesis<br>fdr_bh=%{x}<br>odds=%{marker.size}<extra></extra>",
         "legendgroup": "Regulation of angiogenesis",
         "marker": {
          "color": "#00cc96",
          "size": [
           3.205888594164456
          ],
          "sizemode": "area",
          "sizeref": 0.04711196203214325,
          "symbol": "circle"
         },
         "mode": "markers",
         "name": "Regulation of angiogenesis",
         "orientation": "v",
         "showlegend": true,
         "type": "scatter",
         "x": [
          0.00038016371890705085
         ],
         "xaxis": "x",
         "y": [
          3.205888594164456
         ],
         "yaxis": "y"
        },
        {
         "hovertemplate": "go_term=Positive regulation of angiogenesis<br>fdr_bh=%{x}<br>odds=%{marker.size}<extra></extra>",
         "legendgroup": "Positive regulation of angiogenesis",
         "marker": {
          "color": "#ab63fa",
          "size": [
           4.607113635269769
          ],
          "sizemode": "area",
          "sizeref": 0.04711196203214325,
          "symbol": "circle"
         },
         "mode": "markers",
         "name": "Positive regulation of angiogenesis",
         "orientation": "v",
         "showlegend": true,
         "type": "scatter",
         "x": [
          0.0001027159073608842
         ],
         "xaxis": "x",
         "y": [
          4.607113635269769
         ],
         "yaxis": "y"
        },
        {
         "hovertemplate": "go_term=Regulation of epithelial cell proliferation<br>fdr_bh=%{x}<br>odds=%{marker.size}<extra></extra>",
         "legendgroup": "Regulation of epithelial cell proliferation",
         "marker": {
          "color": "#FFA15A",
          "size": [
           2.4062558182833738
          ],
          "sizemode": "area",
          "sizeref": 0.04711196203214325,
          "symbol": "circle"
         },
         "mode": "markers",
         "name": "Regulation of epithelial cell proliferation",
         "orientation": "v",
         "showlegend": true,
         "type": "scatter",
         "x": [
          0.007319399601528992
         ],
         "xaxis": "x",
         "y": [
          2.4062558182833738
         ],
         "yaxis": "y"
        },
        {
         "hovertemplate": "go_term=Cellular response to peptide hormone stimulus<br>fdr_bh=%{x}<br>odds=%{marker.size}<extra></extra>",
         "legendgroup": "Cellular response to peptide hormone stimulus",
         "marker": {
          "color": "#19d3f3",
          "size": [
           4.522369695944387
          ],
          "sizemode": "area",
          "sizeref": 0.04711196203214325,
          "symbol": "circle"
         },
         "mode": "markers",
         "name": "Cellular response to peptide hormone stimulus",
         "orientation": "v",
         "showlegend": true,
         "type": "scatter",
         "x": [
          2.7954793093128978e-06
         ],
         "xaxis": "x",
         "y": [
          4.522369695944387
         ],
         "yaxis": "y"
        },
        {
         "hovertemplate": "go_term=Regulation of vasculature development<br>fdr_bh=%{x}<br>odds=%{marker.size}<extra></extra>",
         "legendgroup": "Regulation of vasculature development",
         "marker": {
          "color": "#FF6692",
          "size": [
           3.099354900597137
          ],
          "sizemode": "area",
          "sizeref": 0.04711196203214325,
          "symbol": "circle"
         },
         "mode": "markers",
         "name": "Regulation of vasculature development",
         "orientation": "v",
         "showlegend": true,
         "type": "scatter",
         "x": [
          0.0003384265492817074
         ],
         "xaxis": "x",
         "y": [
          3.099354900597137
         ],
         "yaxis": "y"
        },
        {
         "hovertemplate": "go_term=Positive regulation of vasculature development<br>fdr_bh=%{x}<br>odds=%{marker.size}<extra></extra>",
         "legendgroup": "Positive regulation of vasculature development",
         "marker": {
          "color": "#B6E880",
          "size": [
           4.498123948764394
          ],
          "sizemode": "area",
          "sizeref": 0.04711196203214325,
          "symbol": "circle"
         },
         "mode": "markers",
         "name": "Positive regulation of vasculature development",
         "orientation": "v",
         "showlegend": true,
         "type": "scatter",
         "x": [
          6.333645512726951e-05
         ],
         "xaxis": "x",
         "y": [
          4.498123948764394
         ],
         "yaxis": "y"
        },
        {
         "hovertemplate": "go_term=Regulation of reactive oxygen species metabolic process<br>fdr_bh=%{x}<br>odds=%{marker.size}<extra></extra>",
         "legendgroup": "Regulation of reactive oxygen species metabolic process",
         "marker": {
          "color": "#FF97FF",
          "size": [
           4.523941707147814
          ],
          "sizemode": "area",
          "sizeref": 0.04711196203214325,
          "symbol": "circle"
         },
         "mode": "markers",
         "name": "Regulation of reactive oxygen species metabolic process",
         "orientation": "v",
         "showlegend": true,
         "type": "scatter",
         "x": [
          6.086671554550615e-05
         ],
         "xaxis": "x",
         "y": [
          4.523941707147814
         ],
         "yaxis": "y"
        },
        {
         "hovertemplate": "go_term=Response to insulin<br>fdr_bh=%{x}<br>odds=%{marker.size}<extra></extra>",
         "legendgroup": "Response to insulin",
         "marker": {
          "color": "#FECB52",
          "size": [
           3.28185055829878
          ],
          "sizemode": "area",
          "sizeref": 0.04711196203214325,
          "symbol": "circle"
         },
         "mode": "markers",
         "name": "Response to insulin",
         "orientation": "v",
         "showlegend": true,
         "type": "scatter",
         "x": [
          0.0011739696262945123
         ],
         "xaxis": "x",
         "y": [
          3.28185055829878
         ],
         "yaxis": "y"
        },
        {
         "hovertemplate": "go_term=Cellular response to insulin stimulus<br>fdr_bh=%{x}<br>odds=%{marker.size}<extra></extra>",
         "legendgroup": "Cellular response to insulin stimulus",
         "marker": {
          "color": "#636efa",
          "size": [
           4.577875026902934
          ],
          "sizemode": "area",
          "sizeref": 0.04711196203214325,
          "symbol": "circle"
         },
         "mode": "markers",
         "name": "Cellular response to insulin stimulus",
         "orientation": "v",
         "showlegend": true,
         "type": "scatter",
         "x": [
          0.00010709121403669208
         ],
         "xaxis": "x",
         "y": [
          4.577875026902934
         ],
         "yaxis": "y"
        },
        {
         "hovertemplate": "go_term=Regulation of dendrite development<br>fdr_bh=%{x}<br>odds=%{marker.size}<extra></extra>",
         "legendgroup": "Regulation of dendrite development",
         "marker": {
          "color": "#EF553B",
          "size": [
           5.023915038678379
          ],
          "sizemode": "area",
          "sizeref": 0.04711196203214325,
          "symbol": "circle"
         },
         "mode": "markers",
         "name": "Regulation of dendrite development",
         "orientation": "v",
         "showlegend": true,
         "type": "scatter",
         "x": [
          5.274326927702644e-05
         ],
         "xaxis": "x",
         "y": [
          5.023915038678379
         ],
         "yaxis": "y"
        },
        {
         "hovertemplate": "go_term=Multicellular organismal signaling<br>fdr_bh=%{x}<br>odds=%{marker.size}<extra></extra>",
         "legendgroup": "Multicellular organismal signaling",
         "marker": {
          "color": "#00cc96",
          "size": [
           5.7418939552708
          ],
          "sizemode": "area",
          "sizeref": 0.04711196203214325,
          "symbol": "circle"
         },
         "mode": "markers",
         "name": "Multicellular organismal signaling",
         "orientation": "v",
         "showlegend": true,
         "type": "scatter",
         "x": [
          1.8498861211698026e-05
         ],
         "xaxis": "x",
         "y": [
          5.7418939552708
         ],
         "yaxis": "y"
        }
       ],
       "layout": {
        "legend": {
         "itemsizing": "constant",
         "title": {
          "text": "go_term"
         },
         "tracegroupgap": 0
        },
        "margin": {
         "t": 60
        },
        "template": {
         "data": {
          "bar": [
           {
            "error_x": {
             "color": "#2a3f5f"
            },
            "error_y": {
             "color": "#2a3f5f"
            },
            "marker": {
             "line": {
              "color": "#E5ECF6",
              "width": 0.5
             },
             "pattern": {
              "fillmode": "overlay",
              "size": 10,
              "solidity": 0.2
             }
            },
            "type": "bar"
           }
          ],
          "barpolar": [
           {
            "marker": {
             "line": {
              "color": "#E5ECF6",
              "width": 0.5
             },
             "pattern": {
              "fillmode": "overlay",
              "size": 10,
              "solidity": 0.2
             }
            },
            "type": "barpolar"
           }
          ],
          "carpet": [
           {
            "aaxis": {
             "endlinecolor": "#2a3f5f",
             "gridcolor": "white",
             "linecolor": "white",
             "minorgridcolor": "white",
             "startlinecolor": "#2a3f5f"
            },
            "baxis": {
             "endlinecolor": "#2a3f5f",
             "gridcolor": "white",
             "linecolor": "white",
             "minorgridcolor": "white",
             "startlinecolor": "#2a3f5f"
            },
            "type": "carpet"
           }
          ],
          "choropleth": [
           {
            "colorbar": {
             "outlinewidth": 0,
             "ticks": ""
            },
            "type": "choropleth"
           }
          ],
          "contour": [
           {
            "colorbar": {
             "outlinewidth": 0,
             "ticks": ""
            },
            "colorscale": [
             [
              0,
              "#0d0887"
             ],
             [
              0.1111111111111111,
              "#46039f"
             ],
             [
              0.2222222222222222,
              "#7201a8"
             ],
             [
              0.3333333333333333,
              "#9c179e"
             ],
             [
              0.4444444444444444,
              "#bd3786"
             ],
             [
              0.5555555555555556,
              "#d8576b"
             ],
             [
              0.6666666666666666,
              "#ed7953"
             ],
             [
              0.7777777777777778,
              "#fb9f3a"
             ],
             [
              0.8888888888888888,
              "#fdca26"
             ],
             [
              1,
              "#f0f921"
             ]
            ],
            "type": "contour"
           }
          ],
          "contourcarpet": [
           {
            "colorbar": {
             "outlinewidth": 0,
             "ticks": ""
            },
            "type": "contourcarpet"
           }
          ],
          "heatmap": [
           {
            "colorbar": {
             "outlinewidth": 0,
             "ticks": ""
            },
            "colorscale": [
             [
              0,
              "#0d0887"
             ],
             [
              0.1111111111111111,
              "#46039f"
             ],
             [
              0.2222222222222222,
              "#7201a8"
             ],
             [
              0.3333333333333333,
              "#9c179e"
             ],
             [
              0.4444444444444444,
              "#bd3786"
             ],
             [
              0.5555555555555556,
              "#d8576b"
             ],
             [
              0.6666666666666666,
              "#ed7953"
             ],
             [
              0.7777777777777778,
              "#fb9f3a"
             ],
             [
              0.8888888888888888,
              "#fdca26"
             ],
             [
              1,
              "#f0f921"
             ]
            ],
            "type": "heatmap"
           }
          ],
          "heatmapgl": [
           {
            "colorbar": {
             "outlinewidth": 0,
             "ticks": ""
            },
            "colorscale": [
             [
              0,
              "#0d0887"
             ],
             [
              0.1111111111111111,
              "#46039f"
             ],
             [
              0.2222222222222222,
              "#7201a8"
             ],
             [
              0.3333333333333333,
              "#9c179e"
             ],
             [
              0.4444444444444444,
              "#bd3786"
             ],
             [
              0.5555555555555556,
              "#d8576b"
             ],
             [
              0.6666666666666666,
              "#ed7953"
             ],
             [
              0.7777777777777778,
              "#fb9f3a"
             ],
             [
              0.8888888888888888,
              "#fdca26"
             ],
             [
              1,
              "#f0f921"
             ]
            ],
            "type": "heatmapgl"
           }
          ],
          "histogram": [
           {
            "marker": {
             "pattern": {
              "fillmode": "overlay",
              "size": 10,
              "solidity": 0.2
             }
            },
            "type": "histogram"
           }
          ],
          "histogram2d": [
           {
            "colorbar": {
             "outlinewidth": 0,
             "ticks": ""
            },
            "colorscale": [
             [
              0,
              "#0d0887"
             ],
             [
              0.1111111111111111,
              "#46039f"
             ],
             [
              0.2222222222222222,
              "#7201a8"
             ],
             [
              0.3333333333333333,
              "#9c179e"
             ],
             [
              0.4444444444444444,
              "#bd3786"
             ],
             [
              0.5555555555555556,
              "#d8576b"
             ],
             [
              0.6666666666666666,
              "#ed7953"
             ],
             [
              0.7777777777777778,
              "#fb9f3a"
             ],
             [
              0.8888888888888888,
              "#fdca26"
             ],
             [
              1,
              "#f0f921"
             ]
            ],
            "type": "histogram2d"
           }
          ],
          "histogram2dcontour": [
           {
            "colorbar": {
             "outlinewidth": 0,
             "ticks": ""
            },
            "colorscale": [
             [
              0,
              "#0d0887"
             ],
             [
              0.1111111111111111,
              "#46039f"
             ],
             [
              0.2222222222222222,
              "#7201a8"
             ],
             [
              0.3333333333333333,
              "#9c179e"
             ],
             [
              0.4444444444444444,
              "#bd3786"
             ],
             [
              0.5555555555555556,
              "#d8576b"
             ],
             [
              0.6666666666666666,
              "#ed7953"
             ],
             [
              0.7777777777777778,
              "#fb9f3a"
             ],
             [
              0.8888888888888888,
              "#fdca26"
             ],
             [
              1,
              "#f0f921"
             ]
            ],
            "type": "histogram2dcontour"
           }
          ],
          "mesh3d": [
           {
            "colorbar": {
             "outlinewidth": 0,
             "ticks": ""
            },
            "type": "mesh3d"
           }
          ],
          "parcoords": [
           {
            "line": {
             "colorbar": {
              "outlinewidth": 0,
              "ticks": ""
             }
            },
            "type": "parcoords"
           }
          ],
          "pie": [
           {
            "automargin": true,
            "type": "pie"
           }
          ],
          "scatter": [
           {
            "fillpattern": {
             "fillmode": "overlay",
             "size": 10,
             "solidity": 0.2
            },
            "type": "scatter"
           }
          ],
          "scatter3d": [
           {
            "line": {
             "colorbar": {
              "outlinewidth": 0,
              "ticks": ""
             }
            },
            "marker": {
             "colorbar": {
              "outlinewidth": 0,
              "ticks": ""
             }
            },
            "type": "scatter3d"
           }
          ],
          "scattercarpet": [
           {
            "marker": {
             "colorbar": {
              "outlinewidth": 0,
              "ticks": ""
             }
            },
            "type": "scattercarpet"
           }
          ],
          "scattergeo": [
           {
            "marker": {
             "colorbar": {
              "outlinewidth": 0,
              "ticks": ""
             }
            },
            "type": "scattergeo"
           }
          ],
          "scattergl": [
           {
            "marker": {
             "colorbar": {
              "outlinewidth": 0,
              "ticks": ""
             }
            },
            "type": "scattergl"
           }
          ],
          "scattermapbox": [
           {
            "marker": {
             "colorbar": {
              "outlinewidth": 0,
              "ticks": ""
             }
            },
            "type": "scattermapbox"
           }
          ],
          "scatterpolar": [
           {
            "marker": {
             "colorbar": {
              "outlinewidth": 0,
              "ticks": ""
             }
            },
            "type": "scatterpolar"
           }
          ],
          "scatterpolargl": [
           {
            "marker": {
             "colorbar": {
              "outlinewidth": 0,
              "ticks": ""
             }
            },
            "type": "scatterpolargl"
           }
          ],
          "scatterternary": [
           {
            "marker": {
             "colorbar": {
              "outlinewidth": 0,
              "ticks": ""
             }
            },
            "type": "scatterternary"
           }
          ],
          "surface": [
           {
            "colorbar": {
             "outlinewidth": 0,
             "ticks": ""
            },
            "colorscale": [
             [
              0,
              "#0d0887"
             ],
             [
              0.1111111111111111,
              "#46039f"
             ],
             [
              0.2222222222222222,
              "#7201a8"
             ],
             [
              0.3333333333333333,
              "#9c179e"
             ],
             [
              0.4444444444444444,
              "#bd3786"
             ],
             [
              0.5555555555555556,
              "#d8576b"
             ],
             [
              0.6666666666666666,
              "#ed7953"
             ],
             [
              0.7777777777777778,
              "#fb9f3a"
             ],
             [
              0.8888888888888888,
              "#fdca26"
             ],
             [
              1,
              "#f0f921"
             ]
            ],
            "type": "surface"
           }
          ],
          "table": [
           {
            "cells": {
             "fill": {
              "color": "#EBF0F8"
             },
             "line": {
              "color": "white"
             }
            },
            "header": {
             "fill": {
              "color": "#C8D4E3"
             },
             "line": {
              "color": "white"
             }
            },
            "type": "table"
           }
          ]
         },
         "layout": {
          "annotationdefaults": {
           "arrowcolor": "#2a3f5f",
           "arrowhead": 0,
           "arrowwidth": 1
          },
          "autotypenumbers": "strict",
          "coloraxis": {
           "colorbar": {
            "outlinewidth": 0,
            "ticks": ""
           }
          },
          "colorscale": {
           "diverging": [
            [
             0,
             "#8e0152"
            ],
            [
             0.1,
             "#c51b7d"
            ],
            [
             0.2,
             "#de77ae"
            ],
            [
             0.3,
             "#f1b6da"
            ],
            [
             0.4,
             "#fde0ef"
            ],
            [
             0.5,
             "#f7f7f7"
            ],
            [
             0.6,
             "#e6f5d0"
            ],
            [
             0.7,
             "#b8e186"
            ],
            [
             0.8,
             "#7fbc41"
            ],
            [
             0.9,
             "#4d9221"
            ],
            [
             1,
             "#276419"
            ]
           ],
           "sequential": [
            [
             0,
             "#0d0887"
            ],
            [
             0.1111111111111111,
             "#46039f"
            ],
            [
             0.2222222222222222,
             "#7201a8"
            ],
            [
             0.3333333333333333,
             "#9c179e"
            ],
            [
             0.4444444444444444,
             "#bd3786"
            ],
            [
             0.5555555555555556,
             "#d8576b"
            ],
            [
             0.6666666666666666,
             "#ed7953"
            ],
            [
             0.7777777777777778,
             "#fb9f3a"
            ],
            [
             0.8888888888888888,
             "#fdca26"
            ],
            [
             1,
             "#f0f921"
            ]
           ],
           "sequentialminus": [
            [
             0,
             "#0d0887"
            ],
            [
             0.1111111111111111,
             "#46039f"
            ],
            [
             0.2222222222222222,
             "#7201a8"
            ],
            [
             0.3333333333333333,
             "#9c179e"
            ],
            [
             0.4444444444444444,
             "#bd3786"
            ],
            [
             0.5555555555555556,
             "#d8576b"
            ],
            [
             0.6666666666666666,
             "#ed7953"
            ],
            [
             0.7777777777777778,
             "#fb9f3a"
            ],
            [
             0.8888888888888888,
             "#fdca26"
            ],
            [
             1,
             "#f0f921"
            ]
           ]
          },
          "colorway": [
           "#636efa",
           "#EF553B",
           "#00cc96",
           "#ab63fa",
           "#FFA15A",
           "#19d3f3",
           "#FF6692",
           "#B6E880",
           "#FF97FF",
           "#FECB52"
          ],
          "font": {
           "color": "#2a3f5f"
          },
          "geo": {
           "bgcolor": "white",
           "lakecolor": "white",
           "landcolor": "#E5ECF6",
           "showlakes": true,
           "showland": true,
           "subunitcolor": "white"
          },
          "hoverlabel": {
           "align": "left"
          },
          "hovermode": "closest",
          "mapbox": {
           "style": "light"
          },
          "paper_bgcolor": "white",
          "plot_bgcolor": "#E5ECF6",
          "polar": {
           "angularaxis": {
            "gridcolor": "white",
            "linecolor": "white",
            "ticks": ""
           },
           "bgcolor": "#E5ECF6",
           "radialaxis": {
            "gridcolor": "white",
            "linecolor": "white",
            "ticks": ""
           }
          },
          "scene": {
           "xaxis": {
            "backgroundcolor": "#E5ECF6",
            "gridcolor": "white",
            "gridwidth": 2,
            "linecolor": "white",
            "showbackground": true,
            "ticks": "",
            "zerolinecolor": "white"
           },
           "yaxis": {
            "backgroundcolor": "#E5ECF6",
            "gridcolor": "white",
            "gridwidth": 2,
            "linecolor": "white",
            "showbackground": true,
            "ticks": "",
            "zerolinecolor": "white"
           },
           "zaxis": {
            "backgroundcolor": "#E5ECF6",
            "gridcolor": "white",
            "gridwidth": 2,
            "linecolor": "white",
            "showbackground": true,
            "ticks": "",
            "zerolinecolor": "white"
           }
          },
          "shapedefaults": {
           "line": {
            "color": "#2a3f5f"
           }
          },
          "ternary": {
           "aaxis": {
            "gridcolor": "white",
            "linecolor": "white",
            "ticks": ""
           },
           "baxis": {
            "gridcolor": "white",
            "linecolor": "white",
            "ticks": ""
           },
           "bgcolor": "#E5ECF6",
           "caxis": {
            "gridcolor": "white",
            "linecolor": "white",
            "ticks": ""
           }
          },
          "title": {
           "x": 0.05
          },
          "xaxis": {
           "automargin": true,
           "gridcolor": "white",
           "linecolor": "white",
           "ticks": "",
           "title": {
            "standoff": 15
           },
           "zerolinecolor": "white",
           "zerolinewidth": 2
          },
          "yaxis": {
           "automargin": true,
           "gridcolor": "white",
           "linecolor": "white",
           "ticks": "",
           "title": {
            "standoff": 15
           },
           "zerolinecolor": "white",
           "zerolinewidth": 2
          }
         }
        },
        "xaxis": {
         "anchor": "y",
         "domain": [
          0,
          1
         ],
         "title": {
          "text": "fdr_bh"
         }
        },
        "yaxis": {
         "anchor": "x",
         "domain": [
          0,
          1
         ],
         "title": {
          "text": "odds"
         }
        }
       }
      },
      "text/html": [
       "<div>                            <div id=\"1b265517-06d8-47b0-b0af-4160dcf7866d\" class=\"plotly-graph-div\" style=\"height:525px; width:100%;\"></div>            <script type=\"text/javascript\">                require([\"plotly\"], function(Plotly) {                    window.PLOTLYENV=window.PLOTLYENV || {};                                    if (document.getElementById(\"1b265517-06d8-47b0-b0af-4160dcf7866d\")) {                    Plotly.newPlot(                        \"1b265517-06d8-47b0-b0af-4160dcf7866d\",                        [{\"hovertemplate\":\"go_term=Eye development<br>fdr_bh=%{x}<br>odds=%{marker.size}<extra></extra>\",\"legendgroup\":\"Eye development\",\"marker\":{\"color\":\"#636efa\",\"size\":[2.846773303916161],\"sizemode\":\"area\",\"sizeref\":0.04711196203214325,\"symbol\":\"circle\"},\"mode\":\"markers\",\"name\":\"Eye development\",\"orientation\":\"v\",\"showlegend\":true,\"x\":[0.0007107053834466814],\"xaxis\":\"x\",\"y\":[2.846773303916161],\"yaxis\":\"y\",\"type\":\"scatter\"},{\"hovertemplate\":\"go_term=Regulation of cellular component size<br>fdr_bh=%{x}<br>odds=%{marker.size}<extra></extra>\",\"legendgroup\":\"Regulation of cellular component size\",\"marker\":{\"color\":\"#EF553B\",\"size\":[3.402482269503546],\"sizemode\":\"area\",\"sizeref\":0.04711196203214325,\"symbol\":\"circle\"},\"mode\":\"markers\",\"name\":\"Regulation of cellular component size\",\"orientation\":\"v\",\"showlegend\":true,\"x\":[2.3951491652503447e-05],\"xaxis\":\"x\",\"y\":[3.402482269503546],\"yaxis\":\"y\",\"type\":\"scatter\"},{\"hovertemplate\":\"go_term=Camera-type eye development<br>fdr_bh=%{x}<br>odds=%{marker.size}<extra></extra>\",\"legendgroup\":\"Camera-type eye development\",\"marker\":{\"color\":\"#00cc96\",\"size\":[2.5825475228259243],\"sizemode\":\"area\",\"sizeref\":0.04711196203214325,\"symbol\":\"circle\"},\"mode\":\"markers\",\"name\":\"Camera-type eye development\",\"orientation\":\"v\",\"showlegend\":true,\"x\":[0.004435902174945687],\"xaxis\":\"x\",\"y\":[2.5825475228259243],\"yaxis\":\"y\",\"type\":\"scatter\"},{\"hovertemplate\":\"go_term=Sensory system development<br>fdr_bh=%{x}<br>odds=%{marker.size}<extra></extra>\",\"legendgroup\":\"Sensory system development\",\"marker\":{\"color\":\"#ab63fa\",\"size\":[2.797817882087545],\"sizemode\":\"area\",\"sizeref\":0.04711196203214325,\"symbol\":\"circle\"},\"mode\":\"markers\",\"name\":\"Sensory system development\",\"orientation\":\"v\",\"showlegend\":true,\"x\":[0.000825272591258616],\"xaxis\":\"x\",\"y\":[2.797817882087545],\"yaxis\":\"y\",\"type\":\"scatter\"},{\"hovertemplate\":\"go_term=Sensory organ morphogenesis<br>fdr_bh=%{x}<br>odds=%{marker.size}<extra></extra>\",\"legendgroup\":\"Sensory organ morphogenesis\",\"marker\":{\"color\":\"#FFA15A\",\"size\":[2.8614647049099027],\"sizemode\":\"area\",\"sizeref\":0.04711196203214325,\"symbol\":\"circle\"},\"mode\":\"markers\",\"name\":\"Sensory organ morphogenesis\",\"orientation\":\"v\",\"showlegend\":true,\"x\":[0.003075344304131533],\"xaxis\":\"x\",\"y\":[2.8614647049099027],\"yaxis\":\"y\",\"type\":\"scatter\"},{\"hovertemplate\":\"go_term=Visual system development<br>fdr_bh=%{x}<br>odds=%{marker.size}<extra></extra>\",\"legendgroup\":\"Visual system development\",\"marker\":{\"color\":\"#19d3f3\",\"size\":[2.846773303916161],\"sizemode\":\"area\",\"sizeref\":0.04711196203214325,\"symbol\":\"circle\"},\"mode\":\"markers\",\"name\":\"Visual system development\",\"orientation\":\"v\",\"showlegend\":true,\"x\":[0.0007107053834466814],\"xaxis\":\"x\",\"y\":[2.846773303916161],\"yaxis\":\"y\",\"type\":\"scatter\"},{\"hovertemplate\":\"go_term=Formation of primary germ layer<br>fdr_bh=%{x}<br>odds=%{marker.size}<extra></extra>\",\"legendgroup\":\"Formation of primary germ layer\",\"marker\":{\"color\":\"#FF6692\",\"size\":[6.953720803910918],\"sizemode\":\"area\",\"sizeref\":0.04711196203214325,\"symbol\":\"circle\"},\"mode\":\"markers\",\"name\":\"Formation of primary germ layer\",\"orientation\":\"v\",\"showlegend\":true,\"x\":[4.3979466861879685e-06],\"xaxis\":\"x\",\"y\":[6.953720803910918],\"yaxis\":\"y\",\"type\":\"scatter\"},{\"hovertemplate\":\"go_term=Cell-matrix adhesion<br>fdr_bh=%{x}<br>odds=%{marker.size}<extra></extra>\",\"legendgroup\":\"Cell-matrix adhesion\",\"marker\":{\"color\":\"#B6E880\",\"size\":[8.311844792375766],\"sizemode\":\"area\",\"sizeref\":0.04711196203214325,\"symbol\":\"circle\"},\"mode\":\"markers\",\"name\":\"Cell-matrix adhesion\",\"orientation\":\"v\",\"showlegend\":true,\"x\":[5.206769040894957e-08],\"xaxis\":\"x\",\"y\":[8.311844792375766],\"yaxis\":\"y\",\"type\":\"scatter\"},{\"hovertemplate\":\"go_term=Integrin-mediated signaling pathway<br>fdr_bh=%{x}<br>odds=%{marker.size}<extra></extra>\",\"legendgroup\":\"Integrin-mediated signaling pathway\",\"marker\":{\"color\":\"#FF97FF\",\"size\":[13.893063009342079],\"sizemode\":\"area\",\"sizeref\":0.04711196203214325,\"symbol\":\"circle\"},\"mode\":\"markers\",\"name\":\"Integrin-mediated signaling pathway\",\"orientation\":\"v\",\"showlegend\":true,\"x\":[2.7326095851159278e-11],\"xaxis\":\"x\",\"y\":[13.893063009342079],\"yaxis\":\"y\",\"type\":\"scatter\"},{\"hovertemplate\":\"go_term=Gastrulation<br>fdr_bh=%{x}<br>odds=%{marker.size}<extra></extra>\",\"legendgroup\":\"Gastrulation\",\"marker\":{\"color\":\"#FECB52\",\"size\":[5.940166902849945],\"sizemode\":\"area\",\"sizeref\":0.04711196203214325,\"symbol\":\"circle\"},\"mode\":\"markers\",\"name\":\"Gastrulation\",\"orientation\":\"v\",\"showlegend\":true,\"x\":[2.9792697991295785e-06],\"xaxis\":\"x\",\"y\":[5.940166902849945],\"yaxis\":\"y\",\"type\":\"scatter\"},{\"hovertemplate\":\"go_term=Learning or memory<br>fdr_bh=%{x}<br>odds=%{marker.size}<extra></extra>\",\"legendgroup\":\"Learning or memory\",\"marker\":{\"color\":\"#636efa\",\"size\":[6.034875610323181],\"sizemode\":\"area\",\"sizeref\":0.04711196203214325,\"symbol\":\"circle\"},\"mode\":\"markers\",\"name\":\"Learning or memory\",\"orientation\":\"v\",\"showlegend\":true,\"x\":[5.30204070895848e-09],\"xaxis\":\"x\",\"y\":[6.034875610323181],\"yaxis\":\"y\",\"type\":\"scatter\"},{\"hovertemplate\":\"go_term=Memory<br>fdr_bh=%{x}<br>odds=%{marker.size}<extra></extra>\",\"legendgroup\":\"Memory\",\"marker\":{\"color\":\"#EF553B\",\"size\":[7.265787647467037],\"sizemode\":\"area\",\"sizeref\":0.04711196203214325,\"symbol\":\"circle\"},\"mode\":\"markers\",\"name\":\"Memory\",\"orientation\":\"v\",\"showlegend\":true,\"x\":[1.2119740530041932e-06],\"xaxis\":\"x\",\"y\":[7.265787647467037],\"yaxis\":\"y\",\"type\":\"scatter\"},{\"hovertemplate\":\"go_term=Regulation of cell-substrate adhesion<br>fdr_bh=%{x}<br>odds=%{marker.size}<extra></extra>\",\"legendgroup\":\"Regulation of cell-substrate adhesion\",\"marker\":{\"color\":\"#00cc96\",\"size\":[5.4915361493434585],\"sizemode\":\"area\",\"sizeref\":0.04711196203214325,\"symbol\":\"circle\"},\"mode\":\"markers\",\"name\":\"Regulation of cell-substrate adhesion\",\"orientation\":\"v\",\"showlegend\":true,\"x\":[6.452484829393182e-07],\"xaxis\":\"x\",\"y\":[5.4915361493434585],\"yaxis\":\"y\",\"type\":\"scatter\"},{\"hovertemplate\":\"go_term=Positive regulation of cell-substrate adhesion<br>fdr_bh=%{x}<br>odds=%{marker.size}<extra></extra>\",\"legendgroup\":\"Positive regulation of cell-substrate adhesion\",\"marker\":{\"color\":\"#ab63fa\",\"size\":[6.45846091725832],\"sizemode\":\"area\",\"sizeref\":0.04711196203214325,\"symbol\":\"circle\"},\"mode\":\"markers\",\"name\":\"Positive regulation of cell-substrate adhesion\",\"orientation\":\"v\",\"showlegend\":true,\"x\":[7.458499744399835e-06],\"xaxis\":\"x\",\"y\":[6.45846091725832],\"yaxis\":\"y\",\"type\":\"scatter\"},{\"hovertemplate\":\"go_term=Positive regulation of neuron projection development<br>fdr_bh=%{x}<br>odds=%{marker.size}<extra></extra>\",\"legendgroup\":\"Positive regulation of neuron projection development\",\"marker\":{\"color\":\"#FFA15A\",\"size\":[5.370386818847981],\"sizemode\":\"area\",\"sizeref\":0.04711196203214325,\"symbol\":\"circle\"},\"mode\":\"markers\",\"name\":\"Positive regulation of neuron projection development\",\"orientation\":\"v\",\"showlegend\":true,\"x\":[2.402517977495445e-08],\"xaxis\":\"x\",\"y\":[5.370386818847981],\"yaxis\":\"y\",\"type\":\"scatter\"},{\"hovertemplate\":\"go_term=Regulation of wnt signaling pathway<br>fdr_bh=%{x}<br>odds=%{marker.size}<extra></extra>\",\"legendgroup\":\"Regulation of wnt signaling pathway\",\"marker\":{\"color\":\"#19d3f3\",\"size\":[2.601555747623163],\"sizemode\":\"area\",\"sizeref\":0.04711196203214325,\"symbol\":\"circle\"},\"mode\":\"markers\",\"name\":\"Regulation of wnt signaling pathway\",\"orientation\":\"v\",\"showlegend\":true,\"x\":[0.0021564214373833834],\"xaxis\":\"x\",\"y\":[2.601555747623163],\"yaxis\":\"y\",\"type\":\"scatter\"},{\"hovertemplate\":\"go_term=Extracellular matrix organization<br>fdr_bh=%{x}<br>odds=%{marker.size}<extra></extra>\",\"legendgroup\":\"Extracellular matrix organization\",\"marker\":{\"color\":\"#FF6692\",\"size\":[4.510230545753793],\"sizemode\":\"area\",\"sizeref\":0.04711196203214325,\"symbol\":\"circle\"},\"mode\":\"markers\",\"name\":\"Extracellular matrix organization\",\"orientation\":\"v\",\"showlegend\":true,\"x\":[2.6910743960809e-07],\"xaxis\":\"x\",\"y\":[4.510230545753793],\"yaxis\":\"y\",\"type\":\"scatter\"},{\"hovertemplate\":\"go_term=Respiratory tube development<br>fdr_bh=%{x}<br>odds=%{marker.size}<extra></extra>\",\"legendgroup\":\"Respiratory tube development\",\"marker\":{\"color\":\"#B6E880\",\"size\":[4.918857789086797],\"sizemode\":\"area\",\"sizeref\":0.04711196203214325,\"symbol\":\"circle\"},\"mode\":\"markers\",\"name\":\"Respiratory tube development\",\"orientation\":\"v\",\"showlegend\":true,\"x\":[3.111009153418355e-05],\"xaxis\":\"x\",\"y\":[4.918857789086797],\"yaxis\":\"y\",\"type\":\"scatter\"},{\"hovertemplate\":\"go_term=Lung development<br>fdr_bh=%{x}<br>odds=%{marker.size}<extra></extra>\",\"legendgroup\":\"Lung development\",\"marker\":{\"color\":\"#FF97FF\",\"size\":[4.577875026902934],\"sizemode\":\"area\",\"sizeref\":0.04711196203214325,\"symbol\":\"circle\"},\"mode\":\"markers\",\"name\":\"Lung development\",\"orientation\":\"v\",\"showlegend\":true,\"x\":[0.00010709121403669208],\"xaxis\":\"x\",\"y\":[4.577875026902934],\"yaxis\":\"y\",\"type\":\"scatter\"},{\"hovertemplate\":\"go_term=Positive regulation of cell projection organization<br>fdr_bh=%{x}<br>odds=%{marker.size}<extra></extra>\",\"legendgroup\":\"Positive regulation of cell projection organization\",\"marker\":{\"color\":\"#FECB52\",\"size\":[4.478608695652174],\"sizemode\":\"area\",\"sizeref\":0.04711196203214325,\"symbol\":\"circle\"},\"mode\":\"markers\",\"name\":\"Positive regulation of cell projection organization\",\"orientation\":\"v\",\"showlegend\":true,\"x\":[5.253029449767704e-08],\"xaxis\":\"x\",\"y\":[4.478608695652174],\"yaxis\":\"y\",\"type\":\"scatter\"},{\"hovertemplate\":\"go_term=Cell-substrate adhesion<br>fdr_bh=%{x}<br>odds=%{marker.size}<extra></extra>\",\"legendgroup\":\"Cell-substrate adhesion\",\"marker\":{\"color\":\"#636efa\",\"size\":[7.9460363286418865],\"sizemode\":\"area\",\"sizeref\":0.04711196203214325,\"symbol\":\"circle\"},\"mode\":\"markers\",\"name\":\"Cell-substrate adhesion\",\"orientation\":\"v\",\"showlegend\":true,\"x\":[6.677901352361279e-10],\"xaxis\":\"x\",\"y\":[7.9460363286418865],\"yaxis\":\"y\",\"type\":\"scatter\"},{\"hovertemplate\":\"go_term=Cell junction organization<br>fdr_bh=%{x}<br>odds=%{marker.size}<extra></extra>\",\"legendgroup\":\"Cell junction organization\",\"marker\":{\"color\":\"#EF553B\",\"size\":[4.520562464669305],\"sizemode\":\"area\",\"sizeref\":0.04711196203214325,\"symbol\":\"circle\"},\"mode\":\"markers\",\"name\":\"Cell junction organization\",\"orientation\":\"v\",\"showlegend\":true,\"x\":[1.6834400442285559e-09],\"xaxis\":\"x\",\"y\":[4.520562464669305],\"yaxis\":\"y\",\"type\":\"scatter\"},{\"hovertemplate\":\"go_term=Extracellular structure organization<br>fdr_bh=%{x}<br>odds=%{marker.size}<extra></extra>\",\"legendgroup\":\"Extracellular structure organization\",\"marker\":{\"color\":\"#00cc96\",\"size\":[4.4957864121112685],\"sizemode\":\"area\",\"sizeref\":0.04711196203214325,\"symbol\":\"circle\"},\"mode\":\"markers\",\"name\":\"Extracellular structure organization\",\"orientation\":\"v\",\"showlegend\":true,\"x\":[2.7353716235094425e-07],\"xaxis\":\"x\",\"y\":[4.4957864121112685],\"yaxis\":\"y\",\"type\":\"scatter\"},{\"hovertemplate\":\"go_term=Positive regulation of neuron differentiation<br>fdr_bh=%{x}<br>odds=%{marker.size}<extra></extra>\",\"legendgroup\":\"Positive regulation of neuron differentiation\",\"marker\":{\"color\":\"#ab63fa\",\"size\":[4.0070391259936935],\"sizemode\":\"area\",\"sizeref\":0.04711196203214325,\"symbol\":\"circle\"},\"mode\":\"markers\",\"name\":\"Positive regulation of neuron differentiation\",\"orientation\":\"v\",\"showlegend\":true,\"x\":[1.2614226034890811e-06],\"xaxis\":\"x\",\"y\":[4.0070391259936935],\"yaxis\":\"y\",\"type\":\"scatter\"},{\"hovertemplate\":\"go_term=Positive regulation of cell adhesion<br>fdr_bh=%{x}<br>odds=%{marker.size}<extra></extra>\",\"legendgroup\":\"Positive regulation of cell adhesion\",\"marker\":{\"color\":\"#FFA15A\",\"size\":[3.731326445790286],\"sizemode\":\"area\",\"sizeref\":0.04711196203214325,\"symbol\":\"circle\"},\"mode\":\"markers\",\"name\":\"Positive regulation of cell adhesion\",\"orientation\":\"v\",\"showlegend\":true,\"x\":[1.9365891646628963e-06],\"xaxis\":\"x\",\"y\":[3.731326445790286],\"yaxis\":\"y\",\"type\":\"scatter\"},{\"hovertemplate\":\"go_term=Regulation of ras protein signal transduction<br>fdr_bh=%{x}<br>odds=%{marker.size}<extra></extra>\",\"legendgroup\":\"Regulation of ras protein signal transduction\",\"marker\":{\"color\":\"#19d3f3\",\"size\":[5.140236686390533],\"sizemode\":\"area\",\"sizeref\":0.04711196203214325,\"symbol\":\"circle\"},\"mode\":\"markers\",\"name\":\"Regulation of ras protein signal transduction\",\"orientation\":\"v\",\"showlegend\":true,\"x\":[5.119732011484324e-06],\"xaxis\":\"x\",\"y\":[5.140236686390533],\"yaxis\":\"y\",\"type\":\"scatter\"},{\"hovertemplate\":\"go_term=Positive regulation of neurogenesis<br>fdr_bh=%{x}<br>odds=%{marker.size}<extra></extra>\",\"legendgroup\":\"Positive regulation of neurogenesis\",\"marker\":{\"color\":\"#FF6692\",\"size\":[4.130145820644191],\"sizemode\":\"area\",\"sizeref\":0.04711196203214325,\"symbol\":\"circle\"},\"mode\":\"markers\",\"name\":\"Positive regulation of neurogenesis\",\"orientation\":\"v\",\"showlegend\":true,\"x\":[3.695377555748493e-08],\"xaxis\":\"x\",\"y\":[4.130145820644191],\"yaxis\":\"y\",\"type\":\"scatter\"},{\"hovertemplate\":\"go_term=Synapse organization<br>fdr_bh=%{x}<br>odds=%{marker.size}<extra></extra>\",\"legendgroup\":\"Synapse organization\",\"marker\":{\"color\":\"#B6E880\",\"size\":[4.585701650943396],\"sizemode\":\"area\",\"sizeref\":0.04711196203214325,\"symbol\":\"circle\"},\"mode\":\"markers\",\"name\":\"Synapse organization\",\"orientation\":\"v\",\"showlegend\":true,\"x\":[1.265824592318294e-06],\"xaxis\":\"x\",\"y\":[4.585701650943396],\"yaxis\":\"y\",\"type\":\"scatter\"},{\"hovertemplate\":\"go_term=Cognition<br>fdr_bh=%{x}<br>odds=%{marker.size}<extra></extra>\",\"legendgroup\":\"Cognition\",\"marker\":{\"color\":\"#FF97FF\",\"size\":[5.3815192743764175],\"sizemode\":\"area\",\"sizeref\":0.04711196203214325,\"symbol\":\"circle\"},\"mode\":\"markers\",\"name\":\"Cognition\",\"orientation\":\"v\",\"showlegend\":true,\"x\":[1.2923995614952275e-08],\"xaxis\":\"x\",\"y\":[5.3815192743764175],\"yaxis\":\"y\",\"type\":\"scatter\"},{\"hovertemplate\":\"go_term=Leukocyte migration<br>fdr_bh=%{x}<br>odds=%{marker.size}<extra></extra>\",\"legendgroup\":\"Leukocyte migration\",\"marker\":{\"color\":\"#FECB52\",\"size\":[4.32733874694659],\"sizemode\":\"area\",\"sizeref\":0.04711196203214325,\"symbol\":\"circle\"},\"mode\":\"markers\",\"name\":\"Leukocyte migration\",\"orientation\":\"v\",\"showlegend\":true,\"x\":[1.3948085159870874e-06],\"xaxis\":\"x\",\"y\":[4.32733874694659],\"yaxis\":\"y\",\"type\":\"scatter\"},{\"hovertemplate\":\"go_term=Regulation of small gtpase mediated signal transduction<br>fdr_bh=%{x}<br>odds=%{marker.size}<extra></extra>\",\"legendgroup\":\"Regulation of small gtpase mediated signal transduction\",\"marker\":{\"color\":\"#636efa\",\"size\":[6.321006439692416],\"sizemode\":\"area\",\"sizeref\":0.04711196203214325,\"symbol\":\"circle\"},\"mode\":\"markers\",\"name\":\"Regulation of small gtpase mediated signal transduction\",\"orientation\":\"v\",\"showlegend\":true,\"x\":[2.7326095851159278e-11],\"xaxis\":\"x\",\"y\":[6.321006439692416],\"yaxis\":\"y\",\"type\":\"scatter\"},{\"hovertemplate\":\"go_term=Respiratory system development<br>fdr_bh=%{x}<br>odds=%{marker.size}<extra></extra>\",\"legendgroup\":\"Respiratory system development\",\"marker\":{\"color\":\"#EF553B\",\"size\":[3.907273396295842],\"sizemode\":\"area\",\"sizeref\":0.04711196203214325,\"symbol\":\"circle\"},\"mode\":\"markers\",\"name\":\"Respiratory system development\",\"orientation\":\"v\",\"showlegend\":true,\"x\":[0.00034097440611877166],\"xaxis\":\"x\",\"y\":[3.907273396295842],\"yaxis\":\"y\",\"type\":\"scatter\"},{\"hovertemplate\":\"go_term=Regulation of cellular response to growth factor stimulus<br>fdr_bh=%{x}<br>odds=%{marker.size}<extra></extra>\",\"legendgroup\":\"Regulation of cellular response to growth factor stimulus\",\"marker\":{\"color\":\"#00cc96\",\"size\":[3.213387087550752],\"sizemode\":\"area\",\"sizeref\":0.04711196203214325,\"symbol\":\"circle\"},\"mode\":\"markers\",\"name\":\"Regulation of cellular response to growth factor stimulus\",\"orientation\":\"v\",\"showlegend\":true,\"x\":[0.0005567140393140953],\"xaxis\":\"x\",\"y\":[3.213387087550752],\"yaxis\":\"y\",\"type\":\"scatter\"},{\"hovertemplate\":\"go_term=Positive regulation of cellular protein localization<br>fdr_bh=%{x}<br>odds=%{marker.size}<extra></extra>\",\"legendgroup\":\"Positive regulation of cellular protein localization\",\"marker\":{\"color\":\"#ab63fa\",\"size\":[4.683009444691688],\"sizemode\":\"area\",\"sizeref\":0.04711196203214325,\"symbol\":\"circle\"},\"mode\":\"markers\",\"name\":\"Positive regulation of cellular protein localization\",\"orientation\":\"v\",\"showlegend\":true,\"x\":[8.659907002778514e-08],\"xaxis\":\"x\",\"y\":[4.683009444691688],\"yaxis\":\"y\",\"type\":\"scatter\"},{\"hovertemplate\":\"go_term=Regulation of protein localization to membrane<br>fdr_bh=%{x}<br>odds=%{marker.size}<extra></extra>\",\"legendgroup\":\"Regulation of protein localization to membrane\",\"marker\":{\"color\":\"#FFA15A\",\"size\":[6.746503798342541],\"sizemode\":\"area\",\"sizeref\":0.04711196203214325,\"symbol\":\"circle\"},\"mode\":\"markers\",\"name\":\"Regulation of protein localization to membrane\",\"orientation\":\"v\",\"showlegend\":true,\"x\":[1.2968221429332738e-08],\"xaxis\":\"x\",\"y\":[6.746503798342541],\"yaxis\":\"y\",\"type\":\"scatter\"},{\"hovertemplate\":\"go_term=Positive regulation of protein localization to membrane<br>fdr_bh=%{x}<br>odds=%{marker.size}<extra></extra>\",\"legendgroup\":\"Positive regulation of protein localization to membrane\",\"marker\":{\"color\":\"#19d3f3\",\"size\":[8.095490716180372],\"sizemode\":\"area\",\"sizeref\":0.04711196203214325,\"symbol\":\"circle\"},\"mode\":\"markers\",\"name\":\"Positive regulation of protein localization to membrane\",\"orientation\":\"v\",\"showlegend\":true,\"x\":[6.792412496569224e-08],\"xaxis\":\"x\",\"y\":[8.095490716180372],\"yaxis\":\"y\",\"type\":\"scatter\"},{\"hovertemplate\":\"go_term=Vesicle fusion<br>fdr_bh=%{x}<br>odds=%{marker.size}<extra></extra>\",\"legendgroup\":\"Vesicle fusion\",\"marker\":{\"color\":\"#FF6692\",\"size\":[12.09653043848446],\"sizemode\":\"area\",\"sizeref\":0.04711196203214325,\"symbol\":\"circle\"},\"mode\":\"markers\",\"name\":\"Vesicle fusion\",\"orientation\":\"v\",\"showlegend\":true,\"x\":[4.988162599205334e-09],\"xaxis\":\"x\",\"y\":[12.09653043848446],\"yaxis\":\"y\",\"type\":\"scatter\"},{\"hovertemplate\":\"go_term=Response to metal ion<br>fdr_bh=%{x}<br>odds=%{marker.size}<extra></extra>\",\"legendgroup\":\"Response to metal ion\",\"marker\":{\"color\":\"#B6E880\",\"size\":[3.6395499108734404],\"sizemode\":\"area\",\"sizeref\":0.04711196203214325,\"symbol\":\"circle\"},\"mode\":\"markers\",\"name\":\"Response to metal ion\",\"orientation\":\"v\",\"showlegend\":true,\"x\":[1.0821623790390405e-05],\"xaxis\":\"x\",\"y\":[3.6395499108734404],\"yaxis\":\"y\",\"type\":\"scatter\"},{\"hovertemplate\":\"go_term=Vesicle organization<br>fdr_bh=%{x}<br>odds=%{marker.size}<extra></extra>\",\"legendgroup\":\"Vesicle organization\",\"marker\":{\"color\":\"#FF97FF\",\"size\":[4.406381020554249],\"sizemode\":\"area\",\"sizeref\":0.04711196203214325,\"symbol\":\"circle\"},\"mode\":\"markers\",\"name\":\"Vesicle organization\",\"orientation\":\"v\",\"showlegend\":true,\"x\":[6.452484829393182e-07],\"xaxis\":\"x\",\"y\":[4.406381020554249],\"yaxis\":\"y\",\"type\":\"scatter\"},{\"hovertemplate\":\"go_term=Regulation of exocytosis<br>fdr_bh=%{x}<br>odds=%{marker.size}<extra></extra>\",\"legendgroup\":\"Regulation of exocytosis\",\"marker\":{\"color\":\"#FECB52\",\"size\":[7.98408376544075],\"sizemode\":\"area\",\"sizeref\":0.04711196203214325,\"symbol\":\"circle\"},\"mode\":\"markers\",\"name\":\"Regulation of exocytosis\",\"orientation\":\"v\",\"showlegend\":true,\"x\":[1.776835948871738e-11],\"xaxis\":\"x\",\"y\":[7.98408376544075],\"yaxis\":\"y\",\"type\":\"scatter\"},{\"hovertemplate\":\"go_term=Organelle fusion<br>fdr_bh=%{x}<br>odds=%{marker.size}<extra></extra>\",\"legendgroup\":\"Organelle fusion\",\"marker\":{\"color\":\"#636efa\",\"size\":[8.78389256550176],\"sizemode\":\"area\",\"sizeref\":0.04711196203214325,\"symbol\":\"circle\"},\"mode\":\"markers\",\"name\":\"Organelle fusion\",\"orientation\":\"v\",\"showlegend\":true,\"x\":[8.477634504772643e-08],\"xaxis\":\"x\",\"y\":[8.78389256550176],\"yaxis\":\"y\",\"type\":\"scatter\"},{\"hovertemplate\":\"go_term=Response to calcium ion<br>fdr_bh=%{x}<br>odds=%{marker.size}<extra></extra>\",\"legendgroup\":\"Response to calcium ion\",\"marker\":{\"color\":\"#EF553B\",\"size\":[6.2874118496307405],\"sizemode\":\"area\",\"sizeref\":0.04711196203214325,\"symbol\":\"circle\"},\"mode\":\"markers\",\"name\":\"Response to calcium ion\",\"orientation\":\"v\",\"showlegend\":true,\"x\":[1.7019130456963047e-06],\"xaxis\":\"x\",\"y\":[6.2874118496307405],\"yaxis\":\"y\",\"type\":\"scatter\"},{\"hovertemplate\":\"go_term=Regulation of amine transport<br>fdr_bh=%{x}<br>odds=%{marker.size}<extra></extra>\",\"legendgroup\":\"Regulation of amine transport\",\"marker\":{\"color\":\"#00cc96\",\"size\":[10.13489226012175],\"sizemode\":\"area\",\"sizeref\":0.04711196203214325,\"symbol\":\"circle\"},\"mode\":\"markers\",\"name\":\"Regulation of amine transport\",\"orientation\":\"v\",\"showlegend\":true,\"x\":[7.43326776902694e-08],\"xaxis\":\"x\",\"y\":[10.13489226012175],\"yaxis\":\"y\",\"type\":\"scatter\"},{\"hovertemplate\":\"go_term=Membrane fusion<br>fdr_bh=%{x}<br>odds=%{marker.size}<extra></extra>\",\"legendgroup\":\"Membrane fusion\",\"marker\":{\"color\":\"#ab63fa\",\"size\":[6.575467316846627],\"sizemode\":\"area\",\"sizeref\":0.04711196203214325,\"symbol\":\"circle\"},\"mode\":\"markers\",\"name\":\"Membrane fusion\",\"orientation\":\"v\",\"showlegend\":true,\"x\":[1.1843688487012394e-06],\"xaxis\":\"x\",\"y\":[6.575467316846627],\"yaxis\":\"y\",\"type\":\"scatter\"},{\"hovertemplate\":\"go_term=Cellular response to inorganic substance<br>fdr_bh=%{x}<br>odds=%{marker.size}<extra></extra>\",\"legendgroup\":\"Cellular response to inorganic substance\",\"marker\":{\"color\":\"#FFA15A\",\"size\":[6.365633149811649],\"sizemode\":\"area\",\"sizeref\":0.04711196203214325,\"symbol\":\"circle\"},\"mode\":\"markers\",\"name\":\"Cellular response to inorganic substance\",\"orientation\":\"v\",\"showlegend\":true,\"x\":[1.2510130052500426e-08],\"xaxis\":\"x\",\"y\":[6.365633149811649],\"yaxis\":\"y\",\"type\":\"scatter\"},{\"hovertemplate\":\"go_term=Cellular response to metal ion<br>fdr_bh=%{x}<br>odds=%{marker.size}<extra></extra>\",\"legendgroup\":\"Cellular response to metal ion\",\"marker\":{\"color\":\"#19d3f3\",\"size\":[6.087680112118425],\"sizemode\":\"area\",\"sizeref\":0.04711196203214325,\"symbol\":\"circle\"},\"mode\":\"markers\",\"name\":\"Cellular response to metal ion\",\"orientation\":\"v\",\"showlegend\":true,\"x\":[2.1581414640635662e-07],\"xaxis\":\"x\",\"y\":[6.087680112118425],\"yaxis\":\"y\",\"type\":\"scatter\"},{\"hovertemplate\":\"go_term=Organelle membrane fusion<br>fdr_bh=%{x}<br>odds=%{marker.size}<extra></extra>\",\"legendgroup\":\"Organelle membrane fusion\",\"marker\":{\"color\":\"#FF6692\",\"size\":[11.020272564139871],\"sizemode\":\"area\",\"sizeref\":0.04711196203214325,\"symbol\":\"circle\"},\"mode\":\"markers\",\"name\":\"Organelle membrane fusion\",\"orientation\":\"v\",\"showlegend\":true,\"x\":[1.1796734792944452e-08],\"xaxis\":\"x\",\"y\":[11.020272564139871],\"yaxis\":\"y\",\"type\":\"scatter\"},{\"hovertemplate\":\"go_term=Regulation of regulated secretory pathway<br>fdr_bh=%{x}<br>odds=%{marker.size}<extra></extra>\",\"legendgroup\":\"Regulation of regulated secretory pathway\",\"marker\":{\"color\":\"#B6E880\",\"size\":[7.342720033749934],\"sizemode\":\"area\",\"sizeref\":0.04711196203214325,\"symbol\":\"circle\"},\"mode\":\"markers\",\"name\":\"Regulation of regulated secretory pathway\",\"orientation\":\"v\",\"showlegend\":true,\"x\":[2.6343416794182588e-08],\"xaxis\":\"x\",\"y\":[7.342720033749934],\"yaxis\":\"y\",\"type\":\"scatter\"},{\"hovertemplate\":\"go_term=Regulation of peptide secretion<br>fdr_bh=%{x}<br>odds=%{marker.size}<extra></extra>\",\"legendgroup\":\"Regulation of peptide secretion\",\"marker\":{\"color\":\"#FF97FF\",\"size\":[4.089074373987791],\"sizemode\":\"area\",\"sizeref\":0.04711196203214325,\"symbol\":\"circle\"},\"mode\":\"markers\",\"name\":\"Regulation of peptide secretion\",\"orientation\":\"v\",\"showlegend\":true,\"x\":[9.914372363509295e-07],\"xaxis\":\"x\",\"y\":[4.089074373987791],\"yaxis\":\"y\",\"type\":\"scatter\"},{\"hovertemplate\":\"go_term=Regulation of protein secretion<br>fdr_bh=%{x}<br>odds=%{marker.size}<extra></extra>\",\"legendgroup\":\"Regulation of protein secretion\",\"marker\":{\"color\":\"#FECB52\",\"size\":[4.238188976377953],\"sizemode\":\"area\",\"sizeref\":0.04711196203214325,\"symbol\":\"circle\"},\"mode\":\"markers\",\"name\":\"Regulation of protein secretion\",\"orientation\":\"v\",\"showlegend\":true,\"x\":[1.0483610577330664e-06],\"xaxis\":\"x\",\"y\":[4.238188976377953],\"yaxis\":\"y\",\"type\":\"scatter\"},{\"hovertemplate\":\"go_term=Negative regulation of transport<br>fdr_bh=%{x}<br>odds=%{marker.size}<extra></extra>\",\"legendgroup\":\"Negative regulation of transport\",\"marker\":{\"color\":\"#636efa\",\"size\":[2.8260343309859155],\"sizemode\":\"area\",\"sizeref\":0.04711196203214325,\"symbol\":\"circle\"},\"mode\":\"markers\",\"name\":\"Negative regulation of transport\",\"orientation\":\"v\",\"showlegend\":true,\"x\":[0.00026900295072987917],\"xaxis\":\"x\",\"y\":[2.8260343309859155],\"yaxis\":\"y\",\"type\":\"scatter\"},{\"hovertemplate\":\"go_term=Regulation of leukocyte proliferation<br>fdr_bh=%{x}<br>odds=%{marker.size}<extra></extra>\",\"legendgroup\":\"Regulation of leukocyte proliferation\",\"marker\":{\"color\":\"#EF553B\",\"size\":[3.5287531806615777],\"sizemode\":\"area\",\"sizeref\":0.04711196203214325,\"symbol\":\"circle\"},\"mode\":\"markers\",\"name\":\"Regulation of leukocyte proliferation\",\"orientation\":\"v\",\"showlegend\":true,\"x\":[0.0004284588287790868],\"xaxis\":\"x\",\"y\":[3.5287531806615777],\"yaxis\":\"y\",\"type\":\"scatter\"},{\"hovertemplate\":\"go_term=Autophagy<br>fdr_bh=%{x}<br>odds=%{marker.size}<extra></extra>\",\"legendgroup\":\"Autophagy\",\"marker\":{\"color\":\"#00cc96\",\"size\":[3.073535851122058],\"sizemode\":\"area\",\"sizeref\":0.04711196203214325,\"symbol\":\"circle\"},\"mode\":\"markers\",\"name\":\"Autophagy\",\"orientation\":\"v\",\"showlegend\":true,\"x\":[0.0008058425817561382],\"xaxis\":\"x\",\"y\":[3.073535851122058],\"yaxis\":\"y\",\"type\":\"scatter\"},{\"hovertemplate\":\"go_term=Cell junction assembly<br>fdr_bh=%{x}<br>odds=%{marker.size}<extra></extra>\",\"legendgroup\":\"Cell junction assembly\",\"marker\":{\"color\":\"#ab63fa\",\"size\":[3.4866897147796023],\"sizemode\":\"area\",\"sizeref\":0.04711196203214325,\"symbol\":\"circle\"},\"mode\":\"markers\",\"name\":\"Cell junction assembly\",\"orientation\":\"v\",\"showlegend\":true,\"x\":[0.00017925103531024416],\"xaxis\":\"x\",\"y\":[3.4866897147796023],\"yaxis\":\"y\",\"type\":\"scatter\"},{\"hovertemplate\":\"go_term=Process utilizing autophagic mechanism<br>fdr_bh=%{x}<br>odds=%{marker.size}<extra></extra>\",\"legendgroup\":\"Process utilizing autophagic mechanism\",\"marker\":{\"color\":\"#FFA15A\",\"size\":[3.073535851122058],\"sizemode\":\"area\",\"sizeref\":0.04711196203214325,\"symbol\":\"circle\"},\"mode\":\"markers\",\"name\":\"Process utilizing autophagic mechanism\",\"orientation\":\"v\",\"showlegend\":true,\"x\":[0.0008058425817561382],\"xaxis\":\"x\",\"y\":[3.073535851122058],\"yaxis\":\"y\",\"type\":\"scatter\"},{\"hovertemplate\":\"go_term=Regulation of neurotransmitter levels<br>fdr_bh=%{x}<br>odds=%{marker.size}<extra></extra>\",\"legendgroup\":\"Regulation of neurotransmitter levels\",\"marker\":{\"color\":\"#19d3f3\",\"size\":[7.204459561602419],\"sizemode\":\"area\",\"sizeref\":0.04711196203214325,\"symbol\":\"circle\"},\"mode\":\"markers\",\"name\":\"Regulation of neurotransmitter levels\",\"orientation\":\"v\",\"showlegend\":true,\"x\":[1.6137754741712056e-10],\"xaxis\":\"x\",\"y\":[7.204459561602419],\"yaxis\":\"y\",\"type\":\"scatter\"},{\"hovertemplate\":\"go_term=Neutrophil activation involved in immune response<br>fdr_bh=%{x}<br>odds=%{marker.size}<extra></extra>\",\"legendgroup\":\"Neutrophil activation involved in immune response\",\"marker\":{\"color\":\"#FF6692\",\"size\":[4.223259102156239],\"sizemode\":\"area\",\"sizeref\":0.04711196203214325,\"symbol\":\"circle\"},\"mode\":\"markers\",\"name\":\"Neutrophil activation involved in immune response\",\"orientation\":\"v\",\"showlegend\":true,\"x\":[1.4930219241181944e-08],\"xaxis\":\"x\",\"y\":[4.223259102156239],\"yaxis\":\"y\",\"type\":\"scatter\"},{\"hovertemplate\":\"go_term=Neutrophil mediated immunity<br>fdr_bh=%{x}<br>odds=%{marker.size}<extra></extra>\",\"legendgroup\":\"Neutrophil mediated immunity\",\"marker\":{\"color\":\"#B6E880\",\"size\":[4.158249334099336],\"sizemode\":\"area\",\"sizeref\":0.04711196203214325,\"symbol\":\"circle\"},\"mode\":\"markers\",\"name\":\"Neutrophil mediated immunity\",\"orientation\":\"v\",\"showlegend\":true,\"x\":[1.962057461411847e-08],\"xaxis\":\"x\",\"y\":[4.158249334099336],\"yaxis\":\"y\",\"type\":\"scatter\"},{\"hovertemplate\":\"go_term=Neurotransmitter transport<br>fdr_bh=%{x}<br>odds=%{marker.size}<extra></extra>\",\"legendgroup\":\"Neurotransmitter transport\",\"marker\":{\"color\":\"#FF97FF\",\"size\":[8.140802092414996],\"sizemode\":\"area\",\"sizeref\":0.04711196203214325,\"symbol\":\"circle\"},\"mode\":\"markers\",\"name\":\"Neurotransmitter transport\",\"orientation\":\"v\",\"showlegend\":true,\"x\":[2.2783927088148867e-08],\"xaxis\":\"x\",\"y\":[8.140802092414996],\"yaxis\":\"y\",\"type\":\"scatter\"},{\"hovertemplate\":\"go_term=Chemical synaptic transmission<br>fdr_bh=%{x}<br>odds=%{marker.size}<extra></extra>\",\"legendgroup\":\"Chemical synaptic transmission\",\"marker\":{\"color\":\"#FECB52\",\"size\":[4.988626203397584],\"sizemode\":\"area\",\"sizeref\":0.04711196203214325,\"symbol\":\"circle\"},\"mode\":\"markers\",\"name\":\"Chemical synaptic transmission\",\"orientation\":\"v\",\"showlegend\":true,\"x\":[8.289723768262965e-10],\"xaxis\":\"x\",\"y\":[4.988626203397584],\"yaxis\":\"y\",\"type\":\"scatter\"},{\"hovertemplate\":\"go_term=Neurotransmitter secretion<br>fdr_bh=%{x}<br>odds=%{marker.size}<extra></extra>\",\"legendgroup\":\"Neurotransmitter secretion\",\"marker\":{\"color\":\"#636efa\",\"size\":[10.688461538461539],\"sizemode\":\"area\",\"sizeref\":0.04711196203214325,\"symbol\":\"circle\"},\"mode\":\"markers\",\"name\":\"Neurotransmitter secretion\",\"orientation\":\"v\",\"showlegend\":true,\"x\":[4.879097716762227e-09],\"xaxis\":\"x\",\"y\":[10.688461538461539],\"yaxis\":\"y\",\"type\":\"scatter\"},{\"hovertemplate\":\"go_term=Membrane docking<br>fdr_bh=%{x}<br>odds=%{marker.size}<extra></extra>\",\"legendgroup\":\"Membrane docking\",\"marker\":{\"color\":\"#EF553B\",\"size\":[6.018968429258153],\"sizemode\":\"area\",\"sizeref\":0.04711196203214325,\"symbol\":\"circle\"},\"mode\":\"markers\",\"name\":\"Membrane docking\",\"orientation\":\"v\",\"showlegend\":true,\"x\":[2.4486195750611504e-07],\"xaxis\":\"x\",\"y\":[6.018968429258153],\"yaxis\":\"y\",\"type\":\"scatter\"},{\"hovertemplate\":\"go_term=Signal release<br>fdr_bh=%{x}<br>odds=%{marker.size}<extra></extra>\",\"legendgroup\":\"Signal release\",\"marker\":{\"color\":\"#00cc96\",\"size\":[5.918732430360337],\"sizemode\":\"area\",\"sizeref\":0.04711196203214325,\"symbol\":\"circle\"},\"mode\":\"markers\",\"name\":\"Signal release\",\"orientation\":\"v\",\"showlegend\":true,\"x\":[2.822246566402775e-07],\"xaxis\":\"x\",\"y\":[5.918732430360337],\"yaxis\":\"y\",\"type\":\"scatter\"},{\"hovertemplate\":\"go_term=Neutrophil activation<br>fdr_bh=%{x}<br>odds=%{marker.size}<extra></extra>\",\"legendgroup\":\"Neutrophil activation\",\"marker\":{\"color\":\"#ab63fa\",\"size\":[4.314338042909472],\"sizemode\":\"area\",\"sizeref\":0.04711196203214325,\"symbol\":\"circle\"},\"mode\":\"markers\",\"name\":\"Neutrophil activation\",\"orientation\":\"v\",\"showlegend\":true,\"x\":[6.704716939254043e-09],\"xaxis\":\"x\",\"y\":[4.314338042909472],\"yaxis\":\"y\",\"type\":\"scatter\"},{\"hovertemplate\":\"go_term=Neutrophil degranulation<br>fdr_bh=%{x}<br>odds=%{marker.size}<extra></extra>\",\"legendgroup\":\"Neutrophil degranulation\",\"marker\":{\"color\":\"#FFA15A\",\"size\":[4.261303665668236],\"sizemode\":\"area\",\"sizeref\":0.04711196203214325,\"symbol\":\"circle\"},\"mode\":\"markers\",\"name\":\"Neutrophil degranulation\",\"orientation\":\"v\",\"showlegend\":true,\"x\":[1.3392693782440955e-08],\"xaxis\":\"x\",\"y\":[4.261303665668236],\"yaxis\":\"y\",\"type\":\"scatter\"},{\"hovertemplate\":\"go_term=Establishment of organelle localization<br>fdr_bh=%{x}<br>odds=%{marker.size}<extra></extra>\",\"legendgroup\":\"Establishment of organelle localization\",\"marker\":{\"color\":\"#19d3f3\",\"size\":[2.5895873552123554],\"sizemode\":\"area\",\"sizeref\":0.04711196203214325,\"symbol\":\"circle\"},\"mode\":\"markers\",\"name\":\"Establishment of organelle localization\",\"orientation\":\"v\",\"showlegend\":true,\"x\":[0.001625953673426923],\"xaxis\":\"x\",\"y\":[2.5895873552123554],\"yaxis\":\"y\",\"type\":\"scatter\"},{\"hovertemplate\":\"go_term=Anterograde trans-synaptic signaling<br>fdr_bh=%{x}<br>odds=%{marker.size}<extra></extra>\",\"legendgroup\":\"Anterograde trans-synaptic signaling\",\"marker\":{\"color\":\"#FF6692\",\"size\":[4.988626203397584],\"sizemode\":\"area\",\"sizeref\":0.04711196203214325,\"symbol\":\"circle\"},\"mode\":\"markers\",\"name\":\"Anterograde trans-synaptic signaling\",\"orientation\":\"v\",\"showlegend\":true,\"x\":[8.289723768262965e-10],\"xaxis\":\"x\",\"y\":[4.988626203397584],\"yaxis\":\"y\",\"type\":\"scatter\"},{\"hovertemplate\":\"go_term=Vesicle-mediated transport in synapse<br>fdr_bh=%{x}<br>odds=%{marker.size}<extra></extra>\",\"legendgroup\":\"Vesicle-mediated transport in synapse\",\"marker\":{\"color\":\"#B6E880\",\"size\":[8.782440825919087],\"sizemode\":\"area\",\"sizeref\":0.04711196203214325,\"symbol\":\"circle\"},\"mode\":\"markers\",\"name\":\"Vesicle-mediated transport in synapse\",\"orientation\":\"v\",\"showlegend\":true,\"x\":[1.1796734792944452e-08],\"xaxis\":\"x\",\"y\":[8.782440825919087],\"yaxis\":\"y\",\"type\":\"scatter\"},{\"hovertemplate\":\"go_term=Synaptic vesicle cycle<br>fdr_bh=%{x}<br>odds=%{marker.size}<extra></extra>\",\"legendgroup\":\"Synaptic vesicle cycle\",\"marker\":{\"color\":\"#FF97FF\",\"size\":[7.401187446988974],\"sizemode\":\"area\",\"sizeref\":0.04711196203214325,\"symbol\":\"circle\"},\"mode\":\"markers\",\"name\":\"Synaptic vesicle cycle\",\"orientation\":\"v\",\"showlegend\":true,\"x\":[1.046027284554359e-06],\"xaxis\":\"x\",\"y\":[7.401187446988974],\"yaxis\":\"y\",\"type\":\"scatter\"},{\"hovertemplate\":\"go_term=Synaptic signaling<br>fdr_bh=%{x}<br>odds=%{marker.size}<extra></extra>\",\"legendgroup\":\"Synaptic signaling\",\"marker\":{\"color\":\"#FECB52\",\"size\":[5.818234893451396],\"sizemode\":\"area\",\"sizeref\":0.04711196203214325,\"symbol\":\"circle\"},\"mode\":\"markers\",\"name\":\"Synaptic signaling\",\"orientation\":\"v\",\"showlegend\":true,\"x\":[3.6141890408771475e-13],\"xaxis\":\"x\",\"y\":[5.818234893451396],\"yaxis\":\"y\",\"type\":\"scatter\"},{\"hovertemplate\":\"go_term=Trans-synaptic signaling<br>fdr_bh=%{x}<br>odds=%{marker.size}<extra></extra>\",\"legendgroup\":\"Trans-synaptic signaling\",\"marker\":{\"color\":\"#636efa\",\"size\":[4.953774761738436],\"sizemode\":\"area\",\"sizeref\":0.04711196203214325,\"symbol\":\"circle\"},\"mode\":\"markers\",\"name\":\"Trans-synaptic signaling\",\"orientation\":\"v\",\"showlegend\":true,\"x\":[5.287737392874885e-10],\"xaxis\":\"x\",\"y\":[4.953774761738436],\"yaxis\":\"y\",\"type\":\"scatter\"},{\"hovertemplate\":\"go_term=Signal release from synapse<br>fdr_bh=%{x}<br>odds=%{marker.size}<extra></extra>\",\"legendgroup\":\"Signal release from synapse\",\"marker\":{\"color\":\"#EF553B\",\"size\":[10.688461538461539],\"sizemode\":\"area\",\"sizeref\":0.04711196203214325,\"symbol\":\"circle\"},\"mode\":\"markers\",\"name\":\"Signal release from synapse\",\"orientation\":\"v\",\"showlegend\":true,\"x\":[4.879097716762227e-09],\"xaxis\":\"x\",\"y\":[10.688461538461539],\"yaxis\":\"y\",\"type\":\"scatter\"},{\"hovertemplate\":\"go_term=Exocytic process<br>fdr_bh=%{x}<br>odds=%{marker.size}<extra></extra>\",\"legendgroup\":\"Exocytic process\",\"marker\":{\"color\":\"#00cc96\",\"size\":[12.140180430256766],\"sizemode\":\"area\",\"sizeref\":0.04711196203214325,\"symbol\":\"circle\"},\"mode\":\"markers\",\"name\":\"Exocytic process\",\"orientation\":\"v\",\"showlegend\":true,\"x\":[1.4930219241181944e-08],\"xaxis\":\"x\",\"y\":[12.140180430256766],\"yaxis\":\"y\",\"type\":\"scatter\"},{\"hovertemplate\":\"go_term=Organelle localization by membrane tethering<br>fdr_bh=%{x}<br>odds=%{marker.size}<extra></extra>\",\"legendgroup\":\"Organelle localization by membrane tethering\",\"marker\":{\"color\":\"#ab63fa\",\"size\":[5.887353518932466],\"sizemode\":\"area\",\"sizeref\":0.04711196203214325,\"symbol\":\"circle\"},\"mode\":\"markers\",\"name\":\"Organelle localization by membrane tethering\",\"orientation\":\"v\",\"showlegend\":true,\"x\":[6.55597381464492e-07],\"xaxis\":\"x\",\"y\":[5.887353518932466],\"yaxis\":\"y\",\"type\":\"scatter\"},{\"hovertemplate\":\"go_term=Aging<br>fdr_bh=%{x}<br>odds=%{marker.size}<extra></extra>\",\"legendgroup\":\"Aging\",\"marker\":{\"color\":\"#FFA15A\",\"size\":[3.300905741254532],\"sizemode\":\"area\",\"sizeref\":0.04711196203214325,\"symbol\":\"circle\"},\"mode\":\"markers\",\"name\":\"Aging\",\"orientation\":\"v\",\"showlegend\":true,\"x\":[0.0004546717573901661],\"xaxis\":\"x\",\"y\":[3.300905741254532],\"yaxis\":\"y\",\"type\":\"scatter\"},{\"hovertemplate\":\"go_term=Negative regulation of cell migration<br>fdr_bh=%{x}<br>odds=%{marker.size}<extra></extra>\",\"legendgroup\":\"Negative regulation of cell migration\",\"marker\":{\"color\":\"#19d3f3\",\"size\":[3.4483371647509578],\"sizemode\":\"area\",\"sizeref\":0.04711196203214325,\"symbol\":\"circle\"},\"mode\":\"markers\",\"name\":\"Negative regulation of cell migration\",\"orientation\":\"v\",\"showlegend\":true,\"x\":[0.0003232361570838487],\"xaxis\":\"x\",\"y\":[3.4483371647509578],\"yaxis\":\"y\",\"type\":\"scatter\"},{\"hovertemplate\":\"go_term=Negative regulation of locomotion<br>fdr_bh=%{x}<br>odds=%{marker.size}<extra></extra>\",\"legendgroup\":\"Negative regulation of locomotion\",\"marker\":{\"color\":\"#FF6692\",\"size\":[3.376682667223208],\"sizemode\":\"area\",\"sizeref\":0.04711196203214325,\"symbol\":\"circle\"},\"mode\":\"markers\",\"name\":\"Negative regulation of locomotion\",\"orientation\":\"v\",\"showlegend\":true,\"x\":[0.00015129294248837164],\"xaxis\":\"x\",\"y\":[3.376682667223208],\"yaxis\":\"y\",\"type\":\"scatter\"},{\"hovertemplate\":\"go_term=Positive regulation of ion transport<br>fdr_bh=%{x}<br>odds=%{marker.size}<extra></extra>\",\"legendgroup\":\"Positive regulation of ion transport\",\"marker\":{\"color\":\"#B6E880\",\"size\":[3.434430882770366],\"sizemode\":\"area\",\"sizeref\":0.04711196203214325,\"symbol\":\"circle\"},\"mode\":\"markers\",\"name\":\"Positive regulation of ion transport\",\"orientation\":\"v\",\"showlegend\":true,\"x\":[0.00020567966523977088],\"xaxis\":\"x\",\"y\":[3.434430882770366],\"yaxis\":\"y\",\"type\":\"scatter\"},{\"hovertemplate\":\"go_term=Regulation of map kinase activity<br>fdr_bh=%{x}<br>odds=%{marker.size}<extra></extra>\",\"legendgroup\":\"Regulation of map kinase activity\",\"marker\":{\"color\":\"#FF97FF\",\"size\":[6.043761919100673],\"sizemode\":\"area\",\"sizeref\":0.04711196203214325,\"symbol\":\"circle\"},\"mode\":\"markers\",\"name\":\"Regulation of map kinase activity\",\"orientation\":\"v\",\"showlegend\":true,\"x\":[2.7326095851159278e-11],\"xaxis\":\"x\",\"y\":[6.043761919100673],\"yaxis\":\"y\",\"type\":\"scatter\"},{\"hovertemplate\":\"go_term=Positive regulation of map kinase activity<br>fdr_bh=%{x}<br>odds=%{marker.size}<extra></extra>\",\"legendgroup\":\"Positive regulation of map kinase activity\",\"marker\":{\"color\":\"#FECB52\",\"size\":[6.692129032258064],\"sizemode\":\"area\",\"sizeref\":0.04711196203214325,\"symbol\":\"circle\"},\"mode\":\"markers\",\"name\":\"Positive regulation of map kinase activity\",\"orientation\":\"v\",\"showlegend\":true,\"x\":[9.490203271297907e-11],\"xaxis\":\"x\",\"y\":[6.692129032258064],\"yaxis\":\"y\",\"type\":\"scatter\"},{\"hovertemplate\":\"go_term=Regulation of peptidyl-tyrosine phosphorylation<br>fdr_bh=%{x}<br>odds=%{marker.size}<extra></extra>\",\"legendgroup\":\"Regulation of peptidyl-tyrosine phosphorylation\",\"marker\":{\"color\":\"#636efa\",\"size\":[4.435902364020757],\"sizemode\":\"area\",\"sizeref\":0.04711196203214325,\"symbol\":\"circle\"},\"mode\":\"markers\",\"name\":\"Regulation of peptidyl-tyrosine phosphorylation\",\"orientation\":\"v\",\"showlegend\":true,\"x\":[5.986881083408407e-06],\"xaxis\":\"x\",\"y\":[4.435902364020757],\"yaxis\":\"y\",\"type\":\"scatter\"},{\"hovertemplate\":\"go_term=Positive regulation of secretion<br>fdr_bh=%{x}<br>odds=%{marker.size}<extra></extra>\",\"legendgroup\":\"Positive regulation of secretion\",\"marker\":{\"color\":\"#EF553B\",\"size\":[3.9113103778096603],\"sizemode\":\"area\",\"sizeref\":0.04711196203214325,\"symbol\":\"circle\"},\"mode\":\"markers\",\"name\":\"Positive regulation of secretion\",\"orientation\":\"v\",\"showlegend\":true,\"x\":[4.765691538997992e-06],\"xaxis\":\"x\",\"y\":[3.9113103778096603],\"yaxis\":\"y\",\"type\":\"scatter\"},{\"hovertemplate\":\"go_term=Positive regulation of protein transport<br>fdr_bh=%{x}<br>odds=%{marker.size}<extra></extra>\",\"legendgroup\":\"Positive regulation of protein transport\",\"marker\":{\"color\":\"#00cc96\",\"size\":[3.748148148148148],\"sizemode\":\"area\",\"sizeref\":0.04711196203214325,\"symbol\":\"circle\"},\"mode\":\"markers\",\"name\":\"Positive regulation of protein transport\",\"orientation\":\"v\",\"showlegend\":true,\"x\":[7.505922056689726e-06],\"xaxis\":\"x\",\"y\":[3.748148148148148],\"yaxis\":\"y\",\"type\":\"scatter\"},{\"hovertemplate\":\"go_term=Negative regulation of cellular component movement<br>fdr_bh=%{x}<br>odds=%{marker.size}<extra></extra>\",\"legendgroup\":\"Negative regulation of cellular component movement\",\"marker\":{\"color\":\"#ab63fa\",\"size\":[3.118378936499742],\"sizemode\":\"area\",\"sizeref\":0.04711196203214325,\"symbol\":\"circle\"},\"mode\":\"markers\",\"name\":\"Negative regulation of cellular component movement\",\"orientation\":\"v\",\"showlegend\":true,\"x\":[0.000473126081620628],\"xaxis\":\"x\",\"y\":[3.118378936499742],\"yaxis\":\"y\",\"type\":\"scatter\"},{\"hovertemplate\":\"go_term=Regulation of erk1 and erk2 cascade<br>fdr_bh=%{x}<br>odds=%{marker.size}<extra></extra>\",\"legendgroup\":\"Regulation of erk1 and erk2 cascade\",\"marker\":{\"color\":\"#FFA15A\",\"size\":[4.1552882914750615],\"sizemode\":\"area\",\"sizeref\":0.04711196203214325,\"symbol\":\"circle\"},\"mode\":\"markers\",\"name\":\"Regulation of erk1 and erk2 cascade\",\"orientation\":\"v\",\"showlegend\":true,\"x\":[6.698455376481228e-06],\"xaxis\":\"x\",\"y\":[4.1552882914750615],\"yaxis\":\"y\",\"type\":\"scatter\"},{\"hovertemplate\":\"go_term=Positive regulation of erk1 and erk2 cascade<br>fdr_bh=%{x}<br>odds=%{marker.size}<extra></extra>\",\"legendgroup\":\"Positive regulation of erk1 and erk2 cascade\",\"marker\":{\"color\":\"#19d3f3\",\"size\":[4.412111971225272],\"sizemode\":\"area\",\"sizeref\":0.04711196203214325,\"symbol\":\"circle\"},\"mode\":\"markers\",\"name\":\"Positive regulation of erk1 and erk2 cascade\",\"orientation\":\"v\",\"showlegend\":true,\"x\":[4.0678714130491455e-05],\"xaxis\":\"x\",\"y\":[4.412111971225272],\"yaxis\":\"y\",\"type\":\"scatter\"},{\"hovertemplate\":\"go_term=Positive regulation of protein serine/threonine kinase activity<br>fdr_bh=%{x}<br>odds=%{marker.size}<extra></extra>\",\"legendgroup\":\"Positive regulation of protein serine/threonine kinase activity\",\"marker\":{\"color\":\"#FF6692\",\"size\":[5.170382127311642],\"sizemode\":\"area\",\"sizeref\":0.04711196203214325,\"symbol\":\"circle\"},\"mode\":\"markers\",\"name\":\"Positive regulation of protein serine/threonine kinase activity\",\"orientation\":\"v\",\"showlegend\":true,\"x\":[3.4201498919899854e-09],\"xaxis\":\"x\",\"y\":[5.170382127311642],\"yaxis\":\"y\",\"type\":\"scatter\"},{\"hovertemplate\":\"go_term=Positive regulation of secretion by cell<br>fdr_bh=%{x}<br>odds=%{marker.size}<extra></extra>\",\"legendgroup\":\"Positive regulation of secretion by cell\",\"marker\":{\"color\":\"#B6E880\",\"size\":[4.028836171096345],\"sizemode\":\"area\",\"sizeref\":0.04711196203214325,\"symbol\":\"circle\"},\"mode\":\"markers\",\"name\":\"Positive regulation of secretion by cell\",\"orientation\":\"v\",\"showlegend\":true,\"x\":[5.548503505403722e-06],\"xaxis\":\"x\",\"y\":[4.028836171096345],\"yaxis\":\"y\",\"type\":\"scatter\"},{\"hovertemplate\":\"go_term=Positive regulation of establishment of protein localization<br>fdr_bh=%{x}<br>odds=%{marker.size}<extra></extra>\",\"legendgroup\":\"Positive regulation of establishment of protein localization\",\"marker\":{\"color\":\"#FF97FF\",\"size\":[3.5773031000109543],\"sizemode\":\"area\",\"sizeref\":0.04711196203214325,\"symbol\":\"circle\"},\"mode\":\"markers\",\"name\":\"Positive regulation of establishment of protein localization\",\"orientation\":\"v\",\"showlegend\":true,\"x\":[1.3100123878614486e-05],\"xaxis\":\"x\",\"y\":[3.5773031000109543],\"yaxis\":\"y\",\"type\":\"scatter\"},{\"hovertemplate\":\"go_term=Negative regulation of cell motility<br>fdr_bh=%{x}<br>odds=%{marker.size}<extra></extra>\",\"legendgroup\":\"Negative regulation of cell motility\",\"marker\":{\"color\":\"#FECB52\",\"size\":[3.513410740203193],\"sizemode\":\"area\",\"sizeref\":0.04711196203214325,\"symbol\":\"circle\"},\"mode\":\"markers\",\"name\":\"Negative regulation of cell motility\",\"orientation\":\"v\",\"showlegend\":true,\"x\":[0.0001678774702737682],\"xaxis\":\"x\",\"y\":[3.513410740203193],\"yaxis\":\"y\",\"type\":\"scatter\"},{\"hovertemplate\":\"go_term=Regulation of apoptotic signaling pathway<br>fdr_bh=%{x}<br>odds=%{marker.size}<extra></extra>\",\"legendgroup\":\"Regulation of apoptotic signaling pathway\",\"marker\":{\"color\":\"#636efa\",\"size\":[3.4633555420956994],\"sizemode\":\"area\",\"sizeref\":0.04711196203214325,\"symbol\":\"circle\"},\"mode\":\"markers\",\"name\":\"Regulation of apoptotic signaling pathway\",\"orientation\":\"v\",\"showlegend\":true,\"x\":[1.2320007252905105e-05],\"xaxis\":\"x\",\"y\":[3.4633555420956994],\"yaxis\":\"y\",\"type\":\"scatter\"},{\"hovertemplate\":\"go_term=Negative regulation of apoptotic signaling pathway<br>fdr_bh=%{x}<br>odds=%{marker.size}<extra></extra>\",\"legendgroup\":\"Negative regulation of apoptotic signaling pathway\",\"marker\":{\"color\":\"#EF553B\",\"size\":[3.2668790463467268],\"sizemode\":\"area\",\"sizeref\":0.04711196203214325,\"symbol\":\"circle\"},\"mode\":\"markers\",\"name\":\"Negative regulation of apoptotic signaling pathway\",\"orientation\":\"v\",\"showlegend\":true,\"x\":[0.0012104225068734658],\"xaxis\":\"x\",\"y\":[3.2668790463467268],\"yaxis\":\"y\",\"type\":\"scatter\"},{\"hovertemplate\":\"go_term=MAPK cascade<br>fdr_bh=%{x}<br>odds=%{marker.size}<extra></extra>\",\"legendgroup\":\"MAPK cascade\",\"marker\":{\"color\":\"#00cc96\",\"size\":[4.287297675781886],\"sizemode\":\"area\",\"sizeref\":0.04711196203214325,\"symbol\":\"circle\"},\"mode\":\"markers\",\"name\":\"MAPK cascade\",\"orientation\":\"v\",\"showlegend\":true,\"x\":[1.8098148460463515e-07],\"xaxis\":\"x\",\"y\":[4.287297675781886],\"yaxis\":\"y\",\"type\":\"scatter\"},{\"hovertemplate\":\"go_term=Response to reactive oxygen species<br>fdr_bh=%{x}<br>odds=%{marker.size}<extra></extra>\",\"legendgroup\":\"Response to reactive oxygen species\",\"marker\":{\"color\":\"#ab63fa\",\"size\":[6.108825233876977],\"sizemode\":\"area\",\"sizeref\":0.04711196203214325,\"symbol\":\"circle\"},\"mode\":\"markers\",\"name\":\"Response to reactive oxygen species\",\"orientation\":\"v\",\"showlegend\":true,\"x\":[9.085228310585387e-08],\"xaxis\":\"x\",\"y\":[6.108825233876977],\"yaxis\":\"y\",\"type\":\"scatter\"},{\"hovertemplate\":\"go_term=In utero embryonic development<br>fdr_bh=%{x}<br>odds=%{marker.size}<extra></extra>\",\"legendgroup\":\"In utero embryonic development\",\"marker\":{\"color\":\"#FFA15A\",\"size\":[2.5080050031269545],\"sizemode\":\"area\",\"sizeref\":0.04711196203214325,\"symbol\":\"circle\"},\"mode\":\"markers\",\"name\":\"In utero embryonic development\",\"orientation\":\"v\",\"showlegend\":true,\"x\":[0.0029208900866327134],\"xaxis\":\"x\",\"y\":[2.5080050031269545],\"yaxis\":\"y\",\"type\":\"scatter\"},{\"hovertemplate\":\"go_term=Activation of immune response<br>fdr_bh=%{x}<br>odds=%{marker.size}<extra></extra>\",\"legendgroup\":\"Activation of immune response\",\"marker\":{\"color\":\"#19d3f3\",\"size\":[3.0884579597360853],\"sizemode\":\"area\",\"sizeref\":0.04711196203214325,\"symbol\":\"circle\"},\"mode\":\"markers\",\"name\":\"Activation of immune response\",\"orientation\":\"v\",\"showlegend\":true,\"x\":[0.00015496145526732913],\"xaxis\":\"x\",\"y\":[3.0884579597360853],\"yaxis\":\"y\",\"type\":\"scatter\"},{\"hovertemplate\":\"go_term=Immune response-activating cell surface receptor signaling pathway<br>fdr_bh=%{x}<br>odds=%{marker.size}<extra></extra>\",\"legendgroup\":\"Immune response-activating cell surface receptor signaling pathway\",\"marker\":{\"color\":\"#FF6692\",\"size\":[3.6278018657206674],\"sizemode\":\"area\",\"sizeref\":0.04711196203214325,\"symbol\":\"circle\"},\"mode\":\"markers\",\"name\":\"Immune response-activating cell surface receptor signaling pathway\",\"orientation\":\"v\",\"showlegend\":true,\"x\":[4.785745176556898e-05],\"xaxis\":\"x\",\"y\":[3.6278018657206674],\"yaxis\":\"y\",\"type\":\"scatter\"},{\"hovertemplate\":\"go_term=Immune response-activating signal transduction<br>fdr_bh=%{x}<br>odds=%{marker.size}<extra></extra>\",\"legendgroup\":\"Immune response-activating signal transduction\",\"marker\":{\"color\":\"#B6E880\",\"size\":[3.6278018657206674],\"sizemode\":\"area\",\"sizeref\":0.04711196203214325,\"symbol\":\"circle\"},\"mode\":\"markers\",\"name\":\"Immune response-activating signal transduction\",\"orientation\":\"v\",\"showlegend\":true,\"x\":[4.785745176556898e-05],\"xaxis\":\"x\",\"y\":[3.6278018657206674],\"yaxis\":\"y\",\"type\":\"scatter\"},{\"hovertemplate\":\"go_term=Immune response-regulating signaling pathway<br>fdr_bh=%{x}<br>odds=%{marker.size}<extra></extra>\",\"legendgroup\":\"Immune response-regulating signaling pathway\",\"marker\":{\"color\":\"#FF97FF\",\"size\":[4.356189144895401],\"sizemode\":\"area\",\"sizeref\":0.04711196203214325,\"symbol\":\"circle\"},\"mode\":\"markers\",\"name\":\"Immune response-regulating signaling pathway\",\"orientation\":\"v\",\"showlegend\":true,\"x\":[4.0756275171744067e-07],\"xaxis\":\"x\",\"y\":[4.356189144895401],\"yaxis\":\"y\",\"type\":\"scatter\"},{\"hovertemplate\":\"go_term=Immune response-regulating cell surface receptor signaling pathway<br>fdr_bh=%{x}<br>odds=%{marker.size}<extra></extra>\",\"legendgroup\":\"Immune response-regulating cell surface receptor signaling pathway\",\"marker\":{\"color\":\"#FECB52\",\"size\":[4.39716631194892],\"sizemode\":\"area\",\"sizeref\":0.04711196203214325,\"symbol\":\"circle\"},\"mode\":\"markers\",\"name\":\"Immune response-regulating cell surface receptor signaling pathway\",\"orientation\":\"v\",\"showlegend\":true,\"x\":[3.711718691014872e-07],\"xaxis\":\"x\",\"y\":[4.39716631194892],\"yaxis\":\"y\",\"type\":\"scatter\"},{\"hovertemplate\":\"go_term=Endocytosis<br>fdr_bh=%{x}<br>odds=%{marker.size}<extra></extra>\",\"legendgroup\":\"Endocytosis\",\"marker\":{\"color\":\"#636efa\",\"size\":[6.495046557228947],\"sizemode\":\"area\",\"sizeref\":0.04711196203214325,\"symbol\":\"circle\"},\"mode\":\"markers\",\"name\":\"Endocytosis\",\"orientation\":\"v\",\"showlegend\":true,\"x\":[4.34324396550109e-15],\"xaxis\":\"x\",\"y\":[6.495046557228947],\"yaxis\":\"y\",\"type\":\"scatter\"},{\"hovertemplate\":\"go_term=Phagocytosis<br>fdr_bh=%{x}<br>odds=%{marker.size}<extra></extra>\",\"legendgroup\":\"Phagocytosis\",\"marker\":{\"color\":\"#EF553B\",\"size\":[8.05775075987842],\"sizemode\":\"area\",\"sizeref\":0.04711196203214325,\"symbol\":\"circle\"},\"mode\":\"markers\",\"name\":\"Phagocytosis\",\"orientation\":\"v\",\"showlegend\":true,\"x\":[3.075139487071895e-11],\"xaxis\":\"x\",\"y\":[8.05775075987842],\"yaxis\":\"y\",\"type\":\"scatter\"},{\"hovertemplate\":\"go_term=Response to oxidative stress<br>fdr_bh=%{x}<br>odds=%{marker.size}<extra></extra>\",\"legendgroup\":\"Response to oxidative stress\",\"marker\":{\"color\":\"#00cc96\",\"size\":[3.22687660922955],\"sizemode\":\"area\",\"sizeref\":0.04711196203214325,\"symbol\":\"circle\"},\"mode\":\"markers\",\"name\":\"Response to oxidative stress\",\"orientation\":\"v\",\"showlegend\":true,\"x\":[4.503762043564535e-05],\"xaxis\":\"x\",\"y\":[3.22687660922955],\"yaxis\":\"y\",\"type\":\"scatter\"},{\"hovertemplate\":\"go_term=Axonogenesis<br>fdr_bh=%{x}<br>odds=%{marker.size}<extra></extra>\",\"legendgroup\":\"Axonogenesis\",\"marker\":{\"color\":\"#ab63fa\",\"size\":[5.000806451612903],\"sizemode\":\"area\",\"sizeref\":0.04711196203214325,\"symbol\":\"circle\"},\"mode\":\"markers\",\"name\":\"Axonogenesis\",\"orientation\":\"v\",\"showlegend\":true,\"x\":[3.1872340119887505e-09],\"xaxis\":\"x\",\"y\":[5.000806451612903],\"yaxis\":\"y\",\"type\":\"scatter\"},{\"hovertemplate\":\"go_term=Axon guidance<br>fdr_bh=%{x}<br>odds=%{marker.size}<extra></extra>\",\"legendgroup\":\"Axon guidance\",\"marker\":{\"color\":\"#FFA15A\",\"size\":[5.6047122035573125],\"sizemode\":\"area\",\"sizeref\":0.04711196203214325,\"symbol\":\"circle\"},\"mode\":\"markers\",\"name\":\"Axon guidance\",\"orientation\":\"v\",\"showlegend\":true,\"x\":[1.3673861660840727e-08],\"xaxis\":\"x\",\"y\":[5.6047122035573125],\"yaxis\":\"y\",\"type\":\"scatter\"},{\"hovertemplate\":\"go_term=Blood coagulation<br>fdr_bh=%{x}<br>odds=%{marker.size}<extra></extra>\",\"legendgroup\":\"Blood coagulation\",\"marker\":{\"color\":\"#19d3f3\",\"size\":[3.4720881595881594],\"sizemode\":\"area\",\"sizeref\":0.04711196203214325,\"symbol\":\"circle\"},\"mode\":\"markers\",\"name\":\"Blood coagulation\",\"orientation\":\"v\",\"showlegend\":true,\"x\":[0.0001182498254944941],\"xaxis\":\"x\",\"y\":[3.4720881595881594],\"yaxis\":\"y\",\"type\":\"scatter\"},{\"hovertemplate\":\"go_term=Hemostasis<br>fdr_bh=%{x}<br>odds=%{marker.size}<extra></extra>\",\"legendgroup\":\"Hemostasis\",\"marker\":{\"color\":\"#FF6692\",\"size\":[3.411849196832132],\"sizemode\":\"area\",\"sizeref\":0.04711196203214325,\"symbol\":\"circle\"},\"mode\":\"markers\",\"name\":\"Hemostasis\",\"orientation\":\"v\",\"showlegend\":true,\"x\":[0.00013732013517836266],\"xaxis\":\"x\",\"y\":[3.411849196832132],\"yaxis\":\"y\",\"type\":\"scatter\"},{\"hovertemplate\":\"go_term=Cell population proliferation<br>fdr_bh=%{x}<br>odds=%{marker.size}<extra></extra>\",\"legendgroup\":\"Cell population proliferation\",\"marker\":{\"color\":\"#B6E880\",\"size\":[2.83564238014552],\"sizemode\":\"area\",\"sizeref\":0.04711196203214325,\"symbol\":\"circle\"},\"mode\":\"markers\",\"name\":\"Cell population proliferation\",\"orientation\":\"v\",\"showlegend\":true,\"x\":[0.00013129304055937725],\"xaxis\":\"x\",\"y\":[2.83564238014552],\"yaxis\":\"y\",\"type\":\"scatter\"},{\"hovertemplate\":\"go_term=Glial cell differentiation<br>fdr_bh=%{x}<br>odds=%{marker.size}<extra></extra>\",\"legendgroup\":\"Glial cell differentiation\",\"marker\":{\"color\":\"#FF97FF\",\"size\":[5.250412167653547],\"sizemode\":\"area\",\"sizeref\":0.04711196203214325,\"symbol\":\"circle\"},\"mode\":\"markers\",\"name\":\"Glial cell differentiation\",\"orientation\":\"v\",\"showlegend\":true,\"x\":[8.416108991156131e-06],\"xaxis\":\"x\",\"y\":[5.250412167653547],\"yaxis\":\"y\",\"type\":\"scatter\"},{\"hovertemplate\":\"go_term=Peptidyl-serine phosphorylation<br>fdr_bh=%{x}<br>odds=%{marker.size}<extra></extra>\",\"legendgroup\":\"Peptidyl-serine phosphorylation\",\"marker\":{\"color\":\"#FECB52\",\"size\":[4.921538461538462],\"sizemode\":\"area\",\"sizeref\":0.04711196203214325,\"symbol\":\"circle\"},\"mode\":\"markers\",\"name\":\"Peptidyl-serine phosphorylation\",\"orientation\":\"v\",\"showlegend\":true,\"x\":[7.505922056689726e-06],\"xaxis\":\"x\",\"y\":[4.921538461538462],\"yaxis\":\"y\",\"type\":\"scatter\"},{\"hovertemplate\":\"go_term=Peptidyl-serine modification<br>fdr_bh=%{x}<br>odds=%{marker.size}<extra></extra>\",\"legendgroup\":\"Peptidyl-serine modification\",\"marker\":{\"color\":\"#636efa\",\"size\":[4.363551401869159],\"sizemode\":\"area\",\"sizeref\":0.04711196203214325,\"symbol\":\"circle\"},\"mode\":\"markers\",\"name\":\"Peptidyl-serine modification\",\"orientation\":\"v\",\"showlegend\":true,\"x\":[2.3897549114045394e-05],\"xaxis\":\"x\",\"y\":[4.363551401869159],\"yaxis\":\"y\",\"type\":\"scatter\"},{\"hovertemplate\":\"go_term=Signal transduction by protein phosphorylation<br>fdr_bh=%{x}<br>odds=%{marker.size}<extra></extra>\",\"legendgroup\":\"Signal transduction by protein phosphorylation\",\"marker\":{\"color\":\"#EF553B\",\"size\":[5.602160216021602],\"sizemode\":\"area\",\"sizeref\":0.04711196203214325,\"symbol\":\"circle\"},\"mode\":\"markers\",\"name\":\"Signal transduction by protein phosphorylation\",\"orientation\":\"v\",\"showlegend\":true,\"x\":[8.342495892612694e-12],\"xaxis\":\"x\",\"y\":[5.602160216021602],\"yaxis\":\"y\",\"type\":\"scatter\"},{\"hovertemplate\":\"go_term=Platelet activation<br>fdr_bh=%{x}<br>odds=%{marker.size}<extra></extra>\",\"legendgroup\":\"Platelet activation\",\"marker\":{\"color\":\"#00cc96\",\"size\":[6.493018059951592],\"sizemode\":\"area\",\"sizeref\":0.04711196203214325,\"symbol\":\"circle\"},\"mode\":\"markers\",\"name\":\"Platelet activation\",\"orientation\":\"v\",\"showlegend\":true,\"x\":[3.165797270520368e-06],\"xaxis\":\"x\",\"y\":[6.493018059951592],\"yaxis\":\"y\",\"type\":\"scatter\"},{\"hovertemplate\":\"go_term=Stress-activated protein kinase signaling cascade<br>fdr_bh=%{x}<br>odds=%{marker.size}<extra></extra>\",\"legendgroup\":\"Stress-activated protein kinase signaling cascade\",\"marker\":{\"color\":\"#ab63fa\",\"size\":[6.747039291643608],\"sizemode\":\"area\",\"sizeref\":0.04711196203214325,\"symbol\":\"circle\"},\"mode\":\"markers\",\"name\":\"Stress-activated protein kinase signaling cascade\",\"orientation\":\"v\",\"showlegend\":true,\"x\":[3.757940396173667e-07],\"xaxis\":\"x\",\"y\":[6.747039291643608],\"yaxis\":\"y\",\"type\":\"scatter\"},{\"hovertemplate\":\"go_term=Activation of protein kinase activity<br>fdr_bh=%{x}<br>odds=%{marker.size}<extra></extra>\",\"legendgroup\":\"Activation of protein kinase activity\",\"marker\":{\"color\":\"#FFA15A\",\"size\":[6.012846088081198],\"sizemode\":\"area\",\"sizeref\":0.04711196203214325,\"symbol\":\"circle\"},\"mode\":\"markers\",\"name\":\"Activation of protein kinase activity\",\"orientation\":\"v\",\"showlegend\":true,\"x\":[1.6404484484191915e-12],\"xaxis\":\"x\",\"y\":[6.012846088081198],\"yaxis\":\"y\",\"type\":\"scatter\"},{\"hovertemplate\":\"go_term=Regulation of intracellular transport<br>fdr_bh=%{x}<br>odds=%{marker.size}<extra></extra>\",\"legendgroup\":\"Regulation of intracellular transport\",\"marker\":{\"color\":\"#19d3f3\",\"size\":[3.26019867771175],\"sizemode\":\"area\",\"sizeref\":0.04711196203214325,\"symbol\":\"circle\"},\"mode\":\"markers\",\"name\":\"Regulation of intracellular transport\",\"orientation\":\"v\",\"showlegend\":true,\"x\":[9.24468569686691e-05],\"xaxis\":\"x\",\"y\":[3.26019867771175],\"yaxis\":\"y\",\"type\":\"scatter\"},{\"hovertemplate\":\"go_term=Positive regulation of intracellular transport<br>fdr_bh=%{x}<br>odds=%{marker.size}<extra></extra>\",\"legendgroup\":\"Positive regulation of intracellular transport\",\"marker\":{\"color\":\"#FF6692\",\"size\":[4.7375610111459165],\"sizemode\":\"area\",\"sizeref\":0.04711196203214325,\"symbol\":\"circle\"},\"mode\":\"markers\",\"name\":\"Positive regulation of intracellular transport\",\"orientation\":\"v\",\"showlegend\":true,\"x\":[5.712904060996442e-06],\"xaxis\":\"x\",\"y\":[4.7375610111459165],\"yaxis\":\"y\",\"type\":\"scatter\"},{\"hovertemplate\":\"go_term=Regulation of stress-activated mapk cascade<br>fdr_bh=%{x}<br>odds=%{marker.size}<extra></extra>\",\"legendgroup\":\"Regulation of stress-activated mapk cascade\",\"marker\":{\"color\":\"#B6E880\",\"size\":[5.072400175515577],\"sizemode\":\"area\",\"sizeref\":0.04711196203214325,\"symbol\":\"circle\"},\"mode\":\"markers\",\"name\":\"Regulation of stress-activated mapk cascade\",\"orientation\":\"v\",\"showlegend\":true,\"x\":[1.462658498308632e-06],\"xaxis\":\"x\",\"y\":[5.072400175515577],\"yaxis\":\"y\",\"type\":\"scatter\"},{\"hovertemplate\":\"go_term=Regulation of intracellular protein transport<br>fdr_bh=%{x}<br>odds=%{marker.size}<extra></extra>\",\"legendgroup\":\"Regulation of intracellular protein transport\",\"marker\":{\"color\":\"#FF97FF\",\"size\":[3.3530569345677357],\"sizemode\":\"area\",\"sizeref\":0.04711196203214325,\"symbol\":\"circle\"},\"mode\":\"markers\",\"name\":\"Regulation of intracellular protein transport\",\"orientation\":\"v\",\"showlegend\":true,\"x\":[0.00040253570384056096],\"xaxis\":\"x\",\"y\":[3.3530569345677357],\"yaxis\":\"y\",\"type\":\"scatter\"},{\"hovertemplate\":\"go_term=Cellular response to oxidative stress<br>fdr_bh=%{x}<br>odds=%{marker.size}<extra></extra>\",\"legendgroup\":\"Cellular response to oxidative stress\",\"marker\":{\"color\":\"#FECB52\",\"size\":[4.213685474189676],\"sizemode\":\"area\",\"sizeref\":0.04711196203214325,\"symbol\":\"circle\"},\"mode\":\"markers\",\"name\":\"Cellular response to oxidative stress\",\"orientation\":\"v\",\"showlegend\":true,\"x\":[1.8078831393670856e-05],\"xaxis\":\"x\",\"y\":[4.213685474189676],\"yaxis\":\"y\",\"type\":\"scatter\"},{\"hovertemplate\":\"go_term=Cellular response to reactive oxygen species<br>fdr_bh=%{x}<br>odds=%{marker.size}<extra></extra>\",\"legendgroup\":\"Cellular response to reactive oxygen species\",\"marker\":{\"color\":\"#636efa\",\"size\":[7.508738461538462],\"sizemode\":\"area\",\"sizeref\":0.04711196203214325,\"symbol\":\"circle\"},\"mode\":\"markers\",\"name\":\"Cellular response to reactive oxygen species\",\"orientation\":\"v\",\"showlegend\":true,\"x\":[1.4016376799736622e-07],\"xaxis\":\"x\",\"y\":[7.508738461538462],\"yaxis\":\"y\",\"type\":\"scatter\"},{\"hovertemplate\":\"go_term=Fc receptor signaling pathway<br>fdr_bh=%{x}<br>odds=%{marker.size}<extra></extra>\",\"legendgroup\":\"Fc receptor signaling pathway\",\"marker\":{\"color\":\"#EF553B\",\"size\":[6.217646217646218],\"sizemode\":\"area\",\"sizeref\":0.04711196203214325,\"symbol\":\"circle\"},\"mode\":\"markers\",\"name\":\"Fc receptor signaling pathway\",\"orientation\":\"v\",\"showlegend\":true,\"x\":[3.7230039250140884e-07],\"xaxis\":\"x\",\"y\":[6.217646217646218],\"yaxis\":\"y\",\"type\":\"scatter\"},{\"hovertemplate\":\"go_term=Fc-epsilon receptor signaling pathway<br>fdr_bh=%{x}<br>odds=%{marker.size}<extra></extra>\",\"legendgroup\":\"Fc-epsilon receptor signaling pathway\",\"marker\":{\"color\":\"#00cc96\",\"size\":[7.020985668324071],\"sizemode\":\"area\",\"sizeref\":0.04711196203214325,\"symbol\":\"circle\"},\"mode\":\"markers\",\"name\":\"Fc-epsilon receptor signaling pathway\",\"orientation\":\"v\",\"showlegend\":true,\"x\":[4.16499037642968e-06],\"xaxis\":\"x\",\"y\":[7.020985668324071],\"yaxis\":\"y\",\"type\":\"scatter\"},{\"hovertemplate\":\"go_term=ERBB signaling pathway<br>fdr_bh=%{x}<br>odds=%{marker.size}<extra></extra>\",\"legendgroup\":\"ERBB signaling pathway\",\"marker\":{\"color\":\"#ab63fa\",\"size\":[13.821005527770465],\"sizemode\":\"area\",\"sizeref\":0.04711196203214325,\"symbol\":\"circle\"},\"mode\":\"markers\",\"name\":\"ERBB signaling pathway\",\"orientation\":\"v\",\"showlegend\":true,\"x\":[5.561982253031747e-09],\"xaxis\":\"x\",\"y\":[13.821005527770465],\"yaxis\":\"y\",\"type\":\"scatter\"},{\"hovertemplate\":\"go_term=Wound healing<br>fdr_bh=%{x}<br>odds=%{marker.size}<extra></extra>\",\"legendgroup\":\"Wound healing\",\"marker\":{\"color\":\"#FFA15A\",\"size\":[5.144995791414486],\"sizemode\":\"area\",\"sizeref\":0.04711196203214325,\"symbol\":\"circle\"},\"mode\":\"markers\",\"name\":\"Wound healing\",\"orientation\":\"v\",\"showlegend\":true,\"x\":[1.326870294930713e-10],\"xaxis\":\"x\",\"y\":[5.144995791414486],\"yaxis\":\"y\",\"type\":\"scatter\"},{\"hovertemplate\":\"go_term=Gliogenesis<br>fdr_bh=%{x}<br>odds=%{marker.size}<extra></extra>\",\"legendgroup\":\"Gliogenesis\",\"marker\":{\"color\":\"#19d3f3\",\"size\":[5.072400175515577],\"sizemode\":\"area\",\"sizeref\":0.04711196203214325,\"symbol\":\"circle\"},\"mode\":\"markers\",\"name\":\"Gliogenesis\",\"orientation\":\"v\",\"showlegend\":true,\"x\":[1.462658498308632e-06],\"xaxis\":\"x\",\"y\":[5.072400175515577],\"yaxis\":\"y\",\"type\":\"scatter\"},{\"hovertemplate\":\"go_term=Positive regulation of growth<br>fdr_bh=%{x}<br>odds=%{marker.size}<extra></extra>\",\"legendgroup\":\"Positive regulation of growth\",\"marker\":{\"color\":\"#FF6692\",\"size\":[3.944608275316937],\"sizemode\":\"area\",\"sizeref\":0.04711196203214325,\"symbol\":\"circle\"},\"mode\":\"markers\",\"name\":\"Positive regulation of growth\",\"orientation\":\"v\",\"showlegend\":true,\"x\":[3.539556054657505e-05],\"xaxis\":\"x\",\"y\":[3.944608275316937],\"yaxis\":\"y\",\"type\":\"scatter\"},{\"hovertemplate\":\"go_term=Regulation of synaptic plasticity<br>fdr_bh=%{x}<br>odds=%{marker.size}<extra></extra>\",\"legendgroup\":\"Regulation of synaptic plasticity\",\"marker\":{\"color\":\"#B6E880\",\"size\":[5.286962190352021],\"sizemode\":\"area\",\"sizeref\":0.04711196203214325,\"symbol\":\"circle\"},\"mode\":\"markers\",\"name\":\"Regulation of synaptic plasticity\",\"orientation\":\"v\",\"showlegend\":true,\"x\":[4.160498218809756e-06],\"xaxis\":\"x\",\"y\":[5.286962190352021],\"yaxis\":\"y\",\"type\":\"scatter\"},{\"hovertemplate\":\"go_term=Reproductive structure development<br>fdr_bh=%{x}<br>odds=%{marker.size}<extra></extra>\",\"legendgroup\":\"Reproductive structure development\",\"marker\":{\"color\":\"#FF97FF\",\"size\":[2.2574572127139363],\"sizemode\":\"area\",\"sizeref\":0.04711196203214325,\"symbol\":\"circle\"},\"mode\":\"markers\",\"name\":\"Reproductive structure development\",\"orientation\":\"v\",\"showlegend\":true,\"x\":[0.008154812344858611],\"xaxis\":\"x\",\"y\":[2.2574572127139363],\"yaxis\":\"y\",\"type\":\"scatter\"},{\"hovertemplate\":\"go_term=Regulation of developmental growth<br>fdr_bh=%{x}<br>odds=%{marker.size}<extra></extra>\",\"legendgroup\":\"Regulation of developmental growth\",\"marker\":{\"color\":\"#FECB52\",\"size\":[2.9002884615384614],\"sizemode\":\"area\",\"sizeref\":0.04711196203214325,\"symbol\":\"circle\"},\"mode\":\"markers\",\"name\":\"Regulation of developmental growth\",\"orientation\":\"v\",\"showlegend\":true,\"x\":[0.0008668177299902224],\"xaxis\":\"x\",\"y\":[2.9002884615384614],\"yaxis\":\"y\",\"type\":\"scatter\"},{\"hovertemplate\":\"go_term=Cell morphogenesis involved in neuron differentiation<br>fdr_bh=%{x}<br>odds=%{marker.size}<extra></extra>\",\"legendgroup\":\"Cell morphogenesis involved in neuron differentiation\",\"marker\":{\"color\":\"#636efa\",\"size\":[5.03157110361597],\"sizemode\":\"area\",\"sizeref\":0.04711196203214325,\"symbol\":\"circle\"},\"mode\":\"markers\",\"name\":\"Cell morphogenesis involved in neuron differentiation\",\"orientation\":\"v\",\"showlegend\":true,\"x\":[1.9833964788444867e-10],\"xaxis\":\"x\",\"y\":[5.03157110361597],\"yaxis\":\"y\",\"type\":\"scatter\"},{\"hovertemplate\":\"go_term=Gland development<br>fdr_bh=%{x}<br>odds=%{marker.size}<extra></extra>\",\"legendgroup\":\"Gland development\",\"marker\":{\"color\":\"#EF553B\",\"size\":[2.5158594399100727],\"sizemode\":\"area\",\"sizeref\":0.04711196203214325,\"symbol\":\"circle\"},\"mode\":\"markers\",\"name\":\"Gland development\",\"orientation\":\"v\",\"showlegend\":true,\"x\":[0.0020938637665885987],\"xaxis\":\"x\",\"y\":[2.5158594399100727],\"yaxis\":\"y\",\"type\":\"scatter\"},{\"hovertemplate\":\"go_term=Neuron projection morphogenesis<br>fdr_bh=%{x}<br>odds=%{marker.size}<extra></extra>\",\"legendgroup\":\"Neuron projection morphogenesis\",\"marker\":{\"color\":\"#00cc96\",\"size\":[5.773662099453582],\"sizemode\":\"area\",\"sizeref\":0.04711196203214325,\"symbol\":\"circle\"},\"mode\":\"markers\",\"name\":\"Neuron projection morphogenesis\",\"orientation\":\"v\",\"showlegend\":true,\"x\":[1.0463702087249112e-13],\"xaxis\":\"x\",\"y\":[5.773662099453582],\"yaxis\":\"y\",\"type\":\"scatter\"},{\"hovertemplate\":\"go_term=Modulation of chemical synaptic transmission<br>fdr_bh=%{x}<br>odds=%{marker.size}<extra></extra>\",\"legendgroup\":\"Modulation of chemical synaptic transmission\",\"marker\":{\"color\":\"#ab63fa\",\"size\":[5.245785849952517],\"sizemode\":\"area\",\"sizeref\":0.04711196203214325,\"symbol\":\"circle\"},\"mode\":\"markers\",\"name\":\"Modulation of chemical synaptic transmission\",\"orientation\":\"v\",\"showlegend\":true,\"x\":[4.740399292527751e-11],\"xaxis\":\"x\",\"y\":[5.245785849952517],\"yaxis\":\"y\",\"type\":\"scatter\"},{\"hovertemplate\":\"go_term=Positive regulation of synaptic transmission<br>fdr_bh=%{x}<br>odds=%{marker.size}<extra></extra>\",\"legendgroup\":\"Positive regulation of synaptic transmission\",\"marker\":{\"color\":\"#FFA15A\",\"size\":[6.476582604220278],\"sizemode\":\"area\",\"sizeref\":0.04711196203214325,\"symbol\":\"circle\"},\"mode\":\"markers\",\"name\":\"Positive regulation of synaptic transmission\",\"orientation\":\"v\",\"showlegend\":true,\"x\":[1.3288150971937627e-06],\"xaxis\":\"x\",\"y\":[6.476582604220278],\"yaxis\":\"y\",\"type\":\"scatter\"},{\"hovertemplate\":\"go_term=Coagulation<br>fdr_bh=%{x}<br>odds=%{marker.size}<extra></extra>\",\"legendgroup\":\"Coagulation\",\"marker\":{\"color\":\"#19d3f3\",\"size\":[3.4477433098122754],\"sizemode\":\"area\",\"sizeref\":0.04711196203214325,\"symbol\":\"circle\"},\"mode\":\"markers\",\"name\":\"Coagulation\",\"orientation\":\"v\",\"showlegend\":true,\"x\":[0.00012586622434078586],\"xaxis\":\"x\",\"y\":[3.4477433098122754],\"yaxis\":\"y\",\"type\":\"scatter\"},{\"hovertemplate\":\"go_term=Regulation of dna-binding transcription factor activity<br>fdr_bh=%{x}<br>odds=%{marker.size}<extra></extra>\",\"legendgroup\":\"Regulation of dna-binding transcription factor activity\",\"marker\":{\"color\":\"#FF6692\",\"size\":[2.523485978382957],\"sizemode\":\"area\",\"sizeref\":0.04711196203214325,\"symbol\":\"circle\"},\"mode\":\"markers\",\"name\":\"Regulation of dna-binding transcription factor activity\",\"orientation\":\"v\",\"showlegend\":true,\"x\":[0.0015087765196457493],\"xaxis\":\"x\",\"y\":[2.523485978382957],\"yaxis\":\"y\",\"type\":\"scatter\"},{\"hovertemplate\":\"go_term=Mesenchyme development<br>fdr_bh=%{x}<br>odds=%{marker.size}<extra></extra>\",\"legendgroup\":\"Mesenchyme development\",\"marker\":{\"color\":\"#B6E880\",\"size\":[3.9755725190839692],\"sizemode\":\"area\",\"sizeref\":0.04711196203214325,\"symbol\":\"circle\"},\"mode\":\"markers\",\"name\":\"Mesenchyme development\",\"orientation\":\"v\",\"showlegend\":true,\"x\":[0.0001678774702737682],\"xaxis\":\"x\",\"y\":[3.9755725190839692],\"yaxis\":\"y\",\"type\":\"scatter\"},{\"hovertemplate\":\"go_term=Reproductive system development<br>fdr_bh=%{x}<br>odds=%{marker.size}<extra></extra>\",\"legendgroup\":\"Reproductive system development\",\"marker\":{\"color\":\"#FF97FF\",\"size\":[2.2350717079530638],\"sizemode\":\"area\",\"sizeref\":0.04711196203214325,\"symbol\":\"circle\"},\"mode\":\"markers\",\"name\":\"Reproductive system development\",\"orientation\":\"v\",\"showlegend\":true,\"x\":[0.00858657924491511],\"xaxis\":\"x\",\"y\":[2.2350717079530638],\"yaxis\":\"y\",\"type\":\"scatter\"},{\"hovertemplate\":\"go_term=Axon development<br>fdr_bh=%{x}<br>odds=%{marker.size}<extra></extra>\",\"legendgroup\":\"Axon development\",\"marker\":{\"color\":\"#FECB52\",\"size\":[5.146876618667772],\"sizemode\":\"area\",\"sizeref\":0.04711196203214325,\"symbol\":\"circle\"},\"mode\":\"markers\",\"name\":\"Axon development\",\"orientation\":\"v\",\"showlegend\":true,\"x\":[2.389706084226961e-10],\"xaxis\":\"x\",\"y\":[5.146876618667772],\"yaxis\":\"y\",\"type\":\"scatter\"},{\"hovertemplate\":\"go_term=Cellular response to chemical stress<br>fdr_bh=%{x}<br>odds=%{marker.size}<extra></extra>\",\"legendgroup\":\"Cellular response to chemical stress\",\"marker\":{\"color\":\"#636efa\",\"size\":[4.545098039215686],\"sizemode\":\"area\",\"sizeref\":0.04711196203214325,\"symbol\":\"circle\"},\"mode\":\"markers\",\"name\":\"Cellular response to chemical stress\",\"orientation\":\"v\",\"showlegend\":true,\"x\":[7.782491803764583e-07],\"xaxis\":\"x\",\"y\":[4.545098039215686],\"yaxis\":\"y\",\"type\":\"scatter\"},{\"hovertemplate\":\"go_term=Regulation of stress-activated protein kinase signaling cascade<br>fdr_bh=%{x}<br>odds=%{marker.size}<extra></extra>\",\"legendgroup\":\"Regulation of stress-activated protein kinase signaling cascade\",\"marker\":{\"color\":\"#EF553B\",\"size\":[5.000757166035695],\"sizemode\":\"area\",\"sizeref\":0.04711196203214325,\"symbol\":\"circle\"},\"mode\":\"markers\",\"name\":\"Regulation of stress-activated protein kinase signaling cascade\",\"orientation\":\"v\",\"showlegend\":true,\"x\":[1.7019130456963047e-06],\"xaxis\":\"x\",\"y\":[5.000757166035695],\"yaxis\":\"y\",\"type\":\"scatter\"},{\"hovertemplate\":\"go_term=Cellular response to growth factor stimulus<br>fdr_bh=%{x}<br>odds=%{marker.size}<extra></extra>\",\"legendgroup\":\"Cellular response to growth factor stimulus\",\"marker\":{\"color\":\"#00cc96\",\"size\":[3.1569141781006187],\"sizemode\":\"area\",\"sizeref\":0.04711196203214325,\"symbol\":\"circle\"},\"mode\":\"markers\",\"name\":\"Cellular response to growth factor stimulus\",\"orientation\":\"v\",\"showlegend\":true,\"x\":[1.7207460909067924e-05],\"xaxis\":\"x\",\"y\":[3.1569141781006187],\"yaxis\":\"y\",\"type\":\"scatter\"},{\"hovertemplate\":\"go_term=Cellular response to external stimulus<br>fdr_bh=%{x}<br>odds=%{marker.size}<extra></extra>\",\"legendgroup\":\"Cellular response to external stimulus\",\"marker\":{\"color\":\"#ab63fa\",\"size\":[2.6085707807421965],\"sizemode\":\"area\",\"sizeref\":0.04711196203214325,\"symbol\":\"circle\"},\"mode\":\"markers\",\"name\":\"Cellular response to external stimulus\",\"orientation\":\"v\",\"showlegend\":true,\"x\":[0.004130020504067366],\"xaxis\":\"x\",\"y\":[2.6085707807421965],\"yaxis\":\"y\",\"type\":\"scatter\"},{\"hovertemplate\":\"go_term=Positive regulation of intracellular protein transport<br>fdr_bh=%{x}<br>odds=%{marker.size}<extra></extra>\",\"legendgroup\":\"Positive regulation of intracellular protein transport\",\"marker\":{\"color\":\"#FFA15A\",\"size\":[5.034705515459325],\"sizemode\":\"area\",\"sizeref\":0.04711196203214325,\"symbol\":\"circle\"},\"mode\":\"markers\",\"name\":\"Positive regulation of intracellular protein transport\",\"orientation\":\"v\",\"showlegend\":true,\"x\":[1.2320007252905105e-05],\"xaxis\":\"x\",\"y\":[5.034705515459325],\"yaxis\":\"y\",\"type\":\"scatter\"},{\"hovertemplate\":\"go_term=Neuron projection guidance<br>fdr_bh=%{x}<br>odds=%{marker.size}<extra></extra>\",\"legendgroup\":\"Neuron projection guidance\",\"marker\":{\"color\":\"#19d3f3\",\"size\":[5.582581012288338],\"sizemode\":\"area\",\"sizeref\":0.04711196203214325,\"symbol\":\"circle\"},\"mode\":\"markers\",\"name\":\"Neuron projection guidance\",\"orientation\":\"v\",\"showlegend\":true,\"x\":[1.4250127267505298e-08],\"xaxis\":\"x\",\"y\":[5.582581012288338],\"yaxis\":\"y\",\"type\":\"scatter\"},{\"hovertemplate\":\"go_term=Regulation of trans-synaptic signaling<br>fdr_bh=%{x}<br>odds=%{marker.size}<extra></extra>\",\"legendgroup\":\"Regulation of trans-synaptic signaling\",\"marker\":{\"color\":\"#FF6692\",\"size\":[5.232900099673348],\"sizemode\":\"area\",\"sizeref\":0.04711196203214325,\"symbol\":\"circle\"},\"mode\":\"markers\",\"name\":\"Regulation of trans-synaptic signaling\",\"orientation\":\"v\",\"showlegend\":true,\"x\":[4.740399292527751e-11],\"xaxis\":\"x\",\"y\":[5.232900099673348],\"yaxis\":\"y\",\"type\":\"scatter\"},{\"hovertemplate\":\"go_term=Small gtpase mediated signal transduction<br>fdr_bh=%{x}<br>odds=%{marker.size}<extra></extra>\",\"legendgroup\":\"Small gtpase mediated signal transduction\",\"marker\":{\"color\":\"#B6E880\",\"size\":[9.08188385662684],\"sizemode\":\"area\",\"sizeref\":0.04711196203214325,\"symbol\":\"circle\"},\"mode\":\"markers\",\"name\":\"Small gtpase mediated signal transduction\",\"orientation\":\"v\",\"showlegend\":true,\"x\":[1.224390600385234e-19],\"xaxis\":\"x\",\"y\":[9.08188385662684],\"yaxis\":\"y\",\"type\":\"scatter\"},{\"hovertemplate\":\"go_term=Ras protein signal transduction<br>fdr_bh=%{x}<br>odds=%{marker.size}<extra></extra>\",\"legendgroup\":\"Ras protein signal transduction\",\"marker\":{\"color\":\"#FF97FF\",\"size\":[11.51179155572461],\"sizemode\":\"area\",\"sizeref\":0.04711196203214325,\"symbol\":\"circle\"},\"mode\":\"markers\",\"name\":\"Ras protein signal transduction\",\"orientation\":\"v\",\"showlegend\":true,\"x\":[8.520653768331626e-21],\"xaxis\":\"x\",\"y\":[11.51179155572461],\"yaxis\":\"y\",\"type\":\"scatter\"},{\"hovertemplate\":\"go_term=Endomembrane system organization<br>fdr_bh=%{x}<br>odds=%{marker.size}<extra></extra>\",\"legendgroup\":\"Endomembrane system organization\",\"marker\":{\"color\":\"#FECB52\",\"size\":[3.1870218350365778],\"sizemode\":\"area\",\"sizeref\":0.04711196203214325,\"symbol\":\"circle\"},\"mode\":\"markers\",\"name\":\"Endomembrane system organization\",\"orientation\":\"v\",\"showlegend\":true,\"x\":[3.455931481507827e-05],\"xaxis\":\"x\",\"y\":[3.1870218350365778],\"yaxis\":\"y\",\"type\":\"scatter\"},{\"hovertemplate\":\"go_term=Rab protein signal transduction<br>fdr_bh=%{x}<br>odds=%{marker.size}<extra></extra>\",\"legendgroup\":\"Rab protein signal transduction\",\"marker\":{\"color\":\"#636efa\",\"size\":[18.8447848128573],\"sizemode\":\"area\",\"sizeref\":0.04711196203214325,\"symbol\":\"circle\"},\"mode\":\"markers\",\"name\":\"Rab protein signal transduction\",\"orientation\":\"v\",\"showlegend\":true,\"x\":[9.920862003419724e-16],\"xaxis\":\"x\",\"y\":[18.8447848128573],\"yaxis\":\"y\",\"type\":\"scatter\"},{\"hovertemplate\":\"go_term=Regulation of neurotransmitter transport<br>fdr_bh=%{x}<br>odds=%{marker.size}<extra></extra>\",\"legendgroup\":\"Regulation of neurotransmitter transport\",\"marker\":{\"color\":\"#EF553B\",\"size\":[7.401187446988974],\"sizemode\":\"area\",\"sizeref\":0.04711196203214325,\"symbol\":\"circle\"},\"mode\":\"markers\",\"name\":\"Regulation of neurotransmitter transport\",\"orientation\":\"v\",\"showlegend\":true,\"x\":[1.046027284554359e-06],\"xaxis\":\"x\",\"y\":[7.401187446988974],\"yaxis\":\"y\",\"type\":\"scatter\"},{\"hovertemplate\":\"go_term=Regulation of wound healing<br>fdr_bh=%{x}<br>odds=%{marker.size}<extra></extra>\",\"legendgroup\":\"Regulation of wound healing\",\"marker\":{\"color\":\"#00cc96\",\"size\":[6.237595419847328],\"sizemode\":\"area\",\"sizeref\":0.04711196203214325,\"symbol\":\"circle\"},\"mode\":\"markers\",\"name\":\"Regulation of wound healing\",\"orientation\":\"v\",\"showlegend\":true,\"x\":[4.3979466861879685e-06],\"xaxis\":\"x\",\"y\":[6.237595419847328],\"yaxis\":\"y\",\"type\":\"scatter\"},{\"hovertemplate\":\"go_term=Protein localization to plasma membrane<br>fdr_bh=%{x}<br>odds=%{marker.size}<extra></extra>\",\"legendgroup\":\"Protein localization to plasma membrane\",\"marker\":{\"color\":\"#ab63fa\",\"size\":[4.301629874148958],\"sizemode\":\"area\",\"sizeref\":0.04711196203214325,\"symbol\":\"circle\"},\"mode\":\"markers\",\"name\":\"Protein localization to plasma membrane\",\"orientation\":\"v\",\"showlegend\":true,\"x\":[9.259416912447456e-05],\"xaxis\":\"x\",\"y\":[4.301629874148958],\"yaxis\":\"y\",\"type\":\"scatter\"},{\"hovertemplate\":\"go_term=Regulation of synaptic vesicle cycle<br>fdr_bh=%{x}<br>odds=%{marker.size}<extra></extra>\",\"legendgroup\":\"Regulation of synaptic vesicle cycle\",\"marker\":{\"color\":\"#FFA15A\",\"size\":[7.089556646609325],\"sizemode\":\"area\",\"sizeref\":0.04711196203214325,\"symbol\":\"circle\"},\"mode\":\"markers\",\"name\":\"Regulation of synaptic vesicle cycle\",\"orientation\":\"v\",\"showlegend\":true,\"x\":[3.899134442718025e-06],\"xaxis\":\"x\",\"y\":[7.089556646609325],\"yaxis\":\"y\",\"type\":\"scatter\"},{\"hovertemplate\":\"go_term=Regulation of response to wounding<br>fdr_bh=%{x}<br>odds=%{marker.size}<extra></extra>\",\"legendgroup\":\"Regulation of response to wounding\",\"marker\":{\"color\":\"#19d3f3\",\"size\":[5.556194125159642],\"sizemode\":\"area\",\"sizeref\":0.04711196203214325,\"symbol\":\"circle\"},\"mode\":\"markers\",\"name\":\"Regulation of response to wounding\",\"orientation\":\"v\",\"showlegend\":true,\"x\":[5.170171906174994e-06],\"xaxis\":\"x\",\"y\":[5.556194125159642],\"yaxis\":\"y\",\"type\":\"scatter\"},{\"hovertemplate\":\"go_term=Protein localization to cell periphery<br>fdr_bh=%{x}<br>odds=%{marker.size}<extra></extra>\",\"legendgroup\":\"Protein localization to cell periphery\",\"marker\":{\"color\":\"#FF6692\",\"size\":[4.440496121912051],\"sizemode\":\"area\",\"sizeref\":0.04711196203214325,\"symbol\":\"circle\"},\"mode\":\"markers\",\"name\":\"Protein localization to cell periphery\",\"orientation\":\"v\",\"showlegend\":true,\"x\":[1.0821623790390405e-05],\"xaxis\":\"x\",\"y\":[4.440496121912051],\"yaxis\":\"y\",\"type\":\"scatter\"},{\"hovertemplate\":\"go_term=Protein folding<br>fdr_bh=%{x}<br>odds=%{marker.size}<extra></extra>\",\"legendgroup\":\"Protein folding\",\"marker\":{\"color\":\"#B6E880\",\"size\":[3.194686756542427],\"sizemode\":\"area\",\"sizeref\":0.04711196203214325,\"symbol\":\"circle\"},\"mode\":\"markers\",\"name\":\"Protein folding\",\"orientation\":\"v\",\"showlegend\":true,\"x\":[0.00039111513870041106],\"xaxis\":\"x\",\"y\":[3.194686756542427],\"yaxis\":\"y\",\"type\":\"scatter\"},{\"hovertemplate\":\"go_term=Antigen processing and presentation<br>fdr_bh=%{x}<br>odds=%{marker.size}<extra></extra>\",\"legendgroup\":\"Antigen processing and presentation\",\"marker\":{\"color\":\"#FF97FF\",\"size\":[5.680856801633471],\"sizemode\":\"area\",\"sizeref\":0.04711196203214325,\"symbol\":\"circle\"},\"mode\":\"markers\",\"name\":\"Antigen processing and presentation\",\"orientation\":\"v\",\"showlegend\":true,\"x\":[2.1581414640635662e-07],\"xaxis\":\"x\",\"y\":[5.680856801633471],\"yaxis\":\"y\",\"type\":\"scatter\"},{\"hovertemplate\":\"go_term=G protein-coupled receptor signaling pathway, coupled to cyclic nucleotide second messenger<br>fdr_bh=%{x}<br>odds=%{marker.size}<extra></extra>\",\"legendgroup\":\"G protein-coupled receptor signaling pathway, coupled to cyclic nucleotide second messenger\",\"marker\":{\"color\":\"#FECB52\",\"size\":[4.511497622304736],\"sizemode\":\"area\",\"sizeref\":0.04711196203214325,\"symbol\":\"circle\"},\"mode\":\"markers\",\"name\":\"G protein-coupled receptor signaling pathway, coupled to cyclic nucleotide second messenger\",\"orientation\":\"v\",\"showlegend\":true,\"x\":[5.098614670353954e-06],\"xaxis\":\"x\",\"y\":[4.511497622304736],\"yaxis\":\"y\",\"type\":\"scatter\"},{\"hovertemplate\":\"go_term=Adenylate cyclase-modulating g protein-coupled receptor signaling pathway<br>fdr_bh=%{x}<br>odds=%{marker.size}<extra></extra>\",\"legendgroup\":\"Adenylate cyclase-modulating g protein-coupled receptor signaling pathway\",\"marker\":{\"color\":\"#636efa\",\"size\":[4.80639559586928],\"sizemode\":\"area\",\"sizeref\":0.04711196203214325,\"symbol\":\"circle\"},\"mode\":\"markers\",\"name\":\"Adenylate cyclase-modulating g protein-coupled receptor signaling pathway\",\"orientation\":\"v\",\"showlegend\":true,\"x\":[5.054717910135645e-06],\"xaxis\":\"x\",\"y\":[4.80639559586928],\"yaxis\":\"y\",\"type\":\"scatter\"},{\"hovertemplate\":\"go_term=Cellular response to abiotic stimulus<br>fdr_bh=%{x}<br>odds=%{marker.size}<extra></extra>\",\"legendgroup\":\"Cellular response to abiotic stimulus\",\"marker\":{\"color\":\"#EF553B\",\"size\":[3.0763627101375444],\"sizemode\":\"area\",\"sizeref\":0.04711196203214325,\"symbol\":\"circle\"},\"mode\":\"markers\",\"name\":\"Cellular response to abiotic stimulus\",\"orientation\":\"v\",\"showlegend\":true,\"x\":[0.0005250491597375758],\"xaxis\":\"x\",\"y\":[3.0763627101375444],\"yaxis\":\"y\",\"type\":\"scatter\"},{\"hovertemplate\":\"go_term=Cellular response to environmental stimulus<br>fdr_bh=%{x}<br>odds=%{marker.size}<extra></extra>\",\"legendgroup\":\"Cellular response to environmental stimulus\",\"marker\":{\"color\":\"#00cc96\",\"size\":[3.0763627101375444],\"sizemode\":\"area\",\"sizeref\":0.04711196203214325,\"symbol\":\"circle\"},\"mode\":\"markers\",\"name\":\"Cellular response to environmental stimulus\",\"orientation\":\"v\",\"showlegend\":true,\"x\":[0.0005250491597375758],\"xaxis\":\"x\",\"y\":[3.0763627101375444],\"yaxis\":\"y\",\"type\":\"scatter\"},{\"hovertemplate\":\"go_term=Calcium ion transport<br>fdr_bh=%{x}<br>odds=%{marker.size}<extra></extra>\",\"legendgroup\":\"Calcium ion transport\",\"marker\":{\"color\":\"#ab63fa\",\"size\":[5.649497370140986],\"sizemode\":\"area\",\"sizeref\":0.04711196203214325,\"symbol\":\"circle\"},\"mode\":\"markers\",\"name\":\"Calcium ion transport\",\"orientation\":\"v\",\"showlegend\":true,\"x\":[1.2923995614952275e-08],\"xaxis\":\"x\",\"y\":[5.649497370140986],\"yaxis\":\"y\",\"type\":\"scatter\"},{\"hovertemplate\":\"go_term=Cellular calcium ion homeostasis<br>fdr_bh=%{x}<br>odds=%{marker.size}<extra></extra>\",\"legendgroup\":\"Cellular calcium ion homeostasis\",\"marker\":{\"color\":\"#FFA15A\",\"size\":[3.0969318490361117],\"sizemode\":\"area\",\"sizeref\":0.04711196203214325,\"symbol\":\"circle\"},\"mode\":\"markers\",\"name\":\"Cellular calcium ion homeostasis\",\"orientation\":\"v\",\"showlegend\":true,\"x\":[4.785745176556898e-05],\"xaxis\":\"x\",\"y\":[3.0969318490361117],\"yaxis\":\"y\",\"type\":\"scatter\"},{\"hovertemplate\":\"go_term=Regulation of heart contraction<br>fdr_bh=%{x}<br>odds=%{marker.size}<extra></extra>\",\"legendgroup\":\"Regulation of heart contraction\",\"marker\":{\"color\":\"#19d3f3\",\"size\":[3.376644469709274],\"sizemode\":\"area\",\"sizeref\":0.04711196203214325,\"symbol\":\"circle\"},\"mode\":\"markers\",\"name\":\"Regulation of heart contraction\",\"orientation\":\"v\",\"showlegend\":true,\"x\":[0.0005931030736418996],\"xaxis\":\"x\",\"y\":[3.376644469709274],\"yaxis\":\"y\",\"type\":\"scatter\"},{\"hovertemplate\":\"go_term=Regulation of membrane potential<br>fdr_bh=%{x}<br>odds=%{marker.size}<extra></extra>\",\"legendgroup\":\"Regulation of membrane potential\",\"marker\":{\"color\":\"#FF6692\",\"size\":[3.0234736548647896],\"sizemode\":\"area\",\"sizeref\":0.04711196203214325,\"symbol\":\"circle\"},\"mode\":\"markers\",\"name\":\"Regulation of membrane potential\",\"orientation\":\"v\",\"showlegend\":true,\"x\":[9.27989848661003e-05],\"xaxis\":\"x\",\"y\":[3.0234736548647896],\"yaxis\":\"y\",\"type\":\"scatter\"},{\"hovertemplate\":\"go_term=Regulation of cytosolic calcium ion concentration<br>fdr_bh=%{x}<br>odds=%{marker.size}<extra></extra>\",\"legendgroup\":\"Regulation of cytosolic calcium ion concentration\",\"marker\":{\"color\":\"#B6E880\",\"size\":[3.0415999623316696],\"sizemode\":\"area\",\"sizeref\":0.04711196203214325,\"symbol\":\"circle\"},\"mode\":\"markers\",\"name\":\"Regulation of cytosolic calcium ion concentration\",\"orientation\":\"v\",\"showlegend\":true,\"x\":[0.00039974068832017353],\"xaxis\":\"x\",\"y\":[3.0415999623316696],\"yaxis\":\"y\",\"type\":\"scatter\"},{\"hovertemplate\":\"go_term=Calcium ion homeostasis<br>fdr_bh=%{x}<br>odds=%{marker.size}<extra></extra>\",\"legendgroup\":\"Calcium ion homeostasis\",\"marker\":{\"color\":\"#FF97FF\",\"size\":[3.0047806524184475],\"sizemode\":\"area\",\"sizeref\":0.04711196203214325,\"symbol\":\"circle\"},\"mode\":\"markers\",\"name\":\"Calcium ion homeostasis\",\"orientation\":\"v\",\"showlegend\":true,\"x\":[6.793356910240194e-05],\"xaxis\":\"x\",\"y\":[3.0047806524184475],\"yaxis\":\"y\",\"type\":\"scatter\"},{\"hovertemplate\":\"go_term=Calcium ion transmembrane transport<br>fdr_bh=%{x}<br>odds=%{marker.size}<extra></extra>\",\"legendgroup\":\"Calcium ion transmembrane transport\",\"marker\":{\"color\":\"#FECB52\",\"size\":[5.569264478108118],\"sizemode\":\"area\",\"sizeref\":0.04711196203214325,\"symbol\":\"circle\"},\"mode\":\"markers\",\"name\":\"Calcium ion transmembrane transport\",\"orientation\":\"v\",\"showlegend\":true,\"x\":[2.6910743960809e-07],\"xaxis\":\"x\",\"y\":[5.569264478108118],\"yaxis\":\"y\",\"type\":\"scatter\"},{\"hovertemplate\":\"go_term=Divalent metal ion transport<br>fdr_bh=%{x}<br>odds=%{marker.size}<extra></extra>\",\"legendgroup\":\"Divalent metal ion transport\",\"marker\":{\"color\":\"#636efa\",\"size\":[4.613948744103022],\"sizemode\":\"area\",\"sizeref\":0.04711196203214325,\"symbol\":\"circle\"},\"mode\":\"markers\",\"name\":\"Divalent metal ion transport\",\"orientation\":\"v\",\"showlegend\":true,\"x\":[2.0480277134954638e-07],\"xaxis\":\"x\",\"y\":[4.613948744103022],\"yaxis\":\"y\",\"type\":\"scatter\"},{\"hovertemplate\":\"go_term=Cellular divalent inorganic cation homeostasis<br>fdr_bh=%{x}<br>odds=%{marker.size}<extra></extra>\",\"legendgroup\":\"Cellular divalent inorganic cation homeostasis\",\"marker\":{\"color\":\"#EF553B\",\"size\":[2.8856746983880233],\"sizemode\":\"area\",\"sizeref\":0.04711196203214325,\"symbol\":\"circle\"},\"mode\":\"markers\",\"name\":\"Cellular divalent inorganic cation homeostasis\",\"orientation\":\"v\",\"showlegend\":true,\"x\":[0.00010929109381871292],\"xaxis\":\"x\",\"y\":[2.8856746983880233],\"yaxis\":\"y\",\"type\":\"scatter\"},{\"hovertemplate\":\"go_term=Divalent inorganic cation transport<br>fdr_bh=%{x}<br>odds=%{marker.size}<extra></extra>\",\"legendgroup\":\"Divalent inorganic cation transport\",\"marker\":{\"color\":\"#00cc96\",\"size\":[4.4957864121112685],\"sizemode\":\"area\",\"sizeref\":0.04711196203214325,\"symbol\":\"circle\"},\"mode\":\"markers\",\"name\":\"Divalent inorganic cation transport\",\"orientation\":\"v\",\"showlegend\":true,\"x\":[2.7353716235094425e-07],\"xaxis\":\"x\",\"y\":[4.4957864121112685],\"yaxis\":\"y\",\"type\":\"scatter\"},{\"hovertemplate\":\"go_term=Regulation of blood circulation<br>fdr_bh=%{x}<br>odds=%{marker.size}<extra></extra>\",\"legendgroup\":\"Regulation of blood circulation\",\"marker\":{\"color\":\"#ab63fa\",\"size\":[3.0624207469219127],\"sizemode\":\"area\",\"sizeref\":0.04711196203214325,\"symbol\":\"circle\"},\"mode\":\"markers\",\"name\":\"Regulation of blood circulation\",\"orientation\":\"v\",\"showlegend\":true,\"x\":[0.000825272591258616],\"xaxis\":\"x\",\"y\":[3.0624207469219127],\"yaxis\":\"y\",\"type\":\"scatter\"},{\"hovertemplate\":\"go_term=Establishment or maintenance of cell polarity<br>fdr_bh=%{x}<br>odds=%{marker.size}<extra></extra>\",\"legendgroup\":\"Establishment or maintenance of cell polarity\",\"marker\":{\"color\":\"#FFA15A\",\"size\":[3.8038938546373897],\"sizemode\":\"area\",\"sizeref\":0.04711196203214325,\"symbol\":\"circle\"},\"mode\":\"markers\",\"name\":\"Establishment or maintenance of cell polarity\",\"orientation\":\"v\",\"showlegend\":true,\"x\":[0.00041064273711722237],\"xaxis\":\"x\",\"y\":[3.8038938546373897],\"yaxis\":\"y\",\"type\":\"scatter\"},{\"hovertemplate\":\"go_term=Regulation of cell growth<br>fdr_bh=%{x}<br>odds=%{marker.size}<extra></extra>\",\"legendgroup\":\"Regulation of cell growth\",\"marker\":{\"color\":\"#19d3f3\",\"size\":[3.521093413689195],\"sizemode\":\"area\",\"sizeref\":0.04711196203214325,\"symbol\":\"circle\"},\"mode\":\"markers\",\"name\":\"Regulation of cell growth\",\"orientation\":\"v\",\"showlegend\":true,\"x\":[6.447079375707016e-06],\"xaxis\":\"x\",\"y\":[3.521093413689195],\"yaxis\":\"y\",\"type\":\"scatter\"},{\"hovertemplate\":\"go_term=Receptor-mediated endocytosis<br>fdr_bh=%{x}<br>odds=%{marker.size}<extra></extra>\",\"legendgroup\":\"Receptor-mediated endocytosis\",\"marker\":{\"color\":\"#FF6692\",\"size\":[8.58399209486166],\"sizemode\":\"area\",\"sizeref\":0.04711196203214325,\"symbol\":\"circle\"},\"mode\":\"markers\",\"name\":\"Receptor-mediated endocytosis\",\"orientation\":\"v\",\"showlegend\":true,\"x\":[3.075139487071895e-11],\"xaxis\":\"x\",\"y\":[8.58399209486166],\"yaxis\":\"y\",\"type\":\"scatter\"},{\"hovertemplate\":\"go_term=Negative regulation of cell adhesion<br>fdr_bh=%{x}<br>odds=%{marker.size}<extra></extra>\",\"legendgroup\":\"Negative regulation of cell adhesion\",\"marker\":{\"color\":\"#B6E880\",\"size\":[2.688778322755735],\"sizemode\":\"area\",\"sizeref\":0.04711196203214325,\"symbol\":\"circle\"},\"mode\":\"markers\",\"name\":\"Negative regulation of cell adhesion\",\"orientation\":\"v\",\"showlegend\":true,\"x\":[0.004725248976556221],\"xaxis\":\"x\",\"y\":[2.688778322755735],\"yaxis\":\"y\",\"type\":\"scatter\"},{\"hovertemplate\":\"go_term=Positive regulation of cytosolic calcium ion concentration<br>fdr_bh=%{x}<br>odds=%{marker.size}<extra></extra>\",\"legendgroup\":\"Positive regulation of cytosolic calcium ion concentration\",\"marker\":{\"color\":\"#FF97FF\",\"size\":[2.997356722335696],\"sizemode\":\"area\",\"sizeref\":0.04711196203214325,\"symbol\":\"circle\"},\"mode\":\"markers\",\"name\":\"Positive regulation of cytosolic calcium ion concentration\",\"orientation\":\"v\",\"showlegend\":true,\"x\":[0.0009760970810274185],\"xaxis\":\"x\",\"y\":[2.997356722335696],\"yaxis\":\"y\",\"type\":\"scatter\"},{\"hovertemplate\":\"go_term=Positive regulation of catabolic process<br>fdr_bh=%{x}<br>odds=%{marker.size}<extra></extra>\",\"legendgroup\":\"Positive regulation of catabolic process\",\"marker\":{\"color\":\"#FECB52\",\"size\":[2.2991474549765423],\"sizemode\":\"area\",\"sizeref\":0.04711196203214325,\"symbol\":\"circle\"},\"mode\":\"markers\",\"name\":\"Positive regulation of catabolic process\",\"orientation\":\"v\",\"showlegend\":true,\"x\":[0.004117126815053951],\"xaxis\":\"x\",\"y\":[2.2991474549765423],\"yaxis\":\"y\",\"type\":\"scatter\"},{\"hovertemplate\":\"go_term=Negative regulation of cell development<br>fdr_bh=%{x}<br>odds=%{marker.size}<extra></extra>\",\"legendgroup\":\"Negative regulation of cell development\",\"marker\":{\"color\":\"#636efa\",\"size\":[2.4833645398242834],\"sizemode\":\"area\",\"sizeref\":0.04711196203214325,\"symbol\":\"circle\"},\"mode\":\"markers\",\"name\":\"Negative regulation of cell development\",\"orientation\":\"v\",\"showlegend\":true,\"x\":[0.005841327591167259],\"xaxis\":\"x\",\"y\":[2.4833645398242834],\"yaxis\":\"y\",\"type\":\"scatter\"},{\"hovertemplate\":\"go_term=Regulation of cell morphogenesis involved in differentiation<br>fdr_bh=%{x}<br>odds=%{marker.size}<extra></extra>\",\"legendgroup\":\"Regulation of cell morphogenesis involved in differentiation\",\"marker\":{\"color\":\"#EF553B\",\"size\":[3.8959509169864943],\"sizemode\":\"area\",\"sizeref\":0.04711196203214325,\"symbol\":\"circle\"},\"mode\":\"markers\",\"name\":\"Regulation of cell morphogenesis involved in differentiation\",\"orientation\":\"v\",\"showlegend\":true,\"x\":[1.3272245988138043e-05],\"xaxis\":\"x\",\"y\":[3.8959509169864943],\"yaxis\":\"y\",\"type\":\"scatter\"},{\"hovertemplate\":\"go_term=Positive regulation of cell morphogenesis involved in differentiation<br>fdr_bh=%{x}<br>odds=%{marker.size}<extra></extra>\",\"legendgroup\":\"Positive regulation of cell morphogenesis involved in differentiation\",\"marker\":{\"color\":\"#00cc96\",\"size\":[4.921231117048608],\"sizemode\":\"area\",\"sizeref\":0.04711196203214325,\"symbol\":\"circle\"},\"mode\":\"markers\",\"name\":\"Positive regulation of cell morphogenesis involved in differentiation\",\"orientation\":\"v\",\"showlegend\":true,\"x\":[6.134978985180864e-05],\"xaxis\":\"x\",\"y\":[4.921231117048608],\"yaxis\":\"y\",\"type\":\"scatter\"},{\"hovertemplate\":\"go_term=Telencephalon development<br>fdr_bh=%{x}<br>odds=%{marker.size}<extra></extra>\",\"legendgroup\":\"Telencephalon development\",\"marker\":{\"color\":\"#ab63fa\",\"size\":[3.2236082666170174],\"sizemode\":\"area\",\"sizeref\":0.04711196203214325,\"symbol\":\"circle\"},\"mode\":\"markers\",\"name\":\"Telencephalon development\",\"orientation\":\"v\",\"showlegend\":true,\"x\":[0.0008453048732323948],\"xaxis\":\"x\",\"y\":[3.2236082666170174],\"yaxis\":\"y\",\"type\":\"scatter\"},{\"hovertemplate\":\"go_term=Positive regulation of cell growth<br>fdr_bh=%{x}<br>odds=%{marker.size}<extra></extra>\",\"legendgroup\":\"Positive regulation of cell growth\",\"marker\":{\"color\":\"#FFA15A\",\"size\":[4.949694182352662],\"sizemode\":\"area\",\"sizeref\":0.04711196203214325,\"symbol\":\"circle\"},\"mode\":\"markers\",\"name\":\"Positive regulation of cell growth\",\"orientation\":\"v\",\"showlegend\":true,\"x\":[2.956125813658113e-05],\"xaxis\":\"x\",\"y\":[4.949694182352662],\"yaxis\":\"y\",\"type\":\"scatter\"},{\"hovertemplate\":\"go_term=Forebrain development<br>fdr_bh=%{x}<br>odds=%{marker.size}<extra></extra>\",\"legendgroup\":\"Forebrain development\",\"marker\":{\"color\":\"#19d3f3\",\"size\":[2.8640493456697507],\"sizemode\":\"area\",\"sizeref\":0.04711196203214325,\"symbol\":\"circle\"},\"mode\":\"markers\",\"name\":\"Forebrain development\",\"orientation\":\"v\",\"showlegend\":true,\"x\":[0.0004727107553676671],\"xaxis\":\"x\",\"y\":[2.8640493456697507],\"yaxis\":\"y\",\"type\":\"scatter\"},{\"hovertemplate\":\"go_term=Regulation of actin cytoskeleton organization<br>fdr_bh=%{x}<br>odds=%{marker.size}<extra></extra>\",\"legendgroup\":\"Regulation of actin cytoskeleton organization\",\"marker\":{\"color\":\"#FF6692\",\"size\":[3.7593582887700534],\"sizemode\":\"area\",\"sizeref\":0.04711196203214325,\"symbol\":\"circle\"},\"mode\":\"markers\",\"name\":\"Regulation of actin cytoskeleton organization\",\"orientation\":\"v\",\"showlegend\":true,\"x\":[7.382304214382514e-06],\"xaxis\":\"x\",\"y\":[3.7593582887700534],\"yaxis\":\"y\",\"type\":\"scatter\"},{\"hovertemplate\":\"go_term=Regulation of actin filament-based process<br>fdr_bh=%{x}<br>odds=%{marker.size}<extra></extra>\",\"legendgroup\":\"Regulation of actin filament-based process\",\"marker\":{\"color\":\"#B6E880\",\"size\":[3.5375355567465063],\"sizemode\":\"area\",\"sizeref\":0.04711196203214325,\"symbol\":\"circle\"},\"mode\":\"markers\",\"name\":\"Regulation of actin filament-based process\",\"orientation\":\"v\",\"showlegend\":true,\"x\":[9.538502009744498e-06],\"xaxis\":\"x\",\"y\":[3.5375355567465063],\"yaxis\":\"y\",\"type\":\"scatter\"},{\"hovertemplate\":\"go_term=Regulation of protein catabolic process<br>fdr_bh=%{x}<br>odds=%{marker.size}<extra></extra>\",\"legendgroup\":\"Regulation of protein catabolic process\",\"marker\":{\"color\":\"#FF97FF\",\"size\":[2.5735683315502],\"sizemode\":\"area\",\"sizeref\":0.04711196203214325,\"symbol\":\"circle\"},\"mode\":\"markers\",\"name\":\"Regulation of protein catabolic process\",\"orientation\":\"v\",\"showlegend\":true,\"x\":[0.0012562884849088825],\"xaxis\":\"x\",\"y\":[2.5735683315502],\"yaxis\":\"y\",\"type\":\"scatter\"},{\"hovertemplate\":\"go_term=Receptor metabolic process<br>fdr_bh=%{x}<br>odds=%{marker.size}<extra></extra>\",\"legendgroup\":\"Receptor metabolic process\",\"marker\":{\"color\":\"#FECB52\",\"size\":[8.602314700812608],\"sizemode\":\"area\",\"sizeref\":0.04711196203214325,\"symbol\":\"circle\"},\"mode\":\"markers\",\"name\":\"Receptor metabolic process\",\"orientation\":\"v\",\"showlegend\":true,\"x\":[2.824227290622976e-07],\"xaxis\":\"x\",\"y\":[8.602314700812608],\"yaxis\":\"y\",\"type\":\"scatter\"},{\"hovertemplate\":\"go_term=Positive regulation of protein catabolic process<br>fdr_bh=%{x}<br>odds=%{marker.size}<extra></extra>\",\"legendgroup\":\"Positive regulation of protein catabolic process\",\"marker\":{\"color\":\"#636efa\",\"size\":[3.0315318898452044],\"sizemode\":\"area\",\"sizeref\":0.04711196203214325,\"symbol\":\"circle\"},\"mode\":\"markers\",\"name\":\"Positive regulation of protein catabolic process\",\"orientation\":\"v\",\"showlegend\":true,\"x\":[0.002063392048494943],\"xaxis\":\"x\",\"y\":[3.0315318898452044],\"yaxis\":\"y\",\"type\":\"scatter\"},{\"hovertemplate\":\"go_term=Regulation of hormone secretion<br>fdr_bh=%{x}<br>odds=%{marker.size}<extra></extra>\",\"legendgroup\":\"Regulation of hormone secretion\",\"marker\":{\"color\":\"#EF553B\",\"size\":[3.960428525645917],\"sizemode\":\"area\",\"sizeref\":0.04711196203214325,\"symbol\":\"circle\"},\"mode\":\"markers\",\"name\":\"Regulation of hormone secretion\",\"orientation\":\"v\",\"showlegend\":true,\"x\":[3.433980355798436e-05],\"xaxis\":\"x\",\"y\":[3.960428525645917],\"yaxis\":\"y\",\"type\":\"scatter\"},{\"hovertemplate\":\"go_term=Blood vessel morphogenesis<br>fdr_bh=%{x}<br>odds=%{marker.size}<extra></extra>\",\"legendgroup\":\"Blood vessel morphogenesis\",\"marker\":{\"color\":\"#00cc96\",\"size\":[3.660068890537204],\"sizemode\":\"area\",\"sizeref\":0.04711196203214325,\"symbol\":\"circle\"},\"mode\":\"markers\",\"name\":\"Blood vessel morphogenesis\",\"orientation\":\"v\",\"showlegend\":true,\"x\":[4.16499037642968e-06],\"xaxis\":\"x\",\"y\":[3.660068890537204],\"yaxis\":\"y\",\"type\":\"scatter\"},{\"hovertemplate\":\"go_term=Negative regulation of neurogenesis<br>fdr_bh=%{x}<br>odds=%{marker.size}<extra></extra>\",\"legendgroup\":\"Negative regulation of neurogenesis\",\"marker\":{\"color\":\"#ab63fa\",\"size\":[2.619523888245991],\"sizemode\":\"area\",\"sizeref\":0.04711196203214325,\"symbol\":\"circle\"},\"mode\":\"markers\",\"name\":\"Negative regulation of neurogenesis\",\"orientation\":\"v\",\"showlegend\":true,\"x\":[0.005629641506616779],\"xaxis\":\"x\",\"y\":[2.619523888245991],\"yaxis\":\"y\",\"type\":\"scatter\"},{\"hovertemplate\":\"go_term=Regulation of axonogenesis<br>fdr_bh=%{x}<br>odds=%{marker.size}<extra></extra>\",\"legendgroup\":\"Regulation of axonogenesis\",\"marker\":{\"color\":\"#FFA15A\",\"size\":[4.523941707147814],\"sizemode\":\"area\",\"sizeref\":0.04711196203214325,\"symbol\":\"circle\"},\"mode\":\"markers\",\"name\":\"Regulation of axonogenesis\",\"orientation\":\"v\",\"showlegend\":true,\"x\":[6.086671554550615e-05],\"xaxis\":\"x\",\"y\":[4.523941707147814],\"yaxis\":\"y\",\"type\":\"scatter\"},{\"hovertemplate\":\"go_term=Regulation of insulin secretion<br>fdr_bh=%{x}<br>odds=%{marker.size}<extra></extra>\",\"legendgroup\":\"Regulation of insulin secretion\",\"marker\":{\"color\":\"#19d3f3\",\"size\":[4.68522676246071],\"sizemode\":\"area\",\"sizeref\":0.04711196203214325,\"symbol\":\"circle\"},\"mode\":\"markers\",\"name\":\"Regulation of insulin secretion\",\"orientation\":\"v\",\"showlegend\":true,\"x\":[4.6495893630471773e-05],\"xaxis\":\"x\",\"y\":[4.68522676246071],\"yaxis\":\"y\",\"type\":\"scatter\"},{\"hovertemplate\":\"go_term=Negative regulation of nervous system development<br>fdr_bh=%{x}<br>odds=%{marker.size}<extra></extra>\",\"legendgroup\":\"Negative regulation of nervous system development\",\"marker\":{\"color\":\"#FF6692\",\"size\":[3.1077694880370466],\"sizemode\":\"area\",\"sizeref\":0.04711196203214325,\"symbol\":\"circle\"},\"mode\":\"markers\",\"name\":\"Negative regulation of nervous system development\",\"orientation\":\"v\",\"showlegend\":true,\"x\":[0.0004861204125134621],\"xaxis\":\"x\",\"y\":[3.1077694880370466],\"yaxis\":\"y\",\"type\":\"scatter\"},{\"hovertemplate\":\"go_term=Regulation of peptide hormone secretion<br>fdr_bh=%{x}<br>odds=%{marker.size}<extra></extra>\",\"legendgroup\":\"Regulation of peptide hormone secretion\",\"marker\":{\"color\":\"#B6E880\",\"size\":[4.649253731343284],\"sizemode\":\"area\",\"sizeref\":0.04711196203214325,\"symbol\":\"circle\"},\"mode\":\"markers\",\"name\":\"Regulation of peptide hormone secretion\",\"orientation\":\"v\",\"showlegend\":true,\"x\":[1.2953159051161438e-05],\"xaxis\":\"x\",\"y\":[4.649253731343284],\"yaxis\":\"y\",\"type\":\"scatter\"},{\"hovertemplate\":\"go_term=Regulation of neuron death<br>fdr_bh=%{x}<br>odds=%{marker.size}<extra></extra>\",\"legendgroup\":\"Regulation of neuron death\",\"marker\":{\"color\":\"#FF97FF\",\"size\":[2.808153657376105],\"sizemode\":\"area\",\"sizeref\":0.04711196203214325,\"symbol\":\"circle\"},\"mode\":\"markers\",\"name\":\"Regulation of neuron death\",\"orientation\":\"v\",\"showlegend\":true,\"x\":[0.0016389868660841105],\"xaxis\":\"x\",\"y\":[2.808153657376105],\"yaxis\":\"y\",\"type\":\"scatter\"},{\"hovertemplate\":\"go_term=Response to peptide<br>fdr_bh=%{x}<br>odds=%{marker.size}<extra></extra>\",\"legendgroup\":\"Response to peptide\",\"marker\":{\"color\":\"#FECB52\",\"size\":[3.970620842572062],\"sizemode\":\"area\",\"sizeref\":0.04711196203214325,\"symbol\":\"circle\"},\"mode\":\"markers\",\"name\":\"Response to peptide\",\"orientation\":\"v\",\"showlegend\":true,\"x\":[1.1780002043816169e-07],\"xaxis\":\"x\",\"y\":[3.970620842572062],\"yaxis\":\"y\",\"type\":\"scatter\"},{\"hovertemplate\":\"go_term=Cellular response to peptide<br>fdr_bh=%{x}<br>odds=%{marker.size}<extra></extra>\",\"legendgroup\":\"Cellular response to peptide\",\"marker\":{\"color\":\"#636efa\",\"size\":[4.5988460023130795],\"sizemode\":\"area\",\"sizeref\":0.04711196203214325,\"symbol\":\"circle\"},\"mode\":\"markers\",\"name\":\"Cellular response to peptide\",\"orientation\":\"v\",\"showlegend\":true,\"x\":[2.1232993050325743e-07],\"xaxis\":\"x\",\"y\":[4.5988460023130795],\"yaxis\":\"y\",\"type\":\"scatter\"},{\"hovertemplate\":\"go_term=Regulation of cellular protein catabolic process<br>fdr_bh=%{x}<br>odds=%{marker.size}<extra></extra>\",\"legendgroup\":\"Regulation of cellular protein catabolic process\",\"marker\":{\"color\":\"#EF553B\",\"size\":[2.6292015209125474],\"sizemode\":\"area\",\"sizeref\":0.04711196203214325,\"symbol\":\"circle\"},\"mode\":\"markers\",\"name\":\"Regulation of cellular protein catabolic process\",\"orientation\":\"v\",\"showlegend\":true,\"x\":[0.005508706063213269],\"xaxis\":\"x\",\"y\":[2.6292015209125474],\"yaxis\":\"y\",\"type\":\"scatter\"},{\"hovertemplate\":\"go_term=Antigen processing and presentation of exogenous peptide antigen<br>fdr_bh=%{x}<br>odds=%{marker.size}<extra></extra>\",\"legendgroup\":\"Antigen processing and presentation of exogenous peptide antigen\",\"marker\":{\"color\":\"#00cc96\",\"size\":[4.464508152744408],\"sizemode\":\"area\",\"sizeref\":0.04711196203214325,\"symbol\":\"circle\"},\"mode\":\"markers\",\"name\":\"Antigen processing and presentation of exogenous peptide antigen\",\"orientation\":\"v\",\"showlegend\":true,\"x\":[0.00012690566248224058],\"xaxis\":\"x\",\"y\":[4.464508152744408],\"yaxis\":\"y\",\"type\":\"scatter\"},{\"hovertemplate\":\"go_term=Antigen processing and presentation of exogenous antigen<br>fdr_bh=%{x}<br>odds=%{marker.size}<extra></extra>\",\"legendgroup\":\"Antigen processing and presentation of exogenous antigen\",\"marker\":{\"color\":\"#ab63fa\",\"size\":[4.253685544660129],\"sizemode\":\"area\",\"sizeref\":0.04711196203214325,\"symbol\":\"circle\"},\"mode\":\"markers\",\"name\":\"Antigen processing and presentation of exogenous antigen\",\"orientation\":\"v\",\"showlegend\":true,\"x\":[0.00017950751510912837],\"xaxis\":\"x\",\"y\":[4.253685544660129],\"yaxis\":\"y\",\"type\":\"scatter\"},{\"hovertemplate\":\"go_term=Antigen processing and presentation of peptide antigen<br>fdr_bh=%{x}<br>odds=%{marker.size}<extra></extra>\",\"legendgroup\":\"Antigen processing and presentation of peptide antigen\",\"marker\":{\"color\":\"#FFA15A\",\"size\":[4.038910012674271],\"sizemode\":\"area\",\"sizeref\":0.04711196203214325,\"symbol\":\"circle\"},\"mode\":\"markers\",\"name\":\"Antigen processing and presentation of peptide antigen\",\"orientation\":\"v\",\"showlegend\":true,\"x\":[0.00026737585059451803],\"xaxis\":\"x\",\"y\":[4.038910012674271],\"yaxis\":\"y\",\"type\":\"scatter\"},{\"hovertemplate\":\"go_term=Regulation of jnk cascade<br>fdr_bh=%{x}<br>odds=%{marker.size}<extra></extra>\",\"legendgroup\":\"Regulation of jnk cascade\",\"marker\":{\"color\":\"#19d3f3\",\"size\":[5.094523326572008],\"sizemode\":\"area\",\"sizeref\":0.04711196203214325,\"symbol\":\"circle\"},\"mode\":\"markers\",\"name\":\"Regulation of jnk cascade\",\"orientation\":\"v\",\"showlegend\":true,\"x\":[1.1069347262467815e-05],\"xaxis\":\"x\",\"y\":[5.094523326572008],\"yaxis\":\"y\",\"type\":\"scatter\"},{\"hovertemplate\":\"go_term=Apoptotic signaling pathway<br>fdr_bh=%{x}<br>odds=%{marker.size}<extra></extra>\",\"legendgroup\":\"Apoptotic signaling pathway\",\"marker\":{\"color\":\"#FF6692\",\"size\":[3.421606334841629],\"sizemode\":\"area\",\"sizeref\":0.04711196203214325,\"symbol\":\"circle\"},\"mode\":\"markers\",\"name\":\"Apoptotic signaling pathway\",\"orientation\":\"v\",\"showlegend\":true,\"x\":[0.0002111194697006377],\"xaxis\":\"x\",\"y\":[3.421606334841629],\"yaxis\":\"y\",\"type\":\"scatter\"},{\"hovertemplate\":\"go_term=Golgi vesicle transport<br>fdr_bh=%{x}<br>odds=%{marker.size}<extra></extra>\",\"legendgroup\":\"Golgi vesicle transport\",\"marker\":{\"color\":\"#B6E880\",\"size\":[3.014296875],\"sizemode\":\"area\",\"sizeref\":0.04711196203214325,\"symbol\":\"circle\"},\"mode\":\"markers\",\"name\":\"Golgi vesicle transport\",\"orientation\":\"v\",\"showlegend\":true,\"x\":[0.00013667661558428344],\"xaxis\":\"x\",\"y\":[3.014296875],\"yaxis\":\"y\",\"type\":\"scatter\"},{\"hovertemplate\":\"go_term=Regulation of ion transmembrane transport<br>fdr_bh=%{x}<br>odds=%{marker.size}<extra></extra>\",\"legendgroup\":\"Regulation of ion transmembrane transport\",\"marker\":{\"color\":\"#FF97FF\",\"size\":[4.139545948275088],\"sizemode\":\"area\",\"sizeref\":0.04711196203214325,\"symbol\":\"circle\"},\"mode\":\"markers\",\"name\":\"Regulation of ion transmembrane transport\",\"orientation\":\"v\",\"showlegend\":true,\"x\":[3.6058386015585414e-08],\"xaxis\":\"x\",\"y\":[4.139545948275088],\"yaxis\":\"y\",\"type\":\"scatter\"},{\"hovertemplate\":\"go_term=Ameboidal-type cell migration<br>fdr_bh=%{x}<br>odds=%{marker.size}<extra></extra>\",\"legendgroup\":\"Ameboidal-type cell migration\",\"marker\":{\"color\":\"#FECB52\",\"size\":[5.416044061302682],\"sizemode\":\"area\",\"sizeref\":0.04711196203214325,\"symbol\":\"circle\"},\"mode\":\"markers\",\"name\":\"Ameboidal-type cell migration\",\"orientation\":\"v\",\"showlegend\":true,\"x\":[6.447079375707016e-06],\"xaxis\":\"x\",\"y\":[5.416044061302682],\"yaxis\":\"y\",\"type\":\"scatter\"},{\"hovertemplate\":\"go_term=Morphogenesis of an epithelium<br>fdr_bh=%{x}<br>odds=%{marker.size}<extra></extra>\",\"legendgroup\":\"Morphogenesis of an epithelium\",\"marker\":{\"color\":\"#636efa\",\"size\":[4.19335880105789],\"sizemode\":\"area\",\"sizeref\":0.04711196203214325,\"symbol\":\"circle\"},\"mode\":\"markers\",\"name\":\"Morphogenesis of an epithelium\",\"orientation\":\"v\",\"showlegend\":true,\"x\":[8.395898686668555e-08],\"xaxis\":\"x\",\"y\":[4.19335880105789],\"yaxis\":\"y\",\"type\":\"scatter\"},{\"hovertemplate\":\"go_term=Epithelial tube morphogenesis<br>fdr_bh=%{x}<br>odds=%{marker.size}<extra></extra>\",\"legendgroup\":\"Epithelial tube morphogenesis\",\"marker\":{\"color\":\"#EF553B\",\"size\":[3.6785210048216523],\"sizemode\":\"area\",\"sizeref\":0.04711196203214325,\"symbol\":\"circle\"},\"mode\":\"markers\",\"name\":\"Epithelial tube morphogenesis\",\"orientation\":\"v\",\"showlegend\":true,\"x\":[4.2495176197633705e-05],\"xaxis\":\"x\",\"y\":[3.6785210048216523],\"yaxis\":\"y\",\"type\":\"scatter\"},{\"hovertemplate\":\"go_term=Negative regulation of protein phosphorylation<br>fdr_bh=%{x}<br>odds=%{marker.size}<extra></extra>\",\"legendgroup\":\"Negative regulation of protein phosphorylation\",\"marker\":{\"color\":\"#00cc96\",\"size\":[2.666044957354627],\"sizemode\":\"area\",\"sizeref\":0.04711196203214325,\"symbol\":\"circle\"},\"mode\":\"markers\",\"name\":\"Negative regulation of protein phosphorylation\",\"orientation\":\"v\",\"showlegend\":true,\"x\":[0.0009053631799784913],\"xaxis\":\"x\",\"y\":[2.666044957354627],\"yaxis\":\"y\",\"type\":\"scatter\"},{\"hovertemplate\":\"go_term=Negative regulation of protein kinase activity<br>fdr_bh=%{x}<br>odds=%{marker.size}<extra></extra>\",\"legendgroup\":\"Negative regulation of protein kinase activity\",\"marker\":{\"color\":\"#ab63fa\",\"size\":[3.1657396184435553],\"sizemode\":\"area\",\"sizeref\":0.04711196203214325,\"symbol\":\"circle\"},\"mode\":\"markers\",\"name\":\"Negative regulation of protein kinase activity\",\"orientation\":\"v\",\"showlegend\":true,\"x\":[0.0015106654369240343],\"xaxis\":\"x\",\"y\":[3.1657396184435553],\"yaxis\":\"y\",\"type\":\"scatter\"},{\"hovertemplate\":\"go_term=Negative regulation of kinase activity<br>fdr_bh=%{x}<br>odds=%{marker.size}<extra></extra>\",\"legendgroup\":\"Negative regulation of kinase activity\",\"marker\":{\"color\":\"#FFA15A\",\"size\":[2.919998773457623],\"sizemode\":\"area\",\"sizeref\":0.04711196203214325,\"symbol\":\"circle\"},\"mode\":\"markers\",\"name\":\"Negative regulation of kinase activity\",\"orientation\":\"v\",\"showlegend\":true,\"x\":[0.0026865231271385563],\"xaxis\":\"x\",\"y\":[2.919998773457623],\"yaxis\":\"y\",\"type\":\"scatter\"},{\"hovertemplate\":\"go_term=Negative regulation of phosphorylation<br>fdr_bh=%{x}<br>odds=%{marker.size}<extra></extra>\",\"legendgroup\":\"Negative regulation of phosphorylation\",\"marker\":{\"color\":\"#19d3f3\",\"size\":[2.7661099137931036],\"sizemode\":\"area\",\"sizeref\":0.04711196203214325,\"symbol\":\"circle\"},\"mode\":\"markers\",\"name\":\"Negative regulation of phosphorylation\",\"orientation\":\"v\",\"showlegend\":true,\"x\":[0.0003384265492817074],\"xaxis\":\"x\",\"y\":[2.7661099137931036],\"yaxis\":\"y\",\"type\":\"scatter\"},{\"hovertemplate\":\"go_term=Negative regulation of transferase activity<br>fdr_bh=%{x}<br>odds=%{marker.size}<extra></extra>\",\"legendgroup\":\"Negative regulation of transferase activity\",\"marker\":{\"color\":\"#FF6692\",\"size\":[2.517520965540997],\"sizemode\":\"area\",\"sizeref\":0.04711196203214325,\"symbol\":\"circle\"},\"mode\":\"markers\",\"name\":\"Negative regulation of transferase activity\",\"orientation\":\"v\",\"showlegend\":true,\"x\":[0.007319399601528992],\"xaxis\":\"x\",\"y\":[2.517520965540997],\"yaxis\":\"y\",\"type\":\"scatter\"},{\"hovertemplate\":\"go_term=Angiogenesis<br>fdr_bh=%{x}<br>odds=%{marker.size}<extra></extra>\",\"legendgroup\":\"Angiogenesis\",\"marker\":{\"color\":\"#B6E880\",\"size\":[3.578439760441783],\"sizemode\":\"area\",\"sizeref\":0.04711196203214325,\"symbol\":\"circle\"},\"mode\":\"markers\",\"name\":\"Angiogenesis\",\"orientation\":\"v\",\"showlegend\":true,\"x\":[5.51702079176544e-05],\"xaxis\":\"x\",\"y\":[3.578439760441783],\"yaxis\":\"y\",\"type\":\"scatter\"},{\"hovertemplate\":\"go_term=Viral life cycle<br>fdr_bh=%{x}<br>odds=%{marker.size}<extra></extra>\",\"legendgroup\":\"Viral life cycle\",\"marker\":{\"color\":\"#FF97FF\",\"size\":[4.1872237846524705],\"sizemode\":\"area\",\"sizeref\":0.04711196203214325,\"symbol\":\"circle\"},\"mode\":\"markers\",\"name\":\"Viral life cycle\",\"orientation\":\"v\",\"showlegend\":true,\"x\":[0.00011319182616976893],\"xaxis\":\"x\",\"y\":[4.1872237846524705],\"yaxis\":\"y\",\"type\":\"scatter\"},{\"hovertemplate\":\"go_term=Entry into host<br>fdr_bh=%{x}<br>odds=%{marker.size}<extra></extra>\",\"legendgroup\":\"Entry into host\",\"marker\":{\"color\":\"#FECB52\",\"size\":[7.942221854852042],\"sizemode\":\"area\",\"sizeref\":0.04711196203214325,\"symbol\":\"circle\"},\"mode\":\"markers\",\"name\":\"Entry into host\",\"orientation\":\"v\",\"showlegend\":true,\"x\":[1.502997274134833e-06],\"xaxis\":\"x\",\"y\":[7.942221854852042],\"yaxis\":\"y\",\"type\":\"scatter\"},{\"hovertemplate\":\"go_term=Interaction with host<br>fdr_bh=%{x}<br>odds=%{marker.size}<extra></extra>\",\"legendgroup\":\"Interaction with host\",\"marker\":{\"color\":\"#636efa\",\"size\":[5.425455678454588],\"sizemode\":\"area\",\"sizeref\":0.04711196203214325,\"symbol\":\"circle\"},\"mode\":\"markers\",\"name\":\"Interaction with host\",\"orientation\":\"v\",\"showlegend\":true,\"x\":[1.3262478793525158e-05],\"xaxis\":\"x\",\"y\":[5.425455678454588],\"yaxis\":\"y\",\"type\":\"scatter\"},{\"hovertemplate\":\"go_term=Movement in host environment<br>fdr_bh=%{x}<br>odds=%{marker.size}<extra></extra>\",\"legendgroup\":\"Movement in host environment\",\"marker\":{\"color\":\"#EF553B\",\"size\":[8.33206106870229],\"sizemode\":\"area\",\"sizeref\":0.04711196203214325,\"symbol\":\"circle\"},\"mode\":\"markers\",\"name\":\"Movement in host environment\",\"orientation\":\"v\",\"showlegend\":true,\"x\":[3.7230039250140884e-07],\"xaxis\":\"x\",\"y\":[8.33206106870229],\"yaxis\":\"y\",\"type\":\"scatter\"},{\"hovertemplate\":\"go_term=Regulation of metal ion transport<br>fdr_bh=%{x}<br>odds=%{marker.size}<extra></extra>\",\"legendgroup\":\"Regulation of metal ion transport\",\"marker\":{\"color\":\"#00cc96\",\"size\":[2.645917193789534],\"sizemode\":\"area\",\"sizeref\":0.04711196203214325,\"symbol\":\"circle\"},\"mode\":\"markers\",\"name\":\"Regulation of metal ion transport\",\"orientation\":\"v\",\"showlegend\":true,\"x\":[0.0013477890811138635],\"xaxis\":\"x\",\"y\":[2.645917193789534],\"yaxis\":\"y\",\"type\":\"scatter\"},{\"hovertemplate\":\"go_term=Regulation of transmembrane transporter activity<br>fdr_bh=%{x}<br>odds=%{marker.size}<extra></extra>\",\"legendgroup\":\"Regulation of transmembrane transporter activity\",\"marker\":{\"color\":\"#ab63fa\",\"size\":[3.6533031674208143],\"sizemode\":\"area\",\"sizeref\":0.04711196203214325,\"symbol\":\"circle\"},\"mode\":\"markers\",\"name\":\"Regulation of transmembrane transporter activity\",\"orientation\":\"v\",\"showlegend\":true,\"x\":[0.00011989167132763207],\"xaxis\":\"x\",\"y\":[3.6533031674208143],\"yaxis\":\"y\",\"type\":\"scatter\"},{\"hovertemplate\":\"go_term=Regulation of transporter activity<br>fdr_bh=%{x}<br>odds=%{marker.size}<extra></extra>\",\"legendgroup\":\"Regulation of transporter activity\",\"marker\":{\"color\":\"#FFA15A\",\"size\":[4.045517039637268],\"sizemode\":\"area\",\"sizeref\":0.04711196203214325,\"symbol\":\"circle\"},\"mode\":\"markers\",\"name\":\"Regulation of transporter activity\",\"orientation\":\"v\",\"showlegend\":true,\"x\":[1.5400594493879338e-05],\"xaxis\":\"x\",\"y\":[4.045517039637268],\"yaxis\":\"y\",\"type\":\"scatter\"},{\"hovertemplate\":\"go_term=Regulation of ion transmembrane transporter activity<br>fdr_bh=%{x}<br>odds=%{marker.size}<extra></extra>\",\"legendgroup\":\"Regulation of ion transmembrane transporter activity\",\"marker\":{\"color\":\"#19d3f3\",\"size\":[3.7889305816135086],\"sizemode\":\"area\",\"sizeref\":0.04711196203214325,\"symbol\":\"circle\"},\"mode\":\"markers\",\"name\":\"Regulation of ion transmembrane transporter activity\",\"orientation\":\"v\",\"showlegend\":true,\"x\":[8.866441605625897e-05],\"xaxis\":\"x\",\"y\":[3.7889305816135086],\"yaxis\":\"y\",\"type\":\"scatter\"},{\"hovertemplate\":\"go_term=Positive regulation of gtpase activity<br>fdr_bh=%{x}<br>odds=%{marker.size}<extra></extra>\",\"legendgroup\":\"Positive regulation of gtpase activity\",\"marker\":{\"color\":\"#FF6692\",\"size\":[4.203856992763229],\"sizemode\":\"area\",\"sizeref\":0.04711196203214325,\"symbol\":\"circle\"},\"mode\":\"markers\",\"name\":\"Positive regulation of gtpase activity\",\"orientation\":\"v\",\"showlegend\":true,\"x\":[8.165918512763714e-08],\"xaxis\":\"x\",\"y\":[4.203856992763229],\"yaxis\":\"y\",\"type\":\"scatter\"},{\"hovertemplate\":\"go_term=Regulation of calcium ion transport<br>fdr_bh=%{x}<br>odds=%{marker.size}<extra></extra>\",\"legendgroup\":\"Regulation of calcium ion transport\",\"marker\":{\"color\":\"#B6E880\",\"size\":[3.5491067909118144],\"sizemode\":\"area\",\"sizeref\":0.04711196203214325,\"symbol\":\"circle\"},\"mode\":\"markers\",\"name\":\"Regulation of calcium ion transport\",\"orientation\":\"v\",\"showlegend\":true,\"x\":[0.0002520690754334243],\"xaxis\":\"x\",\"y\":[3.5491067909118144],\"yaxis\":\"y\",\"type\":\"scatter\"},{\"hovertemplate\":\"go_term=Regulation of calcium ion transmembrane transport<br>fdr_bh=%{x}<br>odds=%{marker.size}<extra></extra>\",\"legendgroup\":\"Regulation of calcium ion transmembrane transport\",\"marker\":{\"color\":\"#FF97FF\",\"size\":[5.094764551038315],\"sizemode\":\"area\",\"sizeref\":0.04711196203214325,\"symbol\":\"circle\"},\"mode\":\"markers\",\"name\":\"Regulation of calcium ion transmembrane transport\",\"orientation\":\"v\",\"showlegend\":true,\"x\":[4.785745176556898e-05],\"xaxis\":\"x\",\"y\":[5.094764551038315],\"yaxis\":\"y\",\"type\":\"scatter\"},{\"hovertemplate\":\"go_term=Regulation of cation transmembrane transport<br>fdr_bh=%{x}<br>odds=%{marker.size}<extra></extra>\",\"legendgroup\":\"Regulation of cation transmembrane transport\",\"marker\":{\"color\":\"#FECB52\",\"size\":[3.328938153541501],\"sizemode\":\"area\",\"sizeref\":0.04711196203214325,\"symbol\":\"circle\"},\"mode\":\"markers\",\"name\":\"Regulation of cation transmembrane transport\",\"orientation\":\"v\",\"showlegend\":true,\"x\":[0.00011319182616976893],\"xaxis\":\"x\",\"y\":[3.328938153541501],\"yaxis\":\"y\",\"type\":\"scatter\"},{\"hovertemplate\":\"go_term=Regulation of cation channel activity<br>fdr_bh=%{x}<br>odds=%{marker.size}<extra></extra>\",\"legendgroup\":\"Regulation of cation channel activity\",\"marker\":{\"color\":\"#636efa\",\"size\":[4.3830683952540195],\"sizemode\":\"area\",\"sizeref\":0.04711196203214325,\"symbol\":\"circle\"},\"mode\":\"markers\",\"name\":\"Regulation of cation channel activity\",\"orientation\":\"v\",\"showlegend\":true,\"x\":[0.00014468097474060486],\"xaxis\":\"x\",\"y\":[4.3830683952540195],\"yaxis\":\"y\",\"type\":\"scatter\"},{\"hovertemplate\":\"go_term=Regulation of actin filament organization<br>fdr_bh=%{x}<br>odds=%{marker.size}<extra></extra>\",\"legendgroup\":\"Regulation of actin filament organization\",\"marker\":{\"color\":\"#EF553B\",\"size\":[4.298118837950908],\"sizemode\":\"area\",\"sizeref\":0.04711196203214325,\"symbol\":\"circle\"},\"mode\":\"markers\",\"name\":\"Regulation of actin filament organization\",\"orientation\":\"v\",\"showlegend\":true,\"x\":[4.767682807757738e-06],\"xaxis\":\"x\",\"y\":[4.298118837950908],\"yaxis\":\"y\",\"type\":\"scatter\"},{\"hovertemplate\":\"go_term=Regulation of supramolecular fiber organization<br>fdr_bh=%{x}<br>odds=%{marker.size}<extra></extra>\",\"legendgroup\":\"Regulation of supramolecular fiber organization\",\"marker\":{\"color\":\"#00cc96\",\"size\":[3.779967448203053],\"sizemode\":\"area\",\"sizeref\":0.04711196203214325,\"symbol\":\"circle\"},\"mode\":\"markers\",\"name\":\"Regulation of supramolecular fiber organization\",\"orientation\":\"v\",\"showlegend\":true,\"x\":[4.3979466861879685e-06],\"xaxis\":\"x\",\"y\":[3.779967448203053],\"yaxis\":\"y\",\"type\":\"scatter\"},{\"hovertemplate\":\"go_term=Muscle system process<br>fdr_bh=%{x}<br>odds=%{marker.size}<extra></extra>\",\"legendgroup\":\"Muscle system process\",\"marker\":{\"color\":\"#ab63fa\",\"size\":[2.756549724712078],\"sizemode\":\"area\",\"sizeref\":0.04711196203214325,\"symbol\":\"circle\"},\"mode\":\"markers\",\"name\":\"Muscle system process\",\"orientation\":\"v\",\"showlegend\":true,\"x\":[0.002752576717466009],\"xaxis\":\"x\",\"y\":[2.756549724712078],\"yaxis\":\"y\",\"type\":\"scatter\"},{\"hovertemplate\":\"go_term=Wnt signaling pathway<br>fdr_bh=%{x}<br>odds=%{marker.size}<extra></extra>\",\"legendgroup\":\"Wnt signaling pathway\",\"marker\":{\"color\":\"#FFA15A\",\"size\":[2.9678019856591287],\"sizemode\":\"area\",\"sizeref\":0.04711196203214325,\"symbol\":\"circle\"},\"mode\":\"markers\",\"name\":\"Wnt signaling pathway\",\"orientation\":\"v\",\"showlegend\":true,\"x\":[0.0004861204125134621],\"xaxis\":\"x\",\"y\":[2.9678019856591287],\"yaxis\":\"y\",\"type\":\"scatter\"},{\"hovertemplate\":\"go_term=Cell-cell signaling by wnt<br>fdr_bh=%{x}<br>odds=%{marker.size}<extra></extra>\",\"legendgroup\":\"Cell-cell signaling by wnt\",\"marker\":{\"color\":\"#19d3f3\",\"size\":[2.9678019856591287],\"sizemode\":\"area\",\"sizeref\":0.04711196203214325,\"symbol\":\"circle\"},\"mode\":\"markers\",\"name\":\"Cell-cell signaling by wnt\",\"orientation\":\"v\",\"showlegend\":true,\"x\":[0.0004861204125134621],\"xaxis\":\"x\",\"y\":[2.9678019856591287],\"yaxis\":\"y\",\"type\":\"scatter\"},{\"hovertemplate\":\"go_term=Cell surface receptor signaling pathway involved in cell-cell signaling<br>fdr_bh=%{x}<br>odds=%{marker.size}<extra></extra>\",\"legendgroup\":\"Cell surface receptor signaling pathway involved in cell-cell signaling\",\"marker\":{\"color\":\"#FF6692\",\"size\":[2.7148878386004514],\"sizemode\":\"area\",\"sizeref\":0.04711196203214325,\"symbol\":\"circle\"},\"mode\":\"markers\",\"name\":\"Cell surface receptor signaling pathway involved in cell-cell signaling\",\"orientation\":\"v\",\"showlegend\":true,\"x\":[0.00040582174857767484],\"xaxis\":\"x\",\"y\":[2.7148878386004514],\"yaxis\":\"y\",\"type\":\"scatter\"},{\"hovertemplate\":\"go_term=Regulation of cell shape<br>fdr_bh=%{x}<br>odds=%{marker.size}<extra></extra>\",\"legendgroup\":\"Regulation of cell shape\",\"marker\":{\"color\":\"#B6E880\",\"size\":[6.650572831423895],\"sizemode\":\"area\",\"sizeref\":0.04711196203214325,\"symbol\":\"circle\"},\"mode\":\"markers\",\"name\":\"Regulation of cell shape\",\"orientation\":\"v\",\"showlegend\":true,\"x\":[4.3109846422621e-07],\"xaxis\":\"x\",\"y\":[6.650572831423895],\"yaxis\":\"y\",\"type\":\"scatter\"},{\"hovertemplate\":\"go_term=Regulation of protein kinase b signaling<br>fdr_bh=%{x}<br>odds=%{marker.size}<extra></extra>\",\"legendgroup\":\"Regulation of protein kinase b signaling\",\"marker\":{\"color\":\"#FF97FF\",\"size\":[3.3587874947190537],\"sizemode\":\"area\",\"sizeref\":0.04711196203214325,\"symbol\":\"circle\"},\"mode\":\"markers\",\"name\":\"Regulation of protein kinase b signaling\",\"orientation\":\"v\",\"showlegend\":true,\"x\":[0.0009868765606994088],\"xaxis\":\"x\",\"y\":[3.3587874947190537],\"yaxis\":\"y\",\"type\":\"scatter\"},{\"hovertemplate\":\"go_term=Protein autophosphorylation<br>fdr_bh=%{x}<br>odds=%{marker.size}<extra></extra>\",\"legendgroup\":\"Protein autophosphorylation\",\"marker\":{\"color\":\"#FECB52\",\"size\":[5.2272883541039965],\"sizemode\":\"area\",\"sizeref\":0.04711196203214325,\"symbol\":\"circle\"},\"mode\":\"markers\",\"name\":\"Protein autophosphorylation\",\"orientation\":\"v\",\"showlegend\":true,\"x\":[4.456035897576498e-06],\"xaxis\":\"x\",\"y\":[5.2272883541039965],\"yaxis\":\"y\",\"type\":\"scatter\"},{\"hovertemplate\":\"go_term=Heart morphogenesis<br>fdr_bh=%{x}<br>odds=%{marker.size}<extra></extra>\",\"legendgroup\":\"Heart morphogenesis\",\"marker\":{\"color\":\"#636efa\",\"size\":[3.624714253517499],\"sizemode\":\"area\",\"sizeref\":0.04711196203214325,\"symbol\":\"circle\"},\"mode\":\"markers\",\"name\":\"Heart morphogenesis\",\"orientation\":\"v\",\"showlegend\":true,\"x\":[0.00020961779780775413],\"xaxis\":\"x\",\"y\":[3.624714253517499],\"yaxis\":\"y\",\"type\":\"scatter\"},{\"hovertemplate\":\"go_term=Response to peptide hormone<br>fdr_bh=%{x}<br>odds=%{marker.size}<extra></extra>\",\"legendgroup\":\"Response to peptide hormone\",\"marker\":{\"color\":\"#EF553B\",\"size\":[4.017979488488872],\"sizemode\":\"area\",\"sizeref\":0.04711196203214325,\"symbol\":\"circle\"},\"mode\":\"markers\",\"name\":\"Response to peptide hormone\",\"orientation\":\"v\",\"showlegend\":true,\"x\":[7.285990313590635e-07],\"xaxis\":\"x\",\"y\":[4.017979488488872],\"yaxis\":\"y\",\"type\":\"scatter\"},{\"hovertemplate\":\"go_term=Regulation of angiogenesis<br>fdr_bh=%{x}<br>odds=%{marker.size}<extra></extra>\",\"legendgroup\":\"Regulation of angiogenesis\",\"marker\":{\"color\":\"#00cc96\",\"size\":[3.205888594164456],\"sizemode\":\"area\",\"sizeref\":0.04711196203214325,\"symbol\":\"circle\"},\"mode\":\"markers\",\"name\":\"Regulation of angiogenesis\",\"orientation\":\"v\",\"showlegend\":true,\"x\":[0.00038016371890705085],\"xaxis\":\"x\",\"y\":[3.205888594164456],\"yaxis\":\"y\",\"type\":\"scatter\"},{\"hovertemplate\":\"go_term=Positive regulation of angiogenesis<br>fdr_bh=%{x}<br>odds=%{marker.size}<extra></extra>\",\"legendgroup\":\"Positive regulation of angiogenesis\",\"marker\":{\"color\":\"#ab63fa\",\"size\":[4.607113635269769],\"sizemode\":\"area\",\"sizeref\":0.04711196203214325,\"symbol\":\"circle\"},\"mode\":\"markers\",\"name\":\"Positive regulation of angiogenesis\",\"orientation\":\"v\",\"showlegend\":true,\"x\":[0.0001027159073608842],\"xaxis\":\"x\",\"y\":[4.607113635269769],\"yaxis\":\"y\",\"type\":\"scatter\"},{\"hovertemplate\":\"go_term=Regulation of epithelial cell proliferation<br>fdr_bh=%{x}<br>odds=%{marker.size}<extra></extra>\",\"legendgroup\":\"Regulation of epithelial cell proliferation\",\"marker\":{\"color\":\"#FFA15A\",\"size\":[2.4062558182833738],\"sizemode\":\"area\",\"sizeref\":0.04711196203214325,\"symbol\":\"circle\"},\"mode\":\"markers\",\"name\":\"Regulation of epithelial cell proliferation\",\"orientation\":\"v\",\"showlegend\":true,\"x\":[0.007319399601528992],\"xaxis\":\"x\",\"y\":[2.4062558182833738],\"yaxis\":\"y\",\"type\":\"scatter\"},{\"hovertemplate\":\"go_term=Cellular response to peptide hormone stimulus<br>fdr_bh=%{x}<br>odds=%{marker.size}<extra></extra>\",\"legendgroup\":\"Cellular response to peptide hormone stimulus\",\"marker\":{\"color\":\"#19d3f3\",\"size\":[4.522369695944387],\"sizemode\":\"area\",\"sizeref\":0.04711196203214325,\"symbol\":\"circle\"},\"mode\":\"markers\",\"name\":\"Cellular response to peptide hormone stimulus\",\"orientation\":\"v\",\"showlegend\":true,\"x\":[2.7954793093128978e-06],\"xaxis\":\"x\",\"y\":[4.522369695944387],\"yaxis\":\"y\",\"type\":\"scatter\"},{\"hovertemplate\":\"go_term=Regulation of vasculature development<br>fdr_bh=%{x}<br>odds=%{marker.size}<extra></extra>\",\"legendgroup\":\"Regulation of vasculature development\",\"marker\":{\"color\":\"#FF6692\",\"size\":[3.099354900597137],\"sizemode\":\"area\",\"sizeref\":0.04711196203214325,\"symbol\":\"circle\"},\"mode\":\"markers\",\"name\":\"Regulation of vasculature development\",\"orientation\":\"v\",\"showlegend\":true,\"x\":[0.0003384265492817074],\"xaxis\":\"x\",\"y\":[3.099354900597137],\"yaxis\":\"y\",\"type\":\"scatter\"},{\"hovertemplate\":\"go_term=Positive regulation of vasculature development<br>fdr_bh=%{x}<br>odds=%{marker.size}<extra></extra>\",\"legendgroup\":\"Positive regulation of vasculature development\",\"marker\":{\"color\":\"#B6E880\",\"size\":[4.498123948764394],\"sizemode\":\"area\",\"sizeref\":0.04711196203214325,\"symbol\":\"circle\"},\"mode\":\"markers\",\"name\":\"Positive regulation of vasculature development\",\"orientation\":\"v\",\"showlegend\":true,\"x\":[6.333645512726951e-05],\"xaxis\":\"x\",\"y\":[4.498123948764394],\"yaxis\":\"y\",\"type\":\"scatter\"},{\"hovertemplate\":\"go_term=Regulation of reactive oxygen species metabolic process<br>fdr_bh=%{x}<br>odds=%{marker.size}<extra></extra>\",\"legendgroup\":\"Regulation of reactive oxygen species metabolic process\",\"marker\":{\"color\":\"#FF97FF\",\"size\":[4.523941707147814],\"sizemode\":\"area\",\"sizeref\":0.04711196203214325,\"symbol\":\"circle\"},\"mode\":\"markers\",\"name\":\"Regulation of reactive oxygen species metabolic process\",\"orientation\":\"v\",\"showlegend\":true,\"x\":[6.086671554550615e-05],\"xaxis\":\"x\",\"y\":[4.523941707147814],\"yaxis\":\"y\",\"type\":\"scatter\"},{\"hovertemplate\":\"go_term=Response to insulin<br>fdr_bh=%{x}<br>odds=%{marker.size}<extra></extra>\",\"legendgroup\":\"Response to insulin\",\"marker\":{\"color\":\"#FECB52\",\"size\":[3.28185055829878],\"sizemode\":\"area\",\"sizeref\":0.04711196203214325,\"symbol\":\"circle\"},\"mode\":\"markers\",\"name\":\"Response to insulin\",\"orientation\":\"v\",\"showlegend\":true,\"x\":[0.0011739696262945123],\"xaxis\":\"x\",\"y\":[3.28185055829878],\"yaxis\":\"y\",\"type\":\"scatter\"},{\"hovertemplate\":\"go_term=Cellular response to insulin stimulus<br>fdr_bh=%{x}<br>odds=%{marker.size}<extra></extra>\",\"legendgroup\":\"Cellular response to insulin stimulus\",\"marker\":{\"color\":\"#636efa\",\"size\":[4.577875026902934],\"sizemode\":\"area\",\"sizeref\":0.04711196203214325,\"symbol\":\"circle\"},\"mode\":\"markers\",\"name\":\"Cellular response to insulin stimulus\",\"orientation\":\"v\",\"showlegend\":true,\"x\":[0.00010709121403669208],\"xaxis\":\"x\",\"y\":[4.577875026902934],\"yaxis\":\"y\",\"type\":\"scatter\"},{\"hovertemplate\":\"go_term=Regulation of dendrite development<br>fdr_bh=%{x}<br>odds=%{marker.size}<extra></extra>\",\"legendgroup\":\"Regulation of dendrite development\",\"marker\":{\"color\":\"#EF553B\",\"size\":[5.023915038678379],\"sizemode\":\"area\",\"sizeref\":0.04711196203214325,\"symbol\":\"circle\"},\"mode\":\"markers\",\"name\":\"Regulation of dendrite development\",\"orientation\":\"v\",\"showlegend\":true,\"x\":[5.274326927702644e-05],\"xaxis\":\"x\",\"y\":[5.023915038678379],\"yaxis\":\"y\",\"type\":\"scatter\"},{\"hovertemplate\":\"go_term=Multicellular organismal signaling<br>fdr_bh=%{x}<br>odds=%{marker.size}<extra></extra>\",\"legendgroup\":\"Multicellular organismal signaling\",\"marker\":{\"color\":\"#00cc96\",\"size\":[5.7418939552708],\"sizemode\":\"area\",\"sizeref\":0.04711196203214325,\"symbol\":\"circle\"},\"mode\":\"markers\",\"name\":\"Multicellular organismal signaling\",\"orientation\":\"v\",\"showlegend\":true,\"x\":[1.8498861211698026e-05],\"xaxis\":\"x\",\"y\":[5.7418939552708],\"yaxis\":\"y\",\"type\":\"scatter\"}],                        {\"template\":{\"data\":{\"histogram2dcontour\":[{\"type\":\"histogram2dcontour\",\"colorbar\":{\"outlinewidth\":0,\"ticks\":\"\"},\"colorscale\":[[0.0,\"#0d0887\"],[0.1111111111111111,\"#46039f\"],[0.2222222222222222,\"#7201a8\"],[0.3333333333333333,\"#9c179e\"],[0.4444444444444444,\"#bd3786\"],[0.5555555555555556,\"#d8576b\"],[0.6666666666666666,\"#ed7953\"],[0.7777777777777778,\"#fb9f3a\"],[0.8888888888888888,\"#fdca26\"],[1.0,\"#f0f921\"]]}],\"choropleth\":[{\"type\":\"choropleth\",\"colorbar\":{\"outlinewidth\":0,\"ticks\":\"\"}}],\"histogram2d\":[{\"type\":\"histogram2d\",\"colorbar\":{\"outlinewidth\":0,\"ticks\":\"\"},\"colorscale\":[[0.0,\"#0d0887\"],[0.1111111111111111,\"#46039f\"],[0.2222222222222222,\"#7201a8\"],[0.3333333333333333,\"#9c179e\"],[0.4444444444444444,\"#bd3786\"],[0.5555555555555556,\"#d8576b\"],[0.6666666666666666,\"#ed7953\"],[0.7777777777777778,\"#fb9f3a\"],[0.8888888888888888,\"#fdca26\"],[1.0,\"#f0f921\"]]}],\"heatmap\":[{\"type\":\"heatmap\",\"colorbar\":{\"outlinewidth\":0,\"ticks\":\"\"},\"colorscale\":[[0.0,\"#0d0887\"],[0.1111111111111111,\"#46039f\"],[0.2222222222222222,\"#7201a8\"],[0.3333333333333333,\"#9c179e\"],[0.4444444444444444,\"#bd3786\"],[0.5555555555555556,\"#d8576b\"],[0.6666666666666666,\"#ed7953\"],[0.7777777777777778,\"#fb9f3a\"],[0.8888888888888888,\"#fdca26\"],[1.0,\"#f0f921\"]]}],\"heatmapgl\":[{\"type\":\"heatmapgl\",\"colorbar\":{\"outlinewidth\":0,\"ticks\":\"\"},\"colorscale\":[[0.0,\"#0d0887\"],[0.1111111111111111,\"#46039f\"],[0.2222222222222222,\"#7201a8\"],[0.3333333333333333,\"#9c179e\"],[0.4444444444444444,\"#bd3786\"],[0.5555555555555556,\"#d8576b\"],[0.6666666666666666,\"#ed7953\"],[0.7777777777777778,\"#fb9f3a\"],[0.8888888888888888,\"#fdca26\"],[1.0,\"#f0f921\"]]}],\"contourcarpet\":[{\"type\":\"contourcarpet\",\"colorbar\":{\"outlinewidth\":0,\"ticks\":\"\"}}],\"contour\":[{\"type\":\"contour\",\"colorbar\":{\"outlinewidth\":0,\"ticks\":\"\"},\"colorscale\":[[0.0,\"#0d0887\"],[0.1111111111111111,\"#46039f\"],[0.2222222222222222,\"#7201a8\"],[0.3333333333333333,\"#9c179e\"],[0.4444444444444444,\"#bd3786\"],[0.5555555555555556,\"#d8576b\"],[0.6666666666666666,\"#ed7953\"],[0.7777777777777778,\"#fb9f3a\"],[0.8888888888888888,\"#fdca26\"],[1.0,\"#f0f921\"]]}],\"surface\":[{\"type\":\"surface\",\"colorbar\":{\"outlinewidth\":0,\"ticks\":\"\"},\"colorscale\":[[0.0,\"#0d0887\"],[0.1111111111111111,\"#46039f\"],[0.2222222222222222,\"#7201a8\"],[0.3333333333333333,\"#9c179e\"],[0.4444444444444444,\"#bd3786\"],[0.5555555555555556,\"#d8576b\"],[0.6666666666666666,\"#ed7953\"],[0.7777777777777778,\"#fb9f3a\"],[0.8888888888888888,\"#fdca26\"],[1.0,\"#f0f921\"]]}],\"mesh3d\":[{\"type\":\"mesh3d\",\"colorbar\":{\"outlinewidth\":0,\"ticks\":\"\"}}],\"scatter\":[{\"fillpattern\":{\"fillmode\":\"overlay\",\"size\":10,\"solidity\":0.2},\"type\":\"scatter\"}],\"parcoords\":[{\"type\":\"parcoords\",\"line\":{\"colorbar\":{\"outlinewidth\":0,\"ticks\":\"\"}}}],\"scatterpolargl\":[{\"type\":\"scatterpolargl\",\"marker\":{\"colorbar\":{\"outlinewidth\":0,\"ticks\":\"\"}}}],\"bar\":[{\"error_x\":{\"color\":\"#2a3f5f\"},\"error_y\":{\"color\":\"#2a3f5f\"},\"marker\":{\"line\":{\"color\":\"#E5ECF6\",\"width\":0.5},\"pattern\":{\"fillmode\":\"overlay\",\"size\":10,\"solidity\":0.2}},\"type\":\"bar\"}],\"scattergeo\":[{\"type\":\"scattergeo\",\"marker\":{\"colorbar\":{\"outlinewidth\":0,\"ticks\":\"\"}}}],\"scatterpolar\":[{\"type\":\"scatterpolar\",\"marker\":{\"colorbar\":{\"outlinewidth\":0,\"ticks\":\"\"}}}],\"histogram\":[{\"marker\":{\"pattern\":{\"fillmode\":\"overlay\",\"size\":10,\"solidity\":0.2}},\"type\":\"histogram\"}],\"scattergl\":[{\"type\":\"scattergl\",\"marker\":{\"colorbar\":{\"outlinewidth\":0,\"ticks\":\"\"}}}],\"scatter3d\":[{\"type\":\"scatter3d\",\"line\":{\"colorbar\":{\"outlinewidth\":0,\"ticks\":\"\"}},\"marker\":{\"colorbar\":{\"outlinewidth\":0,\"ticks\":\"\"}}}],\"scattermapbox\":[{\"type\":\"scattermapbox\",\"marker\":{\"colorbar\":{\"outlinewidth\":0,\"ticks\":\"\"}}}],\"scatterternary\":[{\"type\":\"scatterternary\",\"marker\":{\"colorbar\":{\"outlinewidth\":0,\"ticks\":\"\"}}}],\"scattercarpet\":[{\"type\":\"scattercarpet\",\"marker\":{\"colorbar\":{\"outlinewidth\":0,\"ticks\":\"\"}}}],\"carpet\":[{\"aaxis\":{\"endlinecolor\":\"#2a3f5f\",\"gridcolor\":\"white\",\"linecolor\":\"white\",\"minorgridcolor\":\"white\",\"startlinecolor\":\"#2a3f5f\"},\"baxis\":{\"endlinecolor\":\"#2a3f5f\",\"gridcolor\":\"white\",\"linecolor\":\"white\",\"minorgridcolor\":\"white\",\"startlinecolor\":\"#2a3f5f\"},\"type\":\"carpet\"}],\"table\":[{\"cells\":{\"fill\":{\"color\":\"#EBF0F8\"},\"line\":{\"color\":\"white\"}},\"header\":{\"fill\":{\"color\":\"#C8D4E3\"},\"line\":{\"color\":\"white\"}},\"type\":\"table\"}],\"barpolar\":[{\"marker\":{\"line\":{\"color\":\"#E5ECF6\",\"width\":0.5},\"pattern\":{\"fillmode\":\"overlay\",\"size\":10,\"solidity\":0.2}},\"type\":\"barpolar\"}],\"pie\":[{\"automargin\":true,\"type\":\"pie\"}]},\"layout\":{\"autotypenumbers\":\"strict\",\"colorway\":[\"#636efa\",\"#EF553B\",\"#00cc96\",\"#ab63fa\",\"#FFA15A\",\"#19d3f3\",\"#FF6692\",\"#B6E880\",\"#FF97FF\",\"#FECB52\"],\"font\":{\"color\":\"#2a3f5f\"},\"hovermode\":\"closest\",\"hoverlabel\":{\"align\":\"left\"},\"paper_bgcolor\":\"white\",\"plot_bgcolor\":\"#E5ECF6\",\"polar\":{\"bgcolor\":\"#E5ECF6\",\"angularaxis\":{\"gridcolor\":\"white\",\"linecolor\":\"white\",\"ticks\":\"\"},\"radialaxis\":{\"gridcolor\":\"white\",\"linecolor\":\"white\",\"ticks\":\"\"}},\"ternary\":{\"bgcolor\":\"#E5ECF6\",\"aaxis\":{\"gridcolor\":\"white\",\"linecolor\":\"white\",\"ticks\":\"\"},\"baxis\":{\"gridcolor\":\"white\",\"linecolor\":\"white\",\"ticks\":\"\"},\"caxis\":{\"gridcolor\":\"white\",\"linecolor\":\"white\",\"ticks\":\"\"}},\"coloraxis\":{\"colorbar\":{\"outlinewidth\":0,\"ticks\":\"\"}},\"colorscale\":{\"sequential\":[[0.0,\"#0d0887\"],[0.1111111111111111,\"#46039f\"],[0.2222222222222222,\"#7201a8\"],[0.3333333333333333,\"#9c179e\"],[0.4444444444444444,\"#bd3786\"],[0.5555555555555556,\"#d8576b\"],[0.6666666666666666,\"#ed7953\"],[0.7777777777777778,\"#fb9f3a\"],[0.8888888888888888,\"#fdca26\"],[1.0,\"#f0f921\"]],\"sequentialminus\":[[0.0,\"#0d0887\"],[0.1111111111111111,\"#46039f\"],[0.2222222222222222,\"#7201a8\"],[0.3333333333333333,\"#9c179e\"],[0.4444444444444444,\"#bd3786\"],[0.5555555555555556,\"#d8576b\"],[0.6666666666666666,\"#ed7953\"],[0.7777777777777778,\"#fb9f3a\"],[0.8888888888888888,\"#fdca26\"],[1.0,\"#f0f921\"]],\"diverging\":[[0,\"#8e0152\"],[0.1,\"#c51b7d\"],[0.2,\"#de77ae\"],[0.3,\"#f1b6da\"],[0.4,\"#fde0ef\"],[0.5,\"#f7f7f7\"],[0.6,\"#e6f5d0\"],[0.7,\"#b8e186\"],[0.8,\"#7fbc41\"],[0.9,\"#4d9221\"],[1,\"#276419\"]]},\"xaxis\":{\"gridcolor\":\"white\",\"linecolor\":\"white\",\"ticks\":\"\",\"title\":{\"standoff\":15},\"zerolinecolor\":\"white\",\"automargin\":true,\"zerolinewidth\":2},\"yaxis\":{\"gridcolor\":\"white\",\"linecolor\":\"white\",\"ticks\":\"\",\"title\":{\"standoff\":15},\"zerolinecolor\":\"white\",\"automargin\":true,\"zerolinewidth\":2},\"scene\":{\"xaxis\":{\"backgroundcolor\":\"#E5ECF6\",\"gridcolor\":\"white\",\"linecolor\":\"white\",\"showbackground\":true,\"ticks\":\"\",\"zerolinecolor\":\"white\",\"gridwidth\":2},\"yaxis\":{\"backgroundcolor\":\"#E5ECF6\",\"gridcolor\":\"white\",\"linecolor\":\"white\",\"showbackground\":true,\"ticks\":\"\",\"zerolinecolor\":\"white\",\"gridwidth\":2},\"zaxis\":{\"backgroundcolor\":\"#E5ECF6\",\"gridcolor\":\"white\",\"linecolor\":\"white\",\"showbackground\":true,\"ticks\":\"\",\"zerolinecolor\":\"white\",\"gridwidth\":2}},\"shapedefaults\":{\"line\":{\"color\":\"#2a3f5f\"}},\"annotationdefaults\":{\"arrowcolor\":\"#2a3f5f\",\"arrowhead\":0,\"arrowwidth\":1},\"geo\":{\"bgcolor\":\"white\",\"landcolor\":\"#E5ECF6\",\"subunitcolor\":\"white\",\"showland\":true,\"showlakes\":true,\"lakecolor\":\"white\"},\"title\":{\"x\":0.05},\"mapbox\":{\"style\":\"light\"}}},\"xaxis\":{\"anchor\":\"y\",\"domain\":[0.0,1.0],\"title\":{\"text\":\"fdr_bh\"}},\"yaxis\":{\"anchor\":\"x\",\"domain\":[0.0,1.0],\"title\":{\"text\":\"odds\"}},\"legend\":{\"title\":{\"text\":\"go_term\"},\"tracegroupgap\":0,\"itemsizing\":\"constant\"},\"margin\":{\"t\":60}},                        {\"responsive\": true}                    ).then(function(){\n",
       "                            \n",
       "var gd = document.getElementById('1b265517-06d8-47b0-b0af-4160dcf7866d');\n",
       "var x = new MutationObserver(function (mutations, observer) {{\n",
       "        var display = window.getComputedStyle(gd).display;\n",
       "        if (!display || display === 'none') {{\n",
       "            console.log([gd, 'removed!']);\n",
       "            Plotly.purge(gd);\n",
       "            observer.disconnect();\n",
       "        }}\n",
       "}});\n",
       "\n",
       "// Listen for the removal of the full notebook cells\n",
       "var notebookContainer = gd.closest('#notebook-container');\n",
       "if (notebookContainer) {{\n",
       "    x.observe(notebookContainer, {childList: true});\n",
       "}}\n",
       "\n",
       "// Listen for the clearing of the current output cell\n",
       "var outputEl = gd.closest('.output');\n",
       "if (outputEl) {{\n",
       "    x.observe(outputEl, {childList: true});\n",
       "}}\n",
       "\n",
       "                        })                };                });            </script>        </div>"
      ]
     },
     "metadata": {},
     "output_type": "display_data"
    }
   ],
   "source": [
    "px.scatter(enrichment[enrichment['fdr_bh']<0.01], x='fdr_bh', y='odds', size='odds', color='go_term')"
   ]
  },
  {
   "cell_type": "code",
   "execution_count": 28,
   "id": "149d2312",
   "metadata": {},
   "outputs": [],
   "source": [
    "fig = px.treemap(enrichment[enrichment['fdr_bh']<0.01], path=['go_term', 'nodes'], values='odds', width=2000, height=1200)"
   ]
  },
  {
   "cell_type": "code",
   "execution_count": 29,
   "id": "c4ec93be",
   "metadata": {},
   "outputs": [
    {
     "data": {
      "application/vnd.plotly.v1+json": {
       "config": {
        "plotlyServerURL": "https://plot.ly"
       },
       "data": [
        {
         "branchvalues": "total",
         "domain": {
          "x": [
           0,
           1
          ],
          "y": [
           0,
           1
          ]
         },
         "hovertemplate": "labels=%{label}<br>odds=%{value}<br>parent=%{parent}<br>id=%{id}<extra></extra>",
         "ids": [
          "Sensory organ morphogenesis/9606.ENSP00000005226,9606.ENSP00000215832,9606.ENSP00000232461,9606.ENSP00000248572,9606.ENSP00000262613,9606.ENSP00000263025,9606.ENSP00000264657,9606.ENSP00000265441,9606.ENSP00000294304,9606.ENSP00000354623,9606.ENSP00000418754",
          "Regulation of cellular component size/9606.ENSP00000005226,9606.ENSP00000229264,9606.ENSP00000243077,9606.ENSP00000244040,9606.ENSP00000262428,9606.ENSP00000262613,9606.ENSP00000273047,9606.ENSP00000278568,9606.ENSP00000292385,9606.ENSP00000306124,9606.ENSP00000357131,9606.ENSP00000360718,9606.ENSP00000361009,9606.ENSP00000376048,9606.ENSP00000376345,9606.ENSP00000378217,9606.ENSP00000380638,9606.ENSP00000385720,9606.ENSP00000417653",
          "Eye development/9606.ENSP00000005226,9606.ENSP00000232461,9606.ENSP00000248572,9606.ENSP00000258173,9606.ENSP00000264657,9606.ENSP00000265441,9606.ENSP00000275493,9606.ENSP00000294304,9606.ENSP00000326366,9606.ENSP00000332973,9606.ENSP00000360266,9606.ENSP00000385720,9606.ENSP00000387784,9606.ENSP00000478479,9606.ENSP00000481878",
          "Sensory system development/9606.ENSP00000005226,9606.ENSP00000232461,9606.ENSP00000248572,9606.ENSP00000258173,9606.ENSP00000264657,9606.ENSP00000265441,9606.ENSP00000275493,9606.ENSP00000294304,9606.ENSP00000326366,9606.ENSP00000332973,9606.ENSP00000360266,9606.ENSP00000385720,9606.ENSP00000387784,9606.ENSP00000478479,9606.ENSP00000481878",
          "Visual system development/9606.ENSP00000005226,9606.ENSP00000232461,9606.ENSP00000248572,9606.ENSP00000258173,9606.ENSP00000264657,9606.ENSP00000265441,9606.ENSP00000275493,9606.ENSP00000294304,9606.ENSP00000326366,9606.ENSP00000332973,9606.ENSP00000360266,9606.ENSP00000385720,9606.ENSP00000387784,9606.ENSP00000478479,9606.ENSP00000481878",
          "Camera-type eye development/9606.ENSP00000005226,9606.ENSP00000232461,9606.ENSP00000258173,9606.ENSP00000265441,9606.ENSP00000275493,9606.ENSP00000294304,9606.ENSP00000326366,9606.ENSP00000332973,9606.ENSP00000360266,9606.ENSP00000385720,9606.ENSP00000387784,9606.ENSP00000481878",
          "Cell junction organization/9606.ENSP00000007722,9606.ENSP00000200181,9606.ENSP00000222256,9606.ENSP00000236877,9606.ENSP00000269571,9606.ENSP00000276297,9606.ENSP00000288221,9606.ENSP00000292385,9606.ENSP00000293379,9606.ENSP00000301050,9606.ENSP00000314067,9606.ENSP00000320025,9606.ENSP00000324532,9606.ENSP00000326366,9606.ENSP00000332973,9606.ENSP00000345752,9606.ENSP00000346300,9606.ENSP00000354623,9606.ENSP00000359085,9606.ENSP00000360293,9606.ENSP00000361467,9606.ENSP00000367888,9606.ENSP00000368678,9606.ENSP00000377840,9606.ENSP00000380638,9606.ENSP00000386896,9606.ENSP00000408695,9606.ENSP00000417653,9606.ENSP00000438949,9606.ENSP00000469689",
          "Cell-substrate adhesion/9606.ENSP00000007722,9606.ENSP00000200181,9606.ENSP00000252999,9606.ENSP00000261023,9606.ENSP00000267082,9606.ENSP00000267257,9606.ENSP00000276297,9606.ENSP00000286827,9606.ENSP00000293379,9606.ENSP00000296181,9606.ENSP00000360293,9606.ENSP00000378332,9606.ENSP00000379350,9606.ENSP00000380638,9606.ENSP00000380948,9606.ENSP00000386896,9606.ENSP00000442600,9606.ENSP00000452120,9606.ENSP00000459615",
          "Extracellular matrix organization/9606.ENSP00000007722,9606.ENSP00000200181,9606.ENSP00000252999,9606.ENSP00000261023,9606.ENSP00000267082,9606.ENSP00000274063,9606.ENSP00000293379,9606.ENSP00000296181,9606.ENSP00000324532,9606.ENSP00000341189,9606.ENSP00000346032,9606.ENSP00000363827,9606.ENSP00000368678,9606.ENSP00000373854,9606.ENSP00000379350,9606.ENSP00000380948,9606.ENSP00000386896,9606.ENSP00000400365,9606.ENSP00000441691,9606.ENSP00000442600,9606.ENSP00000452120",
          "Extracellular structure organization/9606.ENSP00000007722,9606.ENSP00000200181,9606.ENSP00000252999,9606.ENSP00000261023,9606.ENSP00000267082,9606.ENSP00000274063,9606.ENSP00000293379,9606.ENSP00000296181,9606.ENSP00000324532,9606.ENSP00000341189,9606.ENSP00000346032,9606.ENSP00000363827,9606.ENSP00000368678,9606.ENSP00000373854,9606.ENSP00000379350,9606.ENSP00000380948,9606.ENSP00000386896,9606.ENSP00000400365,9606.ENSP00000441691,9606.ENSP00000442600,9606.ENSP00000452120",
          "Integrin-mediated signaling pathway/9606.ENSP00000007722,9606.ENSP00000200181,9606.ENSP00000252999,9606.ENSP00000261023,9606.ENSP00000267082,9606.ENSP00000293379,9606.ENSP00000296181,9606.ENSP00000324532,9606.ENSP00000341189,9606.ENSP00000373854,9606.ENSP00000379350,9606.ENSP00000380638,9606.ENSP00000380948,9606.ENSP00000386896,9606.ENSP00000441691,9606.ENSP00000452120",
          "Gastrulation/9606.ENSP00000007722,9606.ENSP00000200181,9606.ENSP00000253861,9606.ENSP00000261023,9606.ENSP00000293379,9606.ENSP00000294304,9606.ENSP00000296181,9606.ENSP00000324532,9606.ENSP00000332973,9606.ENSP00000377836,9606.ENSP00000379350,9606.ENSP00000380948,9606.ENSP00000452120",
          "Formation of primary germ layer/9606.ENSP00000007722,9606.ENSP00000200181,9606.ENSP00000253861,9606.ENSP00000261023,9606.ENSP00000293379,9606.ENSP00000296181,9606.ENSP00000324532,9606.ENSP00000332973,9606.ENSP00000379350,9606.ENSP00000380948,9606.ENSP00000452120",
          "Cell-matrix adhesion/9606.ENSP00000007722,9606.ENSP00000200181,9606.ENSP00000261023,9606.ENSP00000267082,9606.ENSP00000276297,9606.ENSP00000286827,9606.ENSP00000296181,9606.ENSP00000360293,9606.ENSP00000379350,9606.ENSP00000380638,9606.ENSP00000380948,9606.ENSP00000386896,9606.ENSP00000442600,9606.ENSP00000452120",
          "Leukocyte migration/9606.ENSP00000007722,9606.ENSP00000215754,9606.ENSP00000261023,9606.ENSP00000264039,9606.ENSP00000267082,9606.ENSP00000293379,9606.ENSP00000300574,9606.ENSP00000346300,9606.ENSP00000361009,9606.ENSP00000366109,9606.ENSP00000376048,9606.ENSP00000376345,9606.ENSP00000379350,9606.ENSP00000380948,9606.ENSP00000386896,9606.ENSP00000387784,9606.ENSP00000401303,9606.ENSP00000428056,9606.ENSP00000441691",
          "Respiratory tube development/9606.ENSP00000007722,9606.ENSP00000215832,9606.ENSP00000222256,9606.ENSP00000252999,9606.ENSP00000262395,9606.ENSP00000263025,9606.ENSP00000265441,9606.ENSP00000275493,9606.ENSP00000361467,9606.ENSP00000377836,9606.ENSP00000418754,9606.ENSP00000442600",
          "Lung development/9606.ENSP00000007722,9606.ENSP00000215832,9606.ENSP00000222256,9606.ENSP00000252999,9606.ENSP00000263025,9606.ENSP00000265441,9606.ENSP00000275493,9606.ENSP00000361467,9606.ENSP00000377836,9606.ENSP00000418754,9606.ENSP00000442600",
          "Respiratory system development/9606.ENSP00000007722,9606.ENSP00000215832,9606.ENSP00000222256,9606.ENSP00000252999,9606.ENSP00000263025,9606.ENSP00000265441,9606.ENSP00000275493,9606.ENSP00000361467,9606.ENSP00000377836,9606.ENSP00000418754,9606.ENSP00000442600",
          "Cognition/9606.ENSP00000007722,9606.ENSP00000215832,9606.ENSP00000236877,9606.ENSP00000254976,9606.ENSP00000255224,9606.ENSP00000263431,9606.ENSP00000275493,9606.ENSP00000293379,9606.ENSP00000306490,9606.ENSP00000311032,9606.ENSP00000326366,9606.ENSP00000356832,9606.ENSP00000357307,9606.ENSP00000360266,9606.ENSP00000364586,9606.ENSP00000364995,9606.ENSP00000367686,9606.ENSP00000371532,9606.ENSP00000379350,9606.ENSP00000405963,9606.ENSP00000454071,9606.ENSP00000469689",
          "Learning or memory/9606.ENSP00000007722,9606.ENSP00000215832,9606.ENSP00000236877,9606.ENSP00000254976,9606.ENSP00000255224,9606.ENSP00000263431,9606.ENSP00000275493,9606.ENSP00000293379,9606.ENSP00000311032,9606.ENSP00000326366,9606.ENSP00000356832,9606.ENSP00000357307,9606.ENSP00000360266,9606.ENSP00000364586,9606.ENSP00000364995,9606.ENSP00000367686,9606.ENSP00000371532,9606.ENSP00000379350,9606.ENSP00000405963,9606.ENSP00000454071,9606.ENSP00000469689",
          "Positive regulation of cellular protein localization/9606.ENSP00000007722,9606.ENSP00000215832,9606.ENSP00000243077,9606.ENSP00000260197,9606.ENSP00000269571,9606.ENSP00000275493,9606.ENSP00000278568,9606.ENSP00000301050,9606.ENSP00000306124,9606.ENSP00000306490,9606.ENSP00000326366,9606.ENSP00000332973,9606.ENSP00000343027,9606.ENSP00000357307,9606.ENSP00000360293,9606.ENSP00000367888,9606.ENSP00000378217,9606.ENSP00000379350,9606.ENSP00000380948,9606.ENSP00000394485,9606.ENSP00000428056,9606.ENSP00000441691",
          "Synapse organization/9606.ENSP00000007722,9606.ENSP00000222256,9606.ENSP00000236877,9606.ENSP00000269571,9606.ENSP00000288221,9606.ENSP00000292385,9606.ENSP00000301050,9606.ENSP00000320025,9606.ENSP00000326366,9606.ENSP00000345752,9606.ENSP00000346300,9606.ENSP00000359085,9606.ENSP00000367888,9606.ENSP00000368678,9606.ENSP00000377840,9606.ENSP00000417653,9606.ENSP00000438949,9606.ENSP00000469689",
          "Memory/9606.ENSP00000007722,9606.ENSP00000236877,9606.ENSP00000255224,9606.ENSP00000293379,9606.ENSP00000326366,9606.ENSP00000356832,9606.ENSP00000357307,9606.ENSP00000364586,9606.ENSP00000367686,9606.ENSP00000371532,9606.ENSP00000405963,9606.ENSP00000454071",
          "Positive regulation of neurogenesis/9606.ENSP00000007722,9606.ENSP00000243077,9606.ENSP00000255224,9606.ENSP00000261205,9606.ENSP00000263816,9606.ENSP00000265441,9606.ENSP00000278568,9606.ENSP00000286827,9606.ENSP00000292385,9606.ENSP00000312455,9606.ENSP00000326366,9606.ENSP00000346300,9606.ENSP00000356236,9606.ENSP00000361263,9606.ENSP00000361467,9606.ENSP00000371532,9606.ENSP00000375978,9606.ENSP00000376048,9606.ENSP00000380638,9606.ENSP00000385720,9606.ENSP00000386896,9606.ENSP00000417335,9606.ENSP00000417653,9606.ENSP00000418754,9606.ENSP00000420321,9606.ENSP00000442600,9606.ENSP00000469689",
          "Positive regulation of cell projection organization/9606.ENSP00000007722,9606.ENSP00000243077,9606.ENSP00000255224,9606.ENSP00000261205,9606.ENSP00000271234,9606.ENSP00000278568,9606.ENSP00000286827,9606.ENSP00000292385,9606.ENSP00000312455,9606.ENSP00000312734,9606.ENSP00000326366,9606.ENSP00000356236,9606.ENSP00000361263,9606.ENSP00000361467,9606.ENSP00000368678,9606.ENSP00000371532,9606.ENSP00000380638,9606.ENSP00000385720,9606.ENSP00000386896,9606.ENSP00000417335,9606.ENSP00000417653,9606.ENSP00000418754,9606.ENSP00000420321,9606.ENSP00000469689",
          "Positive regulation of neuron differentiation/9606.ENSP00000007722,9606.ENSP00000243077,9606.ENSP00000255224,9606.ENSP00000261205,9606.ENSP00000278568,9606.ENSP00000286827,9606.ENSP00000292385,9606.ENSP00000312455,9606.ENSP00000326366,9606.ENSP00000356236,9606.ENSP00000361263,9606.ENSP00000361467,9606.ENSP00000371532,9606.ENSP00000380638,9606.ENSP00000385720,9606.ENSP00000386896,9606.ENSP00000417335,9606.ENSP00000417653,9606.ENSP00000418754,9606.ENSP00000420321,9606.ENSP00000469689",
          "Positive regulation of neuron projection development/9606.ENSP00000007722,9606.ENSP00000243077,9606.ENSP00000255224,9606.ENSP00000261205,9606.ENSP00000278568,9606.ENSP00000286827,9606.ENSP00000292385,9606.ENSP00000312455,9606.ENSP00000326366,9606.ENSP00000356236,9606.ENSP00000361263,9606.ENSP00000361467,9606.ENSP00000371532,9606.ENSP00000380638,9606.ENSP00000385720,9606.ENSP00000386896,9606.ENSP00000417335,9606.ENSP00000417653,9606.ENSP00000418754,9606.ENSP00000420321,9606.ENSP00000469689",
          "Regulation of wnt signaling pathway/9606.ENSP00000007722,9606.ENSP00000243077,9606.ENSP00000262613,9606.ENSP00000274063,9606.ENSP00000275493,9606.ENSP00000286827,9606.ENSP00000324804,9606.ENSP00000326366,9606.ENSP00000332973,9606.ENSP00000361263,9606.ENSP00000367888,9606.ENSP00000369390,9606.ENSP00000377836,9606.ENSP00000418754",
          "Regulation of protein localization to membrane/9606.ENSP00000007722,9606.ENSP00000243077,9606.ENSP00000264039,9606.ENSP00000269571,9606.ENSP00000275493,9606.ENSP00000278568,9606.ENSP00000301050,9606.ENSP00000306124,9606.ENSP00000346300,9606.ENSP00000360293,9606.ENSP00000367888,9606.ENSP00000377836,9606.ENSP00000379350,9606.ENSP00000380948,9606.ENSP00000394485,9606.ENSP00000428056,9606.ENSP00000441691,9606.ENSP00000442600",
          "Positive regulation of protein localization to membrane/9606.ENSP00000007722,9606.ENSP00000243077,9606.ENSP00000269571,9606.ENSP00000275493,9606.ENSP00000278568,9606.ENSP00000301050,9606.ENSP00000306124,9606.ENSP00000360293,9606.ENSP00000367888,9606.ENSP00000379350,9606.ENSP00000380948,9606.ENSP00000394485,9606.ENSP00000428056,9606.ENSP00000441691",
          "Regulation of cell-substrate adhesion/9606.ENSP00000007722,9606.ENSP00000243077,9606.ENSP00000276297,9606.ENSP00000293379,9606.ENSP00000300574,9606.ENSP00000306124,9606.ENSP00000320866,9606.ENSP00000332973,9606.ENSP00000341189,9606.ENSP00000346300,9606.ENSP00000361009,9606.ENSP00000367408,9606.ENSP00000380638,9606.ENSP00000386896,9606.ENSP00000428056,9606.ENSP00000442600",
          "Regulation of cellular response to growth factor stimulus/9606.ENSP00000007722,9606.ENSP00000260197,9606.ENSP00000263816,9606.ENSP00000264039,9606.ENSP00000274063,9606.ENSP00000293379,9606.ENSP00000305355,9606.ENSP00000312455,9606.ENSP00000332973,9606.ENSP00000367408,9606.ENSP00000377836,9606.ENSP00000378332,9606.ENSP00000420321",
          "Positive regulation of cell adhesion/9606.ENSP00000007722,9606.ENSP00000261023,9606.ENSP00000269571,9606.ENSP00000274063,9606.ENSP00000278568,9606.ENSP00000293379,9606.ENSP00000300574,9606.ENSP00000306124,9606.ENSP00000314067,9606.ENSP00000320866,9606.ENSP00000332973,9606.ENSP00000346300,9606.ENSP00000351022,9606.ENSP00000361009,9606.ENSP00000366109,9606.ENSP00000376345,9606.ENSP00000380638,9606.ENSP00000380948,9606.ENSP00000386896,9606.ENSP00000408695,9606.ENSP00000428056,9606.ENSP00000442600",
          "Regulation of small gtpase mediated signal transduction/9606.ENSP00000007722,9606.ENSP00000265080,9606.ENSP00000276297,9606.ENSP00000286827,9606.ENSP00000300574,9606.ENSP00000310933,9606.ENSP00000316845,9606.ENSP00000320117,9606.ENSP00000345808,9606.ENSP00000346300,9606.ENSP00000351333,9606.ENSP00000357131,9606.ENSP00000361009,9606.ENSP00000361263,9606.ENSP00000371897,9606.ENSP00000376345,9606.ENSP00000379350,9606.ENSP00000379709,9606.ENSP00000385720,9606.ENSP00000387784,9606.ENSP00000400717,9606.ENSP00000401303,9606.ENSP00000404190,9606.ENSP00000405963,9606.ENSP00000420321,9606.ENSP00000440374,9606.ENSP00000459615",
          "Regulation of ras protein signal transduction/9606.ENSP00000007722,9606.ENSP00000265080,9606.ENSP00000276297,9606.ENSP00000300574,9606.ENSP00000310933,9606.ENSP00000346300,9606.ENSP00000361263,9606.ENSP00000376345,9606.ENSP00000379350,9606.ENSP00000385720,9606.ENSP00000401303,9606.ENSP00000405963,9606.ENSP00000420321,9606.ENSP00000440374",
          "Positive regulation of cell-substrate adhesion/9606.ENSP00000007722,9606.ENSP00000293379,9606.ENSP00000300574,9606.ENSP00000306124,9606.ENSP00000320866,9606.ENSP00000332973,9606.ENSP00000346300,9606.ENSP00000361009,9606.ENSP00000380638,9606.ENSP00000386896,9606.ENSP00000442600",
          "Vesicle organization/9606.ENSP00000020926,9606.ENSP00000215730,9606.ENSP00000222256,9606.ENSP00000244040,9606.ENSP00000249647,9606.ENSP00000254976,9606.ENSP00000255224,9606.ENSP00000258301,9606.ENSP00000265062,9606.ENSP00000271234,9606.ENSP00000300935,9606.ENSP00000303145,9606.ENSP00000312734,9606.ENSP00000320866,9606.ENSP00000346032,9606.ENSP00000353444,9606.ENSP00000357307,9606.ENSP00000358867,9606.ENSP00000360798,9606.ENSP00000444201",
          "Membrane fusion/9606.ENSP00000020926,9606.ENSP00000215730,9606.ENSP00000249647,9606.ENSP00000254976,9606.ENSP00000255224,9606.ENSP00000258301,9606.ENSP00000265062,9606.ENSP00000300935,9606.ENSP00000312734,9606.ENSP00000320866,9606.ENSP00000357307,9606.ENSP00000358867,9606.ENSP00000444201",
          "Organelle fusion/9606.ENSP00000020926,9606.ENSP00000215730,9606.ENSP00000249647,9606.ENSP00000254976,9606.ENSP00000255224,9606.ENSP00000258301,9606.ENSP00000265062,9606.ENSP00000300935,9606.ENSP00000312734,9606.ENSP00000320866,9606.ENSP00000357307,9606.ENSP00000358867,9606.ENSP00000444201",
          "Organelle membrane fusion/9606.ENSP00000020926,9606.ENSP00000215730,9606.ENSP00000249647,9606.ENSP00000254976,9606.ENSP00000255224,9606.ENSP00000258301,9606.ENSP00000265062,9606.ENSP00000300935,9606.ENSP00000312734,9606.ENSP00000320866,9606.ENSP00000357307,9606.ENSP00000358867,9606.ENSP00000444201",
          "Vesicle fusion/9606.ENSP00000020926,9606.ENSP00000215730,9606.ENSP00000249647,9606.ENSP00000254976,9606.ENSP00000255224,9606.ENSP00000258301,9606.ENSP00000265062,9606.ENSP00000300935,9606.ENSP00000312734,9606.ENSP00000320866,9606.ENSP00000357307,9606.ENSP00000358867,9606.ENSP00000444201",
          "Cellular response to inorganic substance/9606.ENSP00000020926,9606.ENSP00000215832,9606.ENSP00000247668,9606.ENSP00000255224,9606.ENSP00000261205,9606.ENSP00000263025,9606.ENSP00000275493,9606.ENSP00000289473,9606.ENSP00000300574,9606.ENSP00000312455,9606.ENSP00000320866,9606.ENSP00000338864,9606.ENSP00000339740,9606.ENSP00000346265,9606.ENSP00000356236,9606.ENSP00000357307,9606.ENSP00000360266,9606.ENSP00000394560,9606.ENSP00000444201",
          "Response to metal ion/9606.ENSP00000020926,9606.ENSP00000215832,9606.ENSP00000255224,9606.ENSP00000261205,9606.ENSP00000263025,9606.ENSP00000275493,9606.ENSP00000289473,9606.ENSP00000311032,9606.ENSP00000320866,9606.ENSP00000338864,9606.ENSP00000339740,9606.ENSP00000346265,9606.ENSP00000356236,9606.ENSP00000357307,9606.ENSP00000360266,9606.ENSP00000380638,9606.ENSP00000394560,9606.ENSP00000444201,9606.ENSP00000478059",
          "Cellular response to metal ion/9606.ENSP00000020926,9606.ENSP00000215832,9606.ENSP00000255224,9606.ENSP00000261205,9606.ENSP00000263025,9606.ENSP00000275493,9606.ENSP00000289473,9606.ENSP00000320866,9606.ENSP00000338864,9606.ENSP00000339740,9606.ENSP00000346265,9606.ENSP00000356236,9606.ENSP00000357307,9606.ENSP00000360266,9606.ENSP00000394560,9606.ENSP00000444201",
          "Regulation of exocytosis/9606.ENSP00000020926,9606.ENSP00000222256,9606.ENSP00000255224,9606.ENSP00000261205,9606.ENSP00000263431,9606.ENSP00000264710,9606.ENSP00000265062,9606.ENSP00000273047,9606.ENSP00000300935,9606.ENSP00000305355,9606.ENSP00000312734,9606.ENSP00000312999,9606.ENSP00000320025,9606.ENSP00000346265,9606.ENSP00000356236,9606.ENSP00000357307,9606.ENSP00000360718,9606.ENSP00000362080,9606.ENSP00000366109,9606.ENSP00000367408,9606.ENSP00000380948,9606.ENSP00000441691,9606.ENSP00000444201",
          "Regulation of regulated secretory pathway/9606.ENSP00000020926,9606.ENSP00000222256,9606.ENSP00000255224,9606.ENSP00000261205,9606.ENSP00000263431,9606.ENSP00000273047,9606.ENSP00000305355,9606.ENSP00000312999,9606.ENSP00000320025,9606.ENSP00000346265,9606.ENSP00000356236,9606.ENSP00000357307,9606.ENSP00000367408,9606.ENSP00000380948,9606.ENSP00000441691,9606.ENSP00000444201",
          "Regulation of amine transport/9606.ENSP00000020926,9606.ENSP00000222256,9606.ENSP00000255224,9606.ENSP00000261205,9606.ENSP00000312262,9606.ENSP00000326366,9606.ENSP00000346265,9606.ENSP00000356236,9606.ENSP00000357307,9606.ENSP00000360718,9606.ENSP00000379350,9606.ENSP00000444201",
          "Response to calcium ion/9606.ENSP00000020926,9606.ENSP00000255224,9606.ENSP00000261205,9606.ENSP00000275493,9606.ENSP00000338864,9606.ENSP00000339740,9606.ENSP00000346265,9606.ENSP00000356236,9606.ENSP00000357307,9606.ENSP00000360266,9606.ENSP00000380638,9606.ENSP00000444201,9606.ENSP00000478059",
          "Regulation of leukocyte proliferation/9606.ENSP00000085219,9606.ENSP00000215754,9606.ENSP00000215832,9606.ENSP00000263025,9606.ENSP00000269571,9606.ENSP00000301458,9606.ENSP00000311032,9606.ENSP00000341189,9606.ENSP00000343325,9606.ENSP00000361467,9606.ENSP00000366109,9606.ENSP00000387784",
          "Regulation of peptide secretion/9606.ENSP00000085219,9606.ENSP00000215754,9606.ENSP00000243077,9606.ENSP00000247668,9606.ENSP00000254976,9606.ENSP00000255224,9606.ENSP00000260197,9606.ENSP00000275493,9606.ENSP00000276052,9606.ENSP00000281456,9606.ENSP00000286827,9606.ENSP00000294304,9606.ENSP00000306124,9606.ENSP00000312734,9606.ENSP00000356545,9606.ENSP00000357307,9606.ENSP00000360671,9606.ENSP00000362080,9606.ENSP00000370695,9606.ENSP00000408695,9606.ENSP00000444201",
          "Regulation of protein secretion/9606.ENSP00000085219,9606.ENSP00000215754,9606.ENSP00000243077,9606.ENSP00000247668,9606.ENSP00000254976,9606.ENSP00000255224,9606.ENSP00000260197,9606.ENSP00000275493,9606.ENSP00000276052,9606.ENSP00000281456,9606.ENSP00000286827,9606.ENSP00000294304,9606.ENSP00000306124,9606.ENSP00000356545,9606.ENSP00000357307,9606.ENSP00000360671,9606.ENSP00000362080,9606.ENSP00000370695,9606.ENSP00000408695,9606.ENSP00000444201",
          "Negative regulation of transport/9606.ENSP00000085219,9606.ENSP00000255224,9606.ENSP00000261023,9606.ENSP00000261837,9606.ENSP00000262613,9606.ENSP00000265062,9606.ENSP00000267101,9606.ENSP00000301050,9606.ENSP00000305355,9606.ENSP00000306124,9606.ENSP00000312999,9606.ENSP00000339740,9606.ENSP00000345752,9606.ENSP00000357307,9606.ENSP00000360671,9606.ENSP00000362080,9606.ENSP00000366109,9606.ENSP00000380638",
          "Autophagy/9606.ENSP00000200181,9606.ENSP00000215730,9606.ENSP00000265062,9606.ENSP00000271234,9606.ENSP00000295888,9606.ENSP00000300935,9606.ENSP00000304376,9606.ENSP00000306866,9606.ENSP00000326366,9606.ENSP00000357307,9606.ENSP00000376297,5691.AAZ11429,5691.EAN78254",
          "Process utilizing autophagic mechanism/9606.ENSP00000200181,9606.ENSP00000215730,9606.ENSP00000265062,9606.ENSP00000271234,9606.ENSP00000295888,9606.ENSP00000300935,9606.ENSP00000304376,9606.ENSP00000306866,9606.ENSP00000326366,9606.ENSP00000357307,9606.ENSP00000376297,5691.AAZ11429,5691.EAN78254",
          "Cell junction assembly/9606.ENSP00000200181,9606.ENSP00000276297,9606.ENSP00000293379,9606.ENSP00000314067,9606.ENSP00000324532,9606.ENSP00000346300,9606.ENSP00000360293,9606.ENSP00000361467,9606.ENSP00000367888,9606.ENSP00000380638,9606.ENSP00000386896,9606.ENSP00000408695,9606.ENSP00000417653,9606.ENSP00000469689",
          "Neutrophil activation/9606.ENSP00000215730,9606.ENSP00000215754,9606.ENSP00000215832,9606.ENSP00000222256,9606.ENSP00000228506,9606.ENSP00000249647,9606.ENSP00000254976,9606.ENSP00000261023,9606.ENSP00000262428,9606.ENSP00000264710,9606.ENSP00000264908,9606.ENSP00000265062,9606.ENSP00000273130,9606.ENSP00000304376,9606.ENSP00000311449,9606.ENSP00000316476,9606.ENSP00000326366,9606.ENSP00000346032,9606.ENSP00000353444,9606.ENSP00000361009,9606.ENSP00000375978,9606.ENSP00000376297,9606.ENSP00000378217,9606.ENSP00000380948,9606.ENSP00000417653,9606.ENSP00000441691,9606.ENSP00000447053,9606.ENSP00000461945,9606.ENSP00000478479",
          "Neutrophil activation involved in immune response/9606.ENSP00000215730,9606.ENSP00000215754,9606.ENSP00000215832,9606.ENSP00000222256,9606.ENSP00000228506,9606.ENSP00000249647,9606.ENSP00000254976,9606.ENSP00000261023,9606.ENSP00000262428,9606.ENSP00000264710,9606.ENSP00000264908,9606.ENSP00000265062,9606.ENSP00000273130,9606.ENSP00000304376,9606.ENSP00000311449,9606.ENSP00000316476,9606.ENSP00000326366,9606.ENSP00000346032,9606.ENSP00000353444,9606.ENSP00000375978,9606.ENSP00000376297,9606.ENSP00000378217,9606.ENSP00000380948,9606.ENSP00000417653,9606.ENSP00000441691,9606.ENSP00000447053,9606.ENSP00000461945,9606.ENSP00000478479",
          "Neutrophil degranulation/9606.ENSP00000215730,9606.ENSP00000215754,9606.ENSP00000215832,9606.ENSP00000222256,9606.ENSP00000228506,9606.ENSP00000249647,9606.ENSP00000254976,9606.ENSP00000261023,9606.ENSP00000262428,9606.ENSP00000264710,9606.ENSP00000264908,9606.ENSP00000265062,9606.ENSP00000273130,9606.ENSP00000304376,9606.ENSP00000311449,9606.ENSP00000316476,9606.ENSP00000326366,9606.ENSP00000346032,9606.ENSP00000353444,9606.ENSP00000375978,9606.ENSP00000376297,9606.ENSP00000378217,9606.ENSP00000380948,9606.ENSP00000417653,9606.ENSP00000441691,9606.ENSP00000447053,9606.ENSP00000461945,9606.ENSP00000478479",
          "Neutrophil mediated immunity/9606.ENSP00000215730,9606.ENSP00000215754,9606.ENSP00000215832,9606.ENSP00000222256,9606.ENSP00000228506,9606.ENSP00000249647,9606.ENSP00000254976,9606.ENSP00000261023,9606.ENSP00000262428,9606.ENSP00000264710,9606.ENSP00000264908,9606.ENSP00000265062,9606.ENSP00000273130,9606.ENSP00000304376,9606.ENSP00000311449,9606.ENSP00000316476,9606.ENSP00000326366,9606.ENSP00000346032,9606.ENSP00000353444,9606.ENSP00000375978,9606.ENSP00000376297,9606.ENSP00000378217,9606.ENSP00000380948,9606.ENSP00000417653,9606.ENSP00000441691,9606.ENSP00000447053,9606.ENSP00000461945,9606.ENSP00000478479",
          "Synaptic signaling/9606.ENSP00000215730,9606.ENSP00000215832,9606.ENSP00000222256,9606.ENSP00000239666,9606.ENSP00000249647,9606.ENSP00000253754,9606.ENSP00000253861,9606.ENSP00000254976,9606.ENSP00000255224,9606.ENSP00000259455,9606.ENSP00000261205,9606.ENSP00000263431,9606.ENSP00000264657,9606.ENSP00000288221,9606.ENSP00000301050,9606.ENSP00000306490,9606.ENSP00000306866,9606.ENSP00000312262,9606.ENSP00000312999,9606.ENSP00000320025,9606.ENSP00000326366,9606.ENSP00000346265,9606.ENSP00000346300,9606.ENSP00000356236,9606.ENSP00000356545,9606.ENSP00000364995,9606.ENSP00000366233,9606.ENSP00000367408,9606.ENSP00000368678,9606.ENSP00000374036,9606.ENSP00000377840,9606.ENSP00000438949,9606.ENSP00000442600,9606.ENSP00000444201,9606.ENSP00000481878",
          "Trans-synaptic signaling/9606.ENSP00000215730,9606.ENSP00000215832,9606.ENSP00000222256,9606.ENSP00000239666,9606.ENSP00000249647,9606.ENSP00000253754,9606.ENSP00000253861,9606.ENSP00000254976,9606.ENSP00000255224,9606.ENSP00000259455,9606.ENSP00000261205,9606.ENSP00000263431,9606.ENSP00000288221,9606.ENSP00000301050,9606.ENSP00000306490,9606.ENSP00000306866,9606.ENSP00000320025,9606.ENSP00000326366,9606.ENSP00000346265,9606.ENSP00000356236,9606.ENSP00000356545,9606.ENSP00000364995,9606.ENSP00000366233,9606.ENSP00000367408,9606.ENSP00000374036,9606.ENSP00000377840,9606.ENSP00000438949,9606.ENSP00000442600,9606.ENSP00000444201",
          "Anterograde trans-synaptic signaling/9606.ENSP00000215730,9606.ENSP00000215832,9606.ENSP00000222256,9606.ENSP00000239666,9606.ENSP00000249647,9606.ENSP00000253754,9606.ENSP00000253861,9606.ENSP00000254976,9606.ENSP00000255224,9606.ENSP00000259455,9606.ENSP00000261205,9606.ENSP00000263431,9606.ENSP00000288221,9606.ENSP00000301050,9606.ENSP00000306490,9606.ENSP00000306866,9606.ENSP00000320025,9606.ENSP00000326366,9606.ENSP00000346265,9606.ENSP00000356236,9606.ENSP00000356545,9606.ENSP00000364995,9606.ENSP00000366233,9606.ENSP00000367408,9606.ENSP00000374036,9606.ENSP00000377840,9606.ENSP00000438949,9606.ENSP00000444201",
          "Chemical synaptic transmission/9606.ENSP00000215730,9606.ENSP00000215832,9606.ENSP00000222256,9606.ENSP00000239666,9606.ENSP00000249647,9606.ENSP00000253754,9606.ENSP00000253861,9606.ENSP00000254976,9606.ENSP00000255224,9606.ENSP00000259455,9606.ENSP00000261205,9606.ENSP00000263431,9606.ENSP00000288221,9606.ENSP00000301050,9606.ENSP00000306490,9606.ENSP00000306866,9606.ENSP00000320025,9606.ENSP00000326366,9606.ENSP00000346265,9606.ENSP00000356236,9606.ENSP00000356545,9606.ENSP00000364995,9606.ENSP00000366233,9606.ENSP00000367408,9606.ENSP00000374036,9606.ENSP00000377840,9606.ENSP00000438949,9606.ENSP00000444201",
          "Regulation of neurotransmitter levels/9606.ENSP00000215730,9606.ENSP00000222256,9606.ENSP00000239666,9606.ENSP00000249647,9606.ENSP00000254976,9606.ENSP00000255224,9606.ENSP00000261205,9606.ENSP00000263431,9606.ENSP00000273047,9606.ENSP00000288221,9606.ENSP00000305355,9606.ENSP00000320025,9606.ENSP00000326366,9606.ENSP00000346265,9606.ENSP00000356236,9606.ENSP00000357068,9606.ENSP00000357307,9606.ENSP00000360718,9606.ENSP00000367408,9606.ENSP00000374036,9606.ENSP00000379350,9606.ENSP00000444201",
          "Signal release/9606.ENSP00000215730,9606.ENSP00000222256,9606.ENSP00000239666,9606.ENSP00000249647,9606.ENSP00000254976,9606.ENSP00000255224,9606.ENSP00000261205,9606.ENSP00000276052,9606.ENSP00000288221,9606.ENSP00000326366,9606.ENSP00000346265,9606.ENSP00000356236,9606.ENSP00000366109,9606.ENSP00000367408,9606.ENSP00000374036,9606.ENSP00000444201",
          "Neurotransmitter transport/9606.ENSP00000215730,9606.ENSP00000222256,9606.ENSP00000239666,9606.ENSP00000249647,9606.ENSP00000254976,9606.ENSP00000255224,9606.ENSP00000261205,9606.ENSP00000288221,9606.ENSP00000326366,9606.ENSP00000346265,9606.ENSP00000356236,9606.ENSP00000357068,9606.ENSP00000367408,9606.ENSP00000374036,9606.ENSP00000444201",
          "Neurotransmitter secretion/9606.ENSP00000215730,9606.ENSP00000222256,9606.ENSP00000239666,9606.ENSP00000249647,9606.ENSP00000254976,9606.ENSP00000255224,9606.ENSP00000261205,9606.ENSP00000288221,9606.ENSP00000326366,9606.ENSP00000346265,9606.ENSP00000356236,9606.ENSP00000367408,9606.ENSP00000374036,9606.ENSP00000444201",
          "Signal release from synapse/9606.ENSP00000215730,9606.ENSP00000222256,9606.ENSP00000239666,9606.ENSP00000249647,9606.ENSP00000254976,9606.ENSP00000255224,9606.ENSP00000261205,9606.ENSP00000288221,9606.ENSP00000326366,9606.ENSP00000346265,9606.ENSP00000356236,9606.ENSP00000367408,9606.ENSP00000374036,9606.ENSP00000444201",
          "Vesicle-mediated transport in synapse/9606.ENSP00000215730,9606.ENSP00000222256,9606.ENSP00000247461,9606.ENSP00000249647,9606.ENSP00000254976,9606.ENSP00000261205,9606.ENSP00000273047,9606.ENSP00000288221,9606.ENSP00000300935,9606.ENSP00000326366,9606.ENSP00000346265,9606.ENSP00000352157,9606.ENSP00000356236,9606.ENSP00000360798,9606.ENSP00000444201",
          "Synaptic vesicle cycle/9606.ENSP00000215730,9606.ENSP00000222256,9606.ENSP00000247461,9606.ENSP00000249647,9606.ENSP00000254976,9606.ENSP00000261205,9606.ENSP00000273047,9606.ENSP00000288221,9606.ENSP00000326366,9606.ENSP00000346265,9606.ENSP00000356236,9606.ENSP00000444201",
          "Exocytic process/9606.ENSP00000215730,9606.ENSP00000222256,9606.ENSP00000249647,9606.ENSP00000253861,9606.ENSP00000254976,9606.ENSP00000260762,9606.ENSP00000264710,9606.ENSP00000288221,9606.ENSP00000300935,9606.ENSP00000312734,9606.ENSP00000326366,9606.ENSP00000360718",
          "Establishment of organelle localization/9606.ENSP00000215730,9606.ENSP00000222256,9606.ENSP00000249647,9606.ENSP00000253861,9606.ENSP00000255224,9606.ENSP00000262613,9606.ENSP00000265062,9606.ENSP00000271234,9606.ENSP00000303145,9606.ENSP00000311449,9606.ENSP00000326366,9606.ENSP00000341189,9606.ENSP00000357307,9606.ENSP00000379350,9606.ENSP00000379709",
          "Membrane docking/9606.ENSP00000215730,9606.ENSP00000222256,9606.ENSP00000253861,9606.ENSP00000254976,9606.ENSP00000258301,9606.ENSP00000260762,9606.ENSP00000261205,9606.ENSP00000264710,9606.ENSP00000265062,9606.ENSP00000270861,9606.ENSP00000300935,9606.ENSP00000312734,9606.ENSP00000324804,9606.ENSP00000355747,9606.ENSP00000360718,9606.ENSP00000376297",
          "Organelle localization by membrane tethering/9606.ENSP00000215730,9606.ENSP00000222256,9606.ENSP00000253861,9606.ENSP00000254976,9606.ENSP00000258301,9606.ENSP00000260762,9606.ENSP00000261205,9606.ENSP00000264710,9606.ENSP00000270861,9606.ENSP00000300935,9606.ENSP00000312734,9606.ENSP00000324804,9606.ENSP00000355747,9606.ENSP00000360718,9606.ENSP00000376297",
          "Positive regulation of protein serine/threonine kinase activity/9606.ENSP00000215754,9606.ENSP00000215832,9606.ENSP00000236877,9606.ENSP00000247668,9606.ENSP00000262948,9606.ENSP00000263025,9606.ENSP00000269571,9606.ENSP00000275493,9606.ENSP00000278568,9606.ENSP00000286827,9606.ENSP00000294117,9606.ENSP00000300574,9606.ENSP00000310933,9606.ENSP00000318944,9606.ENSP00000326366,9606.ENSP00000343325,9606.ENSP00000346300,9606.ENSP00000352157,9606.ENSP00000361263,9606.ENSP00000376317,9606.ENSP00000380638,9606.ENSP00000399511,9606.ENSP00000401303,9606.ENSP00000417653,9606.ENSP00000420321",
          "Aging/9606.ENSP00000215754,9606.ENSP00000215832,9606.ENSP00000243077,9606.ENSP00000247461,9606.ENSP00000263025,9606.ENSP00000264657,9606.ENSP00000320866,9606.ENSP00000326366,9606.ENSP00000360266,9606.ENSP00000376345,9606.ENSP00000378217,9606.ENSP00000380948,9606.ENSP00000442600",
          "Positive regulation of establishment of protein localization/9606.ENSP00000215754,9606.ENSP00000215832,9606.ENSP00000243077,9606.ENSP00000260197,9606.ENSP00000269571,9606.ENSP00000275493,9606.ENSP00000278568,9606.ENSP00000301050,9606.ENSP00000306124,9606.ENSP00000306490,9606.ENSP00000326366,9606.ENSP00000332973,9606.ENSP00000362080,9606.ENSP00000370695,9606.ENSP00000378217,9606.ENSP00000380948,9606.ENSP00000394485,9606.ENSP00000428056,9606.ENSP00000441691",
          "Positive regulation of protein transport/9606.ENSP00000215754,9606.ENSP00000215832,9606.ENSP00000243077,9606.ENSP00000260197,9606.ENSP00000269571,9606.ENSP00000275493,9606.ENSP00000278568,9606.ENSP00000301050,9606.ENSP00000306124,9606.ENSP00000306490,9606.ENSP00000326366,9606.ENSP00000332973,9606.ENSP00000362080,9606.ENSP00000370695,9606.ENSP00000378217,9606.ENSP00000380948,9606.ENSP00000394485,9606.ENSP00000428056,9606.ENSP00000441691",
          "Regulation of map kinase activity/9606.ENSP00000215754,9606.ENSP00000215832,9606.ENSP00000247668,9606.ENSP00000260197,9606.ENSP00000262948,9606.ENSP00000263025,9606.ENSP00000269571,9606.ENSP00000274063,9606.ENSP00000275493,9606.ENSP00000278568,9606.ENSP00000286827,9606.ENSP00000294117,9606.ENSP00000300574,9606.ENSP00000310933,9606.ENSP00000318944,9606.ENSP00000324804,9606.ENSP00000326366,9606.ENSP00000343325,9606.ENSP00000346300,9606.ENSP00000352157,9606.ENSP00000361263,9606.ENSP00000376317,9606.ENSP00000378217,9606.ENSP00000380638,9606.ENSP00000399511,9606.ENSP00000401303,9606.ENSP00000417653,9606.ENSP00000420321",
          "Positive regulation of map kinase activity/9606.ENSP00000215754,9606.ENSP00000215832,9606.ENSP00000247668,9606.ENSP00000262948,9606.ENSP00000263025,9606.ENSP00000269571,9606.ENSP00000275493,9606.ENSP00000278568,9606.ENSP00000286827,9606.ENSP00000294117,9606.ENSP00000300574,9606.ENSP00000310933,9606.ENSP00000318944,9606.ENSP00000326366,9606.ENSP00000343325,9606.ENSP00000346300,9606.ENSP00000352157,9606.ENSP00000361263,9606.ENSP00000376317,9606.ENSP00000380638,9606.ENSP00000399511,9606.ENSP00000401303,9606.ENSP00000417653,9606.ENSP00000420321",
          "Positive regulation of secretion/9606.ENSP00000215754,9606.ENSP00000222256,9606.ENSP00000243077,9606.ENSP00000255224,9606.ENSP00000260197,9606.ENSP00000261205,9606.ENSP00000265062,9606.ENSP00000273047,9606.ENSP00000275493,9606.ENSP00000306124,9606.ENSP00000312262,9606.ENSP00000312734,9606.ENSP00000312999,9606.ENSP00000320025,9606.ENSP00000362080,9606.ENSP00000370695,9606.ENSP00000380948,9606.ENSP00000441691,9606.ENSP00000444201",
          "Positive regulation of secretion by cell/9606.ENSP00000215754,9606.ENSP00000222256,9606.ENSP00000243077,9606.ENSP00000255224,9606.ENSP00000260197,9606.ENSP00000261205,9606.ENSP00000265062,9606.ENSP00000273047,9606.ENSP00000275493,9606.ENSP00000306124,9606.ENSP00000312262,9606.ENSP00000312734,9606.ENSP00000320025,9606.ENSP00000362080,9606.ENSP00000370695,9606.ENSP00000380948,9606.ENSP00000441691,9606.ENSP00000444201",
          "Regulation of erk1 and erk2 cascade/9606.ENSP00000215754,9606.ENSP00000243077,9606.ENSP00000262613,9606.ENSP00000263025,9606.ENSP00000269571,9606.ENSP00000275493,9606.ENSP00000286827,9606.ENSP00000312455,9606.ENSP00000312999,9606.ENSP00000318944,9606.ENSP00000346300,9606.ENSP00000360266,9606.ENSP00000361263,9606.ENSP00000380638,9606.ENSP00000401303,9606.ENSP00000408695,9606.ENSP00000433528",
          "Negative regulation of locomotion/9606.ENSP00000215754,9606.ENSP00000243077,9606.ENSP00000262613,9606.ENSP00000264657,9606.ENSP00000274063,9606.ENSP00000276297,9606.ENSP00000300574,9606.ENSP00000320866,9606.ENSP00000351022,9606.ENSP00000361467,9606.ENSP00000377867,9606.ENSP00000417335,9606.ENSP00000420321,9606.ENSP00000442600,9606.ENSP00000459615",
          "Negative regulation of cell motility/9606.ENSP00000215754,9606.ENSP00000243077,9606.ENSP00000262613,9606.ENSP00000264657,9606.ENSP00000274063,9606.ENSP00000276297,9606.ENSP00000300574,9606.ENSP00000320866,9606.ENSP00000351022,9606.ENSP00000361467,9606.ENSP00000377867,9606.ENSP00000420321,9606.ENSP00000442600,9606.ENSP00000459615",
          "Negative regulation of cellular component movement/9606.ENSP00000215754,9606.ENSP00000243077,9606.ENSP00000262613,9606.ENSP00000264657,9606.ENSP00000274063,9606.ENSP00000276297,9606.ENSP00000300574,9606.ENSP00000320866,9606.ENSP00000351022,9606.ENSP00000361467,9606.ENSP00000377867,9606.ENSP00000420321,9606.ENSP00000442600,9606.ENSP00000459615",
          "Negative regulation of cell migration/9606.ENSP00000215754,9606.ENSP00000243077,9606.ENSP00000262613,9606.ENSP00000264657,9606.ENSP00000274063,9606.ENSP00000276297,9606.ENSP00000320866,9606.ENSP00000351022,9606.ENSP00000361467,9606.ENSP00000377867,9606.ENSP00000420321,9606.ENSP00000442600,9606.ENSP00000459615",
          "Positive regulation of erk1 and erk2 cascade/9606.ENSP00000215754,9606.ENSP00000243077,9606.ENSP00000263025,9606.ENSP00000275493,9606.ENSP00000312455,9606.ENSP00000312999,9606.ENSP00000346300,9606.ENSP00000360266,9606.ENSP00000361263,9606.ENSP00000380638,9606.ENSP00000401303,9606.ENSP00000408695,9606.ENSP00000433528",
          "Regulation of apoptotic signaling pathway/9606.ENSP00000215754,9606.ENSP00000247668,9606.ENSP00000261023,9606.ENSP00000262613,9606.ENSP00000274063,9606.ENSP00000310933,9606.ENSP00000312455,9606.ENSP00000312999,9606.ENSP00000314067,9606.ENSP00000318944,9606.ENSP00000324804,9606.ENSP00000326366,9606.ENSP00000332973,9606.ENSP00000354829,9606.ENSP00000358867,9606.ENSP00000360671,9606.ENSP00000367686,9606.ENSP00000378217,9606.ENSP00000386896,9606.ENSP00000394560",
          "Negative regulation of apoptotic signaling pathway/9606.ENSP00000215754,9606.ENSP00000247668,9606.ENSP00000261023,9606.ENSP00000274063,9606.ENSP00000312455,9606.ENSP00000312999,9606.ENSP00000326366,9606.ENSP00000358867,9606.ENSP00000360671,9606.ENSP00000367686,9606.ENSP00000386896",
          "Positive regulation of ion transport/9606.ENSP00000215754,9606.ENSP00000255224,9606.ENSP00000261205,9606.ENSP00000262613,9606.ENSP00000301050,9606.ENSP00000306490,9606.ENSP00000320025,9606.ENSP00000326366,9606.ENSP00000360718,9606.ENSP00000367408,9606.ENSP00000378217,9606.ENSP00000379350,9606.ENSP00000394485,9606.ENSP00000478059",
          "Regulation of peptidyl-tyrosine phosphorylation/9606.ENSP00000215754,9606.ENSP00000264657,9606.ENSP00000267101,9606.ENSP00000274063,9606.ENSP00000275493,9606.ENSP00000289473,9606.ENSP00000293379,9606.ENSP00000306124,9606.ENSP00000314067,9606.ENSP00000324804,9606.ENSP00000326366,9606.ENSP00000367888,9606.ENSP00000378217,9606.ENSP00000380638,9606.ENSP00000380948,9606.ENSP00000401303",
          "Modulation of chemical synaptic transmission/9606.ENSP00000215832,9606.ENSP00000222256,9606.ENSP00000236877,9606.ENSP00000254976,9606.ENSP00000255224,9606.ENSP00000261205,9606.ENSP00000263431,9606.ENSP00000264657,9606.ENSP00000273047,9606.ENSP00000275493,9606.ENSP00000292385,9606.ENSP00000300935,9606.ENSP00000301050,9606.ENSP00000305355,9606.ENSP00000306124,9606.ENSP00000312999,9606.ENSP00000320025,9606.ENSP00000326366,9606.ENSP00000343027,9606.ENSP00000345752,9606.ENSP00000357068,9606.ENSP00000357307,9606.ENSP00000359085,9606.ENSP00000360718,9606.ENSP00000367408,9606.ENSP00000379350,9606.ENSP00000380638,9606.ENSP00000400365,9606.ENSP00000405963,9606.ENSP00000444201,9606.ENSP00000469689",
          "Regulation of trans-synaptic signaling/9606.ENSP00000215832,9606.ENSP00000222256,9606.ENSP00000236877,9606.ENSP00000254976,9606.ENSP00000255224,9606.ENSP00000261205,9606.ENSP00000263431,9606.ENSP00000264657,9606.ENSP00000273047,9606.ENSP00000275493,9606.ENSP00000292385,9606.ENSP00000300935,9606.ENSP00000301050,9606.ENSP00000305355,9606.ENSP00000306124,9606.ENSP00000312999,9606.ENSP00000320025,9606.ENSP00000326366,9606.ENSP00000343027,9606.ENSP00000345752,9606.ENSP00000357068,9606.ENSP00000357307,9606.ENSP00000359085,9606.ENSP00000360718,9606.ENSP00000367408,9606.ENSP00000379350,9606.ENSP00000380638,9606.ENSP00000400365,9606.ENSP00000405963,9606.ENSP00000444201,9606.ENSP00000469689",
          "Regulation of synaptic plasticity/9606.ENSP00000215832,9606.ENSP00000222256,9606.ENSP00000236877,9606.ENSP00000254976,9606.ENSP00000255224,9606.ENSP00000273047,9606.ENSP00000292385,9606.ENSP00000300935,9606.ENSP00000326366,9606.ENSP00000357068,9606.ENSP00000380638,9606.ENSP00000405963,9606.ENSP00000444201,9606.ENSP00000469689",
          "Cell morphogenesis involved in neuron differentiation/9606.ENSP00000215832,9606.ENSP00000222256,9606.ENSP00000243077,9606.ENSP00000262613,9606.ENSP00000263025,9606.ENSP00000264039,9606.ENSP00000264710,9606.ENSP00000269571,9606.ENSP00000300935,9606.ENSP00000304945,9606.ENSP00000341189,9606.ENSP00000354623,9606.ENSP00000359085,9606.ENSP00000364995,9606.ENSP00000367888,9606.ENSP00000368678,9606.ENSP00000371532,9606.ENSP00000376345,9606.ENSP00000379350,9606.ENSP00000380903,9606.ENSP00000385720,9606.ENSP00000387784,9606.ENSP00000400365,9606.ENSP00000401303,9606.ENSP00000408695,9606.ENSP00000417335,9606.ENSP00000420321,9606.ENSP00000428056,9606.ENSP00000442600,9606.ENSP00000469689",
          "Neuron projection morphogenesis/9606.ENSP00000215832,9606.ENSP00000222256,9606.ENSP00000243077,9606.ENSP00000263025,9606.ENSP00000263816,9606.ENSP00000264039,9606.ENSP00000264710,9606.ENSP00000269571,9606.ENSP00000275493,9606.ENSP00000278568,9606.ENSP00000286827,9606.ENSP00000292385,9606.ENSP00000300935,9606.ENSP00000304945,9606.ENSP00000341189,9606.ENSP00000356832,9606.ENSP00000359085,9606.ENSP00000364995,9606.ENSP00000367888,9606.ENSP00000368678,9606.ENSP00000371532,9606.ENSP00000376345,9606.ENSP00000379350,9606.ENSP00000380903,9606.ENSP00000385720,9606.ENSP00000387784,9606.ENSP00000399511,9606.ENSP00000400365,9606.ENSP00000401303,9606.ENSP00000408695,9606.ENSP00000417335,9606.ENSP00000417653,9606.ENSP00000420321,9606.ENSP00000428056,9606.ENSP00000442600,9606.ENSP00000459615,9606.ENSP00000469689",
          "Axon development/9606.ENSP00000215832,9606.ENSP00000222256,9606.ENSP00000243077,9606.ENSP00000263025,9606.ENSP00000264039,9606.ENSP00000264710,9606.ENSP00000269571,9606.ENSP00000300935,9606.ENSP00000304945,9606.ENSP00000311032,9606.ENSP00000341189,9606.ENSP00000359085,9606.ENSP00000360266,9606.ENSP00000364995,9606.ENSP00000368678,9606.ENSP00000371532,9606.ENSP00000376048,9606.ENSP00000376345,9606.ENSP00000379350,9606.ENSP00000380903,9606.ENSP00000385720,9606.ENSP00000387784,9606.ENSP00000400365,9606.ENSP00000401303,9606.ENSP00000408695,9606.ENSP00000417335,9606.ENSP00000420321,9606.ENSP00000428056,9606.ENSP00000442600",
          "Axonogenesis/9606.ENSP00000215832,9606.ENSP00000222256,9606.ENSP00000243077,9606.ENSP00000263025,9606.ENSP00000264039,9606.ENSP00000264710,9606.ENSP00000269571,9606.ENSP00000300935,9606.ENSP00000304945,9606.ENSP00000341189,9606.ENSP00000359085,9606.ENSP00000364995,9606.ENSP00000368678,9606.ENSP00000371532,9606.ENSP00000376345,9606.ENSP00000379350,9606.ENSP00000380903,9606.ENSP00000385720,9606.ENSP00000387784,9606.ENSP00000400365,9606.ENSP00000401303,9606.ENSP00000408695,9606.ENSP00000417335,9606.ENSP00000420321,9606.ENSP00000428056,9606.ENSP00000442600",
          "Wound healing/9606.ENSP00000215832,9606.ENSP00000222256,9606.ENSP00000263025,9606.ENSP00000263431,9606.ENSP00000267101,9606.ENSP00000269571,9606.ENSP00000273047,9606.ENSP00000275364,9606.ENSP00000275493,9606.ENSP00000278568,9606.ENSP00000293379,9606.ENSP00000296511,9606.ENSP00000305355,9606.ENSP00000306124,9606.ENSP00000311032,9606.ENSP00000332973,9606.ENSP00000334448,9606.ENSP00000351022,9606.ENSP00000357307,9606.ENSP00000359719,9606.ENSP00000362080,9606.ENSP00000378217,9606.ENSP00000385720,9606.ENSP00000400717,9606.ENSP00000408695,9606.ENSP00000418754,9606.ENSP00000428056,9606.ENSP00000442600,9606.ENSP00000444201,9606.ENSP00000481878",
          "Cellular response to growth factor stimulus/9606.ENSP00000215832,9606.ENSP00000229340,9606.ENSP00000263025,9606.ENSP00000263816,9606.ENSP00000265441,9606.ENSP00000267257,9606.ENSP00000269571,9606.ENSP00000275493,9606.ENSP00000296181,9606.ENSP00000300574,9606.ENSP00000311032,9606.ENSP00000312455,9606.ENSP00000332973,9606.ENSP00000341189,9606.ENSP00000346300,9606.ENSP00000360266,9606.ENSP00000361263,9606.ENSP00000366109,9606.ENSP00000376345,9606.ENSP00000378332,9606.ENSP00000387784,9606.ENSP00000401303",
          "Cell population proliferation/9606.ENSP00000215832,9606.ENSP00000232461,9606.ENSP00000243077,9606.ENSP00000263816,9606.ENSP00000264657,9606.ENSP00000264710,9606.ENSP00000265441,9606.ENSP00000274063,9606.ENSP00000292385,9606.ENSP00000312999,9606.ENSP00000326366,9606.ENSP00000334448,9606.ENSP00000367686,9606.ENSP00000375978,9606.ENSP00000377836,9606.ENSP00000378217,9606.ENSP00000380638,9606.ENSP00000404190,9606.ENSP00000405963,9606.ENSP00000481878",
          "Positive regulation of synaptic transmission/9606.ENSP00000215832,9606.ENSP00000236877,9606.ENSP00000254976,9606.ENSP00000261205,9606.ENSP00000275493,9606.ENSP00000301050,9606.ENSP00000306124,9606.ENSP00000320025,9606.ENSP00000360718,9606.ENSP00000380638,9606.ENSP00000400365,9606.ENSP00000444201,9606.ENSP00000469689",
          "Endocytosis/9606.ENSP00000215832,9606.ENSP00000243077,9606.ENSP00000244040,9606.ENSP00000247461,9606.ENSP00000253193,9606.ENSP00000254976,9606.ENSP00000260197,9606.ENSP00000261205,9606.ENSP00000263025,9606.ENSP00000263816,9606.ENSP00000265062,9606.ENSP00000271234,9606.ENSP00000273047,9606.ENSP00000276654,9606.ENSP00000294304,9606.ENSP00000312262,9606.ENSP00000317578,9606.ENSP00000320117,9606.ENSP00000320866,9606.ENSP00000345808,9606.ENSP00000346265,9606.ENSP00000352601,9606.ENSP00000353444,9606.ENSP00000356236,9606.ENSP00000360798,9606.ENSP00000363827,9606.ENSP00000367888,9606.ENSP00000371221,9606.ENSP00000371532,9606.ENSP00000376345,9606.ENSP00000379350,9606.ENSP00000380948,9606.ENSP00000413625,9606.ENSP00000417653,9606.ENSP00000441691,9606.ENSP00000454071,9606.ENSP00000461945",
          "Regulation of developmental growth/9606.ENSP00000215832,9606.ENSP00000243077,9606.ENSP00000255224,9606.ENSP00000261205,9606.ENSP00000264657,9606.ENSP00000265441,9606.ENSP00000274063,9606.ENSP00000278568,9606.ENSP00000292385,9606.ENSP00000341189,9606.ENSP00000356236,9606.ENSP00000368678,9606.ENSP00000376048,9606.ENSP00000417653",
          "Positive regulation of growth/9606.ENSP00000215832,9606.ENSP00000243077,9606.ENSP00000255224,9606.ENSP00000261205,9606.ENSP00000265441,9606.ENSP00000269571,9606.ENSP00000274063,9606.ENSP00000275493,9606.ENSP00000278568,9606.ENSP00000292385,9606.ENSP00000300574,9606.ENSP00000356236,9606.ENSP00000368678,9606.ENSP00000380638,9606.ENSP00000417653",
          "Phagocytosis/9606.ENSP00000215832,9606.ENSP00000243077,9606.ENSP00000261023,9606.ENSP00000263025,9606.ENSP00000264908,9606.ENSP00000265062,9606.ENSP00000273047,9606.ENSP00000278568,9606.ENSP00000300574,9606.ENSP00000306124,9606.ENSP00000341189,9606.ENSP00000345808,9606.ENSP00000356505,9606.ENSP00000366109,9606.ENSP00000376345,9606.ENSP00000378217,9606.ENSP00000379350,9606.ENSP00000380948,9606.ENSP00000428056,9606.ENSP00000441691,9606.ENSP00000444201,9606.ENSP00000454071",
          "Gliogenesis/9606.ENSP00000215832,9606.ENSP00000243077,9606.ENSP00000263025,9606.ENSP00000264039,9606.ENSP00000264657,9606.ENSP00000267101,9606.ENSP00000269571,9606.ENSP00000275493,9606.ENSP00000326366,9606.ENSP00000357068,9606.ENSP00000366109,9606.ENSP00000376048,9606.ENSP00000380638,9606.ENSP00000400365,9606.ENSP00000442600,9606.ENSP00000459615",
          "Glial cell differentiation/9606.ENSP00000215832,9606.ENSP00000243077,9606.ENSP00000263025,9606.ENSP00000264039,9606.ENSP00000264657,9606.ENSP00000267101,9606.ENSP00000269571,9606.ENSP00000275493,9606.ENSP00000326366,9606.ENSP00000357068,9606.ENSP00000376048,9606.ENSP00000400365,9606.ENSP00000442600",
          "Axon guidance/9606.ENSP00000215832,9606.ENSP00000243077,9606.ENSP00000263025,9606.ENSP00000264039,9606.ENSP00000269571,9606.ENSP00000304945,9606.ENSP00000341189,9606.ENSP00000364995,9606.ENSP00000368678,9606.ENSP00000371532,9606.ENSP00000376345,9606.ENSP00000380903,9606.ENSP00000385720,9606.ENSP00000387784,9606.ENSP00000400365,9606.ENSP00000401303,9606.ENSP00000408695,9606.ENSP00000417335,9606.ENSP00000420321,9606.ENSP00000428056,9606.ENSP00000442600",
          "Neuron projection guidance/9606.ENSP00000215832,9606.ENSP00000243077,9606.ENSP00000263025,9606.ENSP00000264039,9606.ENSP00000269571,9606.ENSP00000304945,9606.ENSP00000341189,9606.ENSP00000364995,9606.ENSP00000368678,9606.ENSP00000371532,9606.ENSP00000376345,9606.ENSP00000380903,9606.ENSP00000385720,9606.ENSP00000387784,9606.ENSP00000400365,9606.ENSP00000401303,9606.ENSP00000408695,9606.ENSP00000417335,9606.ENSP00000420321,9606.ENSP00000428056,9606.ENSP00000442600",
          "Activation of protein kinase activity/9606.ENSP00000215832,9606.ENSP00000247668,9606.ENSP00000262395,9606.ENSP00000262948,9606.ENSP00000263025,9606.ENSP00000267101,9606.ENSP00000275493,9606.ENSP00000278568,9606.ENSP00000294117,9606.ENSP00000300574,9606.ENSP00000310933,9606.ENSP00000314067,9606.ENSP00000318944,9606.ENSP00000326366,9606.ENSP00000343325,9606.ENSP00000346300,9606.ENSP00000352157,9606.ENSP00000359719,9606.ENSP00000361263,9606.ENSP00000367686,9606.ENSP00000376317,9606.ENSP00000377867,9606.ENSP00000378217,9606.ENSP00000380638,9606.ENSP00000399511,9606.ENSP00000401303,9606.ENSP00000417653,5691.AAZ10596,5691.AAZ11445,5691.EAN76407,5691.EAN77619,5691.EAN80351",
          "Regulation of stress-activated mapk cascade/9606.ENSP00000215832,9606.ENSP00000247668,9606.ENSP00000262395,9606.ENSP00000262948,9606.ENSP00000263025,9606.ENSP00000274063,9606.ENSP00000275493,9606.ENSP00000278568,9606.ENSP00000286827,9606.ENSP00000289473,9606.ENSP00000343325,9606.ENSP00000361263,9606.ENSP00000376317,9606.ENSP00000380638,9606.ENSP00000399511,9606.ENSP00000417653",
          "Regulation of stress-activated protein kinase signaling cascade/9606.ENSP00000215832,9606.ENSP00000247668,9606.ENSP00000262395,9606.ENSP00000262948,9606.ENSP00000263025,9606.ENSP00000274063,9606.ENSP00000275493,9606.ENSP00000278568,9606.ENSP00000286827,9606.ENSP00000289473,9606.ENSP00000343325,9606.ENSP00000361263,9606.ENSP00000376317,9606.ENSP00000380638,9606.ENSP00000399511,9606.ENSP00000417653",
          "Regulation of dna-binding transcription factor activity/9606.ENSP00000215832,9606.ENSP00000247668,9606.ENSP00000263025,9606.ENSP00000264657,9606.ENSP00000264908,9606.ENSP00000265441,9606.ENSP00000294304,9606.ENSP00000305355,9606.ENSP00000312455,9606.ENSP00000332973,9606.ENSP00000352157,9606.ENSP00000356832,9606.ENSP00000360266,9606.ENSP00000377833,9606.ENSP00000380948,9606.ENSP00000394560",
          "Response to oxidative stress/9606.ENSP00000215832,9606.ENSP00000247668,9606.ENSP00000263025,9606.ENSP00000267257,9606.ENSP00000275493,9606.ENSP00000289473,9606.ENSP00000300574,9606.ENSP00000311032,9606.ENSP00000312455,9606.ENSP00000326366,9606.ENSP00000351022,9606.ENSP00000356505,9606.ENSP00000360266,9606.ENSP00000366109,9606.ENSP00000377867,9606.ENSP00000378217,9606.ENSP00000380638,9606.ENSP00000384763,9606.ENSP00000394560",
          "Cellular response to chemical stress/9606.ENSP00000215832,9606.ENSP00000247668,9606.ENSP00000263025,9606.ENSP00000267257,9606.ENSP00000275493,9606.ENSP00000289473,9606.ENSP00000300574,9606.ENSP00000311032,9606.ENSP00000312455,9606.ENSP00000351022,9606.ENSP00000352157,9606.ENSP00000356505,9606.ENSP00000360266,9606.ENSP00000364586,9606.ENSP00000366109,9606.ENSP00000375978,9606.ENSP00000378217,9606.ENSP00000384763,9606.ENSP00000394560",
          "Response to reactive oxygen species/9606.ENSP00000215832,9606.ENSP00000247668,9606.ENSP00000263025,9606.ENSP00000267257,9606.ENSP00000275493,9606.ENSP00000289473,9606.ENSP00000300574,9606.ENSP00000311032,9606.ENSP00000312455,9606.ENSP00000351022,9606.ENSP00000360266,9606.ENSP00000366109,9606.ENSP00000377867,9606.ENSP00000378217,9606.ENSP00000380638,9606.ENSP00000384763,9606.ENSP00000394560",
          "Cellular response to oxidative stress/9606.ENSP00000215832,9606.ENSP00000247668,9606.ENSP00000263025,9606.ENSP00000267257,9606.ENSP00000275493,9606.ENSP00000289473,9606.ENSP00000300574,9606.ENSP00000312455,9606.ENSP00000351022,9606.ENSP00000356505,9606.ENSP00000360266,9606.ENSP00000366109,9606.ENSP00000378217,9606.ENSP00000384763,9606.ENSP00000394560",
          "Cellular response to reactive oxygen species/9606.ENSP00000215832,9606.ENSP00000247668,9606.ENSP00000263025,9606.ENSP00000267257,9606.ENSP00000275493,9606.ENSP00000289473,9606.ENSP00000300574,9606.ENSP00000312455,9606.ENSP00000351022,9606.ENSP00000360266,9606.ENSP00000366109,9606.ENSP00000378217,9606.ENSP00000384763,9606.ENSP00000394560",
          "Mesenchyme development/9606.ENSP00000215832,9606.ENSP00000252999,9606.ENSP00000253861,9606.ENSP00000263025,9606.ENSP00000265441,9606.ENSP00000267101,9606.ENSP00000274063,9606.ENSP00000332973,9606.ENSP00000361467,9606.ENSP00000417335,9606.ENSP00000418754,9606.ENSP00000420321",
          "Gland development/9606.ENSP00000215832,9606.ENSP00000252999,9606.ENSP00000262613,9606.ENSP00000263025,9606.ENSP00000265441,9606.ENSP00000275493,9606.ENSP00000294304,9606.ENSP00000326366,9606.ENSP00000332973,9606.ENSP00000346300,9606.ENSP00000360266,9606.ENSP00000366109,9606.ENSP00000371897,9606.ENSP00000385720,9606.ENSP00000442600",
          "In utero embryonic development/9606.ENSP00000215832,9606.ENSP00000258173,9606.ENSP00000265441,9606.ENSP00000270861,9606.ENSP00000275364,9606.ENSP00000275493,9606.ENSP00000292385,9606.ENSP00000332973,9606.ENSP00000351022,9606.ENSP00000376345,9606.ENSP00000379350,9606.ENSP00000381237,9606.ENSP00000400717,9606.ENSP00000430344",
          "Regulation of intracellular transport/9606.ENSP00000215832,9606.ENSP00000260197,9606.ENSP00000262948,9606.ENSP00000263025,9606.ENSP00000269571,9606.ENSP00000278568,9606.ENSP00000301050,9606.ENSP00000306490,9606.ENSP00000326366,9606.ENSP00000332973,9606.ENSP00000345752,9606.ENSP00000346032,9606.ENSP00000378217,9606.ENSP00000380948,9606.ENSP00000394485,9606.ENSP00000428056,9606.ENSP00000441691",
          "Positive regulation of intracellular transport/9606.ENSP00000215832,9606.ENSP00000260197,9606.ENSP00000269571,9606.ENSP00000278568,9606.ENSP00000301050,9606.ENSP00000306490,9606.ENSP00000326366,9606.ENSP00000332973,9606.ENSP00000345752,9606.ENSP00000346032,9606.ENSP00000378217,9606.ENSP00000380948,9606.ENSP00000394485,9606.ENSP00000428056,9606.ENSP00000441691",
          "Positive regulation of intracellular protein transport/9606.ENSP00000215832,9606.ENSP00000260197,9606.ENSP00000269571,9606.ENSP00000278568,9606.ENSP00000301050,9606.ENSP00000306490,9606.ENSP00000326366,9606.ENSP00000332973,9606.ENSP00000378217,9606.ENSP00000380948,9606.ENSP00000394485,9606.ENSP00000428056,9606.ENSP00000441691",
          "Regulation of intracellular protein transport/9606.ENSP00000215832,9606.ENSP00000260197,9606.ENSP00000269571,9606.ENSP00000278568,9606.ENSP00000301050,9606.ENSP00000306490,9606.ENSP00000326366,9606.ENSP00000332973,9606.ENSP00000378217,9606.ENSP00000380948,9606.ENSP00000394485,9606.ENSP00000428056,9606.ENSP00000441691",
          "Signal transduction by protein phosphorylation/9606.ENSP00000215832,9606.ENSP00000261023,9606.ENSP00000262948,9606.ENSP00000263025,9606.ENSP00000265080,9606.ENSP00000267101,9606.ENSP00000269571,9606.ENSP00000275493,9606.ENSP00000278568,9606.ENSP00000314067,9606.ENSP00000341189,9606.ENSP00000343325,9606.ENSP00000346300,9606.ENSP00000352157,9606.ENSP00000364995,9606.ENSP00000367686,9606.ENSP00000376317,9606.ENSP00000376345,9606.ENSP00000377867,9606.ENSP00000380638,9606.ENSP00000384192,9606.ENSP00000387784,9606.ENSP00000394560,9606.ENSP00000399511,9606.ENSP00000401303,9606.ENSP00000405963,9606.ENSP00000417653,5691.AAZ10596,5691.AAZ11445,5691.EAN76407,5691.EAN77619,5691.EAN80351",
          "MAPK cascade/9606.ENSP00000215832,9606.ENSP00000261023,9606.ENSP00000262948,9606.ENSP00000263025,9606.ENSP00000265080,9606.ENSP00000267101,9606.ENSP00000269571,9606.ENSP00000275493,9606.ENSP00000341189,9606.ENSP00000343325,9606.ENSP00000346300,9606.ENSP00000352157,9606.ENSP00000364995,9606.ENSP00000376317,9606.ENSP00000376345,9606.ENSP00000380638,9606.ENSP00000384192,9606.ENSP00000387784,9606.ENSP00000394560,9606.ENSP00000399511,9606.ENSP00000401303,9606.ENSP00000405963,9606.ENSP00000417653",
          "Peptidyl-serine modification/9606.ENSP00000215832,9606.ENSP00000262948,9606.ENSP00000263025,9606.ENSP00000263431,9606.ENSP00000305355,9606.ENSP00000306124,9606.ENSP00000312262,9606.ENSP00000314067,9606.ENSP00000339740,9606.ENSP00000343325,9606.ENSP00000356832,9606.ENSP00000378217,9606.ENSP00000394560,9606.ENSP00000408695",
          "Peptidyl-serine phosphorylation/9606.ENSP00000215832,9606.ENSP00000262948,9606.ENSP00000263025,9606.ENSP00000263431,9606.ENSP00000305355,9606.ENSP00000306124,9606.ENSP00000312262,9606.ENSP00000314067,9606.ENSP00000339740,9606.ENSP00000343325,9606.ENSP00000356832,9606.ENSP00000378217,9606.ENSP00000394560,9606.ENSP00000408695",
          "Stress-activated protein kinase signaling cascade/9606.ENSP00000215832,9606.ENSP00000262948,9606.ENSP00000263025,9606.ENSP00000278568,9606.ENSP00000314067,9606.ENSP00000343325,9606.ENSP00000346300,9606.ENSP00000352157,9606.ENSP00000367686,9606.ENSP00000376317,9606.ENSP00000377867,9606.ENSP00000394560,9606.ENSP00000399511,9606.ENSP00000417653",
          "Blood coagulation/9606.ENSP00000215832,9606.ENSP00000263025,9606.ENSP00000263431,9606.ENSP00000273047,9606.ENSP00000275364,9606.ENSP00000296511,9606.ENSP00000305355,9606.ENSP00000306124,9606.ENSP00000334448,9606.ENSP00000359719,9606.ENSP00000378217,9606.ENSP00000400717,9606.ENSP00000408695,9606.ENSP00000428056,9606.ENSP00000481878",
          "Coagulation/9606.ENSP00000215832,9606.ENSP00000263025,9606.ENSP00000263431,9606.ENSP00000273047,9606.ENSP00000275364,9606.ENSP00000296511,9606.ENSP00000305355,9606.ENSP00000306124,9606.ENSP00000334448,9606.ENSP00000359719,9606.ENSP00000378217,9606.ENSP00000400717,9606.ENSP00000408695,9606.ENSP00000428056,9606.ENSP00000481878",
          "Hemostasis/9606.ENSP00000215832,9606.ENSP00000263025,9606.ENSP00000263431,9606.ENSP00000273047,9606.ENSP00000275364,9606.ENSP00000296511,9606.ENSP00000305355,9606.ENSP00000306124,9606.ENSP00000334448,9606.ENSP00000359719,9606.ENSP00000378217,9606.ENSP00000400717,9606.ENSP00000408695,9606.ENSP00000428056,9606.ENSP00000481878",
          "Platelet activation/9606.ENSP00000215832,9606.ENSP00000263025,9606.ENSP00000263431,9606.ENSP00000275364,9606.ENSP00000305355,9606.ENSP00000306124,9606.ENSP00000334448,9606.ENSP00000378217,9606.ENSP00000400717,9606.ENSP00000408695,9606.ENSP00000428056,9606.ENSP00000481878",
          "Reproductive structure development/9606.ENSP00000215832,9606.ENSP00000263025,9606.ENSP00000263816,9606.ENSP00000265441,9606.ENSP00000270861,9606.ENSP00000274063,9606.ENSP00000275493,9606.ENSP00000311032,9606.ENSP00000341189,9606.ENSP00000346300,9606.ENSP00000366109,9606.ENSP00000376345,9606.ENSP00000417335,9606.ENSP00000430344",
          "Reproductive system development/9606.ENSP00000215832,9606.ENSP00000263025,9606.ENSP00000263816,9606.ENSP00000265441,9606.ENSP00000270861,9606.ENSP00000274063,9606.ENSP00000275493,9606.ENSP00000311032,9606.ENSP00000341189,9606.ENSP00000346300,9606.ENSP00000366109,9606.ENSP00000376345,9606.ENSP00000417335,9606.ENSP00000430344",
          "Cellular response to external stimulus/9606.ENSP00000215832,9606.ENSP00000263025,9606.ENSP00000274063,9606.ENSP00000275493,9606.ENSP00000301050,9606.ENSP00000306866,9606.ENSP00000360266,9606.ENSP00000376048,9606.ENSP00000377867,9606.ENSP00000385720,9606.ENSP00000386896,9606.ENSP00000442600",
          "Immune response-regulating cell surface receptor signaling pathway/9606.ENSP00000215832,9606.ENSP00000263025,9606.ENSP00000278568,9606.ENSP00000288680,9606.ENSP00000300574,9606.ENSP00000301050,9606.ENSP00000305355,9606.ENSP00000306124,9606.ENSP00000314067,9606.ENSP00000326366,9606.ENSP00000341189,9606.ENSP00000346300,9606.ENSP00000352157,9606.ENSP00000359719,9606.ENSP00000360266,9606.ENSP00000376345,9606.ENSP00000378217,9606.ENSP00000387784,9606.ENSP00000394560,9606.ENSP00000401303,9606.ENSP00000428056",
          "Immune response-regulating signaling pathway/9606.ENSP00000215832,9606.ENSP00000263025,9606.ENSP00000278568,9606.ENSP00000288680,9606.ENSP00000300574,9606.ENSP00000301050,9606.ENSP00000305355,9606.ENSP00000306124,9606.ENSP00000314067,9606.ENSP00000326366,9606.ENSP00000341189,9606.ENSP00000346300,9606.ENSP00000352157,9606.ENSP00000359719,9606.ENSP00000360266,9606.ENSP00000376345,9606.ENSP00000378217,9606.ENSP00000387784,9606.ENSP00000394560,9606.ENSP00000401303,9606.ENSP00000428056",
          "Activation of immune response/9606.ENSP00000215832,9606.ENSP00000263025,9606.ENSP00000278568,9606.ENSP00000288680,9606.ENSP00000300574,9606.ENSP00000301050,9606.ENSP00000305355,9606.ENSP00000306124,9606.ENSP00000314067,9606.ENSP00000326366,9606.ENSP00000341189,9606.ENSP00000346300,9606.ENSP00000359719,9606.ENSP00000375978,9606.ENSP00000376345,9606.ENSP00000378217,9606.ENSP00000428056",
          "Immune response-activating cell surface receptor signaling pathway/9606.ENSP00000215832,9606.ENSP00000263025,9606.ENSP00000278568,9606.ENSP00000288680,9606.ENSP00000300574,9606.ENSP00000301050,9606.ENSP00000305355,9606.ENSP00000306124,9606.ENSP00000314067,9606.ENSP00000326366,9606.ENSP00000341189,9606.ENSP00000346300,9606.ENSP00000359719,9606.ENSP00000376345,9606.ENSP00000378217,9606.ENSP00000428056",
          "Immune response-activating signal transduction/9606.ENSP00000215832,9606.ENSP00000263025,9606.ENSP00000278568,9606.ENSP00000288680,9606.ENSP00000300574,9606.ENSP00000301050,9606.ENSP00000305355,9606.ENSP00000306124,9606.ENSP00000314067,9606.ENSP00000326366,9606.ENSP00000341189,9606.ENSP00000346300,9606.ENSP00000359719,9606.ENSP00000376345,9606.ENSP00000378217,9606.ENSP00000428056",
          "Fc receptor signaling pathway/9606.ENSP00000215832,9606.ENSP00000263025,9606.ENSP00000278568,9606.ENSP00000300574,9606.ENSP00000306124,9606.ENSP00000314067,9606.ENSP00000341189,9606.ENSP00000352157,9606.ENSP00000360266,9606.ENSP00000376345,9606.ENSP00000378217,9606.ENSP00000387784,9606.ENSP00000394560,9606.ENSP00000401303,9606.ENSP00000428056",
          "Fc-epsilon receptor signaling pathway/9606.ENSP00000215832,9606.ENSP00000263025,9606.ENSP00000278568,9606.ENSP00000314067,9606.ENSP00000352157,9606.ENSP00000360266,9606.ENSP00000376345,9606.ENSP00000387784,9606.ENSP00000394560,9606.ENSP00000401303,9606.ENSP00000428056",
          "ERBB signaling pathway/9606.ENSP00000215832,9606.ENSP00000267101,9606.ENSP00000269571,9606.ENSP00000275493,9606.ENSP00000341189,9606.ENSP00000364995,9606.ENSP00000376345,9606.ENSP00000380638,9606.ENSP00000387784,9606.ENSP00000401303,9606.ENSP00000408695,9606.ENSP00000428056",
          "Small gtpase mediated signal transduction/9606.ENSP00000222256,9606.ENSP00000229340,9606.ENSP00000244040,9606.ENSP00000264710,9606.ENSP00000265062,9606.ENSP00000265080,9606.ENSP00000273047,9606.ENSP00000275364,9606.ENSP00000286827,9606.ENSP00000300935,9606.ENSP00000304376,9606.ENSP00000311449,9606.ENSP00000312734,9606.ENSP00000328551,9606.ENSP00000338864,9606.ENSP00000346300,9606.ENSP00000353444,9606.ENSP00000357131,9606.ENSP00000360266,9606.ENSP00000360718,9606.ENSP00000361263,9606.ENSP00000364995,9606.ENSP00000371897,9606.ENSP00000376345,9606.ENSP00000384192,9606.ENSP00000387784,9606.ENSP00000400717,9606.ENSP00000401303,9606.ENSP00000405963,9606.ENSP00000417653,9606.ENSP00000447053,9606.ENSP00000461945,9606.ENSP00000478479,9606.ENSP00000481878,5691.AAZ11866,5691.AAZ13226,5691.EAN77398,5691.EAN78254",
          "Ras protein signal transduction/9606.ENSP00000222256,9606.ENSP00000229340,9606.ENSP00000244040,9606.ENSP00000264710,9606.ENSP00000265062,9606.ENSP00000273047,9606.ENSP00000275364,9606.ENSP00000286827,9606.ENSP00000300935,9606.ENSP00000304376,9606.ENSP00000311449,9606.ENSP00000312734,9606.ENSP00000328551,9606.ENSP00000338864,9606.ENSP00000346300,9606.ENSP00000353444,9606.ENSP00000360266,9606.ENSP00000360718,9606.ENSP00000361263,9606.ENSP00000364995,9606.ENSP00000371897,9606.ENSP00000376345,9606.ENSP00000384192,9606.ENSP00000387784,9606.ENSP00000400717,9606.ENSP00000401303,9606.ENSP00000417653,9606.ENSP00000447053,9606.ENSP00000461945,9606.ENSP00000478479,9606.ENSP00000481878,5691.AAZ11866,5691.AAZ13226,5691.EAN77398,5691.EAN78254",
          "Rab protein signal transduction/9606.ENSP00000222256,9606.ENSP00000229340,9606.ENSP00000244040,9606.ENSP00000264710,9606.ENSP00000265062,9606.ENSP00000273047,9606.ENSP00000300935,9606.ENSP00000304376,9606.ENSP00000311449,9606.ENSP00000312734,9606.ENSP00000328551,9606.ENSP00000353444,9606.ENSP00000360718,9606.ENSP00000447053,9606.ENSP00000461945,9606.ENSP00000478479,5691.AAZ11866,5691.AAZ13226,5691.EAN77398,5691.EAN78254",
          "Protein localization to cell periphery/9606.ENSP00000222256,9606.ENSP00000239666,9606.ENSP00000252999,9606.ENSP00000254976,9606.ENSP00000262613,9606.ENSP00000264710,9606.ENSP00000300935,9606.ENSP00000301050,9606.ENSP00000312734,9606.ENSP00000320025,9606.ENSP00000346032,9606.ENSP00000352157,9606.ENSP00000360718,9606.ENSP00000399511,9606.ENSP00000461945",
          "Regulation of response to wounding/9606.ENSP00000222256,9606.ENSP00000243077,9606.ENSP00000300574,9606.ENSP00000306124,9606.ENSP00000332973,9606.ENSP00000341189,9606.ENSP00000346032,9606.ENSP00000362080,9606.ENSP00000366109,9606.ENSP00000367408,9606.ENSP00000378217,9606.ENSP00000379350,9606.ENSP00000408695",
          "Endomembrane system organization/9606.ENSP00000222256,9606.ENSP00000244040,9606.ENSP00000255224,9606.ENSP00000258301,9606.ENSP00000258654,9606.ENSP00000262613,9606.ENSP00000264710,9606.ENSP00000271234,9606.ENSP00000303145,9606.ENSP00000305355,9606.ENSP00000316476,9606.ENSP00000324804,9606.ENSP00000353444,9606.ENSP00000357307,9606.ENSP00000362080,9606.ENSP00000379709,9606.ENSP00000408695,9606.ENSP00000444201,9606.ENSP00000478479,5691.EAN79384",
          "Protein localization to plasma membrane/9606.ENSP00000222256,9606.ENSP00000252999,9606.ENSP00000262613,9606.ENSP00000264710,9606.ENSP00000300935,9606.ENSP00000301050,9606.ENSP00000312734,9606.ENSP00000320025,9606.ENSP00000346032,9606.ENSP00000360718,9606.ENSP00000399511,9606.ENSP00000461945",
          "Regulation of neurotransmitter transport/9606.ENSP00000222256,9606.ENSP00000255224,9606.ENSP00000261205,9606.ENSP00000263431,9606.ENSP00000273047,9606.ENSP00000305355,9606.ENSP00000320025,9606.ENSP00000357307,9606.ENSP00000360718,9606.ENSP00000367408,9606.ENSP00000379350,9606.ENSP00000444201",
          "Regulation of synaptic vesicle cycle/9606.ENSP00000222256,9606.ENSP00000255224,9606.ENSP00000261205,9606.ENSP00000263431,9606.ENSP00000273047,9606.ENSP00000305355,9606.ENSP00000320025,9606.ENSP00000357307,9606.ENSP00000360718,9606.ENSP00000367408,9606.ENSP00000444201",
          "Regulation of wound healing/9606.ENSP00000222256,9606.ENSP00000300574,9606.ENSP00000306124,9606.ENSP00000332973,9606.ENSP00000341189,9606.ENSP00000346032,9606.ENSP00000362080,9606.ENSP00000366109,9606.ENSP00000367408,9606.ENSP00000378217,9606.ENSP00000379350,9606.ENSP00000408695",
          "Protein folding/9606.ENSP00000228506,9606.ENSP00000229264,9606.ENSP00000232461,9606.ENSP00000247461,9606.ENSP00000261837,9606.ENSP00000262494,9606.ENSP00000305260,9606.ENSP00000312999,9606.ENSP00000320866,9606.ENSP00000334448,9606.ENSP00000343027,9606.ENSP00000358867,9606.ENSP00000478892,9606.ENSP00000481878",
          "Antigen processing and presentation/9606.ENSP00000229340,9606.ENSP00000247461,9606.ENSP00000249647,9606.ENSP00000261023,9606.ENSP00000264710,9606.ENSP00000265062,9606.ENSP00000273130,9606.ENSP00000289473,9606.ENSP00000296181,9606.ENSP00000311449,9606.ENSP00000312734,9606.ENSP00000320866,9606.ENSP00000353444,9606.ENSP00000356505,9606.ENSP00000360718,9606.ENSP00000376297,9606.ENSP00000404190",
          "Cellular response to abiotic stimulus/9606.ENSP00000232461,9606.ENSP00000248572,9606.ENSP00000263025,9606.ENSP00000274063,9606.ENSP00000275493,9606.ENSP00000311032,9606.ENSP00000352157,9606.ENSP00000364586,9606.ENSP00000375978,9606.ENSP00000376048,9606.ENSP00000376345,9606.ENSP00000428056,9606.ENSP00000442600,9606.ENSP00000481878",
          "Cellular response to environmental stimulus/9606.ENSP00000232461,9606.ENSP00000248572,9606.ENSP00000263025,9606.ENSP00000274063,9606.ENSP00000275493,9606.ENSP00000311032,9606.ENSP00000352157,9606.ENSP00000364586,9606.ENSP00000375978,9606.ENSP00000376048,9606.ENSP00000376345,9606.ENSP00000428056,9606.ENSP00000442600,9606.ENSP00000481878",
          "G protein-coupled receptor signaling pathway, coupled to cyclic nucleotide second messenger/9606.ENSP00000232461,9606.ENSP00000262494,9606.ENSP00000262613,9606.ENSP00000275364,9606.ENSP00000306490,9606.ENSP00000312999,9606.ENSP00000334448,9606.ENSP00000343027,9606.ENSP00000358867,9606.ENSP00000359719,9606.ENSP00000366109,9606.ENSP00000366233,9606.ENSP00000376609,9606.ENSP00000400717,9606.ENSP00000478892,9606.ENSP00000481878",
          "Adenylate cyclase-modulating g protein-coupled receptor signaling pathway/9606.ENSP00000232461,9606.ENSP00000262494,9606.ENSP00000262613,9606.ENSP00000275364,9606.ENSP00000306490,9606.ENSP00000312999,9606.ENSP00000334448,9606.ENSP00000343027,9606.ENSP00000358867,9606.ENSP00000359719,9606.ENSP00000366233,9606.ENSP00000376609,9606.ENSP00000400717,9606.ENSP00000478892,9606.ENSP00000481878",
          "Calcium ion homeostasis/9606.ENSP00000236877,9606.ENSP00000243077,9606.ENSP00000261023,9606.ENSP00000288680,9606.ENSP00000294117,9606.ENSP00000301050,9606.ENSP00000305355,9606.ENSP00000320025,9606.ENSP00000320866,9606.ENSP00000326366,9606.ENSP00000332973,9606.ENSP00000339740,9606.ENSP00000380638,9606.ENSP00000384763,9606.ENSP00000400717,9606.ENSP00000430344,9606.ENSP00000448083,9606.ENSP00000478059,9606.ENSP00000481878,5691.AAZ13044",
          "Cellular calcium ion homeostasis/9606.ENSP00000236877,9606.ENSP00000243077,9606.ENSP00000261023,9606.ENSP00000288680,9606.ENSP00000294117,9606.ENSP00000301050,9606.ENSP00000305355,9606.ENSP00000320025,9606.ENSP00000320866,9606.ENSP00000326366,9606.ENSP00000332973,9606.ENSP00000339740,9606.ENSP00000380638,9606.ENSP00000384763,9606.ENSP00000400717,9606.ENSP00000430344,9606.ENSP00000448083,9606.ENSP00000478059,9606.ENSP00000481878,5691.AAZ13044",
          "Cellular divalent inorganic cation homeostasis/9606.ENSP00000236877,9606.ENSP00000243077,9606.ENSP00000261023,9606.ENSP00000288680,9606.ENSP00000294117,9606.ENSP00000301050,9606.ENSP00000305355,9606.ENSP00000320025,9606.ENSP00000320866,9606.ENSP00000326366,9606.ENSP00000332973,9606.ENSP00000339740,9606.ENSP00000380638,9606.ENSP00000384763,9606.ENSP00000400717,9606.ENSP00000430344,9606.ENSP00000448083,9606.ENSP00000478059,9606.ENSP00000481878,5691.AAZ13044",
          "Regulation of cytosolic calcium ion concentration/9606.ENSP00000236877,9606.ENSP00000243077,9606.ENSP00000261023,9606.ENSP00000288680,9606.ENSP00000294117,9606.ENSP00000301050,9606.ENSP00000320025,9606.ENSP00000332973,9606.ENSP00000380638,9606.ENSP00000384763,9606.ENSP00000400717,9606.ENSP00000430344,9606.ENSP00000448083,9606.ENSP00000481878,5691.AAZ13044",
          "Calcium ion transport/9606.ENSP00000236877,9606.ENSP00000251127,9606.ENSP00000261023,9606.ENSP00000301050,9606.ENSP00000305355,9606.ENSP00000320025,9606.ENSP00000326366,9606.ENSP00000346032,9606.ENSP00000355747,9606.ENSP00000356545,9606.ENSP00000367408,9606.ENSP00000371180,9606.ENSP00000377840,9606.ENSP00000384763,9606.ENSP00000419101,9606.ENSP00000430344,9606.ENSP00000438949,9606.ENSP00000448083,9606.ENSP00000478059,5691.AAZ13044,5691.EAN77713",
          "Divalent inorganic cation transport/9606.ENSP00000236877,9606.ENSP00000251127,9606.ENSP00000261023,9606.ENSP00000301050,9606.ENSP00000305355,9606.ENSP00000320025,9606.ENSP00000326366,9606.ENSP00000346032,9606.ENSP00000355747,9606.ENSP00000356545,9606.ENSP00000367408,9606.ENSP00000371180,9606.ENSP00000377840,9606.ENSP00000384763,9606.ENSP00000419101,9606.ENSP00000430344,9606.ENSP00000438949,9606.ENSP00000448083,9606.ENSP00000478059,5691.AAZ13044,5691.EAN77713",
          "Divalent metal ion transport/9606.ENSP00000236877,9606.ENSP00000251127,9606.ENSP00000261023,9606.ENSP00000301050,9606.ENSP00000305355,9606.ENSP00000320025,9606.ENSP00000326366,9606.ENSP00000346032,9606.ENSP00000355747,9606.ENSP00000356545,9606.ENSP00000367408,9606.ENSP00000371180,9606.ENSP00000377840,9606.ENSP00000384763,9606.ENSP00000419101,9606.ENSP00000430344,9606.ENSP00000438949,9606.ENSP00000448083,9606.ENSP00000478059,5691.AAZ13044,5691.EAN77713",
          "Calcium ion transmembrane transport/9606.ENSP00000236877,9606.ENSP00000251127,9606.ENSP00000261023,9606.ENSP00000301050,9606.ENSP00000320025,9606.ENSP00000326366,9606.ENSP00000346032,9606.ENSP00000356545,9606.ENSP00000371180,9606.ENSP00000377840,9606.ENSP00000384763,9606.ENSP00000419101,9606.ENSP00000430344,9606.ENSP00000438949,9606.ENSP00000448083,5691.AAZ13044,5691.EAN77713",
          "Regulation of membrane potential/9606.ENSP00000236877,9606.ENSP00000251127,9606.ENSP00000301050,9606.ENSP00000306490,9606.ENSP00000320025,9606.ENSP00000326366,9606.ENSP00000339740,9606.ENSP00000345752,9606.ENSP00000346534,9606.ENSP00000356545,9606.ENSP00000357068,9606.ENSP00000360266,9606.ENSP00000364586,9606.ENSP00000366233,9606.ENSP00000380638,9606.ENSP00000384763,9606.ENSP00000438949,9606.ENSP00000469689,5691.EAN77713",
          "Regulation of blood circulation/9606.ENSP00000236877,9606.ENSP00000262494,9606.ENSP00000275493,9606.ENSP00000301050,9606.ENSP00000312262,9606.ENSP00000320025,9606.ENSP00000339740,9606.ENSP00000351022,9606.ENSP00000377840,9606.ENSP00000384763,9606.ENSP00000419101,9606.ENSP00000438949,9606.ENSP00000478059",
          "Regulation of heart contraction/9606.ENSP00000236877,9606.ENSP00000262494,9606.ENSP00000301050,9606.ENSP00000312262,9606.ENSP00000320025,9606.ENSP00000339740,9606.ENSP00000351022,9606.ENSP00000377840,9606.ENSP00000384763,9606.ENSP00000419101,9606.ENSP00000438949,9606.ENSP00000478059",
          "Establishment or maintenance of cell polarity/9606.ENSP00000239666,9606.ENSP00000262613,9606.ENSP00000264710,9606.ENSP00000278568,9606.ENSP00000300574,9606.ENSP00000341189,9606.ENSP00000346300,9606.ENSP00000361467,9606.ENSP00000379350,9606.ENSP00000385720,9606.ENSP00000418754",
          "Receptor-mediated endocytosis/9606.ENSP00000243077,9606.ENSP00000247461,9606.ENSP00000253193,9606.ENSP00000254976,9606.ENSP00000260197,9606.ENSP00000263816,9606.ENSP00000271234,9606.ENSP00000273047,9606.ENSP00000312262,9606.ENSP00000317578,9606.ENSP00000320866,9606.ENSP00000360798,9606.ENSP00000363827,9606.ENSP00000371532,9606.ENSP00000376345,9606.ENSP00000379350,9606.ENSP00000380948,9606.ENSP00000417653,9606.ENSP00000441691,9606.ENSP00000454071,9606.ENSP00000461945",
          "Regulation of neuron death/9606.ENSP00000243077,9606.ENSP00000247668,9606.ENSP00000260197,9606.ENSP00000263431,9606.ENSP00000264657,9606.ENSP00000267101,9606.ENSP00000311032,9606.ENSP00000326366,9606.ENSP00000360266,9606.ENSP00000376048,9606.ENSP00000380638,9606.ENSP00000380948,9606.ENSP00000441691",
          "Receptor metabolic process/9606.ENSP00000243077,9606.ENSP00000254976,9606.ENSP00000260197,9606.ENSP00000273047,9606.ENSP00000312262,9606.ENSP00000317578,9606.ENSP00000360798,9606.ENSP00000371532,9606.ENSP00000376345,9606.ENSP00000379350,9606.ENSP00000380948,9606.ENSP00000461945",
          "Regulation of hormone secretion/9606.ENSP00000243077,9606.ENSP00000254976,9606.ENSP00000275493,9606.ENSP00000276052,9606.ENSP00000281456,9606.ENSP00000286827,9606.ENSP00000294304,9606.ENSP00000306124,9606.ENSP00000312734,9606.ENSP00000356545,9606.ENSP00000360671,9606.ENSP00000362080,9606.ENSP00000366109,9606.ENSP00000408695,9606.ENSP00000444201",
          "Regulation of peptide hormone secretion/9606.ENSP00000243077,9606.ENSP00000254976,9606.ENSP00000275493,9606.ENSP00000276052,9606.ENSP00000281456,9606.ENSP00000286827,9606.ENSP00000294304,9606.ENSP00000306124,9606.ENSP00000312734,9606.ENSP00000356545,9606.ENSP00000360671,9606.ENSP00000362080,9606.ENSP00000408695,9606.ENSP00000444201",
          "Regulation of insulin secretion/9606.ENSP00000243077,9606.ENSP00000254976,9606.ENSP00000276052,9606.ENSP00000281456,9606.ENSP00000286827,9606.ENSP00000294304,9606.ENSP00000306124,9606.ENSP00000356545,9606.ENSP00000360671,9606.ENSP00000362080,9606.ENSP00000408695,9606.ENSP00000444201",
          "Negative regulation of cell development/9606.ENSP00000243077,9606.ENSP00000255224,9606.ENSP00000260197,9606.ENSP00000264657,9606.ENSP00000278568,9606.ENSP00000320866,9606.ENSP00000326366,9606.ENSP00000341189,9606.ENSP00000367888,9606.ENSP00000376048,9606.ENSP00000454071,9606.ENSP00000459615",
          "Negative regulation of nervous system development/9606.ENSP00000243077,9606.ENSP00000255224,9606.ENSP00000260197,9606.ENSP00000264657,9606.ENSP00000320866,9606.ENSP00000326366,9606.ENSP00000341189,9606.ENSP00000345752,9606.ENSP00000359719,9606.ENSP00000367888,9606.ENSP00000376048,9606.ENSP00000417335,9606.ENSP00000454071,9606.ENSP00000459615",
          "Negative regulation of neurogenesis/9606.ENSP00000243077,9606.ENSP00000255224,9606.ENSP00000260197,9606.ENSP00000264657,9606.ENSP00000320866,9606.ENSP00000326366,9606.ENSP00000341189,9606.ENSP00000367888,9606.ENSP00000376048,9606.ENSP00000454071,9606.ENSP00000459615",
          "Regulation of cell growth/9606.ENSP00000243077,9606.ENSP00000255224,9606.ENSP00000261205,9606.ENSP00000269571,9606.ENSP00000274063,9606.ENSP00000275493,9606.ENSP00000278568,9606.ENSP00000292385,9606.ENSP00000300574,9606.ENSP00000324804,9606.ENSP00000332973,9606.ENSP00000338864,9606.ENSP00000339740,9606.ENSP00000346300,9606.ENSP00000356236,9606.ENSP00000356832,9606.ENSP00000367686,9606.ENSP00000375727,9606.ENSP00000376048,9606.ENSP00000380638,9606.ENSP00000417653",
          "Positive regulation of cell growth/9606.ENSP00000243077,9606.ENSP00000255224,9606.ENSP00000261205,9606.ENSP00000269571,9606.ENSP00000274063,9606.ENSP00000275493,9606.ENSP00000278568,9606.ENSP00000292385,9606.ENSP00000300574,9606.ENSP00000356236,9606.ENSP00000380638,9606.ENSP00000417653",
          "Positive regulation of catabolic process/9606.ENSP00000243077,9606.ENSP00000260197,9606.ENSP00000263025,9606.ENSP00000263816,9606.ENSP00000265062,9606.ENSP00000306124,9606.ENSP00000321330,9606.ENSP00000326366,9606.ENSP00000341189,9606.ENSP00000358867,9606.ENSP00000377836,9606.ENSP00000378217,9606.ENSP00000380638,9606.ENSP00000394560,9606.ENSP00000448083,9606.ENSP00000454071",
          "Regulation of protein catabolic process/9606.ENSP00000243077,9606.ENSP00000260197,9606.ENSP00000263431,9606.ENSP00000263816,9606.ENSP00000265062,9606.ENSP00000275364,9606.ENSP00000275493,9606.ENSP00000321330,9606.ENSP00000326366,9606.ENSP00000332973,9606.ENSP00000341189,9606.ENSP00000346032,9606.ENSP00000377836,9606.ENSP00000380638,9606.ENSP00000394560,9606.ENSP00000454071",
          "Positive regulation of protein catabolic process/9606.ENSP00000243077,9606.ENSP00000260197,9606.ENSP00000263816,9606.ENSP00000265062,9606.ENSP00000321330,9606.ENSP00000326366,9606.ENSP00000341189,9606.ENSP00000377836,9606.ENSP00000380638,9606.ENSP00000394560,9606.ENSP00000454071",
          "Blood vessel morphogenesis/9606.ENSP00000243077,9606.ENSP00000261023,9606.ENSP00000263816,9606.ENSP00000274063,9606.ENSP00000293379,9606.ENSP00000294304,9606.ENSP00000304945,9606.ENSP00000341189,9606.ENSP00000346032,9606.ENSP00000360266,9606.ENSP00000363827,9606.ENSP00000379350,9606.ENSP00000380638,9606.ENSP00000387784,9606.ENSP00000400717,9606.ENSP00000401303,9606.ENSP00000408695,9606.ENSP00000420321,9606.ENSP00000430344,9606.ENSP00000442600,9606.ENSP00000454071",
          "Positive regulation of cytosolic calcium ion concentration/9606.ENSP00000243077,9606.ENSP00000261023,9606.ENSP00000288680,9606.ENSP00000294117,9606.ENSP00000301050,9606.ENSP00000320025,9606.ENSP00000380638,9606.ENSP00000384763,9606.ENSP00000400717,9606.ENSP00000430344,9606.ENSP00000448083,9606.ENSP00000481878,5691.AAZ13044",
          "Regulation of actin filament-based process/9606.ENSP00000243077,9606.ENSP00000262428,9606.ENSP00000267257,9606.ENSP00000276297,9606.ENSP00000278568,9606.ENSP00000292385,9606.ENSP00000300574,9606.ENSP00000306124,9606.ENSP00000314067,9606.ENSP00000332973,9606.ENSP00000339740,9606.ENSP00000351022,9606.ENSP00000357131,9606.ENSP00000361009,9606.ENSP00000376345,9606.ENSP00000378217,9606.ENSP00000380638,9606.ENSP00000385720,9606.ENSP00000417653,9606.ENSP00000428056",
          "Regulation of actin cytoskeleton organization/9606.ENSP00000243077,9606.ENSP00000262428,9606.ENSP00000267257,9606.ENSP00000276297,9606.ENSP00000278568,9606.ENSP00000292385,9606.ENSP00000300574,9606.ENSP00000306124,9606.ENSP00000314067,9606.ENSP00000332973,9606.ENSP00000351022,9606.ENSP00000357131,9606.ENSP00000361009,9606.ENSP00000376345,9606.ENSP00000378217,9606.ENSP00000380638,9606.ENSP00000385720,9606.ENSP00000417653,9606.ENSP00000428056",
          "Regulation of cellular protein catabolic process/9606.ENSP00000243077,9606.ENSP00000263431,9606.ENSP00000263816,9606.ENSP00000275364,9606.ENSP00000321330,9606.ENSP00000326366,9606.ENSP00000341189,9606.ENSP00000346032,9606.ENSP00000380638,9606.ENSP00000394560,9606.ENSP00000454071",
          "Forebrain development/9606.ENSP00000243077,9606.ENSP00000263816,9606.ENSP00000264908,9606.ENSP00000275493,9606.ENSP00000276297,9606.ENSP00000300574,9606.ENSP00000311032,9606.ENSP00000326366,9606.ENSP00000346300,9606.ENSP00000360021,9606.ENSP00000384763,9606.ENSP00000385720,9606.ENSP00000417335,9606.ENSP00000420321,9606.ENSP00000441691,9606.ENSP00000459615",
          "Response to peptide/9606.ENSP00000243077,9606.ENSP00000264657,9606.ENSP00000264710,9606.ENSP00000267257,9606.ENSP00000278568,9606.ENSP00000294304,9606.ENSP00000300574,9606.ENSP00000300935,9606.ENSP00000312455,9606.ENSP00000312734,9606.ENSP00000315768,9606.ENSP00000326366,9606.ENSP00000341189,9606.ENSP00000343027,9606.ENSP00000359719,9606.ENSP00000360293,9606.ENSP00000366109,9606.ENSP00000376345,9606.ENSP00000377840,9606.ENSP00000378217,9606.ENSP00000387784,9606.ENSP00000388566,9606.ENSP00000401303,9606.ENSP00000428056,9606.ENSP00000442600,9606.ENSP00000461945",
          "Cellular response to peptide/9606.ENSP00000243077,9606.ENSP00000264657,9606.ENSP00000264710,9606.ENSP00000267257,9606.ENSP00000278568,9606.ENSP00000300574,9606.ENSP00000300935,9606.ENSP00000312455,9606.ENSP00000312734,9606.ENSP00000326366,9606.ENSP00000341189,9606.ENSP00000359719,9606.ENSP00000360293,9606.ENSP00000376345,9606.ENSP00000377840,9606.ENSP00000378217,9606.ENSP00000387784,9606.ENSP00000388566,9606.ENSP00000401303,9606.ENSP00000428056,9606.ENSP00000461945",
          "Telencephalon development/9606.ENSP00000243077,9606.ENSP00000264908,9606.ENSP00000275493,9606.ENSP00000300574,9606.ENSP00000311032,9606.ENSP00000326366,9606.ENSP00000346300,9606.ENSP00000360021,9606.ENSP00000384763,9606.ENSP00000417335,9606.ENSP00000420321,9606.ENSP00000459615",
          "Negative regulation of cell adhesion/9606.ENSP00000243077,9606.ENSP00000267101,9606.ENSP00000269571,9606.ENSP00000276297,9606.ENSP00000311032,9606.ENSP00000341189,9606.ENSP00000361467,9606.ENSP00000366109,9606.ENSP00000367408,9606.ENSP00000378217,9606.ENSP00000428056",
          "Regulation of cell morphogenesis involved in differentiation/9606.ENSP00000243077,9606.ENSP00000278568,9606.ENSP00000286827,9606.ENSP00000292385,9606.ENSP00000300574,9606.ENSP00000320866,9606.ENSP00000326366,9606.ENSP00000341189,9606.ENSP00000346300,9606.ENSP00000361009,9606.ENSP00000367888,9606.ENSP00000376048,9606.ENSP00000385720,9606.ENSP00000399511,9606.ENSP00000417335,9606.ENSP00000417653,9606.ENSP00000420321",
          "Positive regulation of cell morphogenesis involved in differentiation/9606.ENSP00000243077,9606.ENSP00000278568,9606.ENSP00000286827,9606.ENSP00000292385,9606.ENSP00000300574,9606.ENSP00000320866,9606.ENSP00000346300,9606.ENSP00000361009,9606.ENSP00000417335,9606.ENSP00000417653,9606.ENSP00000420321",
          "Regulation of axonogenesis/9606.ENSP00000243077,9606.ENSP00000278568,9606.ENSP00000286827,9606.ENSP00000292385,9606.ENSP00000326366,9606.ENSP00000341189,9606.ENSP00000367888,9606.ENSP00000376048,9606.ENSP00000385720,9606.ENSP00000417335,9606.ENSP00000417653,9606.ENSP00000420321",
          "Antigen processing and presentation of exogenous antigen/9606.ENSP00000247461,9606.ENSP00000249647,9606.ENSP00000261023,9606.ENSP00000265062,9606.ENSP00000273130,9606.ENSP00000289473,9606.ENSP00000296181,9606.ENSP00000320866,9606.ENSP00000356505,9606.ENSP00000376297,9606.ENSP00000404190",
          "Antigen processing and presentation of exogenous peptide antigen/9606.ENSP00000247461,9606.ENSP00000249647,9606.ENSP00000261023,9606.ENSP00000265062,9606.ENSP00000273130,9606.ENSP00000289473,9606.ENSP00000296181,9606.ENSP00000320866,9606.ENSP00000356505,9606.ENSP00000376297,9606.ENSP00000404190",
          "Antigen processing and presentation of peptide antigen/9606.ENSP00000247461,9606.ENSP00000249647,9606.ENSP00000261023,9606.ENSP00000265062,9606.ENSP00000273130,9606.ENSP00000289473,9606.ENSP00000296181,9606.ENSP00000320866,9606.ENSP00000356505,9606.ENSP00000376297,9606.ENSP00000404190",
          "Apoptotic signaling pathway/9606.ENSP00000247668,9606.ENSP00000261023,9606.ENSP00000267101,9606.ENSP00000306866,9606.ENSP00000311032,9606.ENSP00000312455,9606.ENSP00000332973,9606.ENSP00000360266,9606.ENSP00000364586,9606.ENSP00000378217,9606.ENSP00000388566,9606.ENSP00000408695,9606.ENSP00000428056,9606.ENSP00000441691",
          "Regulation of jnk cascade/9606.ENSP00000247668,9606.ENSP00000262395,9606.ENSP00000274063,9606.ENSP00000275493,9606.ENSP00000278568,9606.ENSP00000286827,9606.ENSP00000289473,9606.ENSP00000343325,9606.ENSP00000361263,9606.ENSP00000376317,9606.ENSP00000380638,9606.ENSP00000399511,9606.ENSP00000417653",
          "Golgi vesicle transport/9606.ENSP00000249647,9606.ENSP00000253861,9606.ENSP00000258301,9606.ENSP00000258654,9606.ENSP00000260197,9606.ENSP00000260762,9606.ENSP00000264710,9606.ENSP00000273130,9606.ENSP00000300935,9606.ENSP00000303145,9606.ENSP00000311449,9606.ENSP00000312734,9606.ENSP00000360798,9606.ENSP00000370695,9606.ENSP00000376297,9606.ENSP00000404190,9606.ENSP00000461945,5691.EAN79384",
          "Regulation of ion transmembrane transport/9606.ENSP00000251127,9606.ENSP00000261837,9606.ENSP00000262613,9606.ENSP00000301050,9606.ENSP00000306124,9606.ENSP00000320025,9606.ENSP00000326366,9606.ENSP00000339740,9606.ENSP00000346534,9606.ENSP00000355747,9606.ENSP00000356545,9606.ENSP00000357068,9606.ENSP00000364586,9606.ENSP00000371180,9606.ENSP00000376432,9606.ENSP00000377840,9606.ENSP00000379350,9606.ENSP00000380638,9606.ENSP00000384763,9606.ENSP00000394485,9606.ENSP00000405963,9606.ENSP00000419101,9606.ENSP00000438949,9606.ENSP00000448083,9606.ENSP00000469689,9606.ENSP00000478059,5691.EAN77713",
          "Morphogenesis of an epithelium/9606.ENSP00000252999,9606.ENSP00000262613,9606.ENSP00000263816,9606.ENSP00000264710,9606.ENSP00000274063,9606.ENSP00000275493,9606.ENSP00000276297,9606.ENSP00000278568,9606.ENSP00000293379,9606.ENSP00000294304,9606.ENSP00000311032,9606.ENSP00000324532,9606.ENSP00000326366,9606.ENSP00000332973,9606.ENSP00000345808,9606.ENSP00000359719,9606.ENSP00000361467,9606.ENSP00000376345,9606.ENSP00000377836,9606.ENSP00000378332,9606.ENSP00000385720,9606.ENSP00000387784,9606.ENSP00000400717,9606.ENSP00000418754,9606.ENSP00000442600",
          "Epithelial tube morphogenesis/9606.ENSP00000252999,9606.ENSP00000263816,9606.ENSP00000274063,9606.ENSP00000276297,9606.ENSP00000278568,9606.ENSP00000294304,9606.ENSP00000311032,9606.ENSP00000326366,9606.ENSP00000332973,9606.ENSP00000359719,9606.ENSP00000361467,9606.ENSP00000377836,9606.ENSP00000385720,9606.ENSP00000400717,9606.ENSP00000418754,9606.ENSP00000442600",
          "Ameboidal-type cell migration/9606.ENSP00000252999,9606.ENSP00000267082,9606.ENSP00000267257,9606.ENSP00000294304,9606.ENSP00000341189,9606.ENSP00000343325,9606.ENSP00000377836,9606.ENSP00000378332,9606.ENSP00000379350,9606.ENSP00000380638,9606.ENSP00000380948,9606.ENSP00000420321,9606.ENSP00000459615",
          "Negative regulation of phosphorylation/9606.ENSP00000260197,9606.ENSP00000262613,9606.ENSP00000264657,9606.ENSP00000274063,9606.ENSP00000294304,9606.ENSP00000311032,9606.ENSP00000314067,9606.ENSP00000324804,9606.ENSP00000326366,9606.ENSP00000343325,9606.ENSP00000346300,9606.ENSP00000360266,9606.ENSP00000361263,9606.ENSP00000376297,9606.ENSP00000376317,9606.ENSP00000378217,9606.ENSP00000384763,9606.ENSP00000442600",
          "Negative regulation of protein phosphorylation/9606.ENSP00000260197,9606.ENSP00000262613,9606.ENSP00000274063,9606.ENSP00000294304,9606.ENSP00000311032,9606.ENSP00000314067,9606.ENSP00000324804,9606.ENSP00000326366,9606.ENSP00000343325,9606.ENSP00000346300,9606.ENSP00000360266,9606.ENSP00000361263,9606.ENSP00000376317,9606.ENSP00000378217,9606.ENSP00000384763,9606.ENSP00000442600",
          "Negative regulation of kinase activity/9606.ENSP00000260197,9606.ENSP00000274063,9606.ENSP00000294304,9606.ENSP00000311032,9606.ENSP00000314067,9606.ENSP00000324804,9606.ENSP00000326366,9606.ENSP00000343325,9606.ENSP00000376317,9606.ENSP00000378217,9606.ENSP00000384763",
          "Negative regulation of protein kinase activity/9606.ENSP00000260197,9606.ENSP00000274063,9606.ENSP00000294304,9606.ENSP00000311032,9606.ENSP00000314067,9606.ENSP00000324804,9606.ENSP00000326366,9606.ENSP00000343325,9606.ENSP00000376317,9606.ENSP00000378217,9606.ENSP00000384763",
          "Negative regulation of transferase activity/9606.ENSP00000260197,9606.ENSP00000274063,9606.ENSP00000294304,9606.ENSP00000311032,9606.ENSP00000314067,9606.ENSP00000324804,9606.ENSP00000326366,9606.ENSP00000343325,9606.ENSP00000376317,9606.ENSP00000378217,9606.ENSP00000384763",
          "Viral life cycle/9606.ENSP00000261023,9606.ENSP00000265062,9606.ENSP00000267082,9606.ENSP00000273047,9606.ENSP00000275493,9606.ENSP00000293379,9606.ENSP00000296181,9606.ENSP00000312262,9606.ENSP00000360798,9606.ENSP00000379350,9606.ENSP00000442600,9606.ENSP00000454071",
          "Interaction with host/9606.ENSP00000261023,9606.ENSP00000265062,9606.ENSP00000267082,9606.ENSP00000275493,9606.ENSP00000293379,9606.ENSP00000296181,9606.ENSP00000312262,9606.ENSP00000360798,9606.ENSP00000376345,9606.ENSP00000379350,9606.ENSP00000442600,9606.ENSP00000454071",
          "Movement in host environment/9606.ENSP00000261023,9606.ENSP00000265062,9606.ENSP00000267082,9606.ENSP00000275493,9606.ENSP00000293379,9606.ENSP00000296181,9606.ENSP00000312262,9606.ENSP00000360798,9606.ENSP00000376345,9606.ENSP00000379350,9606.ENSP00000442600,9606.ENSP00000454071",
          "Entry into host/9606.ENSP00000261023,9606.ENSP00000267082,9606.ENSP00000275493,9606.ENSP00000293379,9606.ENSP00000296181,9606.ENSP00000312262,9606.ENSP00000360798,9606.ENSP00000376345,9606.ENSP00000379350,9606.ENSP00000442600,9606.ENSP00000454071",
          "Angiogenesis/9606.ENSP00000261023,9606.ENSP00000274063,9606.ENSP00000293379,9606.ENSP00000304945,9606.ENSP00000341189,9606.ENSP00000346032,9606.ENSP00000360266,9606.ENSP00000363827,9606.ENSP00000379350,9606.ENSP00000380638,9606.ENSP00000400717,9606.ENSP00000401303,9606.ENSP00000408695,9606.ENSP00000420321,9606.ENSP00000430344,9606.ENSP00000442600",
          "Regulation of metal ion transport/9606.ENSP00000261837,9606.ENSP00000262613,9606.ENSP00000301050,9606.ENSP00000306124,9606.ENSP00000312999,9606.ENSP00000320025,9606.ENSP00000339740,9606.ENSP00000355747,9606.ENSP00000367408,9606.ENSP00000377840,9606.ENSP00000379350,9606.ENSP00000380638,9606.ENSP00000384763,9606.ENSP00000438949,9606.ENSP00000478059",
          "Regulation of cation transmembrane transport/9606.ENSP00000261837,9606.ENSP00000262613,9606.ENSP00000301050,9606.ENSP00000306124,9606.ENSP00000320025,9606.ENSP00000339740,9606.ENSP00000355747,9606.ENSP00000377840,9606.ENSP00000379350,9606.ENSP00000380638,9606.ENSP00000384763,9606.ENSP00000394485,9606.ENSP00000405963,9606.ENSP00000438949,9606.ENSP00000469689,9606.ENSP00000478059",
          "Regulation of transporter activity/9606.ENSP00000261837,9606.ENSP00000262613,9606.ENSP00000301050,9606.ENSP00000306124,9606.ENSP00000320025,9606.ENSP00000339740,9606.ENSP00000356832,9606.ENSP00000377840,9606.ENSP00000378217,9606.ENSP00000379350,9606.ENSP00000380638,9606.ENSP00000394485,9606.ENSP00000405963,9606.ENSP00000438949,9606.ENSP00000469689,9606.ENSP00000478059",
          "Regulation of ion transmembrane transporter activity/9606.ENSP00000261837,9606.ENSP00000262613,9606.ENSP00000301050,9606.ENSP00000306124,9606.ENSP00000320025,9606.ENSP00000339740,9606.ENSP00000377840,9606.ENSP00000379350,9606.ENSP00000380638,9606.ENSP00000394485,9606.ENSP00000405963,9606.ENSP00000438949,9606.ENSP00000469689,9606.ENSP00000478059",
          "Regulation of transmembrane transporter activity/9606.ENSP00000261837,9606.ENSP00000262613,9606.ENSP00000301050,9606.ENSP00000306124,9606.ENSP00000320025,9606.ENSP00000339740,9606.ENSP00000377840,9606.ENSP00000379350,9606.ENSP00000380638,9606.ENSP00000394485,9606.ENSP00000405963,9606.ENSP00000438949,9606.ENSP00000469689,9606.ENSP00000478059",
          "Positive regulation of gtpase activity/9606.ENSP00000261837,9606.ENSP00000269571,9606.ENSP00000276297,9606.ENSP00000286827,9606.ENSP00000300574,9606.ENSP00000338864,9606.ENSP00000345808,9606.ENSP00000346300,9606.ENSP00000351333,9606.ENSP00000357131,9606.ENSP00000360266,9606.ENSP00000361009,9606.ENSP00000361263,9606.ENSP00000368678,9606.ENSP00000371897,9606.ENSP00000379350,9606.ENSP00000379709,9606.ENSP00000380638,9606.ENSP00000384192,9606.ENSP00000385720,9606.ENSP00000386896,9606.ENSP00000387784,9606.ENSP00000404190,9606.ENSP00000405963,9606.ENSP00000459615",
          "Regulation of calcium ion transport/9606.ENSP00000261837,9606.ENSP00000301050,9606.ENSP00000306124,9606.ENSP00000312999,9606.ENSP00000320025,9606.ENSP00000339740,9606.ENSP00000355747,9606.ENSP00000367408,9606.ENSP00000377840,9606.ENSP00000380638,9606.ENSP00000384763,9606.ENSP00000438949,9606.ENSP00000478059",
          "Regulation of calcium ion transmembrane transport/9606.ENSP00000261837,9606.ENSP00000301050,9606.ENSP00000306124,9606.ENSP00000320025,9606.ENSP00000339740,9606.ENSP00000355747,9606.ENSP00000377840,9606.ENSP00000380638,9606.ENSP00000384763,9606.ENSP00000438949,9606.ENSP00000478059",
          "Regulation of cation channel activity/9606.ENSP00000261837,9606.ENSP00000301050,9606.ENSP00000320025,9606.ENSP00000339740,9606.ENSP00000377840,9606.ENSP00000379350,9606.ENSP00000380638,9606.ENSP00000405963,9606.ENSP00000438949,9606.ENSP00000469689,9606.ENSP00000478059",
          "Regulation of supramolecular fiber organization/9606.ENSP00000262428,9606.ENSP00000267257,9606.ENSP00000276297,9606.ENSP00000278568,9606.ENSP00000292385,9606.ENSP00000306124,9606.ENSP00000314067,9606.ENSP00000326366,9606.ENSP00000332973,9606.ENSP00000351022,9606.ENSP00000357131,9606.ENSP00000361009,9606.ENSP00000363827,9606.ENSP00000376345,9606.ENSP00000378217,9606.ENSP00000380638,9606.ENSP00000385720,9606.ENSP00000417653,9606.ENSP00000428056,9606.ENSP00000454071",
          "Regulation of actin filament organization/9606.ENSP00000262428,9606.ENSP00000267257,9606.ENSP00000276297,9606.ENSP00000278568,9606.ENSP00000292385,9606.ENSP00000306124,9606.ENSP00000314067,9606.ENSP00000332973,9606.ENSP00000351022,9606.ENSP00000357131,9606.ENSP00000361009,9606.ENSP00000376345,9606.ENSP00000378217,9606.ENSP00000380638,9606.ENSP00000385720,9606.ENSP00000417653,9606.ENSP00000428056",
          "Cell surface receptor signaling pathway involved in cell-cell signaling/9606.ENSP00000262494,9606.ENSP00000262613,9606.ENSP00000265441,9606.ENSP00000273047,9606.ENSP00000274063,9606.ENSP00000286827,9606.ENSP00000294304,9606.ENSP00000306490,9606.ENSP00000334448,9606.ENSP00000366233,9606.ENSP00000367888,9606.ENSP00000369390,9606.ENSP00000376609,9606.ENSP00000378332,9606.ENSP00000399511,9606.ENSP00000418754,9606.ENSP00000441691,9606.ENSP00000481878",
          "Cell-cell signaling by wnt/9606.ENSP00000262494,9606.ENSP00000262613,9606.ENSP00000265441,9606.ENSP00000273047,9606.ENSP00000274063,9606.ENSP00000286827,9606.ENSP00000294304,9606.ENSP00000334448,9606.ENSP00000367888,9606.ENSP00000369390,9606.ENSP00000376609,9606.ENSP00000378332,9606.ENSP00000399511,9606.ENSP00000418754,9606.ENSP00000481878",
          "Wnt signaling pathway/9606.ENSP00000262494,9606.ENSP00000262613,9606.ENSP00000265441,9606.ENSP00000273047,9606.ENSP00000274063,9606.ENSP00000286827,9606.ENSP00000294304,9606.ENSP00000334448,9606.ENSP00000367888,9606.ENSP00000369390,9606.ENSP00000376609,9606.ENSP00000378332,9606.ENSP00000399511,9606.ENSP00000418754,9606.ENSP00000481878",
          "Muscle system process/9606.ENSP00000262494,9606.ENSP00000267257,9606.ENSP00000286827,9606.ENSP00000296181,9606.ENSP00000312262,9606.ENSP00000312455,9606.ENSP00000320025,9606.ENSP00000339740,9606.ENSP00000347852,9606.ENSP00000351022,9606.ENSP00000360293,9606.ENSP00000384763",
          "Regulation of protein kinase b signaling/9606.ENSP00000262613,9606.ENSP00000263816,9606.ENSP00000267101,9606.ENSP00000269571,9606.ENSP00000275493,9606.ENSP00000341189,9606.ENSP00000361263,9606.ENSP00000376345,9606.ENSP00000379350,9606.ENSP00000428056,9606.ENSP00000442600",
          "Regulation of cell shape/9606.ENSP00000262613,9606.ENSP00000275364,9606.ENSP00000276297,9606.ENSP00000300574,9606.ENSP00000341189,9606.ENSP00000351022,9606.ENSP00000357131,9606.ENSP00000366109,9606.ENSP00000380638,9606.ENSP00000380948,9606.ENSP00000385720,9606.ENSP00000400717,9606.ENSP00000442600,9606.ENSP00000452120",
          "Protein autophosphorylation/9606.ENSP00000262948,9606.ENSP00000263025,9606.ENSP00000263431,9606.ENSP00000269571,9606.ENSP00000275493,9606.ENSP00000278568,9606.ENSP00000314067,9606.ENSP00000339740,9606.ENSP00000341189,9606.ENSP00000376317,9606.ENSP00000376609,9606.ENSP00000377867,9606.ENSP00000380638,9606.ENSP00000399511",
          "Heart morphogenesis/9606.ENSP00000263816,9606.ENSP00000265441,9606.ENSP00000274063,9606.ENSP00000276297,9606.ENSP00000326366,9606.ENSP00000332973,9606.ENSP00000341189,9606.ENSP00000346300,9606.ENSP00000351022,9606.ENSP00000360266,9606.ENSP00000387784,9606.ENSP00000417335,9606.ENSP00000420321",
          "Response to peptide hormone/9606.ENSP00000264657,9606.ENSP00000264710,9606.ENSP00000267257,9606.ENSP00000278568,9606.ENSP00000294304,9606.ENSP00000300574,9606.ENSP00000300935,9606.ENSP00000312455,9606.ENSP00000312734,9606.ENSP00000315768,9606.ENSP00000341189,9606.ENSP00000343027,9606.ENSP00000359719,9606.ENSP00000360293,9606.ENSP00000366109,9606.ENSP00000376345,9606.ENSP00000378217,9606.ENSP00000387784,9606.ENSP00000401303,9606.ENSP00000428056,9606.ENSP00000442600,9606.ENSP00000461945",
          "Cellular response to peptide hormone stimulus/9606.ENSP00000264657,9606.ENSP00000264710,9606.ENSP00000267257,9606.ENSP00000278568,9606.ENSP00000300574,9606.ENSP00000300935,9606.ENSP00000312455,9606.ENSP00000312734,9606.ENSP00000341189,9606.ENSP00000359719,9606.ENSP00000360293,9606.ENSP00000376345,9606.ENSP00000378217,9606.ENSP00000387784,9606.ENSP00000401303,9606.ENSP00000428056,9606.ENSP00000461945",
          "Regulation of vasculature development/9606.ENSP00000264657,9606.ENSP00000264908,9606.ENSP00000269571,9606.ENSP00000274063,9606.ENSP00000293379,9606.ENSP00000305355,9606.ENSP00000312455,9606.ENSP00000363827,9606.ENSP00000366109,9606.ENSP00000379350,9606.ENSP00000380638,9606.ENSP00000380948,9606.ENSP00000401303,9606.ENSP00000408695,9606.ENSP00000478059",
          "Regulation of angiogenesis/9606.ENSP00000264657,9606.ENSP00000264908,9606.ENSP00000269571,9606.ENSP00000274063,9606.ENSP00000293379,9606.ENSP00000305355,9606.ENSP00000363827,9606.ENSP00000366109,9606.ENSP00000379350,9606.ENSP00000380638,9606.ENSP00000380948,9606.ENSP00000401303,9606.ENSP00000408695,9606.ENSP00000478059",
          "Positive regulation of vasculature development/9606.ENSP00000264657,9606.ENSP00000264908,9606.ENSP00000274063,9606.ENSP00000293379,9606.ENSP00000305355,9606.ENSP00000312455,9606.ENSP00000366109,9606.ENSP00000379350,9606.ENSP00000380638,9606.ENSP00000380948,9606.ENSP00000408695,9606.ENSP00000478059",
          "Positive regulation of angiogenesis/9606.ENSP00000264657,9606.ENSP00000264908,9606.ENSP00000274063,9606.ENSP00000293379,9606.ENSP00000305355,9606.ENSP00000366109,9606.ENSP00000379350,9606.ENSP00000380638,9606.ENSP00000380948,9606.ENSP00000408695,9606.ENSP00000478059",
          "Regulation of epithelial cell proliferation/9606.ENSP00000264657,9606.ENSP00000265441,9606.ENSP00000269571,9606.ENSP00000274063,9606.ENSP00000275493,9606.ENSP00000312455,9606.ENSP00000332973,9606.ENSP00000360266,9606.ENSP00000367408,9606.ENSP00000377836,9606.ENSP00000408695,9606.ENSP00000420321",
          "Regulation of reactive oxygen species metabolic process/9606.ENSP00000264657,9606.ENSP00000275493,9606.ENSP00000312455,9606.ENSP00000312999,9606.ENSP00000332973,9606.ENSP00000358867,9606.ENSP00000376345,9606.ENSP00000378217,9606.ENSP00000380638,9606.ENSP00000380948,9606.ENSP00000401303,9606.ENSP00000441691",
          "Cellular response to insulin stimulus/9606.ENSP00000264710,9606.ENSP00000278568,9606.ENSP00000300935,9606.ENSP00000312455,9606.ENSP00000312734,9606.ENSP00000360293,9606.ENSP00000376345,9606.ENSP00000387784,9606.ENSP00000401303,9606.ENSP00000428056,9606.ENSP00000461945",
          "Response to insulin/9606.ENSP00000264710,9606.ENSP00000278568,9606.ENSP00000300935,9606.ENSP00000312455,9606.ENSP00000312734,9606.ENSP00000360293,9606.ENSP00000376345,9606.ENSP00000387784,9606.ENSP00000401303,9606.ENSP00000428056,9606.ENSP00000461945",
          "Regulation of dendrite development/9606.ENSP00000286827,9606.ENSP00000292385,9606.ENSP00000300574,9606.ENSP00000326366,9606.ENSP00000346300,9606.ENSP00000361009,9606.ENSP00000361467,9606.ENSP00000371532,9606.ENSP00000399511,9606.ENSP00000417653,9606.ENSP00000469689",
          "Multicellular organismal signaling/9606.ENSP00000301050,9606.ENSP00000320025,9606.ENSP00000339740,9606.ENSP00000346534,9606.ENSP00000364586,9606.ENSP00000376048,9606.ENSP00000377840,9606.ENSP00000384763,9606.ENSP00000419101,9606.ENSP00000438949,5691.EAN77713",
          "Activation of immune response",
          "Activation of protein kinase activity",
          "Adenylate cyclase-modulating g protein-coupled receptor signaling pathway",
          "Aging",
          "Ameboidal-type cell migration",
          "Angiogenesis",
          "Anterograde trans-synaptic signaling",
          "Antigen processing and presentation",
          "Antigen processing and presentation of exogenous antigen",
          "Antigen processing and presentation of exogenous peptide antigen",
          "Antigen processing and presentation of peptide antigen",
          "Apoptotic signaling pathway",
          "Autophagy",
          "Axon development",
          "Axon guidance",
          "Axonogenesis",
          "Blood coagulation",
          "Blood vessel morphogenesis",
          "Calcium ion homeostasis",
          "Calcium ion transmembrane transport",
          "Calcium ion transport",
          "Camera-type eye development",
          "Cell junction assembly",
          "Cell junction organization",
          "Cell morphogenesis involved in neuron differentiation",
          "Cell population proliferation",
          "Cell surface receptor signaling pathway involved in cell-cell signaling",
          "Cell-cell signaling by wnt",
          "Cell-matrix adhesion",
          "Cell-substrate adhesion",
          "Cellular calcium ion homeostasis",
          "Cellular divalent inorganic cation homeostasis",
          "Cellular response to abiotic stimulus",
          "Cellular response to chemical stress",
          "Cellular response to environmental stimulus",
          "Cellular response to external stimulus",
          "Cellular response to growth factor stimulus",
          "Cellular response to inorganic substance",
          "Cellular response to insulin stimulus",
          "Cellular response to metal ion",
          "Cellular response to oxidative stress",
          "Cellular response to peptide",
          "Cellular response to peptide hormone stimulus",
          "Cellular response to reactive oxygen species",
          "Chemical synaptic transmission",
          "Coagulation",
          "Cognition",
          "Divalent inorganic cation transport",
          "Divalent metal ion transport",
          "ERBB signaling pathway",
          "Endocytosis",
          "Endomembrane system organization",
          "Entry into host",
          "Epithelial tube morphogenesis",
          "Establishment of organelle localization",
          "Establishment or maintenance of cell polarity",
          "Exocytic process",
          "Extracellular matrix organization",
          "Extracellular structure organization",
          "Eye development",
          "Fc receptor signaling pathway",
          "Fc-epsilon receptor signaling pathway",
          "Forebrain development",
          "Formation of primary germ layer",
          "G protein-coupled receptor signaling pathway, coupled to cyclic nucleotide second messenger",
          "Gastrulation",
          "Gland development",
          "Glial cell differentiation",
          "Gliogenesis",
          "Golgi vesicle transport",
          "Heart morphogenesis",
          "Hemostasis",
          "Immune response-activating cell surface receptor signaling pathway",
          "Immune response-activating signal transduction",
          "Immune response-regulating cell surface receptor signaling pathway",
          "Immune response-regulating signaling pathway",
          "In utero embryonic development",
          "Integrin-mediated signaling pathway",
          "Interaction with host",
          "Learning or memory",
          "Leukocyte migration",
          "Lung development",
          "MAPK cascade",
          "Membrane docking",
          "Membrane fusion",
          "Memory",
          "Mesenchyme development",
          "Modulation of chemical synaptic transmission",
          "Morphogenesis of an epithelium",
          "Movement in host environment",
          "Multicellular organismal signaling",
          "Muscle system process",
          "Negative regulation of apoptotic signaling pathway",
          "Negative regulation of cell adhesion",
          "Negative regulation of cell development",
          "Negative regulation of cell migration",
          "Negative regulation of cell motility",
          "Negative regulation of cellular component movement",
          "Negative regulation of kinase activity",
          "Negative regulation of locomotion",
          "Negative regulation of nervous system development",
          "Negative regulation of neurogenesis",
          "Negative regulation of phosphorylation",
          "Negative regulation of protein kinase activity",
          "Negative regulation of protein phosphorylation",
          "Negative regulation of transferase activity",
          "Negative regulation of transport",
          "Neuron projection guidance",
          "Neuron projection morphogenesis",
          "Neurotransmitter secretion",
          "Neurotransmitter transport",
          "Neutrophil activation",
          "Neutrophil activation involved in immune response",
          "Neutrophil degranulation",
          "Neutrophil mediated immunity",
          "Organelle fusion",
          "Organelle localization by membrane tethering",
          "Organelle membrane fusion",
          "Peptidyl-serine modification",
          "Peptidyl-serine phosphorylation",
          "Phagocytosis",
          "Platelet activation",
          "Positive regulation of angiogenesis",
          "Positive regulation of catabolic process",
          "Positive regulation of cell adhesion",
          "Positive regulation of cell growth",
          "Positive regulation of cell morphogenesis involved in differentiation",
          "Positive regulation of cell projection organization",
          "Positive regulation of cell-substrate adhesion",
          "Positive regulation of cellular protein localization",
          "Positive regulation of cytosolic calcium ion concentration",
          "Positive regulation of erk1 and erk2 cascade",
          "Positive regulation of establishment of protein localization",
          "Positive regulation of growth",
          "Positive regulation of gtpase activity",
          "Positive regulation of intracellular protein transport",
          "Positive regulation of intracellular transport",
          "Positive regulation of ion transport",
          "Positive regulation of map kinase activity",
          "Positive regulation of neurogenesis",
          "Positive regulation of neuron differentiation",
          "Positive regulation of neuron projection development",
          "Positive regulation of protein catabolic process",
          "Positive regulation of protein localization to membrane",
          "Positive regulation of protein serine/threonine kinase activity",
          "Positive regulation of protein transport",
          "Positive regulation of secretion",
          "Positive regulation of secretion by cell",
          "Positive regulation of synaptic transmission",
          "Positive regulation of vasculature development",
          "Process utilizing autophagic mechanism",
          "Protein autophosphorylation",
          "Protein folding",
          "Protein localization to cell periphery",
          "Protein localization to plasma membrane",
          "Rab protein signal transduction",
          "Ras protein signal transduction",
          "Receptor metabolic process",
          "Receptor-mediated endocytosis",
          "Regulation of actin cytoskeleton organization",
          "Regulation of actin filament organization",
          "Regulation of actin filament-based process",
          "Regulation of amine transport",
          "Regulation of angiogenesis",
          "Regulation of apoptotic signaling pathway",
          "Regulation of axonogenesis",
          "Regulation of blood circulation",
          "Regulation of calcium ion transmembrane transport",
          "Regulation of calcium ion transport",
          "Regulation of cation channel activity",
          "Regulation of cation transmembrane transport",
          "Regulation of cell growth",
          "Regulation of cell morphogenesis involved in differentiation",
          "Regulation of cell shape",
          "Regulation of cell-substrate adhesion",
          "Regulation of cellular component size",
          "Regulation of cellular protein catabolic process",
          "Regulation of cellular response to growth factor stimulus",
          "Regulation of cytosolic calcium ion concentration",
          "Regulation of dendrite development",
          "Regulation of developmental growth",
          "Regulation of dna-binding transcription factor activity",
          "Regulation of epithelial cell proliferation",
          "Regulation of erk1 and erk2 cascade",
          "Regulation of exocytosis",
          "Regulation of heart contraction",
          "Regulation of hormone secretion",
          "Regulation of insulin secretion",
          "Regulation of intracellular protein transport",
          "Regulation of intracellular transport",
          "Regulation of ion transmembrane transport",
          "Regulation of ion transmembrane transporter activity",
          "Regulation of jnk cascade",
          "Regulation of leukocyte proliferation",
          "Regulation of map kinase activity",
          "Regulation of membrane potential",
          "Regulation of metal ion transport",
          "Regulation of neuron death",
          "Regulation of neurotransmitter levels",
          "Regulation of neurotransmitter transport",
          "Regulation of peptide hormone secretion",
          "Regulation of peptide secretion",
          "Regulation of peptidyl-tyrosine phosphorylation",
          "Regulation of protein catabolic process",
          "Regulation of protein kinase b signaling",
          "Regulation of protein localization to membrane",
          "Regulation of protein secretion",
          "Regulation of ras protein signal transduction",
          "Regulation of reactive oxygen species metabolic process",
          "Regulation of regulated secretory pathway",
          "Regulation of response to wounding",
          "Regulation of small gtpase mediated signal transduction",
          "Regulation of stress-activated mapk cascade",
          "Regulation of stress-activated protein kinase signaling cascade",
          "Regulation of supramolecular fiber organization",
          "Regulation of synaptic plasticity",
          "Regulation of synaptic vesicle cycle",
          "Regulation of trans-synaptic signaling",
          "Regulation of transmembrane transporter activity",
          "Regulation of transporter activity",
          "Regulation of vasculature development",
          "Regulation of wnt signaling pathway",
          "Regulation of wound healing",
          "Reproductive structure development",
          "Reproductive system development",
          "Respiratory system development",
          "Respiratory tube development",
          "Response to calcium ion",
          "Response to insulin",
          "Response to metal ion",
          "Response to oxidative stress",
          "Response to peptide",
          "Response to peptide hormone",
          "Response to reactive oxygen species",
          "Sensory organ morphogenesis",
          "Sensory system development",
          "Signal release",
          "Signal release from synapse",
          "Signal transduction by protein phosphorylation",
          "Small gtpase mediated signal transduction",
          "Stress-activated protein kinase signaling cascade",
          "Synapse organization",
          "Synaptic signaling",
          "Synaptic vesicle cycle",
          "Telencephalon development",
          "Trans-synaptic signaling",
          "Vesicle fusion",
          "Vesicle organization",
          "Vesicle-mediated transport in synapse",
          "Viral life cycle",
          "Visual system development",
          "Wnt signaling pathway",
          "Wound healing"
         ],
         "labels": [
          "9606.ENSP00000005226,9606.ENSP00000215832,9606.ENSP00000232461,9606.ENSP00000248572,9606.ENSP00000262613,9606.ENSP00000263025,9606.ENSP00000264657,9606.ENSP00000265441,9606.ENSP00000294304,9606.ENSP00000354623,9606.ENSP00000418754",
          "9606.ENSP00000005226,9606.ENSP00000229264,9606.ENSP00000243077,9606.ENSP00000244040,9606.ENSP00000262428,9606.ENSP00000262613,9606.ENSP00000273047,9606.ENSP00000278568,9606.ENSP00000292385,9606.ENSP00000306124,9606.ENSP00000357131,9606.ENSP00000360718,9606.ENSP00000361009,9606.ENSP00000376048,9606.ENSP00000376345,9606.ENSP00000378217,9606.ENSP00000380638,9606.ENSP00000385720,9606.ENSP00000417653",
          "9606.ENSP00000005226,9606.ENSP00000232461,9606.ENSP00000248572,9606.ENSP00000258173,9606.ENSP00000264657,9606.ENSP00000265441,9606.ENSP00000275493,9606.ENSP00000294304,9606.ENSP00000326366,9606.ENSP00000332973,9606.ENSP00000360266,9606.ENSP00000385720,9606.ENSP00000387784,9606.ENSP00000478479,9606.ENSP00000481878",
          "9606.ENSP00000005226,9606.ENSP00000232461,9606.ENSP00000248572,9606.ENSP00000258173,9606.ENSP00000264657,9606.ENSP00000265441,9606.ENSP00000275493,9606.ENSP00000294304,9606.ENSP00000326366,9606.ENSP00000332973,9606.ENSP00000360266,9606.ENSP00000385720,9606.ENSP00000387784,9606.ENSP00000478479,9606.ENSP00000481878",
          "9606.ENSP00000005226,9606.ENSP00000232461,9606.ENSP00000248572,9606.ENSP00000258173,9606.ENSP00000264657,9606.ENSP00000265441,9606.ENSP00000275493,9606.ENSP00000294304,9606.ENSP00000326366,9606.ENSP00000332973,9606.ENSP00000360266,9606.ENSP00000385720,9606.ENSP00000387784,9606.ENSP00000478479,9606.ENSP00000481878",
          "9606.ENSP00000005226,9606.ENSP00000232461,9606.ENSP00000258173,9606.ENSP00000265441,9606.ENSP00000275493,9606.ENSP00000294304,9606.ENSP00000326366,9606.ENSP00000332973,9606.ENSP00000360266,9606.ENSP00000385720,9606.ENSP00000387784,9606.ENSP00000481878",
          "9606.ENSP00000007722,9606.ENSP00000200181,9606.ENSP00000222256,9606.ENSP00000236877,9606.ENSP00000269571,9606.ENSP00000276297,9606.ENSP00000288221,9606.ENSP00000292385,9606.ENSP00000293379,9606.ENSP00000301050,9606.ENSP00000314067,9606.ENSP00000320025,9606.ENSP00000324532,9606.ENSP00000326366,9606.ENSP00000332973,9606.ENSP00000345752,9606.ENSP00000346300,9606.ENSP00000354623,9606.ENSP00000359085,9606.ENSP00000360293,9606.ENSP00000361467,9606.ENSP00000367888,9606.ENSP00000368678,9606.ENSP00000377840,9606.ENSP00000380638,9606.ENSP00000386896,9606.ENSP00000408695,9606.ENSP00000417653,9606.ENSP00000438949,9606.ENSP00000469689",
          "9606.ENSP00000007722,9606.ENSP00000200181,9606.ENSP00000252999,9606.ENSP00000261023,9606.ENSP00000267082,9606.ENSP00000267257,9606.ENSP00000276297,9606.ENSP00000286827,9606.ENSP00000293379,9606.ENSP00000296181,9606.ENSP00000360293,9606.ENSP00000378332,9606.ENSP00000379350,9606.ENSP00000380638,9606.ENSP00000380948,9606.ENSP00000386896,9606.ENSP00000442600,9606.ENSP00000452120,9606.ENSP00000459615",
          "9606.ENSP00000007722,9606.ENSP00000200181,9606.ENSP00000252999,9606.ENSP00000261023,9606.ENSP00000267082,9606.ENSP00000274063,9606.ENSP00000293379,9606.ENSP00000296181,9606.ENSP00000324532,9606.ENSP00000341189,9606.ENSP00000346032,9606.ENSP00000363827,9606.ENSP00000368678,9606.ENSP00000373854,9606.ENSP00000379350,9606.ENSP00000380948,9606.ENSP00000386896,9606.ENSP00000400365,9606.ENSP00000441691,9606.ENSP00000442600,9606.ENSP00000452120",
          "9606.ENSP00000007722,9606.ENSP00000200181,9606.ENSP00000252999,9606.ENSP00000261023,9606.ENSP00000267082,9606.ENSP00000274063,9606.ENSP00000293379,9606.ENSP00000296181,9606.ENSP00000324532,9606.ENSP00000341189,9606.ENSP00000346032,9606.ENSP00000363827,9606.ENSP00000368678,9606.ENSP00000373854,9606.ENSP00000379350,9606.ENSP00000380948,9606.ENSP00000386896,9606.ENSP00000400365,9606.ENSP00000441691,9606.ENSP00000442600,9606.ENSP00000452120",
          "9606.ENSP00000007722,9606.ENSP00000200181,9606.ENSP00000252999,9606.ENSP00000261023,9606.ENSP00000267082,9606.ENSP00000293379,9606.ENSP00000296181,9606.ENSP00000324532,9606.ENSP00000341189,9606.ENSP00000373854,9606.ENSP00000379350,9606.ENSP00000380638,9606.ENSP00000380948,9606.ENSP00000386896,9606.ENSP00000441691,9606.ENSP00000452120",
          "9606.ENSP00000007722,9606.ENSP00000200181,9606.ENSP00000253861,9606.ENSP00000261023,9606.ENSP00000293379,9606.ENSP00000294304,9606.ENSP00000296181,9606.ENSP00000324532,9606.ENSP00000332973,9606.ENSP00000377836,9606.ENSP00000379350,9606.ENSP00000380948,9606.ENSP00000452120",
          "9606.ENSP00000007722,9606.ENSP00000200181,9606.ENSP00000253861,9606.ENSP00000261023,9606.ENSP00000293379,9606.ENSP00000296181,9606.ENSP00000324532,9606.ENSP00000332973,9606.ENSP00000379350,9606.ENSP00000380948,9606.ENSP00000452120",
          "9606.ENSP00000007722,9606.ENSP00000200181,9606.ENSP00000261023,9606.ENSP00000267082,9606.ENSP00000276297,9606.ENSP00000286827,9606.ENSP00000296181,9606.ENSP00000360293,9606.ENSP00000379350,9606.ENSP00000380638,9606.ENSP00000380948,9606.ENSP00000386896,9606.ENSP00000442600,9606.ENSP00000452120",
          "9606.ENSP00000007722,9606.ENSP00000215754,9606.ENSP00000261023,9606.ENSP00000264039,9606.ENSP00000267082,9606.ENSP00000293379,9606.ENSP00000300574,9606.ENSP00000346300,9606.ENSP00000361009,9606.ENSP00000366109,9606.ENSP00000376048,9606.ENSP00000376345,9606.ENSP00000379350,9606.ENSP00000380948,9606.ENSP00000386896,9606.ENSP00000387784,9606.ENSP00000401303,9606.ENSP00000428056,9606.ENSP00000441691",
          "9606.ENSP00000007722,9606.ENSP00000215832,9606.ENSP00000222256,9606.ENSP00000252999,9606.ENSP00000262395,9606.ENSP00000263025,9606.ENSP00000265441,9606.ENSP00000275493,9606.ENSP00000361467,9606.ENSP00000377836,9606.ENSP00000418754,9606.ENSP00000442600",
          "9606.ENSP00000007722,9606.ENSP00000215832,9606.ENSP00000222256,9606.ENSP00000252999,9606.ENSP00000263025,9606.ENSP00000265441,9606.ENSP00000275493,9606.ENSP00000361467,9606.ENSP00000377836,9606.ENSP00000418754,9606.ENSP00000442600",
          "9606.ENSP00000007722,9606.ENSP00000215832,9606.ENSP00000222256,9606.ENSP00000252999,9606.ENSP00000263025,9606.ENSP00000265441,9606.ENSP00000275493,9606.ENSP00000361467,9606.ENSP00000377836,9606.ENSP00000418754,9606.ENSP00000442600",
          "9606.ENSP00000007722,9606.ENSP00000215832,9606.ENSP00000236877,9606.ENSP00000254976,9606.ENSP00000255224,9606.ENSP00000263431,9606.ENSP00000275493,9606.ENSP00000293379,9606.ENSP00000306490,9606.ENSP00000311032,9606.ENSP00000326366,9606.ENSP00000356832,9606.ENSP00000357307,9606.ENSP00000360266,9606.ENSP00000364586,9606.ENSP00000364995,9606.ENSP00000367686,9606.ENSP00000371532,9606.ENSP00000379350,9606.ENSP00000405963,9606.ENSP00000454071,9606.ENSP00000469689",
          "9606.ENSP00000007722,9606.ENSP00000215832,9606.ENSP00000236877,9606.ENSP00000254976,9606.ENSP00000255224,9606.ENSP00000263431,9606.ENSP00000275493,9606.ENSP00000293379,9606.ENSP00000311032,9606.ENSP00000326366,9606.ENSP00000356832,9606.ENSP00000357307,9606.ENSP00000360266,9606.ENSP00000364586,9606.ENSP00000364995,9606.ENSP00000367686,9606.ENSP00000371532,9606.ENSP00000379350,9606.ENSP00000405963,9606.ENSP00000454071,9606.ENSP00000469689",
          "9606.ENSP00000007722,9606.ENSP00000215832,9606.ENSP00000243077,9606.ENSP00000260197,9606.ENSP00000269571,9606.ENSP00000275493,9606.ENSP00000278568,9606.ENSP00000301050,9606.ENSP00000306124,9606.ENSP00000306490,9606.ENSP00000326366,9606.ENSP00000332973,9606.ENSP00000343027,9606.ENSP00000357307,9606.ENSP00000360293,9606.ENSP00000367888,9606.ENSP00000378217,9606.ENSP00000379350,9606.ENSP00000380948,9606.ENSP00000394485,9606.ENSP00000428056,9606.ENSP00000441691",
          "9606.ENSP00000007722,9606.ENSP00000222256,9606.ENSP00000236877,9606.ENSP00000269571,9606.ENSP00000288221,9606.ENSP00000292385,9606.ENSP00000301050,9606.ENSP00000320025,9606.ENSP00000326366,9606.ENSP00000345752,9606.ENSP00000346300,9606.ENSP00000359085,9606.ENSP00000367888,9606.ENSP00000368678,9606.ENSP00000377840,9606.ENSP00000417653,9606.ENSP00000438949,9606.ENSP00000469689",
          "9606.ENSP00000007722,9606.ENSP00000236877,9606.ENSP00000255224,9606.ENSP00000293379,9606.ENSP00000326366,9606.ENSP00000356832,9606.ENSP00000357307,9606.ENSP00000364586,9606.ENSP00000367686,9606.ENSP00000371532,9606.ENSP00000405963,9606.ENSP00000454071",
          "9606.ENSP00000007722,9606.ENSP00000243077,9606.ENSP00000255224,9606.ENSP00000261205,9606.ENSP00000263816,9606.ENSP00000265441,9606.ENSP00000278568,9606.ENSP00000286827,9606.ENSP00000292385,9606.ENSP00000312455,9606.ENSP00000326366,9606.ENSP00000346300,9606.ENSP00000356236,9606.ENSP00000361263,9606.ENSP00000361467,9606.ENSP00000371532,9606.ENSP00000375978,9606.ENSP00000376048,9606.ENSP00000380638,9606.ENSP00000385720,9606.ENSP00000386896,9606.ENSP00000417335,9606.ENSP00000417653,9606.ENSP00000418754,9606.ENSP00000420321,9606.ENSP00000442600,9606.ENSP00000469689",
          "9606.ENSP00000007722,9606.ENSP00000243077,9606.ENSP00000255224,9606.ENSP00000261205,9606.ENSP00000271234,9606.ENSP00000278568,9606.ENSP00000286827,9606.ENSP00000292385,9606.ENSP00000312455,9606.ENSP00000312734,9606.ENSP00000326366,9606.ENSP00000356236,9606.ENSP00000361263,9606.ENSP00000361467,9606.ENSP00000368678,9606.ENSP00000371532,9606.ENSP00000380638,9606.ENSP00000385720,9606.ENSP00000386896,9606.ENSP00000417335,9606.ENSP00000417653,9606.ENSP00000418754,9606.ENSP00000420321,9606.ENSP00000469689",
          "9606.ENSP00000007722,9606.ENSP00000243077,9606.ENSP00000255224,9606.ENSP00000261205,9606.ENSP00000278568,9606.ENSP00000286827,9606.ENSP00000292385,9606.ENSP00000312455,9606.ENSP00000326366,9606.ENSP00000356236,9606.ENSP00000361263,9606.ENSP00000361467,9606.ENSP00000371532,9606.ENSP00000380638,9606.ENSP00000385720,9606.ENSP00000386896,9606.ENSP00000417335,9606.ENSP00000417653,9606.ENSP00000418754,9606.ENSP00000420321,9606.ENSP00000469689",
          "9606.ENSP00000007722,9606.ENSP00000243077,9606.ENSP00000255224,9606.ENSP00000261205,9606.ENSP00000278568,9606.ENSP00000286827,9606.ENSP00000292385,9606.ENSP00000312455,9606.ENSP00000326366,9606.ENSP00000356236,9606.ENSP00000361263,9606.ENSP00000361467,9606.ENSP00000371532,9606.ENSP00000380638,9606.ENSP00000385720,9606.ENSP00000386896,9606.ENSP00000417335,9606.ENSP00000417653,9606.ENSP00000418754,9606.ENSP00000420321,9606.ENSP00000469689",
          "9606.ENSP00000007722,9606.ENSP00000243077,9606.ENSP00000262613,9606.ENSP00000274063,9606.ENSP00000275493,9606.ENSP00000286827,9606.ENSP00000324804,9606.ENSP00000326366,9606.ENSP00000332973,9606.ENSP00000361263,9606.ENSP00000367888,9606.ENSP00000369390,9606.ENSP00000377836,9606.ENSP00000418754",
          "9606.ENSP00000007722,9606.ENSP00000243077,9606.ENSP00000264039,9606.ENSP00000269571,9606.ENSP00000275493,9606.ENSP00000278568,9606.ENSP00000301050,9606.ENSP00000306124,9606.ENSP00000346300,9606.ENSP00000360293,9606.ENSP00000367888,9606.ENSP00000377836,9606.ENSP00000379350,9606.ENSP00000380948,9606.ENSP00000394485,9606.ENSP00000428056,9606.ENSP00000441691,9606.ENSP00000442600",
          "9606.ENSP00000007722,9606.ENSP00000243077,9606.ENSP00000269571,9606.ENSP00000275493,9606.ENSP00000278568,9606.ENSP00000301050,9606.ENSP00000306124,9606.ENSP00000360293,9606.ENSP00000367888,9606.ENSP00000379350,9606.ENSP00000380948,9606.ENSP00000394485,9606.ENSP00000428056,9606.ENSP00000441691",
          "9606.ENSP00000007722,9606.ENSP00000243077,9606.ENSP00000276297,9606.ENSP00000293379,9606.ENSP00000300574,9606.ENSP00000306124,9606.ENSP00000320866,9606.ENSP00000332973,9606.ENSP00000341189,9606.ENSP00000346300,9606.ENSP00000361009,9606.ENSP00000367408,9606.ENSP00000380638,9606.ENSP00000386896,9606.ENSP00000428056,9606.ENSP00000442600",
          "9606.ENSP00000007722,9606.ENSP00000260197,9606.ENSP00000263816,9606.ENSP00000264039,9606.ENSP00000274063,9606.ENSP00000293379,9606.ENSP00000305355,9606.ENSP00000312455,9606.ENSP00000332973,9606.ENSP00000367408,9606.ENSP00000377836,9606.ENSP00000378332,9606.ENSP00000420321",
          "9606.ENSP00000007722,9606.ENSP00000261023,9606.ENSP00000269571,9606.ENSP00000274063,9606.ENSP00000278568,9606.ENSP00000293379,9606.ENSP00000300574,9606.ENSP00000306124,9606.ENSP00000314067,9606.ENSP00000320866,9606.ENSP00000332973,9606.ENSP00000346300,9606.ENSP00000351022,9606.ENSP00000361009,9606.ENSP00000366109,9606.ENSP00000376345,9606.ENSP00000380638,9606.ENSP00000380948,9606.ENSP00000386896,9606.ENSP00000408695,9606.ENSP00000428056,9606.ENSP00000442600",
          "9606.ENSP00000007722,9606.ENSP00000265080,9606.ENSP00000276297,9606.ENSP00000286827,9606.ENSP00000300574,9606.ENSP00000310933,9606.ENSP00000316845,9606.ENSP00000320117,9606.ENSP00000345808,9606.ENSP00000346300,9606.ENSP00000351333,9606.ENSP00000357131,9606.ENSP00000361009,9606.ENSP00000361263,9606.ENSP00000371897,9606.ENSP00000376345,9606.ENSP00000379350,9606.ENSP00000379709,9606.ENSP00000385720,9606.ENSP00000387784,9606.ENSP00000400717,9606.ENSP00000401303,9606.ENSP00000404190,9606.ENSP00000405963,9606.ENSP00000420321,9606.ENSP00000440374,9606.ENSP00000459615",
          "9606.ENSP00000007722,9606.ENSP00000265080,9606.ENSP00000276297,9606.ENSP00000300574,9606.ENSP00000310933,9606.ENSP00000346300,9606.ENSP00000361263,9606.ENSP00000376345,9606.ENSP00000379350,9606.ENSP00000385720,9606.ENSP00000401303,9606.ENSP00000405963,9606.ENSP00000420321,9606.ENSP00000440374",
          "9606.ENSP00000007722,9606.ENSP00000293379,9606.ENSP00000300574,9606.ENSP00000306124,9606.ENSP00000320866,9606.ENSP00000332973,9606.ENSP00000346300,9606.ENSP00000361009,9606.ENSP00000380638,9606.ENSP00000386896,9606.ENSP00000442600",
          "9606.ENSP00000020926,9606.ENSP00000215730,9606.ENSP00000222256,9606.ENSP00000244040,9606.ENSP00000249647,9606.ENSP00000254976,9606.ENSP00000255224,9606.ENSP00000258301,9606.ENSP00000265062,9606.ENSP00000271234,9606.ENSP00000300935,9606.ENSP00000303145,9606.ENSP00000312734,9606.ENSP00000320866,9606.ENSP00000346032,9606.ENSP00000353444,9606.ENSP00000357307,9606.ENSP00000358867,9606.ENSP00000360798,9606.ENSP00000444201",
          "9606.ENSP00000020926,9606.ENSP00000215730,9606.ENSP00000249647,9606.ENSP00000254976,9606.ENSP00000255224,9606.ENSP00000258301,9606.ENSP00000265062,9606.ENSP00000300935,9606.ENSP00000312734,9606.ENSP00000320866,9606.ENSP00000357307,9606.ENSP00000358867,9606.ENSP00000444201",
          "9606.ENSP00000020926,9606.ENSP00000215730,9606.ENSP00000249647,9606.ENSP00000254976,9606.ENSP00000255224,9606.ENSP00000258301,9606.ENSP00000265062,9606.ENSP00000300935,9606.ENSP00000312734,9606.ENSP00000320866,9606.ENSP00000357307,9606.ENSP00000358867,9606.ENSP00000444201",
          "9606.ENSP00000020926,9606.ENSP00000215730,9606.ENSP00000249647,9606.ENSP00000254976,9606.ENSP00000255224,9606.ENSP00000258301,9606.ENSP00000265062,9606.ENSP00000300935,9606.ENSP00000312734,9606.ENSP00000320866,9606.ENSP00000357307,9606.ENSP00000358867,9606.ENSP00000444201",
          "9606.ENSP00000020926,9606.ENSP00000215730,9606.ENSP00000249647,9606.ENSP00000254976,9606.ENSP00000255224,9606.ENSP00000258301,9606.ENSP00000265062,9606.ENSP00000300935,9606.ENSP00000312734,9606.ENSP00000320866,9606.ENSP00000357307,9606.ENSP00000358867,9606.ENSP00000444201",
          "9606.ENSP00000020926,9606.ENSP00000215832,9606.ENSP00000247668,9606.ENSP00000255224,9606.ENSP00000261205,9606.ENSP00000263025,9606.ENSP00000275493,9606.ENSP00000289473,9606.ENSP00000300574,9606.ENSP00000312455,9606.ENSP00000320866,9606.ENSP00000338864,9606.ENSP00000339740,9606.ENSP00000346265,9606.ENSP00000356236,9606.ENSP00000357307,9606.ENSP00000360266,9606.ENSP00000394560,9606.ENSP00000444201",
          "9606.ENSP00000020926,9606.ENSP00000215832,9606.ENSP00000255224,9606.ENSP00000261205,9606.ENSP00000263025,9606.ENSP00000275493,9606.ENSP00000289473,9606.ENSP00000311032,9606.ENSP00000320866,9606.ENSP00000338864,9606.ENSP00000339740,9606.ENSP00000346265,9606.ENSP00000356236,9606.ENSP00000357307,9606.ENSP00000360266,9606.ENSP00000380638,9606.ENSP00000394560,9606.ENSP00000444201,9606.ENSP00000478059",
          "9606.ENSP00000020926,9606.ENSP00000215832,9606.ENSP00000255224,9606.ENSP00000261205,9606.ENSP00000263025,9606.ENSP00000275493,9606.ENSP00000289473,9606.ENSP00000320866,9606.ENSP00000338864,9606.ENSP00000339740,9606.ENSP00000346265,9606.ENSP00000356236,9606.ENSP00000357307,9606.ENSP00000360266,9606.ENSP00000394560,9606.ENSP00000444201",
          "9606.ENSP00000020926,9606.ENSP00000222256,9606.ENSP00000255224,9606.ENSP00000261205,9606.ENSP00000263431,9606.ENSP00000264710,9606.ENSP00000265062,9606.ENSP00000273047,9606.ENSP00000300935,9606.ENSP00000305355,9606.ENSP00000312734,9606.ENSP00000312999,9606.ENSP00000320025,9606.ENSP00000346265,9606.ENSP00000356236,9606.ENSP00000357307,9606.ENSP00000360718,9606.ENSP00000362080,9606.ENSP00000366109,9606.ENSP00000367408,9606.ENSP00000380948,9606.ENSP00000441691,9606.ENSP00000444201",
          "9606.ENSP00000020926,9606.ENSP00000222256,9606.ENSP00000255224,9606.ENSP00000261205,9606.ENSP00000263431,9606.ENSP00000273047,9606.ENSP00000305355,9606.ENSP00000312999,9606.ENSP00000320025,9606.ENSP00000346265,9606.ENSP00000356236,9606.ENSP00000357307,9606.ENSP00000367408,9606.ENSP00000380948,9606.ENSP00000441691,9606.ENSP00000444201",
          "9606.ENSP00000020926,9606.ENSP00000222256,9606.ENSP00000255224,9606.ENSP00000261205,9606.ENSP00000312262,9606.ENSP00000326366,9606.ENSP00000346265,9606.ENSP00000356236,9606.ENSP00000357307,9606.ENSP00000360718,9606.ENSP00000379350,9606.ENSP00000444201",
          "9606.ENSP00000020926,9606.ENSP00000255224,9606.ENSP00000261205,9606.ENSP00000275493,9606.ENSP00000338864,9606.ENSP00000339740,9606.ENSP00000346265,9606.ENSP00000356236,9606.ENSP00000357307,9606.ENSP00000360266,9606.ENSP00000380638,9606.ENSP00000444201,9606.ENSP00000478059",
          "9606.ENSP00000085219,9606.ENSP00000215754,9606.ENSP00000215832,9606.ENSP00000263025,9606.ENSP00000269571,9606.ENSP00000301458,9606.ENSP00000311032,9606.ENSP00000341189,9606.ENSP00000343325,9606.ENSP00000361467,9606.ENSP00000366109,9606.ENSP00000387784",
          "9606.ENSP00000085219,9606.ENSP00000215754,9606.ENSP00000243077,9606.ENSP00000247668,9606.ENSP00000254976,9606.ENSP00000255224,9606.ENSP00000260197,9606.ENSP00000275493,9606.ENSP00000276052,9606.ENSP00000281456,9606.ENSP00000286827,9606.ENSP00000294304,9606.ENSP00000306124,9606.ENSP00000312734,9606.ENSP00000356545,9606.ENSP00000357307,9606.ENSP00000360671,9606.ENSP00000362080,9606.ENSP00000370695,9606.ENSP00000408695,9606.ENSP00000444201",
          "9606.ENSP00000085219,9606.ENSP00000215754,9606.ENSP00000243077,9606.ENSP00000247668,9606.ENSP00000254976,9606.ENSP00000255224,9606.ENSP00000260197,9606.ENSP00000275493,9606.ENSP00000276052,9606.ENSP00000281456,9606.ENSP00000286827,9606.ENSP00000294304,9606.ENSP00000306124,9606.ENSP00000356545,9606.ENSP00000357307,9606.ENSP00000360671,9606.ENSP00000362080,9606.ENSP00000370695,9606.ENSP00000408695,9606.ENSP00000444201",
          "9606.ENSP00000085219,9606.ENSP00000255224,9606.ENSP00000261023,9606.ENSP00000261837,9606.ENSP00000262613,9606.ENSP00000265062,9606.ENSP00000267101,9606.ENSP00000301050,9606.ENSP00000305355,9606.ENSP00000306124,9606.ENSP00000312999,9606.ENSP00000339740,9606.ENSP00000345752,9606.ENSP00000357307,9606.ENSP00000360671,9606.ENSP00000362080,9606.ENSP00000366109,9606.ENSP00000380638",
          "9606.ENSP00000200181,9606.ENSP00000215730,9606.ENSP00000265062,9606.ENSP00000271234,9606.ENSP00000295888,9606.ENSP00000300935,9606.ENSP00000304376,9606.ENSP00000306866,9606.ENSP00000326366,9606.ENSP00000357307,9606.ENSP00000376297,5691.AAZ11429,5691.EAN78254",
          "9606.ENSP00000200181,9606.ENSP00000215730,9606.ENSP00000265062,9606.ENSP00000271234,9606.ENSP00000295888,9606.ENSP00000300935,9606.ENSP00000304376,9606.ENSP00000306866,9606.ENSP00000326366,9606.ENSP00000357307,9606.ENSP00000376297,5691.AAZ11429,5691.EAN78254",
          "9606.ENSP00000200181,9606.ENSP00000276297,9606.ENSP00000293379,9606.ENSP00000314067,9606.ENSP00000324532,9606.ENSP00000346300,9606.ENSP00000360293,9606.ENSP00000361467,9606.ENSP00000367888,9606.ENSP00000380638,9606.ENSP00000386896,9606.ENSP00000408695,9606.ENSP00000417653,9606.ENSP00000469689",
          "9606.ENSP00000215730,9606.ENSP00000215754,9606.ENSP00000215832,9606.ENSP00000222256,9606.ENSP00000228506,9606.ENSP00000249647,9606.ENSP00000254976,9606.ENSP00000261023,9606.ENSP00000262428,9606.ENSP00000264710,9606.ENSP00000264908,9606.ENSP00000265062,9606.ENSP00000273130,9606.ENSP00000304376,9606.ENSP00000311449,9606.ENSP00000316476,9606.ENSP00000326366,9606.ENSP00000346032,9606.ENSP00000353444,9606.ENSP00000361009,9606.ENSP00000375978,9606.ENSP00000376297,9606.ENSP00000378217,9606.ENSP00000380948,9606.ENSP00000417653,9606.ENSP00000441691,9606.ENSP00000447053,9606.ENSP00000461945,9606.ENSP00000478479",
          "9606.ENSP00000215730,9606.ENSP00000215754,9606.ENSP00000215832,9606.ENSP00000222256,9606.ENSP00000228506,9606.ENSP00000249647,9606.ENSP00000254976,9606.ENSP00000261023,9606.ENSP00000262428,9606.ENSP00000264710,9606.ENSP00000264908,9606.ENSP00000265062,9606.ENSP00000273130,9606.ENSP00000304376,9606.ENSP00000311449,9606.ENSP00000316476,9606.ENSP00000326366,9606.ENSP00000346032,9606.ENSP00000353444,9606.ENSP00000375978,9606.ENSP00000376297,9606.ENSP00000378217,9606.ENSP00000380948,9606.ENSP00000417653,9606.ENSP00000441691,9606.ENSP00000447053,9606.ENSP00000461945,9606.ENSP00000478479",
          "9606.ENSP00000215730,9606.ENSP00000215754,9606.ENSP00000215832,9606.ENSP00000222256,9606.ENSP00000228506,9606.ENSP00000249647,9606.ENSP00000254976,9606.ENSP00000261023,9606.ENSP00000262428,9606.ENSP00000264710,9606.ENSP00000264908,9606.ENSP00000265062,9606.ENSP00000273130,9606.ENSP00000304376,9606.ENSP00000311449,9606.ENSP00000316476,9606.ENSP00000326366,9606.ENSP00000346032,9606.ENSP00000353444,9606.ENSP00000375978,9606.ENSP00000376297,9606.ENSP00000378217,9606.ENSP00000380948,9606.ENSP00000417653,9606.ENSP00000441691,9606.ENSP00000447053,9606.ENSP00000461945,9606.ENSP00000478479",
          "9606.ENSP00000215730,9606.ENSP00000215754,9606.ENSP00000215832,9606.ENSP00000222256,9606.ENSP00000228506,9606.ENSP00000249647,9606.ENSP00000254976,9606.ENSP00000261023,9606.ENSP00000262428,9606.ENSP00000264710,9606.ENSP00000264908,9606.ENSP00000265062,9606.ENSP00000273130,9606.ENSP00000304376,9606.ENSP00000311449,9606.ENSP00000316476,9606.ENSP00000326366,9606.ENSP00000346032,9606.ENSP00000353444,9606.ENSP00000375978,9606.ENSP00000376297,9606.ENSP00000378217,9606.ENSP00000380948,9606.ENSP00000417653,9606.ENSP00000441691,9606.ENSP00000447053,9606.ENSP00000461945,9606.ENSP00000478479",
          "9606.ENSP00000215730,9606.ENSP00000215832,9606.ENSP00000222256,9606.ENSP00000239666,9606.ENSP00000249647,9606.ENSP00000253754,9606.ENSP00000253861,9606.ENSP00000254976,9606.ENSP00000255224,9606.ENSP00000259455,9606.ENSP00000261205,9606.ENSP00000263431,9606.ENSP00000264657,9606.ENSP00000288221,9606.ENSP00000301050,9606.ENSP00000306490,9606.ENSP00000306866,9606.ENSP00000312262,9606.ENSP00000312999,9606.ENSP00000320025,9606.ENSP00000326366,9606.ENSP00000346265,9606.ENSP00000346300,9606.ENSP00000356236,9606.ENSP00000356545,9606.ENSP00000364995,9606.ENSP00000366233,9606.ENSP00000367408,9606.ENSP00000368678,9606.ENSP00000374036,9606.ENSP00000377840,9606.ENSP00000438949,9606.ENSP00000442600,9606.ENSP00000444201,9606.ENSP00000481878",
          "9606.ENSP00000215730,9606.ENSP00000215832,9606.ENSP00000222256,9606.ENSP00000239666,9606.ENSP00000249647,9606.ENSP00000253754,9606.ENSP00000253861,9606.ENSP00000254976,9606.ENSP00000255224,9606.ENSP00000259455,9606.ENSP00000261205,9606.ENSP00000263431,9606.ENSP00000288221,9606.ENSP00000301050,9606.ENSP00000306490,9606.ENSP00000306866,9606.ENSP00000320025,9606.ENSP00000326366,9606.ENSP00000346265,9606.ENSP00000356236,9606.ENSP00000356545,9606.ENSP00000364995,9606.ENSP00000366233,9606.ENSP00000367408,9606.ENSP00000374036,9606.ENSP00000377840,9606.ENSP00000438949,9606.ENSP00000442600,9606.ENSP00000444201",
          "9606.ENSP00000215730,9606.ENSP00000215832,9606.ENSP00000222256,9606.ENSP00000239666,9606.ENSP00000249647,9606.ENSP00000253754,9606.ENSP00000253861,9606.ENSP00000254976,9606.ENSP00000255224,9606.ENSP00000259455,9606.ENSP00000261205,9606.ENSP00000263431,9606.ENSP00000288221,9606.ENSP00000301050,9606.ENSP00000306490,9606.ENSP00000306866,9606.ENSP00000320025,9606.ENSP00000326366,9606.ENSP00000346265,9606.ENSP00000356236,9606.ENSP00000356545,9606.ENSP00000364995,9606.ENSP00000366233,9606.ENSP00000367408,9606.ENSP00000374036,9606.ENSP00000377840,9606.ENSP00000438949,9606.ENSP00000444201",
          "9606.ENSP00000215730,9606.ENSP00000215832,9606.ENSP00000222256,9606.ENSP00000239666,9606.ENSP00000249647,9606.ENSP00000253754,9606.ENSP00000253861,9606.ENSP00000254976,9606.ENSP00000255224,9606.ENSP00000259455,9606.ENSP00000261205,9606.ENSP00000263431,9606.ENSP00000288221,9606.ENSP00000301050,9606.ENSP00000306490,9606.ENSP00000306866,9606.ENSP00000320025,9606.ENSP00000326366,9606.ENSP00000346265,9606.ENSP00000356236,9606.ENSP00000356545,9606.ENSP00000364995,9606.ENSP00000366233,9606.ENSP00000367408,9606.ENSP00000374036,9606.ENSP00000377840,9606.ENSP00000438949,9606.ENSP00000444201",
          "9606.ENSP00000215730,9606.ENSP00000222256,9606.ENSP00000239666,9606.ENSP00000249647,9606.ENSP00000254976,9606.ENSP00000255224,9606.ENSP00000261205,9606.ENSP00000263431,9606.ENSP00000273047,9606.ENSP00000288221,9606.ENSP00000305355,9606.ENSP00000320025,9606.ENSP00000326366,9606.ENSP00000346265,9606.ENSP00000356236,9606.ENSP00000357068,9606.ENSP00000357307,9606.ENSP00000360718,9606.ENSP00000367408,9606.ENSP00000374036,9606.ENSP00000379350,9606.ENSP00000444201",
          "9606.ENSP00000215730,9606.ENSP00000222256,9606.ENSP00000239666,9606.ENSP00000249647,9606.ENSP00000254976,9606.ENSP00000255224,9606.ENSP00000261205,9606.ENSP00000276052,9606.ENSP00000288221,9606.ENSP00000326366,9606.ENSP00000346265,9606.ENSP00000356236,9606.ENSP00000366109,9606.ENSP00000367408,9606.ENSP00000374036,9606.ENSP00000444201",
          "9606.ENSP00000215730,9606.ENSP00000222256,9606.ENSP00000239666,9606.ENSP00000249647,9606.ENSP00000254976,9606.ENSP00000255224,9606.ENSP00000261205,9606.ENSP00000288221,9606.ENSP00000326366,9606.ENSP00000346265,9606.ENSP00000356236,9606.ENSP00000357068,9606.ENSP00000367408,9606.ENSP00000374036,9606.ENSP00000444201",
          "9606.ENSP00000215730,9606.ENSP00000222256,9606.ENSP00000239666,9606.ENSP00000249647,9606.ENSP00000254976,9606.ENSP00000255224,9606.ENSP00000261205,9606.ENSP00000288221,9606.ENSP00000326366,9606.ENSP00000346265,9606.ENSP00000356236,9606.ENSP00000367408,9606.ENSP00000374036,9606.ENSP00000444201",
          "9606.ENSP00000215730,9606.ENSP00000222256,9606.ENSP00000239666,9606.ENSP00000249647,9606.ENSP00000254976,9606.ENSP00000255224,9606.ENSP00000261205,9606.ENSP00000288221,9606.ENSP00000326366,9606.ENSP00000346265,9606.ENSP00000356236,9606.ENSP00000367408,9606.ENSP00000374036,9606.ENSP00000444201",
          "9606.ENSP00000215730,9606.ENSP00000222256,9606.ENSP00000247461,9606.ENSP00000249647,9606.ENSP00000254976,9606.ENSP00000261205,9606.ENSP00000273047,9606.ENSP00000288221,9606.ENSP00000300935,9606.ENSP00000326366,9606.ENSP00000346265,9606.ENSP00000352157,9606.ENSP00000356236,9606.ENSP00000360798,9606.ENSP00000444201",
          "9606.ENSP00000215730,9606.ENSP00000222256,9606.ENSP00000247461,9606.ENSP00000249647,9606.ENSP00000254976,9606.ENSP00000261205,9606.ENSP00000273047,9606.ENSP00000288221,9606.ENSP00000326366,9606.ENSP00000346265,9606.ENSP00000356236,9606.ENSP00000444201",
          "9606.ENSP00000215730,9606.ENSP00000222256,9606.ENSP00000249647,9606.ENSP00000253861,9606.ENSP00000254976,9606.ENSP00000260762,9606.ENSP00000264710,9606.ENSP00000288221,9606.ENSP00000300935,9606.ENSP00000312734,9606.ENSP00000326366,9606.ENSP00000360718",
          "9606.ENSP00000215730,9606.ENSP00000222256,9606.ENSP00000249647,9606.ENSP00000253861,9606.ENSP00000255224,9606.ENSP00000262613,9606.ENSP00000265062,9606.ENSP00000271234,9606.ENSP00000303145,9606.ENSP00000311449,9606.ENSP00000326366,9606.ENSP00000341189,9606.ENSP00000357307,9606.ENSP00000379350,9606.ENSP00000379709",
          "9606.ENSP00000215730,9606.ENSP00000222256,9606.ENSP00000253861,9606.ENSP00000254976,9606.ENSP00000258301,9606.ENSP00000260762,9606.ENSP00000261205,9606.ENSP00000264710,9606.ENSP00000265062,9606.ENSP00000270861,9606.ENSP00000300935,9606.ENSP00000312734,9606.ENSP00000324804,9606.ENSP00000355747,9606.ENSP00000360718,9606.ENSP00000376297",
          "9606.ENSP00000215730,9606.ENSP00000222256,9606.ENSP00000253861,9606.ENSP00000254976,9606.ENSP00000258301,9606.ENSP00000260762,9606.ENSP00000261205,9606.ENSP00000264710,9606.ENSP00000270861,9606.ENSP00000300935,9606.ENSP00000312734,9606.ENSP00000324804,9606.ENSP00000355747,9606.ENSP00000360718,9606.ENSP00000376297",
          "9606.ENSP00000215754,9606.ENSP00000215832,9606.ENSP00000236877,9606.ENSP00000247668,9606.ENSP00000262948,9606.ENSP00000263025,9606.ENSP00000269571,9606.ENSP00000275493,9606.ENSP00000278568,9606.ENSP00000286827,9606.ENSP00000294117,9606.ENSP00000300574,9606.ENSP00000310933,9606.ENSP00000318944,9606.ENSP00000326366,9606.ENSP00000343325,9606.ENSP00000346300,9606.ENSP00000352157,9606.ENSP00000361263,9606.ENSP00000376317,9606.ENSP00000380638,9606.ENSP00000399511,9606.ENSP00000401303,9606.ENSP00000417653,9606.ENSP00000420321",
          "9606.ENSP00000215754,9606.ENSP00000215832,9606.ENSP00000243077,9606.ENSP00000247461,9606.ENSP00000263025,9606.ENSP00000264657,9606.ENSP00000320866,9606.ENSP00000326366,9606.ENSP00000360266,9606.ENSP00000376345,9606.ENSP00000378217,9606.ENSP00000380948,9606.ENSP00000442600",
          "9606.ENSP00000215754,9606.ENSP00000215832,9606.ENSP00000243077,9606.ENSP00000260197,9606.ENSP00000269571,9606.ENSP00000275493,9606.ENSP00000278568,9606.ENSP00000301050,9606.ENSP00000306124,9606.ENSP00000306490,9606.ENSP00000326366,9606.ENSP00000332973,9606.ENSP00000362080,9606.ENSP00000370695,9606.ENSP00000378217,9606.ENSP00000380948,9606.ENSP00000394485,9606.ENSP00000428056,9606.ENSP00000441691",
          "9606.ENSP00000215754,9606.ENSP00000215832,9606.ENSP00000243077,9606.ENSP00000260197,9606.ENSP00000269571,9606.ENSP00000275493,9606.ENSP00000278568,9606.ENSP00000301050,9606.ENSP00000306124,9606.ENSP00000306490,9606.ENSP00000326366,9606.ENSP00000332973,9606.ENSP00000362080,9606.ENSP00000370695,9606.ENSP00000378217,9606.ENSP00000380948,9606.ENSP00000394485,9606.ENSP00000428056,9606.ENSP00000441691",
          "9606.ENSP00000215754,9606.ENSP00000215832,9606.ENSP00000247668,9606.ENSP00000260197,9606.ENSP00000262948,9606.ENSP00000263025,9606.ENSP00000269571,9606.ENSP00000274063,9606.ENSP00000275493,9606.ENSP00000278568,9606.ENSP00000286827,9606.ENSP00000294117,9606.ENSP00000300574,9606.ENSP00000310933,9606.ENSP00000318944,9606.ENSP00000324804,9606.ENSP00000326366,9606.ENSP00000343325,9606.ENSP00000346300,9606.ENSP00000352157,9606.ENSP00000361263,9606.ENSP00000376317,9606.ENSP00000378217,9606.ENSP00000380638,9606.ENSP00000399511,9606.ENSP00000401303,9606.ENSP00000417653,9606.ENSP00000420321",
          "9606.ENSP00000215754,9606.ENSP00000215832,9606.ENSP00000247668,9606.ENSP00000262948,9606.ENSP00000263025,9606.ENSP00000269571,9606.ENSP00000275493,9606.ENSP00000278568,9606.ENSP00000286827,9606.ENSP00000294117,9606.ENSP00000300574,9606.ENSP00000310933,9606.ENSP00000318944,9606.ENSP00000326366,9606.ENSP00000343325,9606.ENSP00000346300,9606.ENSP00000352157,9606.ENSP00000361263,9606.ENSP00000376317,9606.ENSP00000380638,9606.ENSP00000399511,9606.ENSP00000401303,9606.ENSP00000417653,9606.ENSP00000420321",
          "9606.ENSP00000215754,9606.ENSP00000222256,9606.ENSP00000243077,9606.ENSP00000255224,9606.ENSP00000260197,9606.ENSP00000261205,9606.ENSP00000265062,9606.ENSP00000273047,9606.ENSP00000275493,9606.ENSP00000306124,9606.ENSP00000312262,9606.ENSP00000312734,9606.ENSP00000312999,9606.ENSP00000320025,9606.ENSP00000362080,9606.ENSP00000370695,9606.ENSP00000380948,9606.ENSP00000441691,9606.ENSP00000444201",
          "9606.ENSP00000215754,9606.ENSP00000222256,9606.ENSP00000243077,9606.ENSP00000255224,9606.ENSP00000260197,9606.ENSP00000261205,9606.ENSP00000265062,9606.ENSP00000273047,9606.ENSP00000275493,9606.ENSP00000306124,9606.ENSP00000312262,9606.ENSP00000312734,9606.ENSP00000320025,9606.ENSP00000362080,9606.ENSP00000370695,9606.ENSP00000380948,9606.ENSP00000441691,9606.ENSP00000444201",
          "9606.ENSP00000215754,9606.ENSP00000243077,9606.ENSP00000262613,9606.ENSP00000263025,9606.ENSP00000269571,9606.ENSP00000275493,9606.ENSP00000286827,9606.ENSP00000312455,9606.ENSP00000312999,9606.ENSP00000318944,9606.ENSP00000346300,9606.ENSP00000360266,9606.ENSP00000361263,9606.ENSP00000380638,9606.ENSP00000401303,9606.ENSP00000408695,9606.ENSP00000433528",
          "9606.ENSP00000215754,9606.ENSP00000243077,9606.ENSP00000262613,9606.ENSP00000264657,9606.ENSP00000274063,9606.ENSP00000276297,9606.ENSP00000300574,9606.ENSP00000320866,9606.ENSP00000351022,9606.ENSP00000361467,9606.ENSP00000377867,9606.ENSP00000417335,9606.ENSP00000420321,9606.ENSP00000442600,9606.ENSP00000459615",
          "9606.ENSP00000215754,9606.ENSP00000243077,9606.ENSP00000262613,9606.ENSP00000264657,9606.ENSP00000274063,9606.ENSP00000276297,9606.ENSP00000300574,9606.ENSP00000320866,9606.ENSP00000351022,9606.ENSP00000361467,9606.ENSP00000377867,9606.ENSP00000420321,9606.ENSP00000442600,9606.ENSP00000459615",
          "9606.ENSP00000215754,9606.ENSP00000243077,9606.ENSP00000262613,9606.ENSP00000264657,9606.ENSP00000274063,9606.ENSP00000276297,9606.ENSP00000300574,9606.ENSP00000320866,9606.ENSP00000351022,9606.ENSP00000361467,9606.ENSP00000377867,9606.ENSP00000420321,9606.ENSP00000442600,9606.ENSP00000459615",
          "9606.ENSP00000215754,9606.ENSP00000243077,9606.ENSP00000262613,9606.ENSP00000264657,9606.ENSP00000274063,9606.ENSP00000276297,9606.ENSP00000320866,9606.ENSP00000351022,9606.ENSP00000361467,9606.ENSP00000377867,9606.ENSP00000420321,9606.ENSP00000442600,9606.ENSP00000459615",
          "9606.ENSP00000215754,9606.ENSP00000243077,9606.ENSP00000263025,9606.ENSP00000275493,9606.ENSP00000312455,9606.ENSP00000312999,9606.ENSP00000346300,9606.ENSP00000360266,9606.ENSP00000361263,9606.ENSP00000380638,9606.ENSP00000401303,9606.ENSP00000408695,9606.ENSP00000433528",
          "9606.ENSP00000215754,9606.ENSP00000247668,9606.ENSP00000261023,9606.ENSP00000262613,9606.ENSP00000274063,9606.ENSP00000310933,9606.ENSP00000312455,9606.ENSP00000312999,9606.ENSP00000314067,9606.ENSP00000318944,9606.ENSP00000324804,9606.ENSP00000326366,9606.ENSP00000332973,9606.ENSP00000354829,9606.ENSP00000358867,9606.ENSP00000360671,9606.ENSP00000367686,9606.ENSP00000378217,9606.ENSP00000386896,9606.ENSP00000394560",
          "9606.ENSP00000215754,9606.ENSP00000247668,9606.ENSP00000261023,9606.ENSP00000274063,9606.ENSP00000312455,9606.ENSP00000312999,9606.ENSP00000326366,9606.ENSP00000358867,9606.ENSP00000360671,9606.ENSP00000367686,9606.ENSP00000386896",
          "9606.ENSP00000215754,9606.ENSP00000255224,9606.ENSP00000261205,9606.ENSP00000262613,9606.ENSP00000301050,9606.ENSP00000306490,9606.ENSP00000320025,9606.ENSP00000326366,9606.ENSP00000360718,9606.ENSP00000367408,9606.ENSP00000378217,9606.ENSP00000379350,9606.ENSP00000394485,9606.ENSP00000478059",
          "9606.ENSP00000215754,9606.ENSP00000264657,9606.ENSP00000267101,9606.ENSP00000274063,9606.ENSP00000275493,9606.ENSP00000289473,9606.ENSP00000293379,9606.ENSP00000306124,9606.ENSP00000314067,9606.ENSP00000324804,9606.ENSP00000326366,9606.ENSP00000367888,9606.ENSP00000378217,9606.ENSP00000380638,9606.ENSP00000380948,9606.ENSP00000401303",
          "9606.ENSP00000215832,9606.ENSP00000222256,9606.ENSP00000236877,9606.ENSP00000254976,9606.ENSP00000255224,9606.ENSP00000261205,9606.ENSP00000263431,9606.ENSP00000264657,9606.ENSP00000273047,9606.ENSP00000275493,9606.ENSP00000292385,9606.ENSP00000300935,9606.ENSP00000301050,9606.ENSP00000305355,9606.ENSP00000306124,9606.ENSP00000312999,9606.ENSP00000320025,9606.ENSP00000326366,9606.ENSP00000343027,9606.ENSP00000345752,9606.ENSP00000357068,9606.ENSP00000357307,9606.ENSP00000359085,9606.ENSP00000360718,9606.ENSP00000367408,9606.ENSP00000379350,9606.ENSP00000380638,9606.ENSP00000400365,9606.ENSP00000405963,9606.ENSP00000444201,9606.ENSP00000469689",
          "9606.ENSP00000215832,9606.ENSP00000222256,9606.ENSP00000236877,9606.ENSP00000254976,9606.ENSP00000255224,9606.ENSP00000261205,9606.ENSP00000263431,9606.ENSP00000264657,9606.ENSP00000273047,9606.ENSP00000275493,9606.ENSP00000292385,9606.ENSP00000300935,9606.ENSP00000301050,9606.ENSP00000305355,9606.ENSP00000306124,9606.ENSP00000312999,9606.ENSP00000320025,9606.ENSP00000326366,9606.ENSP00000343027,9606.ENSP00000345752,9606.ENSP00000357068,9606.ENSP00000357307,9606.ENSP00000359085,9606.ENSP00000360718,9606.ENSP00000367408,9606.ENSP00000379350,9606.ENSP00000380638,9606.ENSP00000400365,9606.ENSP00000405963,9606.ENSP00000444201,9606.ENSP00000469689",
          "9606.ENSP00000215832,9606.ENSP00000222256,9606.ENSP00000236877,9606.ENSP00000254976,9606.ENSP00000255224,9606.ENSP00000273047,9606.ENSP00000292385,9606.ENSP00000300935,9606.ENSP00000326366,9606.ENSP00000357068,9606.ENSP00000380638,9606.ENSP00000405963,9606.ENSP00000444201,9606.ENSP00000469689",
          "9606.ENSP00000215832,9606.ENSP00000222256,9606.ENSP00000243077,9606.ENSP00000262613,9606.ENSP00000263025,9606.ENSP00000264039,9606.ENSP00000264710,9606.ENSP00000269571,9606.ENSP00000300935,9606.ENSP00000304945,9606.ENSP00000341189,9606.ENSP00000354623,9606.ENSP00000359085,9606.ENSP00000364995,9606.ENSP00000367888,9606.ENSP00000368678,9606.ENSP00000371532,9606.ENSP00000376345,9606.ENSP00000379350,9606.ENSP00000380903,9606.ENSP00000385720,9606.ENSP00000387784,9606.ENSP00000400365,9606.ENSP00000401303,9606.ENSP00000408695,9606.ENSP00000417335,9606.ENSP00000420321,9606.ENSP00000428056,9606.ENSP00000442600,9606.ENSP00000469689",
          "9606.ENSP00000215832,9606.ENSP00000222256,9606.ENSP00000243077,9606.ENSP00000263025,9606.ENSP00000263816,9606.ENSP00000264039,9606.ENSP00000264710,9606.ENSP00000269571,9606.ENSP00000275493,9606.ENSP00000278568,9606.ENSP00000286827,9606.ENSP00000292385,9606.ENSP00000300935,9606.ENSP00000304945,9606.ENSP00000341189,9606.ENSP00000356832,9606.ENSP00000359085,9606.ENSP00000364995,9606.ENSP00000367888,9606.ENSP00000368678,9606.ENSP00000371532,9606.ENSP00000376345,9606.ENSP00000379350,9606.ENSP00000380903,9606.ENSP00000385720,9606.ENSP00000387784,9606.ENSP00000399511,9606.ENSP00000400365,9606.ENSP00000401303,9606.ENSP00000408695,9606.ENSP00000417335,9606.ENSP00000417653,9606.ENSP00000420321,9606.ENSP00000428056,9606.ENSP00000442600,9606.ENSP00000459615,9606.ENSP00000469689",
          "9606.ENSP00000215832,9606.ENSP00000222256,9606.ENSP00000243077,9606.ENSP00000263025,9606.ENSP00000264039,9606.ENSP00000264710,9606.ENSP00000269571,9606.ENSP00000300935,9606.ENSP00000304945,9606.ENSP00000311032,9606.ENSP00000341189,9606.ENSP00000359085,9606.ENSP00000360266,9606.ENSP00000364995,9606.ENSP00000368678,9606.ENSP00000371532,9606.ENSP00000376048,9606.ENSP00000376345,9606.ENSP00000379350,9606.ENSP00000380903,9606.ENSP00000385720,9606.ENSP00000387784,9606.ENSP00000400365,9606.ENSP00000401303,9606.ENSP00000408695,9606.ENSP00000417335,9606.ENSP00000420321,9606.ENSP00000428056,9606.ENSP00000442600",
          "9606.ENSP00000215832,9606.ENSP00000222256,9606.ENSP00000243077,9606.ENSP00000263025,9606.ENSP00000264039,9606.ENSP00000264710,9606.ENSP00000269571,9606.ENSP00000300935,9606.ENSP00000304945,9606.ENSP00000341189,9606.ENSP00000359085,9606.ENSP00000364995,9606.ENSP00000368678,9606.ENSP00000371532,9606.ENSP00000376345,9606.ENSP00000379350,9606.ENSP00000380903,9606.ENSP00000385720,9606.ENSP00000387784,9606.ENSP00000400365,9606.ENSP00000401303,9606.ENSP00000408695,9606.ENSP00000417335,9606.ENSP00000420321,9606.ENSP00000428056,9606.ENSP00000442600",
          "9606.ENSP00000215832,9606.ENSP00000222256,9606.ENSP00000263025,9606.ENSP00000263431,9606.ENSP00000267101,9606.ENSP00000269571,9606.ENSP00000273047,9606.ENSP00000275364,9606.ENSP00000275493,9606.ENSP00000278568,9606.ENSP00000293379,9606.ENSP00000296511,9606.ENSP00000305355,9606.ENSP00000306124,9606.ENSP00000311032,9606.ENSP00000332973,9606.ENSP00000334448,9606.ENSP00000351022,9606.ENSP00000357307,9606.ENSP00000359719,9606.ENSP00000362080,9606.ENSP00000378217,9606.ENSP00000385720,9606.ENSP00000400717,9606.ENSP00000408695,9606.ENSP00000418754,9606.ENSP00000428056,9606.ENSP00000442600,9606.ENSP00000444201,9606.ENSP00000481878",
          "9606.ENSP00000215832,9606.ENSP00000229340,9606.ENSP00000263025,9606.ENSP00000263816,9606.ENSP00000265441,9606.ENSP00000267257,9606.ENSP00000269571,9606.ENSP00000275493,9606.ENSP00000296181,9606.ENSP00000300574,9606.ENSP00000311032,9606.ENSP00000312455,9606.ENSP00000332973,9606.ENSP00000341189,9606.ENSP00000346300,9606.ENSP00000360266,9606.ENSP00000361263,9606.ENSP00000366109,9606.ENSP00000376345,9606.ENSP00000378332,9606.ENSP00000387784,9606.ENSP00000401303",
          "9606.ENSP00000215832,9606.ENSP00000232461,9606.ENSP00000243077,9606.ENSP00000263816,9606.ENSP00000264657,9606.ENSP00000264710,9606.ENSP00000265441,9606.ENSP00000274063,9606.ENSP00000292385,9606.ENSP00000312999,9606.ENSP00000326366,9606.ENSP00000334448,9606.ENSP00000367686,9606.ENSP00000375978,9606.ENSP00000377836,9606.ENSP00000378217,9606.ENSP00000380638,9606.ENSP00000404190,9606.ENSP00000405963,9606.ENSP00000481878",
          "9606.ENSP00000215832,9606.ENSP00000236877,9606.ENSP00000254976,9606.ENSP00000261205,9606.ENSP00000275493,9606.ENSP00000301050,9606.ENSP00000306124,9606.ENSP00000320025,9606.ENSP00000360718,9606.ENSP00000380638,9606.ENSP00000400365,9606.ENSP00000444201,9606.ENSP00000469689",
          "9606.ENSP00000215832,9606.ENSP00000243077,9606.ENSP00000244040,9606.ENSP00000247461,9606.ENSP00000253193,9606.ENSP00000254976,9606.ENSP00000260197,9606.ENSP00000261205,9606.ENSP00000263025,9606.ENSP00000263816,9606.ENSP00000265062,9606.ENSP00000271234,9606.ENSP00000273047,9606.ENSP00000276654,9606.ENSP00000294304,9606.ENSP00000312262,9606.ENSP00000317578,9606.ENSP00000320117,9606.ENSP00000320866,9606.ENSP00000345808,9606.ENSP00000346265,9606.ENSP00000352601,9606.ENSP00000353444,9606.ENSP00000356236,9606.ENSP00000360798,9606.ENSP00000363827,9606.ENSP00000367888,9606.ENSP00000371221,9606.ENSP00000371532,9606.ENSP00000376345,9606.ENSP00000379350,9606.ENSP00000380948,9606.ENSP00000413625,9606.ENSP00000417653,9606.ENSP00000441691,9606.ENSP00000454071,9606.ENSP00000461945",
          "9606.ENSP00000215832,9606.ENSP00000243077,9606.ENSP00000255224,9606.ENSP00000261205,9606.ENSP00000264657,9606.ENSP00000265441,9606.ENSP00000274063,9606.ENSP00000278568,9606.ENSP00000292385,9606.ENSP00000341189,9606.ENSP00000356236,9606.ENSP00000368678,9606.ENSP00000376048,9606.ENSP00000417653",
          "9606.ENSP00000215832,9606.ENSP00000243077,9606.ENSP00000255224,9606.ENSP00000261205,9606.ENSP00000265441,9606.ENSP00000269571,9606.ENSP00000274063,9606.ENSP00000275493,9606.ENSP00000278568,9606.ENSP00000292385,9606.ENSP00000300574,9606.ENSP00000356236,9606.ENSP00000368678,9606.ENSP00000380638,9606.ENSP00000417653",
          "9606.ENSP00000215832,9606.ENSP00000243077,9606.ENSP00000261023,9606.ENSP00000263025,9606.ENSP00000264908,9606.ENSP00000265062,9606.ENSP00000273047,9606.ENSP00000278568,9606.ENSP00000300574,9606.ENSP00000306124,9606.ENSP00000341189,9606.ENSP00000345808,9606.ENSP00000356505,9606.ENSP00000366109,9606.ENSP00000376345,9606.ENSP00000378217,9606.ENSP00000379350,9606.ENSP00000380948,9606.ENSP00000428056,9606.ENSP00000441691,9606.ENSP00000444201,9606.ENSP00000454071",
          "9606.ENSP00000215832,9606.ENSP00000243077,9606.ENSP00000263025,9606.ENSP00000264039,9606.ENSP00000264657,9606.ENSP00000267101,9606.ENSP00000269571,9606.ENSP00000275493,9606.ENSP00000326366,9606.ENSP00000357068,9606.ENSP00000366109,9606.ENSP00000376048,9606.ENSP00000380638,9606.ENSP00000400365,9606.ENSP00000442600,9606.ENSP00000459615",
          "9606.ENSP00000215832,9606.ENSP00000243077,9606.ENSP00000263025,9606.ENSP00000264039,9606.ENSP00000264657,9606.ENSP00000267101,9606.ENSP00000269571,9606.ENSP00000275493,9606.ENSP00000326366,9606.ENSP00000357068,9606.ENSP00000376048,9606.ENSP00000400365,9606.ENSP00000442600",
          "9606.ENSP00000215832,9606.ENSP00000243077,9606.ENSP00000263025,9606.ENSP00000264039,9606.ENSP00000269571,9606.ENSP00000304945,9606.ENSP00000341189,9606.ENSP00000364995,9606.ENSP00000368678,9606.ENSP00000371532,9606.ENSP00000376345,9606.ENSP00000380903,9606.ENSP00000385720,9606.ENSP00000387784,9606.ENSP00000400365,9606.ENSP00000401303,9606.ENSP00000408695,9606.ENSP00000417335,9606.ENSP00000420321,9606.ENSP00000428056,9606.ENSP00000442600",
          "9606.ENSP00000215832,9606.ENSP00000243077,9606.ENSP00000263025,9606.ENSP00000264039,9606.ENSP00000269571,9606.ENSP00000304945,9606.ENSP00000341189,9606.ENSP00000364995,9606.ENSP00000368678,9606.ENSP00000371532,9606.ENSP00000376345,9606.ENSP00000380903,9606.ENSP00000385720,9606.ENSP00000387784,9606.ENSP00000400365,9606.ENSP00000401303,9606.ENSP00000408695,9606.ENSP00000417335,9606.ENSP00000420321,9606.ENSP00000428056,9606.ENSP00000442600",
          "9606.ENSP00000215832,9606.ENSP00000247668,9606.ENSP00000262395,9606.ENSP00000262948,9606.ENSP00000263025,9606.ENSP00000267101,9606.ENSP00000275493,9606.ENSP00000278568,9606.ENSP00000294117,9606.ENSP00000300574,9606.ENSP00000310933,9606.ENSP00000314067,9606.ENSP00000318944,9606.ENSP00000326366,9606.ENSP00000343325,9606.ENSP00000346300,9606.ENSP00000352157,9606.ENSP00000359719,9606.ENSP00000361263,9606.ENSP00000367686,9606.ENSP00000376317,9606.ENSP00000377867,9606.ENSP00000378217,9606.ENSP00000380638,9606.ENSP00000399511,9606.ENSP00000401303,9606.ENSP00000417653,5691.AAZ10596,5691.AAZ11445,5691.EAN76407,5691.EAN77619,5691.EAN80351",
          "9606.ENSP00000215832,9606.ENSP00000247668,9606.ENSP00000262395,9606.ENSP00000262948,9606.ENSP00000263025,9606.ENSP00000274063,9606.ENSP00000275493,9606.ENSP00000278568,9606.ENSP00000286827,9606.ENSP00000289473,9606.ENSP00000343325,9606.ENSP00000361263,9606.ENSP00000376317,9606.ENSP00000380638,9606.ENSP00000399511,9606.ENSP00000417653",
          "9606.ENSP00000215832,9606.ENSP00000247668,9606.ENSP00000262395,9606.ENSP00000262948,9606.ENSP00000263025,9606.ENSP00000274063,9606.ENSP00000275493,9606.ENSP00000278568,9606.ENSP00000286827,9606.ENSP00000289473,9606.ENSP00000343325,9606.ENSP00000361263,9606.ENSP00000376317,9606.ENSP00000380638,9606.ENSP00000399511,9606.ENSP00000417653",
          "9606.ENSP00000215832,9606.ENSP00000247668,9606.ENSP00000263025,9606.ENSP00000264657,9606.ENSP00000264908,9606.ENSP00000265441,9606.ENSP00000294304,9606.ENSP00000305355,9606.ENSP00000312455,9606.ENSP00000332973,9606.ENSP00000352157,9606.ENSP00000356832,9606.ENSP00000360266,9606.ENSP00000377833,9606.ENSP00000380948,9606.ENSP00000394560",
          "9606.ENSP00000215832,9606.ENSP00000247668,9606.ENSP00000263025,9606.ENSP00000267257,9606.ENSP00000275493,9606.ENSP00000289473,9606.ENSP00000300574,9606.ENSP00000311032,9606.ENSP00000312455,9606.ENSP00000326366,9606.ENSP00000351022,9606.ENSP00000356505,9606.ENSP00000360266,9606.ENSP00000366109,9606.ENSP00000377867,9606.ENSP00000378217,9606.ENSP00000380638,9606.ENSP00000384763,9606.ENSP00000394560",
          "9606.ENSP00000215832,9606.ENSP00000247668,9606.ENSP00000263025,9606.ENSP00000267257,9606.ENSP00000275493,9606.ENSP00000289473,9606.ENSP00000300574,9606.ENSP00000311032,9606.ENSP00000312455,9606.ENSP00000351022,9606.ENSP00000352157,9606.ENSP00000356505,9606.ENSP00000360266,9606.ENSP00000364586,9606.ENSP00000366109,9606.ENSP00000375978,9606.ENSP00000378217,9606.ENSP00000384763,9606.ENSP00000394560",
          "9606.ENSP00000215832,9606.ENSP00000247668,9606.ENSP00000263025,9606.ENSP00000267257,9606.ENSP00000275493,9606.ENSP00000289473,9606.ENSP00000300574,9606.ENSP00000311032,9606.ENSP00000312455,9606.ENSP00000351022,9606.ENSP00000360266,9606.ENSP00000366109,9606.ENSP00000377867,9606.ENSP00000378217,9606.ENSP00000380638,9606.ENSP00000384763,9606.ENSP00000394560",
          "9606.ENSP00000215832,9606.ENSP00000247668,9606.ENSP00000263025,9606.ENSP00000267257,9606.ENSP00000275493,9606.ENSP00000289473,9606.ENSP00000300574,9606.ENSP00000312455,9606.ENSP00000351022,9606.ENSP00000356505,9606.ENSP00000360266,9606.ENSP00000366109,9606.ENSP00000378217,9606.ENSP00000384763,9606.ENSP00000394560",
          "9606.ENSP00000215832,9606.ENSP00000247668,9606.ENSP00000263025,9606.ENSP00000267257,9606.ENSP00000275493,9606.ENSP00000289473,9606.ENSP00000300574,9606.ENSP00000312455,9606.ENSP00000351022,9606.ENSP00000360266,9606.ENSP00000366109,9606.ENSP00000378217,9606.ENSP00000384763,9606.ENSP00000394560",
          "9606.ENSP00000215832,9606.ENSP00000252999,9606.ENSP00000253861,9606.ENSP00000263025,9606.ENSP00000265441,9606.ENSP00000267101,9606.ENSP00000274063,9606.ENSP00000332973,9606.ENSP00000361467,9606.ENSP00000417335,9606.ENSP00000418754,9606.ENSP00000420321",
          "9606.ENSP00000215832,9606.ENSP00000252999,9606.ENSP00000262613,9606.ENSP00000263025,9606.ENSP00000265441,9606.ENSP00000275493,9606.ENSP00000294304,9606.ENSP00000326366,9606.ENSP00000332973,9606.ENSP00000346300,9606.ENSP00000360266,9606.ENSP00000366109,9606.ENSP00000371897,9606.ENSP00000385720,9606.ENSP00000442600",
          "9606.ENSP00000215832,9606.ENSP00000258173,9606.ENSP00000265441,9606.ENSP00000270861,9606.ENSP00000275364,9606.ENSP00000275493,9606.ENSP00000292385,9606.ENSP00000332973,9606.ENSP00000351022,9606.ENSP00000376345,9606.ENSP00000379350,9606.ENSP00000381237,9606.ENSP00000400717,9606.ENSP00000430344",
          "9606.ENSP00000215832,9606.ENSP00000260197,9606.ENSP00000262948,9606.ENSP00000263025,9606.ENSP00000269571,9606.ENSP00000278568,9606.ENSP00000301050,9606.ENSP00000306490,9606.ENSP00000326366,9606.ENSP00000332973,9606.ENSP00000345752,9606.ENSP00000346032,9606.ENSP00000378217,9606.ENSP00000380948,9606.ENSP00000394485,9606.ENSP00000428056,9606.ENSP00000441691",
          "9606.ENSP00000215832,9606.ENSP00000260197,9606.ENSP00000269571,9606.ENSP00000278568,9606.ENSP00000301050,9606.ENSP00000306490,9606.ENSP00000326366,9606.ENSP00000332973,9606.ENSP00000345752,9606.ENSP00000346032,9606.ENSP00000378217,9606.ENSP00000380948,9606.ENSP00000394485,9606.ENSP00000428056,9606.ENSP00000441691",
          "9606.ENSP00000215832,9606.ENSP00000260197,9606.ENSP00000269571,9606.ENSP00000278568,9606.ENSP00000301050,9606.ENSP00000306490,9606.ENSP00000326366,9606.ENSP00000332973,9606.ENSP00000378217,9606.ENSP00000380948,9606.ENSP00000394485,9606.ENSP00000428056,9606.ENSP00000441691",
          "9606.ENSP00000215832,9606.ENSP00000260197,9606.ENSP00000269571,9606.ENSP00000278568,9606.ENSP00000301050,9606.ENSP00000306490,9606.ENSP00000326366,9606.ENSP00000332973,9606.ENSP00000378217,9606.ENSP00000380948,9606.ENSP00000394485,9606.ENSP00000428056,9606.ENSP00000441691",
          "9606.ENSP00000215832,9606.ENSP00000261023,9606.ENSP00000262948,9606.ENSP00000263025,9606.ENSP00000265080,9606.ENSP00000267101,9606.ENSP00000269571,9606.ENSP00000275493,9606.ENSP00000278568,9606.ENSP00000314067,9606.ENSP00000341189,9606.ENSP00000343325,9606.ENSP00000346300,9606.ENSP00000352157,9606.ENSP00000364995,9606.ENSP00000367686,9606.ENSP00000376317,9606.ENSP00000376345,9606.ENSP00000377867,9606.ENSP00000380638,9606.ENSP00000384192,9606.ENSP00000387784,9606.ENSP00000394560,9606.ENSP00000399511,9606.ENSP00000401303,9606.ENSP00000405963,9606.ENSP00000417653,5691.AAZ10596,5691.AAZ11445,5691.EAN76407,5691.EAN77619,5691.EAN80351",
          "9606.ENSP00000215832,9606.ENSP00000261023,9606.ENSP00000262948,9606.ENSP00000263025,9606.ENSP00000265080,9606.ENSP00000267101,9606.ENSP00000269571,9606.ENSP00000275493,9606.ENSP00000341189,9606.ENSP00000343325,9606.ENSP00000346300,9606.ENSP00000352157,9606.ENSP00000364995,9606.ENSP00000376317,9606.ENSP00000376345,9606.ENSP00000380638,9606.ENSP00000384192,9606.ENSP00000387784,9606.ENSP00000394560,9606.ENSP00000399511,9606.ENSP00000401303,9606.ENSP00000405963,9606.ENSP00000417653",
          "9606.ENSP00000215832,9606.ENSP00000262948,9606.ENSP00000263025,9606.ENSP00000263431,9606.ENSP00000305355,9606.ENSP00000306124,9606.ENSP00000312262,9606.ENSP00000314067,9606.ENSP00000339740,9606.ENSP00000343325,9606.ENSP00000356832,9606.ENSP00000378217,9606.ENSP00000394560,9606.ENSP00000408695",
          "9606.ENSP00000215832,9606.ENSP00000262948,9606.ENSP00000263025,9606.ENSP00000263431,9606.ENSP00000305355,9606.ENSP00000306124,9606.ENSP00000312262,9606.ENSP00000314067,9606.ENSP00000339740,9606.ENSP00000343325,9606.ENSP00000356832,9606.ENSP00000378217,9606.ENSP00000394560,9606.ENSP00000408695",
          "9606.ENSP00000215832,9606.ENSP00000262948,9606.ENSP00000263025,9606.ENSP00000278568,9606.ENSP00000314067,9606.ENSP00000343325,9606.ENSP00000346300,9606.ENSP00000352157,9606.ENSP00000367686,9606.ENSP00000376317,9606.ENSP00000377867,9606.ENSP00000394560,9606.ENSP00000399511,9606.ENSP00000417653",
          "9606.ENSP00000215832,9606.ENSP00000263025,9606.ENSP00000263431,9606.ENSP00000273047,9606.ENSP00000275364,9606.ENSP00000296511,9606.ENSP00000305355,9606.ENSP00000306124,9606.ENSP00000334448,9606.ENSP00000359719,9606.ENSP00000378217,9606.ENSP00000400717,9606.ENSP00000408695,9606.ENSP00000428056,9606.ENSP00000481878",
          "9606.ENSP00000215832,9606.ENSP00000263025,9606.ENSP00000263431,9606.ENSP00000273047,9606.ENSP00000275364,9606.ENSP00000296511,9606.ENSP00000305355,9606.ENSP00000306124,9606.ENSP00000334448,9606.ENSP00000359719,9606.ENSP00000378217,9606.ENSP00000400717,9606.ENSP00000408695,9606.ENSP00000428056,9606.ENSP00000481878",
          "9606.ENSP00000215832,9606.ENSP00000263025,9606.ENSP00000263431,9606.ENSP00000273047,9606.ENSP00000275364,9606.ENSP00000296511,9606.ENSP00000305355,9606.ENSP00000306124,9606.ENSP00000334448,9606.ENSP00000359719,9606.ENSP00000378217,9606.ENSP00000400717,9606.ENSP00000408695,9606.ENSP00000428056,9606.ENSP00000481878",
          "9606.ENSP00000215832,9606.ENSP00000263025,9606.ENSP00000263431,9606.ENSP00000275364,9606.ENSP00000305355,9606.ENSP00000306124,9606.ENSP00000334448,9606.ENSP00000378217,9606.ENSP00000400717,9606.ENSP00000408695,9606.ENSP00000428056,9606.ENSP00000481878",
          "9606.ENSP00000215832,9606.ENSP00000263025,9606.ENSP00000263816,9606.ENSP00000265441,9606.ENSP00000270861,9606.ENSP00000274063,9606.ENSP00000275493,9606.ENSP00000311032,9606.ENSP00000341189,9606.ENSP00000346300,9606.ENSP00000366109,9606.ENSP00000376345,9606.ENSP00000417335,9606.ENSP00000430344",
          "9606.ENSP00000215832,9606.ENSP00000263025,9606.ENSP00000263816,9606.ENSP00000265441,9606.ENSP00000270861,9606.ENSP00000274063,9606.ENSP00000275493,9606.ENSP00000311032,9606.ENSP00000341189,9606.ENSP00000346300,9606.ENSP00000366109,9606.ENSP00000376345,9606.ENSP00000417335,9606.ENSP00000430344",
          "9606.ENSP00000215832,9606.ENSP00000263025,9606.ENSP00000274063,9606.ENSP00000275493,9606.ENSP00000301050,9606.ENSP00000306866,9606.ENSP00000360266,9606.ENSP00000376048,9606.ENSP00000377867,9606.ENSP00000385720,9606.ENSP00000386896,9606.ENSP00000442600",
          "9606.ENSP00000215832,9606.ENSP00000263025,9606.ENSP00000278568,9606.ENSP00000288680,9606.ENSP00000300574,9606.ENSP00000301050,9606.ENSP00000305355,9606.ENSP00000306124,9606.ENSP00000314067,9606.ENSP00000326366,9606.ENSP00000341189,9606.ENSP00000346300,9606.ENSP00000352157,9606.ENSP00000359719,9606.ENSP00000360266,9606.ENSP00000376345,9606.ENSP00000378217,9606.ENSP00000387784,9606.ENSP00000394560,9606.ENSP00000401303,9606.ENSP00000428056",
          "9606.ENSP00000215832,9606.ENSP00000263025,9606.ENSP00000278568,9606.ENSP00000288680,9606.ENSP00000300574,9606.ENSP00000301050,9606.ENSP00000305355,9606.ENSP00000306124,9606.ENSP00000314067,9606.ENSP00000326366,9606.ENSP00000341189,9606.ENSP00000346300,9606.ENSP00000352157,9606.ENSP00000359719,9606.ENSP00000360266,9606.ENSP00000376345,9606.ENSP00000378217,9606.ENSP00000387784,9606.ENSP00000394560,9606.ENSP00000401303,9606.ENSP00000428056",
          "9606.ENSP00000215832,9606.ENSP00000263025,9606.ENSP00000278568,9606.ENSP00000288680,9606.ENSP00000300574,9606.ENSP00000301050,9606.ENSP00000305355,9606.ENSP00000306124,9606.ENSP00000314067,9606.ENSP00000326366,9606.ENSP00000341189,9606.ENSP00000346300,9606.ENSP00000359719,9606.ENSP00000375978,9606.ENSP00000376345,9606.ENSP00000378217,9606.ENSP00000428056",
          "9606.ENSP00000215832,9606.ENSP00000263025,9606.ENSP00000278568,9606.ENSP00000288680,9606.ENSP00000300574,9606.ENSP00000301050,9606.ENSP00000305355,9606.ENSP00000306124,9606.ENSP00000314067,9606.ENSP00000326366,9606.ENSP00000341189,9606.ENSP00000346300,9606.ENSP00000359719,9606.ENSP00000376345,9606.ENSP00000378217,9606.ENSP00000428056",
          "9606.ENSP00000215832,9606.ENSP00000263025,9606.ENSP00000278568,9606.ENSP00000288680,9606.ENSP00000300574,9606.ENSP00000301050,9606.ENSP00000305355,9606.ENSP00000306124,9606.ENSP00000314067,9606.ENSP00000326366,9606.ENSP00000341189,9606.ENSP00000346300,9606.ENSP00000359719,9606.ENSP00000376345,9606.ENSP00000378217,9606.ENSP00000428056",
          "9606.ENSP00000215832,9606.ENSP00000263025,9606.ENSP00000278568,9606.ENSP00000300574,9606.ENSP00000306124,9606.ENSP00000314067,9606.ENSP00000341189,9606.ENSP00000352157,9606.ENSP00000360266,9606.ENSP00000376345,9606.ENSP00000378217,9606.ENSP00000387784,9606.ENSP00000394560,9606.ENSP00000401303,9606.ENSP00000428056",
          "9606.ENSP00000215832,9606.ENSP00000263025,9606.ENSP00000278568,9606.ENSP00000314067,9606.ENSP00000352157,9606.ENSP00000360266,9606.ENSP00000376345,9606.ENSP00000387784,9606.ENSP00000394560,9606.ENSP00000401303,9606.ENSP00000428056",
          "9606.ENSP00000215832,9606.ENSP00000267101,9606.ENSP00000269571,9606.ENSP00000275493,9606.ENSP00000341189,9606.ENSP00000364995,9606.ENSP00000376345,9606.ENSP00000380638,9606.ENSP00000387784,9606.ENSP00000401303,9606.ENSP00000408695,9606.ENSP00000428056",
          "9606.ENSP00000222256,9606.ENSP00000229340,9606.ENSP00000244040,9606.ENSP00000264710,9606.ENSP00000265062,9606.ENSP00000265080,9606.ENSP00000273047,9606.ENSP00000275364,9606.ENSP00000286827,9606.ENSP00000300935,9606.ENSP00000304376,9606.ENSP00000311449,9606.ENSP00000312734,9606.ENSP00000328551,9606.ENSP00000338864,9606.ENSP00000346300,9606.ENSP00000353444,9606.ENSP00000357131,9606.ENSP00000360266,9606.ENSP00000360718,9606.ENSP00000361263,9606.ENSP00000364995,9606.ENSP00000371897,9606.ENSP00000376345,9606.ENSP00000384192,9606.ENSP00000387784,9606.ENSP00000400717,9606.ENSP00000401303,9606.ENSP00000405963,9606.ENSP00000417653,9606.ENSP00000447053,9606.ENSP00000461945,9606.ENSP00000478479,9606.ENSP00000481878,5691.AAZ11866,5691.AAZ13226,5691.EAN77398,5691.EAN78254",
          "9606.ENSP00000222256,9606.ENSP00000229340,9606.ENSP00000244040,9606.ENSP00000264710,9606.ENSP00000265062,9606.ENSP00000273047,9606.ENSP00000275364,9606.ENSP00000286827,9606.ENSP00000300935,9606.ENSP00000304376,9606.ENSP00000311449,9606.ENSP00000312734,9606.ENSP00000328551,9606.ENSP00000338864,9606.ENSP00000346300,9606.ENSP00000353444,9606.ENSP00000360266,9606.ENSP00000360718,9606.ENSP00000361263,9606.ENSP00000364995,9606.ENSP00000371897,9606.ENSP00000376345,9606.ENSP00000384192,9606.ENSP00000387784,9606.ENSP00000400717,9606.ENSP00000401303,9606.ENSP00000417653,9606.ENSP00000447053,9606.ENSP00000461945,9606.ENSP00000478479,9606.ENSP00000481878,5691.AAZ11866,5691.AAZ13226,5691.EAN77398,5691.EAN78254",
          "9606.ENSP00000222256,9606.ENSP00000229340,9606.ENSP00000244040,9606.ENSP00000264710,9606.ENSP00000265062,9606.ENSP00000273047,9606.ENSP00000300935,9606.ENSP00000304376,9606.ENSP00000311449,9606.ENSP00000312734,9606.ENSP00000328551,9606.ENSP00000353444,9606.ENSP00000360718,9606.ENSP00000447053,9606.ENSP00000461945,9606.ENSP00000478479,5691.AAZ11866,5691.AAZ13226,5691.EAN77398,5691.EAN78254",
          "9606.ENSP00000222256,9606.ENSP00000239666,9606.ENSP00000252999,9606.ENSP00000254976,9606.ENSP00000262613,9606.ENSP00000264710,9606.ENSP00000300935,9606.ENSP00000301050,9606.ENSP00000312734,9606.ENSP00000320025,9606.ENSP00000346032,9606.ENSP00000352157,9606.ENSP00000360718,9606.ENSP00000399511,9606.ENSP00000461945",
          "9606.ENSP00000222256,9606.ENSP00000243077,9606.ENSP00000300574,9606.ENSP00000306124,9606.ENSP00000332973,9606.ENSP00000341189,9606.ENSP00000346032,9606.ENSP00000362080,9606.ENSP00000366109,9606.ENSP00000367408,9606.ENSP00000378217,9606.ENSP00000379350,9606.ENSP00000408695",
          "9606.ENSP00000222256,9606.ENSP00000244040,9606.ENSP00000255224,9606.ENSP00000258301,9606.ENSP00000258654,9606.ENSP00000262613,9606.ENSP00000264710,9606.ENSP00000271234,9606.ENSP00000303145,9606.ENSP00000305355,9606.ENSP00000316476,9606.ENSP00000324804,9606.ENSP00000353444,9606.ENSP00000357307,9606.ENSP00000362080,9606.ENSP00000379709,9606.ENSP00000408695,9606.ENSP00000444201,9606.ENSP00000478479,5691.EAN79384",
          "9606.ENSP00000222256,9606.ENSP00000252999,9606.ENSP00000262613,9606.ENSP00000264710,9606.ENSP00000300935,9606.ENSP00000301050,9606.ENSP00000312734,9606.ENSP00000320025,9606.ENSP00000346032,9606.ENSP00000360718,9606.ENSP00000399511,9606.ENSP00000461945",
          "9606.ENSP00000222256,9606.ENSP00000255224,9606.ENSP00000261205,9606.ENSP00000263431,9606.ENSP00000273047,9606.ENSP00000305355,9606.ENSP00000320025,9606.ENSP00000357307,9606.ENSP00000360718,9606.ENSP00000367408,9606.ENSP00000379350,9606.ENSP00000444201",
          "9606.ENSP00000222256,9606.ENSP00000255224,9606.ENSP00000261205,9606.ENSP00000263431,9606.ENSP00000273047,9606.ENSP00000305355,9606.ENSP00000320025,9606.ENSP00000357307,9606.ENSP00000360718,9606.ENSP00000367408,9606.ENSP00000444201",
          "9606.ENSP00000222256,9606.ENSP00000300574,9606.ENSP00000306124,9606.ENSP00000332973,9606.ENSP00000341189,9606.ENSP00000346032,9606.ENSP00000362080,9606.ENSP00000366109,9606.ENSP00000367408,9606.ENSP00000378217,9606.ENSP00000379350,9606.ENSP00000408695",
          "9606.ENSP00000228506,9606.ENSP00000229264,9606.ENSP00000232461,9606.ENSP00000247461,9606.ENSP00000261837,9606.ENSP00000262494,9606.ENSP00000305260,9606.ENSP00000312999,9606.ENSP00000320866,9606.ENSP00000334448,9606.ENSP00000343027,9606.ENSP00000358867,9606.ENSP00000478892,9606.ENSP00000481878",
          "9606.ENSP00000229340,9606.ENSP00000247461,9606.ENSP00000249647,9606.ENSP00000261023,9606.ENSP00000264710,9606.ENSP00000265062,9606.ENSP00000273130,9606.ENSP00000289473,9606.ENSP00000296181,9606.ENSP00000311449,9606.ENSP00000312734,9606.ENSP00000320866,9606.ENSP00000353444,9606.ENSP00000356505,9606.ENSP00000360718,9606.ENSP00000376297,9606.ENSP00000404190",
          "9606.ENSP00000232461,9606.ENSP00000248572,9606.ENSP00000263025,9606.ENSP00000274063,9606.ENSP00000275493,9606.ENSP00000311032,9606.ENSP00000352157,9606.ENSP00000364586,9606.ENSP00000375978,9606.ENSP00000376048,9606.ENSP00000376345,9606.ENSP00000428056,9606.ENSP00000442600,9606.ENSP00000481878",
          "9606.ENSP00000232461,9606.ENSP00000248572,9606.ENSP00000263025,9606.ENSP00000274063,9606.ENSP00000275493,9606.ENSP00000311032,9606.ENSP00000352157,9606.ENSP00000364586,9606.ENSP00000375978,9606.ENSP00000376048,9606.ENSP00000376345,9606.ENSP00000428056,9606.ENSP00000442600,9606.ENSP00000481878",
          "9606.ENSP00000232461,9606.ENSP00000262494,9606.ENSP00000262613,9606.ENSP00000275364,9606.ENSP00000306490,9606.ENSP00000312999,9606.ENSP00000334448,9606.ENSP00000343027,9606.ENSP00000358867,9606.ENSP00000359719,9606.ENSP00000366109,9606.ENSP00000366233,9606.ENSP00000376609,9606.ENSP00000400717,9606.ENSP00000478892,9606.ENSP00000481878",
          "9606.ENSP00000232461,9606.ENSP00000262494,9606.ENSP00000262613,9606.ENSP00000275364,9606.ENSP00000306490,9606.ENSP00000312999,9606.ENSP00000334448,9606.ENSP00000343027,9606.ENSP00000358867,9606.ENSP00000359719,9606.ENSP00000366233,9606.ENSP00000376609,9606.ENSP00000400717,9606.ENSP00000478892,9606.ENSP00000481878",
          "9606.ENSP00000236877,9606.ENSP00000243077,9606.ENSP00000261023,9606.ENSP00000288680,9606.ENSP00000294117,9606.ENSP00000301050,9606.ENSP00000305355,9606.ENSP00000320025,9606.ENSP00000320866,9606.ENSP00000326366,9606.ENSP00000332973,9606.ENSP00000339740,9606.ENSP00000380638,9606.ENSP00000384763,9606.ENSP00000400717,9606.ENSP00000430344,9606.ENSP00000448083,9606.ENSP00000478059,9606.ENSP00000481878,5691.AAZ13044",
          "9606.ENSP00000236877,9606.ENSP00000243077,9606.ENSP00000261023,9606.ENSP00000288680,9606.ENSP00000294117,9606.ENSP00000301050,9606.ENSP00000305355,9606.ENSP00000320025,9606.ENSP00000320866,9606.ENSP00000326366,9606.ENSP00000332973,9606.ENSP00000339740,9606.ENSP00000380638,9606.ENSP00000384763,9606.ENSP00000400717,9606.ENSP00000430344,9606.ENSP00000448083,9606.ENSP00000478059,9606.ENSP00000481878,5691.AAZ13044",
          "9606.ENSP00000236877,9606.ENSP00000243077,9606.ENSP00000261023,9606.ENSP00000288680,9606.ENSP00000294117,9606.ENSP00000301050,9606.ENSP00000305355,9606.ENSP00000320025,9606.ENSP00000320866,9606.ENSP00000326366,9606.ENSP00000332973,9606.ENSP00000339740,9606.ENSP00000380638,9606.ENSP00000384763,9606.ENSP00000400717,9606.ENSP00000430344,9606.ENSP00000448083,9606.ENSP00000478059,9606.ENSP00000481878,5691.AAZ13044",
          "9606.ENSP00000236877,9606.ENSP00000243077,9606.ENSP00000261023,9606.ENSP00000288680,9606.ENSP00000294117,9606.ENSP00000301050,9606.ENSP00000320025,9606.ENSP00000332973,9606.ENSP00000380638,9606.ENSP00000384763,9606.ENSP00000400717,9606.ENSP00000430344,9606.ENSP00000448083,9606.ENSP00000481878,5691.AAZ13044",
          "9606.ENSP00000236877,9606.ENSP00000251127,9606.ENSP00000261023,9606.ENSP00000301050,9606.ENSP00000305355,9606.ENSP00000320025,9606.ENSP00000326366,9606.ENSP00000346032,9606.ENSP00000355747,9606.ENSP00000356545,9606.ENSP00000367408,9606.ENSP00000371180,9606.ENSP00000377840,9606.ENSP00000384763,9606.ENSP00000419101,9606.ENSP00000430344,9606.ENSP00000438949,9606.ENSP00000448083,9606.ENSP00000478059,5691.AAZ13044,5691.EAN77713",
          "9606.ENSP00000236877,9606.ENSP00000251127,9606.ENSP00000261023,9606.ENSP00000301050,9606.ENSP00000305355,9606.ENSP00000320025,9606.ENSP00000326366,9606.ENSP00000346032,9606.ENSP00000355747,9606.ENSP00000356545,9606.ENSP00000367408,9606.ENSP00000371180,9606.ENSP00000377840,9606.ENSP00000384763,9606.ENSP00000419101,9606.ENSP00000430344,9606.ENSP00000438949,9606.ENSP00000448083,9606.ENSP00000478059,5691.AAZ13044,5691.EAN77713",
          "9606.ENSP00000236877,9606.ENSP00000251127,9606.ENSP00000261023,9606.ENSP00000301050,9606.ENSP00000305355,9606.ENSP00000320025,9606.ENSP00000326366,9606.ENSP00000346032,9606.ENSP00000355747,9606.ENSP00000356545,9606.ENSP00000367408,9606.ENSP00000371180,9606.ENSP00000377840,9606.ENSP00000384763,9606.ENSP00000419101,9606.ENSP00000430344,9606.ENSP00000438949,9606.ENSP00000448083,9606.ENSP00000478059,5691.AAZ13044,5691.EAN77713",
          "9606.ENSP00000236877,9606.ENSP00000251127,9606.ENSP00000261023,9606.ENSP00000301050,9606.ENSP00000320025,9606.ENSP00000326366,9606.ENSP00000346032,9606.ENSP00000356545,9606.ENSP00000371180,9606.ENSP00000377840,9606.ENSP00000384763,9606.ENSP00000419101,9606.ENSP00000430344,9606.ENSP00000438949,9606.ENSP00000448083,5691.AAZ13044,5691.EAN77713",
          "9606.ENSP00000236877,9606.ENSP00000251127,9606.ENSP00000301050,9606.ENSP00000306490,9606.ENSP00000320025,9606.ENSP00000326366,9606.ENSP00000339740,9606.ENSP00000345752,9606.ENSP00000346534,9606.ENSP00000356545,9606.ENSP00000357068,9606.ENSP00000360266,9606.ENSP00000364586,9606.ENSP00000366233,9606.ENSP00000380638,9606.ENSP00000384763,9606.ENSP00000438949,9606.ENSP00000469689,5691.EAN77713",
          "9606.ENSP00000236877,9606.ENSP00000262494,9606.ENSP00000275493,9606.ENSP00000301050,9606.ENSP00000312262,9606.ENSP00000320025,9606.ENSP00000339740,9606.ENSP00000351022,9606.ENSP00000377840,9606.ENSP00000384763,9606.ENSP00000419101,9606.ENSP00000438949,9606.ENSP00000478059",
          "9606.ENSP00000236877,9606.ENSP00000262494,9606.ENSP00000301050,9606.ENSP00000312262,9606.ENSP00000320025,9606.ENSP00000339740,9606.ENSP00000351022,9606.ENSP00000377840,9606.ENSP00000384763,9606.ENSP00000419101,9606.ENSP00000438949,9606.ENSP00000478059",
          "9606.ENSP00000239666,9606.ENSP00000262613,9606.ENSP00000264710,9606.ENSP00000278568,9606.ENSP00000300574,9606.ENSP00000341189,9606.ENSP00000346300,9606.ENSP00000361467,9606.ENSP00000379350,9606.ENSP00000385720,9606.ENSP00000418754",
          "9606.ENSP00000243077,9606.ENSP00000247461,9606.ENSP00000253193,9606.ENSP00000254976,9606.ENSP00000260197,9606.ENSP00000263816,9606.ENSP00000271234,9606.ENSP00000273047,9606.ENSP00000312262,9606.ENSP00000317578,9606.ENSP00000320866,9606.ENSP00000360798,9606.ENSP00000363827,9606.ENSP00000371532,9606.ENSP00000376345,9606.ENSP00000379350,9606.ENSP00000380948,9606.ENSP00000417653,9606.ENSP00000441691,9606.ENSP00000454071,9606.ENSP00000461945",
          "9606.ENSP00000243077,9606.ENSP00000247668,9606.ENSP00000260197,9606.ENSP00000263431,9606.ENSP00000264657,9606.ENSP00000267101,9606.ENSP00000311032,9606.ENSP00000326366,9606.ENSP00000360266,9606.ENSP00000376048,9606.ENSP00000380638,9606.ENSP00000380948,9606.ENSP00000441691",
          "9606.ENSP00000243077,9606.ENSP00000254976,9606.ENSP00000260197,9606.ENSP00000273047,9606.ENSP00000312262,9606.ENSP00000317578,9606.ENSP00000360798,9606.ENSP00000371532,9606.ENSP00000376345,9606.ENSP00000379350,9606.ENSP00000380948,9606.ENSP00000461945",
          "9606.ENSP00000243077,9606.ENSP00000254976,9606.ENSP00000275493,9606.ENSP00000276052,9606.ENSP00000281456,9606.ENSP00000286827,9606.ENSP00000294304,9606.ENSP00000306124,9606.ENSP00000312734,9606.ENSP00000356545,9606.ENSP00000360671,9606.ENSP00000362080,9606.ENSP00000366109,9606.ENSP00000408695,9606.ENSP00000444201",
          "9606.ENSP00000243077,9606.ENSP00000254976,9606.ENSP00000275493,9606.ENSP00000276052,9606.ENSP00000281456,9606.ENSP00000286827,9606.ENSP00000294304,9606.ENSP00000306124,9606.ENSP00000312734,9606.ENSP00000356545,9606.ENSP00000360671,9606.ENSP00000362080,9606.ENSP00000408695,9606.ENSP00000444201",
          "9606.ENSP00000243077,9606.ENSP00000254976,9606.ENSP00000276052,9606.ENSP00000281456,9606.ENSP00000286827,9606.ENSP00000294304,9606.ENSP00000306124,9606.ENSP00000356545,9606.ENSP00000360671,9606.ENSP00000362080,9606.ENSP00000408695,9606.ENSP00000444201",
          "9606.ENSP00000243077,9606.ENSP00000255224,9606.ENSP00000260197,9606.ENSP00000264657,9606.ENSP00000278568,9606.ENSP00000320866,9606.ENSP00000326366,9606.ENSP00000341189,9606.ENSP00000367888,9606.ENSP00000376048,9606.ENSP00000454071,9606.ENSP00000459615",
          "9606.ENSP00000243077,9606.ENSP00000255224,9606.ENSP00000260197,9606.ENSP00000264657,9606.ENSP00000320866,9606.ENSP00000326366,9606.ENSP00000341189,9606.ENSP00000345752,9606.ENSP00000359719,9606.ENSP00000367888,9606.ENSP00000376048,9606.ENSP00000417335,9606.ENSP00000454071,9606.ENSP00000459615",
          "9606.ENSP00000243077,9606.ENSP00000255224,9606.ENSP00000260197,9606.ENSP00000264657,9606.ENSP00000320866,9606.ENSP00000326366,9606.ENSP00000341189,9606.ENSP00000367888,9606.ENSP00000376048,9606.ENSP00000454071,9606.ENSP00000459615",
          "9606.ENSP00000243077,9606.ENSP00000255224,9606.ENSP00000261205,9606.ENSP00000269571,9606.ENSP00000274063,9606.ENSP00000275493,9606.ENSP00000278568,9606.ENSP00000292385,9606.ENSP00000300574,9606.ENSP00000324804,9606.ENSP00000332973,9606.ENSP00000338864,9606.ENSP00000339740,9606.ENSP00000346300,9606.ENSP00000356236,9606.ENSP00000356832,9606.ENSP00000367686,9606.ENSP00000375727,9606.ENSP00000376048,9606.ENSP00000380638,9606.ENSP00000417653",
          "9606.ENSP00000243077,9606.ENSP00000255224,9606.ENSP00000261205,9606.ENSP00000269571,9606.ENSP00000274063,9606.ENSP00000275493,9606.ENSP00000278568,9606.ENSP00000292385,9606.ENSP00000300574,9606.ENSP00000356236,9606.ENSP00000380638,9606.ENSP00000417653",
          "9606.ENSP00000243077,9606.ENSP00000260197,9606.ENSP00000263025,9606.ENSP00000263816,9606.ENSP00000265062,9606.ENSP00000306124,9606.ENSP00000321330,9606.ENSP00000326366,9606.ENSP00000341189,9606.ENSP00000358867,9606.ENSP00000377836,9606.ENSP00000378217,9606.ENSP00000380638,9606.ENSP00000394560,9606.ENSP00000448083,9606.ENSP00000454071",
          "9606.ENSP00000243077,9606.ENSP00000260197,9606.ENSP00000263431,9606.ENSP00000263816,9606.ENSP00000265062,9606.ENSP00000275364,9606.ENSP00000275493,9606.ENSP00000321330,9606.ENSP00000326366,9606.ENSP00000332973,9606.ENSP00000341189,9606.ENSP00000346032,9606.ENSP00000377836,9606.ENSP00000380638,9606.ENSP00000394560,9606.ENSP00000454071",
          "9606.ENSP00000243077,9606.ENSP00000260197,9606.ENSP00000263816,9606.ENSP00000265062,9606.ENSP00000321330,9606.ENSP00000326366,9606.ENSP00000341189,9606.ENSP00000377836,9606.ENSP00000380638,9606.ENSP00000394560,9606.ENSP00000454071",
          "9606.ENSP00000243077,9606.ENSP00000261023,9606.ENSP00000263816,9606.ENSP00000274063,9606.ENSP00000293379,9606.ENSP00000294304,9606.ENSP00000304945,9606.ENSP00000341189,9606.ENSP00000346032,9606.ENSP00000360266,9606.ENSP00000363827,9606.ENSP00000379350,9606.ENSP00000380638,9606.ENSP00000387784,9606.ENSP00000400717,9606.ENSP00000401303,9606.ENSP00000408695,9606.ENSP00000420321,9606.ENSP00000430344,9606.ENSP00000442600,9606.ENSP00000454071",
          "9606.ENSP00000243077,9606.ENSP00000261023,9606.ENSP00000288680,9606.ENSP00000294117,9606.ENSP00000301050,9606.ENSP00000320025,9606.ENSP00000380638,9606.ENSP00000384763,9606.ENSP00000400717,9606.ENSP00000430344,9606.ENSP00000448083,9606.ENSP00000481878,5691.AAZ13044",
          "9606.ENSP00000243077,9606.ENSP00000262428,9606.ENSP00000267257,9606.ENSP00000276297,9606.ENSP00000278568,9606.ENSP00000292385,9606.ENSP00000300574,9606.ENSP00000306124,9606.ENSP00000314067,9606.ENSP00000332973,9606.ENSP00000339740,9606.ENSP00000351022,9606.ENSP00000357131,9606.ENSP00000361009,9606.ENSP00000376345,9606.ENSP00000378217,9606.ENSP00000380638,9606.ENSP00000385720,9606.ENSP00000417653,9606.ENSP00000428056",
          "9606.ENSP00000243077,9606.ENSP00000262428,9606.ENSP00000267257,9606.ENSP00000276297,9606.ENSP00000278568,9606.ENSP00000292385,9606.ENSP00000300574,9606.ENSP00000306124,9606.ENSP00000314067,9606.ENSP00000332973,9606.ENSP00000351022,9606.ENSP00000357131,9606.ENSP00000361009,9606.ENSP00000376345,9606.ENSP00000378217,9606.ENSP00000380638,9606.ENSP00000385720,9606.ENSP00000417653,9606.ENSP00000428056",
          "9606.ENSP00000243077,9606.ENSP00000263431,9606.ENSP00000263816,9606.ENSP00000275364,9606.ENSP00000321330,9606.ENSP00000326366,9606.ENSP00000341189,9606.ENSP00000346032,9606.ENSP00000380638,9606.ENSP00000394560,9606.ENSP00000454071",
          "9606.ENSP00000243077,9606.ENSP00000263816,9606.ENSP00000264908,9606.ENSP00000275493,9606.ENSP00000276297,9606.ENSP00000300574,9606.ENSP00000311032,9606.ENSP00000326366,9606.ENSP00000346300,9606.ENSP00000360021,9606.ENSP00000384763,9606.ENSP00000385720,9606.ENSP00000417335,9606.ENSP00000420321,9606.ENSP00000441691,9606.ENSP00000459615",
          "9606.ENSP00000243077,9606.ENSP00000264657,9606.ENSP00000264710,9606.ENSP00000267257,9606.ENSP00000278568,9606.ENSP00000294304,9606.ENSP00000300574,9606.ENSP00000300935,9606.ENSP00000312455,9606.ENSP00000312734,9606.ENSP00000315768,9606.ENSP00000326366,9606.ENSP00000341189,9606.ENSP00000343027,9606.ENSP00000359719,9606.ENSP00000360293,9606.ENSP00000366109,9606.ENSP00000376345,9606.ENSP00000377840,9606.ENSP00000378217,9606.ENSP00000387784,9606.ENSP00000388566,9606.ENSP00000401303,9606.ENSP00000428056,9606.ENSP00000442600,9606.ENSP00000461945",
          "9606.ENSP00000243077,9606.ENSP00000264657,9606.ENSP00000264710,9606.ENSP00000267257,9606.ENSP00000278568,9606.ENSP00000300574,9606.ENSP00000300935,9606.ENSP00000312455,9606.ENSP00000312734,9606.ENSP00000326366,9606.ENSP00000341189,9606.ENSP00000359719,9606.ENSP00000360293,9606.ENSP00000376345,9606.ENSP00000377840,9606.ENSP00000378217,9606.ENSP00000387784,9606.ENSP00000388566,9606.ENSP00000401303,9606.ENSP00000428056,9606.ENSP00000461945",
          "9606.ENSP00000243077,9606.ENSP00000264908,9606.ENSP00000275493,9606.ENSP00000300574,9606.ENSP00000311032,9606.ENSP00000326366,9606.ENSP00000346300,9606.ENSP00000360021,9606.ENSP00000384763,9606.ENSP00000417335,9606.ENSP00000420321,9606.ENSP00000459615",
          "9606.ENSP00000243077,9606.ENSP00000267101,9606.ENSP00000269571,9606.ENSP00000276297,9606.ENSP00000311032,9606.ENSP00000341189,9606.ENSP00000361467,9606.ENSP00000366109,9606.ENSP00000367408,9606.ENSP00000378217,9606.ENSP00000428056",
          "9606.ENSP00000243077,9606.ENSP00000278568,9606.ENSP00000286827,9606.ENSP00000292385,9606.ENSP00000300574,9606.ENSP00000320866,9606.ENSP00000326366,9606.ENSP00000341189,9606.ENSP00000346300,9606.ENSP00000361009,9606.ENSP00000367888,9606.ENSP00000376048,9606.ENSP00000385720,9606.ENSP00000399511,9606.ENSP00000417335,9606.ENSP00000417653,9606.ENSP00000420321",
          "9606.ENSP00000243077,9606.ENSP00000278568,9606.ENSP00000286827,9606.ENSP00000292385,9606.ENSP00000300574,9606.ENSP00000320866,9606.ENSP00000346300,9606.ENSP00000361009,9606.ENSP00000417335,9606.ENSP00000417653,9606.ENSP00000420321",
          "9606.ENSP00000243077,9606.ENSP00000278568,9606.ENSP00000286827,9606.ENSP00000292385,9606.ENSP00000326366,9606.ENSP00000341189,9606.ENSP00000367888,9606.ENSP00000376048,9606.ENSP00000385720,9606.ENSP00000417335,9606.ENSP00000417653,9606.ENSP00000420321",
          "9606.ENSP00000247461,9606.ENSP00000249647,9606.ENSP00000261023,9606.ENSP00000265062,9606.ENSP00000273130,9606.ENSP00000289473,9606.ENSP00000296181,9606.ENSP00000320866,9606.ENSP00000356505,9606.ENSP00000376297,9606.ENSP00000404190",
          "9606.ENSP00000247461,9606.ENSP00000249647,9606.ENSP00000261023,9606.ENSP00000265062,9606.ENSP00000273130,9606.ENSP00000289473,9606.ENSP00000296181,9606.ENSP00000320866,9606.ENSP00000356505,9606.ENSP00000376297,9606.ENSP00000404190",
          "9606.ENSP00000247461,9606.ENSP00000249647,9606.ENSP00000261023,9606.ENSP00000265062,9606.ENSP00000273130,9606.ENSP00000289473,9606.ENSP00000296181,9606.ENSP00000320866,9606.ENSP00000356505,9606.ENSP00000376297,9606.ENSP00000404190",
          "9606.ENSP00000247668,9606.ENSP00000261023,9606.ENSP00000267101,9606.ENSP00000306866,9606.ENSP00000311032,9606.ENSP00000312455,9606.ENSP00000332973,9606.ENSP00000360266,9606.ENSP00000364586,9606.ENSP00000378217,9606.ENSP00000388566,9606.ENSP00000408695,9606.ENSP00000428056,9606.ENSP00000441691",
          "9606.ENSP00000247668,9606.ENSP00000262395,9606.ENSP00000274063,9606.ENSP00000275493,9606.ENSP00000278568,9606.ENSP00000286827,9606.ENSP00000289473,9606.ENSP00000343325,9606.ENSP00000361263,9606.ENSP00000376317,9606.ENSP00000380638,9606.ENSP00000399511,9606.ENSP00000417653",
          "9606.ENSP00000249647,9606.ENSP00000253861,9606.ENSP00000258301,9606.ENSP00000258654,9606.ENSP00000260197,9606.ENSP00000260762,9606.ENSP00000264710,9606.ENSP00000273130,9606.ENSP00000300935,9606.ENSP00000303145,9606.ENSP00000311449,9606.ENSP00000312734,9606.ENSP00000360798,9606.ENSP00000370695,9606.ENSP00000376297,9606.ENSP00000404190,9606.ENSP00000461945,5691.EAN79384",
          "9606.ENSP00000251127,9606.ENSP00000261837,9606.ENSP00000262613,9606.ENSP00000301050,9606.ENSP00000306124,9606.ENSP00000320025,9606.ENSP00000326366,9606.ENSP00000339740,9606.ENSP00000346534,9606.ENSP00000355747,9606.ENSP00000356545,9606.ENSP00000357068,9606.ENSP00000364586,9606.ENSP00000371180,9606.ENSP00000376432,9606.ENSP00000377840,9606.ENSP00000379350,9606.ENSP00000380638,9606.ENSP00000384763,9606.ENSP00000394485,9606.ENSP00000405963,9606.ENSP00000419101,9606.ENSP00000438949,9606.ENSP00000448083,9606.ENSP00000469689,9606.ENSP00000478059,5691.EAN77713",
          "9606.ENSP00000252999,9606.ENSP00000262613,9606.ENSP00000263816,9606.ENSP00000264710,9606.ENSP00000274063,9606.ENSP00000275493,9606.ENSP00000276297,9606.ENSP00000278568,9606.ENSP00000293379,9606.ENSP00000294304,9606.ENSP00000311032,9606.ENSP00000324532,9606.ENSP00000326366,9606.ENSP00000332973,9606.ENSP00000345808,9606.ENSP00000359719,9606.ENSP00000361467,9606.ENSP00000376345,9606.ENSP00000377836,9606.ENSP00000378332,9606.ENSP00000385720,9606.ENSP00000387784,9606.ENSP00000400717,9606.ENSP00000418754,9606.ENSP00000442600",
          "9606.ENSP00000252999,9606.ENSP00000263816,9606.ENSP00000274063,9606.ENSP00000276297,9606.ENSP00000278568,9606.ENSP00000294304,9606.ENSP00000311032,9606.ENSP00000326366,9606.ENSP00000332973,9606.ENSP00000359719,9606.ENSP00000361467,9606.ENSP00000377836,9606.ENSP00000385720,9606.ENSP00000400717,9606.ENSP00000418754,9606.ENSP00000442600",
          "9606.ENSP00000252999,9606.ENSP00000267082,9606.ENSP00000267257,9606.ENSP00000294304,9606.ENSP00000341189,9606.ENSP00000343325,9606.ENSP00000377836,9606.ENSP00000378332,9606.ENSP00000379350,9606.ENSP00000380638,9606.ENSP00000380948,9606.ENSP00000420321,9606.ENSP00000459615",
          "9606.ENSP00000260197,9606.ENSP00000262613,9606.ENSP00000264657,9606.ENSP00000274063,9606.ENSP00000294304,9606.ENSP00000311032,9606.ENSP00000314067,9606.ENSP00000324804,9606.ENSP00000326366,9606.ENSP00000343325,9606.ENSP00000346300,9606.ENSP00000360266,9606.ENSP00000361263,9606.ENSP00000376297,9606.ENSP00000376317,9606.ENSP00000378217,9606.ENSP00000384763,9606.ENSP00000442600",
          "9606.ENSP00000260197,9606.ENSP00000262613,9606.ENSP00000274063,9606.ENSP00000294304,9606.ENSP00000311032,9606.ENSP00000314067,9606.ENSP00000324804,9606.ENSP00000326366,9606.ENSP00000343325,9606.ENSP00000346300,9606.ENSP00000360266,9606.ENSP00000361263,9606.ENSP00000376317,9606.ENSP00000378217,9606.ENSP00000384763,9606.ENSP00000442600",
          "9606.ENSP00000260197,9606.ENSP00000274063,9606.ENSP00000294304,9606.ENSP00000311032,9606.ENSP00000314067,9606.ENSP00000324804,9606.ENSP00000326366,9606.ENSP00000343325,9606.ENSP00000376317,9606.ENSP00000378217,9606.ENSP00000384763",
          "9606.ENSP00000260197,9606.ENSP00000274063,9606.ENSP00000294304,9606.ENSP00000311032,9606.ENSP00000314067,9606.ENSP00000324804,9606.ENSP00000326366,9606.ENSP00000343325,9606.ENSP00000376317,9606.ENSP00000378217,9606.ENSP00000384763",
          "9606.ENSP00000260197,9606.ENSP00000274063,9606.ENSP00000294304,9606.ENSP00000311032,9606.ENSP00000314067,9606.ENSP00000324804,9606.ENSP00000326366,9606.ENSP00000343325,9606.ENSP00000376317,9606.ENSP00000378217,9606.ENSP00000384763",
          "9606.ENSP00000261023,9606.ENSP00000265062,9606.ENSP00000267082,9606.ENSP00000273047,9606.ENSP00000275493,9606.ENSP00000293379,9606.ENSP00000296181,9606.ENSP00000312262,9606.ENSP00000360798,9606.ENSP00000379350,9606.ENSP00000442600,9606.ENSP00000454071",
          "9606.ENSP00000261023,9606.ENSP00000265062,9606.ENSP00000267082,9606.ENSP00000275493,9606.ENSP00000293379,9606.ENSP00000296181,9606.ENSP00000312262,9606.ENSP00000360798,9606.ENSP00000376345,9606.ENSP00000379350,9606.ENSP00000442600,9606.ENSP00000454071",
          "9606.ENSP00000261023,9606.ENSP00000265062,9606.ENSP00000267082,9606.ENSP00000275493,9606.ENSP00000293379,9606.ENSP00000296181,9606.ENSP00000312262,9606.ENSP00000360798,9606.ENSP00000376345,9606.ENSP00000379350,9606.ENSP00000442600,9606.ENSP00000454071",
          "9606.ENSP00000261023,9606.ENSP00000267082,9606.ENSP00000275493,9606.ENSP00000293379,9606.ENSP00000296181,9606.ENSP00000312262,9606.ENSP00000360798,9606.ENSP00000376345,9606.ENSP00000379350,9606.ENSP00000442600,9606.ENSP00000454071",
          "9606.ENSP00000261023,9606.ENSP00000274063,9606.ENSP00000293379,9606.ENSP00000304945,9606.ENSP00000341189,9606.ENSP00000346032,9606.ENSP00000360266,9606.ENSP00000363827,9606.ENSP00000379350,9606.ENSP00000380638,9606.ENSP00000400717,9606.ENSP00000401303,9606.ENSP00000408695,9606.ENSP00000420321,9606.ENSP00000430344,9606.ENSP00000442600",
          "9606.ENSP00000261837,9606.ENSP00000262613,9606.ENSP00000301050,9606.ENSP00000306124,9606.ENSP00000312999,9606.ENSP00000320025,9606.ENSP00000339740,9606.ENSP00000355747,9606.ENSP00000367408,9606.ENSP00000377840,9606.ENSP00000379350,9606.ENSP00000380638,9606.ENSP00000384763,9606.ENSP00000438949,9606.ENSP00000478059",
          "9606.ENSP00000261837,9606.ENSP00000262613,9606.ENSP00000301050,9606.ENSP00000306124,9606.ENSP00000320025,9606.ENSP00000339740,9606.ENSP00000355747,9606.ENSP00000377840,9606.ENSP00000379350,9606.ENSP00000380638,9606.ENSP00000384763,9606.ENSP00000394485,9606.ENSP00000405963,9606.ENSP00000438949,9606.ENSP00000469689,9606.ENSP00000478059",
          "9606.ENSP00000261837,9606.ENSP00000262613,9606.ENSP00000301050,9606.ENSP00000306124,9606.ENSP00000320025,9606.ENSP00000339740,9606.ENSP00000356832,9606.ENSP00000377840,9606.ENSP00000378217,9606.ENSP00000379350,9606.ENSP00000380638,9606.ENSP00000394485,9606.ENSP00000405963,9606.ENSP00000438949,9606.ENSP00000469689,9606.ENSP00000478059",
          "9606.ENSP00000261837,9606.ENSP00000262613,9606.ENSP00000301050,9606.ENSP00000306124,9606.ENSP00000320025,9606.ENSP00000339740,9606.ENSP00000377840,9606.ENSP00000379350,9606.ENSP00000380638,9606.ENSP00000394485,9606.ENSP00000405963,9606.ENSP00000438949,9606.ENSP00000469689,9606.ENSP00000478059",
          "9606.ENSP00000261837,9606.ENSP00000262613,9606.ENSP00000301050,9606.ENSP00000306124,9606.ENSP00000320025,9606.ENSP00000339740,9606.ENSP00000377840,9606.ENSP00000379350,9606.ENSP00000380638,9606.ENSP00000394485,9606.ENSP00000405963,9606.ENSP00000438949,9606.ENSP00000469689,9606.ENSP00000478059",
          "9606.ENSP00000261837,9606.ENSP00000269571,9606.ENSP00000276297,9606.ENSP00000286827,9606.ENSP00000300574,9606.ENSP00000338864,9606.ENSP00000345808,9606.ENSP00000346300,9606.ENSP00000351333,9606.ENSP00000357131,9606.ENSP00000360266,9606.ENSP00000361009,9606.ENSP00000361263,9606.ENSP00000368678,9606.ENSP00000371897,9606.ENSP00000379350,9606.ENSP00000379709,9606.ENSP00000380638,9606.ENSP00000384192,9606.ENSP00000385720,9606.ENSP00000386896,9606.ENSP00000387784,9606.ENSP00000404190,9606.ENSP00000405963,9606.ENSP00000459615",
          "9606.ENSP00000261837,9606.ENSP00000301050,9606.ENSP00000306124,9606.ENSP00000312999,9606.ENSP00000320025,9606.ENSP00000339740,9606.ENSP00000355747,9606.ENSP00000367408,9606.ENSP00000377840,9606.ENSP00000380638,9606.ENSP00000384763,9606.ENSP00000438949,9606.ENSP00000478059",
          "9606.ENSP00000261837,9606.ENSP00000301050,9606.ENSP00000306124,9606.ENSP00000320025,9606.ENSP00000339740,9606.ENSP00000355747,9606.ENSP00000377840,9606.ENSP00000380638,9606.ENSP00000384763,9606.ENSP00000438949,9606.ENSP00000478059",
          "9606.ENSP00000261837,9606.ENSP00000301050,9606.ENSP00000320025,9606.ENSP00000339740,9606.ENSP00000377840,9606.ENSP00000379350,9606.ENSP00000380638,9606.ENSP00000405963,9606.ENSP00000438949,9606.ENSP00000469689,9606.ENSP00000478059",
          "9606.ENSP00000262428,9606.ENSP00000267257,9606.ENSP00000276297,9606.ENSP00000278568,9606.ENSP00000292385,9606.ENSP00000306124,9606.ENSP00000314067,9606.ENSP00000326366,9606.ENSP00000332973,9606.ENSP00000351022,9606.ENSP00000357131,9606.ENSP00000361009,9606.ENSP00000363827,9606.ENSP00000376345,9606.ENSP00000378217,9606.ENSP00000380638,9606.ENSP00000385720,9606.ENSP00000417653,9606.ENSP00000428056,9606.ENSP00000454071",
          "9606.ENSP00000262428,9606.ENSP00000267257,9606.ENSP00000276297,9606.ENSP00000278568,9606.ENSP00000292385,9606.ENSP00000306124,9606.ENSP00000314067,9606.ENSP00000332973,9606.ENSP00000351022,9606.ENSP00000357131,9606.ENSP00000361009,9606.ENSP00000376345,9606.ENSP00000378217,9606.ENSP00000380638,9606.ENSP00000385720,9606.ENSP00000417653,9606.ENSP00000428056",
          "9606.ENSP00000262494,9606.ENSP00000262613,9606.ENSP00000265441,9606.ENSP00000273047,9606.ENSP00000274063,9606.ENSP00000286827,9606.ENSP00000294304,9606.ENSP00000306490,9606.ENSP00000334448,9606.ENSP00000366233,9606.ENSP00000367888,9606.ENSP00000369390,9606.ENSP00000376609,9606.ENSP00000378332,9606.ENSP00000399511,9606.ENSP00000418754,9606.ENSP00000441691,9606.ENSP00000481878",
          "9606.ENSP00000262494,9606.ENSP00000262613,9606.ENSP00000265441,9606.ENSP00000273047,9606.ENSP00000274063,9606.ENSP00000286827,9606.ENSP00000294304,9606.ENSP00000334448,9606.ENSP00000367888,9606.ENSP00000369390,9606.ENSP00000376609,9606.ENSP00000378332,9606.ENSP00000399511,9606.ENSP00000418754,9606.ENSP00000481878",
          "9606.ENSP00000262494,9606.ENSP00000262613,9606.ENSP00000265441,9606.ENSP00000273047,9606.ENSP00000274063,9606.ENSP00000286827,9606.ENSP00000294304,9606.ENSP00000334448,9606.ENSP00000367888,9606.ENSP00000369390,9606.ENSP00000376609,9606.ENSP00000378332,9606.ENSP00000399511,9606.ENSP00000418754,9606.ENSP00000481878",
          "9606.ENSP00000262494,9606.ENSP00000267257,9606.ENSP00000286827,9606.ENSP00000296181,9606.ENSP00000312262,9606.ENSP00000312455,9606.ENSP00000320025,9606.ENSP00000339740,9606.ENSP00000347852,9606.ENSP00000351022,9606.ENSP00000360293,9606.ENSP00000384763",
          "9606.ENSP00000262613,9606.ENSP00000263816,9606.ENSP00000267101,9606.ENSP00000269571,9606.ENSP00000275493,9606.ENSP00000341189,9606.ENSP00000361263,9606.ENSP00000376345,9606.ENSP00000379350,9606.ENSP00000428056,9606.ENSP00000442600",
          "9606.ENSP00000262613,9606.ENSP00000275364,9606.ENSP00000276297,9606.ENSP00000300574,9606.ENSP00000341189,9606.ENSP00000351022,9606.ENSP00000357131,9606.ENSP00000366109,9606.ENSP00000380638,9606.ENSP00000380948,9606.ENSP00000385720,9606.ENSP00000400717,9606.ENSP00000442600,9606.ENSP00000452120",
          "9606.ENSP00000262948,9606.ENSP00000263025,9606.ENSP00000263431,9606.ENSP00000269571,9606.ENSP00000275493,9606.ENSP00000278568,9606.ENSP00000314067,9606.ENSP00000339740,9606.ENSP00000341189,9606.ENSP00000376317,9606.ENSP00000376609,9606.ENSP00000377867,9606.ENSP00000380638,9606.ENSP00000399511",
          "9606.ENSP00000263816,9606.ENSP00000265441,9606.ENSP00000274063,9606.ENSP00000276297,9606.ENSP00000326366,9606.ENSP00000332973,9606.ENSP00000341189,9606.ENSP00000346300,9606.ENSP00000351022,9606.ENSP00000360266,9606.ENSP00000387784,9606.ENSP00000417335,9606.ENSP00000420321",
          "9606.ENSP00000264657,9606.ENSP00000264710,9606.ENSP00000267257,9606.ENSP00000278568,9606.ENSP00000294304,9606.ENSP00000300574,9606.ENSP00000300935,9606.ENSP00000312455,9606.ENSP00000312734,9606.ENSP00000315768,9606.ENSP00000341189,9606.ENSP00000343027,9606.ENSP00000359719,9606.ENSP00000360293,9606.ENSP00000366109,9606.ENSP00000376345,9606.ENSP00000378217,9606.ENSP00000387784,9606.ENSP00000401303,9606.ENSP00000428056,9606.ENSP00000442600,9606.ENSP00000461945",
          "9606.ENSP00000264657,9606.ENSP00000264710,9606.ENSP00000267257,9606.ENSP00000278568,9606.ENSP00000300574,9606.ENSP00000300935,9606.ENSP00000312455,9606.ENSP00000312734,9606.ENSP00000341189,9606.ENSP00000359719,9606.ENSP00000360293,9606.ENSP00000376345,9606.ENSP00000378217,9606.ENSP00000387784,9606.ENSP00000401303,9606.ENSP00000428056,9606.ENSP00000461945",
          "9606.ENSP00000264657,9606.ENSP00000264908,9606.ENSP00000269571,9606.ENSP00000274063,9606.ENSP00000293379,9606.ENSP00000305355,9606.ENSP00000312455,9606.ENSP00000363827,9606.ENSP00000366109,9606.ENSP00000379350,9606.ENSP00000380638,9606.ENSP00000380948,9606.ENSP00000401303,9606.ENSP00000408695,9606.ENSP00000478059",
          "9606.ENSP00000264657,9606.ENSP00000264908,9606.ENSP00000269571,9606.ENSP00000274063,9606.ENSP00000293379,9606.ENSP00000305355,9606.ENSP00000363827,9606.ENSP00000366109,9606.ENSP00000379350,9606.ENSP00000380638,9606.ENSP00000380948,9606.ENSP00000401303,9606.ENSP00000408695,9606.ENSP00000478059",
          "9606.ENSP00000264657,9606.ENSP00000264908,9606.ENSP00000274063,9606.ENSP00000293379,9606.ENSP00000305355,9606.ENSP00000312455,9606.ENSP00000366109,9606.ENSP00000379350,9606.ENSP00000380638,9606.ENSP00000380948,9606.ENSP00000408695,9606.ENSP00000478059",
          "9606.ENSP00000264657,9606.ENSP00000264908,9606.ENSP00000274063,9606.ENSP00000293379,9606.ENSP00000305355,9606.ENSP00000366109,9606.ENSP00000379350,9606.ENSP00000380638,9606.ENSP00000380948,9606.ENSP00000408695,9606.ENSP00000478059",
          "9606.ENSP00000264657,9606.ENSP00000265441,9606.ENSP00000269571,9606.ENSP00000274063,9606.ENSP00000275493,9606.ENSP00000312455,9606.ENSP00000332973,9606.ENSP00000360266,9606.ENSP00000367408,9606.ENSP00000377836,9606.ENSP00000408695,9606.ENSP00000420321",
          "9606.ENSP00000264657,9606.ENSP00000275493,9606.ENSP00000312455,9606.ENSP00000312999,9606.ENSP00000332973,9606.ENSP00000358867,9606.ENSP00000376345,9606.ENSP00000378217,9606.ENSP00000380638,9606.ENSP00000380948,9606.ENSP00000401303,9606.ENSP00000441691",
          "9606.ENSP00000264710,9606.ENSP00000278568,9606.ENSP00000300935,9606.ENSP00000312455,9606.ENSP00000312734,9606.ENSP00000360293,9606.ENSP00000376345,9606.ENSP00000387784,9606.ENSP00000401303,9606.ENSP00000428056,9606.ENSP00000461945",
          "9606.ENSP00000264710,9606.ENSP00000278568,9606.ENSP00000300935,9606.ENSP00000312455,9606.ENSP00000312734,9606.ENSP00000360293,9606.ENSP00000376345,9606.ENSP00000387784,9606.ENSP00000401303,9606.ENSP00000428056,9606.ENSP00000461945",
          "9606.ENSP00000286827,9606.ENSP00000292385,9606.ENSP00000300574,9606.ENSP00000326366,9606.ENSP00000346300,9606.ENSP00000361009,9606.ENSP00000361467,9606.ENSP00000371532,9606.ENSP00000399511,9606.ENSP00000417653,9606.ENSP00000469689",
          "9606.ENSP00000301050,9606.ENSP00000320025,9606.ENSP00000339740,9606.ENSP00000346534,9606.ENSP00000364586,9606.ENSP00000376048,9606.ENSP00000377840,9606.ENSP00000384763,9606.ENSP00000419101,9606.ENSP00000438949,5691.EAN77713",
          "Activation of immune response",
          "Activation of protein kinase activity",
          "Adenylate cyclase-modulating g protein-coupled receptor signaling pathway",
          "Aging",
          "Ameboidal-type cell migration",
          "Angiogenesis",
          "Anterograde trans-synaptic signaling",
          "Antigen processing and presentation",
          "Antigen processing and presentation of exogenous antigen",
          "Antigen processing and presentation of exogenous peptide antigen",
          "Antigen processing and presentation of peptide antigen",
          "Apoptotic signaling pathway",
          "Autophagy",
          "Axon development",
          "Axon guidance",
          "Axonogenesis",
          "Blood coagulation",
          "Blood vessel morphogenesis",
          "Calcium ion homeostasis",
          "Calcium ion transmembrane transport",
          "Calcium ion transport",
          "Camera-type eye development",
          "Cell junction assembly",
          "Cell junction organization",
          "Cell morphogenesis involved in neuron differentiation",
          "Cell population proliferation",
          "Cell surface receptor signaling pathway involved in cell-cell signaling",
          "Cell-cell signaling by wnt",
          "Cell-matrix adhesion",
          "Cell-substrate adhesion",
          "Cellular calcium ion homeostasis",
          "Cellular divalent inorganic cation homeostasis",
          "Cellular response to abiotic stimulus",
          "Cellular response to chemical stress",
          "Cellular response to environmental stimulus",
          "Cellular response to external stimulus",
          "Cellular response to growth factor stimulus",
          "Cellular response to inorganic substance",
          "Cellular response to insulin stimulus",
          "Cellular response to metal ion",
          "Cellular response to oxidative stress",
          "Cellular response to peptide",
          "Cellular response to peptide hormone stimulus",
          "Cellular response to reactive oxygen species",
          "Chemical synaptic transmission",
          "Coagulation",
          "Cognition",
          "Divalent inorganic cation transport",
          "Divalent metal ion transport",
          "ERBB signaling pathway",
          "Endocytosis",
          "Endomembrane system organization",
          "Entry into host",
          "Epithelial tube morphogenesis",
          "Establishment of organelle localization",
          "Establishment or maintenance of cell polarity",
          "Exocytic process",
          "Extracellular matrix organization",
          "Extracellular structure organization",
          "Eye development",
          "Fc receptor signaling pathway",
          "Fc-epsilon receptor signaling pathway",
          "Forebrain development",
          "Formation of primary germ layer",
          "G protein-coupled receptor signaling pathway, coupled to cyclic nucleotide second messenger",
          "Gastrulation",
          "Gland development",
          "Glial cell differentiation",
          "Gliogenesis",
          "Golgi vesicle transport",
          "Heart morphogenesis",
          "Hemostasis",
          "Immune response-activating cell surface receptor signaling pathway",
          "Immune response-activating signal transduction",
          "Immune response-regulating cell surface receptor signaling pathway",
          "Immune response-regulating signaling pathway",
          "In utero embryonic development",
          "Integrin-mediated signaling pathway",
          "Interaction with host",
          "Learning or memory",
          "Leukocyte migration",
          "Lung development",
          "MAPK cascade",
          "Membrane docking",
          "Membrane fusion",
          "Memory",
          "Mesenchyme development",
          "Modulation of chemical synaptic transmission",
          "Morphogenesis of an epithelium",
          "Movement in host environment",
          "Multicellular organismal signaling",
          "Muscle system process",
          "Negative regulation of apoptotic signaling pathway",
          "Negative regulation of cell adhesion",
          "Negative regulation of cell development",
          "Negative regulation of cell migration",
          "Negative regulation of cell motility",
          "Negative regulation of cellular component movement",
          "Negative regulation of kinase activity",
          "Negative regulation of locomotion",
          "Negative regulation of nervous system development",
          "Negative regulation of neurogenesis",
          "Negative regulation of phosphorylation",
          "Negative regulation of protein kinase activity",
          "Negative regulation of protein phosphorylation",
          "Negative regulation of transferase activity",
          "Negative regulation of transport",
          "Neuron projection guidance",
          "Neuron projection morphogenesis",
          "Neurotransmitter secretion",
          "Neurotransmitter transport",
          "Neutrophil activation",
          "Neutrophil activation involved in immune response",
          "Neutrophil degranulation",
          "Neutrophil mediated immunity",
          "Organelle fusion",
          "Organelle localization by membrane tethering",
          "Organelle membrane fusion",
          "Peptidyl-serine modification",
          "Peptidyl-serine phosphorylation",
          "Phagocytosis",
          "Platelet activation",
          "Positive regulation of angiogenesis",
          "Positive regulation of catabolic process",
          "Positive regulation of cell adhesion",
          "Positive regulation of cell growth",
          "Positive regulation of cell morphogenesis involved in differentiation",
          "Positive regulation of cell projection organization",
          "Positive regulation of cell-substrate adhesion",
          "Positive regulation of cellular protein localization",
          "Positive regulation of cytosolic calcium ion concentration",
          "Positive regulation of erk1 and erk2 cascade",
          "Positive regulation of establishment of protein localization",
          "Positive regulation of growth",
          "Positive regulation of gtpase activity",
          "Positive regulation of intracellular protein transport",
          "Positive regulation of intracellular transport",
          "Positive regulation of ion transport",
          "Positive regulation of map kinase activity",
          "Positive regulation of neurogenesis",
          "Positive regulation of neuron differentiation",
          "Positive regulation of neuron projection development",
          "Positive regulation of protein catabolic process",
          "Positive regulation of protein localization to membrane",
          "Positive regulation of protein serine/threonine kinase activity",
          "Positive regulation of protein transport",
          "Positive regulation of secretion",
          "Positive regulation of secretion by cell",
          "Positive regulation of synaptic transmission",
          "Positive regulation of vasculature development",
          "Process utilizing autophagic mechanism",
          "Protein autophosphorylation",
          "Protein folding",
          "Protein localization to cell periphery",
          "Protein localization to plasma membrane",
          "Rab protein signal transduction",
          "Ras protein signal transduction",
          "Receptor metabolic process",
          "Receptor-mediated endocytosis",
          "Regulation of actin cytoskeleton organization",
          "Regulation of actin filament organization",
          "Regulation of actin filament-based process",
          "Regulation of amine transport",
          "Regulation of angiogenesis",
          "Regulation of apoptotic signaling pathway",
          "Regulation of axonogenesis",
          "Regulation of blood circulation",
          "Regulation of calcium ion transmembrane transport",
          "Regulation of calcium ion transport",
          "Regulation of cation channel activity",
          "Regulation of cation transmembrane transport",
          "Regulation of cell growth",
          "Regulation of cell morphogenesis involved in differentiation",
          "Regulation of cell shape",
          "Regulation of cell-substrate adhesion",
          "Regulation of cellular component size",
          "Regulation of cellular protein catabolic process",
          "Regulation of cellular response to growth factor stimulus",
          "Regulation of cytosolic calcium ion concentration",
          "Regulation of dendrite development",
          "Regulation of developmental growth",
          "Regulation of dna-binding transcription factor activity",
          "Regulation of epithelial cell proliferation",
          "Regulation of erk1 and erk2 cascade",
          "Regulation of exocytosis",
          "Regulation of heart contraction",
          "Regulation of hormone secretion",
          "Regulation of insulin secretion",
          "Regulation of intracellular protein transport",
          "Regulation of intracellular transport",
          "Regulation of ion transmembrane transport",
          "Regulation of ion transmembrane transporter activity",
          "Regulation of jnk cascade",
          "Regulation of leukocyte proliferation",
          "Regulation of map kinase activity",
          "Regulation of membrane potential",
          "Regulation of metal ion transport",
          "Regulation of neuron death",
          "Regulation of neurotransmitter levels",
          "Regulation of neurotransmitter transport",
          "Regulation of peptide hormone secretion",
          "Regulation of peptide secretion",
          "Regulation of peptidyl-tyrosine phosphorylation",
          "Regulation of protein catabolic process",
          "Regulation of protein kinase b signaling",
          "Regulation of protein localization to membrane",
          "Regulation of protein secretion",
          "Regulation of ras protein signal transduction",
          "Regulation of reactive oxygen species metabolic process",
          "Regulation of regulated secretory pathway",
          "Regulation of response to wounding",
          "Regulation of small gtpase mediated signal transduction",
          "Regulation of stress-activated mapk cascade",
          "Regulation of stress-activated protein kinase signaling cascade",
          "Regulation of supramolecular fiber organization",
          "Regulation of synaptic plasticity",
          "Regulation of synaptic vesicle cycle",
          "Regulation of trans-synaptic signaling",
          "Regulation of transmembrane transporter activity",
          "Regulation of transporter activity",
          "Regulation of vasculature development",
          "Regulation of wnt signaling pathway",
          "Regulation of wound healing",
          "Reproductive structure development",
          "Reproductive system development",
          "Respiratory system development",
          "Respiratory tube development",
          "Response to calcium ion",
          "Response to insulin",
          "Response to metal ion",
          "Response to oxidative stress",
          "Response to peptide",
          "Response to peptide hormone",
          "Response to reactive oxygen species",
          "Sensory organ morphogenesis",
          "Sensory system development",
          "Signal release",
          "Signal release from synapse",
          "Signal transduction by protein phosphorylation",
          "Small gtpase mediated signal transduction",
          "Stress-activated protein kinase signaling cascade",
          "Synapse organization",
          "Synaptic signaling",
          "Synaptic vesicle cycle",
          "Telencephalon development",
          "Trans-synaptic signaling",
          "Vesicle fusion",
          "Vesicle organization",
          "Vesicle-mediated transport in synapse",
          "Viral life cycle",
          "Visual system development",
          "Wnt signaling pathway",
          "Wound healing"
         ],
         "name": "",
         "parents": [
          "Sensory organ morphogenesis",
          "Regulation of cellular component size",
          "Eye development",
          "Sensory system development",
          "Visual system development",
          "Camera-type eye development",
          "Cell junction organization",
          "Cell-substrate adhesion",
          "Extracellular matrix organization",
          "Extracellular structure organization",
          "Integrin-mediated signaling pathway",
          "Gastrulation",
          "Formation of primary germ layer",
          "Cell-matrix adhesion",
          "Leukocyte migration",
          "Respiratory tube development",
          "Lung development",
          "Respiratory system development",
          "Cognition",
          "Learning or memory",
          "Positive regulation of cellular protein localization",
          "Synapse organization",
          "Memory",
          "Positive regulation of neurogenesis",
          "Positive regulation of cell projection organization",
          "Positive regulation of neuron differentiation",
          "Positive regulation of neuron projection development",
          "Regulation of wnt signaling pathway",
          "Regulation of protein localization to membrane",
          "Positive regulation of protein localization to membrane",
          "Regulation of cell-substrate adhesion",
          "Regulation of cellular response to growth factor stimulus",
          "Positive regulation of cell adhesion",
          "Regulation of small gtpase mediated signal transduction",
          "Regulation of ras protein signal transduction",
          "Positive regulation of cell-substrate adhesion",
          "Vesicle organization",
          "Membrane fusion",
          "Organelle fusion",
          "Organelle membrane fusion",
          "Vesicle fusion",
          "Cellular response to inorganic substance",
          "Response to metal ion",
          "Cellular response to metal ion",
          "Regulation of exocytosis",
          "Regulation of regulated secretory pathway",
          "Regulation of amine transport",
          "Response to calcium ion",
          "Regulation of leukocyte proliferation",
          "Regulation of peptide secretion",
          "Regulation of protein secretion",
          "Negative regulation of transport",
          "Autophagy",
          "Process utilizing autophagic mechanism",
          "Cell junction assembly",
          "Neutrophil activation",
          "Neutrophil activation involved in immune response",
          "Neutrophil degranulation",
          "Neutrophil mediated immunity",
          "Synaptic signaling",
          "Trans-synaptic signaling",
          "Anterograde trans-synaptic signaling",
          "Chemical synaptic transmission",
          "Regulation of neurotransmitter levels",
          "Signal release",
          "Neurotransmitter transport",
          "Neurotransmitter secretion",
          "Signal release from synapse",
          "Vesicle-mediated transport in synapse",
          "Synaptic vesicle cycle",
          "Exocytic process",
          "Establishment of organelle localization",
          "Membrane docking",
          "Organelle localization by membrane tethering",
          "Positive regulation of protein serine/threonine kinase activity",
          "Aging",
          "Positive regulation of establishment of protein localization",
          "Positive regulation of protein transport",
          "Regulation of map kinase activity",
          "Positive regulation of map kinase activity",
          "Positive regulation of secretion",
          "Positive regulation of secretion by cell",
          "Regulation of erk1 and erk2 cascade",
          "Negative regulation of locomotion",
          "Negative regulation of cell motility",
          "Negative regulation of cellular component movement",
          "Negative regulation of cell migration",
          "Positive regulation of erk1 and erk2 cascade",
          "Regulation of apoptotic signaling pathway",
          "Negative regulation of apoptotic signaling pathway",
          "Positive regulation of ion transport",
          "Regulation of peptidyl-tyrosine phosphorylation",
          "Modulation of chemical synaptic transmission",
          "Regulation of trans-synaptic signaling",
          "Regulation of synaptic plasticity",
          "Cell morphogenesis involved in neuron differentiation",
          "Neuron projection morphogenesis",
          "Axon development",
          "Axonogenesis",
          "Wound healing",
          "Cellular response to growth factor stimulus",
          "Cell population proliferation",
          "Positive regulation of synaptic transmission",
          "Endocytosis",
          "Regulation of developmental growth",
          "Positive regulation of growth",
          "Phagocytosis",
          "Gliogenesis",
          "Glial cell differentiation",
          "Axon guidance",
          "Neuron projection guidance",
          "Activation of protein kinase activity",
          "Regulation of stress-activated mapk cascade",
          "Regulation of stress-activated protein kinase signaling cascade",
          "Regulation of dna-binding transcription factor activity",
          "Response to oxidative stress",
          "Cellular response to chemical stress",
          "Response to reactive oxygen species",
          "Cellular response to oxidative stress",
          "Cellular response to reactive oxygen species",
          "Mesenchyme development",
          "Gland development",
          "In utero embryonic development",
          "Regulation of intracellular transport",
          "Positive regulation of intracellular transport",
          "Positive regulation of intracellular protein transport",
          "Regulation of intracellular protein transport",
          "Signal transduction by protein phosphorylation",
          "MAPK cascade",
          "Peptidyl-serine modification",
          "Peptidyl-serine phosphorylation",
          "Stress-activated protein kinase signaling cascade",
          "Blood coagulation",
          "Coagulation",
          "Hemostasis",
          "Platelet activation",
          "Reproductive structure development",
          "Reproductive system development",
          "Cellular response to external stimulus",
          "Immune response-regulating cell surface receptor signaling pathway",
          "Immune response-regulating signaling pathway",
          "Activation of immune response",
          "Immune response-activating cell surface receptor signaling pathway",
          "Immune response-activating signal transduction",
          "Fc receptor signaling pathway",
          "Fc-epsilon receptor signaling pathway",
          "ERBB signaling pathway",
          "Small gtpase mediated signal transduction",
          "Ras protein signal transduction",
          "Rab protein signal transduction",
          "Protein localization to cell periphery",
          "Regulation of response to wounding",
          "Endomembrane system organization",
          "Protein localization to plasma membrane",
          "Regulation of neurotransmitter transport",
          "Regulation of synaptic vesicle cycle",
          "Regulation of wound healing",
          "Protein folding",
          "Antigen processing and presentation",
          "Cellular response to abiotic stimulus",
          "Cellular response to environmental stimulus",
          "G protein-coupled receptor signaling pathway, coupled to cyclic nucleotide second messenger",
          "Adenylate cyclase-modulating g protein-coupled receptor signaling pathway",
          "Calcium ion homeostasis",
          "Cellular calcium ion homeostasis",
          "Cellular divalent inorganic cation homeostasis",
          "Regulation of cytosolic calcium ion concentration",
          "Calcium ion transport",
          "Divalent inorganic cation transport",
          "Divalent metal ion transport",
          "Calcium ion transmembrane transport",
          "Regulation of membrane potential",
          "Regulation of blood circulation",
          "Regulation of heart contraction",
          "Establishment or maintenance of cell polarity",
          "Receptor-mediated endocytosis",
          "Regulation of neuron death",
          "Receptor metabolic process",
          "Regulation of hormone secretion",
          "Regulation of peptide hormone secretion",
          "Regulation of insulin secretion",
          "Negative regulation of cell development",
          "Negative regulation of nervous system development",
          "Negative regulation of neurogenesis",
          "Regulation of cell growth",
          "Positive regulation of cell growth",
          "Positive regulation of catabolic process",
          "Regulation of protein catabolic process",
          "Positive regulation of protein catabolic process",
          "Blood vessel morphogenesis",
          "Positive regulation of cytosolic calcium ion concentration",
          "Regulation of actin filament-based process",
          "Regulation of actin cytoskeleton organization",
          "Regulation of cellular protein catabolic process",
          "Forebrain development",
          "Response to peptide",
          "Cellular response to peptide",
          "Telencephalon development",
          "Negative regulation of cell adhesion",
          "Regulation of cell morphogenesis involved in differentiation",
          "Positive regulation of cell morphogenesis involved in differentiation",
          "Regulation of axonogenesis",
          "Antigen processing and presentation of exogenous antigen",
          "Antigen processing and presentation of exogenous peptide antigen",
          "Antigen processing and presentation of peptide antigen",
          "Apoptotic signaling pathway",
          "Regulation of jnk cascade",
          "Golgi vesicle transport",
          "Regulation of ion transmembrane transport",
          "Morphogenesis of an epithelium",
          "Epithelial tube morphogenesis",
          "Ameboidal-type cell migration",
          "Negative regulation of phosphorylation",
          "Negative regulation of protein phosphorylation",
          "Negative regulation of kinase activity",
          "Negative regulation of protein kinase activity",
          "Negative regulation of transferase activity",
          "Viral life cycle",
          "Interaction with host",
          "Movement in host environment",
          "Entry into host",
          "Angiogenesis",
          "Regulation of metal ion transport",
          "Regulation of cation transmembrane transport",
          "Regulation of transporter activity",
          "Regulation of ion transmembrane transporter activity",
          "Regulation of transmembrane transporter activity",
          "Positive regulation of gtpase activity",
          "Regulation of calcium ion transport",
          "Regulation of calcium ion transmembrane transport",
          "Regulation of cation channel activity",
          "Regulation of supramolecular fiber organization",
          "Regulation of actin filament organization",
          "Cell surface receptor signaling pathway involved in cell-cell signaling",
          "Cell-cell signaling by wnt",
          "Wnt signaling pathway",
          "Muscle system process",
          "Regulation of protein kinase b signaling",
          "Regulation of cell shape",
          "Protein autophosphorylation",
          "Heart morphogenesis",
          "Response to peptide hormone",
          "Cellular response to peptide hormone stimulus",
          "Regulation of vasculature development",
          "Regulation of angiogenesis",
          "Positive regulation of vasculature development",
          "Positive regulation of angiogenesis",
          "Regulation of epithelial cell proliferation",
          "Regulation of reactive oxygen species metabolic process",
          "Cellular response to insulin stimulus",
          "Response to insulin",
          "Regulation of dendrite development",
          "Multicellular organismal signaling",
          "",
          "",
          "",
          "",
          "",
          "",
          "",
          "",
          "",
          "",
          "",
          "",
          "",
          "",
          "",
          "",
          "",
          "",
          "",
          "",
          "",
          "",
          "",
          "",
          "",
          "",
          "",
          "",
          "",
          "",
          "",
          "",
          "",
          "",
          "",
          "",
          "",
          "",
          "",
          "",
          "",
          "",
          "",
          "",
          "",
          "",
          "",
          "",
          "",
          "",
          "",
          "",
          "",
          "",
          "",
          "",
          "",
          "",
          "",
          "",
          "",
          "",
          "",
          "",
          "",
          "",
          "",
          "",
          "",
          "",
          "",
          "",
          "",
          "",
          "",
          "",
          "",
          "",
          "",
          "",
          "",
          "",
          "",
          "",
          "",
          "",
          "",
          "",
          "",
          "",
          "",
          "",
          "",
          "",
          "",
          "",
          "",
          "",
          "",
          "",
          "",
          "",
          "",
          "",
          "",
          "",
          "",
          "",
          "",
          "",
          "",
          "",
          "",
          "",
          "",
          "",
          "",
          "",
          "",
          "",
          "",
          "",
          "",
          "",
          "",
          "",
          "",
          "",
          "",
          "",
          "",
          "",
          "",
          "",
          "",
          "",
          "",
          "",
          "",
          "",
          "",
          "",
          "",
          "",
          "",
          "",
          "",
          "",
          "",
          "",
          "",
          "",
          "",
          "",
          "",
          "",
          "",
          "",
          "",
          "",
          "",
          "",
          "",
          "",
          "",
          "",
          "",
          "",
          "",
          "",
          "",
          "",
          "",
          "",
          "",
          "",
          "",
          "",
          "",
          "",
          "",
          "",
          "",
          "",
          "",
          "",
          "",
          "",
          "",
          "",
          "",
          "",
          "",
          "",
          "",
          "",
          "",
          "",
          "",
          "",
          "",
          "",
          "",
          "",
          "",
          "",
          "",
          "",
          "",
          "",
          "",
          "",
          "",
          "",
          "",
          "",
          "",
          "",
          "",
          "",
          "",
          "",
          "",
          "",
          "",
          "",
          "",
          "",
          "",
          "",
          "",
          "",
          "",
          "",
          "",
          "",
          "",
          "",
          "",
          "",
          "",
          "",
          "",
          "",
          "",
          "",
          "",
          "",
          "",
          "",
          "",
          "",
          ""
         ],
         "type": "treemap",
         "values": [
          2.8614647049099027,
          3.402482269503546,
          2.846773303916161,
          2.797817882087545,
          2.846773303916161,
          2.5825475228259243,
          4.520562464669305,
          7.9460363286418865,
          4.510230545753793,
          4.4957864121112685,
          13.893063009342079,
          5.940166902849945,
          6.953720803910918,
          8.311844792375766,
          4.32733874694659,
          4.918857789086797,
          4.577875026902934,
          3.907273396295842,
          5.3815192743764175,
          6.034875610323181,
          4.683009444691688,
          4.585701650943396,
          7.265787647467037,
          4.130145820644191,
          4.478608695652174,
          4.0070391259936935,
          5.370386818847981,
          2.601555747623163,
          6.746503798342541,
          8.095490716180372,
          5.4915361493434585,
          3.213387087550752,
          3.731326445790286,
          6.321006439692416,
          5.140236686390533,
          6.45846091725832,
          4.406381020554249,
          6.575467316846627,
          8.78389256550176,
          11.020272564139871,
          12.09653043848446,
          6.365633149811649,
          3.6395499108734404,
          6.087680112118425,
          7.98408376544075,
          7.342720033749934,
          10.13489226012175,
          6.2874118496307405,
          3.5287531806615777,
          4.089074373987791,
          4.238188976377953,
          2.8260343309859155,
          3.073535851122058,
          3.073535851122058,
          3.4866897147796023,
          4.314338042909472,
          4.223259102156239,
          4.261303665668236,
          4.158249334099336,
          5.818234893451396,
          4.953774761738436,
          4.988626203397584,
          4.988626203397584,
          7.204459561602419,
          5.918732430360337,
          8.140802092414996,
          10.688461538461539,
          10.688461538461539,
          8.782440825919087,
          7.401187446988974,
          12.140180430256766,
          2.5895873552123554,
          6.018968429258153,
          5.887353518932466,
          5.170382127311642,
          3.300905741254532,
          3.5773031000109543,
          3.748148148148148,
          6.043761919100673,
          6.692129032258064,
          3.9113103778096603,
          4.028836171096345,
          4.1552882914750615,
          3.376682667223208,
          3.513410740203193,
          3.118378936499742,
          3.4483371647509578,
          4.412111971225272,
          3.4633555420956994,
          3.2668790463467268,
          3.434430882770366,
          4.435902364020757,
          5.245785849952517,
          5.232900099673348,
          5.286962190352021,
          5.03157110361597,
          5.773662099453582,
          5.146876618667772,
          5.000806451612903,
          5.144995791414486,
          3.1569141781006187,
          2.83564238014552,
          6.476582604220278,
          6.495046557228947,
          2.9002884615384614,
          3.944608275316937,
          8.05775075987842,
          5.072400175515577,
          5.250412167653547,
          5.6047122035573125,
          5.582581012288338,
          6.012846088081198,
          5.072400175515577,
          5.000757166035695,
          2.523485978382957,
          3.22687660922955,
          4.545098039215686,
          6.108825233876977,
          4.213685474189676,
          7.508738461538462,
          3.9755725190839692,
          2.5158594399100727,
          2.5080050031269545,
          3.26019867771175,
          4.7375610111459165,
          5.034705515459325,
          3.3530569345677357,
          5.602160216021602,
          4.287297675781886,
          4.363551401869159,
          4.921538461538462,
          6.747039291643608,
          3.4720881595881594,
          3.4477433098122754,
          3.411849196832132,
          6.493018059951592,
          2.2574572127139363,
          2.2350717079530638,
          2.6085707807421965,
          4.39716631194892,
          4.356189144895401,
          3.0884579597360853,
          3.6278018657206674,
          3.6278018657206674,
          6.217646217646218,
          7.020985668324071,
          13.821005527770465,
          9.08188385662684,
          11.51179155572461,
          18.8447848128573,
          4.440496121912051,
          5.556194125159642,
          3.1870218350365778,
          4.301629874148958,
          7.401187446988974,
          7.089556646609325,
          6.237595419847328,
          3.194686756542427,
          5.680856801633471,
          3.0763627101375444,
          3.0763627101375444,
          4.511497622304736,
          4.80639559586928,
          3.0047806524184475,
          3.0969318490361117,
          2.8856746983880233,
          3.0415999623316696,
          5.649497370140986,
          4.4957864121112685,
          4.613948744103022,
          5.569264478108118,
          3.0234736548647896,
          3.0624207469219127,
          3.376644469709274,
          3.8038938546373897,
          8.58399209486166,
          2.808153657376105,
          8.602314700812608,
          3.960428525645917,
          4.649253731343284,
          4.68522676246071,
          2.4833645398242834,
          3.1077694880370466,
          2.619523888245991,
          3.521093413689195,
          4.949694182352662,
          2.2991474549765423,
          2.5735683315502,
          3.0315318898452044,
          3.660068890537204,
          2.997356722335696,
          3.5375355567465063,
          3.7593582887700534,
          2.6292015209125474,
          2.8640493456697507,
          3.970620842572062,
          4.5988460023130795,
          3.2236082666170174,
          2.688778322755735,
          3.8959509169864943,
          4.921231117048608,
          4.523941707147814,
          4.253685544660129,
          4.464508152744408,
          4.038910012674271,
          3.421606334841629,
          5.094523326572008,
          3.014296875,
          4.139545948275088,
          4.19335880105789,
          3.6785210048216523,
          5.416044061302682,
          2.7661099137931036,
          2.666044957354627,
          2.919998773457623,
          3.1657396184435553,
          2.517520965540997,
          4.1872237846524705,
          5.425455678454588,
          8.33206106870229,
          7.942221854852042,
          3.578439760441783,
          2.645917193789534,
          3.328938153541501,
          4.045517039637268,
          3.7889305816135086,
          3.6533031674208143,
          4.203856992763229,
          3.5491067909118144,
          5.094764551038315,
          4.3830683952540195,
          3.779967448203053,
          4.298118837950908,
          2.7148878386004514,
          2.9678019856591287,
          2.9678019856591287,
          2.756549724712078,
          3.3587874947190537,
          6.650572831423895,
          5.2272883541039965,
          3.624714253517499,
          4.017979488488872,
          4.522369695944387,
          3.099354900597137,
          3.205888594164456,
          4.498123948764394,
          4.607113635269769,
          2.4062558182833738,
          4.523941707147814,
          4.577875026902934,
          3.28185055829878,
          5.023915038678379,
          5.7418939552708,
          3.0884579597360853,
          6.012846088081198,
          4.80639559586928,
          3.300905741254532,
          5.416044061302682,
          3.578439760441783,
          4.988626203397584,
          5.680856801633471,
          4.253685544660129,
          4.464508152744408,
          4.038910012674271,
          3.421606334841629,
          3.073535851122058,
          5.146876618667772,
          5.6047122035573125,
          5.000806451612903,
          3.4720881595881594,
          3.660068890537204,
          3.0047806524184475,
          5.569264478108118,
          5.649497370140986,
          2.5825475228259243,
          3.4866897147796023,
          4.520562464669305,
          5.03157110361597,
          2.83564238014552,
          2.7148878386004514,
          2.9678019856591287,
          8.311844792375766,
          7.9460363286418865,
          3.0969318490361117,
          2.8856746983880233,
          3.0763627101375444,
          4.545098039215686,
          3.0763627101375444,
          2.6085707807421965,
          3.1569141781006187,
          6.365633149811649,
          4.577875026902934,
          6.087680112118425,
          4.213685474189676,
          4.5988460023130795,
          4.522369695944387,
          7.508738461538462,
          4.988626203397584,
          3.4477433098122754,
          5.3815192743764175,
          4.4957864121112685,
          4.613948744103022,
          13.821005527770465,
          6.495046557228947,
          3.1870218350365778,
          7.942221854852042,
          3.6785210048216523,
          2.5895873552123554,
          3.8038938546373897,
          12.140180430256766,
          4.510230545753793,
          4.4957864121112685,
          2.846773303916161,
          6.217646217646218,
          7.020985668324071,
          2.8640493456697507,
          6.953720803910918,
          4.511497622304736,
          5.940166902849945,
          2.5158594399100727,
          5.250412167653547,
          5.072400175515577,
          3.014296875,
          3.624714253517499,
          3.411849196832132,
          3.6278018657206674,
          3.6278018657206674,
          4.39716631194892,
          4.356189144895401,
          2.5080050031269545,
          13.893063009342079,
          5.425455678454588,
          6.034875610323181,
          4.32733874694659,
          4.577875026902934,
          4.287297675781886,
          6.018968429258153,
          6.575467316846627,
          7.265787647467037,
          3.9755725190839692,
          5.245785849952517,
          4.19335880105789,
          8.33206106870229,
          5.7418939552708,
          2.756549724712078,
          3.2668790463467268,
          2.688778322755735,
          2.4833645398242834,
          3.4483371647509578,
          3.513410740203193,
          3.118378936499742,
          2.919998773457623,
          3.376682667223208,
          3.1077694880370466,
          2.619523888245991,
          2.7661099137931036,
          3.1657396184435553,
          2.666044957354627,
          2.517520965540997,
          2.8260343309859155,
          5.582581012288338,
          5.773662099453582,
          10.688461538461539,
          8.140802092414996,
          4.314338042909472,
          4.223259102156239,
          4.261303665668236,
          4.158249334099336,
          8.78389256550176,
          5.887353518932466,
          11.020272564139871,
          4.363551401869159,
          4.921538461538462,
          8.05775075987842,
          6.493018059951592,
          4.607113635269769,
          2.2991474549765423,
          3.731326445790286,
          4.949694182352662,
          4.921231117048608,
          4.478608695652174,
          6.45846091725832,
          4.683009444691688,
          2.997356722335696,
          4.412111971225272,
          3.5773031000109543,
          3.944608275316937,
          4.203856992763229,
          5.034705515459325,
          4.7375610111459165,
          3.434430882770366,
          6.692129032258064,
          4.130145820644191,
          4.0070391259936935,
          5.370386818847981,
          3.0315318898452044,
          8.095490716180372,
          5.170382127311642,
          3.748148148148148,
          3.9113103778096603,
          4.028836171096345,
          6.476582604220278,
          4.498123948764394,
          3.073535851122058,
          5.2272883541039965,
          3.194686756542427,
          4.440496121912051,
          4.301629874148958,
          18.8447848128573,
          11.51179155572461,
          8.602314700812608,
          8.58399209486166,
          3.7593582887700534,
          4.298118837950908,
          3.5375355567465063,
          10.13489226012175,
          3.205888594164456,
          3.4633555420956994,
          4.523941707147814,
          3.0624207469219127,
          5.094764551038315,
          3.5491067909118144,
          4.3830683952540195,
          3.328938153541501,
          3.521093413689195,
          3.8959509169864943,
          6.650572831423895,
          5.4915361493434585,
          3.402482269503546,
          2.6292015209125474,
          3.213387087550752,
          3.0415999623316696,
          5.023915038678379,
          2.9002884615384614,
          2.523485978382957,
          2.4062558182833738,
          4.1552882914750615,
          7.98408376544075,
          3.376644469709274,
          3.960428525645917,
          4.68522676246071,
          3.3530569345677357,
          3.26019867771175,
          4.139545948275088,
          3.7889305816135086,
          5.094523326572008,
          3.5287531806615777,
          6.043761919100673,
          3.0234736548647896,
          2.645917193789534,
          2.808153657376105,
          7.204459561602419,
          7.401187446988974,
          4.649253731343284,
          4.089074373987791,
          4.435902364020757,
          2.5735683315502,
          3.3587874947190537,
          6.746503798342541,
          4.238188976377953,
          5.140236686390533,
          4.523941707147814,
          7.342720033749934,
          5.556194125159642,
          6.321006439692416,
          5.072400175515577,
          5.000757166035695,
          3.779967448203053,
          5.286962190352021,
          7.089556646609325,
          5.232900099673348,
          3.6533031674208143,
          4.045517039637268,
          3.099354900597137,
          2.601555747623163,
          6.237595419847328,
          2.2574572127139363,
          2.2350717079530638,
          3.907273396295842,
          4.918857789086797,
          6.2874118496307405,
          3.28185055829878,
          3.6395499108734404,
          3.22687660922955,
          3.970620842572062,
          4.017979488488872,
          6.108825233876977,
          2.8614647049099027,
          2.797817882087545,
          5.918732430360337,
          10.688461538461539,
          5.602160216021602,
          9.08188385662684,
          6.747039291643608,
          4.585701650943396,
          5.818234893451396,
          7.401187446988974,
          3.2236082666170174,
          4.953774761738436,
          12.09653043848446,
          4.406381020554249,
          8.782440825919087,
          4.1872237846524705,
          2.846773303916161,
          2.9678019856591287,
          5.144995791414486
         ]
        }
       ],
       "layout": {
        "height": 1200,
        "legend": {
         "tracegroupgap": 0
        },
        "margin": {
         "t": 60
        },
        "template": {
         "data": {
          "bar": [
           {
            "error_x": {
             "color": "#2a3f5f"
            },
            "error_y": {
             "color": "#2a3f5f"
            },
            "marker": {
             "line": {
              "color": "#E5ECF6",
              "width": 0.5
             },
             "pattern": {
              "fillmode": "overlay",
              "size": 10,
              "solidity": 0.2
             }
            },
            "type": "bar"
           }
          ],
          "barpolar": [
           {
            "marker": {
             "line": {
              "color": "#E5ECF6",
              "width": 0.5
             },
             "pattern": {
              "fillmode": "overlay",
              "size": 10,
              "solidity": 0.2
             }
            },
            "type": "barpolar"
           }
          ],
          "carpet": [
           {
            "aaxis": {
             "endlinecolor": "#2a3f5f",
             "gridcolor": "white",
             "linecolor": "white",
             "minorgridcolor": "white",
             "startlinecolor": "#2a3f5f"
            },
            "baxis": {
             "endlinecolor": "#2a3f5f",
             "gridcolor": "white",
             "linecolor": "white",
             "minorgridcolor": "white",
             "startlinecolor": "#2a3f5f"
            },
            "type": "carpet"
           }
          ],
          "choropleth": [
           {
            "colorbar": {
             "outlinewidth": 0,
             "ticks": ""
            },
            "type": "choropleth"
           }
          ],
          "contour": [
           {
            "colorbar": {
             "outlinewidth": 0,
             "ticks": ""
            },
            "colorscale": [
             [
              0,
              "#0d0887"
             ],
             [
              0.1111111111111111,
              "#46039f"
             ],
             [
              0.2222222222222222,
              "#7201a8"
             ],
             [
              0.3333333333333333,
              "#9c179e"
             ],
             [
              0.4444444444444444,
              "#bd3786"
             ],
             [
              0.5555555555555556,
              "#d8576b"
             ],
             [
              0.6666666666666666,
              "#ed7953"
             ],
             [
              0.7777777777777778,
              "#fb9f3a"
             ],
             [
              0.8888888888888888,
              "#fdca26"
             ],
             [
              1,
              "#f0f921"
             ]
            ],
            "type": "contour"
           }
          ],
          "contourcarpet": [
           {
            "colorbar": {
             "outlinewidth": 0,
             "ticks": ""
            },
            "type": "contourcarpet"
           }
          ],
          "heatmap": [
           {
            "colorbar": {
             "outlinewidth": 0,
             "ticks": ""
            },
            "colorscale": [
             [
              0,
              "#0d0887"
             ],
             [
              0.1111111111111111,
              "#46039f"
             ],
             [
              0.2222222222222222,
              "#7201a8"
             ],
             [
              0.3333333333333333,
              "#9c179e"
             ],
             [
              0.4444444444444444,
              "#bd3786"
             ],
             [
              0.5555555555555556,
              "#d8576b"
             ],
             [
              0.6666666666666666,
              "#ed7953"
             ],
             [
              0.7777777777777778,
              "#fb9f3a"
             ],
             [
              0.8888888888888888,
              "#fdca26"
             ],
             [
              1,
              "#f0f921"
             ]
            ],
            "type": "heatmap"
           }
          ],
          "heatmapgl": [
           {
            "colorbar": {
             "outlinewidth": 0,
             "ticks": ""
            },
            "colorscale": [
             [
              0,
              "#0d0887"
             ],
             [
              0.1111111111111111,
              "#46039f"
             ],
             [
              0.2222222222222222,
              "#7201a8"
             ],
             [
              0.3333333333333333,
              "#9c179e"
             ],
             [
              0.4444444444444444,
              "#bd3786"
             ],
             [
              0.5555555555555556,
              "#d8576b"
             ],
             [
              0.6666666666666666,
              "#ed7953"
             ],
             [
              0.7777777777777778,
              "#fb9f3a"
             ],
             [
              0.8888888888888888,
              "#fdca26"
             ],
             [
              1,
              "#f0f921"
             ]
            ],
            "type": "heatmapgl"
           }
          ],
          "histogram": [
           {
            "marker": {
             "pattern": {
              "fillmode": "overlay",
              "size": 10,
              "solidity": 0.2
             }
            },
            "type": "histogram"
           }
          ],
          "histogram2d": [
           {
            "colorbar": {
             "outlinewidth": 0,
             "ticks": ""
            },
            "colorscale": [
             [
              0,
              "#0d0887"
             ],
             [
              0.1111111111111111,
              "#46039f"
             ],
             [
              0.2222222222222222,
              "#7201a8"
             ],
             [
              0.3333333333333333,
              "#9c179e"
             ],
             [
              0.4444444444444444,
              "#bd3786"
             ],
             [
              0.5555555555555556,
              "#d8576b"
             ],
             [
              0.6666666666666666,
              "#ed7953"
             ],
             [
              0.7777777777777778,
              "#fb9f3a"
             ],
             [
              0.8888888888888888,
              "#fdca26"
             ],
             [
              1,
              "#f0f921"
             ]
            ],
            "type": "histogram2d"
           }
          ],
          "histogram2dcontour": [
           {
            "colorbar": {
             "outlinewidth": 0,
             "ticks": ""
            },
            "colorscale": [
             [
              0,
              "#0d0887"
             ],
             [
              0.1111111111111111,
              "#46039f"
             ],
             [
              0.2222222222222222,
              "#7201a8"
             ],
             [
              0.3333333333333333,
              "#9c179e"
             ],
             [
              0.4444444444444444,
              "#bd3786"
             ],
             [
              0.5555555555555556,
              "#d8576b"
             ],
             [
              0.6666666666666666,
              "#ed7953"
             ],
             [
              0.7777777777777778,
              "#fb9f3a"
             ],
             [
              0.8888888888888888,
              "#fdca26"
             ],
             [
              1,
              "#f0f921"
             ]
            ],
            "type": "histogram2dcontour"
           }
          ],
          "mesh3d": [
           {
            "colorbar": {
             "outlinewidth": 0,
             "ticks": ""
            },
            "type": "mesh3d"
           }
          ],
          "parcoords": [
           {
            "line": {
             "colorbar": {
              "outlinewidth": 0,
              "ticks": ""
             }
            },
            "type": "parcoords"
           }
          ],
          "pie": [
           {
            "automargin": true,
            "type": "pie"
           }
          ],
          "scatter": [
           {
            "fillpattern": {
             "fillmode": "overlay",
             "size": 10,
             "solidity": 0.2
            },
            "type": "scatter"
           }
          ],
          "scatter3d": [
           {
            "line": {
             "colorbar": {
              "outlinewidth": 0,
              "ticks": ""
             }
            },
            "marker": {
             "colorbar": {
              "outlinewidth": 0,
              "ticks": ""
             }
            },
            "type": "scatter3d"
           }
          ],
          "scattercarpet": [
           {
            "marker": {
             "colorbar": {
              "outlinewidth": 0,
              "ticks": ""
             }
            },
            "type": "scattercarpet"
           }
          ],
          "scattergeo": [
           {
            "marker": {
             "colorbar": {
              "outlinewidth": 0,
              "ticks": ""
             }
            },
            "type": "scattergeo"
           }
          ],
          "scattergl": [
           {
            "marker": {
             "colorbar": {
              "outlinewidth": 0,
              "ticks": ""
             }
            },
            "type": "scattergl"
           }
          ],
          "scattermapbox": [
           {
            "marker": {
             "colorbar": {
              "outlinewidth": 0,
              "ticks": ""
             }
            },
            "type": "scattermapbox"
           }
          ],
          "scatterpolar": [
           {
            "marker": {
             "colorbar": {
              "outlinewidth": 0,
              "ticks": ""
             }
            },
            "type": "scatterpolar"
           }
          ],
          "scatterpolargl": [
           {
            "marker": {
             "colorbar": {
              "outlinewidth": 0,
              "ticks": ""
             }
            },
            "type": "scatterpolargl"
           }
          ],
          "scatterternary": [
           {
            "marker": {
             "colorbar": {
              "outlinewidth": 0,
              "ticks": ""
             }
            },
            "type": "scatterternary"
           }
          ],
          "surface": [
           {
            "colorbar": {
             "outlinewidth": 0,
             "ticks": ""
            },
            "colorscale": [
             [
              0,
              "#0d0887"
             ],
             [
              0.1111111111111111,
              "#46039f"
             ],
             [
              0.2222222222222222,
              "#7201a8"
             ],
             [
              0.3333333333333333,
              "#9c179e"
             ],
             [
              0.4444444444444444,
              "#bd3786"
             ],
             [
              0.5555555555555556,
              "#d8576b"
             ],
             [
              0.6666666666666666,
              "#ed7953"
             ],
             [
              0.7777777777777778,
              "#fb9f3a"
             ],
             [
              0.8888888888888888,
              "#fdca26"
             ],
             [
              1,
              "#f0f921"
             ]
            ],
            "type": "surface"
           }
          ],
          "table": [
           {
            "cells": {
             "fill": {
              "color": "#EBF0F8"
             },
             "line": {
              "color": "white"
             }
            },
            "header": {
             "fill": {
              "color": "#C8D4E3"
             },
             "line": {
              "color": "white"
             }
            },
            "type": "table"
           }
          ]
         },
         "layout": {
          "annotationdefaults": {
           "arrowcolor": "#2a3f5f",
           "arrowhead": 0,
           "arrowwidth": 1
          },
          "autotypenumbers": "strict",
          "coloraxis": {
           "colorbar": {
            "outlinewidth": 0,
            "ticks": ""
           }
          },
          "colorscale": {
           "diverging": [
            [
             0,
             "#8e0152"
            ],
            [
             0.1,
             "#c51b7d"
            ],
            [
             0.2,
             "#de77ae"
            ],
            [
             0.3,
             "#f1b6da"
            ],
            [
             0.4,
             "#fde0ef"
            ],
            [
             0.5,
             "#f7f7f7"
            ],
            [
             0.6,
             "#e6f5d0"
            ],
            [
             0.7,
             "#b8e186"
            ],
            [
             0.8,
             "#7fbc41"
            ],
            [
             0.9,
             "#4d9221"
            ],
            [
             1,
             "#276419"
            ]
           ],
           "sequential": [
            [
             0,
             "#0d0887"
            ],
            [
             0.1111111111111111,
             "#46039f"
            ],
            [
             0.2222222222222222,
             "#7201a8"
            ],
            [
             0.3333333333333333,
             "#9c179e"
            ],
            [
             0.4444444444444444,
             "#bd3786"
            ],
            [
             0.5555555555555556,
             "#d8576b"
            ],
            [
             0.6666666666666666,
             "#ed7953"
            ],
            [
             0.7777777777777778,
             "#fb9f3a"
            ],
            [
             0.8888888888888888,
             "#fdca26"
            ],
            [
             1,
             "#f0f921"
            ]
           ],
           "sequentialminus": [
            [
             0,
             "#0d0887"
            ],
            [
             0.1111111111111111,
             "#46039f"
            ],
            [
             0.2222222222222222,
             "#7201a8"
            ],
            [
             0.3333333333333333,
             "#9c179e"
            ],
            [
             0.4444444444444444,
             "#bd3786"
            ],
            [
             0.5555555555555556,
             "#d8576b"
            ],
            [
             0.6666666666666666,
             "#ed7953"
            ],
            [
             0.7777777777777778,
             "#fb9f3a"
            ],
            [
             0.8888888888888888,
             "#fdca26"
            ],
            [
             1,
             "#f0f921"
            ]
           ]
          },
          "colorway": [
           "#636efa",
           "#EF553B",
           "#00cc96",
           "#ab63fa",
           "#FFA15A",
           "#19d3f3",
           "#FF6692",
           "#B6E880",
           "#FF97FF",
           "#FECB52"
          ],
          "font": {
           "color": "#2a3f5f"
          },
          "geo": {
           "bgcolor": "white",
           "lakecolor": "white",
           "landcolor": "#E5ECF6",
           "showlakes": true,
           "showland": true,
           "subunitcolor": "white"
          },
          "hoverlabel": {
           "align": "left"
          },
          "hovermode": "closest",
          "mapbox": {
           "style": "light"
          },
          "paper_bgcolor": "white",
          "plot_bgcolor": "#E5ECF6",
          "polar": {
           "angularaxis": {
            "gridcolor": "white",
            "linecolor": "white",
            "ticks": ""
           },
           "bgcolor": "#E5ECF6",
           "radialaxis": {
            "gridcolor": "white",
            "linecolor": "white",
            "ticks": ""
           }
          },
          "scene": {
           "xaxis": {
            "backgroundcolor": "#E5ECF6",
            "gridcolor": "white",
            "gridwidth": 2,
            "linecolor": "white",
            "showbackground": true,
            "ticks": "",
            "zerolinecolor": "white"
           },
           "yaxis": {
            "backgroundcolor": "#E5ECF6",
            "gridcolor": "white",
            "gridwidth": 2,
            "linecolor": "white",
            "showbackground": true,
            "ticks": "",
            "zerolinecolor": "white"
           },
           "zaxis": {
            "backgroundcolor": "#E5ECF6",
            "gridcolor": "white",
            "gridwidth": 2,
            "linecolor": "white",
            "showbackground": true,
            "ticks": "",
            "zerolinecolor": "white"
           }
          },
          "shapedefaults": {
           "line": {
            "color": "#2a3f5f"
           }
          },
          "ternary": {
           "aaxis": {
            "gridcolor": "white",
            "linecolor": "white",
            "ticks": ""
           },
           "baxis": {
            "gridcolor": "white",
            "linecolor": "white",
            "ticks": ""
           },
           "bgcolor": "#E5ECF6",
           "caxis": {
            "gridcolor": "white",
            "linecolor": "white",
            "ticks": ""
           }
          },
          "title": {
           "x": 0.05
          },
          "xaxis": {
           "automargin": true,
           "gridcolor": "white",
           "linecolor": "white",
           "ticks": "",
           "title": {
            "standoff": 15
           },
           "zerolinecolor": "white",
           "zerolinewidth": 2
          },
          "yaxis": {
           "automargin": true,
           "gridcolor": "white",
           "linecolor": "white",
           "ticks": "",
           "title": {
            "standoff": 15
           },
           "zerolinecolor": "white",
           "zerolinewidth": 2
          }
         }
        },
        "width": 2000
       }
      },
      "text/html": [
       "<div>                            <div id=\"16654da2-dd2d-4058-9c01-fd1530d8bf78\" class=\"plotly-graph-div\" style=\"height:1200px; width:2000px;\"></div>            <script type=\"text/javascript\">                require([\"plotly\"], function(Plotly) {                    window.PLOTLYENV=window.PLOTLYENV || {};                                    if (document.getElementById(\"16654da2-dd2d-4058-9c01-fd1530d8bf78\")) {                    Plotly.newPlot(                        \"16654da2-dd2d-4058-9c01-fd1530d8bf78\",                        [{\"branchvalues\":\"total\",\"domain\":{\"x\":[0.0,1.0],\"y\":[0.0,1.0]},\"hovertemplate\":\"labels=%{label}<br>odds=%{value}<br>parent=%{parent}<br>id=%{id}<extra></extra>\",\"ids\":[\"Sensory organ morphogenesis/9606.ENSP00000005226,9606.ENSP00000215832,9606.ENSP00000232461,9606.ENSP00000248572,9606.ENSP00000262613,9606.ENSP00000263025,9606.ENSP00000264657,9606.ENSP00000265441,9606.ENSP00000294304,9606.ENSP00000354623,9606.ENSP00000418754\",\"Regulation of cellular component size/9606.ENSP00000005226,9606.ENSP00000229264,9606.ENSP00000243077,9606.ENSP00000244040,9606.ENSP00000262428,9606.ENSP00000262613,9606.ENSP00000273047,9606.ENSP00000278568,9606.ENSP00000292385,9606.ENSP00000306124,9606.ENSP00000357131,9606.ENSP00000360718,9606.ENSP00000361009,9606.ENSP00000376048,9606.ENSP00000376345,9606.ENSP00000378217,9606.ENSP00000380638,9606.ENSP00000385720,9606.ENSP00000417653\",\"Eye development/9606.ENSP00000005226,9606.ENSP00000232461,9606.ENSP00000248572,9606.ENSP00000258173,9606.ENSP00000264657,9606.ENSP00000265441,9606.ENSP00000275493,9606.ENSP00000294304,9606.ENSP00000326366,9606.ENSP00000332973,9606.ENSP00000360266,9606.ENSP00000385720,9606.ENSP00000387784,9606.ENSP00000478479,9606.ENSP00000481878\",\"Sensory system development/9606.ENSP00000005226,9606.ENSP00000232461,9606.ENSP00000248572,9606.ENSP00000258173,9606.ENSP00000264657,9606.ENSP00000265441,9606.ENSP00000275493,9606.ENSP00000294304,9606.ENSP00000326366,9606.ENSP00000332973,9606.ENSP00000360266,9606.ENSP00000385720,9606.ENSP00000387784,9606.ENSP00000478479,9606.ENSP00000481878\",\"Visual system development/9606.ENSP00000005226,9606.ENSP00000232461,9606.ENSP00000248572,9606.ENSP00000258173,9606.ENSP00000264657,9606.ENSP00000265441,9606.ENSP00000275493,9606.ENSP00000294304,9606.ENSP00000326366,9606.ENSP00000332973,9606.ENSP00000360266,9606.ENSP00000385720,9606.ENSP00000387784,9606.ENSP00000478479,9606.ENSP00000481878\",\"Camera-type eye development/9606.ENSP00000005226,9606.ENSP00000232461,9606.ENSP00000258173,9606.ENSP00000265441,9606.ENSP00000275493,9606.ENSP00000294304,9606.ENSP00000326366,9606.ENSP00000332973,9606.ENSP00000360266,9606.ENSP00000385720,9606.ENSP00000387784,9606.ENSP00000481878\",\"Cell junction organization/9606.ENSP00000007722,9606.ENSP00000200181,9606.ENSP00000222256,9606.ENSP00000236877,9606.ENSP00000269571,9606.ENSP00000276297,9606.ENSP00000288221,9606.ENSP00000292385,9606.ENSP00000293379,9606.ENSP00000301050,9606.ENSP00000314067,9606.ENSP00000320025,9606.ENSP00000324532,9606.ENSP00000326366,9606.ENSP00000332973,9606.ENSP00000345752,9606.ENSP00000346300,9606.ENSP00000354623,9606.ENSP00000359085,9606.ENSP00000360293,9606.ENSP00000361467,9606.ENSP00000367888,9606.ENSP00000368678,9606.ENSP00000377840,9606.ENSP00000380638,9606.ENSP00000386896,9606.ENSP00000408695,9606.ENSP00000417653,9606.ENSP00000438949,9606.ENSP00000469689\",\"Cell-substrate adhesion/9606.ENSP00000007722,9606.ENSP00000200181,9606.ENSP00000252999,9606.ENSP00000261023,9606.ENSP00000267082,9606.ENSP00000267257,9606.ENSP00000276297,9606.ENSP00000286827,9606.ENSP00000293379,9606.ENSP00000296181,9606.ENSP00000360293,9606.ENSP00000378332,9606.ENSP00000379350,9606.ENSP00000380638,9606.ENSP00000380948,9606.ENSP00000386896,9606.ENSP00000442600,9606.ENSP00000452120,9606.ENSP00000459615\",\"Extracellular matrix organization/9606.ENSP00000007722,9606.ENSP00000200181,9606.ENSP00000252999,9606.ENSP00000261023,9606.ENSP00000267082,9606.ENSP00000274063,9606.ENSP00000293379,9606.ENSP00000296181,9606.ENSP00000324532,9606.ENSP00000341189,9606.ENSP00000346032,9606.ENSP00000363827,9606.ENSP00000368678,9606.ENSP00000373854,9606.ENSP00000379350,9606.ENSP00000380948,9606.ENSP00000386896,9606.ENSP00000400365,9606.ENSP00000441691,9606.ENSP00000442600,9606.ENSP00000452120\",\"Extracellular structure organization/9606.ENSP00000007722,9606.ENSP00000200181,9606.ENSP00000252999,9606.ENSP00000261023,9606.ENSP00000267082,9606.ENSP00000274063,9606.ENSP00000293379,9606.ENSP00000296181,9606.ENSP00000324532,9606.ENSP00000341189,9606.ENSP00000346032,9606.ENSP00000363827,9606.ENSP00000368678,9606.ENSP00000373854,9606.ENSP00000379350,9606.ENSP00000380948,9606.ENSP00000386896,9606.ENSP00000400365,9606.ENSP00000441691,9606.ENSP00000442600,9606.ENSP00000452120\",\"Integrin-mediated signaling pathway/9606.ENSP00000007722,9606.ENSP00000200181,9606.ENSP00000252999,9606.ENSP00000261023,9606.ENSP00000267082,9606.ENSP00000293379,9606.ENSP00000296181,9606.ENSP00000324532,9606.ENSP00000341189,9606.ENSP00000373854,9606.ENSP00000379350,9606.ENSP00000380638,9606.ENSP00000380948,9606.ENSP00000386896,9606.ENSP00000441691,9606.ENSP00000452120\",\"Gastrulation/9606.ENSP00000007722,9606.ENSP00000200181,9606.ENSP00000253861,9606.ENSP00000261023,9606.ENSP00000293379,9606.ENSP00000294304,9606.ENSP00000296181,9606.ENSP00000324532,9606.ENSP00000332973,9606.ENSP00000377836,9606.ENSP00000379350,9606.ENSP00000380948,9606.ENSP00000452120\",\"Formation of primary germ layer/9606.ENSP00000007722,9606.ENSP00000200181,9606.ENSP00000253861,9606.ENSP00000261023,9606.ENSP00000293379,9606.ENSP00000296181,9606.ENSP00000324532,9606.ENSP00000332973,9606.ENSP00000379350,9606.ENSP00000380948,9606.ENSP00000452120\",\"Cell-matrix adhesion/9606.ENSP00000007722,9606.ENSP00000200181,9606.ENSP00000261023,9606.ENSP00000267082,9606.ENSP00000276297,9606.ENSP00000286827,9606.ENSP00000296181,9606.ENSP00000360293,9606.ENSP00000379350,9606.ENSP00000380638,9606.ENSP00000380948,9606.ENSP00000386896,9606.ENSP00000442600,9606.ENSP00000452120\",\"Leukocyte migration/9606.ENSP00000007722,9606.ENSP00000215754,9606.ENSP00000261023,9606.ENSP00000264039,9606.ENSP00000267082,9606.ENSP00000293379,9606.ENSP00000300574,9606.ENSP00000346300,9606.ENSP00000361009,9606.ENSP00000366109,9606.ENSP00000376048,9606.ENSP00000376345,9606.ENSP00000379350,9606.ENSP00000380948,9606.ENSP00000386896,9606.ENSP00000387784,9606.ENSP00000401303,9606.ENSP00000428056,9606.ENSP00000441691\",\"Respiratory tube development/9606.ENSP00000007722,9606.ENSP00000215832,9606.ENSP00000222256,9606.ENSP00000252999,9606.ENSP00000262395,9606.ENSP00000263025,9606.ENSP00000265441,9606.ENSP00000275493,9606.ENSP00000361467,9606.ENSP00000377836,9606.ENSP00000418754,9606.ENSP00000442600\",\"Lung development/9606.ENSP00000007722,9606.ENSP00000215832,9606.ENSP00000222256,9606.ENSP00000252999,9606.ENSP00000263025,9606.ENSP00000265441,9606.ENSP00000275493,9606.ENSP00000361467,9606.ENSP00000377836,9606.ENSP00000418754,9606.ENSP00000442600\",\"Respiratory system development/9606.ENSP00000007722,9606.ENSP00000215832,9606.ENSP00000222256,9606.ENSP00000252999,9606.ENSP00000263025,9606.ENSP00000265441,9606.ENSP00000275493,9606.ENSP00000361467,9606.ENSP00000377836,9606.ENSP00000418754,9606.ENSP00000442600\",\"Cognition/9606.ENSP00000007722,9606.ENSP00000215832,9606.ENSP00000236877,9606.ENSP00000254976,9606.ENSP00000255224,9606.ENSP00000263431,9606.ENSP00000275493,9606.ENSP00000293379,9606.ENSP00000306490,9606.ENSP00000311032,9606.ENSP00000326366,9606.ENSP00000356832,9606.ENSP00000357307,9606.ENSP00000360266,9606.ENSP00000364586,9606.ENSP00000364995,9606.ENSP00000367686,9606.ENSP00000371532,9606.ENSP00000379350,9606.ENSP00000405963,9606.ENSP00000454071,9606.ENSP00000469689\",\"Learning or memory/9606.ENSP00000007722,9606.ENSP00000215832,9606.ENSP00000236877,9606.ENSP00000254976,9606.ENSP00000255224,9606.ENSP00000263431,9606.ENSP00000275493,9606.ENSP00000293379,9606.ENSP00000311032,9606.ENSP00000326366,9606.ENSP00000356832,9606.ENSP00000357307,9606.ENSP00000360266,9606.ENSP00000364586,9606.ENSP00000364995,9606.ENSP00000367686,9606.ENSP00000371532,9606.ENSP00000379350,9606.ENSP00000405963,9606.ENSP00000454071,9606.ENSP00000469689\",\"Positive regulation of cellular protein localization/9606.ENSP00000007722,9606.ENSP00000215832,9606.ENSP00000243077,9606.ENSP00000260197,9606.ENSP00000269571,9606.ENSP00000275493,9606.ENSP00000278568,9606.ENSP00000301050,9606.ENSP00000306124,9606.ENSP00000306490,9606.ENSP00000326366,9606.ENSP00000332973,9606.ENSP00000343027,9606.ENSP00000357307,9606.ENSP00000360293,9606.ENSP00000367888,9606.ENSP00000378217,9606.ENSP00000379350,9606.ENSP00000380948,9606.ENSP00000394485,9606.ENSP00000428056,9606.ENSP00000441691\",\"Synapse organization/9606.ENSP00000007722,9606.ENSP00000222256,9606.ENSP00000236877,9606.ENSP00000269571,9606.ENSP00000288221,9606.ENSP00000292385,9606.ENSP00000301050,9606.ENSP00000320025,9606.ENSP00000326366,9606.ENSP00000345752,9606.ENSP00000346300,9606.ENSP00000359085,9606.ENSP00000367888,9606.ENSP00000368678,9606.ENSP00000377840,9606.ENSP00000417653,9606.ENSP00000438949,9606.ENSP00000469689\",\"Memory/9606.ENSP00000007722,9606.ENSP00000236877,9606.ENSP00000255224,9606.ENSP00000293379,9606.ENSP00000326366,9606.ENSP00000356832,9606.ENSP00000357307,9606.ENSP00000364586,9606.ENSP00000367686,9606.ENSP00000371532,9606.ENSP00000405963,9606.ENSP00000454071\",\"Positive regulation of neurogenesis/9606.ENSP00000007722,9606.ENSP00000243077,9606.ENSP00000255224,9606.ENSP00000261205,9606.ENSP00000263816,9606.ENSP00000265441,9606.ENSP00000278568,9606.ENSP00000286827,9606.ENSP00000292385,9606.ENSP00000312455,9606.ENSP00000326366,9606.ENSP00000346300,9606.ENSP00000356236,9606.ENSP00000361263,9606.ENSP00000361467,9606.ENSP00000371532,9606.ENSP00000375978,9606.ENSP00000376048,9606.ENSP00000380638,9606.ENSP00000385720,9606.ENSP00000386896,9606.ENSP00000417335,9606.ENSP00000417653,9606.ENSP00000418754,9606.ENSP00000420321,9606.ENSP00000442600,9606.ENSP00000469689\",\"Positive regulation of cell projection organization/9606.ENSP00000007722,9606.ENSP00000243077,9606.ENSP00000255224,9606.ENSP00000261205,9606.ENSP00000271234,9606.ENSP00000278568,9606.ENSP00000286827,9606.ENSP00000292385,9606.ENSP00000312455,9606.ENSP00000312734,9606.ENSP00000326366,9606.ENSP00000356236,9606.ENSP00000361263,9606.ENSP00000361467,9606.ENSP00000368678,9606.ENSP00000371532,9606.ENSP00000380638,9606.ENSP00000385720,9606.ENSP00000386896,9606.ENSP00000417335,9606.ENSP00000417653,9606.ENSP00000418754,9606.ENSP00000420321,9606.ENSP00000469689\",\"Positive regulation of neuron differentiation/9606.ENSP00000007722,9606.ENSP00000243077,9606.ENSP00000255224,9606.ENSP00000261205,9606.ENSP00000278568,9606.ENSP00000286827,9606.ENSP00000292385,9606.ENSP00000312455,9606.ENSP00000326366,9606.ENSP00000356236,9606.ENSP00000361263,9606.ENSP00000361467,9606.ENSP00000371532,9606.ENSP00000380638,9606.ENSP00000385720,9606.ENSP00000386896,9606.ENSP00000417335,9606.ENSP00000417653,9606.ENSP00000418754,9606.ENSP00000420321,9606.ENSP00000469689\",\"Positive regulation of neuron projection development/9606.ENSP00000007722,9606.ENSP00000243077,9606.ENSP00000255224,9606.ENSP00000261205,9606.ENSP00000278568,9606.ENSP00000286827,9606.ENSP00000292385,9606.ENSP00000312455,9606.ENSP00000326366,9606.ENSP00000356236,9606.ENSP00000361263,9606.ENSP00000361467,9606.ENSP00000371532,9606.ENSP00000380638,9606.ENSP00000385720,9606.ENSP00000386896,9606.ENSP00000417335,9606.ENSP00000417653,9606.ENSP00000418754,9606.ENSP00000420321,9606.ENSP00000469689\",\"Regulation of wnt signaling pathway/9606.ENSP00000007722,9606.ENSP00000243077,9606.ENSP00000262613,9606.ENSP00000274063,9606.ENSP00000275493,9606.ENSP00000286827,9606.ENSP00000324804,9606.ENSP00000326366,9606.ENSP00000332973,9606.ENSP00000361263,9606.ENSP00000367888,9606.ENSP00000369390,9606.ENSP00000377836,9606.ENSP00000418754\",\"Regulation of protein localization to membrane/9606.ENSP00000007722,9606.ENSP00000243077,9606.ENSP00000264039,9606.ENSP00000269571,9606.ENSP00000275493,9606.ENSP00000278568,9606.ENSP00000301050,9606.ENSP00000306124,9606.ENSP00000346300,9606.ENSP00000360293,9606.ENSP00000367888,9606.ENSP00000377836,9606.ENSP00000379350,9606.ENSP00000380948,9606.ENSP00000394485,9606.ENSP00000428056,9606.ENSP00000441691,9606.ENSP00000442600\",\"Positive regulation of protein localization to membrane/9606.ENSP00000007722,9606.ENSP00000243077,9606.ENSP00000269571,9606.ENSP00000275493,9606.ENSP00000278568,9606.ENSP00000301050,9606.ENSP00000306124,9606.ENSP00000360293,9606.ENSP00000367888,9606.ENSP00000379350,9606.ENSP00000380948,9606.ENSP00000394485,9606.ENSP00000428056,9606.ENSP00000441691\",\"Regulation of cell-substrate adhesion/9606.ENSP00000007722,9606.ENSP00000243077,9606.ENSP00000276297,9606.ENSP00000293379,9606.ENSP00000300574,9606.ENSP00000306124,9606.ENSP00000320866,9606.ENSP00000332973,9606.ENSP00000341189,9606.ENSP00000346300,9606.ENSP00000361009,9606.ENSP00000367408,9606.ENSP00000380638,9606.ENSP00000386896,9606.ENSP00000428056,9606.ENSP00000442600\",\"Regulation of cellular response to growth factor stimulus/9606.ENSP00000007722,9606.ENSP00000260197,9606.ENSP00000263816,9606.ENSP00000264039,9606.ENSP00000274063,9606.ENSP00000293379,9606.ENSP00000305355,9606.ENSP00000312455,9606.ENSP00000332973,9606.ENSP00000367408,9606.ENSP00000377836,9606.ENSP00000378332,9606.ENSP00000420321\",\"Positive regulation of cell adhesion/9606.ENSP00000007722,9606.ENSP00000261023,9606.ENSP00000269571,9606.ENSP00000274063,9606.ENSP00000278568,9606.ENSP00000293379,9606.ENSP00000300574,9606.ENSP00000306124,9606.ENSP00000314067,9606.ENSP00000320866,9606.ENSP00000332973,9606.ENSP00000346300,9606.ENSP00000351022,9606.ENSP00000361009,9606.ENSP00000366109,9606.ENSP00000376345,9606.ENSP00000380638,9606.ENSP00000380948,9606.ENSP00000386896,9606.ENSP00000408695,9606.ENSP00000428056,9606.ENSP00000442600\",\"Regulation of small gtpase mediated signal transduction/9606.ENSP00000007722,9606.ENSP00000265080,9606.ENSP00000276297,9606.ENSP00000286827,9606.ENSP00000300574,9606.ENSP00000310933,9606.ENSP00000316845,9606.ENSP00000320117,9606.ENSP00000345808,9606.ENSP00000346300,9606.ENSP00000351333,9606.ENSP00000357131,9606.ENSP00000361009,9606.ENSP00000361263,9606.ENSP00000371897,9606.ENSP00000376345,9606.ENSP00000379350,9606.ENSP00000379709,9606.ENSP00000385720,9606.ENSP00000387784,9606.ENSP00000400717,9606.ENSP00000401303,9606.ENSP00000404190,9606.ENSP00000405963,9606.ENSP00000420321,9606.ENSP00000440374,9606.ENSP00000459615\",\"Regulation of ras protein signal transduction/9606.ENSP00000007722,9606.ENSP00000265080,9606.ENSP00000276297,9606.ENSP00000300574,9606.ENSP00000310933,9606.ENSP00000346300,9606.ENSP00000361263,9606.ENSP00000376345,9606.ENSP00000379350,9606.ENSP00000385720,9606.ENSP00000401303,9606.ENSP00000405963,9606.ENSP00000420321,9606.ENSP00000440374\",\"Positive regulation of cell-substrate adhesion/9606.ENSP00000007722,9606.ENSP00000293379,9606.ENSP00000300574,9606.ENSP00000306124,9606.ENSP00000320866,9606.ENSP00000332973,9606.ENSP00000346300,9606.ENSP00000361009,9606.ENSP00000380638,9606.ENSP00000386896,9606.ENSP00000442600\",\"Vesicle organization/9606.ENSP00000020926,9606.ENSP00000215730,9606.ENSP00000222256,9606.ENSP00000244040,9606.ENSP00000249647,9606.ENSP00000254976,9606.ENSP00000255224,9606.ENSP00000258301,9606.ENSP00000265062,9606.ENSP00000271234,9606.ENSP00000300935,9606.ENSP00000303145,9606.ENSP00000312734,9606.ENSP00000320866,9606.ENSP00000346032,9606.ENSP00000353444,9606.ENSP00000357307,9606.ENSP00000358867,9606.ENSP00000360798,9606.ENSP00000444201\",\"Membrane fusion/9606.ENSP00000020926,9606.ENSP00000215730,9606.ENSP00000249647,9606.ENSP00000254976,9606.ENSP00000255224,9606.ENSP00000258301,9606.ENSP00000265062,9606.ENSP00000300935,9606.ENSP00000312734,9606.ENSP00000320866,9606.ENSP00000357307,9606.ENSP00000358867,9606.ENSP00000444201\",\"Organelle fusion/9606.ENSP00000020926,9606.ENSP00000215730,9606.ENSP00000249647,9606.ENSP00000254976,9606.ENSP00000255224,9606.ENSP00000258301,9606.ENSP00000265062,9606.ENSP00000300935,9606.ENSP00000312734,9606.ENSP00000320866,9606.ENSP00000357307,9606.ENSP00000358867,9606.ENSP00000444201\",\"Organelle membrane fusion/9606.ENSP00000020926,9606.ENSP00000215730,9606.ENSP00000249647,9606.ENSP00000254976,9606.ENSP00000255224,9606.ENSP00000258301,9606.ENSP00000265062,9606.ENSP00000300935,9606.ENSP00000312734,9606.ENSP00000320866,9606.ENSP00000357307,9606.ENSP00000358867,9606.ENSP00000444201\",\"Vesicle fusion/9606.ENSP00000020926,9606.ENSP00000215730,9606.ENSP00000249647,9606.ENSP00000254976,9606.ENSP00000255224,9606.ENSP00000258301,9606.ENSP00000265062,9606.ENSP00000300935,9606.ENSP00000312734,9606.ENSP00000320866,9606.ENSP00000357307,9606.ENSP00000358867,9606.ENSP00000444201\",\"Cellular response to inorganic substance/9606.ENSP00000020926,9606.ENSP00000215832,9606.ENSP00000247668,9606.ENSP00000255224,9606.ENSP00000261205,9606.ENSP00000263025,9606.ENSP00000275493,9606.ENSP00000289473,9606.ENSP00000300574,9606.ENSP00000312455,9606.ENSP00000320866,9606.ENSP00000338864,9606.ENSP00000339740,9606.ENSP00000346265,9606.ENSP00000356236,9606.ENSP00000357307,9606.ENSP00000360266,9606.ENSP00000394560,9606.ENSP00000444201\",\"Response to metal ion/9606.ENSP00000020926,9606.ENSP00000215832,9606.ENSP00000255224,9606.ENSP00000261205,9606.ENSP00000263025,9606.ENSP00000275493,9606.ENSP00000289473,9606.ENSP00000311032,9606.ENSP00000320866,9606.ENSP00000338864,9606.ENSP00000339740,9606.ENSP00000346265,9606.ENSP00000356236,9606.ENSP00000357307,9606.ENSP00000360266,9606.ENSP00000380638,9606.ENSP00000394560,9606.ENSP00000444201,9606.ENSP00000478059\",\"Cellular response to metal ion/9606.ENSP00000020926,9606.ENSP00000215832,9606.ENSP00000255224,9606.ENSP00000261205,9606.ENSP00000263025,9606.ENSP00000275493,9606.ENSP00000289473,9606.ENSP00000320866,9606.ENSP00000338864,9606.ENSP00000339740,9606.ENSP00000346265,9606.ENSP00000356236,9606.ENSP00000357307,9606.ENSP00000360266,9606.ENSP00000394560,9606.ENSP00000444201\",\"Regulation of exocytosis/9606.ENSP00000020926,9606.ENSP00000222256,9606.ENSP00000255224,9606.ENSP00000261205,9606.ENSP00000263431,9606.ENSP00000264710,9606.ENSP00000265062,9606.ENSP00000273047,9606.ENSP00000300935,9606.ENSP00000305355,9606.ENSP00000312734,9606.ENSP00000312999,9606.ENSP00000320025,9606.ENSP00000346265,9606.ENSP00000356236,9606.ENSP00000357307,9606.ENSP00000360718,9606.ENSP00000362080,9606.ENSP00000366109,9606.ENSP00000367408,9606.ENSP00000380948,9606.ENSP00000441691,9606.ENSP00000444201\",\"Regulation of regulated secretory pathway/9606.ENSP00000020926,9606.ENSP00000222256,9606.ENSP00000255224,9606.ENSP00000261205,9606.ENSP00000263431,9606.ENSP00000273047,9606.ENSP00000305355,9606.ENSP00000312999,9606.ENSP00000320025,9606.ENSP00000346265,9606.ENSP00000356236,9606.ENSP00000357307,9606.ENSP00000367408,9606.ENSP00000380948,9606.ENSP00000441691,9606.ENSP00000444201\",\"Regulation of amine transport/9606.ENSP00000020926,9606.ENSP00000222256,9606.ENSP00000255224,9606.ENSP00000261205,9606.ENSP00000312262,9606.ENSP00000326366,9606.ENSP00000346265,9606.ENSP00000356236,9606.ENSP00000357307,9606.ENSP00000360718,9606.ENSP00000379350,9606.ENSP00000444201\",\"Response to calcium ion/9606.ENSP00000020926,9606.ENSP00000255224,9606.ENSP00000261205,9606.ENSP00000275493,9606.ENSP00000338864,9606.ENSP00000339740,9606.ENSP00000346265,9606.ENSP00000356236,9606.ENSP00000357307,9606.ENSP00000360266,9606.ENSP00000380638,9606.ENSP00000444201,9606.ENSP00000478059\",\"Regulation of leukocyte proliferation/9606.ENSP00000085219,9606.ENSP00000215754,9606.ENSP00000215832,9606.ENSP00000263025,9606.ENSP00000269571,9606.ENSP00000301458,9606.ENSP00000311032,9606.ENSP00000341189,9606.ENSP00000343325,9606.ENSP00000361467,9606.ENSP00000366109,9606.ENSP00000387784\",\"Regulation of peptide secretion/9606.ENSP00000085219,9606.ENSP00000215754,9606.ENSP00000243077,9606.ENSP00000247668,9606.ENSP00000254976,9606.ENSP00000255224,9606.ENSP00000260197,9606.ENSP00000275493,9606.ENSP00000276052,9606.ENSP00000281456,9606.ENSP00000286827,9606.ENSP00000294304,9606.ENSP00000306124,9606.ENSP00000312734,9606.ENSP00000356545,9606.ENSP00000357307,9606.ENSP00000360671,9606.ENSP00000362080,9606.ENSP00000370695,9606.ENSP00000408695,9606.ENSP00000444201\",\"Regulation of protein secretion/9606.ENSP00000085219,9606.ENSP00000215754,9606.ENSP00000243077,9606.ENSP00000247668,9606.ENSP00000254976,9606.ENSP00000255224,9606.ENSP00000260197,9606.ENSP00000275493,9606.ENSP00000276052,9606.ENSP00000281456,9606.ENSP00000286827,9606.ENSP00000294304,9606.ENSP00000306124,9606.ENSP00000356545,9606.ENSP00000357307,9606.ENSP00000360671,9606.ENSP00000362080,9606.ENSP00000370695,9606.ENSP00000408695,9606.ENSP00000444201\",\"Negative regulation of transport/9606.ENSP00000085219,9606.ENSP00000255224,9606.ENSP00000261023,9606.ENSP00000261837,9606.ENSP00000262613,9606.ENSP00000265062,9606.ENSP00000267101,9606.ENSP00000301050,9606.ENSP00000305355,9606.ENSP00000306124,9606.ENSP00000312999,9606.ENSP00000339740,9606.ENSP00000345752,9606.ENSP00000357307,9606.ENSP00000360671,9606.ENSP00000362080,9606.ENSP00000366109,9606.ENSP00000380638\",\"Autophagy/9606.ENSP00000200181,9606.ENSP00000215730,9606.ENSP00000265062,9606.ENSP00000271234,9606.ENSP00000295888,9606.ENSP00000300935,9606.ENSP00000304376,9606.ENSP00000306866,9606.ENSP00000326366,9606.ENSP00000357307,9606.ENSP00000376297,5691.AAZ11429,5691.EAN78254\",\"Process utilizing autophagic mechanism/9606.ENSP00000200181,9606.ENSP00000215730,9606.ENSP00000265062,9606.ENSP00000271234,9606.ENSP00000295888,9606.ENSP00000300935,9606.ENSP00000304376,9606.ENSP00000306866,9606.ENSP00000326366,9606.ENSP00000357307,9606.ENSP00000376297,5691.AAZ11429,5691.EAN78254\",\"Cell junction assembly/9606.ENSP00000200181,9606.ENSP00000276297,9606.ENSP00000293379,9606.ENSP00000314067,9606.ENSP00000324532,9606.ENSP00000346300,9606.ENSP00000360293,9606.ENSP00000361467,9606.ENSP00000367888,9606.ENSP00000380638,9606.ENSP00000386896,9606.ENSP00000408695,9606.ENSP00000417653,9606.ENSP00000469689\",\"Neutrophil activation/9606.ENSP00000215730,9606.ENSP00000215754,9606.ENSP00000215832,9606.ENSP00000222256,9606.ENSP00000228506,9606.ENSP00000249647,9606.ENSP00000254976,9606.ENSP00000261023,9606.ENSP00000262428,9606.ENSP00000264710,9606.ENSP00000264908,9606.ENSP00000265062,9606.ENSP00000273130,9606.ENSP00000304376,9606.ENSP00000311449,9606.ENSP00000316476,9606.ENSP00000326366,9606.ENSP00000346032,9606.ENSP00000353444,9606.ENSP00000361009,9606.ENSP00000375978,9606.ENSP00000376297,9606.ENSP00000378217,9606.ENSP00000380948,9606.ENSP00000417653,9606.ENSP00000441691,9606.ENSP00000447053,9606.ENSP00000461945,9606.ENSP00000478479\",\"Neutrophil activation involved in immune response/9606.ENSP00000215730,9606.ENSP00000215754,9606.ENSP00000215832,9606.ENSP00000222256,9606.ENSP00000228506,9606.ENSP00000249647,9606.ENSP00000254976,9606.ENSP00000261023,9606.ENSP00000262428,9606.ENSP00000264710,9606.ENSP00000264908,9606.ENSP00000265062,9606.ENSP00000273130,9606.ENSP00000304376,9606.ENSP00000311449,9606.ENSP00000316476,9606.ENSP00000326366,9606.ENSP00000346032,9606.ENSP00000353444,9606.ENSP00000375978,9606.ENSP00000376297,9606.ENSP00000378217,9606.ENSP00000380948,9606.ENSP00000417653,9606.ENSP00000441691,9606.ENSP00000447053,9606.ENSP00000461945,9606.ENSP00000478479\",\"Neutrophil degranulation/9606.ENSP00000215730,9606.ENSP00000215754,9606.ENSP00000215832,9606.ENSP00000222256,9606.ENSP00000228506,9606.ENSP00000249647,9606.ENSP00000254976,9606.ENSP00000261023,9606.ENSP00000262428,9606.ENSP00000264710,9606.ENSP00000264908,9606.ENSP00000265062,9606.ENSP00000273130,9606.ENSP00000304376,9606.ENSP00000311449,9606.ENSP00000316476,9606.ENSP00000326366,9606.ENSP00000346032,9606.ENSP00000353444,9606.ENSP00000375978,9606.ENSP00000376297,9606.ENSP00000378217,9606.ENSP00000380948,9606.ENSP00000417653,9606.ENSP00000441691,9606.ENSP00000447053,9606.ENSP00000461945,9606.ENSP00000478479\",\"Neutrophil mediated immunity/9606.ENSP00000215730,9606.ENSP00000215754,9606.ENSP00000215832,9606.ENSP00000222256,9606.ENSP00000228506,9606.ENSP00000249647,9606.ENSP00000254976,9606.ENSP00000261023,9606.ENSP00000262428,9606.ENSP00000264710,9606.ENSP00000264908,9606.ENSP00000265062,9606.ENSP00000273130,9606.ENSP00000304376,9606.ENSP00000311449,9606.ENSP00000316476,9606.ENSP00000326366,9606.ENSP00000346032,9606.ENSP00000353444,9606.ENSP00000375978,9606.ENSP00000376297,9606.ENSP00000378217,9606.ENSP00000380948,9606.ENSP00000417653,9606.ENSP00000441691,9606.ENSP00000447053,9606.ENSP00000461945,9606.ENSP00000478479\",\"Synaptic signaling/9606.ENSP00000215730,9606.ENSP00000215832,9606.ENSP00000222256,9606.ENSP00000239666,9606.ENSP00000249647,9606.ENSP00000253754,9606.ENSP00000253861,9606.ENSP00000254976,9606.ENSP00000255224,9606.ENSP00000259455,9606.ENSP00000261205,9606.ENSP00000263431,9606.ENSP00000264657,9606.ENSP00000288221,9606.ENSP00000301050,9606.ENSP00000306490,9606.ENSP00000306866,9606.ENSP00000312262,9606.ENSP00000312999,9606.ENSP00000320025,9606.ENSP00000326366,9606.ENSP00000346265,9606.ENSP00000346300,9606.ENSP00000356236,9606.ENSP00000356545,9606.ENSP00000364995,9606.ENSP00000366233,9606.ENSP00000367408,9606.ENSP00000368678,9606.ENSP00000374036,9606.ENSP00000377840,9606.ENSP00000438949,9606.ENSP00000442600,9606.ENSP00000444201,9606.ENSP00000481878\",\"Trans-synaptic signaling/9606.ENSP00000215730,9606.ENSP00000215832,9606.ENSP00000222256,9606.ENSP00000239666,9606.ENSP00000249647,9606.ENSP00000253754,9606.ENSP00000253861,9606.ENSP00000254976,9606.ENSP00000255224,9606.ENSP00000259455,9606.ENSP00000261205,9606.ENSP00000263431,9606.ENSP00000288221,9606.ENSP00000301050,9606.ENSP00000306490,9606.ENSP00000306866,9606.ENSP00000320025,9606.ENSP00000326366,9606.ENSP00000346265,9606.ENSP00000356236,9606.ENSP00000356545,9606.ENSP00000364995,9606.ENSP00000366233,9606.ENSP00000367408,9606.ENSP00000374036,9606.ENSP00000377840,9606.ENSP00000438949,9606.ENSP00000442600,9606.ENSP00000444201\",\"Anterograde trans-synaptic signaling/9606.ENSP00000215730,9606.ENSP00000215832,9606.ENSP00000222256,9606.ENSP00000239666,9606.ENSP00000249647,9606.ENSP00000253754,9606.ENSP00000253861,9606.ENSP00000254976,9606.ENSP00000255224,9606.ENSP00000259455,9606.ENSP00000261205,9606.ENSP00000263431,9606.ENSP00000288221,9606.ENSP00000301050,9606.ENSP00000306490,9606.ENSP00000306866,9606.ENSP00000320025,9606.ENSP00000326366,9606.ENSP00000346265,9606.ENSP00000356236,9606.ENSP00000356545,9606.ENSP00000364995,9606.ENSP00000366233,9606.ENSP00000367408,9606.ENSP00000374036,9606.ENSP00000377840,9606.ENSP00000438949,9606.ENSP00000444201\",\"Chemical synaptic transmission/9606.ENSP00000215730,9606.ENSP00000215832,9606.ENSP00000222256,9606.ENSP00000239666,9606.ENSP00000249647,9606.ENSP00000253754,9606.ENSP00000253861,9606.ENSP00000254976,9606.ENSP00000255224,9606.ENSP00000259455,9606.ENSP00000261205,9606.ENSP00000263431,9606.ENSP00000288221,9606.ENSP00000301050,9606.ENSP00000306490,9606.ENSP00000306866,9606.ENSP00000320025,9606.ENSP00000326366,9606.ENSP00000346265,9606.ENSP00000356236,9606.ENSP00000356545,9606.ENSP00000364995,9606.ENSP00000366233,9606.ENSP00000367408,9606.ENSP00000374036,9606.ENSP00000377840,9606.ENSP00000438949,9606.ENSP00000444201\",\"Regulation of neurotransmitter levels/9606.ENSP00000215730,9606.ENSP00000222256,9606.ENSP00000239666,9606.ENSP00000249647,9606.ENSP00000254976,9606.ENSP00000255224,9606.ENSP00000261205,9606.ENSP00000263431,9606.ENSP00000273047,9606.ENSP00000288221,9606.ENSP00000305355,9606.ENSP00000320025,9606.ENSP00000326366,9606.ENSP00000346265,9606.ENSP00000356236,9606.ENSP00000357068,9606.ENSP00000357307,9606.ENSP00000360718,9606.ENSP00000367408,9606.ENSP00000374036,9606.ENSP00000379350,9606.ENSP00000444201\",\"Signal release/9606.ENSP00000215730,9606.ENSP00000222256,9606.ENSP00000239666,9606.ENSP00000249647,9606.ENSP00000254976,9606.ENSP00000255224,9606.ENSP00000261205,9606.ENSP00000276052,9606.ENSP00000288221,9606.ENSP00000326366,9606.ENSP00000346265,9606.ENSP00000356236,9606.ENSP00000366109,9606.ENSP00000367408,9606.ENSP00000374036,9606.ENSP00000444201\",\"Neurotransmitter transport/9606.ENSP00000215730,9606.ENSP00000222256,9606.ENSP00000239666,9606.ENSP00000249647,9606.ENSP00000254976,9606.ENSP00000255224,9606.ENSP00000261205,9606.ENSP00000288221,9606.ENSP00000326366,9606.ENSP00000346265,9606.ENSP00000356236,9606.ENSP00000357068,9606.ENSP00000367408,9606.ENSP00000374036,9606.ENSP00000444201\",\"Neurotransmitter secretion/9606.ENSP00000215730,9606.ENSP00000222256,9606.ENSP00000239666,9606.ENSP00000249647,9606.ENSP00000254976,9606.ENSP00000255224,9606.ENSP00000261205,9606.ENSP00000288221,9606.ENSP00000326366,9606.ENSP00000346265,9606.ENSP00000356236,9606.ENSP00000367408,9606.ENSP00000374036,9606.ENSP00000444201\",\"Signal release from synapse/9606.ENSP00000215730,9606.ENSP00000222256,9606.ENSP00000239666,9606.ENSP00000249647,9606.ENSP00000254976,9606.ENSP00000255224,9606.ENSP00000261205,9606.ENSP00000288221,9606.ENSP00000326366,9606.ENSP00000346265,9606.ENSP00000356236,9606.ENSP00000367408,9606.ENSP00000374036,9606.ENSP00000444201\",\"Vesicle-mediated transport in synapse/9606.ENSP00000215730,9606.ENSP00000222256,9606.ENSP00000247461,9606.ENSP00000249647,9606.ENSP00000254976,9606.ENSP00000261205,9606.ENSP00000273047,9606.ENSP00000288221,9606.ENSP00000300935,9606.ENSP00000326366,9606.ENSP00000346265,9606.ENSP00000352157,9606.ENSP00000356236,9606.ENSP00000360798,9606.ENSP00000444201\",\"Synaptic vesicle cycle/9606.ENSP00000215730,9606.ENSP00000222256,9606.ENSP00000247461,9606.ENSP00000249647,9606.ENSP00000254976,9606.ENSP00000261205,9606.ENSP00000273047,9606.ENSP00000288221,9606.ENSP00000326366,9606.ENSP00000346265,9606.ENSP00000356236,9606.ENSP00000444201\",\"Exocytic process/9606.ENSP00000215730,9606.ENSP00000222256,9606.ENSP00000249647,9606.ENSP00000253861,9606.ENSP00000254976,9606.ENSP00000260762,9606.ENSP00000264710,9606.ENSP00000288221,9606.ENSP00000300935,9606.ENSP00000312734,9606.ENSP00000326366,9606.ENSP00000360718\",\"Establishment of organelle localization/9606.ENSP00000215730,9606.ENSP00000222256,9606.ENSP00000249647,9606.ENSP00000253861,9606.ENSP00000255224,9606.ENSP00000262613,9606.ENSP00000265062,9606.ENSP00000271234,9606.ENSP00000303145,9606.ENSP00000311449,9606.ENSP00000326366,9606.ENSP00000341189,9606.ENSP00000357307,9606.ENSP00000379350,9606.ENSP00000379709\",\"Membrane docking/9606.ENSP00000215730,9606.ENSP00000222256,9606.ENSP00000253861,9606.ENSP00000254976,9606.ENSP00000258301,9606.ENSP00000260762,9606.ENSP00000261205,9606.ENSP00000264710,9606.ENSP00000265062,9606.ENSP00000270861,9606.ENSP00000300935,9606.ENSP00000312734,9606.ENSP00000324804,9606.ENSP00000355747,9606.ENSP00000360718,9606.ENSP00000376297\",\"Organelle localization by membrane tethering/9606.ENSP00000215730,9606.ENSP00000222256,9606.ENSP00000253861,9606.ENSP00000254976,9606.ENSP00000258301,9606.ENSP00000260762,9606.ENSP00000261205,9606.ENSP00000264710,9606.ENSP00000270861,9606.ENSP00000300935,9606.ENSP00000312734,9606.ENSP00000324804,9606.ENSP00000355747,9606.ENSP00000360718,9606.ENSP00000376297\",\"Positive regulation of protein serine/threonine kinase activity/9606.ENSP00000215754,9606.ENSP00000215832,9606.ENSP00000236877,9606.ENSP00000247668,9606.ENSP00000262948,9606.ENSP00000263025,9606.ENSP00000269571,9606.ENSP00000275493,9606.ENSP00000278568,9606.ENSP00000286827,9606.ENSP00000294117,9606.ENSP00000300574,9606.ENSP00000310933,9606.ENSP00000318944,9606.ENSP00000326366,9606.ENSP00000343325,9606.ENSP00000346300,9606.ENSP00000352157,9606.ENSP00000361263,9606.ENSP00000376317,9606.ENSP00000380638,9606.ENSP00000399511,9606.ENSP00000401303,9606.ENSP00000417653,9606.ENSP00000420321\",\"Aging/9606.ENSP00000215754,9606.ENSP00000215832,9606.ENSP00000243077,9606.ENSP00000247461,9606.ENSP00000263025,9606.ENSP00000264657,9606.ENSP00000320866,9606.ENSP00000326366,9606.ENSP00000360266,9606.ENSP00000376345,9606.ENSP00000378217,9606.ENSP00000380948,9606.ENSP00000442600\",\"Positive regulation of establishment of protein localization/9606.ENSP00000215754,9606.ENSP00000215832,9606.ENSP00000243077,9606.ENSP00000260197,9606.ENSP00000269571,9606.ENSP00000275493,9606.ENSP00000278568,9606.ENSP00000301050,9606.ENSP00000306124,9606.ENSP00000306490,9606.ENSP00000326366,9606.ENSP00000332973,9606.ENSP00000362080,9606.ENSP00000370695,9606.ENSP00000378217,9606.ENSP00000380948,9606.ENSP00000394485,9606.ENSP00000428056,9606.ENSP00000441691\",\"Positive regulation of protein transport/9606.ENSP00000215754,9606.ENSP00000215832,9606.ENSP00000243077,9606.ENSP00000260197,9606.ENSP00000269571,9606.ENSP00000275493,9606.ENSP00000278568,9606.ENSP00000301050,9606.ENSP00000306124,9606.ENSP00000306490,9606.ENSP00000326366,9606.ENSP00000332973,9606.ENSP00000362080,9606.ENSP00000370695,9606.ENSP00000378217,9606.ENSP00000380948,9606.ENSP00000394485,9606.ENSP00000428056,9606.ENSP00000441691\",\"Regulation of map kinase activity/9606.ENSP00000215754,9606.ENSP00000215832,9606.ENSP00000247668,9606.ENSP00000260197,9606.ENSP00000262948,9606.ENSP00000263025,9606.ENSP00000269571,9606.ENSP00000274063,9606.ENSP00000275493,9606.ENSP00000278568,9606.ENSP00000286827,9606.ENSP00000294117,9606.ENSP00000300574,9606.ENSP00000310933,9606.ENSP00000318944,9606.ENSP00000324804,9606.ENSP00000326366,9606.ENSP00000343325,9606.ENSP00000346300,9606.ENSP00000352157,9606.ENSP00000361263,9606.ENSP00000376317,9606.ENSP00000378217,9606.ENSP00000380638,9606.ENSP00000399511,9606.ENSP00000401303,9606.ENSP00000417653,9606.ENSP00000420321\",\"Positive regulation of map kinase activity/9606.ENSP00000215754,9606.ENSP00000215832,9606.ENSP00000247668,9606.ENSP00000262948,9606.ENSP00000263025,9606.ENSP00000269571,9606.ENSP00000275493,9606.ENSP00000278568,9606.ENSP00000286827,9606.ENSP00000294117,9606.ENSP00000300574,9606.ENSP00000310933,9606.ENSP00000318944,9606.ENSP00000326366,9606.ENSP00000343325,9606.ENSP00000346300,9606.ENSP00000352157,9606.ENSP00000361263,9606.ENSP00000376317,9606.ENSP00000380638,9606.ENSP00000399511,9606.ENSP00000401303,9606.ENSP00000417653,9606.ENSP00000420321\",\"Positive regulation of secretion/9606.ENSP00000215754,9606.ENSP00000222256,9606.ENSP00000243077,9606.ENSP00000255224,9606.ENSP00000260197,9606.ENSP00000261205,9606.ENSP00000265062,9606.ENSP00000273047,9606.ENSP00000275493,9606.ENSP00000306124,9606.ENSP00000312262,9606.ENSP00000312734,9606.ENSP00000312999,9606.ENSP00000320025,9606.ENSP00000362080,9606.ENSP00000370695,9606.ENSP00000380948,9606.ENSP00000441691,9606.ENSP00000444201\",\"Positive regulation of secretion by cell/9606.ENSP00000215754,9606.ENSP00000222256,9606.ENSP00000243077,9606.ENSP00000255224,9606.ENSP00000260197,9606.ENSP00000261205,9606.ENSP00000265062,9606.ENSP00000273047,9606.ENSP00000275493,9606.ENSP00000306124,9606.ENSP00000312262,9606.ENSP00000312734,9606.ENSP00000320025,9606.ENSP00000362080,9606.ENSP00000370695,9606.ENSP00000380948,9606.ENSP00000441691,9606.ENSP00000444201\",\"Regulation of erk1 and erk2 cascade/9606.ENSP00000215754,9606.ENSP00000243077,9606.ENSP00000262613,9606.ENSP00000263025,9606.ENSP00000269571,9606.ENSP00000275493,9606.ENSP00000286827,9606.ENSP00000312455,9606.ENSP00000312999,9606.ENSP00000318944,9606.ENSP00000346300,9606.ENSP00000360266,9606.ENSP00000361263,9606.ENSP00000380638,9606.ENSP00000401303,9606.ENSP00000408695,9606.ENSP00000433528\",\"Negative regulation of locomotion/9606.ENSP00000215754,9606.ENSP00000243077,9606.ENSP00000262613,9606.ENSP00000264657,9606.ENSP00000274063,9606.ENSP00000276297,9606.ENSP00000300574,9606.ENSP00000320866,9606.ENSP00000351022,9606.ENSP00000361467,9606.ENSP00000377867,9606.ENSP00000417335,9606.ENSP00000420321,9606.ENSP00000442600,9606.ENSP00000459615\",\"Negative regulation of cell motility/9606.ENSP00000215754,9606.ENSP00000243077,9606.ENSP00000262613,9606.ENSP00000264657,9606.ENSP00000274063,9606.ENSP00000276297,9606.ENSP00000300574,9606.ENSP00000320866,9606.ENSP00000351022,9606.ENSP00000361467,9606.ENSP00000377867,9606.ENSP00000420321,9606.ENSP00000442600,9606.ENSP00000459615\",\"Negative regulation of cellular component movement/9606.ENSP00000215754,9606.ENSP00000243077,9606.ENSP00000262613,9606.ENSP00000264657,9606.ENSP00000274063,9606.ENSP00000276297,9606.ENSP00000300574,9606.ENSP00000320866,9606.ENSP00000351022,9606.ENSP00000361467,9606.ENSP00000377867,9606.ENSP00000420321,9606.ENSP00000442600,9606.ENSP00000459615\",\"Negative regulation of cell migration/9606.ENSP00000215754,9606.ENSP00000243077,9606.ENSP00000262613,9606.ENSP00000264657,9606.ENSP00000274063,9606.ENSP00000276297,9606.ENSP00000320866,9606.ENSP00000351022,9606.ENSP00000361467,9606.ENSP00000377867,9606.ENSP00000420321,9606.ENSP00000442600,9606.ENSP00000459615\",\"Positive regulation of erk1 and erk2 cascade/9606.ENSP00000215754,9606.ENSP00000243077,9606.ENSP00000263025,9606.ENSP00000275493,9606.ENSP00000312455,9606.ENSP00000312999,9606.ENSP00000346300,9606.ENSP00000360266,9606.ENSP00000361263,9606.ENSP00000380638,9606.ENSP00000401303,9606.ENSP00000408695,9606.ENSP00000433528\",\"Regulation of apoptotic signaling pathway/9606.ENSP00000215754,9606.ENSP00000247668,9606.ENSP00000261023,9606.ENSP00000262613,9606.ENSP00000274063,9606.ENSP00000310933,9606.ENSP00000312455,9606.ENSP00000312999,9606.ENSP00000314067,9606.ENSP00000318944,9606.ENSP00000324804,9606.ENSP00000326366,9606.ENSP00000332973,9606.ENSP00000354829,9606.ENSP00000358867,9606.ENSP00000360671,9606.ENSP00000367686,9606.ENSP00000378217,9606.ENSP00000386896,9606.ENSP00000394560\",\"Negative regulation of apoptotic signaling pathway/9606.ENSP00000215754,9606.ENSP00000247668,9606.ENSP00000261023,9606.ENSP00000274063,9606.ENSP00000312455,9606.ENSP00000312999,9606.ENSP00000326366,9606.ENSP00000358867,9606.ENSP00000360671,9606.ENSP00000367686,9606.ENSP00000386896\",\"Positive regulation of ion transport/9606.ENSP00000215754,9606.ENSP00000255224,9606.ENSP00000261205,9606.ENSP00000262613,9606.ENSP00000301050,9606.ENSP00000306490,9606.ENSP00000320025,9606.ENSP00000326366,9606.ENSP00000360718,9606.ENSP00000367408,9606.ENSP00000378217,9606.ENSP00000379350,9606.ENSP00000394485,9606.ENSP00000478059\",\"Regulation of peptidyl-tyrosine phosphorylation/9606.ENSP00000215754,9606.ENSP00000264657,9606.ENSP00000267101,9606.ENSP00000274063,9606.ENSP00000275493,9606.ENSP00000289473,9606.ENSP00000293379,9606.ENSP00000306124,9606.ENSP00000314067,9606.ENSP00000324804,9606.ENSP00000326366,9606.ENSP00000367888,9606.ENSP00000378217,9606.ENSP00000380638,9606.ENSP00000380948,9606.ENSP00000401303\",\"Modulation of chemical synaptic transmission/9606.ENSP00000215832,9606.ENSP00000222256,9606.ENSP00000236877,9606.ENSP00000254976,9606.ENSP00000255224,9606.ENSP00000261205,9606.ENSP00000263431,9606.ENSP00000264657,9606.ENSP00000273047,9606.ENSP00000275493,9606.ENSP00000292385,9606.ENSP00000300935,9606.ENSP00000301050,9606.ENSP00000305355,9606.ENSP00000306124,9606.ENSP00000312999,9606.ENSP00000320025,9606.ENSP00000326366,9606.ENSP00000343027,9606.ENSP00000345752,9606.ENSP00000357068,9606.ENSP00000357307,9606.ENSP00000359085,9606.ENSP00000360718,9606.ENSP00000367408,9606.ENSP00000379350,9606.ENSP00000380638,9606.ENSP00000400365,9606.ENSP00000405963,9606.ENSP00000444201,9606.ENSP00000469689\",\"Regulation of trans-synaptic signaling/9606.ENSP00000215832,9606.ENSP00000222256,9606.ENSP00000236877,9606.ENSP00000254976,9606.ENSP00000255224,9606.ENSP00000261205,9606.ENSP00000263431,9606.ENSP00000264657,9606.ENSP00000273047,9606.ENSP00000275493,9606.ENSP00000292385,9606.ENSP00000300935,9606.ENSP00000301050,9606.ENSP00000305355,9606.ENSP00000306124,9606.ENSP00000312999,9606.ENSP00000320025,9606.ENSP00000326366,9606.ENSP00000343027,9606.ENSP00000345752,9606.ENSP00000357068,9606.ENSP00000357307,9606.ENSP00000359085,9606.ENSP00000360718,9606.ENSP00000367408,9606.ENSP00000379350,9606.ENSP00000380638,9606.ENSP00000400365,9606.ENSP00000405963,9606.ENSP00000444201,9606.ENSP00000469689\",\"Regulation of synaptic plasticity/9606.ENSP00000215832,9606.ENSP00000222256,9606.ENSP00000236877,9606.ENSP00000254976,9606.ENSP00000255224,9606.ENSP00000273047,9606.ENSP00000292385,9606.ENSP00000300935,9606.ENSP00000326366,9606.ENSP00000357068,9606.ENSP00000380638,9606.ENSP00000405963,9606.ENSP00000444201,9606.ENSP00000469689\",\"Cell morphogenesis involved in neuron differentiation/9606.ENSP00000215832,9606.ENSP00000222256,9606.ENSP00000243077,9606.ENSP00000262613,9606.ENSP00000263025,9606.ENSP00000264039,9606.ENSP00000264710,9606.ENSP00000269571,9606.ENSP00000300935,9606.ENSP00000304945,9606.ENSP00000341189,9606.ENSP00000354623,9606.ENSP00000359085,9606.ENSP00000364995,9606.ENSP00000367888,9606.ENSP00000368678,9606.ENSP00000371532,9606.ENSP00000376345,9606.ENSP00000379350,9606.ENSP00000380903,9606.ENSP00000385720,9606.ENSP00000387784,9606.ENSP00000400365,9606.ENSP00000401303,9606.ENSP00000408695,9606.ENSP00000417335,9606.ENSP00000420321,9606.ENSP00000428056,9606.ENSP00000442600,9606.ENSP00000469689\",\"Neuron projection morphogenesis/9606.ENSP00000215832,9606.ENSP00000222256,9606.ENSP00000243077,9606.ENSP00000263025,9606.ENSP00000263816,9606.ENSP00000264039,9606.ENSP00000264710,9606.ENSP00000269571,9606.ENSP00000275493,9606.ENSP00000278568,9606.ENSP00000286827,9606.ENSP00000292385,9606.ENSP00000300935,9606.ENSP00000304945,9606.ENSP00000341189,9606.ENSP00000356832,9606.ENSP00000359085,9606.ENSP00000364995,9606.ENSP00000367888,9606.ENSP00000368678,9606.ENSP00000371532,9606.ENSP00000376345,9606.ENSP00000379350,9606.ENSP00000380903,9606.ENSP00000385720,9606.ENSP00000387784,9606.ENSP00000399511,9606.ENSP00000400365,9606.ENSP00000401303,9606.ENSP00000408695,9606.ENSP00000417335,9606.ENSP00000417653,9606.ENSP00000420321,9606.ENSP00000428056,9606.ENSP00000442600,9606.ENSP00000459615,9606.ENSP00000469689\",\"Axon development/9606.ENSP00000215832,9606.ENSP00000222256,9606.ENSP00000243077,9606.ENSP00000263025,9606.ENSP00000264039,9606.ENSP00000264710,9606.ENSP00000269571,9606.ENSP00000300935,9606.ENSP00000304945,9606.ENSP00000311032,9606.ENSP00000341189,9606.ENSP00000359085,9606.ENSP00000360266,9606.ENSP00000364995,9606.ENSP00000368678,9606.ENSP00000371532,9606.ENSP00000376048,9606.ENSP00000376345,9606.ENSP00000379350,9606.ENSP00000380903,9606.ENSP00000385720,9606.ENSP00000387784,9606.ENSP00000400365,9606.ENSP00000401303,9606.ENSP00000408695,9606.ENSP00000417335,9606.ENSP00000420321,9606.ENSP00000428056,9606.ENSP00000442600\",\"Axonogenesis/9606.ENSP00000215832,9606.ENSP00000222256,9606.ENSP00000243077,9606.ENSP00000263025,9606.ENSP00000264039,9606.ENSP00000264710,9606.ENSP00000269571,9606.ENSP00000300935,9606.ENSP00000304945,9606.ENSP00000341189,9606.ENSP00000359085,9606.ENSP00000364995,9606.ENSP00000368678,9606.ENSP00000371532,9606.ENSP00000376345,9606.ENSP00000379350,9606.ENSP00000380903,9606.ENSP00000385720,9606.ENSP00000387784,9606.ENSP00000400365,9606.ENSP00000401303,9606.ENSP00000408695,9606.ENSP00000417335,9606.ENSP00000420321,9606.ENSP00000428056,9606.ENSP00000442600\",\"Wound healing/9606.ENSP00000215832,9606.ENSP00000222256,9606.ENSP00000263025,9606.ENSP00000263431,9606.ENSP00000267101,9606.ENSP00000269571,9606.ENSP00000273047,9606.ENSP00000275364,9606.ENSP00000275493,9606.ENSP00000278568,9606.ENSP00000293379,9606.ENSP00000296511,9606.ENSP00000305355,9606.ENSP00000306124,9606.ENSP00000311032,9606.ENSP00000332973,9606.ENSP00000334448,9606.ENSP00000351022,9606.ENSP00000357307,9606.ENSP00000359719,9606.ENSP00000362080,9606.ENSP00000378217,9606.ENSP00000385720,9606.ENSP00000400717,9606.ENSP00000408695,9606.ENSP00000418754,9606.ENSP00000428056,9606.ENSP00000442600,9606.ENSP00000444201,9606.ENSP00000481878\",\"Cellular response to growth factor stimulus/9606.ENSP00000215832,9606.ENSP00000229340,9606.ENSP00000263025,9606.ENSP00000263816,9606.ENSP00000265441,9606.ENSP00000267257,9606.ENSP00000269571,9606.ENSP00000275493,9606.ENSP00000296181,9606.ENSP00000300574,9606.ENSP00000311032,9606.ENSP00000312455,9606.ENSP00000332973,9606.ENSP00000341189,9606.ENSP00000346300,9606.ENSP00000360266,9606.ENSP00000361263,9606.ENSP00000366109,9606.ENSP00000376345,9606.ENSP00000378332,9606.ENSP00000387784,9606.ENSP00000401303\",\"Cell population proliferation/9606.ENSP00000215832,9606.ENSP00000232461,9606.ENSP00000243077,9606.ENSP00000263816,9606.ENSP00000264657,9606.ENSP00000264710,9606.ENSP00000265441,9606.ENSP00000274063,9606.ENSP00000292385,9606.ENSP00000312999,9606.ENSP00000326366,9606.ENSP00000334448,9606.ENSP00000367686,9606.ENSP00000375978,9606.ENSP00000377836,9606.ENSP00000378217,9606.ENSP00000380638,9606.ENSP00000404190,9606.ENSP00000405963,9606.ENSP00000481878\",\"Positive regulation of synaptic transmission/9606.ENSP00000215832,9606.ENSP00000236877,9606.ENSP00000254976,9606.ENSP00000261205,9606.ENSP00000275493,9606.ENSP00000301050,9606.ENSP00000306124,9606.ENSP00000320025,9606.ENSP00000360718,9606.ENSP00000380638,9606.ENSP00000400365,9606.ENSP00000444201,9606.ENSP00000469689\",\"Endocytosis/9606.ENSP00000215832,9606.ENSP00000243077,9606.ENSP00000244040,9606.ENSP00000247461,9606.ENSP00000253193,9606.ENSP00000254976,9606.ENSP00000260197,9606.ENSP00000261205,9606.ENSP00000263025,9606.ENSP00000263816,9606.ENSP00000265062,9606.ENSP00000271234,9606.ENSP00000273047,9606.ENSP00000276654,9606.ENSP00000294304,9606.ENSP00000312262,9606.ENSP00000317578,9606.ENSP00000320117,9606.ENSP00000320866,9606.ENSP00000345808,9606.ENSP00000346265,9606.ENSP00000352601,9606.ENSP00000353444,9606.ENSP00000356236,9606.ENSP00000360798,9606.ENSP00000363827,9606.ENSP00000367888,9606.ENSP00000371221,9606.ENSP00000371532,9606.ENSP00000376345,9606.ENSP00000379350,9606.ENSP00000380948,9606.ENSP00000413625,9606.ENSP00000417653,9606.ENSP00000441691,9606.ENSP00000454071,9606.ENSP00000461945\",\"Regulation of developmental growth/9606.ENSP00000215832,9606.ENSP00000243077,9606.ENSP00000255224,9606.ENSP00000261205,9606.ENSP00000264657,9606.ENSP00000265441,9606.ENSP00000274063,9606.ENSP00000278568,9606.ENSP00000292385,9606.ENSP00000341189,9606.ENSP00000356236,9606.ENSP00000368678,9606.ENSP00000376048,9606.ENSP00000417653\",\"Positive regulation of growth/9606.ENSP00000215832,9606.ENSP00000243077,9606.ENSP00000255224,9606.ENSP00000261205,9606.ENSP00000265441,9606.ENSP00000269571,9606.ENSP00000274063,9606.ENSP00000275493,9606.ENSP00000278568,9606.ENSP00000292385,9606.ENSP00000300574,9606.ENSP00000356236,9606.ENSP00000368678,9606.ENSP00000380638,9606.ENSP00000417653\",\"Phagocytosis/9606.ENSP00000215832,9606.ENSP00000243077,9606.ENSP00000261023,9606.ENSP00000263025,9606.ENSP00000264908,9606.ENSP00000265062,9606.ENSP00000273047,9606.ENSP00000278568,9606.ENSP00000300574,9606.ENSP00000306124,9606.ENSP00000341189,9606.ENSP00000345808,9606.ENSP00000356505,9606.ENSP00000366109,9606.ENSP00000376345,9606.ENSP00000378217,9606.ENSP00000379350,9606.ENSP00000380948,9606.ENSP00000428056,9606.ENSP00000441691,9606.ENSP00000444201,9606.ENSP00000454071\",\"Gliogenesis/9606.ENSP00000215832,9606.ENSP00000243077,9606.ENSP00000263025,9606.ENSP00000264039,9606.ENSP00000264657,9606.ENSP00000267101,9606.ENSP00000269571,9606.ENSP00000275493,9606.ENSP00000326366,9606.ENSP00000357068,9606.ENSP00000366109,9606.ENSP00000376048,9606.ENSP00000380638,9606.ENSP00000400365,9606.ENSP00000442600,9606.ENSP00000459615\",\"Glial cell differentiation/9606.ENSP00000215832,9606.ENSP00000243077,9606.ENSP00000263025,9606.ENSP00000264039,9606.ENSP00000264657,9606.ENSP00000267101,9606.ENSP00000269571,9606.ENSP00000275493,9606.ENSP00000326366,9606.ENSP00000357068,9606.ENSP00000376048,9606.ENSP00000400365,9606.ENSP00000442600\",\"Axon guidance/9606.ENSP00000215832,9606.ENSP00000243077,9606.ENSP00000263025,9606.ENSP00000264039,9606.ENSP00000269571,9606.ENSP00000304945,9606.ENSP00000341189,9606.ENSP00000364995,9606.ENSP00000368678,9606.ENSP00000371532,9606.ENSP00000376345,9606.ENSP00000380903,9606.ENSP00000385720,9606.ENSP00000387784,9606.ENSP00000400365,9606.ENSP00000401303,9606.ENSP00000408695,9606.ENSP00000417335,9606.ENSP00000420321,9606.ENSP00000428056,9606.ENSP00000442600\",\"Neuron projection guidance/9606.ENSP00000215832,9606.ENSP00000243077,9606.ENSP00000263025,9606.ENSP00000264039,9606.ENSP00000269571,9606.ENSP00000304945,9606.ENSP00000341189,9606.ENSP00000364995,9606.ENSP00000368678,9606.ENSP00000371532,9606.ENSP00000376345,9606.ENSP00000380903,9606.ENSP00000385720,9606.ENSP00000387784,9606.ENSP00000400365,9606.ENSP00000401303,9606.ENSP00000408695,9606.ENSP00000417335,9606.ENSP00000420321,9606.ENSP00000428056,9606.ENSP00000442600\",\"Activation of protein kinase activity/9606.ENSP00000215832,9606.ENSP00000247668,9606.ENSP00000262395,9606.ENSP00000262948,9606.ENSP00000263025,9606.ENSP00000267101,9606.ENSP00000275493,9606.ENSP00000278568,9606.ENSP00000294117,9606.ENSP00000300574,9606.ENSP00000310933,9606.ENSP00000314067,9606.ENSP00000318944,9606.ENSP00000326366,9606.ENSP00000343325,9606.ENSP00000346300,9606.ENSP00000352157,9606.ENSP00000359719,9606.ENSP00000361263,9606.ENSP00000367686,9606.ENSP00000376317,9606.ENSP00000377867,9606.ENSP00000378217,9606.ENSP00000380638,9606.ENSP00000399511,9606.ENSP00000401303,9606.ENSP00000417653,5691.AAZ10596,5691.AAZ11445,5691.EAN76407,5691.EAN77619,5691.EAN80351\",\"Regulation of stress-activated mapk cascade/9606.ENSP00000215832,9606.ENSP00000247668,9606.ENSP00000262395,9606.ENSP00000262948,9606.ENSP00000263025,9606.ENSP00000274063,9606.ENSP00000275493,9606.ENSP00000278568,9606.ENSP00000286827,9606.ENSP00000289473,9606.ENSP00000343325,9606.ENSP00000361263,9606.ENSP00000376317,9606.ENSP00000380638,9606.ENSP00000399511,9606.ENSP00000417653\",\"Regulation of stress-activated protein kinase signaling cascade/9606.ENSP00000215832,9606.ENSP00000247668,9606.ENSP00000262395,9606.ENSP00000262948,9606.ENSP00000263025,9606.ENSP00000274063,9606.ENSP00000275493,9606.ENSP00000278568,9606.ENSP00000286827,9606.ENSP00000289473,9606.ENSP00000343325,9606.ENSP00000361263,9606.ENSP00000376317,9606.ENSP00000380638,9606.ENSP00000399511,9606.ENSP00000417653\",\"Regulation of dna-binding transcription factor activity/9606.ENSP00000215832,9606.ENSP00000247668,9606.ENSP00000263025,9606.ENSP00000264657,9606.ENSP00000264908,9606.ENSP00000265441,9606.ENSP00000294304,9606.ENSP00000305355,9606.ENSP00000312455,9606.ENSP00000332973,9606.ENSP00000352157,9606.ENSP00000356832,9606.ENSP00000360266,9606.ENSP00000377833,9606.ENSP00000380948,9606.ENSP00000394560\",\"Response to oxidative stress/9606.ENSP00000215832,9606.ENSP00000247668,9606.ENSP00000263025,9606.ENSP00000267257,9606.ENSP00000275493,9606.ENSP00000289473,9606.ENSP00000300574,9606.ENSP00000311032,9606.ENSP00000312455,9606.ENSP00000326366,9606.ENSP00000351022,9606.ENSP00000356505,9606.ENSP00000360266,9606.ENSP00000366109,9606.ENSP00000377867,9606.ENSP00000378217,9606.ENSP00000380638,9606.ENSP00000384763,9606.ENSP00000394560\",\"Cellular response to chemical stress/9606.ENSP00000215832,9606.ENSP00000247668,9606.ENSP00000263025,9606.ENSP00000267257,9606.ENSP00000275493,9606.ENSP00000289473,9606.ENSP00000300574,9606.ENSP00000311032,9606.ENSP00000312455,9606.ENSP00000351022,9606.ENSP00000352157,9606.ENSP00000356505,9606.ENSP00000360266,9606.ENSP00000364586,9606.ENSP00000366109,9606.ENSP00000375978,9606.ENSP00000378217,9606.ENSP00000384763,9606.ENSP00000394560\",\"Response to reactive oxygen species/9606.ENSP00000215832,9606.ENSP00000247668,9606.ENSP00000263025,9606.ENSP00000267257,9606.ENSP00000275493,9606.ENSP00000289473,9606.ENSP00000300574,9606.ENSP00000311032,9606.ENSP00000312455,9606.ENSP00000351022,9606.ENSP00000360266,9606.ENSP00000366109,9606.ENSP00000377867,9606.ENSP00000378217,9606.ENSP00000380638,9606.ENSP00000384763,9606.ENSP00000394560\",\"Cellular response to oxidative stress/9606.ENSP00000215832,9606.ENSP00000247668,9606.ENSP00000263025,9606.ENSP00000267257,9606.ENSP00000275493,9606.ENSP00000289473,9606.ENSP00000300574,9606.ENSP00000312455,9606.ENSP00000351022,9606.ENSP00000356505,9606.ENSP00000360266,9606.ENSP00000366109,9606.ENSP00000378217,9606.ENSP00000384763,9606.ENSP00000394560\",\"Cellular response to reactive oxygen species/9606.ENSP00000215832,9606.ENSP00000247668,9606.ENSP00000263025,9606.ENSP00000267257,9606.ENSP00000275493,9606.ENSP00000289473,9606.ENSP00000300574,9606.ENSP00000312455,9606.ENSP00000351022,9606.ENSP00000360266,9606.ENSP00000366109,9606.ENSP00000378217,9606.ENSP00000384763,9606.ENSP00000394560\",\"Mesenchyme development/9606.ENSP00000215832,9606.ENSP00000252999,9606.ENSP00000253861,9606.ENSP00000263025,9606.ENSP00000265441,9606.ENSP00000267101,9606.ENSP00000274063,9606.ENSP00000332973,9606.ENSP00000361467,9606.ENSP00000417335,9606.ENSP00000418754,9606.ENSP00000420321\",\"Gland development/9606.ENSP00000215832,9606.ENSP00000252999,9606.ENSP00000262613,9606.ENSP00000263025,9606.ENSP00000265441,9606.ENSP00000275493,9606.ENSP00000294304,9606.ENSP00000326366,9606.ENSP00000332973,9606.ENSP00000346300,9606.ENSP00000360266,9606.ENSP00000366109,9606.ENSP00000371897,9606.ENSP00000385720,9606.ENSP00000442600\",\"In utero embryonic development/9606.ENSP00000215832,9606.ENSP00000258173,9606.ENSP00000265441,9606.ENSP00000270861,9606.ENSP00000275364,9606.ENSP00000275493,9606.ENSP00000292385,9606.ENSP00000332973,9606.ENSP00000351022,9606.ENSP00000376345,9606.ENSP00000379350,9606.ENSP00000381237,9606.ENSP00000400717,9606.ENSP00000430344\",\"Regulation of intracellular transport/9606.ENSP00000215832,9606.ENSP00000260197,9606.ENSP00000262948,9606.ENSP00000263025,9606.ENSP00000269571,9606.ENSP00000278568,9606.ENSP00000301050,9606.ENSP00000306490,9606.ENSP00000326366,9606.ENSP00000332973,9606.ENSP00000345752,9606.ENSP00000346032,9606.ENSP00000378217,9606.ENSP00000380948,9606.ENSP00000394485,9606.ENSP00000428056,9606.ENSP00000441691\",\"Positive regulation of intracellular transport/9606.ENSP00000215832,9606.ENSP00000260197,9606.ENSP00000269571,9606.ENSP00000278568,9606.ENSP00000301050,9606.ENSP00000306490,9606.ENSP00000326366,9606.ENSP00000332973,9606.ENSP00000345752,9606.ENSP00000346032,9606.ENSP00000378217,9606.ENSP00000380948,9606.ENSP00000394485,9606.ENSP00000428056,9606.ENSP00000441691\",\"Positive regulation of intracellular protein transport/9606.ENSP00000215832,9606.ENSP00000260197,9606.ENSP00000269571,9606.ENSP00000278568,9606.ENSP00000301050,9606.ENSP00000306490,9606.ENSP00000326366,9606.ENSP00000332973,9606.ENSP00000378217,9606.ENSP00000380948,9606.ENSP00000394485,9606.ENSP00000428056,9606.ENSP00000441691\",\"Regulation of intracellular protein transport/9606.ENSP00000215832,9606.ENSP00000260197,9606.ENSP00000269571,9606.ENSP00000278568,9606.ENSP00000301050,9606.ENSP00000306490,9606.ENSP00000326366,9606.ENSP00000332973,9606.ENSP00000378217,9606.ENSP00000380948,9606.ENSP00000394485,9606.ENSP00000428056,9606.ENSP00000441691\",\"Signal transduction by protein phosphorylation/9606.ENSP00000215832,9606.ENSP00000261023,9606.ENSP00000262948,9606.ENSP00000263025,9606.ENSP00000265080,9606.ENSP00000267101,9606.ENSP00000269571,9606.ENSP00000275493,9606.ENSP00000278568,9606.ENSP00000314067,9606.ENSP00000341189,9606.ENSP00000343325,9606.ENSP00000346300,9606.ENSP00000352157,9606.ENSP00000364995,9606.ENSP00000367686,9606.ENSP00000376317,9606.ENSP00000376345,9606.ENSP00000377867,9606.ENSP00000380638,9606.ENSP00000384192,9606.ENSP00000387784,9606.ENSP00000394560,9606.ENSP00000399511,9606.ENSP00000401303,9606.ENSP00000405963,9606.ENSP00000417653,5691.AAZ10596,5691.AAZ11445,5691.EAN76407,5691.EAN77619,5691.EAN80351\",\"MAPK cascade/9606.ENSP00000215832,9606.ENSP00000261023,9606.ENSP00000262948,9606.ENSP00000263025,9606.ENSP00000265080,9606.ENSP00000267101,9606.ENSP00000269571,9606.ENSP00000275493,9606.ENSP00000341189,9606.ENSP00000343325,9606.ENSP00000346300,9606.ENSP00000352157,9606.ENSP00000364995,9606.ENSP00000376317,9606.ENSP00000376345,9606.ENSP00000380638,9606.ENSP00000384192,9606.ENSP00000387784,9606.ENSP00000394560,9606.ENSP00000399511,9606.ENSP00000401303,9606.ENSP00000405963,9606.ENSP00000417653\",\"Peptidyl-serine modification/9606.ENSP00000215832,9606.ENSP00000262948,9606.ENSP00000263025,9606.ENSP00000263431,9606.ENSP00000305355,9606.ENSP00000306124,9606.ENSP00000312262,9606.ENSP00000314067,9606.ENSP00000339740,9606.ENSP00000343325,9606.ENSP00000356832,9606.ENSP00000378217,9606.ENSP00000394560,9606.ENSP00000408695\",\"Peptidyl-serine phosphorylation/9606.ENSP00000215832,9606.ENSP00000262948,9606.ENSP00000263025,9606.ENSP00000263431,9606.ENSP00000305355,9606.ENSP00000306124,9606.ENSP00000312262,9606.ENSP00000314067,9606.ENSP00000339740,9606.ENSP00000343325,9606.ENSP00000356832,9606.ENSP00000378217,9606.ENSP00000394560,9606.ENSP00000408695\",\"Stress-activated protein kinase signaling cascade/9606.ENSP00000215832,9606.ENSP00000262948,9606.ENSP00000263025,9606.ENSP00000278568,9606.ENSP00000314067,9606.ENSP00000343325,9606.ENSP00000346300,9606.ENSP00000352157,9606.ENSP00000367686,9606.ENSP00000376317,9606.ENSP00000377867,9606.ENSP00000394560,9606.ENSP00000399511,9606.ENSP00000417653\",\"Blood coagulation/9606.ENSP00000215832,9606.ENSP00000263025,9606.ENSP00000263431,9606.ENSP00000273047,9606.ENSP00000275364,9606.ENSP00000296511,9606.ENSP00000305355,9606.ENSP00000306124,9606.ENSP00000334448,9606.ENSP00000359719,9606.ENSP00000378217,9606.ENSP00000400717,9606.ENSP00000408695,9606.ENSP00000428056,9606.ENSP00000481878\",\"Coagulation/9606.ENSP00000215832,9606.ENSP00000263025,9606.ENSP00000263431,9606.ENSP00000273047,9606.ENSP00000275364,9606.ENSP00000296511,9606.ENSP00000305355,9606.ENSP00000306124,9606.ENSP00000334448,9606.ENSP00000359719,9606.ENSP00000378217,9606.ENSP00000400717,9606.ENSP00000408695,9606.ENSP00000428056,9606.ENSP00000481878\",\"Hemostasis/9606.ENSP00000215832,9606.ENSP00000263025,9606.ENSP00000263431,9606.ENSP00000273047,9606.ENSP00000275364,9606.ENSP00000296511,9606.ENSP00000305355,9606.ENSP00000306124,9606.ENSP00000334448,9606.ENSP00000359719,9606.ENSP00000378217,9606.ENSP00000400717,9606.ENSP00000408695,9606.ENSP00000428056,9606.ENSP00000481878\",\"Platelet activation/9606.ENSP00000215832,9606.ENSP00000263025,9606.ENSP00000263431,9606.ENSP00000275364,9606.ENSP00000305355,9606.ENSP00000306124,9606.ENSP00000334448,9606.ENSP00000378217,9606.ENSP00000400717,9606.ENSP00000408695,9606.ENSP00000428056,9606.ENSP00000481878\",\"Reproductive structure development/9606.ENSP00000215832,9606.ENSP00000263025,9606.ENSP00000263816,9606.ENSP00000265441,9606.ENSP00000270861,9606.ENSP00000274063,9606.ENSP00000275493,9606.ENSP00000311032,9606.ENSP00000341189,9606.ENSP00000346300,9606.ENSP00000366109,9606.ENSP00000376345,9606.ENSP00000417335,9606.ENSP00000430344\",\"Reproductive system development/9606.ENSP00000215832,9606.ENSP00000263025,9606.ENSP00000263816,9606.ENSP00000265441,9606.ENSP00000270861,9606.ENSP00000274063,9606.ENSP00000275493,9606.ENSP00000311032,9606.ENSP00000341189,9606.ENSP00000346300,9606.ENSP00000366109,9606.ENSP00000376345,9606.ENSP00000417335,9606.ENSP00000430344\",\"Cellular response to external stimulus/9606.ENSP00000215832,9606.ENSP00000263025,9606.ENSP00000274063,9606.ENSP00000275493,9606.ENSP00000301050,9606.ENSP00000306866,9606.ENSP00000360266,9606.ENSP00000376048,9606.ENSP00000377867,9606.ENSP00000385720,9606.ENSP00000386896,9606.ENSP00000442600\",\"Immune response-regulating cell surface receptor signaling pathway/9606.ENSP00000215832,9606.ENSP00000263025,9606.ENSP00000278568,9606.ENSP00000288680,9606.ENSP00000300574,9606.ENSP00000301050,9606.ENSP00000305355,9606.ENSP00000306124,9606.ENSP00000314067,9606.ENSP00000326366,9606.ENSP00000341189,9606.ENSP00000346300,9606.ENSP00000352157,9606.ENSP00000359719,9606.ENSP00000360266,9606.ENSP00000376345,9606.ENSP00000378217,9606.ENSP00000387784,9606.ENSP00000394560,9606.ENSP00000401303,9606.ENSP00000428056\",\"Immune response-regulating signaling pathway/9606.ENSP00000215832,9606.ENSP00000263025,9606.ENSP00000278568,9606.ENSP00000288680,9606.ENSP00000300574,9606.ENSP00000301050,9606.ENSP00000305355,9606.ENSP00000306124,9606.ENSP00000314067,9606.ENSP00000326366,9606.ENSP00000341189,9606.ENSP00000346300,9606.ENSP00000352157,9606.ENSP00000359719,9606.ENSP00000360266,9606.ENSP00000376345,9606.ENSP00000378217,9606.ENSP00000387784,9606.ENSP00000394560,9606.ENSP00000401303,9606.ENSP00000428056\",\"Activation of immune response/9606.ENSP00000215832,9606.ENSP00000263025,9606.ENSP00000278568,9606.ENSP00000288680,9606.ENSP00000300574,9606.ENSP00000301050,9606.ENSP00000305355,9606.ENSP00000306124,9606.ENSP00000314067,9606.ENSP00000326366,9606.ENSP00000341189,9606.ENSP00000346300,9606.ENSP00000359719,9606.ENSP00000375978,9606.ENSP00000376345,9606.ENSP00000378217,9606.ENSP00000428056\",\"Immune response-activating cell surface receptor signaling pathway/9606.ENSP00000215832,9606.ENSP00000263025,9606.ENSP00000278568,9606.ENSP00000288680,9606.ENSP00000300574,9606.ENSP00000301050,9606.ENSP00000305355,9606.ENSP00000306124,9606.ENSP00000314067,9606.ENSP00000326366,9606.ENSP00000341189,9606.ENSP00000346300,9606.ENSP00000359719,9606.ENSP00000376345,9606.ENSP00000378217,9606.ENSP00000428056\",\"Immune response-activating signal transduction/9606.ENSP00000215832,9606.ENSP00000263025,9606.ENSP00000278568,9606.ENSP00000288680,9606.ENSP00000300574,9606.ENSP00000301050,9606.ENSP00000305355,9606.ENSP00000306124,9606.ENSP00000314067,9606.ENSP00000326366,9606.ENSP00000341189,9606.ENSP00000346300,9606.ENSP00000359719,9606.ENSP00000376345,9606.ENSP00000378217,9606.ENSP00000428056\",\"Fc receptor signaling pathway/9606.ENSP00000215832,9606.ENSP00000263025,9606.ENSP00000278568,9606.ENSP00000300574,9606.ENSP00000306124,9606.ENSP00000314067,9606.ENSP00000341189,9606.ENSP00000352157,9606.ENSP00000360266,9606.ENSP00000376345,9606.ENSP00000378217,9606.ENSP00000387784,9606.ENSP00000394560,9606.ENSP00000401303,9606.ENSP00000428056\",\"Fc-epsilon receptor signaling pathway/9606.ENSP00000215832,9606.ENSP00000263025,9606.ENSP00000278568,9606.ENSP00000314067,9606.ENSP00000352157,9606.ENSP00000360266,9606.ENSP00000376345,9606.ENSP00000387784,9606.ENSP00000394560,9606.ENSP00000401303,9606.ENSP00000428056\",\"ERBB signaling pathway/9606.ENSP00000215832,9606.ENSP00000267101,9606.ENSP00000269571,9606.ENSP00000275493,9606.ENSP00000341189,9606.ENSP00000364995,9606.ENSP00000376345,9606.ENSP00000380638,9606.ENSP00000387784,9606.ENSP00000401303,9606.ENSP00000408695,9606.ENSP00000428056\",\"Small gtpase mediated signal transduction/9606.ENSP00000222256,9606.ENSP00000229340,9606.ENSP00000244040,9606.ENSP00000264710,9606.ENSP00000265062,9606.ENSP00000265080,9606.ENSP00000273047,9606.ENSP00000275364,9606.ENSP00000286827,9606.ENSP00000300935,9606.ENSP00000304376,9606.ENSP00000311449,9606.ENSP00000312734,9606.ENSP00000328551,9606.ENSP00000338864,9606.ENSP00000346300,9606.ENSP00000353444,9606.ENSP00000357131,9606.ENSP00000360266,9606.ENSP00000360718,9606.ENSP00000361263,9606.ENSP00000364995,9606.ENSP00000371897,9606.ENSP00000376345,9606.ENSP00000384192,9606.ENSP00000387784,9606.ENSP00000400717,9606.ENSP00000401303,9606.ENSP00000405963,9606.ENSP00000417653,9606.ENSP00000447053,9606.ENSP00000461945,9606.ENSP00000478479,9606.ENSP00000481878,5691.AAZ11866,5691.AAZ13226,5691.EAN77398,5691.EAN78254\",\"Ras protein signal transduction/9606.ENSP00000222256,9606.ENSP00000229340,9606.ENSP00000244040,9606.ENSP00000264710,9606.ENSP00000265062,9606.ENSP00000273047,9606.ENSP00000275364,9606.ENSP00000286827,9606.ENSP00000300935,9606.ENSP00000304376,9606.ENSP00000311449,9606.ENSP00000312734,9606.ENSP00000328551,9606.ENSP00000338864,9606.ENSP00000346300,9606.ENSP00000353444,9606.ENSP00000360266,9606.ENSP00000360718,9606.ENSP00000361263,9606.ENSP00000364995,9606.ENSP00000371897,9606.ENSP00000376345,9606.ENSP00000384192,9606.ENSP00000387784,9606.ENSP00000400717,9606.ENSP00000401303,9606.ENSP00000417653,9606.ENSP00000447053,9606.ENSP00000461945,9606.ENSP00000478479,9606.ENSP00000481878,5691.AAZ11866,5691.AAZ13226,5691.EAN77398,5691.EAN78254\",\"Rab protein signal transduction/9606.ENSP00000222256,9606.ENSP00000229340,9606.ENSP00000244040,9606.ENSP00000264710,9606.ENSP00000265062,9606.ENSP00000273047,9606.ENSP00000300935,9606.ENSP00000304376,9606.ENSP00000311449,9606.ENSP00000312734,9606.ENSP00000328551,9606.ENSP00000353444,9606.ENSP00000360718,9606.ENSP00000447053,9606.ENSP00000461945,9606.ENSP00000478479,5691.AAZ11866,5691.AAZ13226,5691.EAN77398,5691.EAN78254\",\"Protein localization to cell periphery/9606.ENSP00000222256,9606.ENSP00000239666,9606.ENSP00000252999,9606.ENSP00000254976,9606.ENSP00000262613,9606.ENSP00000264710,9606.ENSP00000300935,9606.ENSP00000301050,9606.ENSP00000312734,9606.ENSP00000320025,9606.ENSP00000346032,9606.ENSP00000352157,9606.ENSP00000360718,9606.ENSP00000399511,9606.ENSP00000461945\",\"Regulation of response to wounding/9606.ENSP00000222256,9606.ENSP00000243077,9606.ENSP00000300574,9606.ENSP00000306124,9606.ENSP00000332973,9606.ENSP00000341189,9606.ENSP00000346032,9606.ENSP00000362080,9606.ENSP00000366109,9606.ENSP00000367408,9606.ENSP00000378217,9606.ENSP00000379350,9606.ENSP00000408695\",\"Endomembrane system organization/9606.ENSP00000222256,9606.ENSP00000244040,9606.ENSP00000255224,9606.ENSP00000258301,9606.ENSP00000258654,9606.ENSP00000262613,9606.ENSP00000264710,9606.ENSP00000271234,9606.ENSP00000303145,9606.ENSP00000305355,9606.ENSP00000316476,9606.ENSP00000324804,9606.ENSP00000353444,9606.ENSP00000357307,9606.ENSP00000362080,9606.ENSP00000379709,9606.ENSP00000408695,9606.ENSP00000444201,9606.ENSP00000478479,5691.EAN79384\",\"Protein localization to plasma membrane/9606.ENSP00000222256,9606.ENSP00000252999,9606.ENSP00000262613,9606.ENSP00000264710,9606.ENSP00000300935,9606.ENSP00000301050,9606.ENSP00000312734,9606.ENSP00000320025,9606.ENSP00000346032,9606.ENSP00000360718,9606.ENSP00000399511,9606.ENSP00000461945\",\"Regulation of neurotransmitter transport/9606.ENSP00000222256,9606.ENSP00000255224,9606.ENSP00000261205,9606.ENSP00000263431,9606.ENSP00000273047,9606.ENSP00000305355,9606.ENSP00000320025,9606.ENSP00000357307,9606.ENSP00000360718,9606.ENSP00000367408,9606.ENSP00000379350,9606.ENSP00000444201\",\"Regulation of synaptic vesicle cycle/9606.ENSP00000222256,9606.ENSP00000255224,9606.ENSP00000261205,9606.ENSP00000263431,9606.ENSP00000273047,9606.ENSP00000305355,9606.ENSP00000320025,9606.ENSP00000357307,9606.ENSP00000360718,9606.ENSP00000367408,9606.ENSP00000444201\",\"Regulation of wound healing/9606.ENSP00000222256,9606.ENSP00000300574,9606.ENSP00000306124,9606.ENSP00000332973,9606.ENSP00000341189,9606.ENSP00000346032,9606.ENSP00000362080,9606.ENSP00000366109,9606.ENSP00000367408,9606.ENSP00000378217,9606.ENSP00000379350,9606.ENSP00000408695\",\"Protein folding/9606.ENSP00000228506,9606.ENSP00000229264,9606.ENSP00000232461,9606.ENSP00000247461,9606.ENSP00000261837,9606.ENSP00000262494,9606.ENSP00000305260,9606.ENSP00000312999,9606.ENSP00000320866,9606.ENSP00000334448,9606.ENSP00000343027,9606.ENSP00000358867,9606.ENSP00000478892,9606.ENSP00000481878\",\"Antigen processing and presentation/9606.ENSP00000229340,9606.ENSP00000247461,9606.ENSP00000249647,9606.ENSP00000261023,9606.ENSP00000264710,9606.ENSP00000265062,9606.ENSP00000273130,9606.ENSP00000289473,9606.ENSP00000296181,9606.ENSP00000311449,9606.ENSP00000312734,9606.ENSP00000320866,9606.ENSP00000353444,9606.ENSP00000356505,9606.ENSP00000360718,9606.ENSP00000376297,9606.ENSP00000404190\",\"Cellular response to abiotic stimulus/9606.ENSP00000232461,9606.ENSP00000248572,9606.ENSP00000263025,9606.ENSP00000274063,9606.ENSP00000275493,9606.ENSP00000311032,9606.ENSP00000352157,9606.ENSP00000364586,9606.ENSP00000375978,9606.ENSP00000376048,9606.ENSP00000376345,9606.ENSP00000428056,9606.ENSP00000442600,9606.ENSP00000481878\",\"Cellular response to environmental stimulus/9606.ENSP00000232461,9606.ENSP00000248572,9606.ENSP00000263025,9606.ENSP00000274063,9606.ENSP00000275493,9606.ENSP00000311032,9606.ENSP00000352157,9606.ENSP00000364586,9606.ENSP00000375978,9606.ENSP00000376048,9606.ENSP00000376345,9606.ENSP00000428056,9606.ENSP00000442600,9606.ENSP00000481878\",\"G protein-coupled receptor signaling pathway, coupled to cyclic nucleotide second messenger/9606.ENSP00000232461,9606.ENSP00000262494,9606.ENSP00000262613,9606.ENSP00000275364,9606.ENSP00000306490,9606.ENSP00000312999,9606.ENSP00000334448,9606.ENSP00000343027,9606.ENSP00000358867,9606.ENSP00000359719,9606.ENSP00000366109,9606.ENSP00000366233,9606.ENSP00000376609,9606.ENSP00000400717,9606.ENSP00000478892,9606.ENSP00000481878\",\"Adenylate cyclase-modulating g protein-coupled receptor signaling pathway/9606.ENSP00000232461,9606.ENSP00000262494,9606.ENSP00000262613,9606.ENSP00000275364,9606.ENSP00000306490,9606.ENSP00000312999,9606.ENSP00000334448,9606.ENSP00000343027,9606.ENSP00000358867,9606.ENSP00000359719,9606.ENSP00000366233,9606.ENSP00000376609,9606.ENSP00000400717,9606.ENSP00000478892,9606.ENSP00000481878\",\"Calcium ion homeostasis/9606.ENSP00000236877,9606.ENSP00000243077,9606.ENSP00000261023,9606.ENSP00000288680,9606.ENSP00000294117,9606.ENSP00000301050,9606.ENSP00000305355,9606.ENSP00000320025,9606.ENSP00000320866,9606.ENSP00000326366,9606.ENSP00000332973,9606.ENSP00000339740,9606.ENSP00000380638,9606.ENSP00000384763,9606.ENSP00000400717,9606.ENSP00000430344,9606.ENSP00000448083,9606.ENSP00000478059,9606.ENSP00000481878,5691.AAZ13044\",\"Cellular calcium ion homeostasis/9606.ENSP00000236877,9606.ENSP00000243077,9606.ENSP00000261023,9606.ENSP00000288680,9606.ENSP00000294117,9606.ENSP00000301050,9606.ENSP00000305355,9606.ENSP00000320025,9606.ENSP00000320866,9606.ENSP00000326366,9606.ENSP00000332973,9606.ENSP00000339740,9606.ENSP00000380638,9606.ENSP00000384763,9606.ENSP00000400717,9606.ENSP00000430344,9606.ENSP00000448083,9606.ENSP00000478059,9606.ENSP00000481878,5691.AAZ13044\",\"Cellular divalent inorganic cation homeostasis/9606.ENSP00000236877,9606.ENSP00000243077,9606.ENSP00000261023,9606.ENSP00000288680,9606.ENSP00000294117,9606.ENSP00000301050,9606.ENSP00000305355,9606.ENSP00000320025,9606.ENSP00000320866,9606.ENSP00000326366,9606.ENSP00000332973,9606.ENSP00000339740,9606.ENSP00000380638,9606.ENSP00000384763,9606.ENSP00000400717,9606.ENSP00000430344,9606.ENSP00000448083,9606.ENSP00000478059,9606.ENSP00000481878,5691.AAZ13044\",\"Regulation of cytosolic calcium ion concentration/9606.ENSP00000236877,9606.ENSP00000243077,9606.ENSP00000261023,9606.ENSP00000288680,9606.ENSP00000294117,9606.ENSP00000301050,9606.ENSP00000320025,9606.ENSP00000332973,9606.ENSP00000380638,9606.ENSP00000384763,9606.ENSP00000400717,9606.ENSP00000430344,9606.ENSP00000448083,9606.ENSP00000481878,5691.AAZ13044\",\"Calcium ion transport/9606.ENSP00000236877,9606.ENSP00000251127,9606.ENSP00000261023,9606.ENSP00000301050,9606.ENSP00000305355,9606.ENSP00000320025,9606.ENSP00000326366,9606.ENSP00000346032,9606.ENSP00000355747,9606.ENSP00000356545,9606.ENSP00000367408,9606.ENSP00000371180,9606.ENSP00000377840,9606.ENSP00000384763,9606.ENSP00000419101,9606.ENSP00000430344,9606.ENSP00000438949,9606.ENSP00000448083,9606.ENSP00000478059,5691.AAZ13044,5691.EAN77713\",\"Divalent inorganic cation transport/9606.ENSP00000236877,9606.ENSP00000251127,9606.ENSP00000261023,9606.ENSP00000301050,9606.ENSP00000305355,9606.ENSP00000320025,9606.ENSP00000326366,9606.ENSP00000346032,9606.ENSP00000355747,9606.ENSP00000356545,9606.ENSP00000367408,9606.ENSP00000371180,9606.ENSP00000377840,9606.ENSP00000384763,9606.ENSP00000419101,9606.ENSP00000430344,9606.ENSP00000438949,9606.ENSP00000448083,9606.ENSP00000478059,5691.AAZ13044,5691.EAN77713\",\"Divalent metal ion transport/9606.ENSP00000236877,9606.ENSP00000251127,9606.ENSP00000261023,9606.ENSP00000301050,9606.ENSP00000305355,9606.ENSP00000320025,9606.ENSP00000326366,9606.ENSP00000346032,9606.ENSP00000355747,9606.ENSP00000356545,9606.ENSP00000367408,9606.ENSP00000371180,9606.ENSP00000377840,9606.ENSP00000384763,9606.ENSP00000419101,9606.ENSP00000430344,9606.ENSP00000438949,9606.ENSP00000448083,9606.ENSP00000478059,5691.AAZ13044,5691.EAN77713\",\"Calcium ion transmembrane transport/9606.ENSP00000236877,9606.ENSP00000251127,9606.ENSP00000261023,9606.ENSP00000301050,9606.ENSP00000320025,9606.ENSP00000326366,9606.ENSP00000346032,9606.ENSP00000356545,9606.ENSP00000371180,9606.ENSP00000377840,9606.ENSP00000384763,9606.ENSP00000419101,9606.ENSP00000430344,9606.ENSP00000438949,9606.ENSP00000448083,5691.AAZ13044,5691.EAN77713\",\"Regulation of membrane potential/9606.ENSP00000236877,9606.ENSP00000251127,9606.ENSP00000301050,9606.ENSP00000306490,9606.ENSP00000320025,9606.ENSP00000326366,9606.ENSP00000339740,9606.ENSP00000345752,9606.ENSP00000346534,9606.ENSP00000356545,9606.ENSP00000357068,9606.ENSP00000360266,9606.ENSP00000364586,9606.ENSP00000366233,9606.ENSP00000380638,9606.ENSP00000384763,9606.ENSP00000438949,9606.ENSP00000469689,5691.EAN77713\",\"Regulation of blood circulation/9606.ENSP00000236877,9606.ENSP00000262494,9606.ENSP00000275493,9606.ENSP00000301050,9606.ENSP00000312262,9606.ENSP00000320025,9606.ENSP00000339740,9606.ENSP00000351022,9606.ENSP00000377840,9606.ENSP00000384763,9606.ENSP00000419101,9606.ENSP00000438949,9606.ENSP00000478059\",\"Regulation of heart contraction/9606.ENSP00000236877,9606.ENSP00000262494,9606.ENSP00000301050,9606.ENSP00000312262,9606.ENSP00000320025,9606.ENSP00000339740,9606.ENSP00000351022,9606.ENSP00000377840,9606.ENSP00000384763,9606.ENSP00000419101,9606.ENSP00000438949,9606.ENSP00000478059\",\"Establishment or maintenance of cell polarity/9606.ENSP00000239666,9606.ENSP00000262613,9606.ENSP00000264710,9606.ENSP00000278568,9606.ENSP00000300574,9606.ENSP00000341189,9606.ENSP00000346300,9606.ENSP00000361467,9606.ENSP00000379350,9606.ENSP00000385720,9606.ENSP00000418754\",\"Receptor-mediated endocytosis/9606.ENSP00000243077,9606.ENSP00000247461,9606.ENSP00000253193,9606.ENSP00000254976,9606.ENSP00000260197,9606.ENSP00000263816,9606.ENSP00000271234,9606.ENSP00000273047,9606.ENSP00000312262,9606.ENSP00000317578,9606.ENSP00000320866,9606.ENSP00000360798,9606.ENSP00000363827,9606.ENSP00000371532,9606.ENSP00000376345,9606.ENSP00000379350,9606.ENSP00000380948,9606.ENSP00000417653,9606.ENSP00000441691,9606.ENSP00000454071,9606.ENSP00000461945\",\"Regulation of neuron death/9606.ENSP00000243077,9606.ENSP00000247668,9606.ENSP00000260197,9606.ENSP00000263431,9606.ENSP00000264657,9606.ENSP00000267101,9606.ENSP00000311032,9606.ENSP00000326366,9606.ENSP00000360266,9606.ENSP00000376048,9606.ENSP00000380638,9606.ENSP00000380948,9606.ENSP00000441691\",\"Receptor metabolic process/9606.ENSP00000243077,9606.ENSP00000254976,9606.ENSP00000260197,9606.ENSP00000273047,9606.ENSP00000312262,9606.ENSP00000317578,9606.ENSP00000360798,9606.ENSP00000371532,9606.ENSP00000376345,9606.ENSP00000379350,9606.ENSP00000380948,9606.ENSP00000461945\",\"Regulation of hormone secretion/9606.ENSP00000243077,9606.ENSP00000254976,9606.ENSP00000275493,9606.ENSP00000276052,9606.ENSP00000281456,9606.ENSP00000286827,9606.ENSP00000294304,9606.ENSP00000306124,9606.ENSP00000312734,9606.ENSP00000356545,9606.ENSP00000360671,9606.ENSP00000362080,9606.ENSP00000366109,9606.ENSP00000408695,9606.ENSP00000444201\",\"Regulation of peptide hormone secretion/9606.ENSP00000243077,9606.ENSP00000254976,9606.ENSP00000275493,9606.ENSP00000276052,9606.ENSP00000281456,9606.ENSP00000286827,9606.ENSP00000294304,9606.ENSP00000306124,9606.ENSP00000312734,9606.ENSP00000356545,9606.ENSP00000360671,9606.ENSP00000362080,9606.ENSP00000408695,9606.ENSP00000444201\",\"Regulation of insulin secretion/9606.ENSP00000243077,9606.ENSP00000254976,9606.ENSP00000276052,9606.ENSP00000281456,9606.ENSP00000286827,9606.ENSP00000294304,9606.ENSP00000306124,9606.ENSP00000356545,9606.ENSP00000360671,9606.ENSP00000362080,9606.ENSP00000408695,9606.ENSP00000444201\",\"Negative regulation of cell development/9606.ENSP00000243077,9606.ENSP00000255224,9606.ENSP00000260197,9606.ENSP00000264657,9606.ENSP00000278568,9606.ENSP00000320866,9606.ENSP00000326366,9606.ENSP00000341189,9606.ENSP00000367888,9606.ENSP00000376048,9606.ENSP00000454071,9606.ENSP00000459615\",\"Negative regulation of nervous system development/9606.ENSP00000243077,9606.ENSP00000255224,9606.ENSP00000260197,9606.ENSP00000264657,9606.ENSP00000320866,9606.ENSP00000326366,9606.ENSP00000341189,9606.ENSP00000345752,9606.ENSP00000359719,9606.ENSP00000367888,9606.ENSP00000376048,9606.ENSP00000417335,9606.ENSP00000454071,9606.ENSP00000459615\",\"Negative regulation of neurogenesis/9606.ENSP00000243077,9606.ENSP00000255224,9606.ENSP00000260197,9606.ENSP00000264657,9606.ENSP00000320866,9606.ENSP00000326366,9606.ENSP00000341189,9606.ENSP00000367888,9606.ENSP00000376048,9606.ENSP00000454071,9606.ENSP00000459615\",\"Regulation of cell growth/9606.ENSP00000243077,9606.ENSP00000255224,9606.ENSP00000261205,9606.ENSP00000269571,9606.ENSP00000274063,9606.ENSP00000275493,9606.ENSP00000278568,9606.ENSP00000292385,9606.ENSP00000300574,9606.ENSP00000324804,9606.ENSP00000332973,9606.ENSP00000338864,9606.ENSP00000339740,9606.ENSP00000346300,9606.ENSP00000356236,9606.ENSP00000356832,9606.ENSP00000367686,9606.ENSP00000375727,9606.ENSP00000376048,9606.ENSP00000380638,9606.ENSP00000417653\",\"Positive regulation of cell growth/9606.ENSP00000243077,9606.ENSP00000255224,9606.ENSP00000261205,9606.ENSP00000269571,9606.ENSP00000274063,9606.ENSP00000275493,9606.ENSP00000278568,9606.ENSP00000292385,9606.ENSP00000300574,9606.ENSP00000356236,9606.ENSP00000380638,9606.ENSP00000417653\",\"Positive regulation of catabolic process/9606.ENSP00000243077,9606.ENSP00000260197,9606.ENSP00000263025,9606.ENSP00000263816,9606.ENSP00000265062,9606.ENSP00000306124,9606.ENSP00000321330,9606.ENSP00000326366,9606.ENSP00000341189,9606.ENSP00000358867,9606.ENSP00000377836,9606.ENSP00000378217,9606.ENSP00000380638,9606.ENSP00000394560,9606.ENSP00000448083,9606.ENSP00000454071\",\"Regulation of protein catabolic process/9606.ENSP00000243077,9606.ENSP00000260197,9606.ENSP00000263431,9606.ENSP00000263816,9606.ENSP00000265062,9606.ENSP00000275364,9606.ENSP00000275493,9606.ENSP00000321330,9606.ENSP00000326366,9606.ENSP00000332973,9606.ENSP00000341189,9606.ENSP00000346032,9606.ENSP00000377836,9606.ENSP00000380638,9606.ENSP00000394560,9606.ENSP00000454071\",\"Positive regulation of protein catabolic process/9606.ENSP00000243077,9606.ENSP00000260197,9606.ENSP00000263816,9606.ENSP00000265062,9606.ENSP00000321330,9606.ENSP00000326366,9606.ENSP00000341189,9606.ENSP00000377836,9606.ENSP00000380638,9606.ENSP00000394560,9606.ENSP00000454071\",\"Blood vessel morphogenesis/9606.ENSP00000243077,9606.ENSP00000261023,9606.ENSP00000263816,9606.ENSP00000274063,9606.ENSP00000293379,9606.ENSP00000294304,9606.ENSP00000304945,9606.ENSP00000341189,9606.ENSP00000346032,9606.ENSP00000360266,9606.ENSP00000363827,9606.ENSP00000379350,9606.ENSP00000380638,9606.ENSP00000387784,9606.ENSP00000400717,9606.ENSP00000401303,9606.ENSP00000408695,9606.ENSP00000420321,9606.ENSP00000430344,9606.ENSP00000442600,9606.ENSP00000454071\",\"Positive regulation of cytosolic calcium ion concentration/9606.ENSP00000243077,9606.ENSP00000261023,9606.ENSP00000288680,9606.ENSP00000294117,9606.ENSP00000301050,9606.ENSP00000320025,9606.ENSP00000380638,9606.ENSP00000384763,9606.ENSP00000400717,9606.ENSP00000430344,9606.ENSP00000448083,9606.ENSP00000481878,5691.AAZ13044\",\"Regulation of actin filament-based process/9606.ENSP00000243077,9606.ENSP00000262428,9606.ENSP00000267257,9606.ENSP00000276297,9606.ENSP00000278568,9606.ENSP00000292385,9606.ENSP00000300574,9606.ENSP00000306124,9606.ENSP00000314067,9606.ENSP00000332973,9606.ENSP00000339740,9606.ENSP00000351022,9606.ENSP00000357131,9606.ENSP00000361009,9606.ENSP00000376345,9606.ENSP00000378217,9606.ENSP00000380638,9606.ENSP00000385720,9606.ENSP00000417653,9606.ENSP00000428056\",\"Regulation of actin cytoskeleton organization/9606.ENSP00000243077,9606.ENSP00000262428,9606.ENSP00000267257,9606.ENSP00000276297,9606.ENSP00000278568,9606.ENSP00000292385,9606.ENSP00000300574,9606.ENSP00000306124,9606.ENSP00000314067,9606.ENSP00000332973,9606.ENSP00000351022,9606.ENSP00000357131,9606.ENSP00000361009,9606.ENSP00000376345,9606.ENSP00000378217,9606.ENSP00000380638,9606.ENSP00000385720,9606.ENSP00000417653,9606.ENSP00000428056\",\"Regulation of cellular protein catabolic process/9606.ENSP00000243077,9606.ENSP00000263431,9606.ENSP00000263816,9606.ENSP00000275364,9606.ENSP00000321330,9606.ENSP00000326366,9606.ENSP00000341189,9606.ENSP00000346032,9606.ENSP00000380638,9606.ENSP00000394560,9606.ENSP00000454071\",\"Forebrain development/9606.ENSP00000243077,9606.ENSP00000263816,9606.ENSP00000264908,9606.ENSP00000275493,9606.ENSP00000276297,9606.ENSP00000300574,9606.ENSP00000311032,9606.ENSP00000326366,9606.ENSP00000346300,9606.ENSP00000360021,9606.ENSP00000384763,9606.ENSP00000385720,9606.ENSP00000417335,9606.ENSP00000420321,9606.ENSP00000441691,9606.ENSP00000459615\",\"Response to peptide/9606.ENSP00000243077,9606.ENSP00000264657,9606.ENSP00000264710,9606.ENSP00000267257,9606.ENSP00000278568,9606.ENSP00000294304,9606.ENSP00000300574,9606.ENSP00000300935,9606.ENSP00000312455,9606.ENSP00000312734,9606.ENSP00000315768,9606.ENSP00000326366,9606.ENSP00000341189,9606.ENSP00000343027,9606.ENSP00000359719,9606.ENSP00000360293,9606.ENSP00000366109,9606.ENSP00000376345,9606.ENSP00000377840,9606.ENSP00000378217,9606.ENSP00000387784,9606.ENSP00000388566,9606.ENSP00000401303,9606.ENSP00000428056,9606.ENSP00000442600,9606.ENSP00000461945\",\"Cellular response to peptide/9606.ENSP00000243077,9606.ENSP00000264657,9606.ENSP00000264710,9606.ENSP00000267257,9606.ENSP00000278568,9606.ENSP00000300574,9606.ENSP00000300935,9606.ENSP00000312455,9606.ENSP00000312734,9606.ENSP00000326366,9606.ENSP00000341189,9606.ENSP00000359719,9606.ENSP00000360293,9606.ENSP00000376345,9606.ENSP00000377840,9606.ENSP00000378217,9606.ENSP00000387784,9606.ENSP00000388566,9606.ENSP00000401303,9606.ENSP00000428056,9606.ENSP00000461945\",\"Telencephalon development/9606.ENSP00000243077,9606.ENSP00000264908,9606.ENSP00000275493,9606.ENSP00000300574,9606.ENSP00000311032,9606.ENSP00000326366,9606.ENSP00000346300,9606.ENSP00000360021,9606.ENSP00000384763,9606.ENSP00000417335,9606.ENSP00000420321,9606.ENSP00000459615\",\"Negative regulation of cell adhesion/9606.ENSP00000243077,9606.ENSP00000267101,9606.ENSP00000269571,9606.ENSP00000276297,9606.ENSP00000311032,9606.ENSP00000341189,9606.ENSP00000361467,9606.ENSP00000366109,9606.ENSP00000367408,9606.ENSP00000378217,9606.ENSP00000428056\",\"Regulation of cell morphogenesis involved in differentiation/9606.ENSP00000243077,9606.ENSP00000278568,9606.ENSP00000286827,9606.ENSP00000292385,9606.ENSP00000300574,9606.ENSP00000320866,9606.ENSP00000326366,9606.ENSP00000341189,9606.ENSP00000346300,9606.ENSP00000361009,9606.ENSP00000367888,9606.ENSP00000376048,9606.ENSP00000385720,9606.ENSP00000399511,9606.ENSP00000417335,9606.ENSP00000417653,9606.ENSP00000420321\",\"Positive regulation of cell morphogenesis involved in differentiation/9606.ENSP00000243077,9606.ENSP00000278568,9606.ENSP00000286827,9606.ENSP00000292385,9606.ENSP00000300574,9606.ENSP00000320866,9606.ENSP00000346300,9606.ENSP00000361009,9606.ENSP00000417335,9606.ENSP00000417653,9606.ENSP00000420321\",\"Regulation of axonogenesis/9606.ENSP00000243077,9606.ENSP00000278568,9606.ENSP00000286827,9606.ENSP00000292385,9606.ENSP00000326366,9606.ENSP00000341189,9606.ENSP00000367888,9606.ENSP00000376048,9606.ENSP00000385720,9606.ENSP00000417335,9606.ENSP00000417653,9606.ENSP00000420321\",\"Antigen processing and presentation of exogenous antigen/9606.ENSP00000247461,9606.ENSP00000249647,9606.ENSP00000261023,9606.ENSP00000265062,9606.ENSP00000273130,9606.ENSP00000289473,9606.ENSP00000296181,9606.ENSP00000320866,9606.ENSP00000356505,9606.ENSP00000376297,9606.ENSP00000404190\",\"Antigen processing and presentation of exogenous peptide antigen/9606.ENSP00000247461,9606.ENSP00000249647,9606.ENSP00000261023,9606.ENSP00000265062,9606.ENSP00000273130,9606.ENSP00000289473,9606.ENSP00000296181,9606.ENSP00000320866,9606.ENSP00000356505,9606.ENSP00000376297,9606.ENSP00000404190\",\"Antigen processing and presentation of peptide antigen/9606.ENSP00000247461,9606.ENSP00000249647,9606.ENSP00000261023,9606.ENSP00000265062,9606.ENSP00000273130,9606.ENSP00000289473,9606.ENSP00000296181,9606.ENSP00000320866,9606.ENSP00000356505,9606.ENSP00000376297,9606.ENSP00000404190\",\"Apoptotic signaling pathway/9606.ENSP00000247668,9606.ENSP00000261023,9606.ENSP00000267101,9606.ENSP00000306866,9606.ENSP00000311032,9606.ENSP00000312455,9606.ENSP00000332973,9606.ENSP00000360266,9606.ENSP00000364586,9606.ENSP00000378217,9606.ENSP00000388566,9606.ENSP00000408695,9606.ENSP00000428056,9606.ENSP00000441691\",\"Regulation of jnk cascade/9606.ENSP00000247668,9606.ENSP00000262395,9606.ENSP00000274063,9606.ENSP00000275493,9606.ENSP00000278568,9606.ENSP00000286827,9606.ENSP00000289473,9606.ENSP00000343325,9606.ENSP00000361263,9606.ENSP00000376317,9606.ENSP00000380638,9606.ENSP00000399511,9606.ENSP00000417653\",\"Golgi vesicle transport/9606.ENSP00000249647,9606.ENSP00000253861,9606.ENSP00000258301,9606.ENSP00000258654,9606.ENSP00000260197,9606.ENSP00000260762,9606.ENSP00000264710,9606.ENSP00000273130,9606.ENSP00000300935,9606.ENSP00000303145,9606.ENSP00000311449,9606.ENSP00000312734,9606.ENSP00000360798,9606.ENSP00000370695,9606.ENSP00000376297,9606.ENSP00000404190,9606.ENSP00000461945,5691.EAN79384\",\"Regulation of ion transmembrane transport/9606.ENSP00000251127,9606.ENSP00000261837,9606.ENSP00000262613,9606.ENSP00000301050,9606.ENSP00000306124,9606.ENSP00000320025,9606.ENSP00000326366,9606.ENSP00000339740,9606.ENSP00000346534,9606.ENSP00000355747,9606.ENSP00000356545,9606.ENSP00000357068,9606.ENSP00000364586,9606.ENSP00000371180,9606.ENSP00000376432,9606.ENSP00000377840,9606.ENSP00000379350,9606.ENSP00000380638,9606.ENSP00000384763,9606.ENSP00000394485,9606.ENSP00000405963,9606.ENSP00000419101,9606.ENSP00000438949,9606.ENSP00000448083,9606.ENSP00000469689,9606.ENSP00000478059,5691.EAN77713\",\"Morphogenesis of an epithelium/9606.ENSP00000252999,9606.ENSP00000262613,9606.ENSP00000263816,9606.ENSP00000264710,9606.ENSP00000274063,9606.ENSP00000275493,9606.ENSP00000276297,9606.ENSP00000278568,9606.ENSP00000293379,9606.ENSP00000294304,9606.ENSP00000311032,9606.ENSP00000324532,9606.ENSP00000326366,9606.ENSP00000332973,9606.ENSP00000345808,9606.ENSP00000359719,9606.ENSP00000361467,9606.ENSP00000376345,9606.ENSP00000377836,9606.ENSP00000378332,9606.ENSP00000385720,9606.ENSP00000387784,9606.ENSP00000400717,9606.ENSP00000418754,9606.ENSP00000442600\",\"Epithelial tube morphogenesis/9606.ENSP00000252999,9606.ENSP00000263816,9606.ENSP00000274063,9606.ENSP00000276297,9606.ENSP00000278568,9606.ENSP00000294304,9606.ENSP00000311032,9606.ENSP00000326366,9606.ENSP00000332973,9606.ENSP00000359719,9606.ENSP00000361467,9606.ENSP00000377836,9606.ENSP00000385720,9606.ENSP00000400717,9606.ENSP00000418754,9606.ENSP00000442600\",\"Ameboidal-type cell migration/9606.ENSP00000252999,9606.ENSP00000267082,9606.ENSP00000267257,9606.ENSP00000294304,9606.ENSP00000341189,9606.ENSP00000343325,9606.ENSP00000377836,9606.ENSP00000378332,9606.ENSP00000379350,9606.ENSP00000380638,9606.ENSP00000380948,9606.ENSP00000420321,9606.ENSP00000459615\",\"Negative regulation of phosphorylation/9606.ENSP00000260197,9606.ENSP00000262613,9606.ENSP00000264657,9606.ENSP00000274063,9606.ENSP00000294304,9606.ENSP00000311032,9606.ENSP00000314067,9606.ENSP00000324804,9606.ENSP00000326366,9606.ENSP00000343325,9606.ENSP00000346300,9606.ENSP00000360266,9606.ENSP00000361263,9606.ENSP00000376297,9606.ENSP00000376317,9606.ENSP00000378217,9606.ENSP00000384763,9606.ENSP00000442600\",\"Negative regulation of protein phosphorylation/9606.ENSP00000260197,9606.ENSP00000262613,9606.ENSP00000274063,9606.ENSP00000294304,9606.ENSP00000311032,9606.ENSP00000314067,9606.ENSP00000324804,9606.ENSP00000326366,9606.ENSP00000343325,9606.ENSP00000346300,9606.ENSP00000360266,9606.ENSP00000361263,9606.ENSP00000376317,9606.ENSP00000378217,9606.ENSP00000384763,9606.ENSP00000442600\",\"Negative regulation of kinase activity/9606.ENSP00000260197,9606.ENSP00000274063,9606.ENSP00000294304,9606.ENSP00000311032,9606.ENSP00000314067,9606.ENSP00000324804,9606.ENSP00000326366,9606.ENSP00000343325,9606.ENSP00000376317,9606.ENSP00000378217,9606.ENSP00000384763\",\"Negative regulation of protein kinase activity/9606.ENSP00000260197,9606.ENSP00000274063,9606.ENSP00000294304,9606.ENSP00000311032,9606.ENSP00000314067,9606.ENSP00000324804,9606.ENSP00000326366,9606.ENSP00000343325,9606.ENSP00000376317,9606.ENSP00000378217,9606.ENSP00000384763\",\"Negative regulation of transferase activity/9606.ENSP00000260197,9606.ENSP00000274063,9606.ENSP00000294304,9606.ENSP00000311032,9606.ENSP00000314067,9606.ENSP00000324804,9606.ENSP00000326366,9606.ENSP00000343325,9606.ENSP00000376317,9606.ENSP00000378217,9606.ENSP00000384763\",\"Viral life cycle/9606.ENSP00000261023,9606.ENSP00000265062,9606.ENSP00000267082,9606.ENSP00000273047,9606.ENSP00000275493,9606.ENSP00000293379,9606.ENSP00000296181,9606.ENSP00000312262,9606.ENSP00000360798,9606.ENSP00000379350,9606.ENSP00000442600,9606.ENSP00000454071\",\"Interaction with host/9606.ENSP00000261023,9606.ENSP00000265062,9606.ENSP00000267082,9606.ENSP00000275493,9606.ENSP00000293379,9606.ENSP00000296181,9606.ENSP00000312262,9606.ENSP00000360798,9606.ENSP00000376345,9606.ENSP00000379350,9606.ENSP00000442600,9606.ENSP00000454071\",\"Movement in host environment/9606.ENSP00000261023,9606.ENSP00000265062,9606.ENSP00000267082,9606.ENSP00000275493,9606.ENSP00000293379,9606.ENSP00000296181,9606.ENSP00000312262,9606.ENSP00000360798,9606.ENSP00000376345,9606.ENSP00000379350,9606.ENSP00000442600,9606.ENSP00000454071\",\"Entry into host/9606.ENSP00000261023,9606.ENSP00000267082,9606.ENSP00000275493,9606.ENSP00000293379,9606.ENSP00000296181,9606.ENSP00000312262,9606.ENSP00000360798,9606.ENSP00000376345,9606.ENSP00000379350,9606.ENSP00000442600,9606.ENSP00000454071\",\"Angiogenesis/9606.ENSP00000261023,9606.ENSP00000274063,9606.ENSP00000293379,9606.ENSP00000304945,9606.ENSP00000341189,9606.ENSP00000346032,9606.ENSP00000360266,9606.ENSP00000363827,9606.ENSP00000379350,9606.ENSP00000380638,9606.ENSP00000400717,9606.ENSP00000401303,9606.ENSP00000408695,9606.ENSP00000420321,9606.ENSP00000430344,9606.ENSP00000442600\",\"Regulation of metal ion transport/9606.ENSP00000261837,9606.ENSP00000262613,9606.ENSP00000301050,9606.ENSP00000306124,9606.ENSP00000312999,9606.ENSP00000320025,9606.ENSP00000339740,9606.ENSP00000355747,9606.ENSP00000367408,9606.ENSP00000377840,9606.ENSP00000379350,9606.ENSP00000380638,9606.ENSP00000384763,9606.ENSP00000438949,9606.ENSP00000478059\",\"Regulation of cation transmembrane transport/9606.ENSP00000261837,9606.ENSP00000262613,9606.ENSP00000301050,9606.ENSP00000306124,9606.ENSP00000320025,9606.ENSP00000339740,9606.ENSP00000355747,9606.ENSP00000377840,9606.ENSP00000379350,9606.ENSP00000380638,9606.ENSP00000384763,9606.ENSP00000394485,9606.ENSP00000405963,9606.ENSP00000438949,9606.ENSP00000469689,9606.ENSP00000478059\",\"Regulation of transporter activity/9606.ENSP00000261837,9606.ENSP00000262613,9606.ENSP00000301050,9606.ENSP00000306124,9606.ENSP00000320025,9606.ENSP00000339740,9606.ENSP00000356832,9606.ENSP00000377840,9606.ENSP00000378217,9606.ENSP00000379350,9606.ENSP00000380638,9606.ENSP00000394485,9606.ENSP00000405963,9606.ENSP00000438949,9606.ENSP00000469689,9606.ENSP00000478059\",\"Regulation of ion transmembrane transporter activity/9606.ENSP00000261837,9606.ENSP00000262613,9606.ENSP00000301050,9606.ENSP00000306124,9606.ENSP00000320025,9606.ENSP00000339740,9606.ENSP00000377840,9606.ENSP00000379350,9606.ENSP00000380638,9606.ENSP00000394485,9606.ENSP00000405963,9606.ENSP00000438949,9606.ENSP00000469689,9606.ENSP00000478059\",\"Regulation of transmembrane transporter activity/9606.ENSP00000261837,9606.ENSP00000262613,9606.ENSP00000301050,9606.ENSP00000306124,9606.ENSP00000320025,9606.ENSP00000339740,9606.ENSP00000377840,9606.ENSP00000379350,9606.ENSP00000380638,9606.ENSP00000394485,9606.ENSP00000405963,9606.ENSP00000438949,9606.ENSP00000469689,9606.ENSP00000478059\",\"Positive regulation of gtpase activity/9606.ENSP00000261837,9606.ENSP00000269571,9606.ENSP00000276297,9606.ENSP00000286827,9606.ENSP00000300574,9606.ENSP00000338864,9606.ENSP00000345808,9606.ENSP00000346300,9606.ENSP00000351333,9606.ENSP00000357131,9606.ENSP00000360266,9606.ENSP00000361009,9606.ENSP00000361263,9606.ENSP00000368678,9606.ENSP00000371897,9606.ENSP00000379350,9606.ENSP00000379709,9606.ENSP00000380638,9606.ENSP00000384192,9606.ENSP00000385720,9606.ENSP00000386896,9606.ENSP00000387784,9606.ENSP00000404190,9606.ENSP00000405963,9606.ENSP00000459615\",\"Regulation of calcium ion transport/9606.ENSP00000261837,9606.ENSP00000301050,9606.ENSP00000306124,9606.ENSP00000312999,9606.ENSP00000320025,9606.ENSP00000339740,9606.ENSP00000355747,9606.ENSP00000367408,9606.ENSP00000377840,9606.ENSP00000380638,9606.ENSP00000384763,9606.ENSP00000438949,9606.ENSP00000478059\",\"Regulation of calcium ion transmembrane transport/9606.ENSP00000261837,9606.ENSP00000301050,9606.ENSP00000306124,9606.ENSP00000320025,9606.ENSP00000339740,9606.ENSP00000355747,9606.ENSP00000377840,9606.ENSP00000380638,9606.ENSP00000384763,9606.ENSP00000438949,9606.ENSP00000478059\",\"Regulation of cation channel activity/9606.ENSP00000261837,9606.ENSP00000301050,9606.ENSP00000320025,9606.ENSP00000339740,9606.ENSP00000377840,9606.ENSP00000379350,9606.ENSP00000380638,9606.ENSP00000405963,9606.ENSP00000438949,9606.ENSP00000469689,9606.ENSP00000478059\",\"Regulation of supramolecular fiber organization/9606.ENSP00000262428,9606.ENSP00000267257,9606.ENSP00000276297,9606.ENSP00000278568,9606.ENSP00000292385,9606.ENSP00000306124,9606.ENSP00000314067,9606.ENSP00000326366,9606.ENSP00000332973,9606.ENSP00000351022,9606.ENSP00000357131,9606.ENSP00000361009,9606.ENSP00000363827,9606.ENSP00000376345,9606.ENSP00000378217,9606.ENSP00000380638,9606.ENSP00000385720,9606.ENSP00000417653,9606.ENSP00000428056,9606.ENSP00000454071\",\"Regulation of actin filament organization/9606.ENSP00000262428,9606.ENSP00000267257,9606.ENSP00000276297,9606.ENSP00000278568,9606.ENSP00000292385,9606.ENSP00000306124,9606.ENSP00000314067,9606.ENSP00000332973,9606.ENSP00000351022,9606.ENSP00000357131,9606.ENSP00000361009,9606.ENSP00000376345,9606.ENSP00000378217,9606.ENSP00000380638,9606.ENSP00000385720,9606.ENSP00000417653,9606.ENSP00000428056\",\"Cell surface receptor signaling pathway involved in cell-cell signaling/9606.ENSP00000262494,9606.ENSP00000262613,9606.ENSP00000265441,9606.ENSP00000273047,9606.ENSP00000274063,9606.ENSP00000286827,9606.ENSP00000294304,9606.ENSP00000306490,9606.ENSP00000334448,9606.ENSP00000366233,9606.ENSP00000367888,9606.ENSP00000369390,9606.ENSP00000376609,9606.ENSP00000378332,9606.ENSP00000399511,9606.ENSP00000418754,9606.ENSP00000441691,9606.ENSP00000481878\",\"Cell-cell signaling by wnt/9606.ENSP00000262494,9606.ENSP00000262613,9606.ENSP00000265441,9606.ENSP00000273047,9606.ENSP00000274063,9606.ENSP00000286827,9606.ENSP00000294304,9606.ENSP00000334448,9606.ENSP00000367888,9606.ENSP00000369390,9606.ENSP00000376609,9606.ENSP00000378332,9606.ENSP00000399511,9606.ENSP00000418754,9606.ENSP00000481878\",\"Wnt signaling pathway/9606.ENSP00000262494,9606.ENSP00000262613,9606.ENSP00000265441,9606.ENSP00000273047,9606.ENSP00000274063,9606.ENSP00000286827,9606.ENSP00000294304,9606.ENSP00000334448,9606.ENSP00000367888,9606.ENSP00000369390,9606.ENSP00000376609,9606.ENSP00000378332,9606.ENSP00000399511,9606.ENSP00000418754,9606.ENSP00000481878\",\"Muscle system process/9606.ENSP00000262494,9606.ENSP00000267257,9606.ENSP00000286827,9606.ENSP00000296181,9606.ENSP00000312262,9606.ENSP00000312455,9606.ENSP00000320025,9606.ENSP00000339740,9606.ENSP00000347852,9606.ENSP00000351022,9606.ENSP00000360293,9606.ENSP00000384763\",\"Regulation of protein kinase b signaling/9606.ENSP00000262613,9606.ENSP00000263816,9606.ENSP00000267101,9606.ENSP00000269571,9606.ENSP00000275493,9606.ENSP00000341189,9606.ENSP00000361263,9606.ENSP00000376345,9606.ENSP00000379350,9606.ENSP00000428056,9606.ENSP00000442600\",\"Regulation of cell shape/9606.ENSP00000262613,9606.ENSP00000275364,9606.ENSP00000276297,9606.ENSP00000300574,9606.ENSP00000341189,9606.ENSP00000351022,9606.ENSP00000357131,9606.ENSP00000366109,9606.ENSP00000380638,9606.ENSP00000380948,9606.ENSP00000385720,9606.ENSP00000400717,9606.ENSP00000442600,9606.ENSP00000452120\",\"Protein autophosphorylation/9606.ENSP00000262948,9606.ENSP00000263025,9606.ENSP00000263431,9606.ENSP00000269571,9606.ENSP00000275493,9606.ENSP00000278568,9606.ENSP00000314067,9606.ENSP00000339740,9606.ENSP00000341189,9606.ENSP00000376317,9606.ENSP00000376609,9606.ENSP00000377867,9606.ENSP00000380638,9606.ENSP00000399511\",\"Heart morphogenesis/9606.ENSP00000263816,9606.ENSP00000265441,9606.ENSP00000274063,9606.ENSP00000276297,9606.ENSP00000326366,9606.ENSP00000332973,9606.ENSP00000341189,9606.ENSP00000346300,9606.ENSP00000351022,9606.ENSP00000360266,9606.ENSP00000387784,9606.ENSP00000417335,9606.ENSP00000420321\",\"Response to peptide hormone/9606.ENSP00000264657,9606.ENSP00000264710,9606.ENSP00000267257,9606.ENSP00000278568,9606.ENSP00000294304,9606.ENSP00000300574,9606.ENSP00000300935,9606.ENSP00000312455,9606.ENSP00000312734,9606.ENSP00000315768,9606.ENSP00000341189,9606.ENSP00000343027,9606.ENSP00000359719,9606.ENSP00000360293,9606.ENSP00000366109,9606.ENSP00000376345,9606.ENSP00000378217,9606.ENSP00000387784,9606.ENSP00000401303,9606.ENSP00000428056,9606.ENSP00000442600,9606.ENSP00000461945\",\"Cellular response to peptide hormone stimulus/9606.ENSP00000264657,9606.ENSP00000264710,9606.ENSP00000267257,9606.ENSP00000278568,9606.ENSP00000300574,9606.ENSP00000300935,9606.ENSP00000312455,9606.ENSP00000312734,9606.ENSP00000341189,9606.ENSP00000359719,9606.ENSP00000360293,9606.ENSP00000376345,9606.ENSP00000378217,9606.ENSP00000387784,9606.ENSP00000401303,9606.ENSP00000428056,9606.ENSP00000461945\",\"Regulation of vasculature development/9606.ENSP00000264657,9606.ENSP00000264908,9606.ENSP00000269571,9606.ENSP00000274063,9606.ENSP00000293379,9606.ENSP00000305355,9606.ENSP00000312455,9606.ENSP00000363827,9606.ENSP00000366109,9606.ENSP00000379350,9606.ENSP00000380638,9606.ENSP00000380948,9606.ENSP00000401303,9606.ENSP00000408695,9606.ENSP00000478059\",\"Regulation of angiogenesis/9606.ENSP00000264657,9606.ENSP00000264908,9606.ENSP00000269571,9606.ENSP00000274063,9606.ENSP00000293379,9606.ENSP00000305355,9606.ENSP00000363827,9606.ENSP00000366109,9606.ENSP00000379350,9606.ENSP00000380638,9606.ENSP00000380948,9606.ENSP00000401303,9606.ENSP00000408695,9606.ENSP00000478059\",\"Positive regulation of vasculature development/9606.ENSP00000264657,9606.ENSP00000264908,9606.ENSP00000274063,9606.ENSP00000293379,9606.ENSP00000305355,9606.ENSP00000312455,9606.ENSP00000366109,9606.ENSP00000379350,9606.ENSP00000380638,9606.ENSP00000380948,9606.ENSP00000408695,9606.ENSP00000478059\",\"Positive regulation of angiogenesis/9606.ENSP00000264657,9606.ENSP00000264908,9606.ENSP00000274063,9606.ENSP00000293379,9606.ENSP00000305355,9606.ENSP00000366109,9606.ENSP00000379350,9606.ENSP00000380638,9606.ENSP00000380948,9606.ENSP00000408695,9606.ENSP00000478059\",\"Regulation of epithelial cell proliferation/9606.ENSP00000264657,9606.ENSP00000265441,9606.ENSP00000269571,9606.ENSP00000274063,9606.ENSP00000275493,9606.ENSP00000312455,9606.ENSP00000332973,9606.ENSP00000360266,9606.ENSP00000367408,9606.ENSP00000377836,9606.ENSP00000408695,9606.ENSP00000420321\",\"Regulation of reactive oxygen species metabolic process/9606.ENSP00000264657,9606.ENSP00000275493,9606.ENSP00000312455,9606.ENSP00000312999,9606.ENSP00000332973,9606.ENSP00000358867,9606.ENSP00000376345,9606.ENSP00000378217,9606.ENSP00000380638,9606.ENSP00000380948,9606.ENSP00000401303,9606.ENSP00000441691\",\"Cellular response to insulin stimulus/9606.ENSP00000264710,9606.ENSP00000278568,9606.ENSP00000300935,9606.ENSP00000312455,9606.ENSP00000312734,9606.ENSP00000360293,9606.ENSP00000376345,9606.ENSP00000387784,9606.ENSP00000401303,9606.ENSP00000428056,9606.ENSP00000461945\",\"Response to insulin/9606.ENSP00000264710,9606.ENSP00000278568,9606.ENSP00000300935,9606.ENSP00000312455,9606.ENSP00000312734,9606.ENSP00000360293,9606.ENSP00000376345,9606.ENSP00000387784,9606.ENSP00000401303,9606.ENSP00000428056,9606.ENSP00000461945\",\"Regulation of dendrite development/9606.ENSP00000286827,9606.ENSP00000292385,9606.ENSP00000300574,9606.ENSP00000326366,9606.ENSP00000346300,9606.ENSP00000361009,9606.ENSP00000361467,9606.ENSP00000371532,9606.ENSP00000399511,9606.ENSP00000417653,9606.ENSP00000469689\",\"Multicellular organismal signaling/9606.ENSP00000301050,9606.ENSP00000320025,9606.ENSP00000339740,9606.ENSP00000346534,9606.ENSP00000364586,9606.ENSP00000376048,9606.ENSP00000377840,9606.ENSP00000384763,9606.ENSP00000419101,9606.ENSP00000438949,5691.EAN77713\",\"Activation of immune response\",\"Activation of protein kinase activity\",\"Adenylate cyclase-modulating g protein-coupled receptor signaling pathway\",\"Aging\",\"Ameboidal-type cell migration\",\"Angiogenesis\",\"Anterograde trans-synaptic signaling\",\"Antigen processing and presentation\",\"Antigen processing and presentation of exogenous antigen\",\"Antigen processing and presentation of exogenous peptide antigen\",\"Antigen processing and presentation of peptide antigen\",\"Apoptotic signaling pathway\",\"Autophagy\",\"Axon development\",\"Axon guidance\",\"Axonogenesis\",\"Blood coagulation\",\"Blood vessel morphogenesis\",\"Calcium ion homeostasis\",\"Calcium ion transmembrane transport\",\"Calcium ion transport\",\"Camera-type eye development\",\"Cell junction assembly\",\"Cell junction organization\",\"Cell morphogenesis involved in neuron differentiation\",\"Cell population proliferation\",\"Cell surface receptor signaling pathway involved in cell-cell signaling\",\"Cell-cell signaling by wnt\",\"Cell-matrix adhesion\",\"Cell-substrate adhesion\",\"Cellular calcium ion homeostasis\",\"Cellular divalent inorganic cation homeostasis\",\"Cellular response to abiotic stimulus\",\"Cellular response to chemical stress\",\"Cellular response to environmental stimulus\",\"Cellular response to external stimulus\",\"Cellular response to growth factor stimulus\",\"Cellular response to inorganic substance\",\"Cellular response to insulin stimulus\",\"Cellular response to metal ion\",\"Cellular response to oxidative stress\",\"Cellular response to peptide\",\"Cellular response to peptide hormone stimulus\",\"Cellular response to reactive oxygen species\",\"Chemical synaptic transmission\",\"Coagulation\",\"Cognition\",\"Divalent inorganic cation transport\",\"Divalent metal ion transport\",\"ERBB signaling pathway\",\"Endocytosis\",\"Endomembrane system organization\",\"Entry into host\",\"Epithelial tube morphogenesis\",\"Establishment of organelle localization\",\"Establishment or maintenance of cell polarity\",\"Exocytic process\",\"Extracellular matrix organization\",\"Extracellular structure organization\",\"Eye development\",\"Fc receptor signaling pathway\",\"Fc-epsilon receptor signaling pathway\",\"Forebrain development\",\"Formation of primary germ layer\",\"G protein-coupled receptor signaling pathway, coupled to cyclic nucleotide second messenger\",\"Gastrulation\",\"Gland development\",\"Glial cell differentiation\",\"Gliogenesis\",\"Golgi vesicle transport\",\"Heart morphogenesis\",\"Hemostasis\",\"Immune response-activating cell surface receptor signaling pathway\",\"Immune response-activating signal transduction\",\"Immune response-regulating cell surface receptor signaling pathway\",\"Immune response-regulating signaling pathway\",\"In utero embryonic development\",\"Integrin-mediated signaling pathway\",\"Interaction with host\",\"Learning or memory\",\"Leukocyte migration\",\"Lung development\",\"MAPK cascade\",\"Membrane docking\",\"Membrane fusion\",\"Memory\",\"Mesenchyme development\",\"Modulation of chemical synaptic transmission\",\"Morphogenesis of an epithelium\",\"Movement in host environment\",\"Multicellular organismal signaling\",\"Muscle system process\",\"Negative regulation of apoptotic signaling pathway\",\"Negative regulation of cell adhesion\",\"Negative regulation of cell development\",\"Negative regulation of cell migration\",\"Negative regulation of cell motility\",\"Negative regulation of cellular component movement\",\"Negative regulation of kinase activity\",\"Negative regulation of locomotion\",\"Negative regulation of nervous system development\",\"Negative regulation of neurogenesis\",\"Negative regulation of phosphorylation\",\"Negative regulation of protein kinase activity\",\"Negative regulation of protein phosphorylation\",\"Negative regulation of transferase activity\",\"Negative regulation of transport\",\"Neuron projection guidance\",\"Neuron projection morphogenesis\",\"Neurotransmitter secretion\",\"Neurotransmitter transport\",\"Neutrophil activation\",\"Neutrophil activation involved in immune response\",\"Neutrophil degranulation\",\"Neutrophil mediated immunity\",\"Organelle fusion\",\"Organelle localization by membrane tethering\",\"Organelle membrane fusion\",\"Peptidyl-serine modification\",\"Peptidyl-serine phosphorylation\",\"Phagocytosis\",\"Platelet activation\",\"Positive regulation of angiogenesis\",\"Positive regulation of catabolic process\",\"Positive regulation of cell adhesion\",\"Positive regulation of cell growth\",\"Positive regulation of cell morphogenesis involved in differentiation\",\"Positive regulation of cell projection organization\",\"Positive regulation of cell-substrate adhesion\",\"Positive regulation of cellular protein localization\",\"Positive regulation of cytosolic calcium ion concentration\",\"Positive regulation of erk1 and erk2 cascade\",\"Positive regulation of establishment of protein localization\",\"Positive regulation of growth\",\"Positive regulation of gtpase activity\",\"Positive regulation of intracellular protein transport\",\"Positive regulation of intracellular transport\",\"Positive regulation of ion transport\",\"Positive regulation of map kinase activity\",\"Positive regulation of neurogenesis\",\"Positive regulation of neuron differentiation\",\"Positive regulation of neuron projection development\",\"Positive regulation of protein catabolic process\",\"Positive regulation of protein localization to membrane\",\"Positive regulation of protein serine/threonine kinase activity\",\"Positive regulation of protein transport\",\"Positive regulation of secretion\",\"Positive regulation of secretion by cell\",\"Positive regulation of synaptic transmission\",\"Positive regulation of vasculature development\",\"Process utilizing autophagic mechanism\",\"Protein autophosphorylation\",\"Protein folding\",\"Protein localization to cell periphery\",\"Protein localization to plasma membrane\",\"Rab protein signal transduction\",\"Ras protein signal transduction\",\"Receptor metabolic process\",\"Receptor-mediated endocytosis\",\"Regulation of actin cytoskeleton organization\",\"Regulation of actin filament organization\",\"Regulation of actin filament-based process\",\"Regulation of amine transport\",\"Regulation of angiogenesis\",\"Regulation of apoptotic signaling pathway\",\"Regulation of axonogenesis\",\"Regulation of blood circulation\",\"Regulation of calcium ion transmembrane transport\",\"Regulation of calcium ion transport\",\"Regulation of cation channel activity\",\"Regulation of cation transmembrane transport\",\"Regulation of cell growth\",\"Regulation of cell morphogenesis involved in differentiation\",\"Regulation of cell shape\",\"Regulation of cell-substrate adhesion\",\"Regulation of cellular component size\",\"Regulation of cellular protein catabolic process\",\"Regulation of cellular response to growth factor stimulus\",\"Regulation of cytosolic calcium ion concentration\",\"Regulation of dendrite development\",\"Regulation of developmental growth\",\"Regulation of dna-binding transcription factor activity\",\"Regulation of epithelial cell proliferation\",\"Regulation of erk1 and erk2 cascade\",\"Regulation of exocytosis\",\"Regulation of heart contraction\",\"Regulation of hormone secretion\",\"Regulation of insulin secretion\",\"Regulation of intracellular protein transport\",\"Regulation of intracellular transport\",\"Regulation of ion transmembrane transport\",\"Regulation of ion transmembrane transporter activity\",\"Regulation of jnk cascade\",\"Regulation of leukocyte proliferation\",\"Regulation of map kinase activity\",\"Regulation of membrane potential\",\"Regulation of metal ion transport\",\"Regulation of neuron death\",\"Regulation of neurotransmitter levels\",\"Regulation of neurotransmitter transport\",\"Regulation of peptide hormone secretion\",\"Regulation of peptide secretion\",\"Regulation of peptidyl-tyrosine phosphorylation\",\"Regulation of protein catabolic process\",\"Regulation of protein kinase b signaling\",\"Regulation of protein localization to membrane\",\"Regulation of protein secretion\",\"Regulation of ras protein signal transduction\",\"Regulation of reactive oxygen species metabolic process\",\"Regulation of regulated secretory pathway\",\"Regulation of response to wounding\",\"Regulation of small gtpase mediated signal transduction\",\"Regulation of stress-activated mapk cascade\",\"Regulation of stress-activated protein kinase signaling cascade\",\"Regulation of supramolecular fiber organization\",\"Regulation of synaptic plasticity\",\"Regulation of synaptic vesicle cycle\",\"Regulation of trans-synaptic signaling\",\"Regulation of transmembrane transporter activity\",\"Regulation of transporter activity\",\"Regulation of vasculature development\",\"Regulation of wnt signaling pathway\",\"Regulation of wound healing\",\"Reproductive structure development\",\"Reproductive system development\",\"Respiratory system development\",\"Respiratory tube development\",\"Response to calcium ion\",\"Response to insulin\",\"Response to metal ion\",\"Response to oxidative stress\",\"Response to peptide\",\"Response to peptide hormone\",\"Response to reactive oxygen species\",\"Sensory organ morphogenesis\",\"Sensory system development\",\"Signal release\",\"Signal release from synapse\",\"Signal transduction by protein phosphorylation\",\"Small gtpase mediated signal transduction\",\"Stress-activated protein kinase signaling cascade\",\"Synapse organization\",\"Synaptic signaling\",\"Synaptic vesicle cycle\",\"Telencephalon development\",\"Trans-synaptic signaling\",\"Vesicle fusion\",\"Vesicle organization\",\"Vesicle-mediated transport in synapse\",\"Viral life cycle\",\"Visual system development\",\"Wnt signaling pathway\",\"Wound healing\"],\"labels\":[\"9606.ENSP00000005226,9606.ENSP00000215832,9606.ENSP00000232461,9606.ENSP00000248572,9606.ENSP00000262613,9606.ENSP00000263025,9606.ENSP00000264657,9606.ENSP00000265441,9606.ENSP00000294304,9606.ENSP00000354623,9606.ENSP00000418754\",\"9606.ENSP00000005226,9606.ENSP00000229264,9606.ENSP00000243077,9606.ENSP00000244040,9606.ENSP00000262428,9606.ENSP00000262613,9606.ENSP00000273047,9606.ENSP00000278568,9606.ENSP00000292385,9606.ENSP00000306124,9606.ENSP00000357131,9606.ENSP00000360718,9606.ENSP00000361009,9606.ENSP00000376048,9606.ENSP00000376345,9606.ENSP00000378217,9606.ENSP00000380638,9606.ENSP00000385720,9606.ENSP00000417653\",\"9606.ENSP00000005226,9606.ENSP00000232461,9606.ENSP00000248572,9606.ENSP00000258173,9606.ENSP00000264657,9606.ENSP00000265441,9606.ENSP00000275493,9606.ENSP00000294304,9606.ENSP00000326366,9606.ENSP00000332973,9606.ENSP00000360266,9606.ENSP00000385720,9606.ENSP00000387784,9606.ENSP00000478479,9606.ENSP00000481878\",\"9606.ENSP00000005226,9606.ENSP00000232461,9606.ENSP00000248572,9606.ENSP00000258173,9606.ENSP00000264657,9606.ENSP00000265441,9606.ENSP00000275493,9606.ENSP00000294304,9606.ENSP00000326366,9606.ENSP00000332973,9606.ENSP00000360266,9606.ENSP00000385720,9606.ENSP00000387784,9606.ENSP00000478479,9606.ENSP00000481878\",\"9606.ENSP00000005226,9606.ENSP00000232461,9606.ENSP00000248572,9606.ENSP00000258173,9606.ENSP00000264657,9606.ENSP00000265441,9606.ENSP00000275493,9606.ENSP00000294304,9606.ENSP00000326366,9606.ENSP00000332973,9606.ENSP00000360266,9606.ENSP00000385720,9606.ENSP00000387784,9606.ENSP00000478479,9606.ENSP00000481878\",\"9606.ENSP00000005226,9606.ENSP00000232461,9606.ENSP00000258173,9606.ENSP00000265441,9606.ENSP00000275493,9606.ENSP00000294304,9606.ENSP00000326366,9606.ENSP00000332973,9606.ENSP00000360266,9606.ENSP00000385720,9606.ENSP00000387784,9606.ENSP00000481878\",\"9606.ENSP00000007722,9606.ENSP00000200181,9606.ENSP00000222256,9606.ENSP00000236877,9606.ENSP00000269571,9606.ENSP00000276297,9606.ENSP00000288221,9606.ENSP00000292385,9606.ENSP00000293379,9606.ENSP00000301050,9606.ENSP00000314067,9606.ENSP00000320025,9606.ENSP00000324532,9606.ENSP00000326366,9606.ENSP00000332973,9606.ENSP00000345752,9606.ENSP00000346300,9606.ENSP00000354623,9606.ENSP00000359085,9606.ENSP00000360293,9606.ENSP00000361467,9606.ENSP00000367888,9606.ENSP00000368678,9606.ENSP00000377840,9606.ENSP00000380638,9606.ENSP00000386896,9606.ENSP00000408695,9606.ENSP00000417653,9606.ENSP00000438949,9606.ENSP00000469689\",\"9606.ENSP00000007722,9606.ENSP00000200181,9606.ENSP00000252999,9606.ENSP00000261023,9606.ENSP00000267082,9606.ENSP00000267257,9606.ENSP00000276297,9606.ENSP00000286827,9606.ENSP00000293379,9606.ENSP00000296181,9606.ENSP00000360293,9606.ENSP00000378332,9606.ENSP00000379350,9606.ENSP00000380638,9606.ENSP00000380948,9606.ENSP00000386896,9606.ENSP00000442600,9606.ENSP00000452120,9606.ENSP00000459615\",\"9606.ENSP00000007722,9606.ENSP00000200181,9606.ENSP00000252999,9606.ENSP00000261023,9606.ENSP00000267082,9606.ENSP00000274063,9606.ENSP00000293379,9606.ENSP00000296181,9606.ENSP00000324532,9606.ENSP00000341189,9606.ENSP00000346032,9606.ENSP00000363827,9606.ENSP00000368678,9606.ENSP00000373854,9606.ENSP00000379350,9606.ENSP00000380948,9606.ENSP00000386896,9606.ENSP00000400365,9606.ENSP00000441691,9606.ENSP00000442600,9606.ENSP00000452120\",\"9606.ENSP00000007722,9606.ENSP00000200181,9606.ENSP00000252999,9606.ENSP00000261023,9606.ENSP00000267082,9606.ENSP00000274063,9606.ENSP00000293379,9606.ENSP00000296181,9606.ENSP00000324532,9606.ENSP00000341189,9606.ENSP00000346032,9606.ENSP00000363827,9606.ENSP00000368678,9606.ENSP00000373854,9606.ENSP00000379350,9606.ENSP00000380948,9606.ENSP00000386896,9606.ENSP00000400365,9606.ENSP00000441691,9606.ENSP00000442600,9606.ENSP00000452120\",\"9606.ENSP00000007722,9606.ENSP00000200181,9606.ENSP00000252999,9606.ENSP00000261023,9606.ENSP00000267082,9606.ENSP00000293379,9606.ENSP00000296181,9606.ENSP00000324532,9606.ENSP00000341189,9606.ENSP00000373854,9606.ENSP00000379350,9606.ENSP00000380638,9606.ENSP00000380948,9606.ENSP00000386896,9606.ENSP00000441691,9606.ENSP00000452120\",\"9606.ENSP00000007722,9606.ENSP00000200181,9606.ENSP00000253861,9606.ENSP00000261023,9606.ENSP00000293379,9606.ENSP00000294304,9606.ENSP00000296181,9606.ENSP00000324532,9606.ENSP00000332973,9606.ENSP00000377836,9606.ENSP00000379350,9606.ENSP00000380948,9606.ENSP00000452120\",\"9606.ENSP00000007722,9606.ENSP00000200181,9606.ENSP00000253861,9606.ENSP00000261023,9606.ENSP00000293379,9606.ENSP00000296181,9606.ENSP00000324532,9606.ENSP00000332973,9606.ENSP00000379350,9606.ENSP00000380948,9606.ENSP00000452120\",\"9606.ENSP00000007722,9606.ENSP00000200181,9606.ENSP00000261023,9606.ENSP00000267082,9606.ENSP00000276297,9606.ENSP00000286827,9606.ENSP00000296181,9606.ENSP00000360293,9606.ENSP00000379350,9606.ENSP00000380638,9606.ENSP00000380948,9606.ENSP00000386896,9606.ENSP00000442600,9606.ENSP00000452120\",\"9606.ENSP00000007722,9606.ENSP00000215754,9606.ENSP00000261023,9606.ENSP00000264039,9606.ENSP00000267082,9606.ENSP00000293379,9606.ENSP00000300574,9606.ENSP00000346300,9606.ENSP00000361009,9606.ENSP00000366109,9606.ENSP00000376048,9606.ENSP00000376345,9606.ENSP00000379350,9606.ENSP00000380948,9606.ENSP00000386896,9606.ENSP00000387784,9606.ENSP00000401303,9606.ENSP00000428056,9606.ENSP00000441691\",\"9606.ENSP00000007722,9606.ENSP00000215832,9606.ENSP00000222256,9606.ENSP00000252999,9606.ENSP00000262395,9606.ENSP00000263025,9606.ENSP00000265441,9606.ENSP00000275493,9606.ENSP00000361467,9606.ENSP00000377836,9606.ENSP00000418754,9606.ENSP00000442600\",\"9606.ENSP00000007722,9606.ENSP00000215832,9606.ENSP00000222256,9606.ENSP00000252999,9606.ENSP00000263025,9606.ENSP00000265441,9606.ENSP00000275493,9606.ENSP00000361467,9606.ENSP00000377836,9606.ENSP00000418754,9606.ENSP00000442600\",\"9606.ENSP00000007722,9606.ENSP00000215832,9606.ENSP00000222256,9606.ENSP00000252999,9606.ENSP00000263025,9606.ENSP00000265441,9606.ENSP00000275493,9606.ENSP00000361467,9606.ENSP00000377836,9606.ENSP00000418754,9606.ENSP00000442600\",\"9606.ENSP00000007722,9606.ENSP00000215832,9606.ENSP00000236877,9606.ENSP00000254976,9606.ENSP00000255224,9606.ENSP00000263431,9606.ENSP00000275493,9606.ENSP00000293379,9606.ENSP00000306490,9606.ENSP00000311032,9606.ENSP00000326366,9606.ENSP00000356832,9606.ENSP00000357307,9606.ENSP00000360266,9606.ENSP00000364586,9606.ENSP00000364995,9606.ENSP00000367686,9606.ENSP00000371532,9606.ENSP00000379350,9606.ENSP00000405963,9606.ENSP00000454071,9606.ENSP00000469689\",\"9606.ENSP00000007722,9606.ENSP00000215832,9606.ENSP00000236877,9606.ENSP00000254976,9606.ENSP00000255224,9606.ENSP00000263431,9606.ENSP00000275493,9606.ENSP00000293379,9606.ENSP00000311032,9606.ENSP00000326366,9606.ENSP00000356832,9606.ENSP00000357307,9606.ENSP00000360266,9606.ENSP00000364586,9606.ENSP00000364995,9606.ENSP00000367686,9606.ENSP00000371532,9606.ENSP00000379350,9606.ENSP00000405963,9606.ENSP00000454071,9606.ENSP00000469689\",\"9606.ENSP00000007722,9606.ENSP00000215832,9606.ENSP00000243077,9606.ENSP00000260197,9606.ENSP00000269571,9606.ENSP00000275493,9606.ENSP00000278568,9606.ENSP00000301050,9606.ENSP00000306124,9606.ENSP00000306490,9606.ENSP00000326366,9606.ENSP00000332973,9606.ENSP00000343027,9606.ENSP00000357307,9606.ENSP00000360293,9606.ENSP00000367888,9606.ENSP00000378217,9606.ENSP00000379350,9606.ENSP00000380948,9606.ENSP00000394485,9606.ENSP00000428056,9606.ENSP00000441691\",\"9606.ENSP00000007722,9606.ENSP00000222256,9606.ENSP00000236877,9606.ENSP00000269571,9606.ENSP00000288221,9606.ENSP00000292385,9606.ENSP00000301050,9606.ENSP00000320025,9606.ENSP00000326366,9606.ENSP00000345752,9606.ENSP00000346300,9606.ENSP00000359085,9606.ENSP00000367888,9606.ENSP00000368678,9606.ENSP00000377840,9606.ENSP00000417653,9606.ENSP00000438949,9606.ENSP00000469689\",\"9606.ENSP00000007722,9606.ENSP00000236877,9606.ENSP00000255224,9606.ENSP00000293379,9606.ENSP00000326366,9606.ENSP00000356832,9606.ENSP00000357307,9606.ENSP00000364586,9606.ENSP00000367686,9606.ENSP00000371532,9606.ENSP00000405963,9606.ENSP00000454071\",\"9606.ENSP00000007722,9606.ENSP00000243077,9606.ENSP00000255224,9606.ENSP00000261205,9606.ENSP00000263816,9606.ENSP00000265441,9606.ENSP00000278568,9606.ENSP00000286827,9606.ENSP00000292385,9606.ENSP00000312455,9606.ENSP00000326366,9606.ENSP00000346300,9606.ENSP00000356236,9606.ENSP00000361263,9606.ENSP00000361467,9606.ENSP00000371532,9606.ENSP00000375978,9606.ENSP00000376048,9606.ENSP00000380638,9606.ENSP00000385720,9606.ENSP00000386896,9606.ENSP00000417335,9606.ENSP00000417653,9606.ENSP00000418754,9606.ENSP00000420321,9606.ENSP00000442600,9606.ENSP00000469689\",\"9606.ENSP00000007722,9606.ENSP00000243077,9606.ENSP00000255224,9606.ENSP00000261205,9606.ENSP00000271234,9606.ENSP00000278568,9606.ENSP00000286827,9606.ENSP00000292385,9606.ENSP00000312455,9606.ENSP00000312734,9606.ENSP00000326366,9606.ENSP00000356236,9606.ENSP00000361263,9606.ENSP00000361467,9606.ENSP00000368678,9606.ENSP00000371532,9606.ENSP00000380638,9606.ENSP00000385720,9606.ENSP00000386896,9606.ENSP00000417335,9606.ENSP00000417653,9606.ENSP00000418754,9606.ENSP00000420321,9606.ENSP00000469689\",\"9606.ENSP00000007722,9606.ENSP00000243077,9606.ENSP00000255224,9606.ENSP00000261205,9606.ENSP00000278568,9606.ENSP00000286827,9606.ENSP00000292385,9606.ENSP00000312455,9606.ENSP00000326366,9606.ENSP00000356236,9606.ENSP00000361263,9606.ENSP00000361467,9606.ENSP00000371532,9606.ENSP00000380638,9606.ENSP00000385720,9606.ENSP00000386896,9606.ENSP00000417335,9606.ENSP00000417653,9606.ENSP00000418754,9606.ENSP00000420321,9606.ENSP00000469689\",\"9606.ENSP00000007722,9606.ENSP00000243077,9606.ENSP00000255224,9606.ENSP00000261205,9606.ENSP00000278568,9606.ENSP00000286827,9606.ENSP00000292385,9606.ENSP00000312455,9606.ENSP00000326366,9606.ENSP00000356236,9606.ENSP00000361263,9606.ENSP00000361467,9606.ENSP00000371532,9606.ENSP00000380638,9606.ENSP00000385720,9606.ENSP00000386896,9606.ENSP00000417335,9606.ENSP00000417653,9606.ENSP00000418754,9606.ENSP00000420321,9606.ENSP00000469689\",\"9606.ENSP00000007722,9606.ENSP00000243077,9606.ENSP00000262613,9606.ENSP00000274063,9606.ENSP00000275493,9606.ENSP00000286827,9606.ENSP00000324804,9606.ENSP00000326366,9606.ENSP00000332973,9606.ENSP00000361263,9606.ENSP00000367888,9606.ENSP00000369390,9606.ENSP00000377836,9606.ENSP00000418754\",\"9606.ENSP00000007722,9606.ENSP00000243077,9606.ENSP00000264039,9606.ENSP00000269571,9606.ENSP00000275493,9606.ENSP00000278568,9606.ENSP00000301050,9606.ENSP00000306124,9606.ENSP00000346300,9606.ENSP00000360293,9606.ENSP00000367888,9606.ENSP00000377836,9606.ENSP00000379350,9606.ENSP00000380948,9606.ENSP00000394485,9606.ENSP00000428056,9606.ENSP00000441691,9606.ENSP00000442600\",\"9606.ENSP00000007722,9606.ENSP00000243077,9606.ENSP00000269571,9606.ENSP00000275493,9606.ENSP00000278568,9606.ENSP00000301050,9606.ENSP00000306124,9606.ENSP00000360293,9606.ENSP00000367888,9606.ENSP00000379350,9606.ENSP00000380948,9606.ENSP00000394485,9606.ENSP00000428056,9606.ENSP00000441691\",\"9606.ENSP00000007722,9606.ENSP00000243077,9606.ENSP00000276297,9606.ENSP00000293379,9606.ENSP00000300574,9606.ENSP00000306124,9606.ENSP00000320866,9606.ENSP00000332973,9606.ENSP00000341189,9606.ENSP00000346300,9606.ENSP00000361009,9606.ENSP00000367408,9606.ENSP00000380638,9606.ENSP00000386896,9606.ENSP00000428056,9606.ENSP00000442600\",\"9606.ENSP00000007722,9606.ENSP00000260197,9606.ENSP00000263816,9606.ENSP00000264039,9606.ENSP00000274063,9606.ENSP00000293379,9606.ENSP00000305355,9606.ENSP00000312455,9606.ENSP00000332973,9606.ENSP00000367408,9606.ENSP00000377836,9606.ENSP00000378332,9606.ENSP00000420321\",\"9606.ENSP00000007722,9606.ENSP00000261023,9606.ENSP00000269571,9606.ENSP00000274063,9606.ENSP00000278568,9606.ENSP00000293379,9606.ENSP00000300574,9606.ENSP00000306124,9606.ENSP00000314067,9606.ENSP00000320866,9606.ENSP00000332973,9606.ENSP00000346300,9606.ENSP00000351022,9606.ENSP00000361009,9606.ENSP00000366109,9606.ENSP00000376345,9606.ENSP00000380638,9606.ENSP00000380948,9606.ENSP00000386896,9606.ENSP00000408695,9606.ENSP00000428056,9606.ENSP00000442600\",\"9606.ENSP00000007722,9606.ENSP00000265080,9606.ENSP00000276297,9606.ENSP00000286827,9606.ENSP00000300574,9606.ENSP00000310933,9606.ENSP00000316845,9606.ENSP00000320117,9606.ENSP00000345808,9606.ENSP00000346300,9606.ENSP00000351333,9606.ENSP00000357131,9606.ENSP00000361009,9606.ENSP00000361263,9606.ENSP00000371897,9606.ENSP00000376345,9606.ENSP00000379350,9606.ENSP00000379709,9606.ENSP00000385720,9606.ENSP00000387784,9606.ENSP00000400717,9606.ENSP00000401303,9606.ENSP00000404190,9606.ENSP00000405963,9606.ENSP00000420321,9606.ENSP00000440374,9606.ENSP00000459615\",\"9606.ENSP00000007722,9606.ENSP00000265080,9606.ENSP00000276297,9606.ENSP00000300574,9606.ENSP00000310933,9606.ENSP00000346300,9606.ENSP00000361263,9606.ENSP00000376345,9606.ENSP00000379350,9606.ENSP00000385720,9606.ENSP00000401303,9606.ENSP00000405963,9606.ENSP00000420321,9606.ENSP00000440374\",\"9606.ENSP00000007722,9606.ENSP00000293379,9606.ENSP00000300574,9606.ENSP00000306124,9606.ENSP00000320866,9606.ENSP00000332973,9606.ENSP00000346300,9606.ENSP00000361009,9606.ENSP00000380638,9606.ENSP00000386896,9606.ENSP00000442600\",\"9606.ENSP00000020926,9606.ENSP00000215730,9606.ENSP00000222256,9606.ENSP00000244040,9606.ENSP00000249647,9606.ENSP00000254976,9606.ENSP00000255224,9606.ENSP00000258301,9606.ENSP00000265062,9606.ENSP00000271234,9606.ENSP00000300935,9606.ENSP00000303145,9606.ENSP00000312734,9606.ENSP00000320866,9606.ENSP00000346032,9606.ENSP00000353444,9606.ENSP00000357307,9606.ENSP00000358867,9606.ENSP00000360798,9606.ENSP00000444201\",\"9606.ENSP00000020926,9606.ENSP00000215730,9606.ENSP00000249647,9606.ENSP00000254976,9606.ENSP00000255224,9606.ENSP00000258301,9606.ENSP00000265062,9606.ENSP00000300935,9606.ENSP00000312734,9606.ENSP00000320866,9606.ENSP00000357307,9606.ENSP00000358867,9606.ENSP00000444201\",\"9606.ENSP00000020926,9606.ENSP00000215730,9606.ENSP00000249647,9606.ENSP00000254976,9606.ENSP00000255224,9606.ENSP00000258301,9606.ENSP00000265062,9606.ENSP00000300935,9606.ENSP00000312734,9606.ENSP00000320866,9606.ENSP00000357307,9606.ENSP00000358867,9606.ENSP00000444201\",\"9606.ENSP00000020926,9606.ENSP00000215730,9606.ENSP00000249647,9606.ENSP00000254976,9606.ENSP00000255224,9606.ENSP00000258301,9606.ENSP00000265062,9606.ENSP00000300935,9606.ENSP00000312734,9606.ENSP00000320866,9606.ENSP00000357307,9606.ENSP00000358867,9606.ENSP00000444201\",\"9606.ENSP00000020926,9606.ENSP00000215730,9606.ENSP00000249647,9606.ENSP00000254976,9606.ENSP00000255224,9606.ENSP00000258301,9606.ENSP00000265062,9606.ENSP00000300935,9606.ENSP00000312734,9606.ENSP00000320866,9606.ENSP00000357307,9606.ENSP00000358867,9606.ENSP00000444201\",\"9606.ENSP00000020926,9606.ENSP00000215832,9606.ENSP00000247668,9606.ENSP00000255224,9606.ENSP00000261205,9606.ENSP00000263025,9606.ENSP00000275493,9606.ENSP00000289473,9606.ENSP00000300574,9606.ENSP00000312455,9606.ENSP00000320866,9606.ENSP00000338864,9606.ENSP00000339740,9606.ENSP00000346265,9606.ENSP00000356236,9606.ENSP00000357307,9606.ENSP00000360266,9606.ENSP00000394560,9606.ENSP00000444201\",\"9606.ENSP00000020926,9606.ENSP00000215832,9606.ENSP00000255224,9606.ENSP00000261205,9606.ENSP00000263025,9606.ENSP00000275493,9606.ENSP00000289473,9606.ENSP00000311032,9606.ENSP00000320866,9606.ENSP00000338864,9606.ENSP00000339740,9606.ENSP00000346265,9606.ENSP00000356236,9606.ENSP00000357307,9606.ENSP00000360266,9606.ENSP00000380638,9606.ENSP00000394560,9606.ENSP00000444201,9606.ENSP00000478059\",\"9606.ENSP00000020926,9606.ENSP00000215832,9606.ENSP00000255224,9606.ENSP00000261205,9606.ENSP00000263025,9606.ENSP00000275493,9606.ENSP00000289473,9606.ENSP00000320866,9606.ENSP00000338864,9606.ENSP00000339740,9606.ENSP00000346265,9606.ENSP00000356236,9606.ENSP00000357307,9606.ENSP00000360266,9606.ENSP00000394560,9606.ENSP00000444201\",\"9606.ENSP00000020926,9606.ENSP00000222256,9606.ENSP00000255224,9606.ENSP00000261205,9606.ENSP00000263431,9606.ENSP00000264710,9606.ENSP00000265062,9606.ENSP00000273047,9606.ENSP00000300935,9606.ENSP00000305355,9606.ENSP00000312734,9606.ENSP00000312999,9606.ENSP00000320025,9606.ENSP00000346265,9606.ENSP00000356236,9606.ENSP00000357307,9606.ENSP00000360718,9606.ENSP00000362080,9606.ENSP00000366109,9606.ENSP00000367408,9606.ENSP00000380948,9606.ENSP00000441691,9606.ENSP00000444201\",\"9606.ENSP00000020926,9606.ENSP00000222256,9606.ENSP00000255224,9606.ENSP00000261205,9606.ENSP00000263431,9606.ENSP00000273047,9606.ENSP00000305355,9606.ENSP00000312999,9606.ENSP00000320025,9606.ENSP00000346265,9606.ENSP00000356236,9606.ENSP00000357307,9606.ENSP00000367408,9606.ENSP00000380948,9606.ENSP00000441691,9606.ENSP00000444201\",\"9606.ENSP00000020926,9606.ENSP00000222256,9606.ENSP00000255224,9606.ENSP00000261205,9606.ENSP00000312262,9606.ENSP00000326366,9606.ENSP00000346265,9606.ENSP00000356236,9606.ENSP00000357307,9606.ENSP00000360718,9606.ENSP00000379350,9606.ENSP00000444201\",\"9606.ENSP00000020926,9606.ENSP00000255224,9606.ENSP00000261205,9606.ENSP00000275493,9606.ENSP00000338864,9606.ENSP00000339740,9606.ENSP00000346265,9606.ENSP00000356236,9606.ENSP00000357307,9606.ENSP00000360266,9606.ENSP00000380638,9606.ENSP00000444201,9606.ENSP00000478059\",\"9606.ENSP00000085219,9606.ENSP00000215754,9606.ENSP00000215832,9606.ENSP00000263025,9606.ENSP00000269571,9606.ENSP00000301458,9606.ENSP00000311032,9606.ENSP00000341189,9606.ENSP00000343325,9606.ENSP00000361467,9606.ENSP00000366109,9606.ENSP00000387784\",\"9606.ENSP00000085219,9606.ENSP00000215754,9606.ENSP00000243077,9606.ENSP00000247668,9606.ENSP00000254976,9606.ENSP00000255224,9606.ENSP00000260197,9606.ENSP00000275493,9606.ENSP00000276052,9606.ENSP00000281456,9606.ENSP00000286827,9606.ENSP00000294304,9606.ENSP00000306124,9606.ENSP00000312734,9606.ENSP00000356545,9606.ENSP00000357307,9606.ENSP00000360671,9606.ENSP00000362080,9606.ENSP00000370695,9606.ENSP00000408695,9606.ENSP00000444201\",\"9606.ENSP00000085219,9606.ENSP00000215754,9606.ENSP00000243077,9606.ENSP00000247668,9606.ENSP00000254976,9606.ENSP00000255224,9606.ENSP00000260197,9606.ENSP00000275493,9606.ENSP00000276052,9606.ENSP00000281456,9606.ENSP00000286827,9606.ENSP00000294304,9606.ENSP00000306124,9606.ENSP00000356545,9606.ENSP00000357307,9606.ENSP00000360671,9606.ENSP00000362080,9606.ENSP00000370695,9606.ENSP00000408695,9606.ENSP00000444201\",\"9606.ENSP00000085219,9606.ENSP00000255224,9606.ENSP00000261023,9606.ENSP00000261837,9606.ENSP00000262613,9606.ENSP00000265062,9606.ENSP00000267101,9606.ENSP00000301050,9606.ENSP00000305355,9606.ENSP00000306124,9606.ENSP00000312999,9606.ENSP00000339740,9606.ENSP00000345752,9606.ENSP00000357307,9606.ENSP00000360671,9606.ENSP00000362080,9606.ENSP00000366109,9606.ENSP00000380638\",\"9606.ENSP00000200181,9606.ENSP00000215730,9606.ENSP00000265062,9606.ENSP00000271234,9606.ENSP00000295888,9606.ENSP00000300935,9606.ENSP00000304376,9606.ENSP00000306866,9606.ENSP00000326366,9606.ENSP00000357307,9606.ENSP00000376297,5691.AAZ11429,5691.EAN78254\",\"9606.ENSP00000200181,9606.ENSP00000215730,9606.ENSP00000265062,9606.ENSP00000271234,9606.ENSP00000295888,9606.ENSP00000300935,9606.ENSP00000304376,9606.ENSP00000306866,9606.ENSP00000326366,9606.ENSP00000357307,9606.ENSP00000376297,5691.AAZ11429,5691.EAN78254\",\"9606.ENSP00000200181,9606.ENSP00000276297,9606.ENSP00000293379,9606.ENSP00000314067,9606.ENSP00000324532,9606.ENSP00000346300,9606.ENSP00000360293,9606.ENSP00000361467,9606.ENSP00000367888,9606.ENSP00000380638,9606.ENSP00000386896,9606.ENSP00000408695,9606.ENSP00000417653,9606.ENSP00000469689\",\"9606.ENSP00000215730,9606.ENSP00000215754,9606.ENSP00000215832,9606.ENSP00000222256,9606.ENSP00000228506,9606.ENSP00000249647,9606.ENSP00000254976,9606.ENSP00000261023,9606.ENSP00000262428,9606.ENSP00000264710,9606.ENSP00000264908,9606.ENSP00000265062,9606.ENSP00000273130,9606.ENSP00000304376,9606.ENSP00000311449,9606.ENSP00000316476,9606.ENSP00000326366,9606.ENSP00000346032,9606.ENSP00000353444,9606.ENSP00000361009,9606.ENSP00000375978,9606.ENSP00000376297,9606.ENSP00000378217,9606.ENSP00000380948,9606.ENSP00000417653,9606.ENSP00000441691,9606.ENSP00000447053,9606.ENSP00000461945,9606.ENSP00000478479\",\"9606.ENSP00000215730,9606.ENSP00000215754,9606.ENSP00000215832,9606.ENSP00000222256,9606.ENSP00000228506,9606.ENSP00000249647,9606.ENSP00000254976,9606.ENSP00000261023,9606.ENSP00000262428,9606.ENSP00000264710,9606.ENSP00000264908,9606.ENSP00000265062,9606.ENSP00000273130,9606.ENSP00000304376,9606.ENSP00000311449,9606.ENSP00000316476,9606.ENSP00000326366,9606.ENSP00000346032,9606.ENSP00000353444,9606.ENSP00000375978,9606.ENSP00000376297,9606.ENSP00000378217,9606.ENSP00000380948,9606.ENSP00000417653,9606.ENSP00000441691,9606.ENSP00000447053,9606.ENSP00000461945,9606.ENSP00000478479\",\"9606.ENSP00000215730,9606.ENSP00000215754,9606.ENSP00000215832,9606.ENSP00000222256,9606.ENSP00000228506,9606.ENSP00000249647,9606.ENSP00000254976,9606.ENSP00000261023,9606.ENSP00000262428,9606.ENSP00000264710,9606.ENSP00000264908,9606.ENSP00000265062,9606.ENSP00000273130,9606.ENSP00000304376,9606.ENSP00000311449,9606.ENSP00000316476,9606.ENSP00000326366,9606.ENSP00000346032,9606.ENSP00000353444,9606.ENSP00000375978,9606.ENSP00000376297,9606.ENSP00000378217,9606.ENSP00000380948,9606.ENSP00000417653,9606.ENSP00000441691,9606.ENSP00000447053,9606.ENSP00000461945,9606.ENSP00000478479\",\"9606.ENSP00000215730,9606.ENSP00000215754,9606.ENSP00000215832,9606.ENSP00000222256,9606.ENSP00000228506,9606.ENSP00000249647,9606.ENSP00000254976,9606.ENSP00000261023,9606.ENSP00000262428,9606.ENSP00000264710,9606.ENSP00000264908,9606.ENSP00000265062,9606.ENSP00000273130,9606.ENSP00000304376,9606.ENSP00000311449,9606.ENSP00000316476,9606.ENSP00000326366,9606.ENSP00000346032,9606.ENSP00000353444,9606.ENSP00000375978,9606.ENSP00000376297,9606.ENSP00000378217,9606.ENSP00000380948,9606.ENSP00000417653,9606.ENSP00000441691,9606.ENSP00000447053,9606.ENSP00000461945,9606.ENSP00000478479\",\"9606.ENSP00000215730,9606.ENSP00000215832,9606.ENSP00000222256,9606.ENSP00000239666,9606.ENSP00000249647,9606.ENSP00000253754,9606.ENSP00000253861,9606.ENSP00000254976,9606.ENSP00000255224,9606.ENSP00000259455,9606.ENSP00000261205,9606.ENSP00000263431,9606.ENSP00000264657,9606.ENSP00000288221,9606.ENSP00000301050,9606.ENSP00000306490,9606.ENSP00000306866,9606.ENSP00000312262,9606.ENSP00000312999,9606.ENSP00000320025,9606.ENSP00000326366,9606.ENSP00000346265,9606.ENSP00000346300,9606.ENSP00000356236,9606.ENSP00000356545,9606.ENSP00000364995,9606.ENSP00000366233,9606.ENSP00000367408,9606.ENSP00000368678,9606.ENSP00000374036,9606.ENSP00000377840,9606.ENSP00000438949,9606.ENSP00000442600,9606.ENSP00000444201,9606.ENSP00000481878\",\"9606.ENSP00000215730,9606.ENSP00000215832,9606.ENSP00000222256,9606.ENSP00000239666,9606.ENSP00000249647,9606.ENSP00000253754,9606.ENSP00000253861,9606.ENSP00000254976,9606.ENSP00000255224,9606.ENSP00000259455,9606.ENSP00000261205,9606.ENSP00000263431,9606.ENSP00000288221,9606.ENSP00000301050,9606.ENSP00000306490,9606.ENSP00000306866,9606.ENSP00000320025,9606.ENSP00000326366,9606.ENSP00000346265,9606.ENSP00000356236,9606.ENSP00000356545,9606.ENSP00000364995,9606.ENSP00000366233,9606.ENSP00000367408,9606.ENSP00000374036,9606.ENSP00000377840,9606.ENSP00000438949,9606.ENSP00000442600,9606.ENSP00000444201\",\"9606.ENSP00000215730,9606.ENSP00000215832,9606.ENSP00000222256,9606.ENSP00000239666,9606.ENSP00000249647,9606.ENSP00000253754,9606.ENSP00000253861,9606.ENSP00000254976,9606.ENSP00000255224,9606.ENSP00000259455,9606.ENSP00000261205,9606.ENSP00000263431,9606.ENSP00000288221,9606.ENSP00000301050,9606.ENSP00000306490,9606.ENSP00000306866,9606.ENSP00000320025,9606.ENSP00000326366,9606.ENSP00000346265,9606.ENSP00000356236,9606.ENSP00000356545,9606.ENSP00000364995,9606.ENSP00000366233,9606.ENSP00000367408,9606.ENSP00000374036,9606.ENSP00000377840,9606.ENSP00000438949,9606.ENSP00000444201\",\"9606.ENSP00000215730,9606.ENSP00000215832,9606.ENSP00000222256,9606.ENSP00000239666,9606.ENSP00000249647,9606.ENSP00000253754,9606.ENSP00000253861,9606.ENSP00000254976,9606.ENSP00000255224,9606.ENSP00000259455,9606.ENSP00000261205,9606.ENSP00000263431,9606.ENSP00000288221,9606.ENSP00000301050,9606.ENSP00000306490,9606.ENSP00000306866,9606.ENSP00000320025,9606.ENSP00000326366,9606.ENSP00000346265,9606.ENSP00000356236,9606.ENSP00000356545,9606.ENSP00000364995,9606.ENSP00000366233,9606.ENSP00000367408,9606.ENSP00000374036,9606.ENSP00000377840,9606.ENSP00000438949,9606.ENSP00000444201\",\"9606.ENSP00000215730,9606.ENSP00000222256,9606.ENSP00000239666,9606.ENSP00000249647,9606.ENSP00000254976,9606.ENSP00000255224,9606.ENSP00000261205,9606.ENSP00000263431,9606.ENSP00000273047,9606.ENSP00000288221,9606.ENSP00000305355,9606.ENSP00000320025,9606.ENSP00000326366,9606.ENSP00000346265,9606.ENSP00000356236,9606.ENSP00000357068,9606.ENSP00000357307,9606.ENSP00000360718,9606.ENSP00000367408,9606.ENSP00000374036,9606.ENSP00000379350,9606.ENSP00000444201\",\"9606.ENSP00000215730,9606.ENSP00000222256,9606.ENSP00000239666,9606.ENSP00000249647,9606.ENSP00000254976,9606.ENSP00000255224,9606.ENSP00000261205,9606.ENSP00000276052,9606.ENSP00000288221,9606.ENSP00000326366,9606.ENSP00000346265,9606.ENSP00000356236,9606.ENSP00000366109,9606.ENSP00000367408,9606.ENSP00000374036,9606.ENSP00000444201\",\"9606.ENSP00000215730,9606.ENSP00000222256,9606.ENSP00000239666,9606.ENSP00000249647,9606.ENSP00000254976,9606.ENSP00000255224,9606.ENSP00000261205,9606.ENSP00000288221,9606.ENSP00000326366,9606.ENSP00000346265,9606.ENSP00000356236,9606.ENSP00000357068,9606.ENSP00000367408,9606.ENSP00000374036,9606.ENSP00000444201\",\"9606.ENSP00000215730,9606.ENSP00000222256,9606.ENSP00000239666,9606.ENSP00000249647,9606.ENSP00000254976,9606.ENSP00000255224,9606.ENSP00000261205,9606.ENSP00000288221,9606.ENSP00000326366,9606.ENSP00000346265,9606.ENSP00000356236,9606.ENSP00000367408,9606.ENSP00000374036,9606.ENSP00000444201\",\"9606.ENSP00000215730,9606.ENSP00000222256,9606.ENSP00000239666,9606.ENSP00000249647,9606.ENSP00000254976,9606.ENSP00000255224,9606.ENSP00000261205,9606.ENSP00000288221,9606.ENSP00000326366,9606.ENSP00000346265,9606.ENSP00000356236,9606.ENSP00000367408,9606.ENSP00000374036,9606.ENSP00000444201\",\"9606.ENSP00000215730,9606.ENSP00000222256,9606.ENSP00000247461,9606.ENSP00000249647,9606.ENSP00000254976,9606.ENSP00000261205,9606.ENSP00000273047,9606.ENSP00000288221,9606.ENSP00000300935,9606.ENSP00000326366,9606.ENSP00000346265,9606.ENSP00000352157,9606.ENSP00000356236,9606.ENSP00000360798,9606.ENSP00000444201\",\"9606.ENSP00000215730,9606.ENSP00000222256,9606.ENSP00000247461,9606.ENSP00000249647,9606.ENSP00000254976,9606.ENSP00000261205,9606.ENSP00000273047,9606.ENSP00000288221,9606.ENSP00000326366,9606.ENSP00000346265,9606.ENSP00000356236,9606.ENSP00000444201\",\"9606.ENSP00000215730,9606.ENSP00000222256,9606.ENSP00000249647,9606.ENSP00000253861,9606.ENSP00000254976,9606.ENSP00000260762,9606.ENSP00000264710,9606.ENSP00000288221,9606.ENSP00000300935,9606.ENSP00000312734,9606.ENSP00000326366,9606.ENSP00000360718\",\"9606.ENSP00000215730,9606.ENSP00000222256,9606.ENSP00000249647,9606.ENSP00000253861,9606.ENSP00000255224,9606.ENSP00000262613,9606.ENSP00000265062,9606.ENSP00000271234,9606.ENSP00000303145,9606.ENSP00000311449,9606.ENSP00000326366,9606.ENSP00000341189,9606.ENSP00000357307,9606.ENSP00000379350,9606.ENSP00000379709\",\"9606.ENSP00000215730,9606.ENSP00000222256,9606.ENSP00000253861,9606.ENSP00000254976,9606.ENSP00000258301,9606.ENSP00000260762,9606.ENSP00000261205,9606.ENSP00000264710,9606.ENSP00000265062,9606.ENSP00000270861,9606.ENSP00000300935,9606.ENSP00000312734,9606.ENSP00000324804,9606.ENSP00000355747,9606.ENSP00000360718,9606.ENSP00000376297\",\"9606.ENSP00000215730,9606.ENSP00000222256,9606.ENSP00000253861,9606.ENSP00000254976,9606.ENSP00000258301,9606.ENSP00000260762,9606.ENSP00000261205,9606.ENSP00000264710,9606.ENSP00000270861,9606.ENSP00000300935,9606.ENSP00000312734,9606.ENSP00000324804,9606.ENSP00000355747,9606.ENSP00000360718,9606.ENSP00000376297\",\"9606.ENSP00000215754,9606.ENSP00000215832,9606.ENSP00000236877,9606.ENSP00000247668,9606.ENSP00000262948,9606.ENSP00000263025,9606.ENSP00000269571,9606.ENSP00000275493,9606.ENSP00000278568,9606.ENSP00000286827,9606.ENSP00000294117,9606.ENSP00000300574,9606.ENSP00000310933,9606.ENSP00000318944,9606.ENSP00000326366,9606.ENSP00000343325,9606.ENSP00000346300,9606.ENSP00000352157,9606.ENSP00000361263,9606.ENSP00000376317,9606.ENSP00000380638,9606.ENSP00000399511,9606.ENSP00000401303,9606.ENSP00000417653,9606.ENSP00000420321\",\"9606.ENSP00000215754,9606.ENSP00000215832,9606.ENSP00000243077,9606.ENSP00000247461,9606.ENSP00000263025,9606.ENSP00000264657,9606.ENSP00000320866,9606.ENSP00000326366,9606.ENSP00000360266,9606.ENSP00000376345,9606.ENSP00000378217,9606.ENSP00000380948,9606.ENSP00000442600\",\"9606.ENSP00000215754,9606.ENSP00000215832,9606.ENSP00000243077,9606.ENSP00000260197,9606.ENSP00000269571,9606.ENSP00000275493,9606.ENSP00000278568,9606.ENSP00000301050,9606.ENSP00000306124,9606.ENSP00000306490,9606.ENSP00000326366,9606.ENSP00000332973,9606.ENSP00000362080,9606.ENSP00000370695,9606.ENSP00000378217,9606.ENSP00000380948,9606.ENSP00000394485,9606.ENSP00000428056,9606.ENSP00000441691\",\"9606.ENSP00000215754,9606.ENSP00000215832,9606.ENSP00000243077,9606.ENSP00000260197,9606.ENSP00000269571,9606.ENSP00000275493,9606.ENSP00000278568,9606.ENSP00000301050,9606.ENSP00000306124,9606.ENSP00000306490,9606.ENSP00000326366,9606.ENSP00000332973,9606.ENSP00000362080,9606.ENSP00000370695,9606.ENSP00000378217,9606.ENSP00000380948,9606.ENSP00000394485,9606.ENSP00000428056,9606.ENSP00000441691\",\"9606.ENSP00000215754,9606.ENSP00000215832,9606.ENSP00000247668,9606.ENSP00000260197,9606.ENSP00000262948,9606.ENSP00000263025,9606.ENSP00000269571,9606.ENSP00000274063,9606.ENSP00000275493,9606.ENSP00000278568,9606.ENSP00000286827,9606.ENSP00000294117,9606.ENSP00000300574,9606.ENSP00000310933,9606.ENSP00000318944,9606.ENSP00000324804,9606.ENSP00000326366,9606.ENSP00000343325,9606.ENSP00000346300,9606.ENSP00000352157,9606.ENSP00000361263,9606.ENSP00000376317,9606.ENSP00000378217,9606.ENSP00000380638,9606.ENSP00000399511,9606.ENSP00000401303,9606.ENSP00000417653,9606.ENSP00000420321\",\"9606.ENSP00000215754,9606.ENSP00000215832,9606.ENSP00000247668,9606.ENSP00000262948,9606.ENSP00000263025,9606.ENSP00000269571,9606.ENSP00000275493,9606.ENSP00000278568,9606.ENSP00000286827,9606.ENSP00000294117,9606.ENSP00000300574,9606.ENSP00000310933,9606.ENSP00000318944,9606.ENSP00000326366,9606.ENSP00000343325,9606.ENSP00000346300,9606.ENSP00000352157,9606.ENSP00000361263,9606.ENSP00000376317,9606.ENSP00000380638,9606.ENSP00000399511,9606.ENSP00000401303,9606.ENSP00000417653,9606.ENSP00000420321\",\"9606.ENSP00000215754,9606.ENSP00000222256,9606.ENSP00000243077,9606.ENSP00000255224,9606.ENSP00000260197,9606.ENSP00000261205,9606.ENSP00000265062,9606.ENSP00000273047,9606.ENSP00000275493,9606.ENSP00000306124,9606.ENSP00000312262,9606.ENSP00000312734,9606.ENSP00000312999,9606.ENSP00000320025,9606.ENSP00000362080,9606.ENSP00000370695,9606.ENSP00000380948,9606.ENSP00000441691,9606.ENSP00000444201\",\"9606.ENSP00000215754,9606.ENSP00000222256,9606.ENSP00000243077,9606.ENSP00000255224,9606.ENSP00000260197,9606.ENSP00000261205,9606.ENSP00000265062,9606.ENSP00000273047,9606.ENSP00000275493,9606.ENSP00000306124,9606.ENSP00000312262,9606.ENSP00000312734,9606.ENSP00000320025,9606.ENSP00000362080,9606.ENSP00000370695,9606.ENSP00000380948,9606.ENSP00000441691,9606.ENSP00000444201\",\"9606.ENSP00000215754,9606.ENSP00000243077,9606.ENSP00000262613,9606.ENSP00000263025,9606.ENSP00000269571,9606.ENSP00000275493,9606.ENSP00000286827,9606.ENSP00000312455,9606.ENSP00000312999,9606.ENSP00000318944,9606.ENSP00000346300,9606.ENSP00000360266,9606.ENSP00000361263,9606.ENSP00000380638,9606.ENSP00000401303,9606.ENSP00000408695,9606.ENSP00000433528\",\"9606.ENSP00000215754,9606.ENSP00000243077,9606.ENSP00000262613,9606.ENSP00000264657,9606.ENSP00000274063,9606.ENSP00000276297,9606.ENSP00000300574,9606.ENSP00000320866,9606.ENSP00000351022,9606.ENSP00000361467,9606.ENSP00000377867,9606.ENSP00000417335,9606.ENSP00000420321,9606.ENSP00000442600,9606.ENSP00000459615\",\"9606.ENSP00000215754,9606.ENSP00000243077,9606.ENSP00000262613,9606.ENSP00000264657,9606.ENSP00000274063,9606.ENSP00000276297,9606.ENSP00000300574,9606.ENSP00000320866,9606.ENSP00000351022,9606.ENSP00000361467,9606.ENSP00000377867,9606.ENSP00000420321,9606.ENSP00000442600,9606.ENSP00000459615\",\"9606.ENSP00000215754,9606.ENSP00000243077,9606.ENSP00000262613,9606.ENSP00000264657,9606.ENSP00000274063,9606.ENSP00000276297,9606.ENSP00000300574,9606.ENSP00000320866,9606.ENSP00000351022,9606.ENSP00000361467,9606.ENSP00000377867,9606.ENSP00000420321,9606.ENSP00000442600,9606.ENSP00000459615\",\"9606.ENSP00000215754,9606.ENSP00000243077,9606.ENSP00000262613,9606.ENSP00000264657,9606.ENSP00000274063,9606.ENSP00000276297,9606.ENSP00000320866,9606.ENSP00000351022,9606.ENSP00000361467,9606.ENSP00000377867,9606.ENSP00000420321,9606.ENSP00000442600,9606.ENSP00000459615\",\"9606.ENSP00000215754,9606.ENSP00000243077,9606.ENSP00000263025,9606.ENSP00000275493,9606.ENSP00000312455,9606.ENSP00000312999,9606.ENSP00000346300,9606.ENSP00000360266,9606.ENSP00000361263,9606.ENSP00000380638,9606.ENSP00000401303,9606.ENSP00000408695,9606.ENSP00000433528\",\"9606.ENSP00000215754,9606.ENSP00000247668,9606.ENSP00000261023,9606.ENSP00000262613,9606.ENSP00000274063,9606.ENSP00000310933,9606.ENSP00000312455,9606.ENSP00000312999,9606.ENSP00000314067,9606.ENSP00000318944,9606.ENSP00000324804,9606.ENSP00000326366,9606.ENSP00000332973,9606.ENSP00000354829,9606.ENSP00000358867,9606.ENSP00000360671,9606.ENSP00000367686,9606.ENSP00000378217,9606.ENSP00000386896,9606.ENSP00000394560\",\"9606.ENSP00000215754,9606.ENSP00000247668,9606.ENSP00000261023,9606.ENSP00000274063,9606.ENSP00000312455,9606.ENSP00000312999,9606.ENSP00000326366,9606.ENSP00000358867,9606.ENSP00000360671,9606.ENSP00000367686,9606.ENSP00000386896\",\"9606.ENSP00000215754,9606.ENSP00000255224,9606.ENSP00000261205,9606.ENSP00000262613,9606.ENSP00000301050,9606.ENSP00000306490,9606.ENSP00000320025,9606.ENSP00000326366,9606.ENSP00000360718,9606.ENSP00000367408,9606.ENSP00000378217,9606.ENSP00000379350,9606.ENSP00000394485,9606.ENSP00000478059\",\"9606.ENSP00000215754,9606.ENSP00000264657,9606.ENSP00000267101,9606.ENSP00000274063,9606.ENSP00000275493,9606.ENSP00000289473,9606.ENSP00000293379,9606.ENSP00000306124,9606.ENSP00000314067,9606.ENSP00000324804,9606.ENSP00000326366,9606.ENSP00000367888,9606.ENSP00000378217,9606.ENSP00000380638,9606.ENSP00000380948,9606.ENSP00000401303\",\"9606.ENSP00000215832,9606.ENSP00000222256,9606.ENSP00000236877,9606.ENSP00000254976,9606.ENSP00000255224,9606.ENSP00000261205,9606.ENSP00000263431,9606.ENSP00000264657,9606.ENSP00000273047,9606.ENSP00000275493,9606.ENSP00000292385,9606.ENSP00000300935,9606.ENSP00000301050,9606.ENSP00000305355,9606.ENSP00000306124,9606.ENSP00000312999,9606.ENSP00000320025,9606.ENSP00000326366,9606.ENSP00000343027,9606.ENSP00000345752,9606.ENSP00000357068,9606.ENSP00000357307,9606.ENSP00000359085,9606.ENSP00000360718,9606.ENSP00000367408,9606.ENSP00000379350,9606.ENSP00000380638,9606.ENSP00000400365,9606.ENSP00000405963,9606.ENSP00000444201,9606.ENSP00000469689\",\"9606.ENSP00000215832,9606.ENSP00000222256,9606.ENSP00000236877,9606.ENSP00000254976,9606.ENSP00000255224,9606.ENSP00000261205,9606.ENSP00000263431,9606.ENSP00000264657,9606.ENSP00000273047,9606.ENSP00000275493,9606.ENSP00000292385,9606.ENSP00000300935,9606.ENSP00000301050,9606.ENSP00000305355,9606.ENSP00000306124,9606.ENSP00000312999,9606.ENSP00000320025,9606.ENSP00000326366,9606.ENSP00000343027,9606.ENSP00000345752,9606.ENSP00000357068,9606.ENSP00000357307,9606.ENSP00000359085,9606.ENSP00000360718,9606.ENSP00000367408,9606.ENSP00000379350,9606.ENSP00000380638,9606.ENSP00000400365,9606.ENSP00000405963,9606.ENSP00000444201,9606.ENSP00000469689\",\"9606.ENSP00000215832,9606.ENSP00000222256,9606.ENSP00000236877,9606.ENSP00000254976,9606.ENSP00000255224,9606.ENSP00000273047,9606.ENSP00000292385,9606.ENSP00000300935,9606.ENSP00000326366,9606.ENSP00000357068,9606.ENSP00000380638,9606.ENSP00000405963,9606.ENSP00000444201,9606.ENSP00000469689\",\"9606.ENSP00000215832,9606.ENSP00000222256,9606.ENSP00000243077,9606.ENSP00000262613,9606.ENSP00000263025,9606.ENSP00000264039,9606.ENSP00000264710,9606.ENSP00000269571,9606.ENSP00000300935,9606.ENSP00000304945,9606.ENSP00000341189,9606.ENSP00000354623,9606.ENSP00000359085,9606.ENSP00000364995,9606.ENSP00000367888,9606.ENSP00000368678,9606.ENSP00000371532,9606.ENSP00000376345,9606.ENSP00000379350,9606.ENSP00000380903,9606.ENSP00000385720,9606.ENSP00000387784,9606.ENSP00000400365,9606.ENSP00000401303,9606.ENSP00000408695,9606.ENSP00000417335,9606.ENSP00000420321,9606.ENSP00000428056,9606.ENSP00000442600,9606.ENSP00000469689\",\"9606.ENSP00000215832,9606.ENSP00000222256,9606.ENSP00000243077,9606.ENSP00000263025,9606.ENSP00000263816,9606.ENSP00000264039,9606.ENSP00000264710,9606.ENSP00000269571,9606.ENSP00000275493,9606.ENSP00000278568,9606.ENSP00000286827,9606.ENSP00000292385,9606.ENSP00000300935,9606.ENSP00000304945,9606.ENSP00000341189,9606.ENSP00000356832,9606.ENSP00000359085,9606.ENSP00000364995,9606.ENSP00000367888,9606.ENSP00000368678,9606.ENSP00000371532,9606.ENSP00000376345,9606.ENSP00000379350,9606.ENSP00000380903,9606.ENSP00000385720,9606.ENSP00000387784,9606.ENSP00000399511,9606.ENSP00000400365,9606.ENSP00000401303,9606.ENSP00000408695,9606.ENSP00000417335,9606.ENSP00000417653,9606.ENSP00000420321,9606.ENSP00000428056,9606.ENSP00000442600,9606.ENSP00000459615,9606.ENSP00000469689\",\"9606.ENSP00000215832,9606.ENSP00000222256,9606.ENSP00000243077,9606.ENSP00000263025,9606.ENSP00000264039,9606.ENSP00000264710,9606.ENSP00000269571,9606.ENSP00000300935,9606.ENSP00000304945,9606.ENSP00000311032,9606.ENSP00000341189,9606.ENSP00000359085,9606.ENSP00000360266,9606.ENSP00000364995,9606.ENSP00000368678,9606.ENSP00000371532,9606.ENSP00000376048,9606.ENSP00000376345,9606.ENSP00000379350,9606.ENSP00000380903,9606.ENSP00000385720,9606.ENSP00000387784,9606.ENSP00000400365,9606.ENSP00000401303,9606.ENSP00000408695,9606.ENSP00000417335,9606.ENSP00000420321,9606.ENSP00000428056,9606.ENSP00000442600\",\"9606.ENSP00000215832,9606.ENSP00000222256,9606.ENSP00000243077,9606.ENSP00000263025,9606.ENSP00000264039,9606.ENSP00000264710,9606.ENSP00000269571,9606.ENSP00000300935,9606.ENSP00000304945,9606.ENSP00000341189,9606.ENSP00000359085,9606.ENSP00000364995,9606.ENSP00000368678,9606.ENSP00000371532,9606.ENSP00000376345,9606.ENSP00000379350,9606.ENSP00000380903,9606.ENSP00000385720,9606.ENSP00000387784,9606.ENSP00000400365,9606.ENSP00000401303,9606.ENSP00000408695,9606.ENSP00000417335,9606.ENSP00000420321,9606.ENSP00000428056,9606.ENSP00000442600\",\"9606.ENSP00000215832,9606.ENSP00000222256,9606.ENSP00000263025,9606.ENSP00000263431,9606.ENSP00000267101,9606.ENSP00000269571,9606.ENSP00000273047,9606.ENSP00000275364,9606.ENSP00000275493,9606.ENSP00000278568,9606.ENSP00000293379,9606.ENSP00000296511,9606.ENSP00000305355,9606.ENSP00000306124,9606.ENSP00000311032,9606.ENSP00000332973,9606.ENSP00000334448,9606.ENSP00000351022,9606.ENSP00000357307,9606.ENSP00000359719,9606.ENSP00000362080,9606.ENSP00000378217,9606.ENSP00000385720,9606.ENSP00000400717,9606.ENSP00000408695,9606.ENSP00000418754,9606.ENSP00000428056,9606.ENSP00000442600,9606.ENSP00000444201,9606.ENSP00000481878\",\"9606.ENSP00000215832,9606.ENSP00000229340,9606.ENSP00000263025,9606.ENSP00000263816,9606.ENSP00000265441,9606.ENSP00000267257,9606.ENSP00000269571,9606.ENSP00000275493,9606.ENSP00000296181,9606.ENSP00000300574,9606.ENSP00000311032,9606.ENSP00000312455,9606.ENSP00000332973,9606.ENSP00000341189,9606.ENSP00000346300,9606.ENSP00000360266,9606.ENSP00000361263,9606.ENSP00000366109,9606.ENSP00000376345,9606.ENSP00000378332,9606.ENSP00000387784,9606.ENSP00000401303\",\"9606.ENSP00000215832,9606.ENSP00000232461,9606.ENSP00000243077,9606.ENSP00000263816,9606.ENSP00000264657,9606.ENSP00000264710,9606.ENSP00000265441,9606.ENSP00000274063,9606.ENSP00000292385,9606.ENSP00000312999,9606.ENSP00000326366,9606.ENSP00000334448,9606.ENSP00000367686,9606.ENSP00000375978,9606.ENSP00000377836,9606.ENSP00000378217,9606.ENSP00000380638,9606.ENSP00000404190,9606.ENSP00000405963,9606.ENSP00000481878\",\"9606.ENSP00000215832,9606.ENSP00000236877,9606.ENSP00000254976,9606.ENSP00000261205,9606.ENSP00000275493,9606.ENSP00000301050,9606.ENSP00000306124,9606.ENSP00000320025,9606.ENSP00000360718,9606.ENSP00000380638,9606.ENSP00000400365,9606.ENSP00000444201,9606.ENSP00000469689\",\"9606.ENSP00000215832,9606.ENSP00000243077,9606.ENSP00000244040,9606.ENSP00000247461,9606.ENSP00000253193,9606.ENSP00000254976,9606.ENSP00000260197,9606.ENSP00000261205,9606.ENSP00000263025,9606.ENSP00000263816,9606.ENSP00000265062,9606.ENSP00000271234,9606.ENSP00000273047,9606.ENSP00000276654,9606.ENSP00000294304,9606.ENSP00000312262,9606.ENSP00000317578,9606.ENSP00000320117,9606.ENSP00000320866,9606.ENSP00000345808,9606.ENSP00000346265,9606.ENSP00000352601,9606.ENSP00000353444,9606.ENSP00000356236,9606.ENSP00000360798,9606.ENSP00000363827,9606.ENSP00000367888,9606.ENSP00000371221,9606.ENSP00000371532,9606.ENSP00000376345,9606.ENSP00000379350,9606.ENSP00000380948,9606.ENSP00000413625,9606.ENSP00000417653,9606.ENSP00000441691,9606.ENSP00000454071,9606.ENSP00000461945\",\"9606.ENSP00000215832,9606.ENSP00000243077,9606.ENSP00000255224,9606.ENSP00000261205,9606.ENSP00000264657,9606.ENSP00000265441,9606.ENSP00000274063,9606.ENSP00000278568,9606.ENSP00000292385,9606.ENSP00000341189,9606.ENSP00000356236,9606.ENSP00000368678,9606.ENSP00000376048,9606.ENSP00000417653\",\"9606.ENSP00000215832,9606.ENSP00000243077,9606.ENSP00000255224,9606.ENSP00000261205,9606.ENSP00000265441,9606.ENSP00000269571,9606.ENSP00000274063,9606.ENSP00000275493,9606.ENSP00000278568,9606.ENSP00000292385,9606.ENSP00000300574,9606.ENSP00000356236,9606.ENSP00000368678,9606.ENSP00000380638,9606.ENSP00000417653\",\"9606.ENSP00000215832,9606.ENSP00000243077,9606.ENSP00000261023,9606.ENSP00000263025,9606.ENSP00000264908,9606.ENSP00000265062,9606.ENSP00000273047,9606.ENSP00000278568,9606.ENSP00000300574,9606.ENSP00000306124,9606.ENSP00000341189,9606.ENSP00000345808,9606.ENSP00000356505,9606.ENSP00000366109,9606.ENSP00000376345,9606.ENSP00000378217,9606.ENSP00000379350,9606.ENSP00000380948,9606.ENSP00000428056,9606.ENSP00000441691,9606.ENSP00000444201,9606.ENSP00000454071\",\"9606.ENSP00000215832,9606.ENSP00000243077,9606.ENSP00000263025,9606.ENSP00000264039,9606.ENSP00000264657,9606.ENSP00000267101,9606.ENSP00000269571,9606.ENSP00000275493,9606.ENSP00000326366,9606.ENSP00000357068,9606.ENSP00000366109,9606.ENSP00000376048,9606.ENSP00000380638,9606.ENSP00000400365,9606.ENSP00000442600,9606.ENSP00000459615\",\"9606.ENSP00000215832,9606.ENSP00000243077,9606.ENSP00000263025,9606.ENSP00000264039,9606.ENSP00000264657,9606.ENSP00000267101,9606.ENSP00000269571,9606.ENSP00000275493,9606.ENSP00000326366,9606.ENSP00000357068,9606.ENSP00000376048,9606.ENSP00000400365,9606.ENSP00000442600\",\"9606.ENSP00000215832,9606.ENSP00000243077,9606.ENSP00000263025,9606.ENSP00000264039,9606.ENSP00000269571,9606.ENSP00000304945,9606.ENSP00000341189,9606.ENSP00000364995,9606.ENSP00000368678,9606.ENSP00000371532,9606.ENSP00000376345,9606.ENSP00000380903,9606.ENSP00000385720,9606.ENSP00000387784,9606.ENSP00000400365,9606.ENSP00000401303,9606.ENSP00000408695,9606.ENSP00000417335,9606.ENSP00000420321,9606.ENSP00000428056,9606.ENSP00000442600\",\"9606.ENSP00000215832,9606.ENSP00000243077,9606.ENSP00000263025,9606.ENSP00000264039,9606.ENSP00000269571,9606.ENSP00000304945,9606.ENSP00000341189,9606.ENSP00000364995,9606.ENSP00000368678,9606.ENSP00000371532,9606.ENSP00000376345,9606.ENSP00000380903,9606.ENSP00000385720,9606.ENSP00000387784,9606.ENSP00000400365,9606.ENSP00000401303,9606.ENSP00000408695,9606.ENSP00000417335,9606.ENSP00000420321,9606.ENSP00000428056,9606.ENSP00000442600\",\"9606.ENSP00000215832,9606.ENSP00000247668,9606.ENSP00000262395,9606.ENSP00000262948,9606.ENSP00000263025,9606.ENSP00000267101,9606.ENSP00000275493,9606.ENSP00000278568,9606.ENSP00000294117,9606.ENSP00000300574,9606.ENSP00000310933,9606.ENSP00000314067,9606.ENSP00000318944,9606.ENSP00000326366,9606.ENSP00000343325,9606.ENSP00000346300,9606.ENSP00000352157,9606.ENSP00000359719,9606.ENSP00000361263,9606.ENSP00000367686,9606.ENSP00000376317,9606.ENSP00000377867,9606.ENSP00000378217,9606.ENSP00000380638,9606.ENSP00000399511,9606.ENSP00000401303,9606.ENSP00000417653,5691.AAZ10596,5691.AAZ11445,5691.EAN76407,5691.EAN77619,5691.EAN80351\",\"9606.ENSP00000215832,9606.ENSP00000247668,9606.ENSP00000262395,9606.ENSP00000262948,9606.ENSP00000263025,9606.ENSP00000274063,9606.ENSP00000275493,9606.ENSP00000278568,9606.ENSP00000286827,9606.ENSP00000289473,9606.ENSP00000343325,9606.ENSP00000361263,9606.ENSP00000376317,9606.ENSP00000380638,9606.ENSP00000399511,9606.ENSP00000417653\",\"9606.ENSP00000215832,9606.ENSP00000247668,9606.ENSP00000262395,9606.ENSP00000262948,9606.ENSP00000263025,9606.ENSP00000274063,9606.ENSP00000275493,9606.ENSP00000278568,9606.ENSP00000286827,9606.ENSP00000289473,9606.ENSP00000343325,9606.ENSP00000361263,9606.ENSP00000376317,9606.ENSP00000380638,9606.ENSP00000399511,9606.ENSP00000417653\",\"9606.ENSP00000215832,9606.ENSP00000247668,9606.ENSP00000263025,9606.ENSP00000264657,9606.ENSP00000264908,9606.ENSP00000265441,9606.ENSP00000294304,9606.ENSP00000305355,9606.ENSP00000312455,9606.ENSP00000332973,9606.ENSP00000352157,9606.ENSP00000356832,9606.ENSP00000360266,9606.ENSP00000377833,9606.ENSP00000380948,9606.ENSP00000394560\",\"9606.ENSP00000215832,9606.ENSP00000247668,9606.ENSP00000263025,9606.ENSP00000267257,9606.ENSP00000275493,9606.ENSP00000289473,9606.ENSP00000300574,9606.ENSP00000311032,9606.ENSP00000312455,9606.ENSP00000326366,9606.ENSP00000351022,9606.ENSP00000356505,9606.ENSP00000360266,9606.ENSP00000366109,9606.ENSP00000377867,9606.ENSP00000378217,9606.ENSP00000380638,9606.ENSP00000384763,9606.ENSP00000394560\",\"9606.ENSP00000215832,9606.ENSP00000247668,9606.ENSP00000263025,9606.ENSP00000267257,9606.ENSP00000275493,9606.ENSP00000289473,9606.ENSP00000300574,9606.ENSP00000311032,9606.ENSP00000312455,9606.ENSP00000351022,9606.ENSP00000352157,9606.ENSP00000356505,9606.ENSP00000360266,9606.ENSP00000364586,9606.ENSP00000366109,9606.ENSP00000375978,9606.ENSP00000378217,9606.ENSP00000384763,9606.ENSP00000394560\",\"9606.ENSP00000215832,9606.ENSP00000247668,9606.ENSP00000263025,9606.ENSP00000267257,9606.ENSP00000275493,9606.ENSP00000289473,9606.ENSP00000300574,9606.ENSP00000311032,9606.ENSP00000312455,9606.ENSP00000351022,9606.ENSP00000360266,9606.ENSP00000366109,9606.ENSP00000377867,9606.ENSP00000378217,9606.ENSP00000380638,9606.ENSP00000384763,9606.ENSP00000394560\",\"9606.ENSP00000215832,9606.ENSP00000247668,9606.ENSP00000263025,9606.ENSP00000267257,9606.ENSP00000275493,9606.ENSP00000289473,9606.ENSP00000300574,9606.ENSP00000312455,9606.ENSP00000351022,9606.ENSP00000356505,9606.ENSP00000360266,9606.ENSP00000366109,9606.ENSP00000378217,9606.ENSP00000384763,9606.ENSP00000394560\",\"9606.ENSP00000215832,9606.ENSP00000247668,9606.ENSP00000263025,9606.ENSP00000267257,9606.ENSP00000275493,9606.ENSP00000289473,9606.ENSP00000300574,9606.ENSP00000312455,9606.ENSP00000351022,9606.ENSP00000360266,9606.ENSP00000366109,9606.ENSP00000378217,9606.ENSP00000384763,9606.ENSP00000394560\",\"9606.ENSP00000215832,9606.ENSP00000252999,9606.ENSP00000253861,9606.ENSP00000263025,9606.ENSP00000265441,9606.ENSP00000267101,9606.ENSP00000274063,9606.ENSP00000332973,9606.ENSP00000361467,9606.ENSP00000417335,9606.ENSP00000418754,9606.ENSP00000420321\",\"9606.ENSP00000215832,9606.ENSP00000252999,9606.ENSP00000262613,9606.ENSP00000263025,9606.ENSP00000265441,9606.ENSP00000275493,9606.ENSP00000294304,9606.ENSP00000326366,9606.ENSP00000332973,9606.ENSP00000346300,9606.ENSP00000360266,9606.ENSP00000366109,9606.ENSP00000371897,9606.ENSP00000385720,9606.ENSP00000442600\",\"9606.ENSP00000215832,9606.ENSP00000258173,9606.ENSP00000265441,9606.ENSP00000270861,9606.ENSP00000275364,9606.ENSP00000275493,9606.ENSP00000292385,9606.ENSP00000332973,9606.ENSP00000351022,9606.ENSP00000376345,9606.ENSP00000379350,9606.ENSP00000381237,9606.ENSP00000400717,9606.ENSP00000430344\",\"9606.ENSP00000215832,9606.ENSP00000260197,9606.ENSP00000262948,9606.ENSP00000263025,9606.ENSP00000269571,9606.ENSP00000278568,9606.ENSP00000301050,9606.ENSP00000306490,9606.ENSP00000326366,9606.ENSP00000332973,9606.ENSP00000345752,9606.ENSP00000346032,9606.ENSP00000378217,9606.ENSP00000380948,9606.ENSP00000394485,9606.ENSP00000428056,9606.ENSP00000441691\",\"9606.ENSP00000215832,9606.ENSP00000260197,9606.ENSP00000269571,9606.ENSP00000278568,9606.ENSP00000301050,9606.ENSP00000306490,9606.ENSP00000326366,9606.ENSP00000332973,9606.ENSP00000345752,9606.ENSP00000346032,9606.ENSP00000378217,9606.ENSP00000380948,9606.ENSP00000394485,9606.ENSP00000428056,9606.ENSP00000441691\",\"9606.ENSP00000215832,9606.ENSP00000260197,9606.ENSP00000269571,9606.ENSP00000278568,9606.ENSP00000301050,9606.ENSP00000306490,9606.ENSP00000326366,9606.ENSP00000332973,9606.ENSP00000378217,9606.ENSP00000380948,9606.ENSP00000394485,9606.ENSP00000428056,9606.ENSP00000441691\",\"9606.ENSP00000215832,9606.ENSP00000260197,9606.ENSP00000269571,9606.ENSP00000278568,9606.ENSP00000301050,9606.ENSP00000306490,9606.ENSP00000326366,9606.ENSP00000332973,9606.ENSP00000378217,9606.ENSP00000380948,9606.ENSP00000394485,9606.ENSP00000428056,9606.ENSP00000441691\",\"9606.ENSP00000215832,9606.ENSP00000261023,9606.ENSP00000262948,9606.ENSP00000263025,9606.ENSP00000265080,9606.ENSP00000267101,9606.ENSP00000269571,9606.ENSP00000275493,9606.ENSP00000278568,9606.ENSP00000314067,9606.ENSP00000341189,9606.ENSP00000343325,9606.ENSP00000346300,9606.ENSP00000352157,9606.ENSP00000364995,9606.ENSP00000367686,9606.ENSP00000376317,9606.ENSP00000376345,9606.ENSP00000377867,9606.ENSP00000380638,9606.ENSP00000384192,9606.ENSP00000387784,9606.ENSP00000394560,9606.ENSP00000399511,9606.ENSP00000401303,9606.ENSP00000405963,9606.ENSP00000417653,5691.AAZ10596,5691.AAZ11445,5691.EAN76407,5691.EAN77619,5691.EAN80351\",\"9606.ENSP00000215832,9606.ENSP00000261023,9606.ENSP00000262948,9606.ENSP00000263025,9606.ENSP00000265080,9606.ENSP00000267101,9606.ENSP00000269571,9606.ENSP00000275493,9606.ENSP00000341189,9606.ENSP00000343325,9606.ENSP00000346300,9606.ENSP00000352157,9606.ENSP00000364995,9606.ENSP00000376317,9606.ENSP00000376345,9606.ENSP00000380638,9606.ENSP00000384192,9606.ENSP00000387784,9606.ENSP00000394560,9606.ENSP00000399511,9606.ENSP00000401303,9606.ENSP00000405963,9606.ENSP00000417653\",\"9606.ENSP00000215832,9606.ENSP00000262948,9606.ENSP00000263025,9606.ENSP00000263431,9606.ENSP00000305355,9606.ENSP00000306124,9606.ENSP00000312262,9606.ENSP00000314067,9606.ENSP00000339740,9606.ENSP00000343325,9606.ENSP00000356832,9606.ENSP00000378217,9606.ENSP00000394560,9606.ENSP00000408695\",\"9606.ENSP00000215832,9606.ENSP00000262948,9606.ENSP00000263025,9606.ENSP00000263431,9606.ENSP00000305355,9606.ENSP00000306124,9606.ENSP00000312262,9606.ENSP00000314067,9606.ENSP00000339740,9606.ENSP00000343325,9606.ENSP00000356832,9606.ENSP00000378217,9606.ENSP00000394560,9606.ENSP00000408695\",\"9606.ENSP00000215832,9606.ENSP00000262948,9606.ENSP00000263025,9606.ENSP00000278568,9606.ENSP00000314067,9606.ENSP00000343325,9606.ENSP00000346300,9606.ENSP00000352157,9606.ENSP00000367686,9606.ENSP00000376317,9606.ENSP00000377867,9606.ENSP00000394560,9606.ENSP00000399511,9606.ENSP00000417653\",\"9606.ENSP00000215832,9606.ENSP00000263025,9606.ENSP00000263431,9606.ENSP00000273047,9606.ENSP00000275364,9606.ENSP00000296511,9606.ENSP00000305355,9606.ENSP00000306124,9606.ENSP00000334448,9606.ENSP00000359719,9606.ENSP00000378217,9606.ENSP00000400717,9606.ENSP00000408695,9606.ENSP00000428056,9606.ENSP00000481878\",\"9606.ENSP00000215832,9606.ENSP00000263025,9606.ENSP00000263431,9606.ENSP00000273047,9606.ENSP00000275364,9606.ENSP00000296511,9606.ENSP00000305355,9606.ENSP00000306124,9606.ENSP00000334448,9606.ENSP00000359719,9606.ENSP00000378217,9606.ENSP00000400717,9606.ENSP00000408695,9606.ENSP00000428056,9606.ENSP00000481878\",\"9606.ENSP00000215832,9606.ENSP00000263025,9606.ENSP00000263431,9606.ENSP00000273047,9606.ENSP00000275364,9606.ENSP00000296511,9606.ENSP00000305355,9606.ENSP00000306124,9606.ENSP00000334448,9606.ENSP00000359719,9606.ENSP00000378217,9606.ENSP00000400717,9606.ENSP00000408695,9606.ENSP00000428056,9606.ENSP00000481878\",\"9606.ENSP00000215832,9606.ENSP00000263025,9606.ENSP00000263431,9606.ENSP00000275364,9606.ENSP00000305355,9606.ENSP00000306124,9606.ENSP00000334448,9606.ENSP00000378217,9606.ENSP00000400717,9606.ENSP00000408695,9606.ENSP00000428056,9606.ENSP00000481878\",\"9606.ENSP00000215832,9606.ENSP00000263025,9606.ENSP00000263816,9606.ENSP00000265441,9606.ENSP00000270861,9606.ENSP00000274063,9606.ENSP00000275493,9606.ENSP00000311032,9606.ENSP00000341189,9606.ENSP00000346300,9606.ENSP00000366109,9606.ENSP00000376345,9606.ENSP00000417335,9606.ENSP00000430344\",\"9606.ENSP00000215832,9606.ENSP00000263025,9606.ENSP00000263816,9606.ENSP00000265441,9606.ENSP00000270861,9606.ENSP00000274063,9606.ENSP00000275493,9606.ENSP00000311032,9606.ENSP00000341189,9606.ENSP00000346300,9606.ENSP00000366109,9606.ENSP00000376345,9606.ENSP00000417335,9606.ENSP00000430344\",\"9606.ENSP00000215832,9606.ENSP00000263025,9606.ENSP00000274063,9606.ENSP00000275493,9606.ENSP00000301050,9606.ENSP00000306866,9606.ENSP00000360266,9606.ENSP00000376048,9606.ENSP00000377867,9606.ENSP00000385720,9606.ENSP00000386896,9606.ENSP00000442600\",\"9606.ENSP00000215832,9606.ENSP00000263025,9606.ENSP00000278568,9606.ENSP00000288680,9606.ENSP00000300574,9606.ENSP00000301050,9606.ENSP00000305355,9606.ENSP00000306124,9606.ENSP00000314067,9606.ENSP00000326366,9606.ENSP00000341189,9606.ENSP00000346300,9606.ENSP00000352157,9606.ENSP00000359719,9606.ENSP00000360266,9606.ENSP00000376345,9606.ENSP00000378217,9606.ENSP00000387784,9606.ENSP00000394560,9606.ENSP00000401303,9606.ENSP00000428056\",\"9606.ENSP00000215832,9606.ENSP00000263025,9606.ENSP00000278568,9606.ENSP00000288680,9606.ENSP00000300574,9606.ENSP00000301050,9606.ENSP00000305355,9606.ENSP00000306124,9606.ENSP00000314067,9606.ENSP00000326366,9606.ENSP00000341189,9606.ENSP00000346300,9606.ENSP00000352157,9606.ENSP00000359719,9606.ENSP00000360266,9606.ENSP00000376345,9606.ENSP00000378217,9606.ENSP00000387784,9606.ENSP00000394560,9606.ENSP00000401303,9606.ENSP00000428056\",\"9606.ENSP00000215832,9606.ENSP00000263025,9606.ENSP00000278568,9606.ENSP00000288680,9606.ENSP00000300574,9606.ENSP00000301050,9606.ENSP00000305355,9606.ENSP00000306124,9606.ENSP00000314067,9606.ENSP00000326366,9606.ENSP00000341189,9606.ENSP00000346300,9606.ENSP00000359719,9606.ENSP00000375978,9606.ENSP00000376345,9606.ENSP00000378217,9606.ENSP00000428056\",\"9606.ENSP00000215832,9606.ENSP00000263025,9606.ENSP00000278568,9606.ENSP00000288680,9606.ENSP00000300574,9606.ENSP00000301050,9606.ENSP00000305355,9606.ENSP00000306124,9606.ENSP00000314067,9606.ENSP00000326366,9606.ENSP00000341189,9606.ENSP00000346300,9606.ENSP00000359719,9606.ENSP00000376345,9606.ENSP00000378217,9606.ENSP00000428056\",\"9606.ENSP00000215832,9606.ENSP00000263025,9606.ENSP00000278568,9606.ENSP00000288680,9606.ENSP00000300574,9606.ENSP00000301050,9606.ENSP00000305355,9606.ENSP00000306124,9606.ENSP00000314067,9606.ENSP00000326366,9606.ENSP00000341189,9606.ENSP00000346300,9606.ENSP00000359719,9606.ENSP00000376345,9606.ENSP00000378217,9606.ENSP00000428056\",\"9606.ENSP00000215832,9606.ENSP00000263025,9606.ENSP00000278568,9606.ENSP00000300574,9606.ENSP00000306124,9606.ENSP00000314067,9606.ENSP00000341189,9606.ENSP00000352157,9606.ENSP00000360266,9606.ENSP00000376345,9606.ENSP00000378217,9606.ENSP00000387784,9606.ENSP00000394560,9606.ENSP00000401303,9606.ENSP00000428056\",\"9606.ENSP00000215832,9606.ENSP00000263025,9606.ENSP00000278568,9606.ENSP00000314067,9606.ENSP00000352157,9606.ENSP00000360266,9606.ENSP00000376345,9606.ENSP00000387784,9606.ENSP00000394560,9606.ENSP00000401303,9606.ENSP00000428056\",\"9606.ENSP00000215832,9606.ENSP00000267101,9606.ENSP00000269571,9606.ENSP00000275493,9606.ENSP00000341189,9606.ENSP00000364995,9606.ENSP00000376345,9606.ENSP00000380638,9606.ENSP00000387784,9606.ENSP00000401303,9606.ENSP00000408695,9606.ENSP00000428056\",\"9606.ENSP00000222256,9606.ENSP00000229340,9606.ENSP00000244040,9606.ENSP00000264710,9606.ENSP00000265062,9606.ENSP00000265080,9606.ENSP00000273047,9606.ENSP00000275364,9606.ENSP00000286827,9606.ENSP00000300935,9606.ENSP00000304376,9606.ENSP00000311449,9606.ENSP00000312734,9606.ENSP00000328551,9606.ENSP00000338864,9606.ENSP00000346300,9606.ENSP00000353444,9606.ENSP00000357131,9606.ENSP00000360266,9606.ENSP00000360718,9606.ENSP00000361263,9606.ENSP00000364995,9606.ENSP00000371897,9606.ENSP00000376345,9606.ENSP00000384192,9606.ENSP00000387784,9606.ENSP00000400717,9606.ENSP00000401303,9606.ENSP00000405963,9606.ENSP00000417653,9606.ENSP00000447053,9606.ENSP00000461945,9606.ENSP00000478479,9606.ENSP00000481878,5691.AAZ11866,5691.AAZ13226,5691.EAN77398,5691.EAN78254\",\"9606.ENSP00000222256,9606.ENSP00000229340,9606.ENSP00000244040,9606.ENSP00000264710,9606.ENSP00000265062,9606.ENSP00000273047,9606.ENSP00000275364,9606.ENSP00000286827,9606.ENSP00000300935,9606.ENSP00000304376,9606.ENSP00000311449,9606.ENSP00000312734,9606.ENSP00000328551,9606.ENSP00000338864,9606.ENSP00000346300,9606.ENSP00000353444,9606.ENSP00000360266,9606.ENSP00000360718,9606.ENSP00000361263,9606.ENSP00000364995,9606.ENSP00000371897,9606.ENSP00000376345,9606.ENSP00000384192,9606.ENSP00000387784,9606.ENSP00000400717,9606.ENSP00000401303,9606.ENSP00000417653,9606.ENSP00000447053,9606.ENSP00000461945,9606.ENSP00000478479,9606.ENSP00000481878,5691.AAZ11866,5691.AAZ13226,5691.EAN77398,5691.EAN78254\",\"9606.ENSP00000222256,9606.ENSP00000229340,9606.ENSP00000244040,9606.ENSP00000264710,9606.ENSP00000265062,9606.ENSP00000273047,9606.ENSP00000300935,9606.ENSP00000304376,9606.ENSP00000311449,9606.ENSP00000312734,9606.ENSP00000328551,9606.ENSP00000353444,9606.ENSP00000360718,9606.ENSP00000447053,9606.ENSP00000461945,9606.ENSP00000478479,5691.AAZ11866,5691.AAZ13226,5691.EAN77398,5691.EAN78254\",\"9606.ENSP00000222256,9606.ENSP00000239666,9606.ENSP00000252999,9606.ENSP00000254976,9606.ENSP00000262613,9606.ENSP00000264710,9606.ENSP00000300935,9606.ENSP00000301050,9606.ENSP00000312734,9606.ENSP00000320025,9606.ENSP00000346032,9606.ENSP00000352157,9606.ENSP00000360718,9606.ENSP00000399511,9606.ENSP00000461945\",\"9606.ENSP00000222256,9606.ENSP00000243077,9606.ENSP00000300574,9606.ENSP00000306124,9606.ENSP00000332973,9606.ENSP00000341189,9606.ENSP00000346032,9606.ENSP00000362080,9606.ENSP00000366109,9606.ENSP00000367408,9606.ENSP00000378217,9606.ENSP00000379350,9606.ENSP00000408695\",\"9606.ENSP00000222256,9606.ENSP00000244040,9606.ENSP00000255224,9606.ENSP00000258301,9606.ENSP00000258654,9606.ENSP00000262613,9606.ENSP00000264710,9606.ENSP00000271234,9606.ENSP00000303145,9606.ENSP00000305355,9606.ENSP00000316476,9606.ENSP00000324804,9606.ENSP00000353444,9606.ENSP00000357307,9606.ENSP00000362080,9606.ENSP00000379709,9606.ENSP00000408695,9606.ENSP00000444201,9606.ENSP00000478479,5691.EAN79384\",\"9606.ENSP00000222256,9606.ENSP00000252999,9606.ENSP00000262613,9606.ENSP00000264710,9606.ENSP00000300935,9606.ENSP00000301050,9606.ENSP00000312734,9606.ENSP00000320025,9606.ENSP00000346032,9606.ENSP00000360718,9606.ENSP00000399511,9606.ENSP00000461945\",\"9606.ENSP00000222256,9606.ENSP00000255224,9606.ENSP00000261205,9606.ENSP00000263431,9606.ENSP00000273047,9606.ENSP00000305355,9606.ENSP00000320025,9606.ENSP00000357307,9606.ENSP00000360718,9606.ENSP00000367408,9606.ENSP00000379350,9606.ENSP00000444201\",\"9606.ENSP00000222256,9606.ENSP00000255224,9606.ENSP00000261205,9606.ENSP00000263431,9606.ENSP00000273047,9606.ENSP00000305355,9606.ENSP00000320025,9606.ENSP00000357307,9606.ENSP00000360718,9606.ENSP00000367408,9606.ENSP00000444201\",\"9606.ENSP00000222256,9606.ENSP00000300574,9606.ENSP00000306124,9606.ENSP00000332973,9606.ENSP00000341189,9606.ENSP00000346032,9606.ENSP00000362080,9606.ENSP00000366109,9606.ENSP00000367408,9606.ENSP00000378217,9606.ENSP00000379350,9606.ENSP00000408695\",\"9606.ENSP00000228506,9606.ENSP00000229264,9606.ENSP00000232461,9606.ENSP00000247461,9606.ENSP00000261837,9606.ENSP00000262494,9606.ENSP00000305260,9606.ENSP00000312999,9606.ENSP00000320866,9606.ENSP00000334448,9606.ENSP00000343027,9606.ENSP00000358867,9606.ENSP00000478892,9606.ENSP00000481878\",\"9606.ENSP00000229340,9606.ENSP00000247461,9606.ENSP00000249647,9606.ENSP00000261023,9606.ENSP00000264710,9606.ENSP00000265062,9606.ENSP00000273130,9606.ENSP00000289473,9606.ENSP00000296181,9606.ENSP00000311449,9606.ENSP00000312734,9606.ENSP00000320866,9606.ENSP00000353444,9606.ENSP00000356505,9606.ENSP00000360718,9606.ENSP00000376297,9606.ENSP00000404190\",\"9606.ENSP00000232461,9606.ENSP00000248572,9606.ENSP00000263025,9606.ENSP00000274063,9606.ENSP00000275493,9606.ENSP00000311032,9606.ENSP00000352157,9606.ENSP00000364586,9606.ENSP00000375978,9606.ENSP00000376048,9606.ENSP00000376345,9606.ENSP00000428056,9606.ENSP00000442600,9606.ENSP00000481878\",\"9606.ENSP00000232461,9606.ENSP00000248572,9606.ENSP00000263025,9606.ENSP00000274063,9606.ENSP00000275493,9606.ENSP00000311032,9606.ENSP00000352157,9606.ENSP00000364586,9606.ENSP00000375978,9606.ENSP00000376048,9606.ENSP00000376345,9606.ENSP00000428056,9606.ENSP00000442600,9606.ENSP00000481878\",\"9606.ENSP00000232461,9606.ENSP00000262494,9606.ENSP00000262613,9606.ENSP00000275364,9606.ENSP00000306490,9606.ENSP00000312999,9606.ENSP00000334448,9606.ENSP00000343027,9606.ENSP00000358867,9606.ENSP00000359719,9606.ENSP00000366109,9606.ENSP00000366233,9606.ENSP00000376609,9606.ENSP00000400717,9606.ENSP00000478892,9606.ENSP00000481878\",\"9606.ENSP00000232461,9606.ENSP00000262494,9606.ENSP00000262613,9606.ENSP00000275364,9606.ENSP00000306490,9606.ENSP00000312999,9606.ENSP00000334448,9606.ENSP00000343027,9606.ENSP00000358867,9606.ENSP00000359719,9606.ENSP00000366233,9606.ENSP00000376609,9606.ENSP00000400717,9606.ENSP00000478892,9606.ENSP00000481878\",\"9606.ENSP00000236877,9606.ENSP00000243077,9606.ENSP00000261023,9606.ENSP00000288680,9606.ENSP00000294117,9606.ENSP00000301050,9606.ENSP00000305355,9606.ENSP00000320025,9606.ENSP00000320866,9606.ENSP00000326366,9606.ENSP00000332973,9606.ENSP00000339740,9606.ENSP00000380638,9606.ENSP00000384763,9606.ENSP00000400717,9606.ENSP00000430344,9606.ENSP00000448083,9606.ENSP00000478059,9606.ENSP00000481878,5691.AAZ13044\",\"9606.ENSP00000236877,9606.ENSP00000243077,9606.ENSP00000261023,9606.ENSP00000288680,9606.ENSP00000294117,9606.ENSP00000301050,9606.ENSP00000305355,9606.ENSP00000320025,9606.ENSP00000320866,9606.ENSP00000326366,9606.ENSP00000332973,9606.ENSP00000339740,9606.ENSP00000380638,9606.ENSP00000384763,9606.ENSP00000400717,9606.ENSP00000430344,9606.ENSP00000448083,9606.ENSP00000478059,9606.ENSP00000481878,5691.AAZ13044\",\"9606.ENSP00000236877,9606.ENSP00000243077,9606.ENSP00000261023,9606.ENSP00000288680,9606.ENSP00000294117,9606.ENSP00000301050,9606.ENSP00000305355,9606.ENSP00000320025,9606.ENSP00000320866,9606.ENSP00000326366,9606.ENSP00000332973,9606.ENSP00000339740,9606.ENSP00000380638,9606.ENSP00000384763,9606.ENSP00000400717,9606.ENSP00000430344,9606.ENSP00000448083,9606.ENSP00000478059,9606.ENSP00000481878,5691.AAZ13044\",\"9606.ENSP00000236877,9606.ENSP00000243077,9606.ENSP00000261023,9606.ENSP00000288680,9606.ENSP00000294117,9606.ENSP00000301050,9606.ENSP00000320025,9606.ENSP00000332973,9606.ENSP00000380638,9606.ENSP00000384763,9606.ENSP00000400717,9606.ENSP00000430344,9606.ENSP00000448083,9606.ENSP00000481878,5691.AAZ13044\",\"9606.ENSP00000236877,9606.ENSP00000251127,9606.ENSP00000261023,9606.ENSP00000301050,9606.ENSP00000305355,9606.ENSP00000320025,9606.ENSP00000326366,9606.ENSP00000346032,9606.ENSP00000355747,9606.ENSP00000356545,9606.ENSP00000367408,9606.ENSP00000371180,9606.ENSP00000377840,9606.ENSP00000384763,9606.ENSP00000419101,9606.ENSP00000430344,9606.ENSP00000438949,9606.ENSP00000448083,9606.ENSP00000478059,5691.AAZ13044,5691.EAN77713\",\"9606.ENSP00000236877,9606.ENSP00000251127,9606.ENSP00000261023,9606.ENSP00000301050,9606.ENSP00000305355,9606.ENSP00000320025,9606.ENSP00000326366,9606.ENSP00000346032,9606.ENSP00000355747,9606.ENSP00000356545,9606.ENSP00000367408,9606.ENSP00000371180,9606.ENSP00000377840,9606.ENSP00000384763,9606.ENSP00000419101,9606.ENSP00000430344,9606.ENSP00000438949,9606.ENSP00000448083,9606.ENSP00000478059,5691.AAZ13044,5691.EAN77713\",\"9606.ENSP00000236877,9606.ENSP00000251127,9606.ENSP00000261023,9606.ENSP00000301050,9606.ENSP00000305355,9606.ENSP00000320025,9606.ENSP00000326366,9606.ENSP00000346032,9606.ENSP00000355747,9606.ENSP00000356545,9606.ENSP00000367408,9606.ENSP00000371180,9606.ENSP00000377840,9606.ENSP00000384763,9606.ENSP00000419101,9606.ENSP00000430344,9606.ENSP00000438949,9606.ENSP00000448083,9606.ENSP00000478059,5691.AAZ13044,5691.EAN77713\",\"9606.ENSP00000236877,9606.ENSP00000251127,9606.ENSP00000261023,9606.ENSP00000301050,9606.ENSP00000320025,9606.ENSP00000326366,9606.ENSP00000346032,9606.ENSP00000356545,9606.ENSP00000371180,9606.ENSP00000377840,9606.ENSP00000384763,9606.ENSP00000419101,9606.ENSP00000430344,9606.ENSP00000438949,9606.ENSP00000448083,5691.AAZ13044,5691.EAN77713\",\"9606.ENSP00000236877,9606.ENSP00000251127,9606.ENSP00000301050,9606.ENSP00000306490,9606.ENSP00000320025,9606.ENSP00000326366,9606.ENSP00000339740,9606.ENSP00000345752,9606.ENSP00000346534,9606.ENSP00000356545,9606.ENSP00000357068,9606.ENSP00000360266,9606.ENSP00000364586,9606.ENSP00000366233,9606.ENSP00000380638,9606.ENSP00000384763,9606.ENSP00000438949,9606.ENSP00000469689,5691.EAN77713\",\"9606.ENSP00000236877,9606.ENSP00000262494,9606.ENSP00000275493,9606.ENSP00000301050,9606.ENSP00000312262,9606.ENSP00000320025,9606.ENSP00000339740,9606.ENSP00000351022,9606.ENSP00000377840,9606.ENSP00000384763,9606.ENSP00000419101,9606.ENSP00000438949,9606.ENSP00000478059\",\"9606.ENSP00000236877,9606.ENSP00000262494,9606.ENSP00000301050,9606.ENSP00000312262,9606.ENSP00000320025,9606.ENSP00000339740,9606.ENSP00000351022,9606.ENSP00000377840,9606.ENSP00000384763,9606.ENSP00000419101,9606.ENSP00000438949,9606.ENSP00000478059\",\"9606.ENSP00000239666,9606.ENSP00000262613,9606.ENSP00000264710,9606.ENSP00000278568,9606.ENSP00000300574,9606.ENSP00000341189,9606.ENSP00000346300,9606.ENSP00000361467,9606.ENSP00000379350,9606.ENSP00000385720,9606.ENSP00000418754\",\"9606.ENSP00000243077,9606.ENSP00000247461,9606.ENSP00000253193,9606.ENSP00000254976,9606.ENSP00000260197,9606.ENSP00000263816,9606.ENSP00000271234,9606.ENSP00000273047,9606.ENSP00000312262,9606.ENSP00000317578,9606.ENSP00000320866,9606.ENSP00000360798,9606.ENSP00000363827,9606.ENSP00000371532,9606.ENSP00000376345,9606.ENSP00000379350,9606.ENSP00000380948,9606.ENSP00000417653,9606.ENSP00000441691,9606.ENSP00000454071,9606.ENSP00000461945\",\"9606.ENSP00000243077,9606.ENSP00000247668,9606.ENSP00000260197,9606.ENSP00000263431,9606.ENSP00000264657,9606.ENSP00000267101,9606.ENSP00000311032,9606.ENSP00000326366,9606.ENSP00000360266,9606.ENSP00000376048,9606.ENSP00000380638,9606.ENSP00000380948,9606.ENSP00000441691\",\"9606.ENSP00000243077,9606.ENSP00000254976,9606.ENSP00000260197,9606.ENSP00000273047,9606.ENSP00000312262,9606.ENSP00000317578,9606.ENSP00000360798,9606.ENSP00000371532,9606.ENSP00000376345,9606.ENSP00000379350,9606.ENSP00000380948,9606.ENSP00000461945\",\"9606.ENSP00000243077,9606.ENSP00000254976,9606.ENSP00000275493,9606.ENSP00000276052,9606.ENSP00000281456,9606.ENSP00000286827,9606.ENSP00000294304,9606.ENSP00000306124,9606.ENSP00000312734,9606.ENSP00000356545,9606.ENSP00000360671,9606.ENSP00000362080,9606.ENSP00000366109,9606.ENSP00000408695,9606.ENSP00000444201\",\"9606.ENSP00000243077,9606.ENSP00000254976,9606.ENSP00000275493,9606.ENSP00000276052,9606.ENSP00000281456,9606.ENSP00000286827,9606.ENSP00000294304,9606.ENSP00000306124,9606.ENSP00000312734,9606.ENSP00000356545,9606.ENSP00000360671,9606.ENSP00000362080,9606.ENSP00000408695,9606.ENSP00000444201\",\"9606.ENSP00000243077,9606.ENSP00000254976,9606.ENSP00000276052,9606.ENSP00000281456,9606.ENSP00000286827,9606.ENSP00000294304,9606.ENSP00000306124,9606.ENSP00000356545,9606.ENSP00000360671,9606.ENSP00000362080,9606.ENSP00000408695,9606.ENSP00000444201\",\"9606.ENSP00000243077,9606.ENSP00000255224,9606.ENSP00000260197,9606.ENSP00000264657,9606.ENSP00000278568,9606.ENSP00000320866,9606.ENSP00000326366,9606.ENSP00000341189,9606.ENSP00000367888,9606.ENSP00000376048,9606.ENSP00000454071,9606.ENSP00000459615\",\"9606.ENSP00000243077,9606.ENSP00000255224,9606.ENSP00000260197,9606.ENSP00000264657,9606.ENSP00000320866,9606.ENSP00000326366,9606.ENSP00000341189,9606.ENSP00000345752,9606.ENSP00000359719,9606.ENSP00000367888,9606.ENSP00000376048,9606.ENSP00000417335,9606.ENSP00000454071,9606.ENSP00000459615\",\"9606.ENSP00000243077,9606.ENSP00000255224,9606.ENSP00000260197,9606.ENSP00000264657,9606.ENSP00000320866,9606.ENSP00000326366,9606.ENSP00000341189,9606.ENSP00000367888,9606.ENSP00000376048,9606.ENSP00000454071,9606.ENSP00000459615\",\"9606.ENSP00000243077,9606.ENSP00000255224,9606.ENSP00000261205,9606.ENSP00000269571,9606.ENSP00000274063,9606.ENSP00000275493,9606.ENSP00000278568,9606.ENSP00000292385,9606.ENSP00000300574,9606.ENSP00000324804,9606.ENSP00000332973,9606.ENSP00000338864,9606.ENSP00000339740,9606.ENSP00000346300,9606.ENSP00000356236,9606.ENSP00000356832,9606.ENSP00000367686,9606.ENSP00000375727,9606.ENSP00000376048,9606.ENSP00000380638,9606.ENSP00000417653\",\"9606.ENSP00000243077,9606.ENSP00000255224,9606.ENSP00000261205,9606.ENSP00000269571,9606.ENSP00000274063,9606.ENSP00000275493,9606.ENSP00000278568,9606.ENSP00000292385,9606.ENSP00000300574,9606.ENSP00000356236,9606.ENSP00000380638,9606.ENSP00000417653\",\"9606.ENSP00000243077,9606.ENSP00000260197,9606.ENSP00000263025,9606.ENSP00000263816,9606.ENSP00000265062,9606.ENSP00000306124,9606.ENSP00000321330,9606.ENSP00000326366,9606.ENSP00000341189,9606.ENSP00000358867,9606.ENSP00000377836,9606.ENSP00000378217,9606.ENSP00000380638,9606.ENSP00000394560,9606.ENSP00000448083,9606.ENSP00000454071\",\"9606.ENSP00000243077,9606.ENSP00000260197,9606.ENSP00000263431,9606.ENSP00000263816,9606.ENSP00000265062,9606.ENSP00000275364,9606.ENSP00000275493,9606.ENSP00000321330,9606.ENSP00000326366,9606.ENSP00000332973,9606.ENSP00000341189,9606.ENSP00000346032,9606.ENSP00000377836,9606.ENSP00000380638,9606.ENSP00000394560,9606.ENSP00000454071\",\"9606.ENSP00000243077,9606.ENSP00000260197,9606.ENSP00000263816,9606.ENSP00000265062,9606.ENSP00000321330,9606.ENSP00000326366,9606.ENSP00000341189,9606.ENSP00000377836,9606.ENSP00000380638,9606.ENSP00000394560,9606.ENSP00000454071\",\"9606.ENSP00000243077,9606.ENSP00000261023,9606.ENSP00000263816,9606.ENSP00000274063,9606.ENSP00000293379,9606.ENSP00000294304,9606.ENSP00000304945,9606.ENSP00000341189,9606.ENSP00000346032,9606.ENSP00000360266,9606.ENSP00000363827,9606.ENSP00000379350,9606.ENSP00000380638,9606.ENSP00000387784,9606.ENSP00000400717,9606.ENSP00000401303,9606.ENSP00000408695,9606.ENSP00000420321,9606.ENSP00000430344,9606.ENSP00000442600,9606.ENSP00000454071\",\"9606.ENSP00000243077,9606.ENSP00000261023,9606.ENSP00000288680,9606.ENSP00000294117,9606.ENSP00000301050,9606.ENSP00000320025,9606.ENSP00000380638,9606.ENSP00000384763,9606.ENSP00000400717,9606.ENSP00000430344,9606.ENSP00000448083,9606.ENSP00000481878,5691.AAZ13044\",\"9606.ENSP00000243077,9606.ENSP00000262428,9606.ENSP00000267257,9606.ENSP00000276297,9606.ENSP00000278568,9606.ENSP00000292385,9606.ENSP00000300574,9606.ENSP00000306124,9606.ENSP00000314067,9606.ENSP00000332973,9606.ENSP00000339740,9606.ENSP00000351022,9606.ENSP00000357131,9606.ENSP00000361009,9606.ENSP00000376345,9606.ENSP00000378217,9606.ENSP00000380638,9606.ENSP00000385720,9606.ENSP00000417653,9606.ENSP00000428056\",\"9606.ENSP00000243077,9606.ENSP00000262428,9606.ENSP00000267257,9606.ENSP00000276297,9606.ENSP00000278568,9606.ENSP00000292385,9606.ENSP00000300574,9606.ENSP00000306124,9606.ENSP00000314067,9606.ENSP00000332973,9606.ENSP00000351022,9606.ENSP00000357131,9606.ENSP00000361009,9606.ENSP00000376345,9606.ENSP00000378217,9606.ENSP00000380638,9606.ENSP00000385720,9606.ENSP00000417653,9606.ENSP00000428056\",\"9606.ENSP00000243077,9606.ENSP00000263431,9606.ENSP00000263816,9606.ENSP00000275364,9606.ENSP00000321330,9606.ENSP00000326366,9606.ENSP00000341189,9606.ENSP00000346032,9606.ENSP00000380638,9606.ENSP00000394560,9606.ENSP00000454071\",\"9606.ENSP00000243077,9606.ENSP00000263816,9606.ENSP00000264908,9606.ENSP00000275493,9606.ENSP00000276297,9606.ENSP00000300574,9606.ENSP00000311032,9606.ENSP00000326366,9606.ENSP00000346300,9606.ENSP00000360021,9606.ENSP00000384763,9606.ENSP00000385720,9606.ENSP00000417335,9606.ENSP00000420321,9606.ENSP00000441691,9606.ENSP00000459615\",\"9606.ENSP00000243077,9606.ENSP00000264657,9606.ENSP00000264710,9606.ENSP00000267257,9606.ENSP00000278568,9606.ENSP00000294304,9606.ENSP00000300574,9606.ENSP00000300935,9606.ENSP00000312455,9606.ENSP00000312734,9606.ENSP00000315768,9606.ENSP00000326366,9606.ENSP00000341189,9606.ENSP00000343027,9606.ENSP00000359719,9606.ENSP00000360293,9606.ENSP00000366109,9606.ENSP00000376345,9606.ENSP00000377840,9606.ENSP00000378217,9606.ENSP00000387784,9606.ENSP00000388566,9606.ENSP00000401303,9606.ENSP00000428056,9606.ENSP00000442600,9606.ENSP00000461945\",\"9606.ENSP00000243077,9606.ENSP00000264657,9606.ENSP00000264710,9606.ENSP00000267257,9606.ENSP00000278568,9606.ENSP00000300574,9606.ENSP00000300935,9606.ENSP00000312455,9606.ENSP00000312734,9606.ENSP00000326366,9606.ENSP00000341189,9606.ENSP00000359719,9606.ENSP00000360293,9606.ENSP00000376345,9606.ENSP00000377840,9606.ENSP00000378217,9606.ENSP00000387784,9606.ENSP00000388566,9606.ENSP00000401303,9606.ENSP00000428056,9606.ENSP00000461945\",\"9606.ENSP00000243077,9606.ENSP00000264908,9606.ENSP00000275493,9606.ENSP00000300574,9606.ENSP00000311032,9606.ENSP00000326366,9606.ENSP00000346300,9606.ENSP00000360021,9606.ENSP00000384763,9606.ENSP00000417335,9606.ENSP00000420321,9606.ENSP00000459615\",\"9606.ENSP00000243077,9606.ENSP00000267101,9606.ENSP00000269571,9606.ENSP00000276297,9606.ENSP00000311032,9606.ENSP00000341189,9606.ENSP00000361467,9606.ENSP00000366109,9606.ENSP00000367408,9606.ENSP00000378217,9606.ENSP00000428056\",\"9606.ENSP00000243077,9606.ENSP00000278568,9606.ENSP00000286827,9606.ENSP00000292385,9606.ENSP00000300574,9606.ENSP00000320866,9606.ENSP00000326366,9606.ENSP00000341189,9606.ENSP00000346300,9606.ENSP00000361009,9606.ENSP00000367888,9606.ENSP00000376048,9606.ENSP00000385720,9606.ENSP00000399511,9606.ENSP00000417335,9606.ENSP00000417653,9606.ENSP00000420321\",\"9606.ENSP00000243077,9606.ENSP00000278568,9606.ENSP00000286827,9606.ENSP00000292385,9606.ENSP00000300574,9606.ENSP00000320866,9606.ENSP00000346300,9606.ENSP00000361009,9606.ENSP00000417335,9606.ENSP00000417653,9606.ENSP00000420321\",\"9606.ENSP00000243077,9606.ENSP00000278568,9606.ENSP00000286827,9606.ENSP00000292385,9606.ENSP00000326366,9606.ENSP00000341189,9606.ENSP00000367888,9606.ENSP00000376048,9606.ENSP00000385720,9606.ENSP00000417335,9606.ENSP00000417653,9606.ENSP00000420321\",\"9606.ENSP00000247461,9606.ENSP00000249647,9606.ENSP00000261023,9606.ENSP00000265062,9606.ENSP00000273130,9606.ENSP00000289473,9606.ENSP00000296181,9606.ENSP00000320866,9606.ENSP00000356505,9606.ENSP00000376297,9606.ENSP00000404190\",\"9606.ENSP00000247461,9606.ENSP00000249647,9606.ENSP00000261023,9606.ENSP00000265062,9606.ENSP00000273130,9606.ENSP00000289473,9606.ENSP00000296181,9606.ENSP00000320866,9606.ENSP00000356505,9606.ENSP00000376297,9606.ENSP00000404190\",\"9606.ENSP00000247461,9606.ENSP00000249647,9606.ENSP00000261023,9606.ENSP00000265062,9606.ENSP00000273130,9606.ENSP00000289473,9606.ENSP00000296181,9606.ENSP00000320866,9606.ENSP00000356505,9606.ENSP00000376297,9606.ENSP00000404190\",\"9606.ENSP00000247668,9606.ENSP00000261023,9606.ENSP00000267101,9606.ENSP00000306866,9606.ENSP00000311032,9606.ENSP00000312455,9606.ENSP00000332973,9606.ENSP00000360266,9606.ENSP00000364586,9606.ENSP00000378217,9606.ENSP00000388566,9606.ENSP00000408695,9606.ENSP00000428056,9606.ENSP00000441691\",\"9606.ENSP00000247668,9606.ENSP00000262395,9606.ENSP00000274063,9606.ENSP00000275493,9606.ENSP00000278568,9606.ENSP00000286827,9606.ENSP00000289473,9606.ENSP00000343325,9606.ENSP00000361263,9606.ENSP00000376317,9606.ENSP00000380638,9606.ENSP00000399511,9606.ENSP00000417653\",\"9606.ENSP00000249647,9606.ENSP00000253861,9606.ENSP00000258301,9606.ENSP00000258654,9606.ENSP00000260197,9606.ENSP00000260762,9606.ENSP00000264710,9606.ENSP00000273130,9606.ENSP00000300935,9606.ENSP00000303145,9606.ENSP00000311449,9606.ENSP00000312734,9606.ENSP00000360798,9606.ENSP00000370695,9606.ENSP00000376297,9606.ENSP00000404190,9606.ENSP00000461945,5691.EAN79384\",\"9606.ENSP00000251127,9606.ENSP00000261837,9606.ENSP00000262613,9606.ENSP00000301050,9606.ENSP00000306124,9606.ENSP00000320025,9606.ENSP00000326366,9606.ENSP00000339740,9606.ENSP00000346534,9606.ENSP00000355747,9606.ENSP00000356545,9606.ENSP00000357068,9606.ENSP00000364586,9606.ENSP00000371180,9606.ENSP00000376432,9606.ENSP00000377840,9606.ENSP00000379350,9606.ENSP00000380638,9606.ENSP00000384763,9606.ENSP00000394485,9606.ENSP00000405963,9606.ENSP00000419101,9606.ENSP00000438949,9606.ENSP00000448083,9606.ENSP00000469689,9606.ENSP00000478059,5691.EAN77713\",\"9606.ENSP00000252999,9606.ENSP00000262613,9606.ENSP00000263816,9606.ENSP00000264710,9606.ENSP00000274063,9606.ENSP00000275493,9606.ENSP00000276297,9606.ENSP00000278568,9606.ENSP00000293379,9606.ENSP00000294304,9606.ENSP00000311032,9606.ENSP00000324532,9606.ENSP00000326366,9606.ENSP00000332973,9606.ENSP00000345808,9606.ENSP00000359719,9606.ENSP00000361467,9606.ENSP00000376345,9606.ENSP00000377836,9606.ENSP00000378332,9606.ENSP00000385720,9606.ENSP00000387784,9606.ENSP00000400717,9606.ENSP00000418754,9606.ENSP00000442600\",\"9606.ENSP00000252999,9606.ENSP00000263816,9606.ENSP00000274063,9606.ENSP00000276297,9606.ENSP00000278568,9606.ENSP00000294304,9606.ENSP00000311032,9606.ENSP00000326366,9606.ENSP00000332973,9606.ENSP00000359719,9606.ENSP00000361467,9606.ENSP00000377836,9606.ENSP00000385720,9606.ENSP00000400717,9606.ENSP00000418754,9606.ENSP00000442600\",\"9606.ENSP00000252999,9606.ENSP00000267082,9606.ENSP00000267257,9606.ENSP00000294304,9606.ENSP00000341189,9606.ENSP00000343325,9606.ENSP00000377836,9606.ENSP00000378332,9606.ENSP00000379350,9606.ENSP00000380638,9606.ENSP00000380948,9606.ENSP00000420321,9606.ENSP00000459615\",\"9606.ENSP00000260197,9606.ENSP00000262613,9606.ENSP00000264657,9606.ENSP00000274063,9606.ENSP00000294304,9606.ENSP00000311032,9606.ENSP00000314067,9606.ENSP00000324804,9606.ENSP00000326366,9606.ENSP00000343325,9606.ENSP00000346300,9606.ENSP00000360266,9606.ENSP00000361263,9606.ENSP00000376297,9606.ENSP00000376317,9606.ENSP00000378217,9606.ENSP00000384763,9606.ENSP00000442600\",\"9606.ENSP00000260197,9606.ENSP00000262613,9606.ENSP00000274063,9606.ENSP00000294304,9606.ENSP00000311032,9606.ENSP00000314067,9606.ENSP00000324804,9606.ENSP00000326366,9606.ENSP00000343325,9606.ENSP00000346300,9606.ENSP00000360266,9606.ENSP00000361263,9606.ENSP00000376317,9606.ENSP00000378217,9606.ENSP00000384763,9606.ENSP00000442600\",\"9606.ENSP00000260197,9606.ENSP00000274063,9606.ENSP00000294304,9606.ENSP00000311032,9606.ENSP00000314067,9606.ENSP00000324804,9606.ENSP00000326366,9606.ENSP00000343325,9606.ENSP00000376317,9606.ENSP00000378217,9606.ENSP00000384763\",\"9606.ENSP00000260197,9606.ENSP00000274063,9606.ENSP00000294304,9606.ENSP00000311032,9606.ENSP00000314067,9606.ENSP00000324804,9606.ENSP00000326366,9606.ENSP00000343325,9606.ENSP00000376317,9606.ENSP00000378217,9606.ENSP00000384763\",\"9606.ENSP00000260197,9606.ENSP00000274063,9606.ENSP00000294304,9606.ENSP00000311032,9606.ENSP00000314067,9606.ENSP00000324804,9606.ENSP00000326366,9606.ENSP00000343325,9606.ENSP00000376317,9606.ENSP00000378217,9606.ENSP00000384763\",\"9606.ENSP00000261023,9606.ENSP00000265062,9606.ENSP00000267082,9606.ENSP00000273047,9606.ENSP00000275493,9606.ENSP00000293379,9606.ENSP00000296181,9606.ENSP00000312262,9606.ENSP00000360798,9606.ENSP00000379350,9606.ENSP00000442600,9606.ENSP00000454071\",\"9606.ENSP00000261023,9606.ENSP00000265062,9606.ENSP00000267082,9606.ENSP00000275493,9606.ENSP00000293379,9606.ENSP00000296181,9606.ENSP00000312262,9606.ENSP00000360798,9606.ENSP00000376345,9606.ENSP00000379350,9606.ENSP00000442600,9606.ENSP00000454071\",\"9606.ENSP00000261023,9606.ENSP00000265062,9606.ENSP00000267082,9606.ENSP00000275493,9606.ENSP00000293379,9606.ENSP00000296181,9606.ENSP00000312262,9606.ENSP00000360798,9606.ENSP00000376345,9606.ENSP00000379350,9606.ENSP00000442600,9606.ENSP00000454071\",\"9606.ENSP00000261023,9606.ENSP00000267082,9606.ENSP00000275493,9606.ENSP00000293379,9606.ENSP00000296181,9606.ENSP00000312262,9606.ENSP00000360798,9606.ENSP00000376345,9606.ENSP00000379350,9606.ENSP00000442600,9606.ENSP00000454071\",\"9606.ENSP00000261023,9606.ENSP00000274063,9606.ENSP00000293379,9606.ENSP00000304945,9606.ENSP00000341189,9606.ENSP00000346032,9606.ENSP00000360266,9606.ENSP00000363827,9606.ENSP00000379350,9606.ENSP00000380638,9606.ENSP00000400717,9606.ENSP00000401303,9606.ENSP00000408695,9606.ENSP00000420321,9606.ENSP00000430344,9606.ENSP00000442600\",\"9606.ENSP00000261837,9606.ENSP00000262613,9606.ENSP00000301050,9606.ENSP00000306124,9606.ENSP00000312999,9606.ENSP00000320025,9606.ENSP00000339740,9606.ENSP00000355747,9606.ENSP00000367408,9606.ENSP00000377840,9606.ENSP00000379350,9606.ENSP00000380638,9606.ENSP00000384763,9606.ENSP00000438949,9606.ENSP00000478059\",\"9606.ENSP00000261837,9606.ENSP00000262613,9606.ENSP00000301050,9606.ENSP00000306124,9606.ENSP00000320025,9606.ENSP00000339740,9606.ENSP00000355747,9606.ENSP00000377840,9606.ENSP00000379350,9606.ENSP00000380638,9606.ENSP00000384763,9606.ENSP00000394485,9606.ENSP00000405963,9606.ENSP00000438949,9606.ENSP00000469689,9606.ENSP00000478059\",\"9606.ENSP00000261837,9606.ENSP00000262613,9606.ENSP00000301050,9606.ENSP00000306124,9606.ENSP00000320025,9606.ENSP00000339740,9606.ENSP00000356832,9606.ENSP00000377840,9606.ENSP00000378217,9606.ENSP00000379350,9606.ENSP00000380638,9606.ENSP00000394485,9606.ENSP00000405963,9606.ENSP00000438949,9606.ENSP00000469689,9606.ENSP00000478059\",\"9606.ENSP00000261837,9606.ENSP00000262613,9606.ENSP00000301050,9606.ENSP00000306124,9606.ENSP00000320025,9606.ENSP00000339740,9606.ENSP00000377840,9606.ENSP00000379350,9606.ENSP00000380638,9606.ENSP00000394485,9606.ENSP00000405963,9606.ENSP00000438949,9606.ENSP00000469689,9606.ENSP00000478059\",\"9606.ENSP00000261837,9606.ENSP00000262613,9606.ENSP00000301050,9606.ENSP00000306124,9606.ENSP00000320025,9606.ENSP00000339740,9606.ENSP00000377840,9606.ENSP00000379350,9606.ENSP00000380638,9606.ENSP00000394485,9606.ENSP00000405963,9606.ENSP00000438949,9606.ENSP00000469689,9606.ENSP00000478059\",\"9606.ENSP00000261837,9606.ENSP00000269571,9606.ENSP00000276297,9606.ENSP00000286827,9606.ENSP00000300574,9606.ENSP00000338864,9606.ENSP00000345808,9606.ENSP00000346300,9606.ENSP00000351333,9606.ENSP00000357131,9606.ENSP00000360266,9606.ENSP00000361009,9606.ENSP00000361263,9606.ENSP00000368678,9606.ENSP00000371897,9606.ENSP00000379350,9606.ENSP00000379709,9606.ENSP00000380638,9606.ENSP00000384192,9606.ENSP00000385720,9606.ENSP00000386896,9606.ENSP00000387784,9606.ENSP00000404190,9606.ENSP00000405963,9606.ENSP00000459615\",\"9606.ENSP00000261837,9606.ENSP00000301050,9606.ENSP00000306124,9606.ENSP00000312999,9606.ENSP00000320025,9606.ENSP00000339740,9606.ENSP00000355747,9606.ENSP00000367408,9606.ENSP00000377840,9606.ENSP00000380638,9606.ENSP00000384763,9606.ENSP00000438949,9606.ENSP00000478059\",\"9606.ENSP00000261837,9606.ENSP00000301050,9606.ENSP00000306124,9606.ENSP00000320025,9606.ENSP00000339740,9606.ENSP00000355747,9606.ENSP00000377840,9606.ENSP00000380638,9606.ENSP00000384763,9606.ENSP00000438949,9606.ENSP00000478059\",\"9606.ENSP00000261837,9606.ENSP00000301050,9606.ENSP00000320025,9606.ENSP00000339740,9606.ENSP00000377840,9606.ENSP00000379350,9606.ENSP00000380638,9606.ENSP00000405963,9606.ENSP00000438949,9606.ENSP00000469689,9606.ENSP00000478059\",\"9606.ENSP00000262428,9606.ENSP00000267257,9606.ENSP00000276297,9606.ENSP00000278568,9606.ENSP00000292385,9606.ENSP00000306124,9606.ENSP00000314067,9606.ENSP00000326366,9606.ENSP00000332973,9606.ENSP00000351022,9606.ENSP00000357131,9606.ENSP00000361009,9606.ENSP00000363827,9606.ENSP00000376345,9606.ENSP00000378217,9606.ENSP00000380638,9606.ENSP00000385720,9606.ENSP00000417653,9606.ENSP00000428056,9606.ENSP00000454071\",\"9606.ENSP00000262428,9606.ENSP00000267257,9606.ENSP00000276297,9606.ENSP00000278568,9606.ENSP00000292385,9606.ENSP00000306124,9606.ENSP00000314067,9606.ENSP00000332973,9606.ENSP00000351022,9606.ENSP00000357131,9606.ENSP00000361009,9606.ENSP00000376345,9606.ENSP00000378217,9606.ENSP00000380638,9606.ENSP00000385720,9606.ENSP00000417653,9606.ENSP00000428056\",\"9606.ENSP00000262494,9606.ENSP00000262613,9606.ENSP00000265441,9606.ENSP00000273047,9606.ENSP00000274063,9606.ENSP00000286827,9606.ENSP00000294304,9606.ENSP00000306490,9606.ENSP00000334448,9606.ENSP00000366233,9606.ENSP00000367888,9606.ENSP00000369390,9606.ENSP00000376609,9606.ENSP00000378332,9606.ENSP00000399511,9606.ENSP00000418754,9606.ENSP00000441691,9606.ENSP00000481878\",\"9606.ENSP00000262494,9606.ENSP00000262613,9606.ENSP00000265441,9606.ENSP00000273047,9606.ENSP00000274063,9606.ENSP00000286827,9606.ENSP00000294304,9606.ENSP00000334448,9606.ENSP00000367888,9606.ENSP00000369390,9606.ENSP00000376609,9606.ENSP00000378332,9606.ENSP00000399511,9606.ENSP00000418754,9606.ENSP00000481878\",\"9606.ENSP00000262494,9606.ENSP00000262613,9606.ENSP00000265441,9606.ENSP00000273047,9606.ENSP00000274063,9606.ENSP00000286827,9606.ENSP00000294304,9606.ENSP00000334448,9606.ENSP00000367888,9606.ENSP00000369390,9606.ENSP00000376609,9606.ENSP00000378332,9606.ENSP00000399511,9606.ENSP00000418754,9606.ENSP00000481878\",\"9606.ENSP00000262494,9606.ENSP00000267257,9606.ENSP00000286827,9606.ENSP00000296181,9606.ENSP00000312262,9606.ENSP00000312455,9606.ENSP00000320025,9606.ENSP00000339740,9606.ENSP00000347852,9606.ENSP00000351022,9606.ENSP00000360293,9606.ENSP00000384763\",\"9606.ENSP00000262613,9606.ENSP00000263816,9606.ENSP00000267101,9606.ENSP00000269571,9606.ENSP00000275493,9606.ENSP00000341189,9606.ENSP00000361263,9606.ENSP00000376345,9606.ENSP00000379350,9606.ENSP00000428056,9606.ENSP00000442600\",\"9606.ENSP00000262613,9606.ENSP00000275364,9606.ENSP00000276297,9606.ENSP00000300574,9606.ENSP00000341189,9606.ENSP00000351022,9606.ENSP00000357131,9606.ENSP00000366109,9606.ENSP00000380638,9606.ENSP00000380948,9606.ENSP00000385720,9606.ENSP00000400717,9606.ENSP00000442600,9606.ENSP00000452120\",\"9606.ENSP00000262948,9606.ENSP00000263025,9606.ENSP00000263431,9606.ENSP00000269571,9606.ENSP00000275493,9606.ENSP00000278568,9606.ENSP00000314067,9606.ENSP00000339740,9606.ENSP00000341189,9606.ENSP00000376317,9606.ENSP00000376609,9606.ENSP00000377867,9606.ENSP00000380638,9606.ENSP00000399511\",\"9606.ENSP00000263816,9606.ENSP00000265441,9606.ENSP00000274063,9606.ENSP00000276297,9606.ENSP00000326366,9606.ENSP00000332973,9606.ENSP00000341189,9606.ENSP00000346300,9606.ENSP00000351022,9606.ENSP00000360266,9606.ENSP00000387784,9606.ENSP00000417335,9606.ENSP00000420321\",\"9606.ENSP00000264657,9606.ENSP00000264710,9606.ENSP00000267257,9606.ENSP00000278568,9606.ENSP00000294304,9606.ENSP00000300574,9606.ENSP00000300935,9606.ENSP00000312455,9606.ENSP00000312734,9606.ENSP00000315768,9606.ENSP00000341189,9606.ENSP00000343027,9606.ENSP00000359719,9606.ENSP00000360293,9606.ENSP00000366109,9606.ENSP00000376345,9606.ENSP00000378217,9606.ENSP00000387784,9606.ENSP00000401303,9606.ENSP00000428056,9606.ENSP00000442600,9606.ENSP00000461945\",\"9606.ENSP00000264657,9606.ENSP00000264710,9606.ENSP00000267257,9606.ENSP00000278568,9606.ENSP00000300574,9606.ENSP00000300935,9606.ENSP00000312455,9606.ENSP00000312734,9606.ENSP00000341189,9606.ENSP00000359719,9606.ENSP00000360293,9606.ENSP00000376345,9606.ENSP00000378217,9606.ENSP00000387784,9606.ENSP00000401303,9606.ENSP00000428056,9606.ENSP00000461945\",\"9606.ENSP00000264657,9606.ENSP00000264908,9606.ENSP00000269571,9606.ENSP00000274063,9606.ENSP00000293379,9606.ENSP00000305355,9606.ENSP00000312455,9606.ENSP00000363827,9606.ENSP00000366109,9606.ENSP00000379350,9606.ENSP00000380638,9606.ENSP00000380948,9606.ENSP00000401303,9606.ENSP00000408695,9606.ENSP00000478059\",\"9606.ENSP00000264657,9606.ENSP00000264908,9606.ENSP00000269571,9606.ENSP00000274063,9606.ENSP00000293379,9606.ENSP00000305355,9606.ENSP00000363827,9606.ENSP00000366109,9606.ENSP00000379350,9606.ENSP00000380638,9606.ENSP00000380948,9606.ENSP00000401303,9606.ENSP00000408695,9606.ENSP00000478059\",\"9606.ENSP00000264657,9606.ENSP00000264908,9606.ENSP00000274063,9606.ENSP00000293379,9606.ENSP00000305355,9606.ENSP00000312455,9606.ENSP00000366109,9606.ENSP00000379350,9606.ENSP00000380638,9606.ENSP00000380948,9606.ENSP00000408695,9606.ENSP00000478059\",\"9606.ENSP00000264657,9606.ENSP00000264908,9606.ENSP00000274063,9606.ENSP00000293379,9606.ENSP00000305355,9606.ENSP00000366109,9606.ENSP00000379350,9606.ENSP00000380638,9606.ENSP00000380948,9606.ENSP00000408695,9606.ENSP00000478059\",\"9606.ENSP00000264657,9606.ENSP00000265441,9606.ENSP00000269571,9606.ENSP00000274063,9606.ENSP00000275493,9606.ENSP00000312455,9606.ENSP00000332973,9606.ENSP00000360266,9606.ENSP00000367408,9606.ENSP00000377836,9606.ENSP00000408695,9606.ENSP00000420321\",\"9606.ENSP00000264657,9606.ENSP00000275493,9606.ENSP00000312455,9606.ENSP00000312999,9606.ENSP00000332973,9606.ENSP00000358867,9606.ENSP00000376345,9606.ENSP00000378217,9606.ENSP00000380638,9606.ENSP00000380948,9606.ENSP00000401303,9606.ENSP00000441691\",\"9606.ENSP00000264710,9606.ENSP00000278568,9606.ENSP00000300935,9606.ENSP00000312455,9606.ENSP00000312734,9606.ENSP00000360293,9606.ENSP00000376345,9606.ENSP00000387784,9606.ENSP00000401303,9606.ENSP00000428056,9606.ENSP00000461945\",\"9606.ENSP00000264710,9606.ENSP00000278568,9606.ENSP00000300935,9606.ENSP00000312455,9606.ENSP00000312734,9606.ENSP00000360293,9606.ENSP00000376345,9606.ENSP00000387784,9606.ENSP00000401303,9606.ENSP00000428056,9606.ENSP00000461945\",\"9606.ENSP00000286827,9606.ENSP00000292385,9606.ENSP00000300574,9606.ENSP00000326366,9606.ENSP00000346300,9606.ENSP00000361009,9606.ENSP00000361467,9606.ENSP00000371532,9606.ENSP00000399511,9606.ENSP00000417653,9606.ENSP00000469689\",\"9606.ENSP00000301050,9606.ENSP00000320025,9606.ENSP00000339740,9606.ENSP00000346534,9606.ENSP00000364586,9606.ENSP00000376048,9606.ENSP00000377840,9606.ENSP00000384763,9606.ENSP00000419101,9606.ENSP00000438949,5691.EAN77713\",\"Activation of immune response\",\"Activation of protein kinase activity\",\"Adenylate cyclase-modulating g protein-coupled receptor signaling pathway\",\"Aging\",\"Ameboidal-type cell migration\",\"Angiogenesis\",\"Anterograde trans-synaptic signaling\",\"Antigen processing and presentation\",\"Antigen processing and presentation of exogenous antigen\",\"Antigen processing and presentation of exogenous peptide antigen\",\"Antigen processing and presentation of peptide antigen\",\"Apoptotic signaling pathway\",\"Autophagy\",\"Axon development\",\"Axon guidance\",\"Axonogenesis\",\"Blood coagulation\",\"Blood vessel morphogenesis\",\"Calcium ion homeostasis\",\"Calcium ion transmembrane transport\",\"Calcium ion transport\",\"Camera-type eye development\",\"Cell junction assembly\",\"Cell junction organization\",\"Cell morphogenesis involved in neuron differentiation\",\"Cell population proliferation\",\"Cell surface receptor signaling pathway involved in cell-cell signaling\",\"Cell-cell signaling by wnt\",\"Cell-matrix adhesion\",\"Cell-substrate adhesion\",\"Cellular calcium ion homeostasis\",\"Cellular divalent inorganic cation homeostasis\",\"Cellular response to abiotic stimulus\",\"Cellular response to chemical stress\",\"Cellular response to environmental stimulus\",\"Cellular response to external stimulus\",\"Cellular response to growth factor stimulus\",\"Cellular response to inorganic substance\",\"Cellular response to insulin stimulus\",\"Cellular response to metal ion\",\"Cellular response to oxidative stress\",\"Cellular response to peptide\",\"Cellular response to peptide hormone stimulus\",\"Cellular response to reactive oxygen species\",\"Chemical synaptic transmission\",\"Coagulation\",\"Cognition\",\"Divalent inorganic cation transport\",\"Divalent metal ion transport\",\"ERBB signaling pathway\",\"Endocytosis\",\"Endomembrane system organization\",\"Entry into host\",\"Epithelial tube morphogenesis\",\"Establishment of organelle localization\",\"Establishment or maintenance of cell polarity\",\"Exocytic process\",\"Extracellular matrix organization\",\"Extracellular structure organization\",\"Eye development\",\"Fc receptor signaling pathway\",\"Fc-epsilon receptor signaling pathway\",\"Forebrain development\",\"Formation of primary germ layer\",\"G protein-coupled receptor signaling pathway, coupled to cyclic nucleotide second messenger\",\"Gastrulation\",\"Gland development\",\"Glial cell differentiation\",\"Gliogenesis\",\"Golgi vesicle transport\",\"Heart morphogenesis\",\"Hemostasis\",\"Immune response-activating cell surface receptor signaling pathway\",\"Immune response-activating signal transduction\",\"Immune response-regulating cell surface receptor signaling pathway\",\"Immune response-regulating signaling pathway\",\"In utero embryonic development\",\"Integrin-mediated signaling pathway\",\"Interaction with host\",\"Learning or memory\",\"Leukocyte migration\",\"Lung development\",\"MAPK cascade\",\"Membrane docking\",\"Membrane fusion\",\"Memory\",\"Mesenchyme development\",\"Modulation of chemical synaptic transmission\",\"Morphogenesis of an epithelium\",\"Movement in host environment\",\"Multicellular organismal signaling\",\"Muscle system process\",\"Negative regulation of apoptotic signaling pathway\",\"Negative regulation of cell adhesion\",\"Negative regulation of cell development\",\"Negative regulation of cell migration\",\"Negative regulation of cell motility\",\"Negative regulation of cellular component movement\",\"Negative regulation of kinase activity\",\"Negative regulation of locomotion\",\"Negative regulation of nervous system development\",\"Negative regulation of neurogenesis\",\"Negative regulation of phosphorylation\",\"Negative regulation of protein kinase activity\",\"Negative regulation of protein phosphorylation\",\"Negative regulation of transferase activity\",\"Negative regulation of transport\",\"Neuron projection guidance\",\"Neuron projection morphogenesis\",\"Neurotransmitter secretion\",\"Neurotransmitter transport\",\"Neutrophil activation\",\"Neutrophil activation involved in immune response\",\"Neutrophil degranulation\",\"Neutrophil mediated immunity\",\"Organelle fusion\",\"Organelle localization by membrane tethering\",\"Organelle membrane fusion\",\"Peptidyl-serine modification\",\"Peptidyl-serine phosphorylation\",\"Phagocytosis\",\"Platelet activation\",\"Positive regulation of angiogenesis\",\"Positive regulation of catabolic process\",\"Positive regulation of cell adhesion\",\"Positive regulation of cell growth\",\"Positive regulation of cell morphogenesis involved in differentiation\",\"Positive regulation of cell projection organization\",\"Positive regulation of cell-substrate adhesion\",\"Positive regulation of cellular protein localization\",\"Positive regulation of cytosolic calcium ion concentration\",\"Positive regulation of erk1 and erk2 cascade\",\"Positive regulation of establishment of protein localization\",\"Positive regulation of growth\",\"Positive regulation of gtpase activity\",\"Positive regulation of intracellular protein transport\",\"Positive regulation of intracellular transport\",\"Positive regulation of ion transport\",\"Positive regulation of map kinase activity\",\"Positive regulation of neurogenesis\",\"Positive regulation of neuron differentiation\",\"Positive regulation of neuron projection development\",\"Positive regulation of protein catabolic process\",\"Positive regulation of protein localization to membrane\",\"Positive regulation of protein serine/threonine kinase activity\",\"Positive regulation of protein transport\",\"Positive regulation of secretion\",\"Positive regulation of secretion by cell\",\"Positive regulation of synaptic transmission\",\"Positive regulation of vasculature development\",\"Process utilizing autophagic mechanism\",\"Protein autophosphorylation\",\"Protein folding\",\"Protein localization to cell periphery\",\"Protein localization to plasma membrane\",\"Rab protein signal transduction\",\"Ras protein signal transduction\",\"Receptor metabolic process\",\"Receptor-mediated endocytosis\",\"Regulation of actin cytoskeleton organization\",\"Regulation of actin filament organization\",\"Regulation of actin filament-based process\",\"Regulation of amine transport\",\"Regulation of angiogenesis\",\"Regulation of apoptotic signaling pathway\",\"Regulation of axonogenesis\",\"Regulation of blood circulation\",\"Regulation of calcium ion transmembrane transport\",\"Regulation of calcium ion transport\",\"Regulation of cation channel activity\",\"Regulation of cation transmembrane transport\",\"Regulation of cell growth\",\"Regulation of cell morphogenesis involved in differentiation\",\"Regulation of cell shape\",\"Regulation of cell-substrate adhesion\",\"Regulation of cellular component size\",\"Regulation of cellular protein catabolic process\",\"Regulation of cellular response to growth factor stimulus\",\"Regulation of cytosolic calcium ion concentration\",\"Regulation of dendrite development\",\"Regulation of developmental growth\",\"Regulation of dna-binding transcription factor activity\",\"Regulation of epithelial cell proliferation\",\"Regulation of erk1 and erk2 cascade\",\"Regulation of exocytosis\",\"Regulation of heart contraction\",\"Regulation of hormone secretion\",\"Regulation of insulin secretion\",\"Regulation of intracellular protein transport\",\"Regulation of intracellular transport\",\"Regulation of ion transmembrane transport\",\"Regulation of ion transmembrane transporter activity\",\"Regulation of jnk cascade\",\"Regulation of leukocyte proliferation\",\"Regulation of map kinase activity\",\"Regulation of membrane potential\",\"Regulation of metal ion transport\",\"Regulation of neuron death\",\"Regulation of neurotransmitter levels\",\"Regulation of neurotransmitter transport\",\"Regulation of peptide hormone secretion\",\"Regulation of peptide secretion\",\"Regulation of peptidyl-tyrosine phosphorylation\",\"Regulation of protein catabolic process\",\"Regulation of protein kinase b signaling\",\"Regulation of protein localization to membrane\",\"Regulation of protein secretion\",\"Regulation of ras protein signal transduction\",\"Regulation of reactive oxygen species metabolic process\",\"Regulation of regulated secretory pathway\",\"Regulation of response to wounding\",\"Regulation of small gtpase mediated signal transduction\",\"Regulation of stress-activated mapk cascade\",\"Regulation of stress-activated protein kinase signaling cascade\",\"Regulation of supramolecular fiber organization\",\"Regulation of synaptic plasticity\",\"Regulation of synaptic vesicle cycle\",\"Regulation of trans-synaptic signaling\",\"Regulation of transmembrane transporter activity\",\"Regulation of transporter activity\",\"Regulation of vasculature development\",\"Regulation of wnt signaling pathway\",\"Regulation of wound healing\",\"Reproductive structure development\",\"Reproductive system development\",\"Respiratory system development\",\"Respiratory tube development\",\"Response to calcium ion\",\"Response to insulin\",\"Response to metal ion\",\"Response to oxidative stress\",\"Response to peptide\",\"Response to peptide hormone\",\"Response to reactive oxygen species\",\"Sensory organ morphogenesis\",\"Sensory system development\",\"Signal release\",\"Signal release from synapse\",\"Signal transduction by protein phosphorylation\",\"Small gtpase mediated signal transduction\",\"Stress-activated protein kinase signaling cascade\",\"Synapse organization\",\"Synaptic signaling\",\"Synaptic vesicle cycle\",\"Telencephalon development\",\"Trans-synaptic signaling\",\"Vesicle fusion\",\"Vesicle organization\",\"Vesicle-mediated transport in synapse\",\"Viral life cycle\",\"Visual system development\",\"Wnt signaling pathway\",\"Wound healing\"],\"name\":\"\",\"parents\":[\"Sensory organ morphogenesis\",\"Regulation of cellular component size\",\"Eye development\",\"Sensory system development\",\"Visual system development\",\"Camera-type eye development\",\"Cell junction organization\",\"Cell-substrate adhesion\",\"Extracellular matrix organization\",\"Extracellular structure organization\",\"Integrin-mediated signaling pathway\",\"Gastrulation\",\"Formation of primary germ layer\",\"Cell-matrix adhesion\",\"Leukocyte migration\",\"Respiratory tube development\",\"Lung development\",\"Respiratory system development\",\"Cognition\",\"Learning or memory\",\"Positive regulation of cellular protein localization\",\"Synapse organization\",\"Memory\",\"Positive regulation of neurogenesis\",\"Positive regulation of cell projection organization\",\"Positive regulation of neuron differentiation\",\"Positive regulation of neuron projection development\",\"Regulation of wnt signaling pathway\",\"Regulation of protein localization to membrane\",\"Positive regulation of protein localization to membrane\",\"Regulation of cell-substrate adhesion\",\"Regulation of cellular response to growth factor stimulus\",\"Positive regulation of cell adhesion\",\"Regulation of small gtpase mediated signal transduction\",\"Regulation of ras protein signal transduction\",\"Positive regulation of cell-substrate adhesion\",\"Vesicle organization\",\"Membrane fusion\",\"Organelle fusion\",\"Organelle membrane fusion\",\"Vesicle fusion\",\"Cellular response to inorganic substance\",\"Response to metal ion\",\"Cellular response to metal ion\",\"Regulation of exocytosis\",\"Regulation of regulated secretory pathway\",\"Regulation of amine transport\",\"Response to calcium ion\",\"Regulation of leukocyte proliferation\",\"Regulation of peptide secretion\",\"Regulation of protein secretion\",\"Negative regulation of transport\",\"Autophagy\",\"Process utilizing autophagic mechanism\",\"Cell junction assembly\",\"Neutrophil activation\",\"Neutrophil activation involved in immune response\",\"Neutrophil degranulation\",\"Neutrophil mediated immunity\",\"Synaptic signaling\",\"Trans-synaptic signaling\",\"Anterograde trans-synaptic signaling\",\"Chemical synaptic transmission\",\"Regulation of neurotransmitter levels\",\"Signal release\",\"Neurotransmitter transport\",\"Neurotransmitter secretion\",\"Signal release from synapse\",\"Vesicle-mediated transport in synapse\",\"Synaptic vesicle cycle\",\"Exocytic process\",\"Establishment of organelle localization\",\"Membrane docking\",\"Organelle localization by membrane tethering\",\"Positive regulation of protein serine/threonine kinase activity\",\"Aging\",\"Positive regulation of establishment of protein localization\",\"Positive regulation of protein transport\",\"Regulation of map kinase activity\",\"Positive regulation of map kinase activity\",\"Positive regulation of secretion\",\"Positive regulation of secretion by cell\",\"Regulation of erk1 and erk2 cascade\",\"Negative regulation of locomotion\",\"Negative regulation of cell motility\",\"Negative regulation of cellular component movement\",\"Negative regulation of cell migration\",\"Positive regulation of erk1 and erk2 cascade\",\"Regulation of apoptotic signaling pathway\",\"Negative regulation of apoptotic signaling pathway\",\"Positive regulation of ion transport\",\"Regulation of peptidyl-tyrosine phosphorylation\",\"Modulation of chemical synaptic transmission\",\"Regulation of trans-synaptic signaling\",\"Regulation of synaptic plasticity\",\"Cell morphogenesis involved in neuron differentiation\",\"Neuron projection morphogenesis\",\"Axon development\",\"Axonogenesis\",\"Wound healing\",\"Cellular response to growth factor stimulus\",\"Cell population proliferation\",\"Positive regulation of synaptic transmission\",\"Endocytosis\",\"Regulation of developmental growth\",\"Positive regulation of growth\",\"Phagocytosis\",\"Gliogenesis\",\"Glial cell differentiation\",\"Axon guidance\",\"Neuron projection guidance\",\"Activation of protein kinase activity\",\"Regulation of stress-activated mapk cascade\",\"Regulation of stress-activated protein kinase signaling cascade\",\"Regulation of dna-binding transcription factor activity\",\"Response to oxidative stress\",\"Cellular response to chemical stress\",\"Response to reactive oxygen species\",\"Cellular response to oxidative stress\",\"Cellular response to reactive oxygen species\",\"Mesenchyme development\",\"Gland development\",\"In utero embryonic development\",\"Regulation of intracellular transport\",\"Positive regulation of intracellular transport\",\"Positive regulation of intracellular protein transport\",\"Regulation of intracellular protein transport\",\"Signal transduction by protein phosphorylation\",\"MAPK cascade\",\"Peptidyl-serine modification\",\"Peptidyl-serine phosphorylation\",\"Stress-activated protein kinase signaling cascade\",\"Blood coagulation\",\"Coagulation\",\"Hemostasis\",\"Platelet activation\",\"Reproductive structure development\",\"Reproductive system development\",\"Cellular response to external stimulus\",\"Immune response-regulating cell surface receptor signaling pathway\",\"Immune response-regulating signaling pathway\",\"Activation of immune response\",\"Immune response-activating cell surface receptor signaling pathway\",\"Immune response-activating signal transduction\",\"Fc receptor signaling pathway\",\"Fc-epsilon receptor signaling pathway\",\"ERBB signaling pathway\",\"Small gtpase mediated signal transduction\",\"Ras protein signal transduction\",\"Rab protein signal transduction\",\"Protein localization to cell periphery\",\"Regulation of response to wounding\",\"Endomembrane system organization\",\"Protein localization to plasma membrane\",\"Regulation of neurotransmitter transport\",\"Regulation of synaptic vesicle cycle\",\"Regulation of wound healing\",\"Protein folding\",\"Antigen processing and presentation\",\"Cellular response to abiotic stimulus\",\"Cellular response to environmental stimulus\",\"G protein-coupled receptor signaling pathway, coupled to cyclic nucleotide second messenger\",\"Adenylate cyclase-modulating g protein-coupled receptor signaling pathway\",\"Calcium ion homeostasis\",\"Cellular calcium ion homeostasis\",\"Cellular divalent inorganic cation homeostasis\",\"Regulation of cytosolic calcium ion concentration\",\"Calcium ion transport\",\"Divalent inorganic cation transport\",\"Divalent metal ion transport\",\"Calcium ion transmembrane transport\",\"Regulation of membrane potential\",\"Regulation of blood circulation\",\"Regulation of heart contraction\",\"Establishment or maintenance of cell polarity\",\"Receptor-mediated endocytosis\",\"Regulation of neuron death\",\"Receptor metabolic process\",\"Regulation of hormone secretion\",\"Regulation of peptide hormone secretion\",\"Regulation of insulin secretion\",\"Negative regulation of cell development\",\"Negative regulation of nervous system development\",\"Negative regulation of neurogenesis\",\"Regulation of cell growth\",\"Positive regulation of cell growth\",\"Positive regulation of catabolic process\",\"Regulation of protein catabolic process\",\"Positive regulation of protein catabolic process\",\"Blood vessel morphogenesis\",\"Positive regulation of cytosolic calcium ion concentration\",\"Regulation of actin filament-based process\",\"Regulation of actin cytoskeleton organization\",\"Regulation of cellular protein catabolic process\",\"Forebrain development\",\"Response to peptide\",\"Cellular response to peptide\",\"Telencephalon development\",\"Negative regulation of cell adhesion\",\"Regulation of cell morphogenesis involved in differentiation\",\"Positive regulation of cell morphogenesis involved in differentiation\",\"Regulation of axonogenesis\",\"Antigen processing and presentation of exogenous antigen\",\"Antigen processing and presentation of exogenous peptide antigen\",\"Antigen processing and presentation of peptide antigen\",\"Apoptotic signaling pathway\",\"Regulation of jnk cascade\",\"Golgi vesicle transport\",\"Regulation of ion transmembrane transport\",\"Morphogenesis of an epithelium\",\"Epithelial tube morphogenesis\",\"Ameboidal-type cell migration\",\"Negative regulation of phosphorylation\",\"Negative regulation of protein phosphorylation\",\"Negative regulation of kinase activity\",\"Negative regulation of protein kinase activity\",\"Negative regulation of transferase activity\",\"Viral life cycle\",\"Interaction with host\",\"Movement in host environment\",\"Entry into host\",\"Angiogenesis\",\"Regulation of metal ion transport\",\"Regulation of cation transmembrane transport\",\"Regulation of transporter activity\",\"Regulation of ion transmembrane transporter activity\",\"Regulation of transmembrane transporter activity\",\"Positive regulation of gtpase activity\",\"Regulation of calcium ion transport\",\"Regulation of calcium ion transmembrane transport\",\"Regulation of cation channel activity\",\"Regulation of supramolecular fiber organization\",\"Regulation of actin filament organization\",\"Cell surface receptor signaling pathway involved in cell-cell signaling\",\"Cell-cell signaling by wnt\",\"Wnt signaling pathway\",\"Muscle system process\",\"Regulation of protein kinase b signaling\",\"Regulation of cell shape\",\"Protein autophosphorylation\",\"Heart morphogenesis\",\"Response to peptide hormone\",\"Cellular response to peptide hormone stimulus\",\"Regulation of vasculature development\",\"Regulation of angiogenesis\",\"Positive regulation of vasculature development\",\"Positive regulation of angiogenesis\",\"Regulation of epithelial cell proliferation\",\"Regulation of reactive oxygen species metabolic process\",\"Cellular response to insulin stimulus\",\"Response to insulin\",\"Regulation of dendrite development\",\"Multicellular organismal signaling\",\"\",\"\",\"\",\"\",\"\",\"\",\"\",\"\",\"\",\"\",\"\",\"\",\"\",\"\",\"\",\"\",\"\",\"\",\"\",\"\",\"\",\"\",\"\",\"\",\"\",\"\",\"\",\"\",\"\",\"\",\"\",\"\",\"\",\"\",\"\",\"\",\"\",\"\",\"\",\"\",\"\",\"\",\"\",\"\",\"\",\"\",\"\",\"\",\"\",\"\",\"\",\"\",\"\",\"\",\"\",\"\",\"\",\"\",\"\",\"\",\"\",\"\",\"\",\"\",\"\",\"\",\"\",\"\",\"\",\"\",\"\",\"\",\"\",\"\",\"\",\"\",\"\",\"\",\"\",\"\",\"\",\"\",\"\",\"\",\"\",\"\",\"\",\"\",\"\",\"\",\"\",\"\",\"\",\"\",\"\",\"\",\"\",\"\",\"\",\"\",\"\",\"\",\"\",\"\",\"\",\"\",\"\",\"\",\"\",\"\",\"\",\"\",\"\",\"\",\"\",\"\",\"\",\"\",\"\",\"\",\"\",\"\",\"\",\"\",\"\",\"\",\"\",\"\",\"\",\"\",\"\",\"\",\"\",\"\",\"\",\"\",\"\",\"\",\"\",\"\",\"\",\"\",\"\",\"\",\"\",\"\",\"\",\"\",\"\",\"\",\"\",\"\",\"\",\"\",\"\",\"\",\"\",\"\",\"\",\"\",\"\",\"\",\"\",\"\",\"\",\"\",\"\",\"\",\"\",\"\",\"\",\"\",\"\",\"\",\"\",\"\",\"\",\"\",\"\",\"\",\"\",\"\",\"\",\"\",\"\",\"\",\"\",\"\",\"\",\"\",\"\",\"\",\"\",\"\",\"\",\"\",\"\",\"\",\"\",\"\",\"\",\"\",\"\",\"\",\"\",\"\",\"\",\"\",\"\",\"\",\"\",\"\",\"\",\"\",\"\",\"\",\"\",\"\",\"\",\"\",\"\",\"\",\"\",\"\",\"\",\"\",\"\",\"\",\"\",\"\",\"\",\"\",\"\",\"\",\"\",\"\",\"\",\"\",\"\",\"\",\"\",\"\",\"\",\"\",\"\",\"\",\"\",\"\",\"\",\"\",\"\",\"\",\"\"],\"values\":[2.8614647049099027,3.402482269503546,2.846773303916161,2.797817882087545,2.846773303916161,2.5825475228259243,4.520562464669305,7.9460363286418865,4.510230545753793,4.4957864121112685,13.893063009342079,5.940166902849945,6.953720803910918,8.311844792375766,4.32733874694659,4.918857789086797,4.577875026902934,3.907273396295842,5.3815192743764175,6.034875610323181,4.683009444691688,4.585701650943396,7.265787647467037,4.130145820644191,4.478608695652174,4.0070391259936935,5.370386818847981,2.601555747623163,6.746503798342541,8.095490716180372,5.4915361493434585,3.213387087550752,3.731326445790286,6.321006439692416,5.140236686390533,6.45846091725832,4.406381020554249,6.575467316846627,8.78389256550176,11.020272564139871,12.09653043848446,6.365633149811649,3.6395499108734404,6.087680112118425,7.98408376544075,7.342720033749934,10.13489226012175,6.2874118496307405,3.5287531806615777,4.089074373987791,4.238188976377953,2.8260343309859155,3.073535851122058,3.073535851122058,3.4866897147796023,4.314338042909472,4.223259102156239,4.261303665668236,4.158249334099336,5.818234893451396,4.953774761738436,4.988626203397584,4.988626203397584,7.204459561602419,5.918732430360337,8.140802092414996,10.688461538461539,10.688461538461539,8.782440825919087,7.401187446988974,12.140180430256766,2.5895873552123554,6.018968429258153,5.887353518932466,5.170382127311642,3.300905741254532,3.5773031000109543,3.748148148148148,6.043761919100673,6.692129032258064,3.9113103778096603,4.028836171096345,4.1552882914750615,3.376682667223208,3.513410740203193,3.118378936499742,3.4483371647509578,4.412111971225272,3.4633555420956994,3.2668790463467268,3.434430882770366,4.435902364020757,5.245785849952517,5.232900099673348,5.286962190352021,5.03157110361597,5.773662099453582,5.146876618667772,5.000806451612903,5.144995791414486,3.1569141781006187,2.83564238014552,6.476582604220278,6.495046557228947,2.9002884615384614,3.944608275316937,8.05775075987842,5.072400175515577,5.250412167653547,5.6047122035573125,5.582581012288338,6.012846088081198,5.072400175515577,5.000757166035695,2.523485978382957,3.22687660922955,4.545098039215686,6.108825233876977,4.213685474189676,7.508738461538462,3.9755725190839692,2.5158594399100727,2.5080050031269545,3.26019867771175,4.7375610111459165,5.034705515459325,3.3530569345677357,5.602160216021602,4.287297675781886,4.363551401869159,4.921538461538462,6.747039291643608,3.4720881595881594,3.4477433098122754,3.411849196832132,6.493018059951592,2.2574572127139363,2.2350717079530638,2.6085707807421965,4.39716631194892,4.356189144895401,3.0884579597360853,3.6278018657206674,3.6278018657206674,6.217646217646218,7.020985668324071,13.821005527770465,9.08188385662684,11.51179155572461,18.8447848128573,4.440496121912051,5.556194125159642,3.1870218350365778,4.301629874148958,7.401187446988974,7.089556646609325,6.237595419847328,3.194686756542427,5.680856801633471,3.0763627101375444,3.0763627101375444,4.511497622304736,4.80639559586928,3.0047806524184475,3.0969318490361117,2.8856746983880233,3.0415999623316696,5.649497370140986,4.4957864121112685,4.613948744103022,5.569264478108118,3.0234736548647896,3.0624207469219127,3.376644469709274,3.8038938546373897,8.58399209486166,2.808153657376105,8.602314700812608,3.960428525645917,4.649253731343284,4.68522676246071,2.4833645398242834,3.1077694880370466,2.619523888245991,3.521093413689195,4.949694182352662,2.2991474549765423,2.5735683315502,3.0315318898452044,3.660068890537204,2.997356722335696,3.5375355567465063,3.7593582887700534,2.6292015209125474,2.8640493456697507,3.970620842572062,4.5988460023130795,3.2236082666170174,2.688778322755735,3.8959509169864943,4.921231117048608,4.523941707147814,4.253685544660129,4.464508152744408,4.038910012674271,3.421606334841629,5.094523326572008,3.014296875,4.139545948275088,4.19335880105789,3.6785210048216523,5.416044061302682,2.7661099137931036,2.666044957354627,2.919998773457623,3.1657396184435553,2.517520965540997,4.1872237846524705,5.425455678454588,8.33206106870229,7.942221854852042,3.578439760441783,2.645917193789534,3.328938153541501,4.045517039637268,3.7889305816135086,3.6533031674208143,4.203856992763229,3.5491067909118144,5.094764551038315,4.3830683952540195,3.779967448203053,4.298118837950908,2.7148878386004514,2.9678019856591287,2.9678019856591287,2.756549724712078,3.3587874947190537,6.650572831423895,5.2272883541039965,3.624714253517499,4.017979488488872,4.522369695944387,3.099354900597137,3.205888594164456,4.498123948764394,4.607113635269769,2.4062558182833738,4.523941707147814,4.577875026902934,3.28185055829878,5.023915038678379,5.7418939552708,3.0884579597360853,6.012846088081198,4.80639559586928,3.300905741254532,5.416044061302682,3.578439760441783,4.988626203397584,5.680856801633471,4.253685544660129,4.464508152744408,4.038910012674271,3.421606334841629,3.073535851122058,5.146876618667772,5.6047122035573125,5.000806451612903,3.4720881595881594,3.660068890537204,3.0047806524184475,5.569264478108118,5.649497370140986,2.5825475228259243,3.4866897147796023,4.520562464669305,5.03157110361597,2.83564238014552,2.7148878386004514,2.9678019856591287,8.311844792375766,7.9460363286418865,3.0969318490361117,2.8856746983880233,3.0763627101375444,4.545098039215686,3.0763627101375444,2.6085707807421965,3.1569141781006187,6.365633149811649,4.577875026902934,6.087680112118425,4.213685474189676,4.5988460023130795,4.522369695944387,7.508738461538462,4.988626203397584,3.4477433098122754,5.3815192743764175,4.4957864121112685,4.613948744103022,13.821005527770465,6.495046557228947,3.1870218350365778,7.942221854852042,3.6785210048216523,2.5895873552123554,3.8038938546373897,12.140180430256766,4.510230545753793,4.4957864121112685,2.846773303916161,6.217646217646218,7.020985668324071,2.8640493456697507,6.953720803910918,4.511497622304736,5.940166902849945,2.5158594399100727,5.250412167653547,5.072400175515577,3.014296875,3.624714253517499,3.411849196832132,3.6278018657206674,3.6278018657206674,4.39716631194892,4.356189144895401,2.5080050031269545,13.893063009342079,5.425455678454588,6.034875610323181,4.32733874694659,4.577875026902934,4.287297675781886,6.018968429258153,6.575467316846627,7.265787647467037,3.9755725190839692,5.245785849952517,4.19335880105789,8.33206106870229,5.7418939552708,2.756549724712078,3.2668790463467268,2.688778322755735,2.4833645398242834,3.4483371647509578,3.513410740203193,3.118378936499742,2.919998773457623,3.376682667223208,3.1077694880370466,2.619523888245991,2.7661099137931036,3.1657396184435553,2.666044957354627,2.517520965540997,2.8260343309859155,5.582581012288338,5.773662099453582,10.688461538461539,8.140802092414996,4.314338042909472,4.223259102156239,4.261303665668236,4.158249334099336,8.78389256550176,5.887353518932466,11.020272564139871,4.363551401869159,4.921538461538462,8.05775075987842,6.493018059951592,4.607113635269769,2.2991474549765423,3.731326445790286,4.949694182352662,4.921231117048608,4.478608695652174,6.45846091725832,4.683009444691688,2.997356722335696,4.412111971225272,3.5773031000109543,3.944608275316937,4.203856992763229,5.034705515459325,4.7375610111459165,3.434430882770366,6.692129032258064,4.130145820644191,4.0070391259936935,5.370386818847981,3.0315318898452044,8.095490716180372,5.170382127311642,3.748148148148148,3.9113103778096603,4.028836171096345,6.476582604220278,4.498123948764394,3.073535851122058,5.2272883541039965,3.194686756542427,4.440496121912051,4.301629874148958,18.8447848128573,11.51179155572461,8.602314700812608,8.58399209486166,3.7593582887700534,4.298118837950908,3.5375355567465063,10.13489226012175,3.205888594164456,3.4633555420956994,4.523941707147814,3.0624207469219127,5.094764551038315,3.5491067909118144,4.3830683952540195,3.328938153541501,3.521093413689195,3.8959509169864943,6.650572831423895,5.4915361493434585,3.402482269503546,2.6292015209125474,3.213387087550752,3.0415999623316696,5.023915038678379,2.9002884615384614,2.523485978382957,2.4062558182833738,4.1552882914750615,7.98408376544075,3.376644469709274,3.960428525645917,4.68522676246071,3.3530569345677357,3.26019867771175,4.139545948275088,3.7889305816135086,5.094523326572008,3.5287531806615777,6.043761919100673,3.0234736548647896,2.645917193789534,2.808153657376105,7.204459561602419,7.401187446988974,4.649253731343284,4.089074373987791,4.435902364020757,2.5735683315502,3.3587874947190537,6.746503798342541,4.238188976377953,5.140236686390533,4.523941707147814,7.342720033749934,5.556194125159642,6.321006439692416,5.072400175515577,5.000757166035695,3.779967448203053,5.286962190352021,7.089556646609325,5.232900099673348,3.6533031674208143,4.045517039637268,3.099354900597137,2.601555747623163,6.237595419847328,2.2574572127139363,2.2350717079530638,3.907273396295842,4.918857789086797,6.2874118496307405,3.28185055829878,3.6395499108734404,3.22687660922955,3.970620842572062,4.017979488488872,6.108825233876977,2.8614647049099027,2.797817882087545,5.918732430360337,10.688461538461539,5.602160216021602,9.08188385662684,6.747039291643608,4.585701650943396,5.818234893451396,7.401187446988974,3.2236082666170174,4.953774761738436,12.09653043848446,4.406381020554249,8.782440825919087,4.1872237846524705,2.846773303916161,2.9678019856591287,5.144995791414486],\"type\":\"treemap\"}],                        {\"template\":{\"data\":{\"histogram2dcontour\":[{\"type\":\"histogram2dcontour\",\"colorbar\":{\"outlinewidth\":0,\"ticks\":\"\"},\"colorscale\":[[0.0,\"#0d0887\"],[0.1111111111111111,\"#46039f\"],[0.2222222222222222,\"#7201a8\"],[0.3333333333333333,\"#9c179e\"],[0.4444444444444444,\"#bd3786\"],[0.5555555555555556,\"#d8576b\"],[0.6666666666666666,\"#ed7953\"],[0.7777777777777778,\"#fb9f3a\"],[0.8888888888888888,\"#fdca26\"],[1.0,\"#f0f921\"]]}],\"choropleth\":[{\"type\":\"choropleth\",\"colorbar\":{\"outlinewidth\":0,\"ticks\":\"\"}}],\"histogram2d\":[{\"type\":\"histogram2d\",\"colorbar\":{\"outlinewidth\":0,\"ticks\":\"\"},\"colorscale\":[[0.0,\"#0d0887\"],[0.1111111111111111,\"#46039f\"],[0.2222222222222222,\"#7201a8\"],[0.3333333333333333,\"#9c179e\"],[0.4444444444444444,\"#bd3786\"],[0.5555555555555556,\"#d8576b\"],[0.6666666666666666,\"#ed7953\"],[0.7777777777777778,\"#fb9f3a\"],[0.8888888888888888,\"#fdca26\"],[1.0,\"#f0f921\"]]}],\"heatmap\":[{\"type\":\"heatmap\",\"colorbar\":{\"outlinewidth\":0,\"ticks\":\"\"},\"colorscale\":[[0.0,\"#0d0887\"],[0.1111111111111111,\"#46039f\"],[0.2222222222222222,\"#7201a8\"],[0.3333333333333333,\"#9c179e\"],[0.4444444444444444,\"#bd3786\"],[0.5555555555555556,\"#d8576b\"],[0.6666666666666666,\"#ed7953\"],[0.7777777777777778,\"#fb9f3a\"],[0.8888888888888888,\"#fdca26\"],[1.0,\"#f0f921\"]]}],\"heatmapgl\":[{\"type\":\"heatmapgl\",\"colorbar\":{\"outlinewidth\":0,\"ticks\":\"\"},\"colorscale\":[[0.0,\"#0d0887\"],[0.1111111111111111,\"#46039f\"],[0.2222222222222222,\"#7201a8\"],[0.3333333333333333,\"#9c179e\"],[0.4444444444444444,\"#bd3786\"],[0.5555555555555556,\"#d8576b\"],[0.6666666666666666,\"#ed7953\"],[0.7777777777777778,\"#fb9f3a\"],[0.8888888888888888,\"#fdca26\"],[1.0,\"#f0f921\"]]}],\"contourcarpet\":[{\"type\":\"contourcarpet\",\"colorbar\":{\"outlinewidth\":0,\"ticks\":\"\"}}],\"contour\":[{\"type\":\"contour\",\"colorbar\":{\"outlinewidth\":0,\"ticks\":\"\"},\"colorscale\":[[0.0,\"#0d0887\"],[0.1111111111111111,\"#46039f\"],[0.2222222222222222,\"#7201a8\"],[0.3333333333333333,\"#9c179e\"],[0.4444444444444444,\"#bd3786\"],[0.5555555555555556,\"#d8576b\"],[0.6666666666666666,\"#ed7953\"],[0.7777777777777778,\"#fb9f3a\"],[0.8888888888888888,\"#fdca26\"],[1.0,\"#f0f921\"]]}],\"surface\":[{\"type\":\"surface\",\"colorbar\":{\"outlinewidth\":0,\"ticks\":\"\"},\"colorscale\":[[0.0,\"#0d0887\"],[0.1111111111111111,\"#46039f\"],[0.2222222222222222,\"#7201a8\"],[0.3333333333333333,\"#9c179e\"],[0.4444444444444444,\"#bd3786\"],[0.5555555555555556,\"#d8576b\"],[0.6666666666666666,\"#ed7953\"],[0.7777777777777778,\"#fb9f3a\"],[0.8888888888888888,\"#fdca26\"],[1.0,\"#f0f921\"]]}],\"mesh3d\":[{\"type\":\"mesh3d\",\"colorbar\":{\"outlinewidth\":0,\"ticks\":\"\"}}],\"scatter\":[{\"fillpattern\":{\"fillmode\":\"overlay\",\"size\":10,\"solidity\":0.2},\"type\":\"scatter\"}],\"parcoords\":[{\"type\":\"parcoords\",\"line\":{\"colorbar\":{\"outlinewidth\":0,\"ticks\":\"\"}}}],\"scatterpolargl\":[{\"type\":\"scatterpolargl\",\"marker\":{\"colorbar\":{\"outlinewidth\":0,\"ticks\":\"\"}}}],\"bar\":[{\"error_x\":{\"color\":\"#2a3f5f\"},\"error_y\":{\"color\":\"#2a3f5f\"},\"marker\":{\"line\":{\"color\":\"#E5ECF6\",\"width\":0.5},\"pattern\":{\"fillmode\":\"overlay\",\"size\":10,\"solidity\":0.2}},\"type\":\"bar\"}],\"scattergeo\":[{\"type\":\"scattergeo\",\"marker\":{\"colorbar\":{\"outlinewidth\":0,\"ticks\":\"\"}}}],\"scatterpolar\":[{\"type\":\"scatterpolar\",\"marker\":{\"colorbar\":{\"outlinewidth\":0,\"ticks\":\"\"}}}],\"histogram\":[{\"marker\":{\"pattern\":{\"fillmode\":\"overlay\",\"size\":10,\"solidity\":0.2}},\"type\":\"histogram\"}],\"scattergl\":[{\"type\":\"scattergl\",\"marker\":{\"colorbar\":{\"outlinewidth\":0,\"ticks\":\"\"}}}],\"scatter3d\":[{\"type\":\"scatter3d\",\"line\":{\"colorbar\":{\"outlinewidth\":0,\"ticks\":\"\"}},\"marker\":{\"colorbar\":{\"outlinewidth\":0,\"ticks\":\"\"}}}],\"scattermapbox\":[{\"type\":\"scattermapbox\",\"marker\":{\"colorbar\":{\"outlinewidth\":0,\"ticks\":\"\"}}}],\"scatterternary\":[{\"type\":\"scatterternary\",\"marker\":{\"colorbar\":{\"outlinewidth\":0,\"ticks\":\"\"}}}],\"scattercarpet\":[{\"type\":\"scattercarpet\",\"marker\":{\"colorbar\":{\"outlinewidth\":0,\"ticks\":\"\"}}}],\"carpet\":[{\"aaxis\":{\"endlinecolor\":\"#2a3f5f\",\"gridcolor\":\"white\",\"linecolor\":\"white\",\"minorgridcolor\":\"white\",\"startlinecolor\":\"#2a3f5f\"},\"baxis\":{\"endlinecolor\":\"#2a3f5f\",\"gridcolor\":\"white\",\"linecolor\":\"white\",\"minorgridcolor\":\"white\",\"startlinecolor\":\"#2a3f5f\"},\"type\":\"carpet\"}],\"table\":[{\"cells\":{\"fill\":{\"color\":\"#EBF0F8\"},\"line\":{\"color\":\"white\"}},\"header\":{\"fill\":{\"color\":\"#C8D4E3\"},\"line\":{\"color\":\"white\"}},\"type\":\"table\"}],\"barpolar\":[{\"marker\":{\"line\":{\"color\":\"#E5ECF6\",\"width\":0.5},\"pattern\":{\"fillmode\":\"overlay\",\"size\":10,\"solidity\":0.2}},\"type\":\"barpolar\"}],\"pie\":[{\"automargin\":true,\"type\":\"pie\"}]},\"layout\":{\"autotypenumbers\":\"strict\",\"colorway\":[\"#636efa\",\"#EF553B\",\"#00cc96\",\"#ab63fa\",\"#FFA15A\",\"#19d3f3\",\"#FF6692\",\"#B6E880\",\"#FF97FF\",\"#FECB52\"],\"font\":{\"color\":\"#2a3f5f\"},\"hovermode\":\"closest\",\"hoverlabel\":{\"align\":\"left\"},\"paper_bgcolor\":\"white\",\"plot_bgcolor\":\"#E5ECF6\",\"polar\":{\"bgcolor\":\"#E5ECF6\",\"angularaxis\":{\"gridcolor\":\"white\",\"linecolor\":\"white\",\"ticks\":\"\"},\"radialaxis\":{\"gridcolor\":\"white\",\"linecolor\":\"white\",\"ticks\":\"\"}},\"ternary\":{\"bgcolor\":\"#E5ECF6\",\"aaxis\":{\"gridcolor\":\"white\",\"linecolor\":\"white\",\"ticks\":\"\"},\"baxis\":{\"gridcolor\":\"white\",\"linecolor\":\"white\",\"ticks\":\"\"},\"caxis\":{\"gridcolor\":\"white\",\"linecolor\":\"white\",\"ticks\":\"\"}},\"coloraxis\":{\"colorbar\":{\"outlinewidth\":0,\"ticks\":\"\"}},\"colorscale\":{\"sequential\":[[0.0,\"#0d0887\"],[0.1111111111111111,\"#46039f\"],[0.2222222222222222,\"#7201a8\"],[0.3333333333333333,\"#9c179e\"],[0.4444444444444444,\"#bd3786\"],[0.5555555555555556,\"#d8576b\"],[0.6666666666666666,\"#ed7953\"],[0.7777777777777778,\"#fb9f3a\"],[0.8888888888888888,\"#fdca26\"],[1.0,\"#f0f921\"]],\"sequentialminus\":[[0.0,\"#0d0887\"],[0.1111111111111111,\"#46039f\"],[0.2222222222222222,\"#7201a8\"],[0.3333333333333333,\"#9c179e\"],[0.4444444444444444,\"#bd3786\"],[0.5555555555555556,\"#d8576b\"],[0.6666666666666666,\"#ed7953\"],[0.7777777777777778,\"#fb9f3a\"],[0.8888888888888888,\"#fdca26\"],[1.0,\"#f0f921\"]],\"diverging\":[[0,\"#8e0152\"],[0.1,\"#c51b7d\"],[0.2,\"#de77ae\"],[0.3,\"#f1b6da\"],[0.4,\"#fde0ef\"],[0.5,\"#f7f7f7\"],[0.6,\"#e6f5d0\"],[0.7,\"#b8e186\"],[0.8,\"#7fbc41\"],[0.9,\"#4d9221\"],[1,\"#276419\"]]},\"xaxis\":{\"gridcolor\":\"white\",\"linecolor\":\"white\",\"ticks\":\"\",\"title\":{\"standoff\":15},\"zerolinecolor\":\"white\",\"automargin\":true,\"zerolinewidth\":2},\"yaxis\":{\"gridcolor\":\"white\",\"linecolor\":\"white\",\"ticks\":\"\",\"title\":{\"standoff\":15},\"zerolinecolor\":\"white\",\"automargin\":true,\"zerolinewidth\":2},\"scene\":{\"xaxis\":{\"backgroundcolor\":\"#E5ECF6\",\"gridcolor\":\"white\",\"linecolor\":\"white\",\"showbackground\":true,\"ticks\":\"\",\"zerolinecolor\":\"white\",\"gridwidth\":2},\"yaxis\":{\"backgroundcolor\":\"#E5ECF6\",\"gridcolor\":\"white\",\"linecolor\":\"white\",\"showbackground\":true,\"ticks\":\"\",\"zerolinecolor\":\"white\",\"gridwidth\":2},\"zaxis\":{\"backgroundcolor\":\"#E5ECF6\",\"gridcolor\":\"white\",\"linecolor\":\"white\",\"showbackground\":true,\"ticks\":\"\",\"zerolinecolor\":\"white\",\"gridwidth\":2}},\"shapedefaults\":{\"line\":{\"color\":\"#2a3f5f\"}},\"annotationdefaults\":{\"arrowcolor\":\"#2a3f5f\",\"arrowhead\":0,\"arrowwidth\":1},\"geo\":{\"bgcolor\":\"white\",\"landcolor\":\"#E5ECF6\",\"subunitcolor\":\"white\",\"showland\":true,\"showlakes\":true,\"lakecolor\":\"white\"},\"title\":{\"x\":0.05},\"mapbox\":{\"style\":\"light\"}}},\"legend\":{\"tracegroupgap\":0},\"margin\":{\"t\":60},\"height\":1200,\"width\":2000},                        {\"responsive\": true}                    ).then(function(){\n",
       "                            \n",
       "var gd = document.getElementById('16654da2-dd2d-4058-9c01-fd1530d8bf78');\n",
       "var x = new MutationObserver(function (mutations, observer) {{\n",
       "        var display = window.getComputedStyle(gd).display;\n",
       "        if (!display || display === 'none') {{\n",
       "            console.log([gd, 'removed!']);\n",
       "            Plotly.purge(gd);\n",
       "            observer.disconnect();\n",
       "        }}\n",
       "}});\n",
       "\n",
       "// Listen for the removal of the full notebook cells\n",
       "var notebookContainer = gd.closest('#notebook-container');\n",
       "if (notebookContainer) {{\n",
       "    x.observe(notebookContainer, {childList: true});\n",
       "}}\n",
       "\n",
       "// Listen for the clearing of the current output cell\n",
       "var outputEl = gd.closest('.output');\n",
       "if (outputEl) {{\n",
       "    x.observe(outputEl, {childList: true});\n",
       "}}\n",
       "\n",
       "                        })                };                });            </script>        </div>"
      ]
     },
     "metadata": {},
     "output_type": "display_data"
    }
   ],
   "source": [
    "fig"
   ]
  }
 ],
 "metadata": {
  "kernelspec": {
   "display_name": "Python 3 (ipykernel)",
   "language": "python",
   "name": "python3"
  },
  "language_info": {
   "codemirror_mode": {
    "name": "ipython",
    "version": 3
   },
   "file_extension": ".py",
   "mimetype": "text/x-python",
   "name": "python",
   "nbconvert_exporter": "python",
   "pygments_lexer": "ipython3",
   "version": "3.8.2"
  }
 },
 "nbformat": 4,
 "nbformat_minor": 5
}
