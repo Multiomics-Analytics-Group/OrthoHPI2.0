{
 "cells": [
  {
   "cell_type": "code",
   "execution_count": 31,
   "id": "019ec8e9",
   "metadata": {},
   "outputs": [],
   "source": [
    "#!pip install statsmodels"
   ]
  },
  {
   "cell_type": "code",
   "execution_count": 32,
   "id": "ad7b36da",
   "metadata": {},
   "outputs": [],
   "source": [
    "import os\n",
    "import pandas as pd\n",
    "import scipy.stats as stats\n",
    "from statsmodels.stats.multitest import multipletests\n",
    "import plotly.express as px"
   ]
  },
  {
   "cell_type": "code",
   "execution_count": 33,
   "id": "bf893589",
   "metadata": {},
   "outputs": [],
   "source": [
    "data_dir = '../data'\n",
    "predictions_path = os.path.join(data_dir, 'predictions.tsv')\n",
    "gos_path = os.path.join(data_dir, 'gos.tsv')\n",
    "go_ontology_path = os.path.join(data_dir, 'go_ontology.tsv')"
   ]
  },
  {
   "cell_type": "code",
   "execution_count": 34,
   "id": "3538814e",
   "metadata": {},
   "outputs": [
    {
     "data": {
      "text/html": [
       "<div>\n",
       "<style scoped>\n",
       "    .dataframe tbody tr th:only-of-type {\n",
       "        vertical-align: middle;\n",
       "    }\n",
       "\n",
       "    .dataframe tbody tr th {\n",
       "        vertical-align: top;\n",
       "    }\n",
       "\n",
       "    .dataframe thead th {\n",
       "        text-align: right;\n",
       "    }\n",
       "</style>\n",
       "<table border=\"1\" class=\"dataframe\">\n",
       "  <thead>\n",
       "    <tr style=\"text-align: right;\">\n",
       "      <th></th>\n",
       "      <th>taxid1</th>\n",
       "      <th>taxid1_label</th>\n",
       "      <th>source_color</th>\n",
       "      <th>source_shape</th>\n",
       "      <th>source</th>\n",
       "      <th>source_name</th>\n",
       "      <th>taxid2</th>\n",
       "      <th>taxid2_label</th>\n",
       "      <th>target_color</th>\n",
       "      <th>target_shape</th>\n",
       "      <th>target</th>\n",
       "      <th>target_name</th>\n",
       "      <th>experimental_evidence_score</th>\n",
       "      <th>databases_evidence_score</th>\n",
       "      <th>weight</th>\n",
       "      <th>group1</th>\n",
       "      <th>group2</th>\n",
       "      <th>edge_type</th>\n",
       "    </tr>\n",
       "  </thead>\n",
       "  <tbody>\n",
       "    <tr>\n",
       "      <th>0</th>\n",
       "      <td>5691</td>\n",
       "      <td>Trypanosoma brucei</td>\n",
       "      <td>#bc80bd</td>\n",
       "      <td>diamond</td>\n",
       "      <td>5691.EAN79407</td>\n",
       "      <td>EAN79407</td>\n",
       "      <td>9606</td>\n",
       "      <td>Homo sapiens</td>\n",
       "      <td>#525252</td>\n",
       "      <td>dot</td>\n",
       "      <td>9606.ENSP00000339740</td>\n",
       "      <td>CAMK2D</td>\n",
       "      <td>0.000</td>\n",
       "      <td>0.77</td>\n",
       "      <td>0.385</td>\n",
       "      <td>KOG0039</td>\n",
       "      <td>KOG0033</td>\n",
       "      <td>inter-species</td>\n",
       "    </tr>\n",
       "    <tr>\n",
       "      <th>1</th>\n",
       "      <td>5691</td>\n",
       "      <td>Trypanosoma brucei</td>\n",
       "      <td>#bc80bd</td>\n",
       "      <td>diamond</td>\n",
       "      <td>5691.EAN79407</td>\n",
       "      <td>EAN79407</td>\n",
       "      <td>9606</td>\n",
       "      <td>Homo sapiens</td>\n",
       "      <td>#525252</td>\n",
       "      <td>dot</td>\n",
       "      <td>9606.ENSP00000362057</td>\n",
       "      <td>NOX1</td>\n",
       "      <td>0.000</td>\n",
       "      <td>0.77</td>\n",
       "      <td>0.385</td>\n",
       "      <td>KOG0039</td>\n",
       "      <td>KOG0033</td>\n",
       "      <td>inter-species</td>\n",
       "    </tr>\n",
       "    <tr>\n",
       "      <th>2</th>\n",
       "      <td>5691</td>\n",
       "      <td>Trypanosoma brucei</td>\n",
       "      <td>#bc80bd</td>\n",
       "      <td>diamond</td>\n",
       "      <td>5691.EAN79407</td>\n",
       "      <td>EAN79407</td>\n",
       "      <td>9606</td>\n",
       "      <td>Homo sapiens</td>\n",
       "      <td>#525252</td>\n",
       "      <td>dot</td>\n",
       "      <td>9606.ENSP00000475084</td>\n",
       "      <td>DUOX2</td>\n",
       "      <td>0.000</td>\n",
       "      <td>0.77</td>\n",
       "      <td>0.385</td>\n",
       "      <td>KOG0039</td>\n",
       "      <td>KOG0033</td>\n",
       "      <td>inter-species</td>\n",
       "    </tr>\n",
       "    <tr>\n",
       "      <th>3</th>\n",
       "      <td>5671</td>\n",
       "      <td>Leishmania infantum</td>\n",
       "      <td>#e31a1c</td>\n",
       "      <td>diamond</td>\n",
       "      <td>5671.XP_001467017.1</td>\n",
       "      <td>XP_001467017.1</td>\n",
       "      <td>9606</td>\n",
       "      <td>Homo sapiens</td>\n",
       "      <td>#525252</td>\n",
       "      <td>dot</td>\n",
       "      <td>9606.ENSP00000339740</td>\n",
       "      <td>CAMK2D</td>\n",
       "      <td>0.994</td>\n",
       "      <td>0.00</td>\n",
       "      <td>0.497</td>\n",
       "      <td>KOG0078</td>\n",
       "      <td>KOG0033</td>\n",
       "      <td>inter-species</td>\n",
       "    </tr>\n",
       "    <tr>\n",
       "      <th>4</th>\n",
       "      <td>5671</td>\n",
       "      <td>Leishmania infantum</td>\n",
       "      <td>#e31a1c</td>\n",
       "      <td>diamond</td>\n",
       "      <td>5671.XP_001467017.1</td>\n",
       "      <td>XP_001467017.1</td>\n",
       "      <td>9606</td>\n",
       "      <td>Homo sapiens</td>\n",
       "      <td>#525252</td>\n",
       "      <td>dot</td>\n",
       "      <td>9606.ENSP00000300935</td>\n",
       "      <td>RAB8A</td>\n",
       "      <td>0.994</td>\n",
       "      <td>0.00</td>\n",
       "      <td>0.497</td>\n",
       "      <td>KOG0078</td>\n",
       "      <td>KOG0033</td>\n",
       "      <td>inter-species</td>\n",
       "    </tr>\n",
       "  </tbody>\n",
       "</table>\n",
       "</div>"
      ],
      "text/plain": [
       "   taxid1         taxid1_label source_color source_shape               source  \\\n",
       "0    5691   Trypanosoma brucei      #bc80bd      diamond        5691.EAN79407   \n",
       "1    5691   Trypanosoma brucei      #bc80bd      diamond        5691.EAN79407   \n",
       "2    5691   Trypanosoma brucei      #bc80bd      diamond        5691.EAN79407   \n",
       "3    5671  Leishmania infantum      #e31a1c      diamond  5671.XP_001467017.1   \n",
       "4    5671  Leishmania infantum      #e31a1c      diamond  5671.XP_001467017.1   \n",
       "\n",
       "      source_name  taxid2  taxid2_label target_color target_shape  \\\n",
       "0        EAN79407    9606  Homo sapiens      #525252          dot   \n",
       "1        EAN79407    9606  Homo sapiens      #525252          dot   \n",
       "2        EAN79407    9606  Homo sapiens      #525252          dot   \n",
       "3  XP_001467017.1    9606  Homo sapiens      #525252          dot   \n",
       "4  XP_001467017.1    9606  Homo sapiens      #525252          dot   \n",
       "\n",
       "                 target target_name  experimental_evidence_score  \\\n",
       "0  9606.ENSP00000339740      CAMK2D                        0.000   \n",
       "1  9606.ENSP00000362057        NOX1                        0.000   \n",
       "2  9606.ENSP00000475084       DUOX2                        0.000   \n",
       "3  9606.ENSP00000339740      CAMK2D                        0.994   \n",
       "4  9606.ENSP00000300935       RAB8A                        0.994   \n",
       "\n",
       "   databases_evidence_score  weight   group1   group2      edge_type  \n",
       "0                      0.77   0.385  KOG0039  KOG0033  inter-species  \n",
       "1                      0.77   0.385  KOG0039  KOG0033  inter-species  \n",
       "2                      0.77   0.385  KOG0039  KOG0033  inter-species  \n",
       "3                      0.00   0.497  KOG0078  KOG0033  inter-species  \n",
       "4                      0.00   0.497  KOG0078  KOG0033  inter-species  "
      ]
     },
     "execution_count": 34,
     "metadata": {},
     "output_type": "execute_result"
    }
   ],
   "source": [
    "predictions = pd.read_csv(predictions_path, sep='\\t')\n",
    "predictions.head()"
   ]
  },
  {
   "cell_type": "code",
   "execution_count": 94,
   "id": "dbfb94e1",
   "metadata": {},
   "outputs": [
    {
     "data": {
      "text/plain": [
       "(250, 18)"
      ]
     },
     "execution_count": 94,
     "metadata": {},
     "output_type": "execute_result"
    }
   ],
   "source": [
    "predictions[(predictions['taxid1_label'] == 'Plasmodium falciparum') & (predictions['weight']>0.4)].drop_duplicates(['source', 'target']).shape"
   ]
  },
  {
   "cell_type": "code",
   "execution_count": 95,
   "id": "41a449ee",
   "metadata": {},
   "outputs": [],
   "source": [
    "tissues = pd.read_csv('../data/tissues_cell_types.tsv', sep='\\t', header=0)\n",
    "pred_tissues = pd.merge(predictions, tissues.rename({'Gene': 'target'}, axis=1), on='target', how='left')"
   ]
  },
  {
   "cell_type": "code",
   "execution_count": 96,
   "id": "442a6455",
   "metadata": {},
   "outputs": [
    {
     "data": {
      "text/plain": [
       "(250, 24)"
      ]
     },
     "execution_count": 96,
     "metadata": {},
     "output_type": "execute_result"
    }
   ],
   "source": [
    "pred_tissues[(pred_tissues['taxid1_label'] == 'Plasmodium falciparum') & (pred_tissues['weight']>0.4)].drop_duplicates(['source', 'target']).shape"
   ]
  },
  {
   "cell_type": "code",
   "execution_count": 35,
   "id": "27a3f604",
   "metadata": {},
   "outputs": [
    {
     "data": {
      "text/html": [
       "<div>\n",
       "<style scoped>\n",
       "    .dataframe tbody tr th:only-of-type {\n",
       "        vertical-align: middle;\n",
       "    }\n",
       "\n",
       "    .dataframe tbody tr th {\n",
       "        vertical-align: top;\n",
       "    }\n",
       "\n",
       "    .dataframe thead th {\n",
       "        text-align: right;\n",
       "    }\n",
       "</style>\n",
       "<table border=\"1\" class=\"dataframe\">\n",
       "  <thead>\n",
       "    <tr style=\"text-align: right;\">\n",
       "      <th></th>\n",
       "      <th>#string_protein_id</th>\n",
       "      <th>description</th>\n",
       "      <th>taxid</th>\n",
       "    </tr>\n",
       "  </thead>\n",
       "  <tbody>\n",
       "    <tr>\n",
       "      <th>0</th>\n",
       "      <td>9606.ENSP00000000233</td>\n",
       "      <td>Transport</td>\n",
       "      <td>9606</td>\n",
       "    </tr>\n",
       "    <tr>\n",
       "      <th>1</th>\n",
       "      <td>9606.ENSP00000000233</td>\n",
       "      <td>Intracellular protein transport</td>\n",
       "      <td>9606</td>\n",
       "    </tr>\n",
       "    <tr>\n",
       "      <th>2</th>\n",
       "      <td>9606.ENSP00000000233</td>\n",
       "      <td>Retrograde vesicle-mediated transport, golgi t...</td>\n",
       "      <td>9606</td>\n",
       "    </tr>\n",
       "    <tr>\n",
       "      <th>3</th>\n",
       "      <td>9606.ENSP00000000233</td>\n",
       "      <td>Protein localization</td>\n",
       "      <td>9606</td>\n",
       "    </tr>\n",
       "    <tr>\n",
       "      <th>4</th>\n",
       "      <td>9606.ENSP00000000233</td>\n",
       "      <td>Cellular process</td>\n",
       "      <td>9606</td>\n",
       "    </tr>\n",
       "  </tbody>\n",
       "</table>\n",
       "</div>"
      ],
      "text/plain": [
       "     #string_protein_id                                        description  \\\n",
       "0  9606.ENSP00000000233                                          Transport   \n",
       "1  9606.ENSP00000000233                    Intracellular protein transport   \n",
       "2  9606.ENSP00000000233  Retrograde vesicle-mediated transport, golgi t...   \n",
       "3  9606.ENSP00000000233                               Protein localization   \n",
       "4  9606.ENSP00000000233                                   Cellular process   \n",
       "\n",
       "   taxid  \n",
       "0   9606  \n",
       "1   9606  \n",
       "2   9606  \n",
       "3   9606  \n",
       "4   9606  "
      ]
     },
     "execution_count": 35,
     "metadata": {},
     "output_type": "execute_result"
    }
   ],
   "source": [
    "gos = pd.read_csv(gos_path, sep='\\t')\n",
    "gos.head()"
   ]
  },
  {
   "cell_type": "code",
   "execution_count": 36,
   "id": "784124d4",
   "metadata": {},
   "outputs": [
    {
     "data": {
      "text/html": [
       "<div>\n",
       "<style scoped>\n",
       "    .dataframe tbody tr th:only-of-type {\n",
       "        vertical-align: middle;\n",
       "    }\n",
       "\n",
       "    .dataframe tbody tr th {\n",
       "        vertical-align: top;\n",
       "    }\n",
       "\n",
       "    .dataframe thead th {\n",
       "        text-align: right;\n",
       "    }\n",
       "</style>\n",
       "<table border=\"1\" class=\"dataframe\">\n",
       "  <thead>\n",
       "    <tr style=\"text-align: right;\">\n",
       "      <th></th>\n",
       "      <th>taxid1</th>\n",
       "      <th>taxid1_label</th>\n",
       "      <th>source_color</th>\n",
       "      <th>source_shape</th>\n",
       "      <th>source</th>\n",
       "      <th>source_name</th>\n",
       "      <th>taxid2</th>\n",
       "      <th>taxid2_label</th>\n",
       "      <th>target_color</th>\n",
       "      <th>target_shape</th>\n",
       "      <th>target</th>\n",
       "      <th>target_name</th>\n",
       "      <th>experimental_evidence_score</th>\n",
       "      <th>databases_evidence_score</th>\n",
       "      <th>weight</th>\n",
       "      <th>group1</th>\n",
       "      <th>group2</th>\n",
       "      <th>edge_type</th>\n",
       "    </tr>\n",
       "  </thead>\n",
       "  <tbody>\n",
       "    <tr>\n",
       "      <th>74</th>\n",
       "      <td>5691</td>\n",
       "      <td>Trypanosoma brucei</td>\n",
       "      <td>#bc80bd</td>\n",
       "      <td>diamond</td>\n",
       "      <td>5691.EAN79407</td>\n",
       "      <td>EAN79407</td>\n",
       "      <td>9606</td>\n",
       "      <td>Homo sapiens</td>\n",
       "      <td>#525252</td>\n",
       "      <td>dot</td>\n",
       "      <td>9606.ENSP00000263025</td>\n",
       "      <td>MAPK3</td>\n",
       "      <td>0.354</td>\n",
       "      <td>0.866</td>\n",
       "      <td>0.6100</td>\n",
       "      <td>KOG0039</td>\n",
       "      <td>KOG0660</td>\n",
       "      <td>inter-species</td>\n",
       "    </tr>\n",
       "    <tr>\n",
       "      <th>75</th>\n",
       "      <td>5691</td>\n",
       "      <td>Trypanosoma brucei</td>\n",
       "      <td>#bc80bd</td>\n",
       "      <td>diamond</td>\n",
       "      <td>5691.EAN79407</td>\n",
       "      <td>EAN79407</td>\n",
       "      <td>9606</td>\n",
       "      <td>Homo sapiens</td>\n",
       "      <td>#525252</td>\n",
       "      <td>dot</td>\n",
       "      <td>9606.ENSP00000215832</td>\n",
       "      <td>MAPK1</td>\n",
       "      <td>0.354</td>\n",
       "      <td>0.866</td>\n",
       "      <td>0.6100</td>\n",
       "      <td>KOG0039</td>\n",
       "      <td>KOG0660</td>\n",
       "      <td>inter-species</td>\n",
       "    </tr>\n",
       "    <tr>\n",
       "      <th>109</th>\n",
       "      <td>5691</td>\n",
       "      <td>Trypanosoma brucei</td>\n",
       "      <td>#bc80bd</td>\n",
       "      <td>diamond</td>\n",
       "      <td>5691.EAN79407</td>\n",
       "      <td>EAN79407</td>\n",
       "      <td>9606</td>\n",
       "      <td>Homo sapiens</td>\n",
       "      <td>#525252</td>\n",
       "      <td>dot</td>\n",
       "      <td>9606.ENSP00000315768</td>\n",
       "      <td>STAT2</td>\n",
       "      <td>0.259</td>\n",
       "      <td>0.866</td>\n",
       "      <td>0.5625</td>\n",
       "      <td>KOG0039</td>\n",
       "      <td>KOG3667</td>\n",
       "      <td>inter-species</td>\n",
       "    </tr>\n",
       "    <tr>\n",
       "      <th>110</th>\n",
       "      <td>5691</td>\n",
       "      <td>Trypanosoma brucei</td>\n",
       "      <td>#bc80bd</td>\n",
       "      <td>diamond</td>\n",
       "      <td>5691.EAN79407</td>\n",
       "      <td>EAN79407</td>\n",
       "      <td>9606</td>\n",
       "      <td>Homo sapiens</td>\n",
       "      <td>#525252</td>\n",
       "      <td>dot</td>\n",
       "      <td>9606.ENSP00000264657</td>\n",
       "      <td>STAT3</td>\n",
       "      <td>0.259</td>\n",
       "      <td>0.866</td>\n",
       "      <td>0.5625</td>\n",
       "      <td>KOG0039</td>\n",
       "      <td>KOG3667</td>\n",
       "      <td>inter-species</td>\n",
       "    </tr>\n",
       "    <tr>\n",
       "      <th>121</th>\n",
       "      <td>5691</td>\n",
       "      <td>Trypanosoma brucei</td>\n",
       "      <td>#bc80bd</td>\n",
       "      <td>diamond</td>\n",
       "      <td>5691.EAN79407</td>\n",
       "      <td>EAN79407</td>\n",
       "      <td>9606</td>\n",
       "      <td>Homo sapiens</td>\n",
       "      <td>#525252</td>\n",
       "      <td>dot</td>\n",
       "      <td>9606.ENSP00000360293</td>\n",
       "      <td>SORBS1</td>\n",
       "      <td>0.467</td>\n",
       "      <td>0.866</td>\n",
       "      <td>0.6665</td>\n",
       "      <td>KOG0039</td>\n",
       "      <td>KOG4225</td>\n",
       "      <td>inter-species</td>\n",
       "    </tr>\n",
       "  </tbody>\n",
       "</table>\n",
       "</div>"
      ],
      "text/plain": [
       "     taxid1        taxid1_label source_color source_shape         source  \\\n",
       "74     5691  Trypanosoma brucei      #bc80bd      diamond  5691.EAN79407   \n",
       "75     5691  Trypanosoma brucei      #bc80bd      diamond  5691.EAN79407   \n",
       "109    5691  Trypanosoma brucei      #bc80bd      diamond  5691.EAN79407   \n",
       "110    5691  Trypanosoma brucei      #bc80bd      diamond  5691.EAN79407   \n",
       "121    5691  Trypanosoma brucei      #bc80bd      diamond  5691.EAN79407   \n",
       "\n",
       "    source_name  taxid2  taxid2_label target_color target_shape  \\\n",
       "74     EAN79407    9606  Homo sapiens      #525252          dot   \n",
       "75     EAN79407    9606  Homo sapiens      #525252          dot   \n",
       "109    EAN79407    9606  Homo sapiens      #525252          dot   \n",
       "110    EAN79407    9606  Homo sapiens      #525252          dot   \n",
       "121    EAN79407    9606  Homo sapiens      #525252          dot   \n",
       "\n",
       "                   target target_name  experimental_evidence_score  \\\n",
       "74   9606.ENSP00000263025       MAPK3                        0.354   \n",
       "75   9606.ENSP00000215832       MAPK1                        0.354   \n",
       "109  9606.ENSP00000315768       STAT2                        0.259   \n",
       "110  9606.ENSP00000264657       STAT3                        0.259   \n",
       "121  9606.ENSP00000360293      SORBS1                        0.467   \n",
       "\n",
       "     databases_evidence_score  weight   group1   group2      edge_type  \n",
       "74                      0.866  0.6100  KOG0039  KOG0660  inter-species  \n",
       "75                      0.866  0.6100  KOG0039  KOG0660  inter-species  \n",
       "109                     0.866  0.5625  KOG0039  KOG3667  inter-species  \n",
       "110                     0.866  0.5625  KOG0039  KOG3667  inter-species  \n",
       "121                     0.866  0.6665  KOG0039  KOG4225  inter-species  "
      ]
     },
     "execution_count": 36,
     "metadata": {},
     "output_type": "execute_result"
    }
   ],
   "source": [
    "net = predictions[(predictions['taxid1'].isin([5691, 9606])) & (predictions['weight'] >=0.4)]\n",
    "net.head()"
   ]
  },
  {
   "cell_type": "code",
   "execution_count": 37,
   "id": "856ed886",
   "metadata": {},
   "outputs": [
    {
     "data": {
      "text/html": [
       "<div>\n",
       "<style scoped>\n",
       "    .dataframe tbody tr th:only-of-type {\n",
       "        vertical-align: middle;\n",
       "    }\n",
       "\n",
       "    .dataframe tbody tr th {\n",
       "        vertical-align: top;\n",
       "    }\n",
       "\n",
       "    .dataframe thead th {\n",
       "        text-align: right;\n",
       "    }\n",
       "</style>\n",
       "<table border=\"1\" class=\"dataframe\">\n",
       "  <thead>\n",
       "    <tr style=\"text-align: right;\">\n",
       "      <th></th>\n",
       "      <th>#string_protein_id</th>\n",
       "      <th>description</th>\n",
       "      <th>taxid</th>\n",
       "    </tr>\n",
       "  </thead>\n",
       "  <tbody>\n",
       "    <tr>\n",
       "      <th>2</th>\n",
       "      <td>9606.ENSP00000000233</td>\n",
       "      <td>Retrograde vesicle-mediated transport, golgi t...</td>\n",
       "      <td>9606</td>\n",
       "    </tr>\n",
       "    <tr>\n",
       "      <th>13</th>\n",
       "      <td>9606.ENSP00000000233</td>\n",
       "      <td>Golgi vesicle transport</td>\n",
       "      <td>9606</td>\n",
       "    </tr>\n",
       "    <tr>\n",
       "      <th>21</th>\n",
       "      <td>9606.ENSP00000000412</td>\n",
       "      <td>Peptide secretion</td>\n",
       "      <td>9606</td>\n",
       "    </tr>\n",
       "    <tr>\n",
       "      <th>22</th>\n",
       "      <td>9606.ENSP00000000412</td>\n",
       "      <td>Protein targeting</td>\n",
       "      <td>9606</td>\n",
       "    </tr>\n",
       "    <tr>\n",
       "      <th>23</th>\n",
       "      <td>9606.ENSP00000000412</td>\n",
       "      <td>Protein targeting to lysosome</td>\n",
       "      <td>9606</td>\n",
       "    </tr>\n",
       "  </tbody>\n",
       "</table>\n",
       "</div>"
      ],
      "text/plain": [
       "      #string_protein_id                                        description  \\\n",
       "2   9606.ENSP00000000233  Retrograde vesicle-mediated transport, golgi t...   \n",
       "13  9606.ENSP00000000233                            Golgi vesicle transport   \n",
       "21  9606.ENSP00000000412                                  Peptide secretion   \n",
       "22  9606.ENSP00000000412                                  Protein targeting   \n",
       "23  9606.ENSP00000000412                      Protein targeting to lysosome   \n",
       "\n",
       "    taxid  \n",
       "2    9606  \n",
       "13   9606  \n",
       "21   9606  \n",
       "22   9606  \n",
       "23   9606  "
      ]
     },
     "execution_count": 37,
     "metadata": {},
     "output_type": "execute_result"
    }
   ],
   "source": [
    "net_gos = gos[gos['taxid'].isin([5691, 9606])].groupby('description').filter(lambda x: len(x)< 500)\n",
    "net_gos.head()"
   ]
  },
  {
   "cell_type": "code",
   "execution_count": 38,
   "id": "0ab5c30e",
   "metadata": {},
   "outputs": [],
   "source": [
    "nodes = net['source'].unique().tolist() + net['target'].unique().tolist()"
   ]
  },
  {
   "cell_type": "code",
   "execution_count": 39,
   "id": "652a2eda",
   "metadata": {},
   "outputs": [],
   "source": [
    "total_nodes = len(nodes)"
   ]
  },
  {
   "cell_type": "code",
   "execution_count": 40,
   "id": "beef571d",
   "metadata": {},
   "outputs": [
    {
     "data": {
      "text/plain": [
       "274"
      ]
     },
     "execution_count": 40,
     "metadata": {},
     "output_type": "execute_result"
    }
   ],
   "source": [
    "#C'\n",
    "total_nodes"
   ]
  },
  {
   "cell_type": "code",
   "execution_count": 41,
   "id": "deb4f441",
   "metadata": {},
   "outputs": [],
   "source": [
    "selected_gos = net_gos[net_gos['#string_protein_id'].isin(nodes)].groupby('description').filter(lambda x: len(x)> 10)['description'].unique().tolist()"
   ]
  },
  {
   "cell_type": "code",
   "execution_count": 42,
   "id": "629d047a",
   "metadata": {},
   "outputs": [
    {
     "data": {
      "text/plain": [
       "287"
      ]
     },
     "execution_count": 42,
     "metadata": {},
     "output_type": "execute_result"
    }
   ],
   "source": [
    "len(selected_gos)"
   ]
  },
  {
   "cell_type": "code",
   "execution_count": 43,
   "id": "2a8afd89",
   "metadata": {},
   "outputs": [],
   "source": [
    "total_prots = len(net_gos['#string_protein_id'].unique().tolist())"
   ]
  },
  {
   "cell_type": "code",
   "execution_count": 44,
   "id": "31603e0f",
   "metadata": {},
   "outputs": [
    {
     "data": {
      "text/plain": [
       "15475"
      ]
     },
     "execution_count": 44,
     "metadata": {},
     "output_type": "execute_result"
    }
   ],
   "source": [
    "#G\n",
    "total_prots"
   ]
  },
  {
   "cell_type": "code",
   "execution_count": 45,
   "id": "5439e2dd",
   "metadata": {},
   "outputs": [],
   "source": [
    "enrichment = []\n",
    "for term in selected_gos:   \n",
    "    members = net_gos[(net_gos['description'] == term)]['#string_protein_id']\n",
    "    #E\n",
    "    total_members = len(members)\n",
    "    net_members = net_gos[(net_gos['description'] == term) & (net_gos['#string_protein_id'].isin(nodes))]['#string_protein_id']\n",
    "    #A\n",
    "    total_net_members = len(net_members)\n",
    "    \n",
    "    odd_ratio, p_value = stats.fisher_exact([[total_net_members, total_nodes - total_net_members],\n",
    "                                             [total_members - total_net_members, total_prots - total_members - total_nodes - total_net_members]])\n",
    "    enrichment.append([term, total_net_members, total_nodes - total_net_members, total_members - total_net_members,  total_prots - total_members - total_nodes - total_net_members, p_value, odd_ratio, ','.join(net_members)])"
   ]
  },
  {
   "cell_type": "code",
   "execution_count": 46,
   "id": "6339b35b",
   "metadata": {},
   "outputs": [
    {
     "data": {
      "text/html": [
       "<div>\n",
       "<style scoped>\n",
       "    .dataframe tbody tr th:only-of-type {\n",
       "        vertical-align: middle;\n",
       "    }\n",
       "\n",
       "    .dataframe tbody tr th {\n",
       "        vertical-align: top;\n",
       "    }\n",
       "\n",
       "    .dataframe thead th {\n",
       "        text-align: right;\n",
       "    }\n",
       "</style>\n",
       "<table border=\"1\" class=\"dataframe\">\n",
       "  <thead>\n",
       "    <tr style=\"text-align: right;\">\n",
       "      <th></th>\n",
       "      <th>go_term</th>\n",
       "      <th>A</th>\n",
       "      <th>B</th>\n",
       "      <th>C</th>\n",
       "      <th>D</th>\n",
       "      <th>p_value</th>\n",
       "      <th>odds</th>\n",
       "      <th>nodes</th>\n",
       "      <th>fdr_bh</th>\n",
       "    </tr>\n",
       "  </thead>\n",
       "  <tbody>\n",
       "    <tr>\n",
       "      <th>0</th>\n",
       "      <td>Eye development</td>\n",
       "      <td>15</td>\n",
       "      <td>259</td>\n",
       "      <td>350</td>\n",
       "      <td>14821</td>\n",
       "      <td>0.003615</td>\n",
       "      <td>2.452454</td>\n",
       "      <td>9606.ENSP00000005226,9606.ENSP00000232461,9606...</td>\n",
       "      <td>0.004472</td>\n",
       "    </tr>\n",
       "    <tr>\n",
       "      <th>1</th>\n",
       "      <td>Regulation of cellular component size</td>\n",
       "      <td>19</td>\n",
       "      <td>255</td>\n",
       "      <td>364</td>\n",
       "      <td>14799</td>\n",
       "      <td>0.000056</td>\n",
       "      <td>3.029315</td>\n",
       "      <td>9606.ENSP00000005226,9606.ENSP00000229264,9606...</td>\n",
       "      <td>0.000109</td>\n",
       "    </tr>\n",
       "    <tr>\n",
       "      <th>2</th>\n",
       "      <td>Camera-type eye development</td>\n",
       "      <td>12</td>\n",
       "      <td>262</td>\n",
       "      <td>306</td>\n",
       "      <td>14871</td>\n",
       "      <td>0.014674</td>\n",
       "      <td>2.225864</td>\n",
       "      <td>9606.ENSP00000005226,9606.ENSP00000232461,9606...</td>\n",
       "      <td>0.016712</td>\n",
       "    </tr>\n",
       "    <tr>\n",
       "      <th>3</th>\n",
       "      <td>Embryonic organ development</td>\n",
       "      <td>13</td>\n",
       "      <td>261</td>\n",
       "      <td>435</td>\n",
       "      <td>14740</td>\n",
       "      <td>0.069611</td>\n",
       "      <td>1.687761</td>\n",
       "      <td>9606.ENSP00000005226,9606.ENSP00000215832,9606...</td>\n",
       "      <td>0.074269</td>\n",
       "    </tr>\n",
       "    <tr>\n",
       "      <th>4</th>\n",
       "      <td>Sensory system development</td>\n",
       "      <td>15</td>\n",
       "      <td>259</td>\n",
       "      <td>356</td>\n",
       "      <td>14815</td>\n",
       "      <td>0.003857</td>\n",
       "      <td>2.410145</td>\n",
       "      <td>9606.ENSP00000005226,9606.ENSP00000232461,9606...</td>\n",
       "      <td>0.004710</td>\n",
       "    </tr>\n",
       "  </tbody>\n",
       "</table>\n",
       "</div>"
      ],
      "text/plain": [
       "                                 go_term   A    B    C      D   p_value  \\\n",
       "0                        Eye development  15  259  350  14821  0.003615   \n",
       "1  Regulation of cellular component size  19  255  364  14799  0.000056   \n",
       "2            Camera-type eye development  12  262  306  14871  0.014674   \n",
       "3            Embryonic organ development  13  261  435  14740  0.069611   \n",
       "4             Sensory system development  15  259  356  14815  0.003857   \n",
       "\n",
       "       odds                                              nodes    fdr_bh  \n",
       "0  2.452454  9606.ENSP00000005226,9606.ENSP00000232461,9606...  0.004472  \n",
       "1  3.029315  9606.ENSP00000005226,9606.ENSP00000229264,9606...  0.000109  \n",
       "2  2.225864  9606.ENSP00000005226,9606.ENSP00000232461,9606...  0.016712  \n",
       "3  1.687761  9606.ENSP00000005226,9606.ENSP00000215832,9606...  0.074269  \n",
       "4  2.410145  9606.ENSP00000005226,9606.ENSP00000232461,9606...  0.004710  "
      ]
     },
     "execution_count": 46,
     "metadata": {},
     "output_type": "execute_result"
    }
   ],
   "source": [
    "enrichment = pd.DataFrame(enrichment, columns=['go_term', 'A', 'B', 'C', 'D', 'p_value', 'odds', 'nodes'])\n",
    "enrichment['fdr_bh'] = multipletests(enrichment['p_value'].tolist(), alpha=0.01, method='fdr_bh')[1]\n",
    "enrichment.head()"
   ]
  },
  {
   "cell_type": "code",
   "execution_count": 47,
   "id": "e990ea19",
   "metadata": {},
   "outputs": [
    {
     "data": {
      "text/plain": [
       "(287, 9)"
      ]
     },
     "execution_count": 47,
     "metadata": {},
     "output_type": "execute_result"
    }
   ],
   "source": [
    "enrichment.shape"
   ]
  },
  {
   "cell_type": "code",
   "execution_count": null,
   "id": "0c7351f0",
   "metadata": {},
   "outputs": [],
   "source": []
  },
  {
   "cell_type": "code",
   "execution_count": 67,
   "id": "8aa8fd97",
   "metadata": {},
   "outputs": [],
   "source": [
    "enrichment = enrichment[enrichment['fdr_bh']<0.01]"
   ]
  },
  {
   "cell_type": "code",
   "execution_count": 68,
   "id": "7f59fcb1",
   "metadata": {},
   "outputs": [
    {
     "data": {
      "application/vnd.plotly.v1+json": {
       "config": {
        "plotlyServerURL": "https://plot.ly"
       },
       "data": [
        {
         "hovertemplate": "go_term=Eye development<br>fdr_bh=%{x}<br>odds=%{marker.size}<extra></extra>",
         "legendgroup": "Eye development",
         "marker": {
          "color": "#636efa",
          "size": [
           2.4524544953116383
          ],
          "sizemode": "area",
          "sizeref": 0.04421822436741261,
          "symbol": "circle"
         },
         "mode": "markers",
         "name": "Eye development",
         "orientation": "v",
         "showlegend": true,
         "type": "scatter",
         "x": [
          0.004472499762014959
         ],
         "xaxis": "x",
         "y": [
          2.4524544953116383
         ],
         "yaxis": "y"
        },
        {
         "hovertemplate": "go_term=Regulation of cellular component size<br>fdr_bh=%{x}<br>odds=%{marker.size}<extra></extra>",
         "legendgroup": "Regulation of cellular component size",
         "marker": {
          "color": "#EF553B",
          "size": [
           3.0293148028442145
          ],
          "sizemode": "area",
          "sizeref": 0.04421822436741261,
          "symbol": "circle"
         },
         "mode": "markers",
         "name": "Regulation of cellular component size",
         "orientation": "v",
         "showlegend": true,
         "type": "scatter",
         "x": [
          0.00010866154030417282
         ],
         "xaxis": "x",
         "y": [
          3.0293148028442145
         ],
         "yaxis": "y"
        },
        {
         "hovertemplate": "go_term=Sensory system development<br>fdr_bh=%{x}<br>odds=%{marker.size}<extra></extra>",
         "legendgroup": "Sensory system development",
         "marker": {
          "color": "#00cc96",
          "size": [
           2.4101448960999523
          ],
          "sizemode": "area",
          "sizeref": 0.04421822436741261,
          "symbol": "circle"
         },
         "mode": "markers",
         "name": "Sensory system development",
         "orientation": "v",
         "showlegend": true,
         "type": "scatter",
         "x": [
          0.004710215749824784
         ],
         "xaxis": "x",
         "y": [
          2.4101448960999523
         ],
         "yaxis": "y"
        },
        {
         "hovertemplate": "go_term=Sensory organ morphogenesis<br>fdr_bh=%{x}<br>odds=%{marker.size}<extra></extra>",
         "legendgroup": "Sensory organ morphogenesis",
         "marker": {
          "color": "#ab63fa",
          "size": [
           2.4675152917837657
          ],
          "sizemode": "area",
          "sizeref": 0.04421822436741261,
          "symbol": "circle"
         },
         "mode": "markers",
         "name": "Sensory organ morphogenesis",
         "orientation": "v",
         "showlegend": true,
         "type": "scatter",
         "x": [
          0.009003694481536269
         ],
         "xaxis": "x",
         "y": [
          2.4675152917837657
         ],
         "yaxis": "y"
        },
        {
         "hovertemplate": "go_term=Visual system development<br>fdr_bh=%{x}<br>odds=%{marker.size}<extra></extra>",
         "legendgroup": "Visual system development",
         "marker": {
          "color": "#FFA15A",
          "size": [
           2.4524544953116383
          ],
          "sizemode": "area",
          "sizeref": 0.04421822436741261,
          "symbol": "circle"
         },
         "mode": "markers",
         "name": "Visual system development",
         "orientation": "v",
         "showlegend": true,
         "type": "scatter",
         "x": [
          0.004472499762014959
         ],
         "xaxis": "x",
         "y": [
          2.4524544953116383
         ],
         "yaxis": "y"
        },
        {
         "hovertemplate": "go_term=Formation of primary germ layer<br>fdr_bh=%{x}<br>odds=%{marker.size}<extra></extra>",
         "legendgroup": "Formation of primary germ layer",
         "marker": {
          "color": "#19d3f3",
          "size": [
           6.004490313235561
          ],
          "sizemode": "area",
          "sizeref": 0.04421822436741261,
          "symbol": "circle"
         },
         "mode": "markers",
         "name": "Formation of primary germ layer",
         "orientation": "v",
         "showlegend": true,
         "type": "scatter",
         "x": [
          1.762119288971509e-05
         ],
         "xaxis": "x",
         "y": [
          6.004490313235561
         ],
         "yaxis": "y"
        },
        {
         "hovertemplate": "go_term=Cell-matrix adhesion<br>fdr_bh=%{x}<br>odds=%{marker.size}<extra></extra>",
         "legendgroup": "Cell-matrix adhesion",
         "marker": {
          "color": "#FF6692",
          "size": [
           7.1763104152484685
          ],
          "sizemode": "area",
          "sizeref": 0.04421822436741261,
          "symbol": "circle"
         },
         "mode": "markers",
         "name": "Cell-matrix adhesion",
         "orientation": "v",
         "showlegend": true,
         "type": "scatter",
         "x": [
          3.1902862224911027e-07
         ],
         "xaxis": "x",
         "y": [
          7.1763104152484685
         ],
         "yaxis": "y"
        },
        {
         "hovertemplate": "go_term=Integrin-mediated signaling pathway<br>fdr_bh=%{x}<br>odds=%{marker.size}<extra></extra>",
         "legendgroup": "Integrin-mediated signaling pathway",
         "marker": {
          "color": "#B6E880",
          "size": [
           11.998409858874975
          ],
          "sizemode": "area",
          "sizeref": 0.04421822436741261,
          "symbol": "circle"
         },
         "mode": "markers",
         "name": "Integrin-mediated signaling pathway",
         "orientation": "v",
         "showlegend": true,
         "type": "scatter",
         "x": [
          2.9704432825076224e-10
         ],
         "xaxis": "x",
         "y": [
          11.998409858874975
         ],
         "yaxis": "y"
        },
        {
         "hovertemplate": "go_term=Gastrulation<br>fdr_bh=%{x}<br>odds=%{marker.size}<extra></extra>",
         "legendgroup": "Gastrulation",
         "marker": {
          "color": "#FF97FF",
          "size": [
           5.127197816616806
          ],
          "sizemode": "area",
          "sizeref": 0.04421822436741261,
          "symbol": "circle"
         },
         "mode": "markers",
         "name": "Gastrulation",
         "orientation": "v",
         "showlegend": true,
         "type": "scatter",
         "x": [
          1.4063159269744372e-05
         ],
         "xaxis": "x",
         "y": [
          5.127197816616806
         ],
         "yaxis": "y"
        },
        {
         "hovertemplate": "go_term=Learning or memory<br>fdr_bh=%{x}<br>odds=%{marker.size}<extra></extra>",
         "legendgroup": "Learning or memory",
         "marker": {
          "color": "#FECB52",
          "size": [
           5.203789816321786
          ],
          "sizemode": "area",
          "sizeref": 0.04421822436741261,
          "symbol": "circle"
         },
         "mode": "markers",
         "name": "Learning or memory",
         "orientation": "v",
         "showlegend": true,
         "type": "scatter",
         "x": [
          5.770773256857654e-08
         ],
         "xaxis": "x",
         "y": [
          5.203789816321786
         ],
         "yaxis": "y"
        },
        {
         "hovertemplate": "go_term=Memory<br>fdr_bh=%{x}<br>odds=%{marker.size}<extra></extra>",
         "legendgroup": "Memory",
         "marker": {
          "color": "#636efa",
          "size": [
           6.273560027758501
          ],
          "sizemode": "area",
          "sizeref": 0.04421822436741261,
          "symbol": "circle"
         },
         "mode": "markers",
         "name": "Memory",
         "orientation": "v",
         "showlegend": true,
         "type": "scatter",
         "x": [
          5.694727578502999e-06
         ],
         "xaxis": "x",
         "y": [
          6.273560027758501
         ],
         "yaxis": "y"
        },
        {
         "hovertemplate": "go_term=Regulation of cell-substrate adhesion<br>fdr_bh=%{x}<br>odds=%{marker.size}<extra></extra>",
         "legendgroup": "Regulation of cell-substrate adhesion",
         "marker": {
          "color": "#EF553B",
          "size": [
           4.737541528239203
          ],
          "sizemode": "area",
          "sizeref": 0.04421822436741261,
          "symbol": "circle"
         },
         "mode": "markers",
         "name": "Regulation of cell-substrate adhesion",
         "orientation": "v",
         "showlegend": true,
         "type": "scatter",
         "x": [
          4.225006957628486e-06
         ],
         "xaxis": "x",
         "y": [
          4.737541528239203
         ],
         "yaxis": "y"
        },
        {
         "hovertemplate": "go_term=Positive regulation of cell-substrate adhesion<br>fdr_bh=%{x}<br>odds=%{marker.size}<extra></extra>",
         "legendgroup": "Positive regulation of cell-substrate adhesion",
         "marker": {
          "color": "#00cc96",
          "size": [
           5.576432585214846
          ],
          "sizemode": "area",
          "sizeref": 0.04421822436741261,
          "symbol": "circle"
         },
         "mode": "markers",
         "name": "Positive regulation of cell-substrate adhesion",
         "orientation": "v",
         "showlegend": true,
         "type": "scatter",
         "x": [
          2.9679075153889288e-05
         ],
         "xaxis": "x",
         "y": [
          5.576432585214846
         ],
         "yaxis": "y"
        },
        {
         "hovertemplate": "go_term=Positive regulation of neuron projection development<br>fdr_bh=%{x}<br>odds=%{marker.size}<extra></extra>",
         "legendgroup": "Positive regulation of neuron projection development",
         "marker": {
          "color": "#ab63fa",
          "size": [
           4.629568770262468
          ],
          "sizemode": "area",
          "sizeref": 0.04421822436741261,
          "symbol": "circle"
         },
         "mode": "markers",
         "name": "Positive regulation of neuron projection development",
         "orientation": "v",
         "showlegend": true,
         "type": "scatter",
         "x": [
          2.782914783346206e-07
         ],
         "xaxis": "x",
         "y": [
          4.629568770262468
         ],
         "yaxis": "y"
        },
        {
         "hovertemplate": "go_term=Regulation of wnt signaling pathway<br>fdr_bh=%{x}<br>odds=%{marker.size}<extra></extra>",
         "legendgroup": "Regulation of wnt signaling pathway",
         "marker": {
          "color": "#FFA15A",
          "size": [
           2.2411192739844426
          ],
          "sizemode": "area",
          "sizeref": 0.04421822436741261,
          "symbol": "circle"
         },
         "mode": "markers",
         "name": "Regulation of wnt signaling pathway",
         "orientation": "v",
         "showlegend": true,
         "type": "scatter",
         "x": [
          0.009047240338884804
         ],
         "xaxis": "x",
         "y": [
          2.2411192739844426
         ],
         "yaxis": "y"
        },
        {
         "hovertemplate": "go_term=Extracellular matrix organization<br>fdr_bh=%{x}<br>odds=%{marker.size}<extra></extra>",
         "legendgroup": "Extracellular matrix organization",
         "marker": {
          "color": "#19d3f3",
          "size": [
           3.886260769815838
          ],
          "sizemode": "area",
          "sizeref": 0.04421822436741261,
          "symbol": "circle"
         },
         "mode": "markers",
         "name": "Extracellular matrix organization",
         "orientation": "v",
         "showlegend": true,
         "type": "scatter",
         "x": [
          2.517982035791671e-06
         ],
         "xaxis": "x",
         "y": [
          3.886260769815838
         ],
         "yaxis": "y"
        },
        {
         "hovertemplate": "go_term=Respiratory tube development<br>fdr_bh=%{x}<br>odds=%{marker.size}<extra></extra>",
         "legendgroup": "Respiratory tube development",
         "marker": {
          "color": "#FF6692",
          "size": [
           4.245122985581001
          ],
          "sizemode": "area",
          "sizeref": 0.04421822436741261,
          "symbol": "circle"
         },
         "mode": "markers",
         "name": "Respiratory tube development",
         "orientation": "v",
         "showlegend": true,
         "type": "scatter",
         "x": [
          0.0001242409317676742
         ],
         "xaxis": "x",
         "y": [
          4.245122985581001
         ],
         "yaxis": "y"
        },
        {
         "hovertemplate": "go_term=Lung development<br>fdr_bh=%{x}<br>odds=%{marker.size}<extra></extra>",
         "legendgroup": "Lung development",
         "marker": {
          "color": "#B6E880",
          "size": [
           3.9510247028720378
          ],
          "sizemode": "area",
          "sizeref": 0.04421822436741261,
          "symbol": "circle"
         },
         "mode": "markers",
         "name": "Lung development",
         "orientation": "v",
         "showlegend": true,
         "type": "scatter",
         "x": [
          0.0003834397228632255
         ],
         "xaxis": "x",
         "y": [
          3.9510247028720378
         ],
         "yaxis": "y"
        },
        {
         "hovertemplate": "go_term=Positive regulation of cell projection organization<br>fdr_bh=%{x}<br>odds=%{marker.size}<extra></extra>",
         "legendgroup": "Positive regulation of cell projection organization",
         "marker": {
          "color": "#FF97FF",
          "size": [
           3.867727520435967
          ],
          "sizemode": "area",
          "sizeref": 0.04421822436741261,
          "symbol": "circle"
         },
         "mode": "markers",
         "name": "Positive regulation of cell projection organization",
         "orientation": "v",
         "showlegend": true,
         "type": "scatter",
         "x": [
          6.4990581073249e-07
         ],
         "xaxis": "x",
         "y": [
          3.867727520435967
         ],
         "yaxis": "y"
        },
        {
         "hovertemplate": "go_term=Cell-substrate adhesion<br>fdr_bh=%{x}<br>odds=%{marker.size}<extra></extra>",
         "legendgroup": "Cell-substrate adhesion",
         "marker": {
          "color": "#FECB52",
          "size": [
           6.856730422230242
          ],
          "sizemode": "area",
          "sizeref": 0.04421822436741261,
          "symbol": "circle"
         },
         "mode": "markers",
         "name": "Cell-substrate adhesion",
         "orientation": "v",
         "showlegend": true,
         "type": "scatter",
         "x": [
          7.733543725791657e-09
         ],
         "xaxis": "x",
         "y": [
          6.856730422230242
         ],
         "yaxis": "y"
        },
        {
         "hovertemplate": "go_term=Cell junction organization<br>fdr_bh=%{x}<br>odds=%{marker.size}<extra></extra>",
         "legendgroup": "Cell junction organization",
         "marker": {
          "color": "#636efa",
          "size": [
           3.8977799808802183
          ],
          "sizemode": "area",
          "sizeref": 0.04421822436741261,
          "symbol": "circle"
         },
         "mode": "markers",
         "name": "Cell junction organization",
         "orientation": "v",
         "showlegend": true,
         "type": "scatter",
         "x": [
          3.4143994334585296e-08
         ],
         "xaxis": "x",
         "y": [
          3.8977799808802183
         ],
         "yaxis": "y"
        },
        {
         "hovertemplate": "go_term=Extracellular structure organization<br>fdr_bh=%{x}<br>odds=%{marker.size}<extra></extra>",
         "legendgroup": "Extracellular structure organization",
         "marker": {
          "color": "#EF553B",
          "size": [
           3.8737788052800357
          ],
          "sizemode": "area",
          "sizeref": 0.04421822436741261,
          "symbol": "circle"
         },
         "mode": "markers",
         "name": "Extracellular structure organization",
         "orientation": "v",
         "showlegend": true,
         "type": "scatter",
         "x": [
          2.608915013506255e-06
         ],
         "xaxis": "x",
         "y": [
          3.8737788052800357
         ],
         "yaxis": "y"
        },
        {
         "hovertemplate": "go_term=Positive regulation of neuron differentiation<br>fdr_bh=%{x}<br>odds=%{marker.size}<extra></extra>",
         "legendgroup": "Positive regulation of neuron differentiation",
         "marker": {
          "color": "#00cc96",
          "size": [
           3.451425589554559
          ],
          "sizemode": "area",
          "sizeref": 0.04421822436741261,
          "symbol": "circle"
         },
         "mode": "markers",
         "name": "Positive regulation of neuron differentiation",
         "orientation": "v",
         "showlegend": true,
         "type": "scatter",
         "x": [
          1.1004376262084742e-05
         ],
         "xaxis": "x",
         "y": [
          3.451425589554559
         ],
         "yaxis": "y"
        },
        {
         "hovertemplate": "go_term=Positive regulation of cell adhesion<br>fdr_bh=%{x}<br>odds=%{marker.size}<extra></extra>",
         "legendgroup": "Positive regulation of cell adhesion",
         "marker": {
          "color": "#ab63fa",
          "size": [
           3.2125242449431974
          ],
          "sizemode": "area",
          "sizeref": 0.04421822436741261,
          "symbol": "circle"
         },
         "mode": "markers",
         "name": "Positive regulation of cell adhesion",
         "orientation": "v",
         "showlegend": true,
         "type": "scatter",
         "x": [
          1.8046432770971887e-05
         ],
         "xaxis": "x",
         "y": [
          3.2125242449431974
         ],
         "yaxis": "y"
        },
        {
         "hovertemplate": "go_term=Regulation of ras protein signal transduction<br>fdr_bh=%{x}<br>odds=%{marker.size}<extra></extra>",
         "legendgroup": "Regulation of ras protein signal transduction",
         "marker": {
          "color": "#FFA15A",
          "size": [
           4.562016514558888
          ],
          "sizemode": "area",
          "sizeref": 0.04421822436741261,
          "symbol": "circle"
         },
         "mode": "markers",
         "name": "Regulation of ras protein signal transduction",
         "orientation": "v",
         "showlegend": true,
         "type": "scatter",
         "x": [
          2.012379226377634e-05
         ],
         "xaxis": "x",
         "y": [
          4.562016514558888
         ],
         "yaxis": "y"
        },
        {
         "hovertemplate": "go_term=Positive regulation of neurogenesis<br>fdr_bh=%{x}<br>odds=%{marker.size}<extra></extra>",
         "legendgroup": "Positive regulation of neurogenesis",
         "marker": {
          "color": "#19d3f3",
          "size": [
           3.553840779620938
          ],
          "sizemode": "area",
          "sizeref": 0.04421822436741261,
          "symbol": "circle"
         },
         "mode": "markers",
         "name": "Positive regulation of neurogenesis",
         "orientation": "v",
         "showlegend": true,
         "type": "scatter",
         "x": [
          6.064937846190706e-07
         ],
         "xaxis": "x",
         "y": [
          3.553840779620938
         ],
         "yaxis": "y"
        },
        {
         "hovertemplate": "go_term=Synapse organization<br>fdr_bh=%{x}<br>odds=%{marker.size}<extra></extra>",
         "legendgroup": "Synapse organization",
         "marker": {
          "color": "#FF6692",
          "size": [
           3.953419811320755
          ],
          "sizemode": "area",
          "sizeref": 0.04421822436741261,
          "symbol": "circle"
         },
         "mode": "markers",
         "name": "Synapse organization",
         "orientation": "v",
         "showlegend": true,
         "type": "scatter",
         "x": [
          9.291019898533115e-06
         ],
         "xaxis": "x",
         "y": [
          3.953419811320755
         ],
         "yaxis": "y"
        },
        {
         "hovertemplate": "go_term=Cognition<br>fdr_bh=%{x}<br>odds=%{marker.size}<extra></extra>",
         "legendgroup": "Cognition",
         "marker": {
          "color": "#B6E880",
          "size": [
           4.638520408163266
          ],
          "sizemode": "area",
          "sizeref": 0.04421822436741261,
          "symbol": "circle"
         },
         "mode": "markers",
         "name": "Cognition",
         "orientation": "v",
         "showlegend": true,
         "type": "scatter",
         "x": [
          1.4960362225690896e-07
         ],
         "xaxis": "x",
         "y": [
          4.638520408163266
         ],
         "yaxis": "y"
        },
        {
         "hovertemplate": "go_term=Leukocyte migration<br>fdr_bh=%{x}<br>odds=%{marker.size}<extra></extra>",
         "legendgroup": "Leukocyte migration",
         "marker": {
          "color": "#FF97FF",
          "size": [
           3.72950419224929
          ],
          "sizemode": "area",
          "sizeref": 0.04421822436741261,
          "symbol": "circle"
         },
         "mode": "markers",
         "name": "Leukocyte migration",
         "orientation": "v",
         "showlegend": true,
         "type": "scatter",
         "x": [
          1.079926734129234e-05
         ],
         "xaxis": "x",
         "y": [
          3.72950419224929
         ],
         "yaxis": "y"
        },
        {
         "hovertemplate": "go_term=Regulation of small gtpase mediated signal transduction<br>fdr_bh=%{x}<br>odds=%{marker.size}<extra></extra>",
         "legendgroup": "Regulation of small gtpase mediated signal transduction",
         "marker": {
          "color": "#FECB52",
          "size": [
           5.541694877782537
          ],
          "sizemode": "area",
          "sizeref": 0.04421822436741261,
          "symbol": "circle"
         },
         "mode": "markers",
         "name": "Regulation of small gtpase mediated signal transduction",
         "orientation": "v",
         "showlegend": true,
         "type": "scatter",
         "x": [
          4.673257949068992e-10
         ],
         "xaxis": "x",
         "y": [
          5.541694877782537
         ],
         "yaxis": "y"
        },
        {
         "hovertemplate": "go_term=Respiratory system development<br>fdr_bh=%{x}<br>odds=%{marker.size}<extra></extra>",
         "legendgroup": "Respiratory system development",
         "marker": {
          "color": "#636efa",
          "size": [
           3.371417474140398
          ],
          "sizemode": "area",
          "sizeref": 0.04421822436741261,
          "symbol": "circle"
         },
         "mode": "markers",
         "name": "Respiratory system development",
         "orientation": "v",
         "showlegend": true,
         "type": "scatter",
         "x": [
          0.0011482121864663665
         ],
         "xaxis": "x",
         "y": [
          3.371417474140398
         ],
         "yaxis": "y"
        },
        {
         "hovertemplate": "go_term=Regulation of cellular response to growth factor stimulus<br>fdr_bh=%{x}<br>odds=%{marker.size}<extra></extra>",
         "legendgroup": "Regulation of cellular response to growth factor stimulus",
         "marker": {
          "color": "#EF553B",
          "size": [
           2.7810639000100448
          ],
          "sizemode": "area",
          "sizeref": 0.04421822436741261,
          "symbol": "circle"
         },
         "mode": "markers",
         "name": "Regulation of cellular response to growth factor stimulus",
         "orientation": "v",
         "showlegend": true,
         "type": "scatter",
         "x": [
          0.002031324232287711
         ],
         "xaxis": "x",
         "y": [
          2.7810639000100448
         ],
         "yaxis": "y"
        },
        {
         "hovertemplate": "go_term=Positive regulation of cellular protein localization<br>fdr_bh=%{x}<br>odds=%{marker.size}<extra></extra>",
         "legendgroup": "Positive regulation of cellular protein localization",
         "marker": {
          "color": "#00cc96",
          "size": [
           4.047792658730159
          ],
          "sizemode": "area",
          "sizeref": 0.04421822436741261,
          "symbol": "circle"
         },
         "mode": "markers",
         "name": "Positive regulation of cellular protein localization",
         "orientation": "v",
         "showlegend": true,
         "type": "scatter",
         "x": [
          9.380629962299377e-07
         ],
         "xaxis": "x",
         "y": [
          4.047792658730159
         ],
         "yaxis": "y"
        },
        {
         "hovertemplate": "go_term=Regulation of protein localization to membrane<br>fdr_bh=%{x}<br>odds=%{marker.size}<extra></extra>",
         "legendgroup": "Regulation of protein localization to membrane",
         "marker": {
          "color": "#ab63fa",
          "size": [
           5.853515625
          ],
          "sizemode": "area",
          "sizeref": 0.04421822436741261,
          "symbol": "circle"
         },
         "mode": "markers",
         "name": "Regulation of protein localization to membrane",
         "orientation": "v",
         "showlegend": true,
         "type": "scatter",
         "x": [
          1.1343660676594111e-07
         ],
         "xaxis": "x",
         "y": [
          5.853515625
         ],
         "yaxis": "y"
        },
        {
         "hovertemplate": "go_term=Positive regulation of protein localization to membrane<br>fdr_bh=%{x}<br>odds=%{marker.size}<extra></extra>",
         "legendgroup": "Positive regulation of protein localization to membrane",
         "marker": {
          "color": "#FFA15A",
          "size": [
           7.050568561872909
          ],
          "sizemode": "area",
          "sizeref": 0.04421822436741261,
          "symbol": "circle"
         },
         "mode": "markers",
         "name": "Positive regulation of protein localization to membrane",
         "orientation": "v",
         "showlegend": true,
         "type": "scatter",
         "x": [
          3.6767792372547303e-07
         ],
         "xaxis": "x",
         "y": [
          7.050568561872909
         ],
         "yaxis": "y"
        },
        {
         "hovertemplate": "go_term=Vesicle fusion<br>fdr_bh=%{x}<br>odds=%{marker.size}<extra></extra>",
         "legendgroup": "Vesicle fusion",
         "marker": {
          "color": "#19d3f3",
          "size": [
           11.578544061302683
          ],
          "sizemode": "area",
          "sizeref": 0.04421822436741261,
          "symbol": "circle"
         },
         "mode": "markers",
         "name": "Vesicle fusion",
         "orientation": "v",
         "showlegend": true,
         "type": "scatter",
         "x": [
          1.1712758140933049e-08
         ],
         "xaxis": "x",
         "y": [
          11.578544061302683
         ],
         "yaxis": "y"
        },
        {
         "hovertemplate": "go_term=Response to metal ion<br>fdr_bh=%{x}<br>odds=%{marker.size}<extra></extra>",
         "legendgroup": "Response to metal ion",
         "marker": {
          "color": "#FF6692",
          "size": [
           3.17201938246563
          ],
          "sizemode": "area",
          "sizeref": 0.04421822436741261,
          "symbol": "circle"
         },
         "mode": "markers",
         "name": "Response to metal ion",
         "orientation": "v",
         "showlegend": true,
         "type": "scatter",
         "x": [
          6.35894487168867e-05
         ],
         "xaxis": "x",
         "y": [
          3.17201938246563
         ],
         "yaxis": "y"
        },
        {
         "hovertemplate": "go_term=Vesicle organization<br>fdr_bh=%{x}<br>odds=%{marker.size}<extra></extra>",
         "legendgroup": "Vesicle organization",
         "marker": {
          "color": "#B6E880",
          "size": [
           4.066327646544182
          ],
          "sizemode": "area",
          "sizeref": 0.04421822436741261,
          "symbol": "circle"
         },
         "mode": "markers",
         "name": "Vesicle organization",
         "orientation": "v",
         "showlegend": true,
         "type": "scatter",
         "x": [
          2.3691948065940726e-06
         ],
         "xaxis": "x",
         "y": [
          4.066327646544182
         ],
         "yaxis": "y"
        },
        {
         "hovertemplate": "go_term=Regulation of exocytosis<br>fdr_bh=%{x}<br>odds=%{marker.size}<extra></extra>",
         "legendgroup": "Regulation of exocytosis",
         "marker": {
          "color": "#FF97FF",
          "size": [
           6.886784520210615
          ],
          "sizemode": "area",
          "sizeref": 0.04421822436741261,
          "symbol": "circle"
         },
         "mode": "markers",
         "name": "Regulation of exocytosis",
         "orientation": "v",
         "showlegend": true,
         "type": "scatter",
         "x": [
          3.2468292007791317e-10
         ],
         "xaxis": "x",
         "y": [
          6.886784520210615
         ],
         "yaxis": "y"
        },
        {
         "hovertemplate": "go_term=Organelle fusion<br>fdr_bh=%{x}<br>odds=%{marker.size}<extra></extra>",
         "legendgroup": "Organelle fusion",
         "marker": {
          "color": "#FECB52",
          "size": [
           8.442808558267682
          ],
          "sizemode": "area",
          "sizeref": 0.04421822436741261,
          "symbol": "circle"
         },
         "mode": "markers",
         "name": "Organelle fusion",
         "orientation": "v",
         "showlegend": true,
         "type": "scatter",
         "x": [
          1.8484399085318392e-07
         ],
         "xaxis": "x",
         "y": [
          8.442808558267682
         ],
         "yaxis": "y"
        },
        {
         "hovertemplate": "go_term=Response to calcium ion<br>fdr_bh=%{x}<br>odds=%{marker.size}<extra></extra>",
         "legendgroup": "Response to calcium ion",
         "marker": {
          "color": "#636efa",
          "size": [
           5.467293117431552
          ],
          "sizemode": "area",
          "sizeref": 0.04421822436741261,
          "symbol": "circle"
         },
         "mode": "markers",
         "name": "Response to calcium ion",
         "orientation": "v",
         "showlegend": true,
         "type": "scatter",
         "x": [
          8.217105508034587e-06
         ],
         "xaxis": "x",
         "y": [
          5.467293117431552
         ],
         "yaxis": "y"
        },
        {
         "hovertemplate": "go_term=Regulation of amine transport<br>fdr_bh=%{x}<br>odds=%{marker.size}<extra></extra>",
         "legendgroup": "Regulation of amine transport",
         "marker": {
          "color": "#EF553B",
          "size": [
           8.75330949850227
          ],
          "sizemode": "area",
          "sizeref": 0.04421822436741261,
          "symbol": "circle"
         },
         "mode": "markers",
         "name": "Regulation of amine transport",
         "orientation": "v",
         "showlegend": true,
         "type": "scatter",
         "x": [
          3.6767792372547303e-07
         ],
         "xaxis": "x",
         "y": [
          8.75330949850227
         ],
         "yaxis": "y"
        },
        {
         "hovertemplate": "go_term=Membrane fusion<br>fdr_bh=%{x}<br>odds=%{marker.size}<extra></extra>",
         "legendgroup": "Membrane fusion",
         "marker": {
          "color": "#00cc96",
          "size": [
           6.0952558950876865
          ],
          "sizemode": "area",
          "sizeref": 0.04421822436741261,
          "symbol": "circle"
         },
         "mode": "markers",
         "name": "Membrane fusion",
         "orientation": "v",
         "showlegend": true,
         "type": "scatter",
         "x": [
          3.175931649413467e-06
         ],
         "xaxis": "x",
         "y": [
          6.0952558950876865
         ],
         "yaxis": "y"
        },
        {
         "hovertemplate": "go_term=Cellular response to inorganic substance<br>fdr_bh=%{x}<br>odds=%{marker.size}<extra></extra>",
         "legendgroup": "Cellular response to inorganic substance",
         "marker": {
          "color": "#ab63fa",
          "size": [
           5.490968801313629
          ],
          "sizemode": "area",
          "sizeref": 0.04421822436741261,
          "symbol": "circle"
         },
         "mode": "markers",
         "name": "Cellular response to inorganic substance",
         "orientation": "v",
         "showlegend": true,
         "type": "scatter",
         "x": [
          1.1765277443796866e-07
         ],
         "xaxis": "x",
         "y": [
          5.490968801313629
         ],
         "yaxis": "y"
        },
        {
         "hovertemplate": "go_term=Cellular response to metal ion<br>fdr_bh=%{x}<br>odds=%{marker.size}<extra></extra>",
         "legendgroup": "Cellular response to metal ion",
         "marker": {
          "color": "#FFA15A",
          "size": [
           5.252748215302413
          ],
          "sizemode": "area",
          "sizeref": 0.04421822436741261,
          "symbol": "circle"
         },
         "mode": "markers",
         "name": "Cellular response to metal ion",
         "orientation": "v",
         "showlegend": true,
         "type": "scatter",
         "x": [
          1.5026184412739937e-06
         ],
         "xaxis": "x",
         "y": [
          5.252748215302413
         ],
         "yaxis": "y"
        },
        {
         "hovertemplate": "go_term=Organelle membrane fusion<br>fdr_bh=%{x}<br>odds=%{marker.size}<extra></extra>",
         "legendgroup": "Organelle membrane fusion",
         "marker": {
          "color": "#19d3f3",
          "size": [
           10.448009791400596
          ],
          "sizemode": "area",
          "sizeref": 0.04421822436741261,
          "symbol": "circle"
         },
         "mode": "markers",
         "name": "Organelle membrane fusion",
         "orientation": "v",
         "showlegend": true,
         "type": "scatter",
         "x": [
          2.8202214262817372e-08
         ],
         "xaxis": "x",
         "y": [
          10.448009791400596
         ],
         "yaxis": "y"
        },
        {
         "hovertemplate": "go_term=Regulation of regulated secretory pathway<br>fdr_bh=%{x}<br>odds=%{marker.size}<extra></extra>",
         "legendgroup": "Regulation of regulated secretory pathway",
         "marker": {
          "color": "#FF6692",
          "size": [
           6.337393872277593
          ],
          "sizemode": "area",
          "sizeref": 0.04421822436741261,
          "symbol": "circle"
         },
         "mode": "markers",
         "name": "Regulation of regulated secretory pathway",
         "orientation": "v",
         "showlegend": true,
         "type": "scatter",
         "x": [
          2.044974289905549e-07
         ],
         "xaxis": "x",
         "y": [
          6.337393872277593
         ],
         "yaxis": "y"
        },
        {
         "hovertemplate": "go_term=Regulation of peptide secretion<br>fdr_bh=%{x}<br>odds=%{marker.size}<extra></extra>",
         "legendgroup": "Regulation of peptide secretion",
         "marker": {
          "color": "#B6E880",
          "size": [
           3.5961098398169336
          ],
          "sizemode": "area",
          "sizeref": 0.04421822436741261,
          "symbol": "circle"
         },
         "mode": "markers",
         "name": "Regulation of peptide secretion",
         "orientation": "v",
         "showlegend": true,
         "type": "scatter",
         "x": [
          6.725943450778252e-06
         ],
         "xaxis": "x",
         "y": [
          3.5961098398169336
         ],
         "yaxis": "y"
        },
        {
         "hovertemplate": "go_term=Regulation of protein secretion<br>fdr_bh=%{x}<br>odds=%{marker.size}<extra></extra>",
         "legendgroup": "Regulation of protein secretion",
         "marker": {
          "color": "#FF97FF",
          "size": [
           3.735251943347337
          ],
          "sizemode": "area",
          "sizeref": 0.04421822436741261,
          "symbol": "circle"
         },
         "mode": "markers",
         "name": "Regulation of protein secretion",
         "orientation": "v",
         "showlegend": true,
         "type": "scatter",
         "x": [
          6.725943450778252e-06
         ],
         "xaxis": "x",
         "y": [
          3.735251943347337
         ],
         "yaxis": "y"
        },
        {
         "hovertemplate": "go_term=Negative regulation of transport<br>fdr_bh=%{x}<br>odds=%{marker.size}<extra></extra>",
         "legendgroup": "Negative regulation of transport",
         "marker": {
          "color": "#FECB52",
          "size": [
           2.4386029411764705
          ],
          "sizemode": "area",
          "sizeref": 0.04421822436741261,
          "symbol": "circle"
         },
         "mode": "markers",
         "name": "Negative regulation of transport",
         "orientation": "v",
         "showlegend": true,
         "type": "scatter",
         "x": [
          0.0017872397284943618
         ],
         "xaxis": "x",
         "y": [
          2.4386029411764705
         ],
         "yaxis": "y"
        },
        {
         "hovertemplate": "go_term=Regulation of leukocyte proliferation<br>fdr_bh=%{x}<br>odds=%{marker.size}<extra></extra>",
         "legendgroup": "Regulation of leukocyte proliferation",
         "marker": {
          "color": "#636efa",
          "size": [
           3.043664122137405
          ],
          "sizemode": "area",
          "sizeref": 0.04421822436741261,
          "symbol": "circle"
         },
         "mode": "markers",
         "name": "Regulation of leukocyte proliferation",
         "orientation": "v",
         "showlegend": true,
         "type": "scatter",
         "x": [
          0.0015399476193149533
         ],
         "xaxis": "x",
         "y": [
          3.043664122137405
         ],
         "yaxis": "y"
        },
        {
         "hovertemplate": "go_term=Cell junction assembly<br>fdr_bh=%{x}<br>odds=%{marker.size}<extra></extra>",
         "legendgroup": "Cell junction assembly",
         "marker": {
          "color": "#EF553B",
          "size": [
           3.0176113360323886
          ],
          "sizemode": "area",
          "sizeref": 0.04421822436741261,
          "symbol": "circle"
         },
         "mode": "markers",
         "name": "Cell junction assembly",
         "orientation": "v",
         "showlegend": true,
         "type": "scatter",
         "x": [
          0.0007516271608733033
         ],
         "xaxis": "x",
         "y": [
          3.0176113360323886
         ],
         "yaxis": "y"
        },
        {
         "hovertemplate": "go_term=Regulation of neurotransmitter levels<br>fdr_bh=%{x}<br>odds=%{marker.size}<extra></extra>",
         "legendgroup": "Regulation of neurotransmitter levels",
         "marker": {
          "color": "#00cc96",
          "size": [
           6.243943191311613
          ],
          "sizemode": "area",
          "sizeref": 0.04421822436741261,
          "symbol": "circle"
         },
         "mode": "markers",
         "name": "Regulation of neurotransmitter levels",
         "orientation": "v",
         "showlegend": true,
         "type": "scatter",
         "x": [
          2.561453783491198e-09
         ],
         "xaxis": "x",
         "y": [
          6.243943191311613
         ],
         "yaxis": "y"
        },
        {
         "hovertemplate": "go_term=Neutrophil activation involved in immune response<br>fdr_bh=%{x}<br>odds=%{marker.size}<extra></extra>",
         "legendgroup": "Neutrophil activation involved in immune response",
         "marker": {
          "color": "#ab63fa",
          "size": [
           3.633616118769883
          ],
          "sizemode": "area",
          "sizeref": 0.04421822436741261,
          "symbol": "circle"
         },
         "mode": "markers",
         "name": "Neutrophil activation involved in immune response",
         "orientation": "v",
         "showlegend": true,
         "type": "scatter",
         "x": [
          2.8393787053698277e-07
         ],
         "xaxis": "x",
         "y": [
          3.633616118769883
         ],
         "yaxis": "y"
        },
        {
         "hovertemplate": "go_term=Neutrophil mediated immunity<br>fdr_bh=%{x}<br>odds=%{marker.size}<extra></extra>",
         "legendgroup": "Neutrophil mediated immunity",
         "marker": {
          "color": "#FFA15A",
          "size": [
           3.577444682369736
          ],
          "sizemode": "area",
          "sizeref": 0.04421822436741261,
          "symbol": "circle"
         },
         "mode": "markers",
         "name": "Neutrophil mediated immunity",
         "orientation": "v",
         "showlegend": true,
         "type": "scatter",
         "x": [
          3.6767792372547303e-07
         ],
         "xaxis": "x",
         "y": [
          3.577444682369736
         ],
         "yaxis": "y"
        },
        {
         "hovertemplate": "go_term=Neurotransmitter transport<br>fdr_bh=%{x}<br>odds=%{marker.size}<extra></extra>",
         "legendgroup": "Neurotransmitter transport",
         "marker": {
          "color": "#19d3f3",
          "size": [
           7.02780545522481
          ],
          "sizemode": "area",
          "sizeref": 0.04421822436741261,
          "symbol": "circle"
         },
         "mode": "markers",
         "name": "Neurotransmitter transport",
         "orientation": "v",
         "showlegend": true,
         "type": "scatter",
         "x": [
          1.6122129615339473e-07
         ],
         "xaxis": "x",
         "y": [
          7.02780545522481
         ],
         "yaxis": "y"
        },
        {
         "hovertemplate": "go_term=Chemical synaptic transmission<br>fdr_bh=%{x}<br>odds=%{marker.size}<extra></extra>",
         "legendgroup": "Chemical synaptic transmission",
         "marker": {
          "color": "#FF6692",
          "size": [
           4.306233062330623
          ],
          "sizemode": "area",
          "sizeref": 0.04421822436741261,
          "symbol": "circle"
         },
         "mode": "markers",
         "name": "Chemical synaptic transmission",
         "orientation": "v",
         "showlegend": true,
         "type": "scatter",
         "x": [
          1.819566698357154e-08
         ],
         "xaxis": "x",
         "y": [
          4.306233062330623
         ],
         "yaxis": "y"
        },
        {
         "hovertemplate": "go_term=Neurotransmitter secretion<br>fdr_bh=%{x}<br>odds=%{marker.size}<extra></extra>",
         "legendgroup": "Neurotransmitter secretion",
         "marker": {
          "color": "#B6E880",
          "size": [
           9.230332167832168
          ],
          "sizemode": "area",
          "sizeref": 0.04421822436741261,
          "symbol": "circle"
         },
         "mode": "markers",
         "name": "Neurotransmitter secretion",
         "orientation": "v",
         "showlegend": true,
         "type": "scatter",
         "x": [
          2.8202214262817372e-08
         ],
         "xaxis": "x",
         "y": [
          9.230332167832168
         ],
         "yaxis": "y"
        },
        {
         "hovertemplate": "go_term=Membrane docking<br>fdr_bh=%{x}<br>odds=%{marker.size}<extra></extra>",
         "legendgroup": "Membrane docking",
         "marker": {
          "color": "#FF97FF",
          "size": [
           5.709230988728777
          ],
          "sizemode": "area",
          "sizeref": 0.04421822436741261,
          "symbol": "circle"
         },
         "mode": "markers",
         "name": "Membrane docking",
         "orientation": "v",
         "showlegend": true,
         "type": "scatter",
         "x": [
          6.064937846190706e-07
         ],
         "xaxis": "x",
         "y": [
          5.709230988728777
         ],
         "yaxis": "y"
        },
        {
         "hovertemplate": "go_term=Signal release<br>fdr_bh=%{x}<br>odds=%{marker.size}<extra></extra>",
         "legendgroup": "Signal release",
         "marker": {
          "color": "#FECB52",
          "size": [
           5.135294873442118
          ],
          "sizemode": "area",
          "sizeref": 0.04421822436741261,
          "symbol": "circle"
         },
         "mode": "markers",
         "name": "Signal release",
         "orientation": "v",
         "showlegend": true,
         "type": "scatter",
         "x": [
          1.8128736175156308e-06
         ],
         "xaxis": "x",
         "y": [
          5.135294873442118
         ],
         "yaxis": "y"
        },
        {
         "hovertemplate": "go_term=Cell projection assembly<br>fdr_bh=%{x}<br>odds=%{marker.size}<extra></extra>",
         "legendgroup": "Cell projection assembly",
         "marker": {
          "color": "#636efa",
          "size": [
           2.250860434395809
          ],
          "sizemode": "area",
          "sizeref": 0.04421822436741261,
          "symbol": "circle"
         },
         "mode": "markers",
         "name": "Cell projection assembly",
         "orientation": "v",
         "showlegend": true,
         "type": "scatter",
         "x": [
          0.003972991808110663
         ],
         "xaxis": "x",
         "y": [
          2.250860434395809
         ],
         "yaxis": "y"
        },
        {
         "hovertemplate": "go_term=Neutrophil activation<br>fdr_bh=%{x}<br>odds=%{marker.size}<extra></extra>",
         "legendgroup": "Neutrophil activation",
         "marker": {
          "color": "#EF553B",
          "size": [
           3.71162567591139
          ],
          "sizemode": "area",
          "sizeref": 0.04421822436741261,
          "symbol": "circle"
         },
         "mode": "markers",
         "name": "Neutrophil activation",
         "orientation": "v",
         "showlegend": true,
         "type": "scatter",
         "x": [
          1.3624763375596233e-07
         ],
         "xaxis": "x",
         "y": [
          3.71162567591139
         ],
         "yaxis": "y"
        },
        {
         "hovertemplate": "go_term=Neutrophil degranulation<br>fdr_bh=%{x}<br>odds=%{marker.size}<extra></extra>",
         "legendgroup": "Neutrophil degranulation",
         "marker": {
          "color": "#00cc96",
          "size": [
           3.66648837541007
          ],
          "sizemode": "area",
          "sizeref": 0.04421822436741261,
          "symbol": "circle"
         },
         "mode": "markers",
         "name": "Neutrophil degranulation",
         "orientation": "v",
         "showlegend": true,
         "type": "scatter",
         "x": [
          2.4858464412591497e-07
         ],
         "xaxis": "x",
         "y": [
          3.66648837541007
         ],
         "yaxis": "y"
        },
        {
         "hovertemplate": "go_term=Establishment of organelle localization<br>fdr_bh=%{x}<br>odds=%{marker.size}<extra></extra>",
         "legendgroup": "Establishment of organelle localization",
         "marker": {
          "color": "#ab63fa",
          "size": [
           2.3167588437858706
          ],
          "sizemode": "area",
          "sizeref": 0.04421822436741261,
          "symbol": "circle"
         },
         "mode": "markers",
         "name": "Establishment of organelle localization",
         "orientation": "v",
         "showlegend": true,
         "type": "scatter",
         "x": [
          0.005671459575426965
         ],
         "xaxis": "x",
         "y": [
          2.3167588437858706
         ],
         "yaxis": "y"
        },
        {
         "hovertemplate": "go_term=Anterograde trans-synaptic signaling<br>fdr_bh=%{x}<br>odds=%{marker.size}<extra></extra>",
         "legendgroup": "Anterograde trans-synaptic signaling",
         "marker": {
          "color": "#FFA15A",
          "size": [
           4.306233062330623
          ],
          "sizemode": "area",
          "sizeref": 0.04421822436741261,
          "symbol": "circle"
         },
         "mode": "markers",
         "name": "Anterograde trans-synaptic signaling",
         "orientation": "v",
         "showlegend": true,
         "type": "scatter",
         "x": [
          1.819566698357154e-08
         ],
         "xaxis": "x",
         "y": [
          4.306233062330623
         ],
         "yaxis": "y"
        },
        {
         "hovertemplate": "go_term=Vesicle-mediated transport in synapse<br>fdr_bh=%{x}<br>odds=%{marker.size}<extra></extra>",
         "legendgroup": "Vesicle-mediated transport in synapse",
         "marker": {
          "color": "#19d3f3",
          "size": [
           7.582340104079234
          ],
          "sizemode": "area",
          "sizeref": 0.04421822436741261,
          "symbol": "circle"
         },
         "mode": "markers",
         "name": "Vesicle-mediated transport in synapse",
         "orientation": "v",
         "showlegend": true,
         "type": "scatter",
         "x": [
          7.624566488515086e-08
         ],
         "xaxis": "x",
         "y": [
          7.582340104079234
         ],
         "yaxis": "y"
        },
        {
         "hovertemplate": "go_term=Synaptic vesicle cycle<br>fdr_bh=%{x}<br>odds=%{marker.size}<extra></extra>",
         "legendgroup": "Synaptic vesicle cycle",
         "marker": {
          "color": "#FF6692",
          "size": [
           6.39058524173028
          ],
          "sizemode": "area",
          "sizeref": 0.04421822436741261,
          "symbol": "circle"
         },
         "mode": "markers",
         "name": "Synaptic vesicle cycle",
         "orientation": "v",
         "showlegend": true,
         "type": "scatter",
         "x": [
          4.827847891053122e-06
         ],
         "xaxis": "x",
         "y": [
          6.39058524173028
         ],
         "yaxis": "y"
        },
        {
         "hovertemplate": "go_term=Synaptic signaling<br>fdr_bh=%{x}<br>odds=%{marker.size}<extra></extra>",
         "legendgroup": "Synaptic signaling",
         "marker": {
          "color": "#B6E880",
          "size": [
           5.030745317326868
          ],
          "sizemode": "area",
          "sizeref": 0.04421822436741261,
          "symbol": "circle"
         },
         "mode": "markers",
         "name": "Synaptic signaling",
         "orientation": "v",
         "showlegend": true,
         "type": "scatter",
         "x": [
          1.7527690024357397e-11
         ],
         "xaxis": "x",
         "y": [
          5.030745317326868
         ],
         "yaxis": "y"
        },
        {
         "hovertemplate": "go_term=Trans-synaptic signaling<br>fdr_bh=%{x}<br>odds=%{marker.size}<extra></extra>",
         "legendgroup": "Trans-synaptic signaling",
         "marker": {
          "color": "#FF97FF",
          "size": [
           4.285654114225543
          ],
          "sizemode": "area",
          "sizeref": 0.04421822436741261,
          "symbol": "circle"
         },
         "mode": "markers",
         "name": "Trans-synaptic signaling",
         "orientation": "v",
         "showlegend": true,
         "type": "scatter",
         "x": [
          1.1712758140933049e-08
         ],
         "xaxis": "x",
         "y": [
          4.285654114225543
         ],
         "yaxis": "y"
        },
        {
         "hovertemplate": "go_term=Signal release from synapse<br>fdr_bh=%{x}<br>odds=%{marker.size}<extra></extra>",
         "legendgroup": "Signal release from synapse",
         "marker": {
          "color": "#FECB52",
          "size": [
           9.230332167832168
          ],
          "sizemode": "area",
          "sizeref": 0.04421822436741261,
          "symbol": "circle"
         },
         "mode": "markers",
         "name": "Signal release from synapse",
         "orientation": "v",
         "showlegend": true,
         "type": "scatter",
         "x": [
          2.8202214262817372e-08
         ],
         "xaxis": "x",
         "y": [
          9.230332167832168
         ],
         "yaxis": "y"
        },
        {
         "hovertemplate": "go_term=Plasma membrane bounded cell projection assembly<br>fdr_bh=%{x}<br>odds=%{marker.size}<extra></extra>",
         "legendgroup": "Plasma membrane bounded cell projection assembly",
         "marker": {
          "color": "#636efa",
          "size": [
           2.3455458695001496
          ],
          "sizemode": "area",
          "sizeref": 0.04421822436741261,
          "symbol": "circle"
         },
         "mode": "markers",
         "name": "Plasma membrane bounded cell projection assembly",
         "orientation": "v",
         "showlegend": true,
         "type": "scatter",
         "x": [
          0.003005039386441788
         ],
         "xaxis": "x",
         "y": [
          2.3455458695001496
         ],
         "yaxis": "y"
        },
        {
         "hovertemplate": "go_term=Exocytic process<br>fdr_bh=%{x}<br>odds=%{marker.size}<extra></extra>",
         "legendgroup": "Exocytic process",
         "marker": {
          "color": "#EF553B",
          "size": [
           11.73605899857679
          ],
          "sizemode": "area",
          "sizeref": 0.04421822436741261,
          "symbol": "circle"
         },
         "mode": "markers",
         "name": "Exocytic process",
         "orientation": "v",
         "showlegend": true,
         "type": "scatter",
         "x": [
          3.242530479317249e-08
         ],
         "xaxis": "x",
         "y": [
          11.73605899857679
         ],
         "yaxis": "y"
        },
        {
         "hovertemplate": "go_term=Organelle localization by membrane tethering<br>fdr_bh=%{x}<br>odds=%{marker.size}<extra></extra>",
         "legendgroup": "Organelle localization by membrane tethering",
         "marker": {
          "color": "#00cc96",
          "size": [
           5.6106613525968365
          ],
          "sizemode": "area",
          "sizeref": 0.04421822436741261,
          "symbol": "circle"
         },
         "mode": "markers",
         "name": "Organelle localization by membrane tethering",
         "orientation": "v",
         "showlegend": true,
         "type": "scatter",
         "x": [
          1.5499501333638892e-06
         ],
         "xaxis": "x",
         "y": [
          5.6106613525968365
         ],
         "yaxis": "y"
        },
        {
         "hovertemplate": "go_term=Aging<br>fdr_bh=%{x}<br>odds=%{marker.size}<extra></extra>",
         "legendgroup": "Aging",
         "marker": {
          "color": "#ab63fa",
          "size": [
           2.846141424817604
          ],
          "sizemode": "area",
          "sizeref": 0.04421822436741261,
          "symbol": "circle"
         },
         "mode": "markers",
         "name": "Aging",
         "orientation": "v",
         "showlegend": true,
         "type": "scatter",
         "x": [
          0.0017374251021446848
         ],
         "xaxis": "x",
         "y": [
          2.846141424817604
         ],
         "yaxis": "y"
        },
        {
         "hovertemplate": "go_term=Negative regulation of cell migration<br>fdr_bh=%{x}<br>odds=%{marker.size}<extra></extra>",
         "legendgroup": "Negative regulation of cell migration",
         "marker": {
          "color": "#FFA15A",
          "size": [
           2.98570527320008
          ],
          "sizemode": "area",
          "sizeref": 0.04421822436741261,
          "symbol": "circle"
         },
         "mode": "markers",
         "name": "Negative regulation of cell migration",
         "orientation": "v",
         "showlegend": true,
         "type": "scatter",
         "x": [
          0.001195637490835149
         ],
         "xaxis": "x",
         "y": [
          2.98570527320008
         ],
         "yaxis": "y"
        },
        {
         "hovertemplate": "go_term=Negative regulation of locomotion<br>fdr_bh=%{x}<br>odds=%{marker.size}<extra></extra>",
         "legendgroup": "Negative regulation of locomotion",
         "marker": {
          "color": "#19d3f3",
          "size": [
           2.920489496760683
          ],
          "sizemode": "area",
          "sizeref": 0.04421822436741261,
          "symbol": "circle"
         },
         "mode": "markers",
         "name": "Negative regulation of locomotion",
         "orientation": "v",
         "showlegend": true,
         "type": "scatter",
         "x": [
          0.0006814508259968972
         ],
         "xaxis": "x",
         "y": [
          2.920489496760683
         ],
         "yaxis": "y"
        },
        {
         "hovertemplate": "go_term=Positive regulation of ion transport<br>fdr_bh=%{x}<br>odds=%{marker.size}<extra></extra>",
         "legendgroup": "Positive regulation of ion transport",
         "marker": {
          "color": "#FF6692",
          "size": [
           2.960942378654556
          ],
          "sizemode": "area",
          "sizeref": 0.04421822436741261,
          "symbol": "circle"
         },
         "mode": "markers",
         "name": "Positive regulation of ion transport",
         "orientation": "v",
         "showlegend": true,
         "type": "scatter",
         "x": [
          0.0008814729250395618
         ],
         "xaxis": "x",
         "y": [
          2.960942378654556
         ],
         "yaxis": "y"
        },
        {
         "hovertemplate": "go_term=Regulation of map kinase activity<br>fdr_bh=%{x}<br>odds=%{marker.size}<extra></extra>",
         "legendgroup": "Regulation of map kinase activity",
         "marker": {
          "color": "#B6E880",
          "size": [
           5.376055098130599
          ],
          "sizemode": "area",
          "sizeref": 0.04421822436741261,
          "symbol": "circle"
         },
         "mode": "markers",
         "name": "Regulation of map kinase activity",
         "orientation": "v",
         "showlegend": true,
         "type": "scatter",
         "x": [
          4.350993456841241e-10
         ],
         "xaxis": "x",
         "y": [
          5.376055098130599
         ],
         "yaxis": "y"
        },
        {
         "hovertemplate": "go_term=Positive regulation of map kinase activity<br>fdr_bh=%{x}<br>odds=%{marker.size}<extra></extra>",
         "legendgroup": "Positive regulation of map kinase activity",
         "marker": {
          "color": "#FF97FF",
          "size": [
           5.94004979253112
          ],
          "sizemode": "area",
          "sizeref": 0.04421822436741261,
          "symbol": "circle"
         },
         "mode": "markers",
         "name": "Positive regulation of map kinase activity",
         "orientation": "v",
         "showlegend": true,
         "type": "scatter",
         "x": [
          1.2724644722770947e-09
         ],
         "xaxis": "x",
         "y": [
          5.94004979253112
         ],
         "yaxis": "y"
        },
        {
         "hovertemplate": "go_term=Regulation of peptidyl-tyrosine phosphorylation<br>fdr_bh=%{x}<br>odds=%{marker.size}<extra></extra>",
         "legendgroup": "Regulation of peptidyl-tyrosine phosphorylation",
         "marker": {
          "color": "#FECB52",
          "size": [
           3.82522903453136
          ],
          "sizemode": "area",
          "sizeref": 0.04421822436741261,
          "symbol": "circle"
         },
         "mode": "markers",
         "name": "Regulation of peptidyl-tyrosine phosphorylation",
         "orientation": "v",
         "showlegend": true,
         "type": "scatter",
         "x": [
          3.4159330441588415e-05
         ],
         "xaxis": "x",
         "y": [
          3.82522903453136
         ],
         "yaxis": "y"
        },
        {
         "hovertemplate": "go_term=Positive regulation of secretion<br>fdr_bh=%{x}<br>odds=%{marker.size}<extra></extra>",
         "legendgroup": "Positive regulation of secretion",
         "marker": {
          "color": "#636efa",
          "size": [
           3.445091930853338
          ],
          "sizemode": "area",
          "sizeref": 0.04421822436741261,
          "symbol": "circle"
         },
         "mode": "markers",
         "name": "Positive regulation of secretion",
         "orientation": "v",
         "showlegend": true,
         "type": "scatter",
         "x": [
          2.621461551279989e-05
         ],
         "xaxis": "x",
         "y": [
          3.445091930853338
         ],
         "yaxis": "y"
        },
        {
         "hovertemplate": "go_term=Positive regulation of protein transport<br>fdr_bh=%{x}<br>odds=%{marker.size}<extra></extra>",
         "legendgroup": "Positive regulation of protein transport",
         "marker": {
          "color": "#EF553B",
          "size": [
           3.3182594359064947
          ],
          "sizemode": "area",
          "sizeref": 0.04421822436741261,
          "symbol": "circle"
         },
         "mode": "markers",
         "name": "Positive regulation of protein transport",
         "orientation": "v",
         "showlegend": true,
         "type": "scatter",
         "x": [
          3.8754091847675206e-05
         ],
         "xaxis": "x",
         "y": [
          3.3182594359064947
         ],
         "yaxis": "y"
        },
        {
         "hovertemplate": "go_term=Negative regulation of cellular component movement<br>fdr_bh=%{x}<br>odds=%{marker.size}<extra></extra>",
         "legendgroup": "Negative regulation of cellular component movement",
         "marker": {
          "color": "#00cc96",
          "size": [
           2.697021497021497
          ],
          "sizemode": "area",
          "sizeref": 0.04421822436741261,
          "symbol": "circle"
         },
         "mode": "markers",
         "name": "Negative regulation of cellular component movement",
         "orientation": "v",
         "showlegend": true,
         "type": "scatter",
         "x": [
          0.0018697504788968337
         ],
         "xaxis": "x",
         "y": [
          2.697021497021497
         ],
         "yaxis": "y"
        },
        {
         "hovertemplate": "go_term=Regulation of erk1 and erk2 cascade<br>fdr_bh=%{x}<br>odds=%{marker.size}<extra></extra>",
         "legendgroup": "Regulation of erk1 and erk2 cascade",
         "marker": {
          "color": "#ab63fa",
          "size": [
           3.5820870180403253
          ],
          "sizemode": "area",
          "sizeref": 0.04421822436741261,
          "symbol": "circle"
         },
         "mode": "markers",
         "name": "Regulation of erk1 and erk2 cascade",
         "orientation": "v",
         "showlegend": true,
         "type": "scatter",
         "x": [
          4.0855425370257824e-05
         ],
         "xaxis": "x",
         "y": [
          3.5820870180403253
         ],
         "yaxis": "y"
        },
        {
         "hovertemplate": "go_term=Positive regulation of erk1 and erk2 cascade<br>fdr_bh=%{x}<br>odds=%{marker.size}<extra></extra>",
         "legendgroup": "Positive regulation of erk1 and erk2 cascade",
         "marker": {
          "color": "#FFA15A",
          "size": [
           3.8065329580107905
          ],
          "sizemode": "area",
          "sizeref": 0.04421822436741261,
          "symbol": "circle"
         },
         "mode": "markers",
         "name": "Positive regulation of erk1 and erk2 cascade",
         "orientation": "v",
         "showlegend": true,
         "type": "scatter",
         "x": [
          0.00017333219644251118
         ],
         "xaxis": "x",
         "y": [
          3.8065329580107905
         ],
         "yaxis": "y"
        },
        {
         "hovertemplate": "go_term=Positive regulation of protein serine/threonine kinase activity<br>fdr_bh=%{x}<br>odds=%{marker.size}<extra></extra>",
         "legendgroup": "Positive regulation of protein serine/threonine kinase activity",
         "marker": {
          "color": "#19d3f3",
          "size": [
           4.609148668979323
          ],
          "sizemode": "area",
          "sizeref": 0.04421822436741261,
          "symbol": "circle"
         },
         "mode": "markers",
         "name": "Positive regulation of protein serine/threonine kinase activity",
         "orientation": "v",
         "showlegend": true,
         "type": "scatter",
         "x": [
          2.8202214262817372e-08
         ],
         "xaxis": "x",
         "y": [
          4.609148668979323
         ],
         "yaxis": "y"
        },
        {
         "hovertemplate": "go_term=Positive regulation of secretion by cell<br>fdr_bh=%{x}<br>odds=%{marker.size}<extra></extra>",
         "legendgroup": "Positive regulation of secretion by cell",
         "marker": {
          "color": "#FF6692",
          "size": [
           3.5565210459183674
          ],
          "sizemode": "area",
          "sizeref": 0.04421822436741261,
          "symbol": "circle"
         },
         "mode": "markers",
         "name": "Positive regulation of secretion by cell",
         "orientation": "v",
         "showlegend": true,
         "type": "scatter",
         "x": [
          2.8647060825752924e-05
         ],
         "xaxis": "x",
         "y": [
          3.5565210459183674
         ],
         "yaxis": "y"
        },
        {
         "hovertemplate": "go_term=Positive regulation of establishment of protein localization<br>fdr_bh=%{x}<br>odds=%{marker.size}<extra></extra>",
         "legendgroup": "Positive regulation of establishment of protein localization",
         "marker": {
          "color": "#B6E880",
          "size": [
           3.162717006573403
          ],
          "sizemode": "area",
          "sizeref": 0.04421822436741261,
          "symbol": "circle"
         },
         "mode": "markers",
         "name": "Positive regulation of establishment of protein localization",
         "orientation": "v",
         "showlegend": true,
         "type": "scatter",
         "x": [
          6.553679381135351e-05
         ],
         "xaxis": "x",
         "y": [
          3.162717006573403
         ],
         "yaxis": "y"
        },
        {
         "hovertemplate": "go_term=Negative regulation of cell motility<br>fdr_bh=%{x}<br>odds=%{marker.size}<extra></extra>",
         "legendgroup": "Negative regulation of cell motility",
         "marker": {
          "color": "#FF97FF",
          "size": [
           3.0408799533799535
          ],
          "sizemode": "area",
          "sizeref": 0.04421822436741261,
          "symbol": "circle"
         },
         "mode": "markers",
         "name": "Negative regulation of cell motility",
         "orientation": "v",
         "showlegend": true,
         "type": "scatter",
         "x": [
          0.0007035967067082537
         ],
         "xaxis": "x",
         "y": [
          3.0408799533799535
         ],
         "yaxis": "y"
        },
        {
         "hovertemplate": "go_term=Regulation of apoptotic signaling pathway<br>fdr_bh=%{x}<br>odds=%{marker.size}<extra></extra>",
         "legendgroup": "Regulation of apoptotic signaling pathway",
         "marker": {
          "color": "#FECB52",
          "size": [
           2.9901018156792096
          ],
          "sizemode": "area",
          "sizeref": 0.04421822436741261,
          "symbol": "circle"
         },
         "mode": "markers",
         "name": "Regulation of apoptotic signaling pathway",
         "orientation": "v",
         "showlegend": true,
         "type": "scatter",
         "x": [
          8.599918789267021e-05
         ],
         "xaxis": "x",
         "y": [
          2.9901018156792096
         ],
         "yaxis": "y"
        },
        {
         "hovertemplate": "go_term=Negative regulation of apoptotic signaling pathway<br>fdr_bh=%{x}<br>odds=%{marker.size}<extra></extra>",
         "legendgroup": "Negative regulation of apoptotic signaling pathway",
         "marker": {
          "color": "#636efa",
          "size": [
           2.830858696213203
          ],
          "sizemode": "area",
          "sizeref": 0.04421822436741261,
          "symbol": "circle"
         },
         "mode": "markers",
         "name": "Negative regulation of apoptotic signaling pathway",
         "orientation": "v",
         "showlegend": true,
         "type": "scatter",
         "x": [
          0.0037136993434985165
         ],
         "xaxis": "x",
         "y": [
          2.830858696213203
         ],
         "yaxis": "y"
        },
        {
         "hovertemplate": "go_term=MAPK cascade<br>fdr_bh=%{x}<br>odds=%{marker.size}<extra></extra>",
         "legendgroup": "MAPK cascade",
         "marker": {
          "color": "#EF553B",
          "size": [
           3.9103987508180533
          ],
          "sizemode": "area",
          "sizeref": 0.04421822436741261,
          "symbol": "circle"
         },
         "mode": "markers",
         "name": "MAPK cascade",
         "orientation": "v",
         "showlegend": true,
         "type": "scatter",
         "x": [
          9.241868024269815e-07
         ],
         "xaxis": "x",
         "y": [
          3.9103987508180533
         ],
         "yaxis": "y"
        },
        {
         "hovertemplate": "go_term=Response to reactive oxygen species<br>fdr_bh=%{x}<br>odds=%{marker.size}<extra></extra>",
         "legendgroup": "Response to reactive oxygen species",
         "marker": {
          "color": "#00cc96",
          "size": [
           5.47675043532472
          ],
          "sizemode": "area",
          "sizeref": 0.04421822436741261,
          "symbol": "circle"
         },
         "mode": "markers",
         "name": "Response to reactive oxygen species",
         "orientation": "v",
         "showlegend": true,
         "type": "scatter",
         "x": [
          4.629155158002716e-07
         ],
         "xaxis": "x",
         "y": [
          5.47675043532472
         ],
         "yaxis": "y"
        },
        {
         "hovertemplate": "go_term=Activation of immune response<br>fdr_bh=%{x}<br>odds=%{marker.size}<extra></extra>",
         "legendgroup": "Activation of immune response",
         "marker": {
          "color": "#ab63fa",
          "size": [
           2.6601146168161054
          ],
          "sizemode": "area",
          "sizeref": 0.04421822436741261,
          "symbol": "circle"
         },
         "mode": "markers",
         "name": "Activation of immune response",
         "orientation": "v",
         "showlegend": true,
         "type": "scatter",
         "x": [
          0.0008149520167732835
         ],
         "xaxis": "x",
         "y": [
          2.6601146168161054
         ],
         "yaxis": "y"
        },
        {
         "hovertemplate": "go_term=Immune response-activating cell surface receptor signaling pathway<br>fdr_bh=%{x}<br>odds=%{marker.size}<extra></extra>",
         "legendgroup": "Immune response-activating cell surface receptor signaling pathway",
         "marker": {
          "color": "#FFA15A",
          "size": [
           3.12684272763106
          ],
          "sizemode": "area",
          "sizeref": 0.04421822436741261,
          "symbol": "circle"
         },
         "mode": "markers",
         "name": "Immune response-activating cell surface receptor signaling pathway",
         "orientation": "v",
         "showlegend": true,
         "type": "scatter",
         "x": [
          0.0002491905668539952
         ],
         "xaxis": "x",
         "y": [
          3.12684272763106
         ],
         "yaxis": "y"
        },
        {
         "hovertemplate": "go_term=Immune response-activating signal transduction<br>fdr_bh=%{x}<br>odds=%{marker.size}<extra></extra>",
         "legendgroup": "Immune response-activating signal transduction",
         "marker": {
          "color": "#19d3f3",
          "size": [
           3.12684272763106
          ],
          "sizemode": "area",
          "sizeref": 0.04421822436741261,
          "symbol": "circle"
         },
         "mode": "markers",
         "name": "Immune response-activating signal transduction",
         "orientation": "v",
         "showlegend": true,
         "type": "scatter",
         "x": [
          0.0002491905668539952
         ],
         "xaxis": "x",
         "y": [
          3.12684272763106
         ],
         "yaxis": "y"
        },
        {
         "hovertemplate": "go_term=Immune response-regulating signaling pathway<br>fdr_bh=%{x}<br>odds=%{marker.size}<extra></extra>",
         "legendgroup": "Immune response-regulating signaling pathway",
         "marker": {
          "color": "#FF6692",
          "size": [
           3.7531451846139015
          ],
          "sizemode": "area",
          "sizeref": 0.04421822436741261,
          "symbol": "circle"
         },
         "mode": "markers",
         "name": "Immune response-regulating signaling pathway",
         "orientation": "v",
         "showlegend": true,
         "type": "scatter",
         "x": [
          4.023600340964007e-06
         ],
         "xaxis": "x",
         "y": [
          3.7531451846139015
         ],
         "yaxis": "y"
        },
        {
         "hovertemplate": "go_term=Immune response-regulating cell surface receptor signaling pathway<br>fdr_bh=%{x}<br>odds=%{marker.size}<extra></extra>",
         "legendgroup": "Immune response-regulating cell surface receptor signaling pathway",
         "marker": {
          "color": "#B6E880",
          "size": [
           3.7885557920340527
          ],
          "sizemode": "area",
          "sizeref": 0.04421822436741261,
          "symbol": "circle"
         },
         "mode": "markers",
         "name": "Immune response-regulating cell surface receptor signaling pathway",
         "orientation": "v",
         "showlegend": true,
         "type": "scatter",
         "x": [
          3.5439912942116353e-06
         ],
         "xaxis": "x",
         "y": [
          3.7885557920340527
         ],
         "yaxis": "y"
        },
        {
         "hovertemplate": "go_term=Endocytosis<br>fdr_bh=%{x}<br>odds=%{marker.size}<extra></extra>",
         "legendgroup": "Endocytosis",
         "marker": {
          "color": "#FF97FF",
          "size": [
           5.807516089161659
          ],
          "sizemode": "area",
          "sizeref": 0.04421822436741261,
          "symbol": "circle"
         },
         "mode": "markers",
         "name": "Endocytosis",
         "orientation": "v",
         "showlegend": true,
         "type": "scatter",
         "x": [
          1.758524448635723e-13
         ],
         "xaxis": "x",
         "y": [
          5.807516089161659
         ],
         "yaxis": "y"
        },
        {
         "hovertemplate": "go_term=Phagocytosis<br>fdr_bh=%{x}<br>odds=%{marker.size}<extra></extra>",
         "legendgroup": "Phagocytosis",
         "marker": {
          "color": "#FECB52",
          "size": [
           6.951156703816278
          ],
          "sizemode": "area",
          "sizeref": 0.04421822436741261,
          "symbol": "circle"
         },
         "mode": "markers",
         "name": "Phagocytosis",
         "orientation": "v",
         "showlegend": true,
         "type": "scatter",
         "x": [
          5.157666499525177e-10
         ],
         "xaxis": "x",
         "y": [
          6.951156703816278
         ],
         "yaxis": "y"
        },
        {
         "hovertemplate": "go_term=Response to oxidative stress<br>fdr_bh=%{x}<br>odds=%{marker.size}<extra></extra>",
         "legendgroup": "Response to oxidative stress",
         "marker": {
          "color": "#636efa",
          "size": [
           2.9463248400964663
          ],
          "sizemode": "area",
          "sizeref": 0.04421822436741261,
          "symbol": "circle"
         },
         "mode": "markers",
         "name": "Response to oxidative stress",
         "orientation": "v",
         "showlegend": true,
         "type": "scatter",
         "x": [
          0.0001500572988832276
         ],
         "xaxis": "x",
         "y": [
          2.9463248400964663
         ],
         "yaxis": "y"
        },
        {
         "hovertemplate": "go_term=Axonogenesis<br>fdr_bh=%{x}<br>odds=%{marker.size}<extra></extra>",
         "legendgroup": "Axonogenesis",
         "marker": {
          "color": "#EF553B",
          "size": [
           4.331478644800865
          ],
          "sizemode": "area",
          "sizeref": 0.04421822436741261,
          "symbol": "circle"
         },
         "mode": "markers",
         "name": "Axonogenesis",
         "orientation": "v",
         "showlegend": true,
         "type": "scatter",
         "x": [
          4.286316142349211e-08
         ],
         "xaxis": "x",
         "y": [
          4.331478644800865
         ],
         "yaxis": "y"
        },
        {
         "hovertemplate": "go_term=Axon guidance<br>fdr_bh=%{x}<br>odds=%{marker.size}<extra></extra>",
         "legendgroup": "Axon guidance",
         "marker": {
          "color": "#00cc96",
          "size": [
           4.870763437179049
          ],
          "sizemode": "area",
          "sizeref": 0.04421822436741261,
          "symbol": "circle"
         },
         "mode": "markers",
         "name": "Axon guidance",
         "orientation": "v",
         "showlegend": true,
         "type": "scatter",
         "x": [
          1.459247949551346e-07
         ],
         "xaxis": "x",
         "y": [
          4.870763437179049
         ],
         "yaxis": "y"
        },
        {
         "hovertemplate": "go_term=Blood coagulation<br>fdr_bh=%{x}<br>odds=%{marker.size}<extra></extra>",
         "legendgroup": "Blood coagulation",
         "marker": {
          "color": "#ab63fa",
          "size": [
           2.9928812741312742
          ],
          "sizemode": "area",
          "sizeref": 0.04421822436741261,
          "symbol": "circle"
         },
         "mode": "markers",
         "name": "Blood coagulation",
         "orientation": "v",
         "showlegend": true,
         "type": "scatter",
         "x": [
          0.000556773980295519
         ],
         "xaxis": "x",
         "y": [
          2.9928812741312742
         ],
         "yaxis": "y"
        },
        {
         "hovertemplate": "go_term=Hemostasis<br>fdr_bh=%{x}<br>odds=%{marker.size}<extra></extra>",
         "legendgroup": "Hemostasis",
         "marker": {
          "color": "#FFA15A",
          "size": [
           2.9408199032772413
          ],
          "sizemode": "area",
          "sizeref": 0.04421822436741261,
          "symbol": "circle"
         },
         "mode": "markers",
         "name": "Hemostasis",
         "orientation": "v",
         "showlegend": true,
         "type": "scatter",
         "x": [
          0.0006401814236577818
         ],
         "xaxis": "x",
         "y": [
          2.9408199032772413
         ],
         "yaxis": "y"
        },
        {
         "hovertemplate": "go_term=Cell population proliferation<br>fdr_bh=%{x}<br>odds=%{marker.size}<extra></extra>",
         "legendgroup": "Cell population proliferation",
         "marker": {
          "color": "#19d3f3",
          "size": [
           2.4451066238284698
          ],
          "sizemode": "area",
          "sizeref": 0.04421822436741261,
          "symbol": "circle"
         },
         "mode": "markers",
         "name": "Cell population proliferation",
         "orientation": "v",
         "showlegend": true,
         "type": "scatter",
         "x": [
          0.0009679392781821101
         ],
         "xaxis": "x",
         "y": [
          2.4451066238284698
         ],
         "yaxis": "y"
        },
        {
         "hovertemplate": "go_term=Glial cell differentiation<br>fdr_bh=%{x}<br>odds=%{marker.size}<extra></extra>",
         "legendgroup": "Glial cell differentiation",
         "marker": {
          "color": "#FF6692",
          "size": [
           4.531057703471497
          ],
          "sizemode": "area",
          "sizeref": 0.04421822436741261,
          "symbol": "circle"
         },
         "mode": "markers",
         "name": "Glial cell differentiation",
         "orientation": "v",
         "showlegend": true,
         "type": "scatter",
         "x": [
          3.8682452476394873e-05
         ],
         "xaxis": "x",
         "y": [
          4.531057703471497
         ],
         "yaxis": "y"
        },
        {
         "hovertemplate": "go_term=Peptidyl-serine phosphorylation<br>fdr_bh=%{x}<br>odds=%{marker.size}<extra></extra>",
         "legendgroup": "Peptidyl-serine phosphorylation",
         "marker": {
          "color": "#B6E880",
          "size": [
           4.958470976875885
          ],
          "sizemode": "area",
          "sizeref": 0.04421822436741261,
          "symbol": "circle"
         },
         "mode": "markers",
         "name": "Peptidyl-serine phosphorylation",
         "orientation": "v",
         "showlegend": true,
         "type": "scatter",
         "x": [
          9.556755178832264e-06
         ],
         "xaxis": "x",
         "y": [
          4.958470976875885
         ],
         "yaxis": "y"
        },
        {
         "hovertemplate": "go_term=Peptidyl-serine modification<br>fdr_bh=%{x}<br>odds=%{marker.size}<extra></extra>",
         "legendgroup": "Peptidyl-serine modification",
         "marker": {
          "color": "#FF97FF",
          "size": [
           4.338668320926385
          ],
          "sizemode": "area",
          "sizeref": 0.04421822436741261,
          "symbol": "circle"
         },
         "mode": "markers",
         "name": "Peptidyl-serine modification",
         "orientation": "v",
         "showlegend": true,
         "type": "scatter",
         "x": [
          3.1052433417765396e-05
         ],
         "xaxis": "x",
         "y": [
          4.338668320926385
         ],
         "yaxis": "y"
        },
        {
         "hovertemplate": "go_term=Signal transduction by protein phosphorylation<br>fdr_bh=%{x}<br>odds=%{marker.size}<extra></extra>",
         "legendgroup": "Signal transduction by protein phosphorylation",
         "marker": {
          "color": "#FECB52",
          "size": [
           4.38999515930294
          ],
          "sizemode": "area",
          "sizeref": 0.04421822436741261,
          "symbol": "circle"
         },
         "mode": "markers",
         "name": "Signal transduction by protein phosphorylation",
         "orientation": "v",
         "showlegend": true,
         "type": "scatter",
         "x": [
          2.2468247996269842e-08
         ],
         "xaxis": "x",
         "y": [
          4.38999515930294
         ],
         "yaxis": "y"
        },
        {
         "hovertemplate": "go_term=Platelet activation<br>fdr_bh=%{x}<br>odds=%{marker.size}<extra></extra>",
         "legendgroup": "Platelet activation",
         "marker": {
          "color": "#636efa",
          "size": [
           5.60566002606591
          ],
          "sizemode": "area",
          "sizeref": 0.04421822436741261,
          "symbol": "circle"
         },
         "mode": "markers",
         "name": "Platelet activation",
         "orientation": "v",
         "showlegend": true,
         "type": "scatter",
         "x": [
          1.3864056645588422e-05
         ],
         "xaxis": "x",
         "y": [
          5.60566002606591
         ],
         "yaxis": "y"
        },
        {
         "hovertemplate": "go_term=Stress-activated protein kinase signaling cascade<br>fdr_bh=%{x}<br>odds=%{marker.size}<extra></extra>",
         "legendgroup": "Stress-activated protein kinase signaling cascade",
         "marker": {
          "color": "#EF553B",
          "size": [
           6.230828402366864
          ],
          "sizemode": "area",
          "sizeref": 0.04421822436741261,
          "symbol": "circle"
         },
         "mode": "markers",
         "name": "Stress-activated protein kinase signaling cascade",
         "orientation": "v",
         "showlegend": true,
         "type": "scatter",
         "x": [
          1.2161055549514155e-06
         ],
         "xaxis": "x",
         "y": [
          6.230828402366864
         ],
         "yaxis": "y"
        },
        {
         "hovertemplate": "go_term=Activation of protein kinase activity<br>fdr_bh=%{x}<br>odds=%{marker.size}<extra></extra>",
         "legendgroup": "Activation of protein kinase activity",
         "marker": {
          "color": "#00cc96",
          "size": [
           4.634943099428094
          ],
          "sizemode": "area",
          "sizeref": 0.04421822436741261,
          "symbol": "circle"
         },
         "mode": "markers",
         "name": "Activation of protein kinase activity",
         "orientation": "v",
         "showlegend": true,
         "type": "scatter",
         "x": [
          9.309701272279443e-09
         ],
         "xaxis": "x",
         "y": [
          4.634943099428094
         ],
         "yaxis": "y"
        },
        {
         "hovertemplate": "go_term=Regulation of intracellular transport<br>fdr_bh=%{x}<br>odds=%{marker.size}<extra></extra>",
         "legendgroup": "Regulation of intracellular transport",
         "marker": {
          "color": "#ab63fa",
          "size": [
           2.858821794420937
          ],
          "sizemode": "area",
          "sizeref": 0.04421822436741261,
          "symbol": "circle"
         },
         "mode": "markers",
         "name": "Regulation of intracellular transport",
         "orientation": "v",
         "showlegend": true,
         "type": "scatter",
         "x": [
          0.00040932612184111056
         ],
         "xaxis": "x",
         "y": [
          2.858821794420937
         ],
         "yaxis": "y"
        },
        {
         "hovertemplate": "go_term=Positive regulation of intracellular transport<br>fdr_bh=%{x}<br>odds=%{marker.size}<extra></extra>",
         "legendgroup": "Positive regulation of intracellular transport",
         "marker": {
          "color": "#FFA15A",
          "size": [
           4.166264478764479
          ],
          "sizemode": "area",
          "sizeref": 0.04421822436741261,
          "symbol": "circle"
         },
         "mode": "markers",
         "name": "Positive regulation of intracellular transport",
         "orientation": "v",
         "showlegend": true,
         "type": "scatter",
         "x": [
          2.6189032904151652e-05
         ],
         "xaxis": "x",
         "y": [
          4.166264478764479
         ],
         "yaxis": "y"
        },
        {
         "hovertemplate": "go_term=Regulation of stress-activated mapk cascade<br>fdr_bh=%{x}<br>odds=%{marker.size}<extra></extra>",
         "legendgroup": "Regulation of stress-activated mapk cascade",
         "marker": {
          "color": "#19d3f3",
          "size": [
           4.375310808834284
          ],
          "sizemode": "area",
          "sizeref": 0.04421822436741261,
          "symbol": "circle"
         },
         "mode": "markers",
         "name": "Regulation of stress-activated mapk cascade",
         "orientation": "v",
         "showlegend": true,
         "type": "scatter",
         "x": [
          9.291019898533115e-06
         ],
         "xaxis": "x",
         "y": [
          4.375310808834284
         ],
         "yaxis": "y"
        },
        {
         "hovertemplate": "go_term=Regulation of intracellular protein transport<br>fdr_bh=%{x}<br>odds=%{marker.size}<extra></extra>",
         "legendgroup": "Regulation of intracellular protein transport",
         "marker": {
          "color": "#FF6692",
          "size": [
           2.914281421380813
          ],
          "sizemode": "area",
          "sizeref": 0.04421822436741261,
          "symbol": "circle"
         },
         "mode": "markers",
         "name": "Regulation of intracellular protein transport",
         "orientation": "v",
         "showlegend": true,
         "type": "scatter",
         "x": [
          0.001449533573025162
         ],
         "xaxis": "x",
         "y": [
          2.914281421380813
         ],
         "yaxis": "y"
        },
        {
         "hovertemplate": "go_term=Cellular response to oxidative stress<br>fdr_bh=%{x}<br>odds=%{marker.size}<extra></extra>",
         "legendgroup": "Cellular response to oxidative stress",
         "marker": {
          "color": "#B6E880",
          "size": [
           3.77889430291177
          ],
          "sizemode": "area",
          "sizeref": 0.04421822436741261,
          "symbol": "circle"
         },
         "mode": "markers",
         "name": "Cellular response to oxidative stress",
         "orientation": "v",
         "showlegend": true,
         "type": "scatter",
         "x": [
          6.337365335804306e-05
         ],
         "xaxis": "x",
         "y": [
          3.77889430291177
         ],
         "yaxis": "y"
        },
        {
         "hovertemplate": "go_term=Cellular response to reactive oxygen species<br>fdr_bh=%{x}<br>odds=%{marker.size}<extra></extra>",
         "legendgroup": "Cellular response to reactive oxygen species",
         "marker": {
          "color": "#FF97FF",
          "size": [
           6.811764705882353
          ],
          "sizemode": "area",
          "sizeref": 0.04421822436741261,
          "symbol": "circle"
         },
         "mode": "markers",
         "name": "Cellular response to reactive oxygen species",
         "orientation": "v",
         "showlegend": true,
         "type": "scatter",
         "x": [
          5.129621510574802e-07
         ],
         "xaxis": "x",
         "y": [
          6.811764705882353
         ],
         "yaxis": "y"
        },
        {
         "hovertemplate": "go_term=Fc receptor signaling pathway<br>fdr_bh=%{x}<br>odds=%{marker.size}<extra></extra>",
         "legendgroup": "Fc receptor signaling pathway",
         "marker": {
          "color": "#FECB52",
          "size": [
           5.365722865722866
          ],
          "sizemode": "area",
          "sizeref": 0.04421822436741261,
          "symbol": "circle"
         },
         "mode": "markers",
         "name": "Fc receptor signaling pathway",
         "orientation": "v",
         "showlegend": true,
         "type": "scatter",
         "x": [
          2.303115755792033e-06
         ],
         "xaxis": "x",
         "y": [
          5.365722865722866
         ],
         "yaxis": "y"
        },
        {
         "hovertemplate": "go_term=Fc-epsilon receptor signaling pathway<br>fdr_bh=%{x}<br>odds=%{marker.size}<extra></extra>",
         "legendgroup": "Fc-epsilon receptor signaling pathway",
         "marker": {
          "color": "#636efa",
          "size": [
           6.06262796139222
          ],
          "sizemode": "area",
          "sizeref": 0.04421822436741261,
          "symbol": "circle"
         },
         "mode": "markers",
         "name": "Fc-epsilon receptor signaling pathway",
         "orientation": "v",
         "showlegend": true,
         "type": "scatter",
         "x": [
          1.650145052107106e-05
         ],
         "xaxis": "x",
         "y": [
          6.06262796139222
         ],
         "yaxis": "y"
        },
        {
         "hovertemplate": "go_term=ERBB signaling pathway<br>fdr_bh=%{x}<br>odds=%{marker.size}<extra></extra>",
         "legendgroup": "ERBB signaling pathway",
         "marker": {
          "color": "#EF553B",
          "size": [
           11.939194524874967
          ],
          "sizemode": "area",
          "sizeref": 0.04421822436741261,
          "symbol": "circle"
         },
         "mode": "markers",
         "name": "ERBB signaling pathway",
         "orientation": "v",
         "showlegend": true,
         "type": "scatter",
         "x": [
          2.8202214262817372e-08
         ],
         "xaxis": "x",
         "y": [
          11.939194524874967
         ],
         "yaxis": "y"
        },
        {
         "hovertemplate": "go_term=Wound healing<br>fdr_bh=%{x}<br>odds=%{marker.size}<extra></extra>",
         "legendgroup": "Wound healing",
         "marker": {
          "color": "#00cc96",
          "size": [
           4.4286344142049785
          ],
          "sizemode": "area",
          "sizeref": 0.04421822436741261,
          "symbol": "circle"
         },
         "mode": "markers",
         "name": "Wound healing",
         "orientation": "v",
         "showlegend": true,
         "type": "scatter",
         "x": [
          4.274973139171954e-09
         ],
         "xaxis": "x",
         "y": [
          4.4286344142049785
         ],
         "yaxis": "y"
        },
        {
         "hovertemplate": "go_term=Gliogenesis<br>fdr_bh=%{x}<br>odds=%{marker.size}<extra></extra>",
         "legendgroup": "Gliogenesis",
         "marker": {
          "color": "#ab63fa",
          "size": [
           4.375310808834284
          ],
          "sizemode": "area",
          "sizeref": 0.04421822436741261,
          "symbol": "circle"
         },
         "mode": "markers",
         "name": "Gliogenesis",
         "orientation": "v",
         "showlegend": true,
         "type": "scatter",
         "x": [
          9.291019898533115e-06
         ],
         "xaxis": "x",
         "y": [
          4.375310808834284
         ],
         "yaxis": "y"
        },
        {
         "hovertemplate": "go_term=Positive regulation of growth<br>fdr_bh=%{x}<br>odds=%{marker.size}<extra></extra>",
         "legendgroup": "Positive regulation of growth",
         "marker": {
          "color": "#FFA15A",
          "size": [
           3.4287093215664646
          ],
          "sizemode": "area",
          "sizeref": 0.04421822436741261,
          "symbol": "circle"
         },
         "mode": "markers",
         "name": "Positive regulation of growth",
         "orientation": "v",
         "showlegend": true,
         "type": "scatter",
         "x": [
          0.00016419698873831399
         ],
         "xaxis": "x",
         "y": [
          3.4287093215664646
         ],
         "yaxis": "y"
        },
        {
         "hovertemplate": "go_term=Regulation of synaptic plasticity<br>fdr_bh=%{x}<br>odds=%{marker.size}<extra></extra>",
         "legendgroup": "Regulation of synaptic plasticity",
         "marker": {
          "color": "#19d3f3",
          "size": [
           4.562016514558888
          ],
          "sizemode": "area",
          "sizeref": 0.04421822436741261,
          "symbol": "circle"
         },
         "mode": "markers",
         "name": "Regulation of synaptic plasticity",
         "orientation": "v",
         "showlegend": true,
         "type": "scatter",
         "x": [
          2.012379226377634e-05
         ],
         "xaxis": "x",
         "y": [
          4.562016514558888
         ],
         "yaxis": "y"
        },
        {
         "hovertemplate": "go_term=Regulation of developmental growth<br>fdr_bh=%{x}<br>odds=%{marker.size}<extra></extra>",
         "legendgroup": "Regulation of developmental growth",
         "marker": {
          "color": "#FF6692",
          "size": [
           2.5073064866168315
          ],
          "sizemode": "area",
          "sizeref": 0.04421822436741261,
          "symbol": "circle"
         },
         "mode": "markers",
         "name": "Regulation of developmental growth",
         "orientation": "v",
         "showlegend": true,
         "type": "scatter",
         "x": [
          0.0032833785485105833
         ],
         "xaxis": "x",
         "y": [
          2.5073064866168315
         ],
         "yaxis": "y"
        },
        {
         "hovertemplate": "go_term=Cell morphogenesis involved in neuron differentiation<br>fdr_bh=%{x}<br>odds=%{marker.size}<extra></extra>",
         "legendgroup": "Cell morphogenesis involved in neuron differentiation",
         "marker": {
          "color": "#B6E880",
          "size": [
           4.362828362630851
          ],
          "sizemode": "area",
          "sizeref": 0.04421822436741261,
          "symbol": "circle"
         },
         "mode": "markers",
         "name": "Cell morphogenesis involved in neuron differentiation",
         "orientation": "v",
         "showlegend": true,
         "type": "scatter",
         "x": [
          5.3344858122908155e-09
         ],
         "xaxis": "x",
         "y": [
          4.362828362630851
         ],
         "yaxis": "y"
        },
        {
         "hovertemplate": "go_term=Gland development<br>fdr_bh=%{x}<br>odds=%{marker.size}<extra></extra>",
         "legendgroup": "Gland development",
         "marker": {
          "color": "#FF97FF",
          "size": [
           2.166463027222521
          ],
          "sizemode": "area",
          "sizeref": 0.04421822436741261,
          "symbol": "circle"
         },
         "mode": "markers",
         "name": "Gland development",
         "orientation": "v",
         "showlegend": true,
         "type": "scatter",
         "x": [
          0.008561602292297622
         ],
         "xaxis": "x",
         "y": [
          2.166463027222521
         ],
         "yaxis": "y"
        },
        {
         "hovertemplate": "go_term=Neuron projection morphogenesis<br>fdr_bh=%{x}<br>odds=%{marker.size}<extra></extra>",
         "legendgroup": "Neuron projection morphogenesis",
         "marker": {
          "color": "#FECB52",
          "size": [
           5.000211891732538
          ],
          "sizemode": "area",
          "sizeref": 0.04421822436741261,
          "symbol": "circle"
         },
         "mode": "markers",
         "name": "Neuron projection morphogenesis",
         "orientation": "v",
         "showlegend": true,
         "type": "scatter",
         "x": [
          7.006137975965991e-12
         ],
         "xaxis": "x",
         "y": [
          5.000211891732538
         ],
         "yaxis": "y"
        },
        {
         "hovertemplate": "go_term=Modulation of chemical synaptic transmission<br>fdr_bh=%{x}<br>odds=%{marker.size}<extra></extra>",
         "legendgroup": "Modulation of chemical synaptic transmission",
         "marker": {
          "color": "#636efa",
          "size": [
           4.5261936635430615
          ],
          "sizemode": "area",
          "sizeref": 0.04421822436741261,
          "symbol": "circle"
         },
         "mode": "markers",
         "name": "Modulation of chemical synaptic transmission",
         "orientation": "v",
         "showlegend": true,
         "type": "scatter",
         "x": [
          1.6432789726588618e-09
         ],
         "xaxis": "x",
         "y": [
          4.5261936635430615
         ],
         "yaxis": "y"
        },
        {
         "hovertemplate": "go_term=Positive regulation of synaptic transmission<br>fdr_bh=%{x}<br>odds=%{marker.size}<extra></extra>",
         "legendgroup": "Positive regulation of synaptic transmission",
         "marker": {
          "color": "#EF553B",
          "size": [
           5.590810316234918
          ],
          "sizemode": "area",
          "sizeref": 0.04421822436741261,
          "symbol": "circle"
         },
         "mode": "markers",
         "name": "Positive regulation of synaptic transmission",
         "orientation": "v",
         "showlegend": true,
         "type": "scatter",
         "x": [
          6.725943450778252e-06
         ],
         "xaxis": "x",
         "y": [
          5.590810316234918
         ],
         "yaxis": "y"
        },
        {
         "hovertemplate": "go_term=Coagulation<br>fdr_bh=%{x}<br>odds=%{marker.size}<extra></extra>",
         "legendgroup": "Coagulation",
         "marker": {
          "color": "#00cc96",
          "size": [
           2.9718412994275063
          ],
          "sizemode": "area",
          "sizeref": 0.04421822436741261,
          "symbol": "circle"
         },
         "mode": "markers",
         "name": "Coagulation",
         "orientation": "v",
         "showlegend": true,
         "type": "scatter",
         "x": [
          0.0005870246567239358
         ],
         "xaxis": "x",
         "y": [
          2.9718412994275063
         ],
         "yaxis": "y"
        },
        {
         "hovertemplate": "go_term=Regulation of dna-binding transcription factor activity<br>fdr_bh=%{x}<br>odds=%{marker.size}<extra></extra>",
         "legendgroup": "Regulation of dna-binding transcription factor activity",
         "marker": {
          "color": "#ab63fa",
          "size": [
           2.172457603712092
          ],
          "sizemode": "area",
          "sizeref": 0.04421822436741261,
          "symbol": "circle"
         },
         "mode": "markers",
         "name": "Regulation of dna-binding transcription factor activity",
         "orientation": "v",
         "showlegend": true,
         "type": "scatter",
         "x": [
          0.009790811009214358
         ],
         "xaxis": "x",
         "y": [
          2.172457603712092
         ],
         "yaxis": "y"
        },
        {
         "hovertemplate": "go_term=Mesenchyme development<br>fdr_bh=%{x}<br>odds=%{marker.size}<extra></extra>",
         "legendgroup": "Mesenchyme development",
         "marker": {
          "color": "#FFA15A",
          "size": [
           3.429847328244275
          ],
          "sizemode": "area",
          "sizeref": 0.04421822436741261,
          "symbol": "circle"
         },
         "mode": "markers",
         "name": "Mesenchyme development",
         "orientation": "v",
         "showlegend": true,
         "type": "scatter",
         "x": [
          0.0006401814236577818
         ],
         "xaxis": "x",
         "y": [
          3.429847328244275
         ],
         "yaxis": "y"
        },
        {
         "hovertemplate": "go_term=Axon development<br>fdr_bh=%{x}<br>odds=%{marker.size}<extra></extra>",
         "legendgroup": "Axon development",
         "marker": {
          "color": "#19d3f3",
          "size": [
           4.45417534360683
          ],
          "sizemode": "area",
          "sizeref": 0.04421822436741261,
          "symbol": "circle"
         },
         "mode": "markers",
         "name": "Axon development",
         "orientation": "v",
         "showlegend": true,
         "type": "scatter",
         "x": [
          6.150494096492437e-09
         ],
         "xaxis": "x",
         "y": [
          4.45417534360683
         ],
         "yaxis": "y"
        },
        {
         "hovertemplate": "go_term=Cellular response to chemical stress<br>fdr_bh=%{x}<br>odds=%{marker.size}<extra></extra>",
         "legendgroup": "Cellular response to chemical stress",
         "marker": {
          "color": "#FF6692",
          "size": [
           4.048819235723487
          ],
          "sizemode": "area",
          "sizeref": 0.04421822436741261,
          "symbol": "circle"
         },
         "mode": "markers",
         "name": "Cellular response to chemical stress",
         "orientation": "v",
         "showlegend": true,
         "type": "scatter",
         "x": [
          4.250585958174895e-06
         ],
         "xaxis": "x",
         "y": [
          4.048819235723487
         ],
         "yaxis": "y"
        },
        {
         "hovertemplate": "go_term=Regulation of stress-activated protein kinase signaling cascade<br>fdr_bh=%{x}<br>odds=%{marker.size}<extra></extra>",
         "legendgroup": "Regulation of stress-activated protein kinase signaling cascade",
         "marker": {
          "color": "#B6E880",
          "size": [
           4.313394627726699
          ],
          "sizemode": "area",
          "sizeref": 0.04421822436741261,
          "symbol": "circle"
         },
         "mode": "markers",
         "name": "Regulation of stress-activated protein kinase signaling cascade",
         "orientation": "v",
         "showlegend": true,
         "type": "scatter",
         "x": [
          1.0781549323809692e-05
         ],
         "xaxis": "x",
         "y": [
          4.313394627726699
         ],
         "yaxis": "y"
        },
        {
         "hovertemplate": "go_term=Cellular response to growth factor stimulus<br>fdr_bh=%{x}<br>odds=%{marker.size}<extra></extra>",
         "legendgroup": "Cellular response to growth factor stimulus",
         "marker": {
          "color": "#FF97FF",
          "size": [
           2.7161521388216303
          ],
          "sizemode": "area",
          "sizeref": 0.04421822436741261,
          "symbol": "circle"
         },
         "mode": "markers",
         "name": "Cellular response to growth factor stimulus",
         "orientation": "v",
         "showlegend": true,
         "type": "scatter",
         "x": [
          0.00014127403933798788
         ],
         "xaxis": "x",
         "y": [
          2.7161521388216303
         ],
         "yaxis": "y"
        },
        {
         "hovertemplate": "go_term=Positive regulation of intracellular protein transport<br>fdr_bh=%{x}<br>odds=%{marker.size}<extra></extra>",
         "legendgroup": "Positive regulation of intracellular protein transport",
         "marker": {
          "color": "#FECB52",
          "size": [
           4.37032555846833
          ],
          "sizemode": "area",
          "sizeref": 0.04421822436741261,
          "symbol": "circle"
         },
         "mode": "markers",
         "name": "Positive regulation of intracellular protein transport",
         "orientation": "v",
         "showlegend": true,
         "type": "scatter",
         "x": [
          5.219303821842834e-05
         ],
         "xaxis": "x",
         "y": [
          4.37032555846833
         ],
         "yaxis": "y"
        },
        {
         "hovertemplate": "go_term=Neuron projection guidance<br>fdr_bh=%{x}<br>odds=%{marker.size}<extra></extra>",
         "legendgroup": "Neuron projection guidance",
         "marker": {
          "color": "#636efa",
          "size": [
           4.851336898395722
          ],
          "sizemode": "area",
          "sizeref": 0.04421822436741261,
          "symbol": "circle"
         },
         "mode": "markers",
         "name": "Neuron projection guidance",
         "orientation": "v",
         "showlegend": true,
         "type": "scatter",
         "x": [
          1.4960362225690896e-07
         ],
         "xaxis": "x",
         "y": [
          4.851336898395722
         ],
         "yaxis": "y"
        },
        {
         "hovertemplate": "go_term=Regulation of trans-synaptic signaling<br>fdr_bh=%{x}<br>odds=%{marker.size}<extra></extra>",
         "legendgroup": "Regulation of trans-synaptic signaling",
         "marker": {
          "color": "#EF553B",
          "size": [
           4.515006726812282
          ],
          "sizemode": "area",
          "sizeref": 0.04421822436741261,
          "symbol": "circle"
         },
         "mode": "markers",
         "name": "Regulation of trans-synaptic signaling",
         "orientation": "v",
         "showlegend": true,
         "type": "scatter",
         "x": [
          1.6432789726588618e-09
         ],
         "xaxis": "x",
         "y": [
          4.515006726812282
         ],
         "yaxis": "y"
        },
        {
         "hovertemplate": "go_term=Plasma membrane bounded cell projection morphogenesis<br>fdr_bh=%{x}<br>odds=%{marker.size}<extra></extra>",
         "legendgroup": "Plasma membrane bounded cell projection morphogenesis",
         "marker": {
          "color": "#00cc96",
          "size": [
           4.955568341644291
          ],
          "sizemode": "area",
          "sizeref": 0.04421822436741261,
          "symbol": "circle"
         },
         "mode": "markers",
         "name": "Plasma membrane bounded cell projection morphogenesis",
         "orientation": "v",
         "showlegend": true,
         "type": "scatter",
         "x": [
          7.47544054602793e-12
         ],
         "xaxis": "x",
         "y": [
          4.955568341644291
         ],
         "yaxis": "y"
        },
        {
         "hovertemplate": "go_term=Small gtpase mediated signal transduction<br>fdr_bh=%{x}<br>odds=%{marker.size}<extra></extra>",
         "legendgroup": "Small gtpase mediated signal transduction",
         "marker": {
          "color": "#ab63fa",
          "size": [
           7.460608747044917
          ],
          "sizemode": "area",
          "sizeref": 0.04421822436741261,
          "symbol": "circle"
         },
         "mode": "markers",
         "name": "Small gtpase mediated signal transduction",
         "orientation": "v",
         "showlegend": true,
         "type": "scatter",
         "x": [
          3.80671881485605e-15
         ],
         "xaxis": "x",
         "y": [
          7.460608747044917
         ],
         "yaxis": "y"
        },
        {
         "hovertemplate": "go_term=Ras protein signal transduction<br>fdr_bh=%{x}<br>odds=%{marker.size}<extra></extra>",
         "legendgroup": "Ras protein signal transduction",
         "marker": {
          "color": "#FFA15A",
          "size": [
           9.57751721570817
          ],
          "sizemode": "area",
          "sizeref": 0.04421822436741261,
          "symbol": "circle"
         },
         "mode": "markers",
         "name": "Ras protein signal transduction",
         "orientation": "v",
         "showlegend": true,
         "type": "scatter",
         "x": [
          3.0940746908987224e-16
         ],
         "xaxis": "x",
         "y": [
          9.57751721570817
         ],
         "yaxis": "y"
        },
        {
         "hovertemplate": "go_term=Endomembrane system organization<br>fdr_bh=%{x}<br>odds=%{marker.size}<extra></extra>",
         "legendgroup": "Endomembrane system organization",
         "marker": {
          "color": "#19d3f3",
          "size": [
           2.7151004599370614
          ],
          "sizemode": "area",
          "sizeref": 0.04421822436741261,
          "symbol": "circle"
         },
         "mode": "markers",
         "name": "Endomembrane system organization",
         "orientation": "v",
         "showlegend": true,
         "type": "scatter",
         "x": [
          0.0003629867381591509
         ],
         "xaxis": "x",
         "y": [
          2.7151004599370614
         ],
         "yaxis": "y"
        },
        {
         "hovertemplate": "go_term=Rab protein signal transduction<br>fdr_bh=%{x}<br>odds=%{marker.size}<extra></extra>",
         "legendgroup": "Rab protein signal transduction",
         "marker": {
          "color": "#FF6692",
          "size": [
           17.687289746965043
          ],
          "sizemode": "area",
          "sizeref": 0.04421822436741261,
          "symbol": "circle"
         },
         "mode": "markers",
         "name": "Rab protein signal transduction",
         "orientation": "v",
         "showlegend": true,
         "type": "scatter",
         "x": [
          3.6825608700117565e-12
         ],
         "xaxis": "x",
         "y": [
          17.687289746965043
         ],
         "yaxis": "y"
        },
        {
         "hovertemplate": "go_term=Regulation of neurotransmitter transport<br>fdr_bh=%{x}<br>odds=%{marker.size}<extra></extra>",
         "legendgroup": "Regulation of neurotransmitter transport",
         "marker": {
          "color": "#B6E880",
          "size": [
           6.39058524173028
          ],
          "sizemode": "area",
          "sizeref": 0.04421822436741261,
          "symbol": "circle"
         },
         "mode": "markers",
         "name": "Regulation of neurotransmitter transport",
         "orientation": "v",
         "showlegend": true,
         "type": "scatter",
         "x": [
          4.827847891053122e-06
         ],
         "xaxis": "x",
         "y": [
          6.39058524173028
         ],
         "yaxis": "y"
        },
        {
         "hovertemplate": "go_term=Regulation of wound healing<br>fdr_bh=%{x}<br>odds=%{marker.size}<extra></extra>",
         "legendgroup": "Regulation of wound healing",
         "marker": {
          "color": "#FF97FF",
          "size": [
           5.384899809160306
          ],
          "sizemode": "area",
          "sizeref": 0.04421822436741261,
          "symbol": "circle"
         },
         "mode": "markers",
         "name": "Regulation of wound healing",
         "orientation": "v",
         "showlegend": true,
         "type": "scatter",
         "x": [
          1.8938914098572186e-05
         ],
         "xaxis": "x",
         "y": [
          5.384899809160306
         ],
         "yaxis": "y"
        },
        {
         "hovertemplate": "go_term=Protein localization to membrane<br>fdr_bh=%{x}<br>odds=%{marker.size}<extra></extra>",
         "legendgroup": "Protein localization to membrane",
         "marker": {
          "color": "#FECB52",
          "size": [
           2.850538523870619
          ],
          "sizemode": "area",
          "sizeref": 0.04421822436741261,
          "symbol": "circle"
         },
         "mode": "markers",
         "name": "Protein localization to membrane",
         "orientation": "v",
         "showlegend": true,
         "type": "scatter",
         "x": [
          5.459296731670795e-05
         ],
         "xaxis": "x",
         "y": [
          2.850538523870619
         ],
         "yaxis": "y"
        },
        {
         "hovertemplate": "go_term=Protein localization to plasma membrane<br>fdr_bh=%{x}<br>odds=%{marker.size}<extra></extra>",
         "legendgroup": "Protein localization to plasma membrane",
         "marker": {
          "color": "#636efa",
          "size": [
           3.794694445615959
          ],
          "sizemode": "area",
          "sizeref": 0.04421822436741261,
          "symbol": "circle"
         },
         "mode": "markers",
         "name": "Protein localization to plasma membrane",
         "orientation": "v",
         "showlegend": true,
         "type": "scatter",
         "x": [
          0.00029897337217910797
         ],
         "xaxis": "x",
         "y": [
          3.794694445615959
         ],
         "yaxis": "y"
        },
        {
         "hovertemplate": "go_term=Regulation of synaptic vesicle cycle<br>fdr_bh=%{x}<br>odds=%{marker.size}<extra></extra>",
         "legendgroup": "Regulation of synaptic vesicle cycle",
         "marker": {
          "color": "#EF553B",
          "size": [
           6.121894495920854
          ],
          "sizemode": "area",
          "sizeref": 0.04421822436741261,
          "symbol": "circle"
         },
         "mode": "markers",
         "name": "Regulation of synaptic vesicle cycle",
         "orientation": "v",
         "showlegend": true,
         "type": "scatter",
         "x": [
          1.5299764288599135e-05
         ],
         "xaxis": "x",
         "y": [
          6.121894495920854
         ],
         "yaxis": "y"
        },
        {
         "hovertemplate": "go_term=Regulation of response to wounding<br>fdr_bh=%{x}<br>odds=%{marker.size}<extra></extra>",
         "legendgroup": "Regulation of response to wounding",
         "marker": {
          "color": "#00cc96",
          "size": [
           4.795338441890166
          ],
          "sizemode": "area",
          "sizeref": 0.04421822436741261,
          "symbol": "circle"
         },
         "mode": "markers",
         "name": "Regulation of response to wounding",
         "orientation": "v",
         "showlegend": true,
         "type": "scatter",
         "x": [
          2.4592668186396547e-05
         ],
         "xaxis": "x",
         "y": [
          4.795338441890166
         ],
         "yaxis": "y"
        },
        {
         "hovertemplate": "go_term=Protein localization to cell periphery<br>fdr_bh=%{x}<br>odds=%{marker.size}<extra></extra>",
         "legendgroup": "Protein localization to cell periphery",
         "marker": {
          "color": "#ab63fa",
          "size": [
           3.8998747782531566
          ],
          "sizemode": "area",
          "sizeref": 0.04421822436741261,
          "symbol": "circle"
         },
         "mode": "markers",
         "name": "Protein localization to cell periphery",
         "orientation": "v",
         "showlegend": true,
         "type": "scatter",
         "x": [
          4.7781082238412256e-05
         ],
         "xaxis": "x",
         "y": [
          3.8998747782531566
         ],
         "yaxis": "y"
        },
        {
         "hovertemplate": "go_term=Protein folding<br>fdr_bh=%{x}<br>odds=%{marker.size}<extra></extra>",
         "legendgroup": "Protein folding",
         "marker": {
          "color": "#FFA15A",
          "size": [
           4.051720139157325
          ],
          "sizemode": "area",
          "sizeref": 0.04421822436741261,
          "symbol": "circle"
         },
         "mode": "markers",
         "name": "Protein folding",
         "orientation": "v",
         "showlegend": true,
         "type": "scatter",
         "x": [
          5.660167714107379e-05
         ],
         "xaxis": "x",
         "y": [
          4.051720139157325
         ],
         "yaxis": "y"
        },
        {
         "hovertemplate": "go_term=Antigen processing and presentation<br>fdr_bh=%{x}<br>odds=%{marker.size}<extra></extra>",
         "legendgroup": "Antigen processing and presentation",
         "marker": {
          "color": "#19d3f3",
          "size": [
           4.900508533343607
          ],
          "sizemode": "area",
          "sizeref": 0.04421822436741261,
          "symbol": "circle"
         },
         "mode": "markers",
         "name": "Antigen processing and presentation",
         "orientation": "v",
         "showlegend": true,
         "type": "scatter",
         "x": [
          1.6016399923637336e-06
         ],
         "xaxis": "x",
         "y": [
          4.900508533343607
         ],
         "yaxis": "y"
        },
        {
         "hovertemplate": "go_term=G protein-coupled receptor signaling pathway, coupled to cyclic nucleotide second messenger<br>fdr_bh=%{x}<br>odds=%{marker.size}<extra></extra>",
         "legendgroup": "G protein-coupled receptor signaling pathway, coupled to cyclic nucleotide second messenger",
         "marker": {
          "color": "#FF6692",
          "size": [
           3.8905608755129957
          ],
          "sizemode": "area",
          "sizeref": 0.04421822436741261,
          "symbol": "circle"
         },
         "mode": "markers",
         "name": "G protein-coupled receptor signaling pathway, coupled to cyclic nucleotide second messenger",
         "orientation": "v",
         "showlegend": true,
         "type": "scatter",
         "x": [
          2.9498763217965923e-05
         ],
         "xaxis": "x",
         "y": [
          3.8905608755129957
         ],
         "yaxis": "y"
        },
        {
         "hovertemplate": "go_term=Adenylate cyclase-modulating g protein-coupled receptor signaling pathway<br>fdr_bh=%{x}<br>odds=%{marker.size}<extra></extra>",
         "legendgroup": "Adenylate cyclase-modulating g protein-coupled receptor signaling pathway",
         "marker": {
          "color": "#B6E880",
          "size": [
           4.146053093421514
          ],
          "sizemode": "area",
          "sizeref": 0.04421822436741261,
          "symbol": "circle"
         },
         "mode": "markers",
         "name": "Adenylate cyclase-modulating g protein-coupled receptor signaling pathway",
         "orientation": "v",
         "showlegend": true,
         "type": "scatter",
         "x": [
          2.7171773348538932e-05
         ],
         "xaxis": "x",
         "y": [
          4.146053093421514
         ],
         "yaxis": "y"
        },
        {
         "hovertemplate": "go_term=Cellular response to abiotic stimulus<br>fdr_bh=%{x}<br>odds=%{marker.size}<extra></extra>",
         "legendgroup": "Cellular response to abiotic stimulus",
         "marker": {
          "color": "#FF97FF",
          "size": [
           2.678621044507332
          ],
          "sizemode": "area",
          "sizeref": 0.04421822436741261,
          "symbol": "circle"
         },
         "mode": "markers",
         "name": "Cellular response to abiotic stimulus",
         "orientation": "v",
         "showlegend": true,
         "type": "scatter",
         "x": [
          0.0019487390874472622
         ],
         "xaxis": "x",
         "y": [
          2.678621044507332
         ],
         "yaxis": "y"
        },
        {
         "hovertemplate": "go_term=Cellular response to environmental stimulus<br>fdr_bh=%{x}<br>odds=%{marker.size}<extra></extra>",
         "legendgroup": "Cellular response to environmental stimulus",
         "marker": {
          "color": "#FECB52",
          "size": [
           2.678621044507332
          ],
          "sizemode": "area",
          "sizeref": 0.04421822436741261,
          "symbol": "circle"
         },
         "mode": "markers",
         "name": "Cellular response to environmental stimulus",
         "orientation": "v",
         "showlegend": true,
         "type": "scatter",
         "x": [
          0.0019487390874472622
         ],
         "xaxis": "x",
         "y": [
          2.678621044507332
         ],
         "yaxis": "y"
        },
        {
         "hovertemplate": "go_term=Calcium ion transport<br>fdr_bh=%{x}<br>odds=%{marker.size}<extra></extra>",
         "legendgroup": "Calcium ion transport",
         "marker": {
          "color": "#636efa",
          "size": [
           4.632957516339869
          ],
          "sizemode": "area",
          "sizeref": 0.04421822436741261,
          "symbol": "circle"
         },
         "mode": "markers",
         "name": "Calcium ion transport",
         "orientation": "v",
         "showlegend": true,
         "type": "scatter",
         "x": [
          9.004853660017082e-07
         ],
         "xaxis": "x",
         "y": [
          4.632957516339869
         ],
         "yaxis": "y"
        },
        {
         "hovertemplate": "go_term=Cellular calcium ion homeostasis<br>fdr_bh=%{x}<br>odds=%{marker.size}<extra></extra>",
         "legendgroup": "Cellular calcium ion homeostasis",
         "marker": {
          "color": "#EF553B",
          "size": [
           2.596393640198396
          ],
          "sizemode": "area",
          "sizeref": 0.04421822436741261,
          "symbol": "circle"
         },
         "mode": "markers",
         "name": "Cellular calcium ion homeostasis",
         "orientation": "v",
         "showlegend": true,
         "type": "scatter",
         "x": [
          0.0005674723991137687
         ],
         "xaxis": "x",
         "y": [
          2.596393640198396
         ],
         "yaxis": "y"
        },
        {
         "hovertemplate": "go_term=Regulation of heart contraction<br>fdr_bh=%{x}<br>odds=%{marker.size}<extra></extra>",
         "legendgroup": "Regulation of heart contraction",
         "marker": {
          "color": "#00cc96",
          "size": [
           2.9375880483569765
          ],
          "sizemode": "area",
          "sizeref": 0.04421822436741261,
          "symbol": "circle"
         },
         "mode": "markers",
         "name": "Regulation of heart contraction",
         "orientation": "v",
         "showlegend": true,
         "type": "scatter",
         "x": [
          0.001958369120257578
         ],
         "xaxis": "x",
         "y": [
          2.9375880483569765
         ],
         "yaxis": "y"
        },
        {
         "hovertemplate": "go_term=Regulation of membrane potential<br>fdr_bh=%{x}<br>odds=%{marker.size}<extra></extra>",
         "legendgroup": "Regulation of membrane potential",
         "marker": {
          "color": "#ab63fa",
          "size": [
           2.456438832938389
          ],
          "sizemode": "area",
          "sizeref": 0.04421822436741261,
          "symbol": "circle"
         },
         "mode": "markers",
         "name": "Regulation of membrane potential",
         "orientation": "v",
         "showlegend": true,
         "type": "scatter",
         "x": [
          0.0017287761860666907
         ],
         "xaxis": "x",
         "y": [
          2.456438832938389
         ],
         "yaxis": "y"
        },
        {
         "hovertemplate": "go_term=Regulation of cytosolic calcium ion concentration<br>fdr_bh=%{x}<br>odds=%{marker.size}<extra></extra>",
         "legendgroup": "Regulation of cytosolic calcium ion concentration",
         "marker": {
          "color": "#FFA15A",
          "size": [
           2.4523124115148653
          ],
          "sizemode": "area",
          "sizeref": 0.04421822436741261,
          "symbol": "circle"
         },
         "mode": "markers",
         "name": "Regulation of cytosolic calcium ion concentration",
         "orientation": "v",
         "showlegend": true,
         "type": "scatter",
         "x": [
          0.003908444217478195
         ],
         "xaxis": "x",
         "y": [
          2.4523124115148653
         ],
         "yaxis": "y"
        },
        {
         "hovertemplate": "go_term=Calcium ion homeostasis<br>fdr_bh=%{x}<br>odds=%{marker.size}<extra></extra>",
         "legendgroup": "Calcium ion homeostasis",
         "marker": {
          "color": "#19d3f3",
          "size": [
           2.516756610901241
          ],
          "sizemode": "area",
          "sizeref": 0.04421822436741261,
          "symbol": "circle"
         },
         "mode": "markers",
         "name": "Calcium ion homeostasis",
         "orientation": "v",
         "showlegend": true,
         "type": "scatter",
         "x": [
          0.0011166934798201003
         ],
         "xaxis": "x",
         "y": [
          2.516756610901241
         ],
         "yaxis": "y"
        },
        {
         "hovertemplate": "go_term=Calcium ion transmembrane transport<br>fdr_bh=%{x}<br>odds=%{marker.size}<extra></extra>",
         "legendgroup": "Calcium ion transmembrane transport",
         "marker": {
          "color": "#FF6692",
          "size": [
           4.51827944015444
          ],
          "sizemode": "area",
          "sizeref": 0.04421822436741261,
          "symbol": "circle"
         },
         "mode": "markers",
         "name": "Calcium ion transmembrane transport",
         "orientation": "v",
         "showlegend": true,
         "type": "scatter",
         "x": [
          1.2159835482577268e-05
         ],
         "xaxis": "x",
         "y": [
          4.51827944015444
         ],
         "yaxis": "y"
        },
        {
         "hovertemplate": "go_term=Divalent metal ion transport<br>fdr_bh=%{x}<br>odds=%{marker.size}<extra></extra>",
         "legendgroup": "Divalent metal ion transport",
         "marker": {
          "color": "#B6E880",
          "size": [
           3.9036315934824635
          ],
          "sizemode": "area",
          "sizeref": 0.04421822436741261,
          "symbol": "circle"
         },
         "mode": "markers",
         "name": "Divalent metal ion transport",
         "orientation": "v",
         "showlegend": true,
         "type": "scatter",
         "x": [
          6.685601759963514e-06
         ],
         "xaxis": "x",
         "y": [
          3.9036315934824635
         ],
         "yaxis": "y"
        },
        {
         "hovertemplate": "go_term=Cellular divalent inorganic cation homeostasis<br>fdr_bh=%{x}<br>odds=%{marker.size}<extra></extra>",
         "legendgroup": "Cellular divalent inorganic cation homeostasis",
         "marker": {
          "color": "#FF97FF",
          "size": [
           2.414019175952319
          ],
          "sizemode": "area",
          "sizeref": 0.04421822436741261,
          "symbol": "circle"
         },
         "mode": "markers",
         "name": "Cellular divalent inorganic cation homeostasis",
         "orientation": "v",
         "showlegend": true,
         "type": "scatter",
         "x": [
          0.0014249666208456023
         ],
         "xaxis": "x",
         "y": [
          2.414019175952319
         ],
         "yaxis": "y"
        },
        {
         "hovertemplate": "go_term=Divalent inorganic cation homeostasis<br>fdr_bh=%{x}<br>odds=%{marker.size}<extra></extra>",
         "legendgroup": "Divalent inorganic cation homeostasis",
         "marker": {
          "color": "#FECB52",
          "size": [
           2.439782052559886
          ],
          "sizemode": "area",
          "sizeref": 0.04421822436741261,
          "symbol": "circle"
         },
         "mode": "markers",
         "name": "Divalent inorganic cation homeostasis",
         "orientation": "v",
         "showlegend": true,
         "type": "scatter",
         "x": [
          0.0009795920847562366
         ],
         "xaxis": "x",
         "y": [
          2.439782052559886
         ],
         "yaxis": "y"
        },
        {
         "hovertemplate": "go_term=Divalent inorganic cation transport<br>fdr_bh=%{x}<br>odds=%{marker.size}<extra></extra>",
         "legendgroup": "Divalent inorganic cation transport",
         "marker": {
          "color": "#636efa",
          "size": [
           3.807937470520854
          ],
          "sizemode": "area",
          "sizeref": 0.04421822436741261,
          "symbol": "circle"
         },
         "mode": "markers",
         "name": "Divalent inorganic cation transport",
         "orientation": "v",
         "showlegend": true,
         "type": "scatter",
         "x": [
          8.673551803154935e-06
         ],
         "xaxis": "x",
         "y": [
          3.807937470520854
         ],
         "yaxis": "y"
        },
        {
         "hovertemplate": "go_term=Regulation of blood circulation<br>fdr_bh=%{x}<br>odds=%{marker.size}<extra></extra>",
         "legendgroup": "Regulation of blood circulation",
         "marker": {
          "color": "#EF553B",
          "size": [
           2.6593059503700958
          ],
          "sizemode": "area",
          "sizeref": 0.04421822436741261,
          "symbol": "circle"
         },
         "mode": "markers",
         "name": "Regulation of blood circulation",
         "orientation": "v",
         "showlegend": true,
         "type": "scatter",
         "x": [
          0.002874288730924773
         ],
         "xaxis": "x",
         "y": [
          2.6593059503700958
         ],
         "yaxis": "y"
        },
        {
         "hovertemplate": "go_term=Establishment or maintenance of cell polarity<br>fdr_bh=%{x}<br>odds=%{marker.size}<extra></extra>",
         "legendgroup": "Establishment or maintenance of cell polarity",
         "marker": {
          "color": "#00cc96",
          "size": [
           3.371417474140398
          ],
          "sizemode": "area",
          "sizeref": 0.04421822436741261,
          "symbol": "circle"
         },
         "mode": "markers",
         "name": "Establishment or maintenance of cell polarity",
         "orientation": "v",
         "showlegend": true,
         "type": "scatter",
         "x": [
          0.0011482121864663665
         ],
         "xaxis": "x",
         "y": [
          3.371417474140398
         ],
         "yaxis": "y"
        },
        {
         "hovertemplate": "go_term=Regulation of cell growth<br>fdr_bh=%{x}<br>odds=%{marker.size}<extra></extra>",
         "legendgroup": "Regulation of cell growth",
         "marker": {
          "color": "#ab63fa",
          "size": [
           3.046988378266769
          ],
          "sizemode": "area",
          "sizeref": 0.04421822436741261,
          "symbol": "circle"
         },
         "mode": "markers",
         "name": "Regulation of cell growth",
         "orientation": "v",
         "showlegend": true,
         "type": "scatter",
         "x": [
          4.7916863134461385e-05
         ],
         "xaxis": "x",
         "y": [
          3.046988378266769
         ],
         "yaxis": "y"
        },
        {
         "hovertemplate": "go_term=Receptor-mediated endocytosis<br>fdr_bh=%{x}<br>odds=%{marker.size}<extra></extra>",
         "legendgroup": "Receptor-mediated endocytosis",
         "marker": {
          "color": "#FFA15A",
          "size": [
           7.636363636363637
          ],
          "sizemode": "area",
          "sizeref": 0.04421822436741261,
          "symbol": "circle"
         },
         "mode": "markers",
         "name": "Receptor-mediated endocytosis",
         "orientation": "v",
         "showlegend": true,
         "type": "scatter",
         "x": [
          3.7569864125369877e-10
         ],
         "xaxis": "x",
         "y": [
          7.636363636363637
         ],
         "yaxis": "y"
        },
        {
         "hovertemplate": "go_term=Positive regulation of cytosolic calcium ion concentration<br>fdr_bh=%{x}<br>odds=%{marker.size}<extra></extra>",
         "legendgroup": "Positive regulation of cytosolic calcium ion concentration",
         "marker": {
          "color": "#19d3f3",
          "size": [
           2.3932503013258337
          ],
          "sizemode": "area",
          "sizeref": 0.04421822436741261,
          "symbol": "circle"
         },
         "mode": "markers",
         "name": "Positive regulation of cytosolic calcium ion concentration",
         "orientation": "v",
         "showlegend": true,
         "type": "scatter",
         "x": [
          0.008210052103653763
         ],
         "xaxis": "x",
         "y": [
          2.3932503013258337
         ],
         "yaxis": "y"
        },
        {
         "hovertemplate": "go_term=Regulation of cell morphogenesis involved in differentiation<br>fdr_bh=%{x}<br>odds=%{marker.size}<extra></extra>",
         "legendgroup": "Regulation of cell morphogenesis involved in differentiation",
         "marker": {
          "color": "#FF6692",
          "size": [
           3.369689781994563
          ],
          "sizemode": "area",
          "sizeref": 0.04421822436741261,
          "symbol": "circle"
         },
         "mode": "markers",
         "name": "Regulation of cell morphogenesis involved in differentiation",
         "orientation": "v",
         "showlegend": true,
         "type": "scatter",
         "x": [
          7.692628425335247e-05
         ],
         "xaxis": "x",
         "y": [
          3.369689781994563
         ],
         "yaxis": "y"
        },
        {
         "hovertemplate": "go_term=Positive regulation of cell morphogenesis involved in differentiation<br>fdr_bh=%{x}<br>odds=%{marker.size}<extra></extra>",
         "legendgroup": "Positive regulation of cell morphogenesis involved in differentiation",
         "marker": {
          "color": "#B6E880",
          "size": [
           4.247790566231631
          ],
          "sizemode": "area",
          "sizeref": 0.04421822436741261,
          "symbol": "circle"
         },
         "mode": "markers",
         "name": "Positive regulation of cell morphogenesis involved in differentiation",
         "orientation": "v",
         "showlegend": true,
         "type": "scatter",
         "x": [
          0.00022759465279437546
         ],
         "xaxis": "x",
         "y": [
          4.247790566231631
         ],
         "yaxis": "y"
        },
        {
         "hovertemplate": "go_term=Telencephalon development<br>fdr_bh=%{x}<br>odds=%{marker.size}<extra></extra>",
         "legendgroup": "Telencephalon development",
         "marker": {
          "color": "#FF97FF",
          "size": [
           2.791462844679857
          ],
          "sizemode": "area",
          "sizeref": 0.04421822436741261,
          "symbol": "circle"
         },
         "mode": "markers",
         "name": "Telencephalon development",
         "orientation": "v",
         "showlegend": true,
         "type": "scatter",
         "x": [
          0.0028557740579195734
         ],
         "xaxis": "x",
         "y": [
          2.791462844679857
         ],
         "yaxis": "y"
        },
        {
         "hovertemplate": "go_term=Regulation of cell morphogenesis<br>fdr_bh=%{x}<br>odds=%{marker.size}<extra></extra>",
         "legendgroup": "Regulation of cell morphogenesis",
         "marker": {
          "color": "#FECB52",
          "size": [
           4.16301918916043
          ],
          "sizemode": "area",
          "sizeref": 0.04421822436741261,
          "symbol": "circle"
         },
         "mode": "markers",
         "name": "Regulation of cell morphogenesis",
         "orientation": "v",
         "showlegend": true,
         "type": "scatter",
         "x": [
          4.7370552401435705e-09
         ],
         "xaxis": "x",
         "y": [
          4.16301918916043
         ],
         "yaxis": "y"
        },
        {
         "hovertemplate": "go_term=Positive regulation of cell growth<br>fdr_bh=%{x}<br>odds=%{marker.size}<extra></extra>",
         "legendgroup": "Positive regulation of cell growth",
         "marker": {
          "color": "#636efa",
          "size": [
           4.326083825435691
          ],
          "sizemode": "area",
          "sizeref": 0.04421822436741261,
          "symbol": "circle"
         },
         "mode": "markers",
         "name": "Positive regulation of cell growth",
         "orientation": "v",
         "showlegend": true,
         "type": "scatter",
         "x": [
          0.00010637095009354458
         ],
         "xaxis": "x",
         "y": [
          4.326083825435691
         ],
         "yaxis": "y"
        },
        {
         "hovertemplate": "go_term=Forebrain development<br>fdr_bh=%{x}<br>odds=%{marker.size}<extra></extra>",
         "legendgroup": "Forebrain development",
         "marker": {
          "color": "#EF553B",
          "size": [
           2.4735995319584614
          ],
          "sizemode": "area",
          "sizeref": 0.04421822436741261,
          "symbol": "circle"
         },
         "mode": "markers",
         "name": "Forebrain development",
         "orientation": "v",
         "showlegend": true,
         "type": "scatter",
         "x": [
          0.003140539959673849
         ],
         "xaxis": "x",
         "y": [
          2.4735995319584614
         ],
         "yaxis": "y"
        },
        {
         "hovertemplate": "go_term=Regulation of actin cytoskeleton organization<br>fdr_bh=%{x}<br>odds=%{marker.size}<extra></extra>",
         "legendgroup": "Regulation of actin cytoskeleton organization",
         "marker": {
          "color": "#00cc96",
          "size": [
           3.3595089099469577
          ],
          "sizemode": "area",
          "sizeref": 0.04421822436741261,
          "symbol": "circle"
         },
         "mode": "markers",
         "name": "Regulation of actin cytoskeleton organization",
         "orientation": "v",
         "showlegend": true,
         "type": "scatter",
         "x": [
          3.407616336680124e-05
         ],
         "xaxis": "x",
         "y": [
          3.3595089099469577
         ],
         "yaxis": "y"
        },
        {
         "hovertemplate": "go_term=Regulation of actin filament-based process<br>fdr_bh=%{x}<br>odds=%{marker.size}<extra></extra>",
         "legendgroup": "Regulation of actin filament-based process",
         "marker": {
          "color": "#ab63fa",
          "size": [
           3.1476909980846988
          ],
          "sizemode": "area",
          "sizeref": 0.04421822436741261,
          "symbol": "circle"
         },
         "mode": "markers",
         "name": "Regulation of actin filament-based process",
         "orientation": "v",
         "showlegend": true,
         "type": "scatter",
         "x": [
          4.7781082238412256e-05
         ],
         "xaxis": "x",
         "y": [
          3.1476909980846988
         ],
         "yaxis": "y"
        },
        {
         "hovertemplate": "go_term=Regulation of protein catabolic process<br>fdr_bh=%{x}<br>odds=%{marker.size}<extra></extra>",
         "legendgroup": "Regulation of protein catabolic process",
         "marker": {
          "color": "#FFA15A",
          "size": [
           2.2956616347069225
          ],
          "sizemode": "area",
          "sizeref": 0.04421822436741261,
          "symbol": "circle"
         },
         "mode": "markers",
         "name": "Regulation of protein catabolic process",
         "orientation": "v",
         "showlegend": true,
         "type": "scatter",
         "x": [
          0.004483530098662275
         ],
         "xaxis": "x",
         "y": [
          2.2956616347069225
         ],
         "yaxis": "y"
        },
        {
         "hovertemplate": "go_term=Receptor metabolic process<br>fdr_bh=%{x}<br>odds=%{marker.size}<extra></extra>",
         "legendgroup": "Receptor metabolic process",
         "marker": {
          "color": "#19d3f3",
          "size": [
           7.428712139867028
          ],
          "sizemode": "area",
          "sizeref": 0.04421822436741261,
          "symbol": "circle"
         },
         "mode": "markers",
         "name": "Receptor metabolic process",
         "orientation": "v",
         "showlegend": true,
         "type": "scatter",
         "x": [
          1.4912386219114475e-06
         ],
         "xaxis": "x",
         "y": [
          7.428712139867028
         ],
         "yaxis": "y"
        },
        {
         "hovertemplate": "go_term=Positive regulation of protein catabolic process<br>fdr_bh=%{x}<br>odds=%{marker.size}<extra></extra>",
         "legendgroup": "Positive regulation of protein catabolic process",
         "marker": {
          "color": "#FF6692",
          "size": [
           2.7305029305793083
          ],
          "sizemode": "area",
          "sizeref": 0.04421822436741261,
          "symbol": "circle"
         },
         "mode": "markers",
         "name": "Positive regulation of protein catabolic process",
         "orientation": "v",
         "showlegend": true,
         "type": "scatter",
         "x": [
          0.00464087969395299
         ],
         "xaxis": "x",
         "y": [
          2.7305029305793083
         ],
         "yaxis": "y"
        },
        {
         "hovertemplate": "go_term=Regulation of hormone secretion<br>fdr_bh=%{x}<br>odds=%{marker.size}<extra></extra>",
         "legendgroup": "Regulation of hormone secretion",
         "marker": {
          "color": "#B6E880",
          "size": [
           3.4149281975368933
          ],
          "sizemode": "area",
          "sizeref": 0.04421822436741261,
          "symbol": "circle"
         },
         "mode": "markers",
         "name": "Regulation of hormone secretion",
         "orientation": "v",
         "showlegend": true,
         "type": "scatter",
         "x": [
          0.00017009720705633686
         ],
         "xaxis": "x",
         "y": [
          3.4149281975368933
         ],
         "yaxis": "y"
        },
        {
         "hovertemplate": "go_term=Blood vessel morphogenesis<br>fdr_bh=%{x}<br>odds=%{marker.size}<extra></extra>",
         "legendgroup": "Blood vessel morphogenesis",
         "marker": {
          "color": "#FF97FF",
          "size": [
           3.15158966438725
          ],
          "sizemode": "area",
          "sizeref": 0.04421822436741261,
          "symbol": "circle"
         },
         "mode": "markers",
         "name": "Blood vessel morphogenesis",
         "orientation": "v",
         "showlegend": true,
         "type": "scatter",
         "x": [
          3.2227452121381974e-05
         ],
         "xaxis": "x",
         "y": [
          3.15158966438725
         ],
         "yaxis": "y"
        },
        {
         "hovertemplate": "go_term=Regulation of axonogenesis<br>fdr_bh=%{x}<br>odds=%{marker.size}<extra></extra>",
         "legendgroup": "Regulation of axonogenesis",
         "marker": {
          "color": "#FECB52",
          "size": [
           3.926368593238822
          ],
          "sizemode": "area",
          "sizeref": 0.04421822436741261,
          "symbol": "circle"
         },
         "mode": "markers",
         "name": "Regulation of axonogenesis",
         "orientation": "v",
         "showlegend": true,
         "type": "scatter",
         "x": [
          0.00023051218006761977
         ],
         "xaxis": "x",
         "y": [
          3.926368593238822
         ],
         "yaxis": "y"
        },
        {
         "hovertemplate": "go_term=Regulation of insulin secretion<br>fdr_bh=%{x}<br>odds=%{marker.size}<extra></extra>",
         "legendgroup": "Regulation of insulin secretion",
         "marker": {
          "color": "#636efa",
          "size": [
           4.043197126178716
          ],
          "sizemode": "area",
          "sizeref": 0.04421822436741261,
          "symbol": "circle"
         },
         "mode": "markers",
         "name": "Regulation of insulin secretion",
         "orientation": "v",
         "showlegend": true,
         "type": "scatter",
         "x": [
          0.0001827833187149158
         ],
         "xaxis": "x",
         "y": [
          4.043197126178716
         ],
         "yaxis": "y"
        },
        {
         "hovertemplate": "go_term=Negative regulation of nervous system development<br>fdr_bh=%{x}<br>odds=%{marker.size}<extra></extra>",
         "legendgroup": "Negative regulation of nervous system development",
         "marker": {
          "color": "#EF553B",
          "size": [
           2.678621044507332
          ],
          "sizemode": "area",
          "sizeref": 0.04421822436741261,
          "symbol": "circle"
         },
         "mode": "markers",
         "name": "Negative regulation of nervous system development",
         "orientation": "v",
         "showlegend": true,
         "type": "scatter",
         "x": [
          0.0019487390874472622
         ],
         "xaxis": "x",
         "y": [
          2.678621044507332
         ],
         "yaxis": "y"
        },
        {
         "hovertemplate": "go_term=Regulation of peptide hormone secretion<br>fdr_bh=%{x}<br>odds=%{marker.size}<extra></extra>",
         "legendgroup": "Regulation of peptide hormone secretion",
         "marker": {
          "color": "#00cc96",
          "size": [
           4.010868733256793
          ],
          "sizemode": "area",
          "sizeref": 0.04421822436741261,
          "symbol": "circle"
         },
         "mode": "markers",
         "name": "Regulation of peptide hormone secretion",
         "orientation": "v",
         "showlegend": true,
         "type": "scatter",
         "x": [
          6.232672443527061e-05
         ],
         "xaxis": "x",
         "y": [
          4.010868733256793
         ],
         "yaxis": "y"
        },
        {
         "hovertemplate": "go_term=Regulation of neuron death<br>fdr_bh=%{x}<br>odds=%{marker.size}<extra></extra>",
         "legendgroup": "Regulation of neuron death",
         "marker": {
          "color": "#ab63fa",
          "size": [
           2.4365169388989716
          ],
          "sizemode": "area",
          "sizeref": 0.04421822436741261,
          "symbol": "circle"
         },
         "mode": "markers",
         "name": "Regulation of neuron death",
         "orientation": "v",
         "showlegend": true,
         "type": "scatter",
         "x": [
          0.005396945634580809
         ],
         "xaxis": "x",
         "y": [
          2.4365169388989716
         ],
         "yaxis": "y"
        },
        {
         "hovertemplate": "go_term=Response to peptide<br>fdr_bh=%{x}<br>odds=%{marker.size}<extra></extra>",
         "legendgroup": "Response to peptide",
         "marker": {
          "color": "#FFA15A",
          "size": [
           3.424498207885305
          ],
          "sizemode": "area",
          "sizeref": 0.04421822436741261,
          "symbol": "circle"
         },
         "mode": "markers",
         "name": "Response to peptide",
         "orientation": "v",
         "showlegend": true,
         "type": "scatter",
         "x": [
          1.6184424413976393e-06
         ],
         "xaxis": "x",
         "y": [
          3.424498207885305
         ],
         "yaxis": "y"
        },
        {
         "hovertemplate": "go_term=Cellular response to peptide<br>fdr_bh=%{x}<br>odds=%{marker.size}<extra></extra>",
         "legendgroup": "Cellular response to peptide",
         "marker": {
          "color": "#19d3f3",
          "size": [
           3.975889328063241
          ],
          "sizemode": "area",
          "sizeref": 0.04421822436741261,
          "symbol": "circle"
         },
         "mode": "markers",
         "name": "Cellular response to peptide",
         "orientation": "v",
         "showlegend": true,
         "type": "scatter",
         "x": [
          1.884169337984473e-06
         ],
         "xaxis": "x",
         "y": [
          3.975889328063241
         ],
         "yaxis": "y"
        },
        {
         "hovertemplate": "go_term=Antigen processing and presentation of exogenous peptide antigen<br>fdr_bh=%{x}<br>odds=%{marker.size}<extra></extra>",
         "legendgroup": "Antigen processing and presentation of exogenous peptide antigen",
         "marker": {
          "color": "#FF6692",
          "size": [
           3.853040658751079
          ],
          "sizemode": "area",
          "sizeref": 0.04421822436741261,
          "symbol": "circle"
         },
         "mode": "markers",
         "name": "Antigen processing and presentation of exogenous peptide antigen",
         "orientation": "v",
         "showlegend": true,
         "type": "scatter",
         "x": [
          0.0004556691453304286
         ],
         "xaxis": "x",
         "y": [
          3.853040658751079
         ],
         "yaxis": "y"
        },
        {
         "hovertemplate": "go_term=Antigen processing and presentation of exogenous antigen<br>fdr_bh=%{x}<br>odds=%{marker.size}<extra></extra>",
         "legendgroup": "Antigen processing and presentation of exogenous antigen",
         "marker": {
          "color": "#B6E880",
          "size": [
           3.6708247170524535
          ],
          "sizemode": "area",
          "sizeref": 0.04421822436741261,
          "symbol": "circle"
         },
         "mode": "markers",
         "name": "Antigen processing and presentation of exogenous antigen",
         "orientation": "v",
         "showlegend": true,
         "type": "scatter",
         "x": [
          0.0006401814236577818
         ],
         "xaxis": "x",
         "y": [
          3.6708247170524535
         ],
         "yaxis": "y"
        },
        {
         "hovertemplate": "go_term=Antigen processing and presentation of peptide antigen<br>fdr_bh=%{x}<br>odds=%{marker.size}<extra></extra>",
         "legendgroup": "Antigen processing and presentation of peptide antigen",
         "marker": {
          "color": "#FF97FF",
          "size": [
           3.4851922264469795
          ],
          "sizemode": "area",
          "sizeref": 0.04421822436741261,
          "symbol": "circle"
         },
         "mode": "markers",
         "name": "Antigen processing and presentation of peptide antigen",
         "orientation": "v",
         "showlegend": true,
         "type": "scatter",
         "x": [
          0.0009162411065450295
         ],
         "xaxis": "x",
         "y": [
          3.4851922264469795
         ],
         "yaxis": "y"
        },
        {
         "hovertemplate": "go_term=Regulation of jnk cascade<br>fdr_bh=%{x}<br>odds=%{marker.size}<extra></extra>",
         "legendgroup": "Regulation of jnk cascade",
         "marker": {
          "color": "#FECB52",
          "size": [
           4.396326346630606
          ],
          "sizemode": "area",
          "sizeref": 0.04421822436741261,
          "symbol": "circle"
         },
         "mode": "markers",
         "name": "Regulation of jnk cascade",
         "orientation": "v",
         "showlegend": true,
         "type": "scatter",
         "x": [
          4.963375494714456e-05
         ],
         "xaxis": "x",
         "y": [
          4.396326346630606
         ],
         "yaxis": "y"
        },
        {
         "hovertemplate": "go_term=Apoptotic signaling pathway<br>fdr_bh=%{x}<br>odds=%{marker.size}<extra></extra>",
         "legendgroup": "Apoptotic signaling pathway",
         "marker": {
          "color": "#636efa",
          "size": [
           2.949858597285068
          ],
          "sizemode": "area",
          "sizeref": 0.04421822436741261,
          "symbol": "circle"
         },
         "mode": "markers",
         "name": "Apoptotic signaling pathway",
         "orientation": "v",
         "showlegend": true,
         "type": "scatter",
         "x": [
          0.000907656003859085
         ],
         "xaxis": "x",
         "y": [
          2.949858597285068
         ],
         "yaxis": "y"
        },
        {
         "hovertemplate": "go_term=Golgi vesicle transport<br>fdr_bh=%{x}<br>odds=%{marker.size}<extra></extra>",
         "legendgroup": "Golgi vesicle transport",
         "marker": {
          "color": "#EF553B",
          "size": [
           2.867374337269893
          ],
          "sizemode": "area",
          "sizeref": 0.04421822436741261,
          "symbol": "circle"
         },
         "mode": "markers",
         "name": "Golgi vesicle transport",
         "orientation": "v",
         "showlegend": true,
         "type": "scatter",
         "x": [
          0.0003985062522976444
         ],
         "xaxis": "x",
         "y": [
          2.867374337269893
         ],
         "yaxis": "y"
        },
        {
         "hovertemplate": "go_term=Regulation of ion transmembrane transport<br>fdr_bh=%{x}<br>odds=%{marker.size}<extra></extra>",
         "legendgroup": "Regulation of ion transmembrane transport",
         "marker": {
          "color": "#00cc96",
          "size": [
           3.4166726271368284
          ],
          "sizemode": "area",
          "sizeref": 0.04421822436741261,
          "symbol": "circle"
         },
         "mode": "markers",
         "name": "Regulation of ion transmembrane transport",
         "orientation": "v",
         "showlegend": true,
         "type": "scatter",
         "x": [
          1.6610632206938274e-06
         ],
         "xaxis": "x",
         "y": [
          3.4166726271368284
         ],
         "yaxis": "y"
        },
        {
         "hovertemplate": "go_term=Ameboidal-type cell migration<br>fdr_bh=%{x}<br>odds=%{marker.size}<extra></extra>",
         "legendgroup": "Ameboidal-type cell migration",
         "marker": {
          "color": "#ab63fa",
          "size": [
           4.674209770114943
          ],
          "sizemode": "area",
          "sizeref": 0.04421822436741261,
          "symbol": "circle"
         },
         "mode": "markers",
         "name": "Ameboidal-type cell migration",
         "orientation": "v",
         "showlegend": true,
         "type": "scatter",
         "x": [
          2.9880843878339086e-05
         ],
         "xaxis": "x",
         "y": [
          4.674209770114943
         ],
         "yaxis": "y"
        },
        {
         "hovertemplate": "go_term=Morphogenesis of an epithelium<br>fdr_bh=%{x}<br>odds=%{marker.size}<extra></extra>",
         "legendgroup": "Morphogenesis of an epithelium",
         "marker": {
          "color": "#FFA15A",
          "size": [
           3.609805073954354
          ],
          "sizemode": "area",
          "sizeref": 0.04421822436741261,
          "symbol": "circle"
         },
         "mode": "markers",
         "name": "Morphogenesis of an epithelium",
         "orientation": "v",
         "showlegend": true,
         "type": "scatter",
         "x": [
          1.1595321450406096e-06
         ],
         "xaxis": "x",
         "y": [
          3.609805073954354
         ],
         "yaxis": "y"
        },
        {
         "hovertemplate": "go_term=Epithelial tube morphogenesis<br>fdr_bh=%{x}<br>odds=%{marker.size}<extra></extra>",
         "legendgroup": "Epithelial tube morphogenesis",
         "marker": {
          "color": "#19d3f3",
          "size": [
           3.1706758304696447
          ],
          "sizemode": "area",
          "sizeref": 0.04421822436741261,
          "symbol": "circle"
         },
         "mode": "markers",
         "name": "Epithelial tube morphogenesis",
         "orientation": "v",
         "showlegend": true,
         "type": "scatter",
         "x": [
          0.000222772361670451
         ],
         "xaxis": "x",
         "y": [
          3.1706758304696447
         ],
         "yaxis": "y"
        },
        {
         "hovertemplate": "go_term=Negative regulation of protein phosphorylation<br>fdr_bh=%{x}<br>odds=%{marker.size}<extra></extra>",
         "legendgroup": "Negative regulation of protein phosphorylation",
         "marker": {
          "color": "#FF6692",
          "size": [
           2.3195368462368755
          ],
          "sizemode": "area",
          "sizeref": 0.04421822436741261,
          "symbol": "circle"
         },
         "mode": "markers",
         "name": "Negative regulation of protein phosphorylation",
         "orientation": "v",
         "showlegend": true,
         "type": "scatter",
         "x": [
          0.004242181650849286
         ],
         "xaxis": "x",
         "y": [
          2.3195368462368755
         ],
         "yaxis": "y"
        },
        {
         "hovertemplate": "go_term=Negative regulation of protein kinase activity<br>fdr_bh=%{x}<br>odds=%{marker.size}<extra></extra>",
         "legendgroup": "Negative regulation of protein kinase activity",
         "marker": {
          "color": "#B6E880",
          "size": [
           2.7797887621461768
          ],
          "sizemode": "area",
          "sizeref": 0.04421822436741261,
          "symbol": "circle"
         },
         "mode": "markers",
         "name": "Negative regulation of protein kinase activity",
         "orientation": "v",
         "showlegend": true,
         "type": "scatter",
         "x": [
          0.00417579982552153
         ],
         "xaxis": "x",
         "y": [
          2.7797887621461768
         ],
         "yaxis": "y"
        },
        {
         "hovertemplate": "go_term=Negative regulation of kinase activity<br>fdr_bh=%{x}<br>odds=%{marker.size}<extra></extra>",
         "legendgroup": "Negative regulation of kinase activity",
         "marker": {
          "color": "#FF97FF",
          "size": [
           2.5600729290033035
          ],
          "sizemode": "area",
          "sizeref": 0.04421822436741261,
          "symbol": "circle"
         },
         "mode": "markers",
         "name": "Negative regulation of kinase activity",
         "orientation": "v",
         "showlegend": true,
         "type": "scatter",
         "x": [
          0.007124213157163026
         ],
         "xaxis": "x",
         "y": [
          2.5600729290033035
         ],
         "yaxis": "y"
        },
        {
         "hovertemplate": "go_term=Negative regulation of phosphorylation<br>fdr_bh=%{x}<br>odds=%{marker.size}<extra></extra>",
         "legendgroup": "Negative regulation of phosphorylation",
         "marker": {
          "color": "#FECB52",
          "size": [
           2.4036760440835265
          ],
          "sizemode": "area",
          "sizeref": 0.04421822436741261,
          "symbol": "circle"
         },
         "mode": "markers",
         "name": "Negative regulation of phosphorylation",
         "orientation": "v",
         "showlegend": true,
         "type": "scatter",
         "x": [
          0.0019434642688095386
         ],
         "xaxis": "x",
         "y": [
          2.4036760440835265
         ],
         "yaxis": "y"
        },
        {
         "hovertemplate": "go_term=Angiogenesis<br>fdr_bh=%{x}<br>odds=%{marker.size}<extra></extra>",
         "legendgroup": "Angiogenesis",
         "marker": {
          "color": "#636efa",
          "size": [
           3.0841824168416685
          ],
          "sizemode": "area",
          "sizeref": 0.04421822436741261,
          "symbol": "circle"
         },
         "mode": "markers",
         "name": "Angiogenesis",
         "orientation": "v",
         "showlegend": true,
         "type": "scatter",
         "x": [
          0.0002867218526923344
         ],
         "xaxis": "x",
         "y": [
          3.0841824168416685
         ],
         "yaxis": "y"
        },
        {
         "hovertemplate": "go_term=Viral life cycle<br>fdr_bh=%{x}<br>odds=%{marker.size}<extra></extra>",
         "legendgroup": "Viral life cycle",
         "marker": {
          "color": "#EF553B",
          "size": [
           3.612776215347529
          ],
          "sizemode": "area",
          "sizeref": 0.04421822436741261,
          "symbol": "circle"
         },
         "mode": "markers",
         "name": "Viral life cycle",
         "orientation": "v",
         "showlegend": true,
         "type": "scatter",
         "x": [
          0.0004351866729980116
         ],
         "xaxis": "x",
         "y": [
          3.612776215347529
         ],
         "yaxis": "y"
        },
        {
         "hovertemplate": "go_term=Entry into host<br>fdr_bh=%{x}<br>odds=%{marker.size}<extra></extra>",
         "legendgroup": "Entry into host",
         "marker": {
          "color": "#00cc96",
          "size": [
           6.858860968755166
          ],
          "sizemode": "area",
          "sizeref": 0.04421822436741261,
          "symbol": "circle"
         },
         "mode": "markers",
         "name": "Entry into host",
         "orientation": "v",
         "showlegend": true,
         "type": "scatter",
         "x": [
          6.696364437005192e-06
         ],
         "xaxis": "x",
         "y": [
          6.858860968755166
         ],
         "yaxis": "y"
        },
        {
         "hovertemplate": "go_term=Interaction with host<br>fdr_bh=%{x}<br>odds=%{marker.size}<extra></extra>",
         "legendgroup": "Interaction with host",
         "marker": {
          "color": "#ab63fa",
          "size": [
           4.9551320775440715
          ],
          "sizemode": "area",
          "sizeref": 0.04421822436741261,
          "symbol": "circle"
         },
         "mode": "markers",
         "name": "Interaction with host",
         "orientation": "v",
         "showlegend": true,
         "type": "scatter",
         "x": [
          3.528991423495843e-05
         ],
         "xaxis": "x",
         "y": [
          4.9551320775440715
         ],
         "yaxis": "y"
        },
        {
         "hovertemplate": "go_term=Movement in host environment<br>fdr_bh=%{x}<br>odds=%{marker.size}<extra></extra>",
         "legendgroup": "Movement in host environment",
         "marker": {
          "color": "#FFA15A",
          "size": [
           7.19513358778626
          ],
          "sizemode": "area",
          "sizeref": 0.04421822436741261,
          "symbol": "circle"
         },
         "mode": "markers",
         "name": "Movement in host environment",
         "orientation": "v",
         "showlegend": true,
         "type": "scatter",
         "x": [
          1.8128736175156308e-06
         ],
         "xaxis": "x",
         "y": [
          7.19513358778626
         ],
         "yaxis": "y"
        },
        {
         "hovertemplate": "go_term=Regulation of metal ion transport<br>fdr_bh=%{x}<br>odds=%{marker.size}<extra></extra>",
         "legendgroup": "Regulation of metal ion transport",
         "marker": {
          "color": "#19d3f3",
          "size": [
           2.27886511131192
          ],
          "sizemode": "area",
          "sizeref": 0.04421822436741261,
          "symbol": "circle"
         },
         "mode": "markers",
         "name": "Regulation of metal ion transport",
         "orientation": "v",
         "showlegend": true,
         "type": "scatter",
         "x": [
          0.006222230667421163
         ],
         "xaxis": "x",
         "y": [
          2.27886511131192
         ],
         "yaxis": "y"
        },
        {
         "hovertemplate": "go_term=Regulation of transmembrane transporter activity<br>fdr_bh=%{x}<br>odds=%{marker.size}<extra></extra>",
         "legendgroup": "Regulation of transmembrane transporter activity",
         "marker": {
          "color": "#FF6692",
          "size": [
           3.150105580693816
          ],
          "sizemode": "area",
          "sizeref": 0.04421822436741261,
          "symbol": "circle"
         },
         "mode": "markers",
         "name": "Regulation of transmembrane transporter activity",
         "orientation": "v",
         "showlegend": true,
         "type": "scatter",
         "x": [
          0.0005310461211839363
         ],
         "xaxis": "x",
         "y": [
          3.150105580693816
         ],
         "yaxis": "y"
        },
        {
         "hovertemplate": "go_term=Regulation of transporter activity<br>fdr_bh=%{x}<br>odds=%{marker.size}<extra></extra>",
         "legendgroup": "Regulation of transporter activity",
         "marker": {
          "color": "#B6E880",
          "size": [
           3.4878455462922333
          ],
          "sizemode": "area",
          "sizeref": 0.04421822436741261,
          "symbol": "circle"
         },
         "mode": "markers",
         "name": "Regulation of transporter activity",
         "orientation": "v",
         "showlegend": true,
         "type": "scatter",
         "x": [
          8.55575475516111e-05
         ],
         "xaxis": "x",
         "y": [
          3.4878455462922333
         ],
         "yaxis": "y"
        },
        {
         "hovertemplate": "go_term=Regulation of ion transmembrane transporter activity<br>fdr_bh=%{x}<br>odds=%{marker.size}<extra></extra>",
         "legendgroup": "Regulation of ion transmembrane transporter activity",
         "marker": {
          "color": "#FF97FF",
          "size": [
           3.2673233270794246
          ],
          "sizemode": "area",
          "sizeref": 0.04421822436741261,
          "symbol": "circle"
         },
         "mode": "markers",
         "name": "Regulation of ion transmembrane transporter activity",
         "orientation": "v",
         "showlegend": true,
         "type": "scatter",
         "x": [
          0.0003884085298378013
         ],
         "xaxis": "x",
         "y": [
          3.2673233270794246
         ],
         "yaxis": "y"
        },
        {
         "hovertemplate": "go_term=Regulation of gtpase activity<br>fdr_bh=%{x}<br>odds=%{marker.size}<extra></extra>",
         "legendgroup": "Regulation of gtpase activity",
         "marker": {
          "color": "#FECB52",
          "size": [
           3.393402728435413
          ],
          "sizemode": "area",
          "sizeref": 0.04421822436741261,
          "symbol": "circle"
         },
         "mode": "markers",
         "name": "Regulation of gtpase activity",
         "orientation": "v",
         "showlegend": true,
         "type": "scatter",
         "x": [
          1.8128736175156308e-06
         ],
         "xaxis": "x",
         "y": [
          3.393402728435413
         ],
         "yaxis": "y"
        },
        {
         "hovertemplate": "go_term=Positive regulation of gtpase activity<br>fdr_bh=%{x}<br>odds=%{marker.size}<extra></extra>",
         "legendgroup": "Positive regulation of gtpase activity",
         "marker": {
          "color": "#636efa",
          "size": [
           3.8817573960764524
          ],
          "sizemode": "area",
          "sizeref": 0.04421822436741261,
          "symbol": "circle"
         },
         "mode": "markers",
         "name": "Positive regulation of gtpase activity",
         "orientation": "v",
         "showlegend": true,
         "type": "scatter",
         "x": [
          3.7954534219372043e-07
         ],
         "xaxis": "x",
         "y": [
          3.8817573960764524
         ],
         "yaxis": "y"
        },
        {
         "hovertemplate": "go_term=Regulation of calcium ion transport<br>fdr_bh=%{x}<br>odds=%{marker.size}<extra></extra>",
         "legendgroup": "Regulation of calcium ion transport",
         "marker": {
          "color": "#EF553B",
          "size": [
           3.060656228812891
          ],
          "sizemode": "area",
          "sizeref": 0.04421822436741261,
          "symbol": "circle"
         },
         "mode": "markers",
         "name": "Regulation of calcium ion transport",
         "orientation": "v",
         "showlegend": true,
         "type": "scatter",
         "x": [
          0.0009844525889234935
         ],
         "xaxis": "x",
         "y": [
          3.060656228812891
         ],
         "yaxis": "y"
        },
        {
         "hovertemplate": "go_term=Regulation of calcium ion transmembrane transport<br>fdr_bh=%{x}<br>odds=%{marker.size}<extra></extra>",
         "legendgroup": "Regulation of calcium ion transmembrane transport",
         "marker": {
          "color": "#00cc96",
          "size": [
           4.397777127815151
          ],
          "sizemode": "area",
          "sizeref": 0.04421822436741261,
          "symbol": "circle"
         },
         "mode": "markers",
         "name": "Regulation of calcium ion transmembrane transport",
         "orientation": "v",
         "showlegend": true,
         "type": "scatter",
         "x": [
          0.00017547534787065117
         ],
         "xaxis": "x",
         "y": [
          4.397777127815151
         ],
         "yaxis": "y"
        },
        {
         "hovertemplate": "go_term=Regulation of cation transmembrane transport<br>fdr_bh=%{x}<br>odds=%{marker.size}<extra></extra>",
         "legendgroup": "Regulation of cation transmembrane transport",
         "marker": {
          "color": "#ab63fa",
          "size": [
           2.8685551450167837
          ],
          "sizemode": "area",
          "sizeref": 0.04421822436741261,
          "symbol": "circle"
         },
         "mode": "markers",
         "name": "Regulation of cation transmembrane transport",
         "orientation": "v",
         "showlegend": true,
         "type": "scatter",
         "x": [
          0.0005645010359115129
         ],
         "xaxis": "x",
         "y": [
          2.8685551450167837
         ],
         "yaxis": "y"
        },
        {
         "hovertemplate": "go_term=Regulation of cation channel activity<br>fdr_bh=%{x}<br>odds=%{marker.size}<extra></extra>",
         "legendgroup": "Regulation of cation channel activity",
         "marker": {
          "color": "#FFA15A",
          "size": [
           3.7826515186220164
          ],
          "sizemode": "area",
          "sizeref": 0.04421822436741261,
          "symbol": "circle"
         },
         "mode": "markers",
         "name": "Regulation of cation channel activity",
         "orientation": "v",
         "showlegend": true,
         "type": "scatter",
         "x": [
          0.0005248471952519694
         ],
         "xaxis": "x",
         "y": [
          3.7826515186220164
         ],
         "yaxis": "y"
        },
        {
         "hovertemplate": "go_term=Regulation of actin filament organization<br>fdr_bh=%{x}<br>odds=%{marker.size}<extra></extra>",
         "legendgroup": "Regulation of actin filament organization",
         "marker": {
          "color": "#19d3f3",
          "size": [
           3.852854450389105
          ],
          "sizemode": "area",
          "sizeref": 0.04421822436741261,
          "symbol": "circle"
         },
         "mode": "markers",
         "name": "Regulation of actin filament organization",
         "orientation": "v",
         "showlegend": true,
         "type": "scatter",
         "x": [
          2.0018879392460544e-05
         ],
         "xaxis": "x",
         "y": [
          3.852854450389105
         ],
         "yaxis": "y"
        },
        {
         "hovertemplate": "go_term=Regulation of supramolecular fiber organization<br>fdr_bh=%{x}<br>odds=%{marker.size}<extra></extra>",
         "legendgroup": "Regulation of supramolecular fiber organization",
         "marker": {
          "color": "#FF6692",
          "size": [
           3.3516607837813375
          ],
          "sizemode": "area",
          "sizeref": 0.04421822436741261,
          "symbol": "circle"
         },
         "mode": "markers",
         "name": "Regulation of supramolecular fiber organization",
         "orientation": "v",
         "showlegend": true,
         "type": "scatter",
         "x": [
          2.3757400890789623e-05
         ],
         "xaxis": "x",
         "y": [
          3.3516607837813375
         ],
         "yaxis": "y"
        },
        {
         "hovertemplate": "go_term=Muscle system process<br>fdr_bh=%{x}<br>odds=%{marker.size}<extra></extra>",
         "legendgroup": "Muscle system process",
         "marker": {
          "color": "#B6E880",
          "size": [
           2.3932503013258337
          ],
          "sizemode": "area",
          "sizeref": 0.04421822436741261,
          "symbol": "circle"
         },
         "mode": "markers",
         "name": "Muscle system process",
         "orientation": "v",
         "showlegend": true,
         "type": "scatter",
         "x": [
          0.008210052103653763
         ],
         "xaxis": "x",
         "y": [
          2.3932503013258337
         ],
         "yaxis": "y"
        },
        {
         "hovertemplate": "go_term=Wnt signaling pathway<br>fdr_bh=%{x}<br>odds=%{marker.size}<extra></extra>",
         "legendgroup": "Wnt signaling pathway",
         "marker": {
          "color": "#FF97FF",
          "size": [
           2.557053226696084
          ],
          "sizemode": "area",
          "sizeref": 0.04421822436741261,
          "symbol": "circle"
         },
         "mode": "markers",
         "name": "Wnt signaling pathway",
         "orientation": "v",
         "showlegend": true,
         "type": "scatter",
         "x": [
          0.0020574031190389824
         ],
         "xaxis": "x",
         "y": [
          2.557053226696084
         ],
         "yaxis": "y"
        },
        {
         "hovertemplate": "go_term=Cell-cell signaling by wnt<br>fdr_bh=%{x}<br>odds=%{marker.size}<extra></extra>",
         "legendgroup": "Cell-cell signaling by wnt",
         "marker": {
          "color": "#FECB52",
          "size": [
           2.557053226696084
          ],
          "sizemode": "area",
          "sizeref": 0.04421822436741261,
          "symbol": "circle"
         },
         "mode": "markers",
         "name": "Cell-cell signaling by wnt",
         "orientation": "v",
         "showlegend": true,
         "type": "scatter",
         "x": [
          0.0020574031190389824
         ],
         "xaxis": "x",
         "y": [
          2.557053226696084
         ],
         "yaxis": "y"
        },
        {
         "hovertemplate": "go_term=Cell surface receptor signaling pathway involved in cell-cell signaling<br>fdr_bh=%{x}<br>odds=%{marker.size}<extra></extra>",
         "legendgroup": "Cell surface receptor signaling pathway involved in cell-cell signaling",
         "marker": {
          "color": "#636efa",
          "size": [
           2.336660553047404
          ],
          "sizemode": "area",
          "sizeref": 0.04421822436741261,
          "symbol": "circle"
         },
         "mode": "markers",
         "name": "Cell surface receptor signaling pathway involved in cell-cell signaling",
         "orientation": "v",
         "showlegend": true,
         "type": "scatter",
         "x": [
          0.002308876321510648
         ],
         "xaxis": "x",
         "y": [
          2.336660553047404
         ],
         "yaxis": "y"
        },
        {
         "hovertemplate": "go_term=Regulation of cell shape<br>fdr_bh=%{x}<br>odds=%{marker.size}<extra></extra>",
         "legendgroup": "Regulation of cell shape",
         "marker": {
          "color": "#EF553B",
          "size": [
           5.823907028223575
          ],
          "sizemode": "area",
          "sizeref": 0.04421822436741261,
          "symbol": "circle"
         },
         "mode": "markers",
         "name": "Regulation of cell shape",
         "orientation": "v",
         "showlegend": true,
         "type": "scatter",
         "x": [
          2.193319414469441e-06
         ],
         "xaxis": "x",
         "y": [
          5.823907028223575
         ],
         "yaxis": "y"
        },
        {
         "hovertemplate": "go_term=Regulation of protein kinase b signaling<br>fdr_bh=%{x}<br>odds=%{marker.size}<extra></extra>",
         "legendgroup": "Regulation of protein kinase b signaling",
         "marker": {
          "color": "#00cc96",
          "size": [
           2.9110266159695817
          ],
          "sizemode": "area",
          "sizeref": 0.04421822436741261,
          "symbol": "circle"
         },
         "mode": "markers",
         "name": "Regulation of protein kinase b signaling",
         "orientation": "v",
         "showlegend": true,
         "type": "scatter",
         "x": [
          0.003088864931996772
         ],
         "xaxis": "x",
         "y": [
          2.9110266159695817
         ],
         "yaxis": "y"
        },
        {
         "hovertemplate": "go_term=Protein autophosphorylation<br>fdr_bh=%{x}<br>odds=%{marker.size}<extra></extra>",
         "legendgroup": "Protein autophosphorylation",
         "marker": {
          "color": "#ab63fa",
          "size": [
           4.536084701815039
          ],
          "sizemode": "area",
          "sizeref": 0.04421822436741261,
          "symbol": "circle"
         },
         "mode": "markers",
         "name": "Protein autophosphorylation",
         "orientation": "v",
         "showlegend": true,
         "type": "scatter",
         "x": [
          2.1182579230780214e-05
         ],
         "xaxis": "x",
         "y": [
          4.536084701815039
         ],
         "yaxis": "y"
        },
        {
         "hovertemplate": "go_term=Heart morphogenesis<br>fdr_bh=%{x}<br>odds=%{marker.size}<extra></extra>",
         "legendgroup": "Heart morphogenesis",
         "marker": {
          "color": "#FFA15A",
          "size": [
           3.1260021249879264
          ],
          "sizemode": "area",
          "sizeref": 0.04421822436741261,
          "symbol": "circle"
         },
         "mode": "markers",
         "name": "Heart morphogenesis",
         "orientation": "v",
         "showlegend": true,
         "type": "scatter",
         "x": [
          0.0008444691231850222
         ],
         "xaxis": "x",
         "y": [
          3.1260021249879264
         ],
         "yaxis": "y"
        },
        {
         "hovertemplate": "go_term=Response to peptide hormone<br>fdr_bh=%{x}<br>odds=%{marker.size}<extra></extra>",
         "legendgroup": "Response to peptide hormone",
         "marker": {
          "color": "#19d3f3",
          "size": [
           3.469768731865506
          ],
          "sizemode": "area",
          "sizeref": 0.04421822436741261,
          "symbol": "circle"
         },
         "mode": "markers",
         "name": "Response to peptide hormone",
         "orientation": "v",
         "showlegend": true,
         "type": "scatter",
         "x": [
          6.794643719949513e-06
         ],
         "xaxis": "x",
         "y": [
          3.469768731865506
         ],
         "yaxis": "y"
        },
        {
         "hovertemplate": "go_term=Regulation of angiogenesis<br>fdr_bh=%{x}<br>odds=%{marker.size}<extra></extra>",
         "legendgroup": "Regulation of angiogenesis",
         "marker": {
          "color": "#FF6692",
          "size": [
           2.773170082512643
          ],
          "sizemode": "area",
          "sizeref": 0.04421822436741261,
          "symbol": "circle"
         },
         "mode": "markers",
         "name": "Regulation of angiogenesis",
         "orientation": "v",
         "showlegend": true,
         "type": "scatter",
         "x": [
          0.0014957087384691735
         ],
         "xaxis": "x",
         "y": [
          2.773170082512643
         ],
         "yaxis": "y"
        },
        {
         "hovertemplate": "go_term=Positive regulation of angiogenesis<br>fdr_bh=%{x}<br>odds=%{marker.size}<extra></extra>",
         "legendgroup": "Positive regulation of angiogenesis",
         "marker": {
          "color": "#B6E880",
          "size": [
           3.976295904124753
          ],
          "sizemode": "area",
          "sizeref": 0.04421822436741261,
          "symbol": "circle"
         },
         "mode": "markers",
         "name": "Positive regulation of angiogenesis",
         "orientation": "v",
         "showlegend": true,
         "type": "scatter",
         "x": [
          0.00036639104817015453
         ],
         "xaxis": "x",
         "y": [
          3.976295904124753
         ],
         "yaxis": "y"
        },
        {
         "hovertemplate": "go_term=Cellular response to peptide hormone stimulus<br>fdr_bh=%{x}<br>odds=%{marker.size}<extra></extra>",
         "legendgroup": "Cellular response to peptide hormone stimulus",
         "marker": {
          "color": "#FF97FF",
          "size": [
           3.915060836267062
          ],
          "sizemode": "area",
          "sizeref": 0.04421822436741261,
          "symbol": "circle"
         },
         "mode": "markers",
         "name": "Cellular response to peptide hormone stimulus",
         "orientation": "v",
         "showlegend": true,
         "type": "scatter",
         "x": [
          1.7072882093646947e-05
         ],
         "xaxis": "x",
         "y": [
          3.915060836267062
         ],
         "yaxis": "y"
        },
        {
         "hovertemplate": "go_term=Regulation of vasculature development<br>fdr_bh=%{x}<br>odds=%{marker.size}<extra></extra>",
         "legendgroup": "Regulation of vasculature development",
         "marker": {
          "color": "#FECB52",
          "size": [
           2.67924800635081
          ],
          "sizemode": "area",
          "sizeref": 0.04421822436741261,
          "symbol": "circle"
         },
         "mode": "markers",
         "name": "Regulation of vasculature development",
         "orientation": "v",
         "showlegend": true,
         "type": "scatter",
         "x": [
          0.0014332440068718626
         ],
         "xaxis": "x",
         "y": [
          2.67924800635081
         ],
         "yaxis": "y"
        },
        {
         "hovertemplate": "go_term=Positive regulation of vasculature development<br>fdr_bh=%{x}<br>odds=%{marker.size}<extra></extra>",
         "legendgroup": "Positive regulation of vasculature development",
         "marker": {
          "color": "#636efa",
          "size": [
           3.881485315047225
          ],
          "sizemode": "area",
          "sizeref": 0.04421822436741261,
          "symbol": "circle"
         },
         "mode": "markers",
         "name": "Positive regulation of vasculature development",
         "orientation": "v",
         "showlegend": true,
         "type": "scatter",
         "x": [
          0.0002491905668539952
         ],
         "xaxis": "x",
         "y": [
          3.881485315047225
         ],
         "yaxis": "y"
        },
        {
         "hovertemplate": "go_term=Regulation of reactive oxygen species metabolic process<br>fdr_bh=%{x}<br>odds=%{marker.size}<extra></extra>",
         "legendgroup": "Regulation of reactive oxygen species metabolic process",
         "marker": {
          "color": "#EF553B",
          "size": [
           3.9037994448299793
          ],
          "sizemode": "area",
          "sizeref": 0.04421822436741261,
          "symbol": "circle"
         },
         "mode": "markers",
         "name": "Regulation of reactive oxygen species metabolic process",
         "orientation": "v",
         "showlegend": true,
         "type": "scatter",
         "x": [
          0.00024091334462690155
         ],
         "xaxis": "x",
         "y": [
          3.9037994448299793
         ],
         "yaxis": "y"
        },
        {
         "hovertemplate": "go_term=Response to insulin<br>fdr_bh=%{x}<br>odds=%{marker.size}<extra></extra>",
         "legendgroup": "Response to insulin",
         "marker": {
          "color": "#00cc96",
          "size": [
           2.843916349809886
          ],
          "sizemode": "area",
          "sizeref": 0.04421822436741261,
          "symbol": "circle"
         },
         "mode": "markers",
         "name": "Response to insulin",
         "orientation": "v",
         "showlegend": true,
         "type": "scatter",
         "x": [
          0.003608610545201596
         ],
         "xaxis": "x",
         "y": [
          2.843916349809886
         ],
         "yaxis": "y"
        },
        {
         "hovertemplate": "go_term=Cellular response to insulin stimulus<br>fdr_bh=%{x}<br>odds=%{marker.size}<extra></extra>",
         "legendgroup": "Cellular response to insulin stimulus",
         "marker": {
          "color": "#ab63fa",
          "size": [
           3.976295904124753
          ],
          "sizemode": "area",
          "sizeref": 0.04421822436741261,
          "symbol": "circle"
         },
         "mode": "markers",
         "name": "Cellular response to insulin stimulus",
         "orientation": "v",
         "showlegend": true,
         "type": "scatter",
         "x": [
          0.00036639104817015453
         ],
         "xaxis": "x",
         "y": [
          3.976295904124753
         ],
         "yaxis": "y"
        },
        {
         "hovertemplate": "go_term=Regulation of dendrite development<br>fdr_bh=%{x}<br>odds=%{marker.size}<extra></extra>",
         "legendgroup": "Regulation of dendrite development",
         "marker": {
          "color": "#FFA15A",
          "size": [
           4.336541235085879
          ],
          "sizemode": "area",
          "sizeref": 0.04421822436741261,
          "symbol": "circle"
         },
         "mode": "markers",
         "name": "Regulation of dendrite development",
         "orientation": "v",
         "showlegend": true,
         "type": "scatter",
         "x": [
          0.0001944844332297886
         ],
         "xaxis": "x",
         "y": [
          4.336541235085879
         ],
         "yaxis": "y"
        }
       ],
       "layout": {
        "legend": {
         "itemsizing": "constant",
         "title": {
          "text": "go_term"
         },
         "tracegroupgap": 0
        },
        "margin": {
         "t": 60
        },
        "template": {
         "data": {
          "bar": [
           {
            "error_x": {
             "color": "#2a3f5f"
            },
            "error_y": {
             "color": "#2a3f5f"
            },
            "marker": {
             "line": {
              "color": "#E5ECF6",
              "width": 0.5
             },
             "pattern": {
              "fillmode": "overlay",
              "size": 10,
              "solidity": 0.2
             }
            },
            "type": "bar"
           }
          ],
          "barpolar": [
           {
            "marker": {
             "line": {
              "color": "#E5ECF6",
              "width": 0.5
             },
             "pattern": {
              "fillmode": "overlay",
              "size": 10,
              "solidity": 0.2
             }
            },
            "type": "barpolar"
           }
          ],
          "carpet": [
           {
            "aaxis": {
             "endlinecolor": "#2a3f5f",
             "gridcolor": "white",
             "linecolor": "white",
             "minorgridcolor": "white",
             "startlinecolor": "#2a3f5f"
            },
            "baxis": {
             "endlinecolor": "#2a3f5f",
             "gridcolor": "white",
             "linecolor": "white",
             "minorgridcolor": "white",
             "startlinecolor": "#2a3f5f"
            },
            "type": "carpet"
           }
          ],
          "choropleth": [
           {
            "colorbar": {
             "outlinewidth": 0,
             "ticks": ""
            },
            "type": "choropleth"
           }
          ],
          "contour": [
           {
            "colorbar": {
             "outlinewidth": 0,
             "ticks": ""
            },
            "colorscale": [
             [
              0,
              "#0d0887"
             ],
             [
              0.1111111111111111,
              "#46039f"
             ],
             [
              0.2222222222222222,
              "#7201a8"
             ],
             [
              0.3333333333333333,
              "#9c179e"
             ],
             [
              0.4444444444444444,
              "#bd3786"
             ],
             [
              0.5555555555555556,
              "#d8576b"
             ],
             [
              0.6666666666666666,
              "#ed7953"
             ],
             [
              0.7777777777777778,
              "#fb9f3a"
             ],
             [
              0.8888888888888888,
              "#fdca26"
             ],
             [
              1,
              "#f0f921"
             ]
            ],
            "type": "contour"
           }
          ],
          "contourcarpet": [
           {
            "colorbar": {
             "outlinewidth": 0,
             "ticks": ""
            },
            "type": "contourcarpet"
           }
          ],
          "heatmap": [
           {
            "colorbar": {
             "outlinewidth": 0,
             "ticks": ""
            },
            "colorscale": [
             [
              0,
              "#0d0887"
             ],
             [
              0.1111111111111111,
              "#46039f"
             ],
             [
              0.2222222222222222,
              "#7201a8"
             ],
             [
              0.3333333333333333,
              "#9c179e"
             ],
             [
              0.4444444444444444,
              "#bd3786"
             ],
             [
              0.5555555555555556,
              "#d8576b"
             ],
             [
              0.6666666666666666,
              "#ed7953"
             ],
             [
              0.7777777777777778,
              "#fb9f3a"
             ],
             [
              0.8888888888888888,
              "#fdca26"
             ],
             [
              1,
              "#f0f921"
             ]
            ],
            "type": "heatmap"
           }
          ],
          "heatmapgl": [
           {
            "colorbar": {
             "outlinewidth": 0,
             "ticks": ""
            },
            "colorscale": [
             [
              0,
              "#0d0887"
             ],
             [
              0.1111111111111111,
              "#46039f"
             ],
             [
              0.2222222222222222,
              "#7201a8"
             ],
             [
              0.3333333333333333,
              "#9c179e"
             ],
             [
              0.4444444444444444,
              "#bd3786"
             ],
             [
              0.5555555555555556,
              "#d8576b"
             ],
             [
              0.6666666666666666,
              "#ed7953"
             ],
             [
              0.7777777777777778,
              "#fb9f3a"
             ],
             [
              0.8888888888888888,
              "#fdca26"
             ],
             [
              1,
              "#f0f921"
             ]
            ],
            "type": "heatmapgl"
           }
          ],
          "histogram": [
           {
            "marker": {
             "pattern": {
              "fillmode": "overlay",
              "size": 10,
              "solidity": 0.2
             }
            },
            "type": "histogram"
           }
          ],
          "histogram2d": [
           {
            "colorbar": {
             "outlinewidth": 0,
             "ticks": ""
            },
            "colorscale": [
             [
              0,
              "#0d0887"
             ],
             [
              0.1111111111111111,
              "#46039f"
             ],
             [
              0.2222222222222222,
              "#7201a8"
             ],
             [
              0.3333333333333333,
              "#9c179e"
             ],
             [
              0.4444444444444444,
              "#bd3786"
             ],
             [
              0.5555555555555556,
              "#d8576b"
             ],
             [
              0.6666666666666666,
              "#ed7953"
             ],
             [
              0.7777777777777778,
              "#fb9f3a"
             ],
             [
              0.8888888888888888,
              "#fdca26"
             ],
             [
              1,
              "#f0f921"
             ]
            ],
            "type": "histogram2d"
           }
          ],
          "histogram2dcontour": [
           {
            "colorbar": {
             "outlinewidth": 0,
             "ticks": ""
            },
            "colorscale": [
             [
              0,
              "#0d0887"
             ],
             [
              0.1111111111111111,
              "#46039f"
             ],
             [
              0.2222222222222222,
              "#7201a8"
             ],
             [
              0.3333333333333333,
              "#9c179e"
             ],
             [
              0.4444444444444444,
              "#bd3786"
             ],
             [
              0.5555555555555556,
              "#d8576b"
             ],
             [
              0.6666666666666666,
              "#ed7953"
             ],
             [
              0.7777777777777778,
              "#fb9f3a"
             ],
             [
              0.8888888888888888,
              "#fdca26"
             ],
             [
              1,
              "#f0f921"
             ]
            ],
            "type": "histogram2dcontour"
           }
          ],
          "mesh3d": [
           {
            "colorbar": {
             "outlinewidth": 0,
             "ticks": ""
            },
            "type": "mesh3d"
           }
          ],
          "parcoords": [
           {
            "line": {
             "colorbar": {
              "outlinewidth": 0,
              "ticks": ""
             }
            },
            "type": "parcoords"
           }
          ],
          "pie": [
           {
            "automargin": true,
            "type": "pie"
           }
          ],
          "scatter": [
           {
            "fillpattern": {
             "fillmode": "overlay",
             "size": 10,
             "solidity": 0.2
            },
            "type": "scatter"
           }
          ],
          "scatter3d": [
           {
            "line": {
             "colorbar": {
              "outlinewidth": 0,
              "ticks": ""
             }
            },
            "marker": {
             "colorbar": {
              "outlinewidth": 0,
              "ticks": ""
             }
            },
            "type": "scatter3d"
           }
          ],
          "scattercarpet": [
           {
            "marker": {
             "colorbar": {
              "outlinewidth": 0,
              "ticks": ""
             }
            },
            "type": "scattercarpet"
           }
          ],
          "scattergeo": [
           {
            "marker": {
             "colorbar": {
              "outlinewidth": 0,
              "ticks": ""
             }
            },
            "type": "scattergeo"
           }
          ],
          "scattergl": [
           {
            "marker": {
             "colorbar": {
              "outlinewidth": 0,
              "ticks": ""
             }
            },
            "type": "scattergl"
           }
          ],
          "scattermapbox": [
           {
            "marker": {
             "colorbar": {
              "outlinewidth": 0,
              "ticks": ""
             }
            },
            "type": "scattermapbox"
           }
          ],
          "scatterpolar": [
           {
            "marker": {
             "colorbar": {
              "outlinewidth": 0,
              "ticks": ""
             }
            },
            "type": "scatterpolar"
           }
          ],
          "scatterpolargl": [
           {
            "marker": {
             "colorbar": {
              "outlinewidth": 0,
              "ticks": ""
             }
            },
            "type": "scatterpolargl"
           }
          ],
          "scatterternary": [
           {
            "marker": {
             "colorbar": {
              "outlinewidth": 0,
              "ticks": ""
             }
            },
            "type": "scatterternary"
           }
          ],
          "surface": [
           {
            "colorbar": {
             "outlinewidth": 0,
             "ticks": ""
            },
            "colorscale": [
             [
              0,
              "#0d0887"
             ],
             [
              0.1111111111111111,
              "#46039f"
             ],
             [
              0.2222222222222222,
              "#7201a8"
             ],
             [
              0.3333333333333333,
              "#9c179e"
             ],
             [
              0.4444444444444444,
              "#bd3786"
             ],
             [
              0.5555555555555556,
              "#d8576b"
             ],
             [
              0.6666666666666666,
              "#ed7953"
             ],
             [
              0.7777777777777778,
              "#fb9f3a"
             ],
             [
              0.8888888888888888,
              "#fdca26"
             ],
             [
              1,
              "#f0f921"
             ]
            ],
            "type": "surface"
           }
          ],
          "table": [
           {
            "cells": {
             "fill": {
              "color": "#EBF0F8"
             },
             "line": {
              "color": "white"
             }
            },
            "header": {
             "fill": {
              "color": "#C8D4E3"
             },
             "line": {
              "color": "white"
             }
            },
            "type": "table"
           }
          ]
         },
         "layout": {
          "annotationdefaults": {
           "arrowcolor": "#2a3f5f",
           "arrowhead": 0,
           "arrowwidth": 1
          },
          "autotypenumbers": "strict",
          "coloraxis": {
           "colorbar": {
            "outlinewidth": 0,
            "ticks": ""
           }
          },
          "colorscale": {
           "diverging": [
            [
             0,
             "#8e0152"
            ],
            [
             0.1,
             "#c51b7d"
            ],
            [
             0.2,
             "#de77ae"
            ],
            [
             0.3,
             "#f1b6da"
            ],
            [
             0.4,
             "#fde0ef"
            ],
            [
             0.5,
             "#f7f7f7"
            ],
            [
             0.6,
             "#e6f5d0"
            ],
            [
             0.7,
             "#b8e186"
            ],
            [
             0.8,
             "#7fbc41"
            ],
            [
             0.9,
             "#4d9221"
            ],
            [
             1,
             "#276419"
            ]
           ],
           "sequential": [
            [
             0,
             "#0d0887"
            ],
            [
             0.1111111111111111,
             "#46039f"
            ],
            [
             0.2222222222222222,
             "#7201a8"
            ],
            [
             0.3333333333333333,
             "#9c179e"
            ],
            [
             0.4444444444444444,
             "#bd3786"
            ],
            [
             0.5555555555555556,
             "#d8576b"
            ],
            [
             0.6666666666666666,
             "#ed7953"
            ],
            [
             0.7777777777777778,
             "#fb9f3a"
            ],
            [
             0.8888888888888888,
             "#fdca26"
            ],
            [
             1,
             "#f0f921"
            ]
           ],
           "sequentialminus": [
            [
             0,
             "#0d0887"
            ],
            [
             0.1111111111111111,
             "#46039f"
            ],
            [
             0.2222222222222222,
             "#7201a8"
            ],
            [
             0.3333333333333333,
             "#9c179e"
            ],
            [
             0.4444444444444444,
             "#bd3786"
            ],
            [
             0.5555555555555556,
             "#d8576b"
            ],
            [
             0.6666666666666666,
             "#ed7953"
            ],
            [
             0.7777777777777778,
             "#fb9f3a"
            ],
            [
             0.8888888888888888,
             "#fdca26"
            ],
            [
             1,
             "#f0f921"
            ]
           ]
          },
          "colorway": [
           "#636efa",
           "#EF553B",
           "#00cc96",
           "#ab63fa",
           "#FFA15A",
           "#19d3f3",
           "#FF6692",
           "#B6E880",
           "#FF97FF",
           "#FECB52"
          ],
          "font": {
           "color": "#2a3f5f"
          },
          "geo": {
           "bgcolor": "white",
           "lakecolor": "white",
           "landcolor": "#E5ECF6",
           "showlakes": true,
           "showland": true,
           "subunitcolor": "white"
          },
          "hoverlabel": {
           "align": "left"
          },
          "hovermode": "closest",
          "mapbox": {
           "style": "light"
          },
          "paper_bgcolor": "white",
          "plot_bgcolor": "#E5ECF6",
          "polar": {
           "angularaxis": {
            "gridcolor": "white",
            "linecolor": "white",
            "ticks": ""
           },
           "bgcolor": "#E5ECF6",
           "radialaxis": {
            "gridcolor": "white",
            "linecolor": "white",
            "ticks": ""
           }
          },
          "scene": {
           "xaxis": {
            "backgroundcolor": "#E5ECF6",
            "gridcolor": "white",
            "gridwidth": 2,
            "linecolor": "white",
            "showbackground": true,
            "ticks": "",
            "zerolinecolor": "white"
           },
           "yaxis": {
            "backgroundcolor": "#E5ECF6",
            "gridcolor": "white",
            "gridwidth": 2,
            "linecolor": "white",
            "showbackground": true,
            "ticks": "",
            "zerolinecolor": "white"
           },
           "zaxis": {
            "backgroundcolor": "#E5ECF6",
            "gridcolor": "white",
            "gridwidth": 2,
            "linecolor": "white",
            "showbackground": true,
            "ticks": "",
            "zerolinecolor": "white"
           }
          },
          "shapedefaults": {
           "line": {
            "color": "#2a3f5f"
           }
          },
          "ternary": {
           "aaxis": {
            "gridcolor": "white",
            "linecolor": "white",
            "ticks": ""
           },
           "baxis": {
            "gridcolor": "white",
            "linecolor": "white",
            "ticks": ""
           },
           "bgcolor": "#E5ECF6",
           "caxis": {
            "gridcolor": "white",
            "linecolor": "white",
            "ticks": ""
           }
          },
          "title": {
           "x": 0.05
          },
          "xaxis": {
           "automargin": true,
           "gridcolor": "white",
           "linecolor": "white",
           "ticks": "",
           "title": {
            "standoff": 15
           },
           "zerolinecolor": "white",
           "zerolinewidth": 2
          },
          "yaxis": {
           "automargin": true,
           "gridcolor": "white",
           "linecolor": "white",
           "ticks": "",
           "title": {
            "standoff": 15
           },
           "zerolinecolor": "white",
           "zerolinewidth": 2
          }
         }
        },
        "xaxis": {
         "anchor": "y",
         "domain": [
          0,
          1
         ],
         "title": {
          "text": "fdr_bh"
         }
        },
        "yaxis": {
         "anchor": "x",
         "domain": [
          0,
          1
         ],
         "title": {
          "text": "odds"
         }
        }
       }
      },
      "text/html": [
       "<div>                            <div id=\"4f2b9501-dfad-4fce-9d96-906048c9809a\" class=\"plotly-graph-div\" style=\"height:525px; width:100%;\"></div>            <script type=\"text/javascript\">                require([\"plotly\"], function(Plotly) {                    window.PLOTLYENV=window.PLOTLYENV || {};                                    if (document.getElementById(\"4f2b9501-dfad-4fce-9d96-906048c9809a\")) {                    Plotly.newPlot(                        \"4f2b9501-dfad-4fce-9d96-906048c9809a\",                        [{\"hovertemplate\":\"go_term=Eye development<br>fdr_bh=%{x}<br>odds=%{marker.size}<extra></extra>\",\"legendgroup\":\"Eye development\",\"marker\":{\"color\":\"#636efa\",\"size\":[2.4524544953116383],\"sizemode\":\"area\",\"sizeref\":0.04421822436741261,\"symbol\":\"circle\"},\"mode\":\"markers\",\"name\":\"Eye development\",\"orientation\":\"v\",\"showlegend\":true,\"x\":[0.004472499762014959],\"xaxis\":\"x\",\"y\":[2.4524544953116383],\"yaxis\":\"y\",\"type\":\"scatter\"},{\"hovertemplate\":\"go_term=Regulation of cellular component size<br>fdr_bh=%{x}<br>odds=%{marker.size}<extra></extra>\",\"legendgroup\":\"Regulation of cellular component size\",\"marker\":{\"color\":\"#EF553B\",\"size\":[3.0293148028442145],\"sizemode\":\"area\",\"sizeref\":0.04421822436741261,\"symbol\":\"circle\"},\"mode\":\"markers\",\"name\":\"Regulation of cellular component size\",\"orientation\":\"v\",\"showlegend\":true,\"x\":[0.00010866154030417282],\"xaxis\":\"x\",\"y\":[3.0293148028442145],\"yaxis\":\"y\",\"type\":\"scatter\"},{\"hovertemplate\":\"go_term=Sensory system development<br>fdr_bh=%{x}<br>odds=%{marker.size}<extra></extra>\",\"legendgroup\":\"Sensory system development\",\"marker\":{\"color\":\"#00cc96\",\"size\":[2.4101448960999523],\"sizemode\":\"area\",\"sizeref\":0.04421822436741261,\"symbol\":\"circle\"},\"mode\":\"markers\",\"name\":\"Sensory system development\",\"orientation\":\"v\",\"showlegend\":true,\"x\":[0.004710215749824784],\"xaxis\":\"x\",\"y\":[2.4101448960999523],\"yaxis\":\"y\",\"type\":\"scatter\"},{\"hovertemplate\":\"go_term=Sensory organ morphogenesis<br>fdr_bh=%{x}<br>odds=%{marker.size}<extra></extra>\",\"legendgroup\":\"Sensory organ morphogenesis\",\"marker\":{\"color\":\"#ab63fa\",\"size\":[2.4675152917837657],\"sizemode\":\"area\",\"sizeref\":0.04421822436741261,\"symbol\":\"circle\"},\"mode\":\"markers\",\"name\":\"Sensory organ morphogenesis\",\"orientation\":\"v\",\"showlegend\":true,\"x\":[0.009003694481536269],\"xaxis\":\"x\",\"y\":[2.4675152917837657],\"yaxis\":\"y\",\"type\":\"scatter\"},{\"hovertemplate\":\"go_term=Visual system development<br>fdr_bh=%{x}<br>odds=%{marker.size}<extra></extra>\",\"legendgroup\":\"Visual system development\",\"marker\":{\"color\":\"#FFA15A\",\"size\":[2.4524544953116383],\"sizemode\":\"area\",\"sizeref\":0.04421822436741261,\"symbol\":\"circle\"},\"mode\":\"markers\",\"name\":\"Visual system development\",\"orientation\":\"v\",\"showlegend\":true,\"x\":[0.004472499762014959],\"xaxis\":\"x\",\"y\":[2.4524544953116383],\"yaxis\":\"y\",\"type\":\"scatter\"},{\"hovertemplate\":\"go_term=Formation of primary germ layer<br>fdr_bh=%{x}<br>odds=%{marker.size}<extra></extra>\",\"legendgroup\":\"Formation of primary germ layer\",\"marker\":{\"color\":\"#19d3f3\",\"size\":[6.004490313235561],\"sizemode\":\"area\",\"sizeref\":0.04421822436741261,\"symbol\":\"circle\"},\"mode\":\"markers\",\"name\":\"Formation of primary germ layer\",\"orientation\":\"v\",\"showlegend\":true,\"x\":[1.762119288971509e-05],\"xaxis\":\"x\",\"y\":[6.004490313235561],\"yaxis\":\"y\",\"type\":\"scatter\"},{\"hovertemplate\":\"go_term=Cell-matrix adhesion<br>fdr_bh=%{x}<br>odds=%{marker.size}<extra></extra>\",\"legendgroup\":\"Cell-matrix adhesion\",\"marker\":{\"color\":\"#FF6692\",\"size\":[7.1763104152484685],\"sizemode\":\"area\",\"sizeref\":0.04421822436741261,\"symbol\":\"circle\"},\"mode\":\"markers\",\"name\":\"Cell-matrix adhesion\",\"orientation\":\"v\",\"showlegend\":true,\"x\":[3.1902862224911027e-07],\"xaxis\":\"x\",\"y\":[7.1763104152484685],\"yaxis\":\"y\",\"type\":\"scatter\"},{\"hovertemplate\":\"go_term=Integrin-mediated signaling pathway<br>fdr_bh=%{x}<br>odds=%{marker.size}<extra></extra>\",\"legendgroup\":\"Integrin-mediated signaling pathway\",\"marker\":{\"color\":\"#B6E880\",\"size\":[11.998409858874975],\"sizemode\":\"area\",\"sizeref\":0.04421822436741261,\"symbol\":\"circle\"},\"mode\":\"markers\",\"name\":\"Integrin-mediated signaling pathway\",\"orientation\":\"v\",\"showlegend\":true,\"x\":[2.9704432825076224e-10],\"xaxis\":\"x\",\"y\":[11.998409858874975],\"yaxis\":\"y\",\"type\":\"scatter\"},{\"hovertemplate\":\"go_term=Gastrulation<br>fdr_bh=%{x}<br>odds=%{marker.size}<extra></extra>\",\"legendgroup\":\"Gastrulation\",\"marker\":{\"color\":\"#FF97FF\",\"size\":[5.127197816616806],\"sizemode\":\"area\",\"sizeref\":0.04421822436741261,\"symbol\":\"circle\"},\"mode\":\"markers\",\"name\":\"Gastrulation\",\"orientation\":\"v\",\"showlegend\":true,\"x\":[1.4063159269744372e-05],\"xaxis\":\"x\",\"y\":[5.127197816616806],\"yaxis\":\"y\",\"type\":\"scatter\"},{\"hovertemplate\":\"go_term=Learning or memory<br>fdr_bh=%{x}<br>odds=%{marker.size}<extra></extra>\",\"legendgroup\":\"Learning or memory\",\"marker\":{\"color\":\"#FECB52\",\"size\":[5.203789816321786],\"sizemode\":\"area\",\"sizeref\":0.04421822436741261,\"symbol\":\"circle\"},\"mode\":\"markers\",\"name\":\"Learning or memory\",\"orientation\":\"v\",\"showlegend\":true,\"x\":[5.770773256857654e-08],\"xaxis\":\"x\",\"y\":[5.203789816321786],\"yaxis\":\"y\",\"type\":\"scatter\"},{\"hovertemplate\":\"go_term=Memory<br>fdr_bh=%{x}<br>odds=%{marker.size}<extra></extra>\",\"legendgroup\":\"Memory\",\"marker\":{\"color\":\"#636efa\",\"size\":[6.273560027758501],\"sizemode\":\"area\",\"sizeref\":0.04421822436741261,\"symbol\":\"circle\"},\"mode\":\"markers\",\"name\":\"Memory\",\"orientation\":\"v\",\"showlegend\":true,\"x\":[5.694727578502999e-06],\"xaxis\":\"x\",\"y\":[6.273560027758501],\"yaxis\":\"y\",\"type\":\"scatter\"},{\"hovertemplate\":\"go_term=Regulation of cell-substrate adhesion<br>fdr_bh=%{x}<br>odds=%{marker.size}<extra></extra>\",\"legendgroup\":\"Regulation of cell-substrate adhesion\",\"marker\":{\"color\":\"#EF553B\",\"size\":[4.737541528239203],\"sizemode\":\"area\",\"sizeref\":0.04421822436741261,\"symbol\":\"circle\"},\"mode\":\"markers\",\"name\":\"Regulation of cell-substrate adhesion\",\"orientation\":\"v\",\"showlegend\":true,\"x\":[4.225006957628486e-06],\"xaxis\":\"x\",\"y\":[4.737541528239203],\"yaxis\":\"y\",\"type\":\"scatter\"},{\"hovertemplate\":\"go_term=Positive regulation of cell-substrate adhesion<br>fdr_bh=%{x}<br>odds=%{marker.size}<extra></extra>\",\"legendgroup\":\"Positive regulation of cell-substrate adhesion\",\"marker\":{\"color\":\"#00cc96\",\"size\":[5.576432585214846],\"sizemode\":\"area\",\"sizeref\":0.04421822436741261,\"symbol\":\"circle\"},\"mode\":\"markers\",\"name\":\"Positive regulation of cell-substrate adhesion\",\"orientation\":\"v\",\"showlegend\":true,\"x\":[2.9679075153889288e-05],\"xaxis\":\"x\",\"y\":[5.576432585214846],\"yaxis\":\"y\",\"type\":\"scatter\"},{\"hovertemplate\":\"go_term=Positive regulation of neuron projection development<br>fdr_bh=%{x}<br>odds=%{marker.size}<extra></extra>\",\"legendgroup\":\"Positive regulation of neuron projection development\",\"marker\":{\"color\":\"#ab63fa\",\"size\":[4.629568770262468],\"sizemode\":\"area\",\"sizeref\":0.04421822436741261,\"symbol\":\"circle\"},\"mode\":\"markers\",\"name\":\"Positive regulation of neuron projection development\",\"orientation\":\"v\",\"showlegend\":true,\"x\":[2.782914783346206e-07],\"xaxis\":\"x\",\"y\":[4.629568770262468],\"yaxis\":\"y\",\"type\":\"scatter\"},{\"hovertemplate\":\"go_term=Regulation of wnt signaling pathway<br>fdr_bh=%{x}<br>odds=%{marker.size}<extra></extra>\",\"legendgroup\":\"Regulation of wnt signaling pathway\",\"marker\":{\"color\":\"#FFA15A\",\"size\":[2.2411192739844426],\"sizemode\":\"area\",\"sizeref\":0.04421822436741261,\"symbol\":\"circle\"},\"mode\":\"markers\",\"name\":\"Regulation of wnt signaling pathway\",\"orientation\":\"v\",\"showlegend\":true,\"x\":[0.009047240338884804],\"xaxis\":\"x\",\"y\":[2.2411192739844426],\"yaxis\":\"y\",\"type\":\"scatter\"},{\"hovertemplate\":\"go_term=Extracellular matrix organization<br>fdr_bh=%{x}<br>odds=%{marker.size}<extra></extra>\",\"legendgroup\":\"Extracellular matrix organization\",\"marker\":{\"color\":\"#19d3f3\",\"size\":[3.886260769815838],\"sizemode\":\"area\",\"sizeref\":0.04421822436741261,\"symbol\":\"circle\"},\"mode\":\"markers\",\"name\":\"Extracellular matrix organization\",\"orientation\":\"v\",\"showlegend\":true,\"x\":[2.517982035791671e-06],\"xaxis\":\"x\",\"y\":[3.886260769815838],\"yaxis\":\"y\",\"type\":\"scatter\"},{\"hovertemplate\":\"go_term=Respiratory tube development<br>fdr_bh=%{x}<br>odds=%{marker.size}<extra></extra>\",\"legendgroup\":\"Respiratory tube development\",\"marker\":{\"color\":\"#FF6692\",\"size\":[4.245122985581001],\"sizemode\":\"area\",\"sizeref\":0.04421822436741261,\"symbol\":\"circle\"},\"mode\":\"markers\",\"name\":\"Respiratory tube development\",\"orientation\":\"v\",\"showlegend\":true,\"x\":[0.0001242409317676742],\"xaxis\":\"x\",\"y\":[4.245122985581001],\"yaxis\":\"y\",\"type\":\"scatter\"},{\"hovertemplate\":\"go_term=Lung development<br>fdr_bh=%{x}<br>odds=%{marker.size}<extra></extra>\",\"legendgroup\":\"Lung development\",\"marker\":{\"color\":\"#B6E880\",\"size\":[3.9510247028720378],\"sizemode\":\"area\",\"sizeref\":0.04421822436741261,\"symbol\":\"circle\"},\"mode\":\"markers\",\"name\":\"Lung development\",\"orientation\":\"v\",\"showlegend\":true,\"x\":[0.0003834397228632255],\"xaxis\":\"x\",\"y\":[3.9510247028720378],\"yaxis\":\"y\",\"type\":\"scatter\"},{\"hovertemplate\":\"go_term=Positive regulation of cell projection organization<br>fdr_bh=%{x}<br>odds=%{marker.size}<extra></extra>\",\"legendgroup\":\"Positive regulation of cell projection organization\",\"marker\":{\"color\":\"#FF97FF\",\"size\":[3.867727520435967],\"sizemode\":\"area\",\"sizeref\":0.04421822436741261,\"symbol\":\"circle\"},\"mode\":\"markers\",\"name\":\"Positive regulation of cell projection organization\",\"orientation\":\"v\",\"showlegend\":true,\"x\":[6.4990581073249e-07],\"xaxis\":\"x\",\"y\":[3.867727520435967],\"yaxis\":\"y\",\"type\":\"scatter\"},{\"hovertemplate\":\"go_term=Cell-substrate adhesion<br>fdr_bh=%{x}<br>odds=%{marker.size}<extra></extra>\",\"legendgroup\":\"Cell-substrate adhesion\",\"marker\":{\"color\":\"#FECB52\",\"size\":[6.856730422230242],\"sizemode\":\"area\",\"sizeref\":0.04421822436741261,\"symbol\":\"circle\"},\"mode\":\"markers\",\"name\":\"Cell-substrate adhesion\",\"orientation\":\"v\",\"showlegend\":true,\"x\":[7.733543725791657e-09],\"xaxis\":\"x\",\"y\":[6.856730422230242],\"yaxis\":\"y\",\"type\":\"scatter\"},{\"hovertemplate\":\"go_term=Cell junction organization<br>fdr_bh=%{x}<br>odds=%{marker.size}<extra></extra>\",\"legendgroup\":\"Cell junction organization\",\"marker\":{\"color\":\"#636efa\",\"size\":[3.8977799808802183],\"sizemode\":\"area\",\"sizeref\":0.04421822436741261,\"symbol\":\"circle\"},\"mode\":\"markers\",\"name\":\"Cell junction organization\",\"orientation\":\"v\",\"showlegend\":true,\"x\":[3.4143994334585296e-08],\"xaxis\":\"x\",\"y\":[3.8977799808802183],\"yaxis\":\"y\",\"type\":\"scatter\"},{\"hovertemplate\":\"go_term=Extracellular structure organization<br>fdr_bh=%{x}<br>odds=%{marker.size}<extra></extra>\",\"legendgroup\":\"Extracellular structure organization\",\"marker\":{\"color\":\"#EF553B\",\"size\":[3.8737788052800357],\"sizemode\":\"area\",\"sizeref\":0.04421822436741261,\"symbol\":\"circle\"},\"mode\":\"markers\",\"name\":\"Extracellular structure organization\",\"orientation\":\"v\",\"showlegend\":true,\"x\":[2.608915013506255e-06],\"xaxis\":\"x\",\"y\":[3.8737788052800357],\"yaxis\":\"y\",\"type\":\"scatter\"},{\"hovertemplate\":\"go_term=Positive regulation of neuron differentiation<br>fdr_bh=%{x}<br>odds=%{marker.size}<extra></extra>\",\"legendgroup\":\"Positive regulation of neuron differentiation\",\"marker\":{\"color\":\"#00cc96\",\"size\":[3.451425589554559],\"sizemode\":\"area\",\"sizeref\":0.04421822436741261,\"symbol\":\"circle\"},\"mode\":\"markers\",\"name\":\"Positive regulation of neuron differentiation\",\"orientation\":\"v\",\"showlegend\":true,\"x\":[1.1004376262084742e-05],\"xaxis\":\"x\",\"y\":[3.451425589554559],\"yaxis\":\"y\",\"type\":\"scatter\"},{\"hovertemplate\":\"go_term=Positive regulation of cell adhesion<br>fdr_bh=%{x}<br>odds=%{marker.size}<extra></extra>\",\"legendgroup\":\"Positive regulation of cell adhesion\",\"marker\":{\"color\":\"#ab63fa\",\"size\":[3.2125242449431974],\"sizemode\":\"area\",\"sizeref\":0.04421822436741261,\"symbol\":\"circle\"},\"mode\":\"markers\",\"name\":\"Positive regulation of cell adhesion\",\"orientation\":\"v\",\"showlegend\":true,\"x\":[1.8046432770971887e-05],\"xaxis\":\"x\",\"y\":[3.2125242449431974],\"yaxis\":\"y\",\"type\":\"scatter\"},{\"hovertemplate\":\"go_term=Regulation of ras protein signal transduction<br>fdr_bh=%{x}<br>odds=%{marker.size}<extra></extra>\",\"legendgroup\":\"Regulation of ras protein signal transduction\",\"marker\":{\"color\":\"#FFA15A\",\"size\":[4.562016514558888],\"sizemode\":\"area\",\"sizeref\":0.04421822436741261,\"symbol\":\"circle\"},\"mode\":\"markers\",\"name\":\"Regulation of ras protein signal transduction\",\"orientation\":\"v\",\"showlegend\":true,\"x\":[2.012379226377634e-05],\"xaxis\":\"x\",\"y\":[4.562016514558888],\"yaxis\":\"y\",\"type\":\"scatter\"},{\"hovertemplate\":\"go_term=Positive regulation of neurogenesis<br>fdr_bh=%{x}<br>odds=%{marker.size}<extra></extra>\",\"legendgroup\":\"Positive regulation of neurogenesis\",\"marker\":{\"color\":\"#19d3f3\",\"size\":[3.553840779620938],\"sizemode\":\"area\",\"sizeref\":0.04421822436741261,\"symbol\":\"circle\"},\"mode\":\"markers\",\"name\":\"Positive regulation of neurogenesis\",\"orientation\":\"v\",\"showlegend\":true,\"x\":[6.064937846190706e-07],\"xaxis\":\"x\",\"y\":[3.553840779620938],\"yaxis\":\"y\",\"type\":\"scatter\"},{\"hovertemplate\":\"go_term=Synapse organization<br>fdr_bh=%{x}<br>odds=%{marker.size}<extra></extra>\",\"legendgroup\":\"Synapse organization\",\"marker\":{\"color\":\"#FF6692\",\"size\":[3.953419811320755],\"sizemode\":\"area\",\"sizeref\":0.04421822436741261,\"symbol\":\"circle\"},\"mode\":\"markers\",\"name\":\"Synapse organization\",\"orientation\":\"v\",\"showlegend\":true,\"x\":[9.291019898533115e-06],\"xaxis\":\"x\",\"y\":[3.953419811320755],\"yaxis\":\"y\",\"type\":\"scatter\"},{\"hovertemplate\":\"go_term=Cognition<br>fdr_bh=%{x}<br>odds=%{marker.size}<extra></extra>\",\"legendgroup\":\"Cognition\",\"marker\":{\"color\":\"#B6E880\",\"size\":[4.638520408163266],\"sizemode\":\"area\",\"sizeref\":0.04421822436741261,\"symbol\":\"circle\"},\"mode\":\"markers\",\"name\":\"Cognition\",\"orientation\":\"v\",\"showlegend\":true,\"x\":[1.4960362225690896e-07],\"xaxis\":\"x\",\"y\":[4.638520408163266],\"yaxis\":\"y\",\"type\":\"scatter\"},{\"hovertemplate\":\"go_term=Leukocyte migration<br>fdr_bh=%{x}<br>odds=%{marker.size}<extra></extra>\",\"legendgroup\":\"Leukocyte migration\",\"marker\":{\"color\":\"#FF97FF\",\"size\":[3.72950419224929],\"sizemode\":\"area\",\"sizeref\":0.04421822436741261,\"symbol\":\"circle\"},\"mode\":\"markers\",\"name\":\"Leukocyte migration\",\"orientation\":\"v\",\"showlegend\":true,\"x\":[1.079926734129234e-05],\"xaxis\":\"x\",\"y\":[3.72950419224929],\"yaxis\":\"y\",\"type\":\"scatter\"},{\"hovertemplate\":\"go_term=Regulation of small gtpase mediated signal transduction<br>fdr_bh=%{x}<br>odds=%{marker.size}<extra></extra>\",\"legendgroup\":\"Regulation of small gtpase mediated signal transduction\",\"marker\":{\"color\":\"#FECB52\",\"size\":[5.541694877782537],\"sizemode\":\"area\",\"sizeref\":0.04421822436741261,\"symbol\":\"circle\"},\"mode\":\"markers\",\"name\":\"Regulation of small gtpase mediated signal transduction\",\"orientation\":\"v\",\"showlegend\":true,\"x\":[4.673257949068992e-10],\"xaxis\":\"x\",\"y\":[5.541694877782537],\"yaxis\":\"y\",\"type\":\"scatter\"},{\"hovertemplate\":\"go_term=Respiratory system development<br>fdr_bh=%{x}<br>odds=%{marker.size}<extra></extra>\",\"legendgroup\":\"Respiratory system development\",\"marker\":{\"color\":\"#636efa\",\"size\":[3.371417474140398],\"sizemode\":\"area\",\"sizeref\":0.04421822436741261,\"symbol\":\"circle\"},\"mode\":\"markers\",\"name\":\"Respiratory system development\",\"orientation\":\"v\",\"showlegend\":true,\"x\":[0.0011482121864663665],\"xaxis\":\"x\",\"y\":[3.371417474140398],\"yaxis\":\"y\",\"type\":\"scatter\"},{\"hovertemplate\":\"go_term=Regulation of cellular response to growth factor stimulus<br>fdr_bh=%{x}<br>odds=%{marker.size}<extra></extra>\",\"legendgroup\":\"Regulation of cellular response to growth factor stimulus\",\"marker\":{\"color\":\"#EF553B\",\"size\":[2.7810639000100448],\"sizemode\":\"area\",\"sizeref\":0.04421822436741261,\"symbol\":\"circle\"},\"mode\":\"markers\",\"name\":\"Regulation of cellular response to growth factor stimulus\",\"orientation\":\"v\",\"showlegend\":true,\"x\":[0.002031324232287711],\"xaxis\":\"x\",\"y\":[2.7810639000100448],\"yaxis\":\"y\",\"type\":\"scatter\"},{\"hovertemplate\":\"go_term=Positive regulation of cellular protein localization<br>fdr_bh=%{x}<br>odds=%{marker.size}<extra></extra>\",\"legendgroup\":\"Positive regulation of cellular protein localization\",\"marker\":{\"color\":\"#00cc96\",\"size\":[4.047792658730159],\"sizemode\":\"area\",\"sizeref\":0.04421822436741261,\"symbol\":\"circle\"},\"mode\":\"markers\",\"name\":\"Positive regulation of cellular protein localization\",\"orientation\":\"v\",\"showlegend\":true,\"x\":[9.380629962299377e-07],\"xaxis\":\"x\",\"y\":[4.047792658730159],\"yaxis\":\"y\",\"type\":\"scatter\"},{\"hovertemplate\":\"go_term=Regulation of protein localization to membrane<br>fdr_bh=%{x}<br>odds=%{marker.size}<extra></extra>\",\"legendgroup\":\"Regulation of protein localization to membrane\",\"marker\":{\"color\":\"#ab63fa\",\"size\":[5.853515625],\"sizemode\":\"area\",\"sizeref\":0.04421822436741261,\"symbol\":\"circle\"},\"mode\":\"markers\",\"name\":\"Regulation of protein localization to membrane\",\"orientation\":\"v\",\"showlegend\":true,\"x\":[1.1343660676594111e-07],\"xaxis\":\"x\",\"y\":[5.853515625],\"yaxis\":\"y\",\"type\":\"scatter\"},{\"hovertemplate\":\"go_term=Positive regulation of protein localization to membrane<br>fdr_bh=%{x}<br>odds=%{marker.size}<extra></extra>\",\"legendgroup\":\"Positive regulation of protein localization to membrane\",\"marker\":{\"color\":\"#FFA15A\",\"size\":[7.050568561872909],\"sizemode\":\"area\",\"sizeref\":0.04421822436741261,\"symbol\":\"circle\"},\"mode\":\"markers\",\"name\":\"Positive regulation of protein localization to membrane\",\"orientation\":\"v\",\"showlegend\":true,\"x\":[3.6767792372547303e-07],\"xaxis\":\"x\",\"y\":[7.050568561872909],\"yaxis\":\"y\",\"type\":\"scatter\"},{\"hovertemplate\":\"go_term=Vesicle fusion<br>fdr_bh=%{x}<br>odds=%{marker.size}<extra></extra>\",\"legendgroup\":\"Vesicle fusion\",\"marker\":{\"color\":\"#19d3f3\",\"size\":[11.578544061302683],\"sizemode\":\"area\",\"sizeref\":0.04421822436741261,\"symbol\":\"circle\"},\"mode\":\"markers\",\"name\":\"Vesicle fusion\",\"orientation\":\"v\",\"showlegend\":true,\"x\":[1.1712758140933049e-08],\"xaxis\":\"x\",\"y\":[11.578544061302683],\"yaxis\":\"y\",\"type\":\"scatter\"},{\"hovertemplate\":\"go_term=Response to metal ion<br>fdr_bh=%{x}<br>odds=%{marker.size}<extra></extra>\",\"legendgroup\":\"Response to metal ion\",\"marker\":{\"color\":\"#FF6692\",\"size\":[3.17201938246563],\"sizemode\":\"area\",\"sizeref\":0.04421822436741261,\"symbol\":\"circle\"},\"mode\":\"markers\",\"name\":\"Response to metal ion\",\"orientation\":\"v\",\"showlegend\":true,\"x\":[6.35894487168867e-05],\"xaxis\":\"x\",\"y\":[3.17201938246563],\"yaxis\":\"y\",\"type\":\"scatter\"},{\"hovertemplate\":\"go_term=Vesicle organization<br>fdr_bh=%{x}<br>odds=%{marker.size}<extra></extra>\",\"legendgroup\":\"Vesicle organization\",\"marker\":{\"color\":\"#B6E880\",\"size\":[4.066327646544182],\"sizemode\":\"area\",\"sizeref\":0.04421822436741261,\"symbol\":\"circle\"},\"mode\":\"markers\",\"name\":\"Vesicle organization\",\"orientation\":\"v\",\"showlegend\":true,\"x\":[2.3691948065940726e-06],\"xaxis\":\"x\",\"y\":[4.066327646544182],\"yaxis\":\"y\",\"type\":\"scatter\"},{\"hovertemplate\":\"go_term=Regulation of exocytosis<br>fdr_bh=%{x}<br>odds=%{marker.size}<extra></extra>\",\"legendgroup\":\"Regulation of exocytosis\",\"marker\":{\"color\":\"#FF97FF\",\"size\":[6.886784520210615],\"sizemode\":\"area\",\"sizeref\":0.04421822436741261,\"symbol\":\"circle\"},\"mode\":\"markers\",\"name\":\"Regulation of exocytosis\",\"orientation\":\"v\",\"showlegend\":true,\"x\":[3.2468292007791317e-10],\"xaxis\":\"x\",\"y\":[6.886784520210615],\"yaxis\":\"y\",\"type\":\"scatter\"},{\"hovertemplate\":\"go_term=Organelle fusion<br>fdr_bh=%{x}<br>odds=%{marker.size}<extra></extra>\",\"legendgroup\":\"Organelle fusion\",\"marker\":{\"color\":\"#FECB52\",\"size\":[8.442808558267682],\"sizemode\":\"area\",\"sizeref\":0.04421822436741261,\"symbol\":\"circle\"},\"mode\":\"markers\",\"name\":\"Organelle fusion\",\"orientation\":\"v\",\"showlegend\":true,\"x\":[1.8484399085318392e-07],\"xaxis\":\"x\",\"y\":[8.442808558267682],\"yaxis\":\"y\",\"type\":\"scatter\"},{\"hovertemplate\":\"go_term=Response to calcium ion<br>fdr_bh=%{x}<br>odds=%{marker.size}<extra></extra>\",\"legendgroup\":\"Response to calcium ion\",\"marker\":{\"color\":\"#636efa\",\"size\":[5.467293117431552],\"sizemode\":\"area\",\"sizeref\":0.04421822436741261,\"symbol\":\"circle\"},\"mode\":\"markers\",\"name\":\"Response to calcium ion\",\"orientation\":\"v\",\"showlegend\":true,\"x\":[8.217105508034587e-06],\"xaxis\":\"x\",\"y\":[5.467293117431552],\"yaxis\":\"y\",\"type\":\"scatter\"},{\"hovertemplate\":\"go_term=Regulation of amine transport<br>fdr_bh=%{x}<br>odds=%{marker.size}<extra></extra>\",\"legendgroup\":\"Regulation of amine transport\",\"marker\":{\"color\":\"#EF553B\",\"size\":[8.75330949850227],\"sizemode\":\"area\",\"sizeref\":0.04421822436741261,\"symbol\":\"circle\"},\"mode\":\"markers\",\"name\":\"Regulation of amine transport\",\"orientation\":\"v\",\"showlegend\":true,\"x\":[3.6767792372547303e-07],\"xaxis\":\"x\",\"y\":[8.75330949850227],\"yaxis\":\"y\",\"type\":\"scatter\"},{\"hovertemplate\":\"go_term=Membrane fusion<br>fdr_bh=%{x}<br>odds=%{marker.size}<extra></extra>\",\"legendgroup\":\"Membrane fusion\",\"marker\":{\"color\":\"#00cc96\",\"size\":[6.0952558950876865],\"sizemode\":\"area\",\"sizeref\":0.04421822436741261,\"symbol\":\"circle\"},\"mode\":\"markers\",\"name\":\"Membrane fusion\",\"orientation\":\"v\",\"showlegend\":true,\"x\":[3.175931649413467e-06],\"xaxis\":\"x\",\"y\":[6.0952558950876865],\"yaxis\":\"y\",\"type\":\"scatter\"},{\"hovertemplate\":\"go_term=Cellular response to inorganic substance<br>fdr_bh=%{x}<br>odds=%{marker.size}<extra></extra>\",\"legendgroup\":\"Cellular response to inorganic substance\",\"marker\":{\"color\":\"#ab63fa\",\"size\":[5.490968801313629],\"sizemode\":\"area\",\"sizeref\":0.04421822436741261,\"symbol\":\"circle\"},\"mode\":\"markers\",\"name\":\"Cellular response to inorganic substance\",\"orientation\":\"v\",\"showlegend\":true,\"x\":[1.1765277443796866e-07],\"xaxis\":\"x\",\"y\":[5.490968801313629],\"yaxis\":\"y\",\"type\":\"scatter\"},{\"hovertemplate\":\"go_term=Cellular response to metal ion<br>fdr_bh=%{x}<br>odds=%{marker.size}<extra></extra>\",\"legendgroup\":\"Cellular response to metal ion\",\"marker\":{\"color\":\"#FFA15A\",\"size\":[5.252748215302413],\"sizemode\":\"area\",\"sizeref\":0.04421822436741261,\"symbol\":\"circle\"},\"mode\":\"markers\",\"name\":\"Cellular response to metal ion\",\"orientation\":\"v\",\"showlegend\":true,\"x\":[1.5026184412739937e-06],\"xaxis\":\"x\",\"y\":[5.252748215302413],\"yaxis\":\"y\",\"type\":\"scatter\"},{\"hovertemplate\":\"go_term=Organelle membrane fusion<br>fdr_bh=%{x}<br>odds=%{marker.size}<extra></extra>\",\"legendgroup\":\"Organelle membrane fusion\",\"marker\":{\"color\":\"#19d3f3\",\"size\":[10.448009791400596],\"sizemode\":\"area\",\"sizeref\":0.04421822436741261,\"symbol\":\"circle\"},\"mode\":\"markers\",\"name\":\"Organelle membrane fusion\",\"orientation\":\"v\",\"showlegend\":true,\"x\":[2.8202214262817372e-08],\"xaxis\":\"x\",\"y\":[10.448009791400596],\"yaxis\":\"y\",\"type\":\"scatter\"},{\"hovertemplate\":\"go_term=Regulation of regulated secretory pathway<br>fdr_bh=%{x}<br>odds=%{marker.size}<extra></extra>\",\"legendgroup\":\"Regulation of regulated secretory pathway\",\"marker\":{\"color\":\"#FF6692\",\"size\":[6.337393872277593],\"sizemode\":\"area\",\"sizeref\":0.04421822436741261,\"symbol\":\"circle\"},\"mode\":\"markers\",\"name\":\"Regulation of regulated secretory pathway\",\"orientation\":\"v\",\"showlegend\":true,\"x\":[2.044974289905549e-07],\"xaxis\":\"x\",\"y\":[6.337393872277593],\"yaxis\":\"y\",\"type\":\"scatter\"},{\"hovertemplate\":\"go_term=Regulation of peptide secretion<br>fdr_bh=%{x}<br>odds=%{marker.size}<extra></extra>\",\"legendgroup\":\"Regulation of peptide secretion\",\"marker\":{\"color\":\"#B6E880\",\"size\":[3.5961098398169336],\"sizemode\":\"area\",\"sizeref\":0.04421822436741261,\"symbol\":\"circle\"},\"mode\":\"markers\",\"name\":\"Regulation of peptide secretion\",\"orientation\":\"v\",\"showlegend\":true,\"x\":[6.725943450778252e-06],\"xaxis\":\"x\",\"y\":[3.5961098398169336],\"yaxis\":\"y\",\"type\":\"scatter\"},{\"hovertemplate\":\"go_term=Regulation of protein secretion<br>fdr_bh=%{x}<br>odds=%{marker.size}<extra></extra>\",\"legendgroup\":\"Regulation of protein secretion\",\"marker\":{\"color\":\"#FF97FF\",\"size\":[3.735251943347337],\"sizemode\":\"area\",\"sizeref\":0.04421822436741261,\"symbol\":\"circle\"},\"mode\":\"markers\",\"name\":\"Regulation of protein secretion\",\"orientation\":\"v\",\"showlegend\":true,\"x\":[6.725943450778252e-06],\"xaxis\":\"x\",\"y\":[3.735251943347337],\"yaxis\":\"y\",\"type\":\"scatter\"},{\"hovertemplate\":\"go_term=Negative regulation of transport<br>fdr_bh=%{x}<br>odds=%{marker.size}<extra></extra>\",\"legendgroup\":\"Negative regulation of transport\",\"marker\":{\"color\":\"#FECB52\",\"size\":[2.4386029411764705],\"sizemode\":\"area\",\"sizeref\":0.04421822436741261,\"symbol\":\"circle\"},\"mode\":\"markers\",\"name\":\"Negative regulation of transport\",\"orientation\":\"v\",\"showlegend\":true,\"x\":[0.0017872397284943618],\"xaxis\":\"x\",\"y\":[2.4386029411764705],\"yaxis\":\"y\",\"type\":\"scatter\"},{\"hovertemplate\":\"go_term=Regulation of leukocyte proliferation<br>fdr_bh=%{x}<br>odds=%{marker.size}<extra></extra>\",\"legendgroup\":\"Regulation of leukocyte proliferation\",\"marker\":{\"color\":\"#636efa\",\"size\":[3.043664122137405],\"sizemode\":\"area\",\"sizeref\":0.04421822436741261,\"symbol\":\"circle\"},\"mode\":\"markers\",\"name\":\"Regulation of leukocyte proliferation\",\"orientation\":\"v\",\"showlegend\":true,\"x\":[0.0015399476193149533],\"xaxis\":\"x\",\"y\":[3.043664122137405],\"yaxis\":\"y\",\"type\":\"scatter\"},{\"hovertemplate\":\"go_term=Cell junction assembly<br>fdr_bh=%{x}<br>odds=%{marker.size}<extra></extra>\",\"legendgroup\":\"Cell junction assembly\",\"marker\":{\"color\":\"#EF553B\",\"size\":[3.0176113360323886],\"sizemode\":\"area\",\"sizeref\":0.04421822436741261,\"symbol\":\"circle\"},\"mode\":\"markers\",\"name\":\"Cell junction assembly\",\"orientation\":\"v\",\"showlegend\":true,\"x\":[0.0007516271608733033],\"xaxis\":\"x\",\"y\":[3.0176113360323886],\"yaxis\":\"y\",\"type\":\"scatter\"},{\"hovertemplate\":\"go_term=Regulation of neurotransmitter levels<br>fdr_bh=%{x}<br>odds=%{marker.size}<extra></extra>\",\"legendgroup\":\"Regulation of neurotransmitter levels\",\"marker\":{\"color\":\"#00cc96\",\"size\":[6.243943191311613],\"sizemode\":\"area\",\"sizeref\":0.04421822436741261,\"symbol\":\"circle\"},\"mode\":\"markers\",\"name\":\"Regulation of neurotransmitter levels\",\"orientation\":\"v\",\"showlegend\":true,\"x\":[2.561453783491198e-09],\"xaxis\":\"x\",\"y\":[6.243943191311613],\"yaxis\":\"y\",\"type\":\"scatter\"},{\"hovertemplate\":\"go_term=Neutrophil activation involved in immune response<br>fdr_bh=%{x}<br>odds=%{marker.size}<extra></extra>\",\"legendgroup\":\"Neutrophil activation involved in immune response\",\"marker\":{\"color\":\"#ab63fa\",\"size\":[3.633616118769883],\"sizemode\":\"area\",\"sizeref\":0.04421822436741261,\"symbol\":\"circle\"},\"mode\":\"markers\",\"name\":\"Neutrophil activation involved in immune response\",\"orientation\":\"v\",\"showlegend\":true,\"x\":[2.8393787053698277e-07],\"xaxis\":\"x\",\"y\":[3.633616118769883],\"yaxis\":\"y\",\"type\":\"scatter\"},{\"hovertemplate\":\"go_term=Neutrophil mediated immunity<br>fdr_bh=%{x}<br>odds=%{marker.size}<extra></extra>\",\"legendgroup\":\"Neutrophil mediated immunity\",\"marker\":{\"color\":\"#FFA15A\",\"size\":[3.577444682369736],\"sizemode\":\"area\",\"sizeref\":0.04421822436741261,\"symbol\":\"circle\"},\"mode\":\"markers\",\"name\":\"Neutrophil mediated immunity\",\"orientation\":\"v\",\"showlegend\":true,\"x\":[3.6767792372547303e-07],\"xaxis\":\"x\",\"y\":[3.577444682369736],\"yaxis\":\"y\",\"type\":\"scatter\"},{\"hovertemplate\":\"go_term=Neurotransmitter transport<br>fdr_bh=%{x}<br>odds=%{marker.size}<extra></extra>\",\"legendgroup\":\"Neurotransmitter transport\",\"marker\":{\"color\":\"#19d3f3\",\"size\":[7.02780545522481],\"sizemode\":\"area\",\"sizeref\":0.04421822436741261,\"symbol\":\"circle\"},\"mode\":\"markers\",\"name\":\"Neurotransmitter transport\",\"orientation\":\"v\",\"showlegend\":true,\"x\":[1.6122129615339473e-07],\"xaxis\":\"x\",\"y\":[7.02780545522481],\"yaxis\":\"y\",\"type\":\"scatter\"},{\"hovertemplate\":\"go_term=Chemical synaptic transmission<br>fdr_bh=%{x}<br>odds=%{marker.size}<extra></extra>\",\"legendgroup\":\"Chemical synaptic transmission\",\"marker\":{\"color\":\"#FF6692\",\"size\":[4.306233062330623],\"sizemode\":\"area\",\"sizeref\":0.04421822436741261,\"symbol\":\"circle\"},\"mode\":\"markers\",\"name\":\"Chemical synaptic transmission\",\"orientation\":\"v\",\"showlegend\":true,\"x\":[1.819566698357154e-08],\"xaxis\":\"x\",\"y\":[4.306233062330623],\"yaxis\":\"y\",\"type\":\"scatter\"},{\"hovertemplate\":\"go_term=Neurotransmitter secretion<br>fdr_bh=%{x}<br>odds=%{marker.size}<extra></extra>\",\"legendgroup\":\"Neurotransmitter secretion\",\"marker\":{\"color\":\"#B6E880\",\"size\":[9.230332167832168],\"sizemode\":\"area\",\"sizeref\":0.04421822436741261,\"symbol\":\"circle\"},\"mode\":\"markers\",\"name\":\"Neurotransmitter secretion\",\"orientation\":\"v\",\"showlegend\":true,\"x\":[2.8202214262817372e-08],\"xaxis\":\"x\",\"y\":[9.230332167832168],\"yaxis\":\"y\",\"type\":\"scatter\"},{\"hovertemplate\":\"go_term=Membrane docking<br>fdr_bh=%{x}<br>odds=%{marker.size}<extra></extra>\",\"legendgroup\":\"Membrane docking\",\"marker\":{\"color\":\"#FF97FF\",\"size\":[5.709230988728777],\"sizemode\":\"area\",\"sizeref\":0.04421822436741261,\"symbol\":\"circle\"},\"mode\":\"markers\",\"name\":\"Membrane docking\",\"orientation\":\"v\",\"showlegend\":true,\"x\":[6.064937846190706e-07],\"xaxis\":\"x\",\"y\":[5.709230988728777],\"yaxis\":\"y\",\"type\":\"scatter\"},{\"hovertemplate\":\"go_term=Signal release<br>fdr_bh=%{x}<br>odds=%{marker.size}<extra></extra>\",\"legendgroup\":\"Signal release\",\"marker\":{\"color\":\"#FECB52\",\"size\":[5.135294873442118],\"sizemode\":\"area\",\"sizeref\":0.04421822436741261,\"symbol\":\"circle\"},\"mode\":\"markers\",\"name\":\"Signal release\",\"orientation\":\"v\",\"showlegend\":true,\"x\":[1.8128736175156308e-06],\"xaxis\":\"x\",\"y\":[5.135294873442118],\"yaxis\":\"y\",\"type\":\"scatter\"},{\"hovertemplate\":\"go_term=Cell projection assembly<br>fdr_bh=%{x}<br>odds=%{marker.size}<extra></extra>\",\"legendgroup\":\"Cell projection assembly\",\"marker\":{\"color\":\"#636efa\",\"size\":[2.250860434395809],\"sizemode\":\"area\",\"sizeref\":0.04421822436741261,\"symbol\":\"circle\"},\"mode\":\"markers\",\"name\":\"Cell projection assembly\",\"orientation\":\"v\",\"showlegend\":true,\"x\":[0.003972991808110663],\"xaxis\":\"x\",\"y\":[2.250860434395809],\"yaxis\":\"y\",\"type\":\"scatter\"},{\"hovertemplate\":\"go_term=Neutrophil activation<br>fdr_bh=%{x}<br>odds=%{marker.size}<extra></extra>\",\"legendgroup\":\"Neutrophil activation\",\"marker\":{\"color\":\"#EF553B\",\"size\":[3.71162567591139],\"sizemode\":\"area\",\"sizeref\":0.04421822436741261,\"symbol\":\"circle\"},\"mode\":\"markers\",\"name\":\"Neutrophil activation\",\"orientation\":\"v\",\"showlegend\":true,\"x\":[1.3624763375596233e-07],\"xaxis\":\"x\",\"y\":[3.71162567591139],\"yaxis\":\"y\",\"type\":\"scatter\"},{\"hovertemplate\":\"go_term=Neutrophil degranulation<br>fdr_bh=%{x}<br>odds=%{marker.size}<extra></extra>\",\"legendgroup\":\"Neutrophil degranulation\",\"marker\":{\"color\":\"#00cc96\",\"size\":[3.66648837541007],\"sizemode\":\"area\",\"sizeref\":0.04421822436741261,\"symbol\":\"circle\"},\"mode\":\"markers\",\"name\":\"Neutrophil degranulation\",\"orientation\":\"v\",\"showlegend\":true,\"x\":[2.4858464412591497e-07],\"xaxis\":\"x\",\"y\":[3.66648837541007],\"yaxis\":\"y\",\"type\":\"scatter\"},{\"hovertemplate\":\"go_term=Establishment of organelle localization<br>fdr_bh=%{x}<br>odds=%{marker.size}<extra></extra>\",\"legendgroup\":\"Establishment of organelle localization\",\"marker\":{\"color\":\"#ab63fa\",\"size\":[2.3167588437858706],\"sizemode\":\"area\",\"sizeref\":0.04421822436741261,\"symbol\":\"circle\"},\"mode\":\"markers\",\"name\":\"Establishment of organelle localization\",\"orientation\":\"v\",\"showlegend\":true,\"x\":[0.005671459575426965],\"xaxis\":\"x\",\"y\":[2.3167588437858706],\"yaxis\":\"y\",\"type\":\"scatter\"},{\"hovertemplate\":\"go_term=Anterograde trans-synaptic signaling<br>fdr_bh=%{x}<br>odds=%{marker.size}<extra></extra>\",\"legendgroup\":\"Anterograde trans-synaptic signaling\",\"marker\":{\"color\":\"#FFA15A\",\"size\":[4.306233062330623],\"sizemode\":\"area\",\"sizeref\":0.04421822436741261,\"symbol\":\"circle\"},\"mode\":\"markers\",\"name\":\"Anterograde trans-synaptic signaling\",\"orientation\":\"v\",\"showlegend\":true,\"x\":[1.819566698357154e-08],\"xaxis\":\"x\",\"y\":[4.306233062330623],\"yaxis\":\"y\",\"type\":\"scatter\"},{\"hovertemplate\":\"go_term=Vesicle-mediated transport in synapse<br>fdr_bh=%{x}<br>odds=%{marker.size}<extra></extra>\",\"legendgroup\":\"Vesicle-mediated transport in synapse\",\"marker\":{\"color\":\"#19d3f3\",\"size\":[7.582340104079234],\"sizemode\":\"area\",\"sizeref\":0.04421822436741261,\"symbol\":\"circle\"},\"mode\":\"markers\",\"name\":\"Vesicle-mediated transport in synapse\",\"orientation\":\"v\",\"showlegend\":true,\"x\":[7.624566488515086e-08],\"xaxis\":\"x\",\"y\":[7.582340104079234],\"yaxis\":\"y\",\"type\":\"scatter\"},{\"hovertemplate\":\"go_term=Synaptic vesicle cycle<br>fdr_bh=%{x}<br>odds=%{marker.size}<extra></extra>\",\"legendgroup\":\"Synaptic vesicle cycle\",\"marker\":{\"color\":\"#FF6692\",\"size\":[6.39058524173028],\"sizemode\":\"area\",\"sizeref\":0.04421822436741261,\"symbol\":\"circle\"},\"mode\":\"markers\",\"name\":\"Synaptic vesicle cycle\",\"orientation\":\"v\",\"showlegend\":true,\"x\":[4.827847891053122e-06],\"xaxis\":\"x\",\"y\":[6.39058524173028],\"yaxis\":\"y\",\"type\":\"scatter\"},{\"hovertemplate\":\"go_term=Synaptic signaling<br>fdr_bh=%{x}<br>odds=%{marker.size}<extra></extra>\",\"legendgroup\":\"Synaptic signaling\",\"marker\":{\"color\":\"#B6E880\",\"size\":[5.030745317326868],\"sizemode\":\"area\",\"sizeref\":0.04421822436741261,\"symbol\":\"circle\"},\"mode\":\"markers\",\"name\":\"Synaptic signaling\",\"orientation\":\"v\",\"showlegend\":true,\"x\":[1.7527690024357397e-11],\"xaxis\":\"x\",\"y\":[5.030745317326868],\"yaxis\":\"y\",\"type\":\"scatter\"},{\"hovertemplate\":\"go_term=Trans-synaptic signaling<br>fdr_bh=%{x}<br>odds=%{marker.size}<extra></extra>\",\"legendgroup\":\"Trans-synaptic signaling\",\"marker\":{\"color\":\"#FF97FF\",\"size\":[4.285654114225543],\"sizemode\":\"area\",\"sizeref\":0.04421822436741261,\"symbol\":\"circle\"},\"mode\":\"markers\",\"name\":\"Trans-synaptic signaling\",\"orientation\":\"v\",\"showlegend\":true,\"x\":[1.1712758140933049e-08],\"xaxis\":\"x\",\"y\":[4.285654114225543],\"yaxis\":\"y\",\"type\":\"scatter\"},{\"hovertemplate\":\"go_term=Signal release from synapse<br>fdr_bh=%{x}<br>odds=%{marker.size}<extra></extra>\",\"legendgroup\":\"Signal release from synapse\",\"marker\":{\"color\":\"#FECB52\",\"size\":[9.230332167832168],\"sizemode\":\"area\",\"sizeref\":0.04421822436741261,\"symbol\":\"circle\"},\"mode\":\"markers\",\"name\":\"Signal release from synapse\",\"orientation\":\"v\",\"showlegend\":true,\"x\":[2.8202214262817372e-08],\"xaxis\":\"x\",\"y\":[9.230332167832168],\"yaxis\":\"y\",\"type\":\"scatter\"},{\"hovertemplate\":\"go_term=Plasma membrane bounded cell projection assembly<br>fdr_bh=%{x}<br>odds=%{marker.size}<extra></extra>\",\"legendgroup\":\"Plasma membrane bounded cell projection assembly\",\"marker\":{\"color\":\"#636efa\",\"size\":[2.3455458695001496],\"sizemode\":\"area\",\"sizeref\":0.04421822436741261,\"symbol\":\"circle\"},\"mode\":\"markers\",\"name\":\"Plasma membrane bounded cell projection assembly\",\"orientation\":\"v\",\"showlegend\":true,\"x\":[0.003005039386441788],\"xaxis\":\"x\",\"y\":[2.3455458695001496],\"yaxis\":\"y\",\"type\":\"scatter\"},{\"hovertemplate\":\"go_term=Exocytic process<br>fdr_bh=%{x}<br>odds=%{marker.size}<extra></extra>\",\"legendgroup\":\"Exocytic process\",\"marker\":{\"color\":\"#EF553B\",\"size\":[11.73605899857679],\"sizemode\":\"area\",\"sizeref\":0.04421822436741261,\"symbol\":\"circle\"},\"mode\":\"markers\",\"name\":\"Exocytic process\",\"orientation\":\"v\",\"showlegend\":true,\"x\":[3.242530479317249e-08],\"xaxis\":\"x\",\"y\":[11.73605899857679],\"yaxis\":\"y\",\"type\":\"scatter\"},{\"hovertemplate\":\"go_term=Organelle localization by membrane tethering<br>fdr_bh=%{x}<br>odds=%{marker.size}<extra></extra>\",\"legendgroup\":\"Organelle localization by membrane tethering\",\"marker\":{\"color\":\"#00cc96\",\"size\":[5.6106613525968365],\"sizemode\":\"area\",\"sizeref\":0.04421822436741261,\"symbol\":\"circle\"},\"mode\":\"markers\",\"name\":\"Organelle localization by membrane tethering\",\"orientation\":\"v\",\"showlegend\":true,\"x\":[1.5499501333638892e-06],\"xaxis\":\"x\",\"y\":[5.6106613525968365],\"yaxis\":\"y\",\"type\":\"scatter\"},{\"hovertemplate\":\"go_term=Aging<br>fdr_bh=%{x}<br>odds=%{marker.size}<extra></extra>\",\"legendgroup\":\"Aging\",\"marker\":{\"color\":\"#ab63fa\",\"size\":[2.846141424817604],\"sizemode\":\"area\",\"sizeref\":0.04421822436741261,\"symbol\":\"circle\"},\"mode\":\"markers\",\"name\":\"Aging\",\"orientation\":\"v\",\"showlegend\":true,\"x\":[0.0017374251021446848],\"xaxis\":\"x\",\"y\":[2.846141424817604],\"yaxis\":\"y\",\"type\":\"scatter\"},{\"hovertemplate\":\"go_term=Negative regulation of cell migration<br>fdr_bh=%{x}<br>odds=%{marker.size}<extra></extra>\",\"legendgroup\":\"Negative regulation of cell migration\",\"marker\":{\"color\":\"#FFA15A\",\"size\":[2.98570527320008],\"sizemode\":\"area\",\"sizeref\":0.04421822436741261,\"symbol\":\"circle\"},\"mode\":\"markers\",\"name\":\"Negative regulation of cell migration\",\"orientation\":\"v\",\"showlegend\":true,\"x\":[0.001195637490835149],\"xaxis\":\"x\",\"y\":[2.98570527320008],\"yaxis\":\"y\",\"type\":\"scatter\"},{\"hovertemplate\":\"go_term=Negative regulation of locomotion<br>fdr_bh=%{x}<br>odds=%{marker.size}<extra></extra>\",\"legendgroup\":\"Negative regulation of locomotion\",\"marker\":{\"color\":\"#19d3f3\",\"size\":[2.920489496760683],\"sizemode\":\"area\",\"sizeref\":0.04421822436741261,\"symbol\":\"circle\"},\"mode\":\"markers\",\"name\":\"Negative regulation of locomotion\",\"orientation\":\"v\",\"showlegend\":true,\"x\":[0.0006814508259968972],\"xaxis\":\"x\",\"y\":[2.920489496760683],\"yaxis\":\"y\",\"type\":\"scatter\"},{\"hovertemplate\":\"go_term=Positive regulation of ion transport<br>fdr_bh=%{x}<br>odds=%{marker.size}<extra></extra>\",\"legendgroup\":\"Positive regulation of ion transport\",\"marker\":{\"color\":\"#FF6692\",\"size\":[2.960942378654556],\"sizemode\":\"area\",\"sizeref\":0.04421822436741261,\"symbol\":\"circle\"},\"mode\":\"markers\",\"name\":\"Positive regulation of ion transport\",\"orientation\":\"v\",\"showlegend\":true,\"x\":[0.0008814729250395618],\"xaxis\":\"x\",\"y\":[2.960942378654556],\"yaxis\":\"y\",\"type\":\"scatter\"},{\"hovertemplate\":\"go_term=Regulation of map kinase activity<br>fdr_bh=%{x}<br>odds=%{marker.size}<extra></extra>\",\"legendgroup\":\"Regulation of map kinase activity\",\"marker\":{\"color\":\"#B6E880\",\"size\":[5.376055098130599],\"sizemode\":\"area\",\"sizeref\":0.04421822436741261,\"symbol\":\"circle\"},\"mode\":\"markers\",\"name\":\"Regulation of map kinase activity\",\"orientation\":\"v\",\"showlegend\":true,\"x\":[4.350993456841241e-10],\"xaxis\":\"x\",\"y\":[5.376055098130599],\"yaxis\":\"y\",\"type\":\"scatter\"},{\"hovertemplate\":\"go_term=Positive regulation of map kinase activity<br>fdr_bh=%{x}<br>odds=%{marker.size}<extra></extra>\",\"legendgroup\":\"Positive regulation of map kinase activity\",\"marker\":{\"color\":\"#FF97FF\",\"size\":[5.94004979253112],\"sizemode\":\"area\",\"sizeref\":0.04421822436741261,\"symbol\":\"circle\"},\"mode\":\"markers\",\"name\":\"Positive regulation of map kinase activity\",\"orientation\":\"v\",\"showlegend\":true,\"x\":[1.2724644722770947e-09],\"xaxis\":\"x\",\"y\":[5.94004979253112],\"yaxis\":\"y\",\"type\":\"scatter\"},{\"hovertemplate\":\"go_term=Regulation of peptidyl-tyrosine phosphorylation<br>fdr_bh=%{x}<br>odds=%{marker.size}<extra></extra>\",\"legendgroup\":\"Regulation of peptidyl-tyrosine phosphorylation\",\"marker\":{\"color\":\"#FECB52\",\"size\":[3.82522903453136],\"sizemode\":\"area\",\"sizeref\":0.04421822436741261,\"symbol\":\"circle\"},\"mode\":\"markers\",\"name\":\"Regulation of peptidyl-tyrosine phosphorylation\",\"orientation\":\"v\",\"showlegend\":true,\"x\":[3.4159330441588415e-05],\"xaxis\":\"x\",\"y\":[3.82522903453136],\"yaxis\":\"y\",\"type\":\"scatter\"},{\"hovertemplate\":\"go_term=Positive regulation of secretion<br>fdr_bh=%{x}<br>odds=%{marker.size}<extra></extra>\",\"legendgroup\":\"Positive regulation of secretion\",\"marker\":{\"color\":\"#636efa\",\"size\":[3.445091930853338],\"sizemode\":\"area\",\"sizeref\":0.04421822436741261,\"symbol\":\"circle\"},\"mode\":\"markers\",\"name\":\"Positive regulation of secretion\",\"orientation\":\"v\",\"showlegend\":true,\"x\":[2.621461551279989e-05],\"xaxis\":\"x\",\"y\":[3.445091930853338],\"yaxis\":\"y\",\"type\":\"scatter\"},{\"hovertemplate\":\"go_term=Positive regulation of protein transport<br>fdr_bh=%{x}<br>odds=%{marker.size}<extra></extra>\",\"legendgroup\":\"Positive regulation of protein transport\",\"marker\":{\"color\":\"#EF553B\",\"size\":[3.3182594359064947],\"sizemode\":\"area\",\"sizeref\":0.04421822436741261,\"symbol\":\"circle\"},\"mode\":\"markers\",\"name\":\"Positive regulation of protein transport\",\"orientation\":\"v\",\"showlegend\":true,\"x\":[3.8754091847675206e-05],\"xaxis\":\"x\",\"y\":[3.3182594359064947],\"yaxis\":\"y\",\"type\":\"scatter\"},{\"hovertemplate\":\"go_term=Negative regulation of cellular component movement<br>fdr_bh=%{x}<br>odds=%{marker.size}<extra></extra>\",\"legendgroup\":\"Negative regulation of cellular component movement\",\"marker\":{\"color\":\"#00cc96\",\"size\":[2.697021497021497],\"sizemode\":\"area\",\"sizeref\":0.04421822436741261,\"symbol\":\"circle\"},\"mode\":\"markers\",\"name\":\"Negative regulation of cellular component movement\",\"orientation\":\"v\",\"showlegend\":true,\"x\":[0.0018697504788968337],\"xaxis\":\"x\",\"y\":[2.697021497021497],\"yaxis\":\"y\",\"type\":\"scatter\"},{\"hovertemplate\":\"go_term=Regulation of erk1 and erk2 cascade<br>fdr_bh=%{x}<br>odds=%{marker.size}<extra></extra>\",\"legendgroup\":\"Regulation of erk1 and erk2 cascade\",\"marker\":{\"color\":\"#ab63fa\",\"size\":[3.5820870180403253],\"sizemode\":\"area\",\"sizeref\":0.04421822436741261,\"symbol\":\"circle\"},\"mode\":\"markers\",\"name\":\"Regulation of erk1 and erk2 cascade\",\"orientation\":\"v\",\"showlegend\":true,\"x\":[4.0855425370257824e-05],\"xaxis\":\"x\",\"y\":[3.5820870180403253],\"yaxis\":\"y\",\"type\":\"scatter\"},{\"hovertemplate\":\"go_term=Positive regulation of erk1 and erk2 cascade<br>fdr_bh=%{x}<br>odds=%{marker.size}<extra></extra>\",\"legendgroup\":\"Positive regulation of erk1 and erk2 cascade\",\"marker\":{\"color\":\"#FFA15A\",\"size\":[3.8065329580107905],\"sizemode\":\"area\",\"sizeref\":0.04421822436741261,\"symbol\":\"circle\"},\"mode\":\"markers\",\"name\":\"Positive regulation of erk1 and erk2 cascade\",\"orientation\":\"v\",\"showlegend\":true,\"x\":[0.00017333219644251118],\"xaxis\":\"x\",\"y\":[3.8065329580107905],\"yaxis\":\"y\",\"type\":\"scatter\"},{\"hovertemplate\":\"go_term=Positive regulation of protein serine/threonine kinase activity<br>fdr_bh=%{x}<br>odds=%{marker.size}<extra></extra>\",\"legendgroup\":\"Positive regulation of protein serine/threonine kinase activity\",\"marker\":{\"color\":\"#19d3f3\",\"size\":[4.609148668979323],\"sizemode\":\"area\",\"sizeref\":0.04421822436741261,\"symbol\":\"circle\"},\"mode\":\"markers\",\"name\":\"Positive regulation of protein serine/threonine kinase activity\",\"orientation\":\"v\",\"showlegend\":true,\"x\":[2.8202214262817372e-08],\"xaxis\":\"x\",\"y\":[4.609148668979323],\"yaxis\":\"y\",\"type\":\"scatter\"},{\"hovertemplate\":\"go_term=Positive regulation of secretion by cell<br>fdr_bh=%{x}<br>odds=%{marker.size}<extra></extra>\",\"legendgroup\":\"Positive regulation of secretion by cell\",\"marker\":{\"color\":\"#FF6692\",\"size\":[3.5565210459183674],\"sizemode\":\"area\",\"sizeref\":0.04421822436741261,\"symbol\":\"circle\"},\"mode\":\"markers\",\"name\":\"Positive regulation of secretion by cell\",\"orientation\":\"v\",\"showlegend\":true,\"x\":[2.8647060825752924e-05],\"xaxis\":\"x\",\"y\":[3.5565210459183674],\"yaxis\":\"y\",\"type\":\"scatter\"},{\"hovertemplate\":\"go_term=Positive regulation of establishment of protein localization<br>fdr_bh=%{x}<br>odds=%{marker.size}<extra></extra>\",\"legendgroup\":\"Positive regulation of establishment of protein localization\",\"marker\":{\"color\":\"#B6E880\",\"size\":[3.162717006573403],\"sizemode\":\"area\",\"sizeref\":0.04421822436741261,\"symbol\":\"circle\"},\"mode\":\"markers\",\"name\":\"Positive regulation of establishment of protein localization\",\"orientation\":\"v\",\"showlegend\":true,\"x\":[6.553679381135351e-05],\"xaxis\":\"x\",\"y\":[3.162717006573403],\"yaxis\":\"y\",\"type\":\"scatter\"},{\"hovertemplate\":\"go_term=Negative regulation of cell motility<br>fdr_bh=%{x}<br>odds=%{marker.size}<extra></extra>\",\"legendgroup\":\"Negative regulation of cell motility\",\"marker\":{\"color\":\"#FF97FF\",\"size\":[3.0408799533799535],\"sizemode\":\"area\",\"sizeref\":0.04421822436741261,\"symbol\":\"circle\"},\"mode\":\"markers\",\"name\":\"Negative regulation of cell motility\",\"orientation\":\"v\",\"showlegend\":true,\"x\":[0.0007035967067082537],\"xaxis\":\"x\",\"y\":[3.0408799533799535],\"yaxis\":\"y\",\"type\":\"scatter\"},{\"hovertemplate\":\"go_term=Regulation of apoptotic signaling pathway<br>fdr_bh=%{x}<br>odds=%{marker.size}<extra></extra>\",\"legendgroup\":\"Regulation of apoptotic signaling pathway\",\"marker\":{\"color\":\"#FECB52\",\"size\":[2.9901018156792096],\"sizemode\":\"area\",\"sizeref\":0.04421822436741261,\"symbol\":\"circle\"},\"mode\":\"markers\",\"name\":\"Regulation of apoptotic signaling pathway\",\"orientation\":\"v\",\"showlegend\":true,\"x\":[8.599918789267021e-05],\"xaxis\":\"x\",\"y\":[2.9901018156792096],\"yaxis\":\"y\",\"type\":\"scatter\"},{\"hovertemplate\":\"go_term=Negative regulation of apoptotic signaling pathway<br>fdr_bh=%{x}<br>odds=%{marker.size}<extra></extra>\",\"legendgroup\":\"Negative regulation of apoptotic signaling pathway\",\"marker\":{\"color\":\"#636efa\",\"size\":[2.830858696213203],\"sizemode\":\"area\",\"sizeref\":0.04421822436741261,\"symbol\":\"circle\"},\"mode\":\"markers\",\"name\":\"Negative regulation of apoptotic signaling pathway\",\"orientation\":\"v\",\"showlegend\":true,\"x\":[0.0037136993434985165],\"xaxis\":\"x\",\"y\":[2.830858696213203],\"yaxis\":\"y\",\"type\":\"scatter\"},{\"hovertemplate\":\"go_term=MAPK cascade<br>fdr_bh=%{x}<br>odds=%{marker.size}<extra></extra>\",\"legendgroup\":\"MAPK cascade\",\"marker\":{\"color\":\"#EF553B\",\"size\":[3.9103987508180533],\"sizemode\":\"area\",\"sizeref\":0.04421822436741261,\"symbol\":\"circle\"},\"mode\":\"markers\",\"name\":\"MAPK cascade\",\"orientation\":\"v\",\"showlegend\":true,\"x\":[9.241868024269815e-07],\"xaxis\":\"x\",\"y\":[3.9103987508180533],\"yaxis\":\"y\",\"type\":\"scatter\"},{\"hovertemplate\":\"go_term=Response to reactive oxygen species<br>fdr_bh=%{x}<br>odds=%{marker.size}<extra></extra>\",\"legendgroup\":\"Response to reactive oxygen species\",\"marker\":{\"color\":\"#00cc96\",\"size\":[5.47675043532472],\"sizemode\":\"area\",\"sizeref\":0.04421822436741261,\"symbol\":\"circle\"},\"mode\":\"markers\",\"name\":\"Response to reactive oxygen species\",\"orientation\":\"v\",\"showlegend\":true,\"x\":[4.629155158002716e-07],\"xaxis\":\"x\",\"y\":[5.47675043532472],\"yaxis\":\"y\",\"type\":\"scatter\"},{\"hovertemplate\":\"go_term=Activation of immune response<br>fdr_bh=%{x}<br>odds=%{marker.size}<extra></extra>\",\"legendgroup\":\"Activation of immune response\",\"marker\":{\"color\":\"#ab63fa\",\"size\":[2.6601146168161054],\"sizemode\":\"area\",\"sizeref\":0.04421822436741261,\"symbol\":\"circle\"},\"mode\":\"markers\",\"name\":\"Activation of immune response\",\"orientation\":\"v\",\"showlegend\":true,\"x\":[0.0008149520167732835],\"xaxis\":\"x\",\"y\":[2.6601146168161054],\"yaxis\":\"y\",\"type\":\"scatter\"},{\"hovertemplate\":\"go_term=Immune response-activating cell surface receptor signaling pathway<br>fdr_bh=%{x}<br>odds=%{marker.size}<extra></extra>\",\"legendgroup\":\"Immune response-activating cell surface receptor signaling pathway\",\"marker\":{\"color\":\"#FFA15A\",\"size\":[3.12684272763106],\"sizemode\":\"area\",\"sizeref\":0.04421822436741261,\"symbol\":\"circle\"},\"mode\":\"markers\",\"name\":\"Immune response-activating cell surface receptor signaling pathway\",\"orientation\":\"v\",\"showlegend\":true,\"x\":[0.0002491905668539952],\"xaxis\":\"x\",\"y\":[3.12684272763106],\"yaxis\":\"y\",\"type\":\"scatter\"},{\"hovertemplate\":\"go_term=Immune response-activating signal transduction<br>fdr_bh=%{x}<br>odds=%{marker.size}<extra></extra>\",\"legendgroup\":\"Immune response-activating signal transduction\",\"marker\":{\"color\":\"#19d3f3\",\"size\":[3.12684272763106],\"sizemode\":\"area\",\"sizeref\":0.04421822436741261,\"symbol\":\"circle\"},\"mode\":\"markers\",\"name\":\"Immune response-activating signal transduction\",\"orientation\":\"v\",\"showlegend\":true,\"x\":[0.0002491905668539952],\"xaxis\":\"x\",\"y\":[3.12684272763106],\"yaxis\":\"y\",\"type\":\"scatter\"},{\"hovertemplate\":\"go_term=Immune response-regulating signaling pathway<br>fdr_bh=%{x}<br>odds=%{marker.size}<extra></extra>\",\"legendgroup\":\"Immune response-regulating signaling pathway\",\"marker\":{\"color\":\"#FF6692\",\"size\":[3.7531451846139015],\"sizemode\":\"area\",\"sizeref\":0.04421822436741261,\"symbol\":\"circle\"},\"mode\":\"markers\",\"name\":\"Immune response-regulating signaling pathway\",\"orientation\":\"v\",\"showlegend\":true,\"x\":[4.023600340964007e-06],\"xaxis\":\"x\",\"y\":[3.7531451846139015],\"yaxis\":\"y\",\"type\":\"scatter\"},{\"hovertemplate\":\"go_term=Immune response-regulating cell surface receptor signaling pathway<br>fdr_bh=%{x}<br>odds=%{marker.size}<extra></extra>\",\"legendgroup\":\"Immune response-regulating cell surface receptor signaling pathway\",\"marker\":{\"color\":\"#B6E880\",\"size\":[3.7885557920340527],\"sizemode\":\"area\",\"sizeref\":0.04421822436741261,\"symbol\":\"circle\"},\"mode\":\"markers\",\"name\":\"Immune response-regulating cell surface receptor signaling pathway\",\"orientation\":\"v\",\"showlegend\":true,\"x\":[3.5439912942116353e-06],\"xaxis\":\"x\",\"y\":[3.7885557920340527],\"yaxis\":\"y\",\"type\":\"scatter\"},{\"hovertemplate\":\"go_term=Endocytosis<br>fdr_bh=%{x}<br>odds=%{marker.size}<extra></extra>\",\"legendgroup\":\"Endocytosis\",\"marker\":{\"color\":\"#FF97FF\",\"size\":[5.807516089161659],\"sizemode\":\"area\",\"sizeref\":0.04421822436741261,\"symbol\":\"circle\"},\"mode\":\"markers\",\"name\":\"Endocytosis\",\"orientation\":\"v\",\"showlegend\":true,\"x\":[1.758524448635723e-13],\"xaxis\":\"x\",\"y\":[5.807516089161659],\"yaxis\":\"y\",\"type\":\"scatter\"},{\"hovertemplate\":\"go_term=Phagocytosis<br>fdr_bh=%{x}<br>odds=%{marker.size}<extra></extra>\",\"legendgroup\":\"Phagocytosis\",\"marker\":{\"color\":\"#FECB52\",\"size\":[6.951156703816278],\"sizemode\":\"area\",\"sizeref\":0.04421822436741261,\"symbol\":\"circle\"},\"mode\":\"markers\",\"name\":\"Phagocytosis\",\"orientation\":\"v\",\"showlegend\":true,\"x\":[5.157666499525177e-10],\"xaxis\":\"x\",\"y\":[6.951156703816278],\"yaxis\":\"y\",\"type\":\"scatter\"},{\"hovertemplate\":\"go_term=Response to oxidative stress<br>fdr_bh=%{x}<br>odds=%{marker.size}<extra></extra>\",\"legendgroup\":\"Response to oxidative stress\",\"marker\":{\"color\":\"#636efa\",\"size\":[2.9463248400964663],\"sizemode\":\"area\",\"sizeref\":0.04421822436741261,\"symbol\":\"circle\"},\"mode\":\"markers\",\"name\":\"Response to oxidative stress\",\"orientation\":\"v\",\"showlegend\":true,\"x\":[0.0001500572988832276],\"xaxis\":\"x\",\"y\":[2.9463248400964663],\"yaxis\":\"y\",\"type\":\"scatter\"},{\"hovertemplate\":\"go_term=Axonogenesis<br>fdr_bh=%{x}<br>odds=%{marker.size}<extra></extra>\",\"legendgroup\":\"Axonogenesis\",\"marker\":{\"color\":\"#EF553B\",\"size\":[4.331478644800865],\"sizemode\":\"area\",\"sizeref\":0.04421822436741261,\"symbol\":\"circle\"},\"mode\":\"markers\",\"name\":\"Axonogenesis\",\"orientation\":\"v\",\"showlegend\":true,\"x\":[4.286316142349211e-08],\"xaxis\":\"x\",\"y\":[4.331478644800865],\"yaxis\":\"y\",\"type\":\"scatter\"},{\"hovertemplate\":\"go_term=Axon guidance<br>fdr_bh=%{x}<br>odds=%{marker.size}<extra></extra>\",\"legendgroup\":\"Axon guidance\",\"marker\":{\"color\":\"#00cc96\",\"size\":[4.870763437179049],\"sizemode\":\"area\",\"sizeref\":0.04421822436741261,\"symbol\":\"circle\"},\"mode\":\"markers\",\"name\":\"Axon guidance\",\"orientation\":\"v\",\"showlegend\":true,\"x\":[1.459247949551346e-07],\"xaxis\":\"x\",\"y\":[4.870763437179049],\"yaxis\":\"y\",\"type\":\"scatter\"},{\"hovertemplate\":\"go_term=Blood coagulation<br>fdr_bh=%{x}<br>odds=%{marker.size}<extra></extra>\",\"legendgroup\":\"Blood coagulation\",\"marker\":{\"color\":\"#ab63fa\",\"size\":[2.9928812741312742],\"sizemode\":\"area\",\"sizeref\":0.04421822436741261,\"symbol\":\"circle\"},\"mode\":\"markers\",\"name\":\"Blood coagulation\",\"orientation\":\"v\",\"showlegend\":true,\"x\":[0.000556773980295519],\"xaxis\":\"x\",\"y\":[2.9928812741312742],\"yaxis\":\"y\",\"type\":\"scatter\"},{\"hovertemplate\":\"go_term=Hemostasis<br>fdr_bh=%{x}<br>odds=%{marker.size}<extra></extra>\",\"legendgroup\":\"Hemostasis\",\"marker\":{\"color\":\"#FFA15A\",\"size\":[2.9408199032772413],\"sizemode\":\"area\",\"sizeref\":0.04421822436741261,\"symbol\":\"circle\"},\"mode\":\"markers\",\"name\":\"Hemostasis\",\"orientation\":\"v\",\"showlegend\":true,\"x\":[0.0006401814236577818],\"xaxis\":\"x\",\"y\":[2.9408199032772413],\"yaxis\":\"y\",\"type\":\"scatter\"},{\"hovertemplate\":\"go_term=Cell population proliferation<br>fdr_bh=%{x}<br>odds=%{marker.size}<extra></extra>\",\"legendgroup\":\"Cell population proliferation\",\"marker\":{\"color\":\"#19d3f3\",\"size\":[2.4451066238284698],\"sizemode\":\"area\",\"sizeref\":0.04421822436741261,\"symbol\":\"circle\"},\"mode\":\"markers\",\"name\":\"Cell population proliferation\",\"orientation\":\"v\",\"showlegend\":true,\"x\":[0.0009679392781821101],\"xaxis\":\"x\",\"y\":[2.4451066238284698],\"yaxis\":\"y\",\"type\":\"scatter\"},{\"hovertemplate\":\"go_term=Glial cell differentiation<br>fdr_bh=%{x}<br>odds=%{marker.size}<extra></extra>\",\"legendgroup\":\"Glial cell differentiation\",\"marker\":{\"color\":\"#FF6692\",\"size\":[4.531057703471497],\"sizemode\":\"area\",\"sizeref\":0.04421822436741261,\"symbol\":\"circle\"},\"mode\":\"markers\",\"name\":\"Glial cell differentiation\",\"orientation\":\"v\",\"showlegend\":true,\"x\":[3.8682452476394873e-05],\"xaxis\":\"x\",\"y\":[4.531057703471497],\"yaxis\":\"y\",\"type\":\"scatter\"},{\"hovertemplate\":\"go_term=Peptidyl-serine phosphorylation<br>fdr_bh=%{x}<br>odds=%{marker.size}<extra></extra>\",\"legendgroup\":\"Peptidyl-serine phosphorylation\",\"marker\":{\"color\":\"#B6E880\",\"size\":[4.958470976875885],\"sizemode\":\"area\",\"sizeref\":0.04421822436741261,\"symbol\":\"circle\"},\"mode\":\"markers\",\"name\":\"Peptidyl-serine phosphorylation\",\"orientation\":\"v\",\"showlegend\":true,\"x\":[9.556755178832264e-06],\"xaxis\":\"x\",\"y\":[4.958470976875885],\"yaxis\":\"y\",\"type\":\"scatter\"},{\"hovertemplate\":\"go_term=Peptidyl-serine modification<br>fdr_bh=%{x}<br>odds=%{marker.size}<extra></extra>\",\"legendgroup\":\"Peptidyl-serine modification\",\"marker\":{\"color\":\"#FF97FF\",\"size\":[4.338668320926385],\"sizemode\":\"area\",\"sizeref\":0.04421822436741261,\"symbol\":\"circle\"},\"mode\":\"markers\",\"name\":\"Peptidyl-serine modification\",\"orientation\":\"v\",\"showlegend\":true,\"x\":[3.1052433417765396e-05],\"xaxis\":\"x\",\"y\":[4.338668320926385],\"yaxis\":\"y\",\"type\":\"scatter\"},{\"hovertemplate\":\"go_term=Signal transduction by protein phosphorylation<br>fdr_bh=%{x}<br>odds=%{marker.size}<extra></extra>\",\"legendgroup\":\"Signal transduction by protein phosphorylation\",\"marker\":{\"color\":\"#FECB52\",\"size\":[4.38999515930294],\"sizemode\":\"area\",\"sizeref\":0.04421822436741261,\"symbol\":\"circle\"},\"mode\":\"markers\",\"name\":\"Signal transduction by protein phosphorylation\",\"orientation\":\"v\",\"showlegend\":true,\"x\":[2.2468247996269842e-08],\"xaxis\":\"x\",\"y\":[4.38999515930294],\"yaxis\":\"y\",\"type\":\"scatter\"},{\"hovertemplate\":\"go_term=Platelet activation<br>fdr_bh=%{x}<br>odds=%{marker.size}<extra></extra>\",\"legendgroup\":\"Platelet activation\",\"marker\":{\"color\":\"#636efa\",\"size\":[5.60566002606591],\"sizemode\":\"area\",\"sizeref\":0.04421822436741261,\"symbol\":\"circle\"},\"mode\":\"markers\",\"name\":\"Platelet activation\",\"orientation\":\"v\",\"showlegend\":true,\"x\":[1.3864056645588422e-05],\"xaxis\":\"x\",\"y\":[5.60566002606591],\"yaxis\":\"y\",\"type\":\"scatter\"},{\"hovertemplate\":\"go_term=Stress-activated protein kinase signaling cascade<br>fdr_bh=%{x}<br>odds=%{marker.size}<extra></extra>\",\"legendgroup\":\"Stress-activated protein kinase signaling cascade\",\"marker\":{\"color\":\"#EF553B\",\"size\":[6.230828402366864],\"sizemode\":\"area\",\"sizeref\":0.04421822436741261,\"symbol\":\"circle\"},\"mode\":\"markers\",\"name\":\"Stress-activated protein kinase signaling cascade\",\"orientation\":\"v\",\"showlegend\":true,\"x\":[1.2161055549514155e-06],\"xaxis\":\"x\",\"y\":[6.230828402366864],\"yaxis\":\"y\",\"type\":\"scatter\"},{\"hovertemplate\":\"go_term=Activation of protein kinase activity<br>fdr_bh=%{x}<br>odds=%{marker.size}<extra></extra>\",\"legendgroup\":\"Activation of protein kinase activity\",\"marker\":{\"color\":\"#00cc96\",\"size\":[4.634943099428094],\"sizemode\":\"area\",\"sizeref\":0.04421822436741261,\"symbol\":\"circle\"},\"mode\":\"markers\",\"name\":\"Activation of protein kinase activity\",\"orientation\":\"v\",\"showlegend\":true,\"x\":[9.309701272279443e-09],\"xaxis\":\"x\",\"y\":[4.634943099428094],\"yaxis\":\"y\",\"type\":\"scatter\"},{\"hovertemplate\":\"go_term=Regulation of intracellular transport<br>fdr_bh=%{x}<br>odds=%{marker.size}<extra></extra>\",\"legendgroup\":\"Regulation of intracellular transport\",\"marker\":{\"color\":\"#ab63fa\",\"size\":[2.858821794420937],\"sizemode\":\"area\",\"sizeref\":0.04421822436741261,\"symbol\":\"circle\"},\"mode\":\"markers\",\"name\":\"Regulation of intracellular transport\",\"orientation\":\"v\",\"showlegend\":true,\"x\":[0.00040932612184111056],\"xaxis\":\"x\",\"y\":[2.858821794420937],\"yaxis\":\"y\",\"type\":\"scatter\"},{\"hovertemplate\":\"go_term=Positive regulation of intracellular transport<br>fdr_bh=%{x}<br>odds=%{marker.size}<extra></extra>\",\"legendgroup\":\"Positive regulation of intracellular transport\",\"marker\":{\"color\":\"#FFA15A\",\"size\":[4.166264478764479],\"sizemode\":\"area\",\"sizeref\":0.04421822436741261,\"symbol\":\"circle\"},\"mode\":\"markers\",\"name\":\"Positive regulation of intracellular transport\",\"orientation\":\"v\",\"showlegend\":true,\"x\":[2.6189032904151652e-05],\"xaxis\":\"x\",\"y\":[4.166264478764479],\"yaxis\":\"y\",\"type\":\"scatter\"},{\"hovertemplate\":\"go_term=Regulation of stress-activated mapk cascade<br>fdr_bh=%{x}<br>odds=%{marker.size}<extra></extra>\",\"legendgroup\":\"Regulation of stress-activated mapk cascade\",\"marker\":{\"color\":\"#19d3f3\",\"size\":[4.375310808834284],\"sizemode\":\"area\",\"sizeref\":0.04421822436741261,\"symbol\":\"circle\"},\"mode\":\"markers\",\"name\":\"Regulation of stress-activated mapk cascade\",\"orientation\":\"v\",\"showlegend\":true,\"x\":[9.291019898533115e-06],\"xaxis\":\"x\",\"y\":[4.375310808834284],\"yaxis\":\"y\",\"type\":\"scatter\"},{\"hovertemplate\":\"go_term=Regulation of intracellular protein transport<br>fdr_bh=%{x}<br>odds=%{marker.size}<extra></extra>\",\"legendgroup\":\"Regulation of intracellular protein transport\",\"marker\":{\"color\":\"#FF6692\",\"size\":[2.914281421380813],\"sizemode\":\"area\",\"sizeref\":0.04421822436741261,\"symbol\":\"circle\"},\"mode\":\"markers\",\"name\":\"Regulation of intracellular protein transport\",\"orientation\":\"v\",\"showlegend\":true,\"x\":[0.001449533573025162],\"xaxis\":\"x\",\"y\":[2.914281421380813],\"yaxis\":\"y\",\"type\":\"scatter\"},{\"hovertemplate\":\"go_term=Cellular response to oxidative stress<br>fdr_bh=%{x}<br>odds=%{marker.size}<extra></extra>\",\"legendgroup\":\"Cellular response to oxidative stress\",\"marker\":{\"color\":\"#B6E880\",\"size\":[3.77889430291177],\"sizemode\":\"area\",\"sizeref\":0.04421822436741261,\"symbol\":\"circle\"},\"mode\":\"markers\",\"name\":\"Cellular response to oxidative stress\",\"orientation\":\"v\",\"showlegend\":true,\"x\":[6.337365335804306e-05],\"xaxis\":\"x\",\"y\":[3.77889430291177],\"yaxis\":\"y\",\"type\":\"scatter\"},{\"hovertemplate\":\"go_term=Cellular response to reactive oxygen species<br>fdr_bh=%{x}<br>odds=%{marker.size}<extra></extra>\",\"legendgroup\":\"Cellular response to reactive oxygen species\",\"marker\":{\"color\":\"#FF97FF\",\"size\":[6.811764705882353],\"sizemode\":\"area\",\"sizeref\":0.04421822436741261,\"symbol\":\"circle\"},\"mode\":\"markers\",\"name\":\"Cellular response to reactive oxygen species\",\"orientation\":\"v\",\"showlegend\":true,\"x\":[5.129621510574802e-07],\"xaxis\":\"x\",\"y\":[6.811764705882353],\"yaxis\":\"y\",\"type\":\"scatter\"},{\"hovertemplate\":\"go_term=Fc receptor signaling pathway<br>fdr_bh=%{x}<br>odds=%{marker.size}<extra></extra>\",\"legendgroup\":\"Fc receptor signaling pathway\",\"marker\":{\"color\":\"#FECB52\",\"size\":[5.365722865722866],\"sizemode\":\"area\",\"sizeref\":0.04421822436741261,\"symbol\":\"circle\"},\"mode\":\"markers\",\"name\":\"Fc receptor signaling pathway\",\"orientation\":\"v\",\"showlegend\":true,\"x\":[2.303115755792033e-06],\"xaxis\":\"x\",\"y\":[5.365722865722866],\"yaxis\":\"y\",\"type\":\"scatter\"},{\"hovertemplate\":\"go_term=Fc-epsilon receptor signaling pathway<br>fdr_bh=%{x}<br>odds=%{marker.size}<extra></extra>\",\"legendgroup\":\"Fc-epsilon receptor signaling pathway\",\"marker\":{\"color\":\"#636efa\",\"size\":[6.06262796139222],\"sizemode\":\"area\",\"sizeref\":0.04421822436741261,\"symbol\":\"circle\"},\"mode\":\"markers\",\"name\":\"Fc-epsilon receptor signaling pathway\",\"orientation\":\"v\",\"showlegend\":true,\"x\":[1.650145052107106e-05],\"xaxis\":\"x\",\"y\":[6.06262796139222],\"yaxis\":\"y\",\"type\":\"scatter\"},{\"hovertemplate\":\"go_term=ERBB signaling pathway<br>fdr_bh=%{x}<br>odds=%{marker.size}<extra></extra>\",\"legendgroup\":\"ERBB signaling pathway\",\"marker\":{\"color\":\"#EF553B\",\"size\":[11.939194524874967],\"sizemode\":\"area\",\"sizeref\":0.04421822436741261,\"symbol\":\"circle\"},\"mode\":\"markers\",\"name\":\"ERBB signaling pathway\",\"orientation\":\"v\",\"showlegend\":true,\"x\":[2.8202214262817372e-08],\"xaxis\":\"x\",\"y\":[11.939194524874967],\"yaxis\":\"y\",\"type\":\"scatter\"},{\"hovertemplate\":\"go_term=Wound healing<br>fdr_bh=%{x}<br>odds=%{marker.size}<extra></extra>\",\"legendgroup\":\"Wound healing\",\"marker\":{\"color\":\"#00cc96\",\"size\":[4.4286344142049785],\"sizemode\":\"area\",\"sizeref\":0.04421822436741261,\"symbol\":\"circle\"},\"mode\":\"markers\",\"name\":\"Wound healing\",\"orientation\":\"v\",\"showlegend\":true,\"x\":[4.274973139171954e-09],\"xaxis\":\"x\",\"y\":[4.4286344142049785],\"yaxis\":\"y\",\"type\":\"scatter\"},{\"hovertemplate\":\"go_term=Gliogenesis<br>fdr_bh=%{x}<br>odds=%{marker.size}<extra></extra>\",\"legendgroup\":\"Gliogenesis\",\"marker\":{\"color\":\"#ab63fa\",\"size\":[4.375310808834284],\"sizemode\":\"area\",\"sizeref\":0.04421822436741261,\"symbol\":\"circle\"},\"mode\":\"markers\",\"name\":\"Gliogenesis\",\"orientation\":\"v\",\"showlegend\":true,\"x\":[9.291019898533115e-06],\"xaxis\":\"x\",\"y\":[4.375310808834284],\"yaxis\":\"y\",\"type\":\"scatter\"},{\"hovertemplate\":\"go_term=Positive regulation of growth<br>fdr_bh=%{x}<br>odds=%{marker.size}<extra></extra>\",\"legendgroup\":\"Positive regulation of growth\",\"marker\":{\"color\":\"#FFA15A\",\"size\":[3.4287093215664646],\"sizemode\":\"area\",\"sizeref\":0.04421822436741261,\"symbol\":\"circle\"},\"mode\":\"markers\",\"name\":\"Positive regulation of growth\",\"orientation\":\"v\",\"showlegend\":true,\"x\":[0.00016419698873831399],\"xaxis\":\"x\",\"y\":[3.4287093215664646],\"yaxis\":\"y\",\"type\":\"scatter\"},{\"hovertemplate\":\"go_term=Regulation of synaptic plasticity<br>fdr_bh=%{x}<br>odds=%{marker.size}<extra></extra>\",\"legendgroup\":\"Regulation of synaptic plasticity\",\"marker\":{\"color\":\"#19d3f3\",\"size\":[4.562016514558888],\"sizemode\":\"area\",\"sizeref\":0.04421822436741261,\"symbol\":\"circle\"},\"mode\":\"markers\",\"name\":\"Regulation of synaptic plasticity\",\"orientation\":\"v\",\"showlegend\":true,\"x\":[2.012379226377634e-05],\"xaxis\":\"x\",\"y\":[4.562016514558888],\"yaxis\":\"y\",\"type\":\"scatter\"},{\"hovertemplate\":\"go_term=Regulation of developmental growth<br>fdr_bh=%{x}<br>odds=%{marker.size}<extra></extra>\",\"legendgroup\":\"Regulation of developmental growth\",\"marker\":{\"color\":\"#FF6692\",\"size\":[2.5073064866168315],\"sizemode\":\"area\",\"sizeref\":0.04421822436741261,\"symbol\":\"circle\"},\"mode\":\"markers\",\"name\":\"Regulation of developmental growth\",\"orientation\":\"v\",\"showlegend\":true,\"x\":[0.0032833785485105833],\"xaxis\":\"x\",\"y\":[2.5073064866168315],\"yaxis\":\"y\",\"type\":\"scatter\"},{\"hovertemplate\":\"go_term=Cell morphogenesis involved in neuron differentiation<br>fdr_bh=%{x}<br>odds=%{marker.size}<extra></extra>\",\"legendgroup\":\"Cell morphogenesis involved in neuron differentiation\",\"marker\":{\"color\":\"#B6E880\",\"size\":[4.362828362630851],\"sizemode\":\"area\",\"sizeref\":0.04421822436741261,\"symbol\":\"circle\"},\"mode\":\"markers\",\"name\":\"Cell morphogenesis involved in neuron differentiation\",\"orientation\":\"v\",\"showlegend\":true,\"x\":[5.3344858122908155e-09],\"xaxis\":\"x\",\"y\":[4.362828362630851],\"yaxis\":\"y\",\"type\":\"scatter\"},{\"hovertemplate\":\"go_term=Gland development<br>fdr_bh=%{x}<br>odds=%{marker.size}<extra></extra>\",\"legendgroup\":\"Gland development\",\"marker\":{\"color\":\"#FF97FF\",\"size\":[2.166463027222521],\"sizemode\":\"area\",\"sizeref\":0.04421822436741261,\"symbol\":\"circle\"},\"mode\":\"markers\",\"name\":\"Gland development\",\"orientation\":\"v\",\"showlegend\":true,\"x\":[0.008561602292297622],\"xaxis\":\"x\",\"y\":[2.166463027222521],\"yaxis\":\"y\",\"type\":\"scatter\"},{\"hovertemplate\":\"go_term=Neuron projection morphogenesis<br>fdr_bh=%{x}<br>odds=%{marker.size}<extra></extra>\",\"legendgroup\":\"Neuron projection morphogenesis\",\"marker\":{\"color\":\"#FECB52\",\"size\":[5.000211891732538],\"sizemode\":\"area\",\"sizeref\":0.04421822436741261,\"symbol\":\"circle\"},\"mode\":\"markers\",\"name\":\"Neuron projection morphogenesis\",\"orientation\":\"v\",\"showlegend\":true,\"x\":[7.006137975965991e-12],\"xaxis\":\"x\",\"y\":[5.000211891732538],\"yaxis\":\"y\",\"type\":\"scatter\"},{\"hovertemplate\":\"go_term=Modulation of chemical synaptic transmission<br>fdr_bh=%{x}<br>odds=%{marker.size}<extra></extra>\",\"legendgroup\":\"Modulation of chemical synaptic transmission\",\"marker\":{\"color\":\"#636efa\",\"size\":[4.5261936635430615],\"sizemode\":\"area\",\"sizeref\":0.04421822436741261,\"symbol\":\"circle\"},\"mode\":\"markers\",\"name\":\"Modulation of chemical synaptic transmission\",\"orientation\":\"v\",\"showlegend\":true,\"x\":[1.6432789726588618e-09],\"xaxis\":\"x\",\"y\":[4.5261936635430615],\"yaxis\":\"y\",\"type\":\"scatter\"},{\"hovertemplate\":\"go_term=Positive regulation of synaptic transmission<br>fdr_bh=%{x}<br>odds=%{marker.size}<extra></extra>\",\"legendgroup\":\"Positive regulation of synaptic transmission\",\"marker\":{\"color\":\"#EF553B\",\"size\":[5.590810316234918],\"sizemode\":\"area\",\"sizeref\":0.04421822436741261,\"symbol\":\"circle\"},\"mode\":\"markers\",\"name\":\"Positive regulation of synaptic transmission\",\"orientation\":\"v\",\"showlegend\":true,\"x\":[6.725943450778252e-06],\"xaxis\":\"x\",\"y\":[5.590810316234918],\"yaxis\":\"y\",\"type\":\"scatter\"},{\"hovertemplate\":\"go_term=Coagulation<br>fdr_bh=%{x}<br>odds=%{marker.size}<extra></extra>\",\"legendgroup\":\"Coagulation\",\"marker\":{\"color\":\"#00cc96\",\"size\":[2.9718412994275063],\"sizemode\":\"area\",\"sizeref\":0.04421822436741261,\"symbol\":\"circle\"},\"mode\":\"markers\",\"name\":\"Coagulation\",\"orientation\":\"v\",\"showlegend\":true,\"x\":[0.0005870246567239358],\"xaxis\":\"x\",\"y\":[2.9718412994275063],\"yaxis\":\"y\",\"type\":\"scatter\"},{\"hovertemplate\":\"go_term=Regulation of dna-binding transcription factor activity<br>fdr_bh=%{x}<br>odds=%{marker.size}<extra></extra>\",\"legendgroup\":\"Regulation of dna-binding transcription factor activity\",\"marker\":{\"color\":\"#ab63fa\",\"size\":[2.172457603712092],\"sizemode\":\"area\",\"sizeref\":0.04421822436741261,\"symbol\":\"circle\"},\"mode\":\"markers\",\"name\":\"Regulation of dna-binding transcription factor activity\",\"orientation\":\"v\",\"showlegend\":true,\"x\":[0.009790811009214358],\"xaxis\":\"x\",\"y\":[2.172457603712092],\"yaxis\":\"y\",\"type\":\"scatter\"},{\"hovertemplate\":\"go_term=Mesenchyme development<br>fdr_bh=%{x}<br>odds=%{marker.size}<extra></extra>\",\"legendgroup\":\"Mesenchyme development\",\"marker\":{\"color\":\"#FFA15A\",\"size\":[3.429847328244275],\"sizemode\":\"area\",\"sizeref\":0.04421822436741261,\"symbol\":\"circle\"},\"mode\":\"markers\",\"name\":\"Mesenchyme development\",\"orientation\":\"v\",\"showlegend\":true,\"x\":[0.0006401814236577818],\"xaxis\":\"x\",\"y\":[3.429847328244275],\"yaxis\":\"y\",\"type\":\"scatter\"},{\"hovertemplate\":\"go_term=Axon development<br>fdr_bh=%{x}<br>odds=%{marker.size}<extra></extra>\",\"legendgroup\":\"Axon development\",\"marker\":{\"color\":\"#19d3f3\",\"size\":[4.45417534360683],\"sizemode\":\"area\",\"sizeref\":0.04421822436741261,\"symbol\":\"circle\"},\"mode\":\"markers\",\"name\":\"Axon development\",\"orientation\":\"v\",\"showlegend\":true,\"x\":[6.150494096492437e-09],\"xaxis\":\"x\",\"y\":[4.45417534360683],\"yaxis\":\"y\",\"type\":\"scatter\"},{\"hovertemplate\":\"go_term=Cellular response to chemical stress<br>fdr_bh=%{x}<br>odds=%{marker.size}<extra></extra>\",\"legendgroup\":\"Cellular response to chemical stress\",\"marker\":{\"color\":\"#FF6692\",\"size\":[4.048819235723487],\"sizemode\":\"area\",\"sizeref\":0.04421822436741261,\"symbol\":\"circle\"},\"mode\":\"markers\",\"name\":\"Cellular response to chemical stress\",\"orientation\":\"v\",\"showlegend\":true,\"x\":[4.250585958174895e-06],\"xaxis\":\"x\",\"y\":[4.048819235723487],\"yaxis\":\"y\",\"type\":\"scatter\"},{\"hovertemplate\":\"go_term=Regulation of stress-activated protein kinase signaling cascade<br>fdr_bh=%{x}<br>odds=%{marker.size}<extra></extra>\",\"legendgroup\":\"Regulation of stress-activated protein kinase signaling cascade\",\"marker\":{\"color\":\"#B6E880\",\"size\":[4.313394627726699],\"sizemode\":\"area\",\"sizeref\":0.04421822436741261,\"symbol\":\"circle\"},\"mode\":\"markers\",\"name\":\"Regulation of stress-activated protein kinase signaling cascade\",\"orientation\":\"v\",\"showlegend\":true,\"x\":[1.0781549323809692e-05],\"xaxis\":\"x\",\"y\":[4.313394627726699],\"yaxis\":\"y\",\"type\":\"scatter\"},{\"hovertemplate\":\"go_term=Cellular response to growth factor stimulus<br>fdr_bh=%{x}<br>odds=%{marker.size}<extra></extra>\",\"legendgroup\":\"Cellular response to growth factor stimulus\",\"marker\":{\"color\":\"#FF97FF\",\"size\":[2.7161521388216303],\"sizemode\":\"area\",\"sizeref\":0.04421822436741261,\"symbol\":\"circle\"},\"mode\":\"markers\",\"name\":\"Cellular response to growth factor stimulus\",\"orientation\":\"v\",\"showlegend\":true,\"x\":[0.00014127403933798788],\"xaxis\":\"x\",\"y\":[2.7161521388216303],\"yaxis\":\"y\",\"type\":\"scatter\"},{\"hovertemplate\":\"go_term=Positive regulation of intracellular protein transport<br>fdr_bh=%{x}<br>odds=%{marker.size}<extra></extra>\",\"legendgroup\":\"Positive regulation of intracellular protein transport\",\"marker\":{\"color\":\"#FECB52\",\"size\":[4.37032555846833],\"sizemode\":\"area\",\"sizeref\":0.04421822436741261,\"symbol\":\"circle\"},\"mode\":\"markers\",\"name\":\"Positive regulation of intracellular protein transport\",\"orientation\":\"v\",\"showlegend\":true,\"x\":[5.219303821842834e-05],\"xaxis\":\"x\",\"y\":[4.37032555846833],\"yaxis\":\"y\",\"type\":\"scatter\"},{\"hovertemplate\":\"go_term=Neuron projection guidance<br>fdr_bh=%{x}<br>odds=%{marker.size}<extra></extra>\",\"legendgroup\":\"Neuron projection guidance\",\"marker\":{\"color\":\"#636efa\",\"size\":[4.851336898395722],\"sizemode\":\"area\",\"sizeref\":0.04421822436741261,\"symbol\":\"circle\"},\"mode\":\"markers\",\"name\":\"Neuron projection guidance\",\"orientation\":\"v\",\"showlegend\":true,\"x\":[1.4960362225690896e-07],\"xaxis\":\"x\",\"y\":[4.851336898395722],\"yaxis\":\"y\",\"type\":\"scatter\"},{\"hovertemplate\":\"go_term=Regulation of trans-synaptic signaling<br>fdr_bh=%{x}<br>odds=%{marker.size}<extra></extra>\",\"legendgroup\":\"Regulation of trans-synaptic signaling\",\"marker\":{\"color\":\"#EF553B\",\"size\":[4.515006726812282],\"sizemode\":\"area\",\"sizeref\":0.04421822436741261,\"symbol\":\"circle\"},\"mode\":\"markers\",\"name\":\"Regulation of trans-synaptic signaling\",\"orientation\":\"v\",\"showlegend\":true,\"x\":[1.6432789726588618e-09],\"xaxis\":\"x\",\"y\":[4.515006726812282],\"yaxis\":\"y\",\"type\":\"scatter\"},{\"hovertemplate\":\"go_term=Plasma membrane bounded cell projection morphogenesis<br>fdr_bh=%{x}<br>odds=%{marker.size}<extra></extra>\",\"legendgroup\":\"Plasma membrane bounded cell projection morphogenesis\",\"marker\":{\"color\":\"#00cc96\",\"size\":[4.955568341644291],\"sizemode\":\"area\",\"sizeref\":0.04421822436741261,\"symbol\":\"circle\"},\"mode\":\"markers\",\"name\":\"Plasma membrane bounded cell projection morphogenesis\",\"orientation\":\"v\",\"showlegend\":true,\"x\":[7.47544054602793e-12],\"xaxis\":\"x\",\"y\":[4.955568341644291],\"yaxis\":\"y\",\"type\":\"scatter\"},{\"hovertemplate\":\"go_term=Small gtpase mediated signal transduction<br>fdr_bh=%{x}<br>odds=%{marker.size}<extra></extra>\",\"legendgroup\":\"Small gtpase mediated signal transduction\",\"marker\":{\"color\":\"#ab63fa\",\"size\":[7.460608747044917],\"sizemode\":\"area\",\"sizeref\":0.04421822436741261,\"symbol\":\"circle\"},\"mode\":\"markers\",\"name\":\"Small gtpase mediated signal transduction\",\"orientation\":\"v\",\"showlegend\":true,\"x\":[3.80671881485605e-15],\"xaxis\":\"x\",\"y\":[7.460608747044917],\"yaxis\":\"y\",\"type\":\"scatter\"},{\"hovertemplate\":\"go_term=Ras protein signal transduction<br>fdr_bh=%{x}<br>odds=%{marker.size}<extra></extra>\",\"legendgroup\":\"Ras protein signal transduction\",\"marker\":{\"color\":\"#FFA15A\",\"size\":[9.57751721570817],\"sizemode\":\"area\",\"sizeref\":0.04421822436741261,\"symbol\":\"circle\"},\"mode\":\"markers\",\"name\":\"Ras protein signal transduction\",\"orientation\":\"v\",\"showlegend\":true,\"x\":[3.0940746908987224e-16],\"xaxis\":\"x\",\"y\":[9.57751721570817],\"yaxis\":\"y\",\"type\":\"scatter\"},{\"hovertemplate\":\"go_term=Endomembrane system organization<br>fdr_bh=%{x}<br>odds=%{marker.size}<extra></extra>\",\"legendgroup\":\"Endomembrane system organization\",\"marker\":{\"color\":\"#19d3f3\",\"size\":[2.7151004599370614],\"sizemode\":\"area\",\"sizeref\":0.04421822436741261,\"symbol\":\"circle\"},\"mode\":\"markers\",\"name\":\"Endomembrane system organization\",\"orientation\":\"v\",\"showlegend\":true,\"x\":[0.0003629867381591509],\"xaxis\":\"x\",\"y\":[2.7151004599370614],\"yaxis\":\"y\",\"type\":\"scatter\"},{\"hovertemplate\":\"go_term=Rab protein signal transduction<br>fdr_bh=%{x}<br>odds=%{marker.size}<extra></extra>\",\"legendgroup\":\"Rab protein signal transduction\",\"marker\":{\"color\":\"#FF6692\",\"size\":[17.687289746965043],\"sizemode\":\"area\",\"sizeref\":0.04421822436741261,\"symbol\":\"circle\"},\"mode\":\"markers\",\"name\":\"Rab protein signal transduction\",\"orientation\":\"v\",\"showlegend\":true,\"x\":[3.6825608700117565e-12],\"xaxis\":\"x\",\"y\":[17.687289746965043],\"yaxis\":\"y\",\"type\":\"scatter\"},{\"hovertemplate\":\"go_term=Regulation of neurotransmitter transport<br>fdr_bh=%{x}<br>odds=%{marker.size}<extra></extra>\",\"legendgroup\":\"Regulation of neurotransmitter transport\",\"marker\":{\"color\":\"#B6E880\",\"size\":[6.39058524173028],\"sizemode\":\"area\",\"sizeref\":0.04421822436741261,\"symbol\":\"circle\"},\"mode\":\"markers\",\"name\":\"Regulation of neurotransmitter transport\",\"orientation\":\"v\",\"showlegend\":true,\"x\":[4.827847891053122e-06],\"xaxis\":\"x\",\"y\":[6.39058524173028],\"yaxis\":\"y\",\"type\":\"scatter\"},{\"hovertemplate\":\"go_term=Regulation of wound healing<br>fdr_bh=%{x}<br>odds=%{marker.size}<extra></extra>\",\"legendgroup\":\"Regulation of wound healing\",\"marker\":{\"color\":\"#FF97FF\",\"size\":[5.384899809160306],\"sizemode\":\"area\",\"sizeref\":0.04421822436741261,\"symbol\":\"circle\"},\"mode\":\"markers\",\"name\":\"Regulation of wound healing\",\"orientation\":\"v\",\"showlegend\":true,\"x\":[1.8938914098572186e-05],\"xaxis\":\"x\",\"y\":[5.384899809160306],\"yaxis\":\"y\",\"type\":\"scatter\"},{\"hovertemplate\":\"go_term=Protein localization to membrane<br>fdr_bh=%{x}<br>odds=%{marker.size}<extra></extra>\",\"legendgroup\":\"Protein localization to membrane\",\"marker\":{\"color\":\"#FECB52\",\"size\":[2.850538523870619],\"sizemode\":\"area\",\"sizeref\":0.04421822436741261,\"symbol\":\"circle\"},\"mode\":\"markers\",\"name\":\"Protein localization to membrane\",\"orientation\":\"v\",\"showlegend\":true,\"x\":[5.459296731670795e-05],\"xaxis\":\"x\",\"y\":[2.850538523870619],\"yaxis\":\"y\",\"type\":\"scatter\"},{\"hovertemplate\":\"go_term=Protein localization to plasma membrane<br>fdr_bh=%{x}<br>odds=%{marker.size}<extra></extra>\",\"legendgroup\":\"Protein localization to plasma membrane\",\"marker\":{\"color\":\"#636efa\",\"size\":[3.794694445615959],\"sizemode\":\"area\",\"sizeref\":0.04421822436741261,\"symbol\":\"circle\"},\"mode\":\"markers\",\"name\":\"Protein localization to plasma membrane\",\"orientation\":\"v\",\"showlegend\":true,\"x\":[0.00029897337217910797],\"xaxis\":\"x\",\"y\":[3.794694445615959],\"yaxis\":\"y\",\"type\":\"scatter\"},{\"hovertemplate\":\"go_term=Regulation of synaptic vesicle cycle<br>fdr_bh=%{x}<br>odds=%{marker.size}<extra></extra>\",\"legendgroup\":\"Regulation of synaptic vesicle cycle\",\"marker\":{\"color\":\"#EF553B\",\"size\":[6.121894495920854],\"sizemode\":\"area\",\"sizeref\":0.04421822436741261,\"symbol\":\"circle\"},\"mode\":\"markers\",\"name\":\"Regulation of synaptic vesicle cycle\",\"orientation\":\"v\",\"showlegend\":true,\"x\":[1.5299764288599135e-05],\"xaxis\":\"x\",\"y\":[6.121894495920854],\"yaxis\":\"y\",\"type\":\"scatter\"},{\"hovertemplate\":\"go_term=Regulation of response to wounding<br>fdr_bh=%{x}<br>odds=%{marker.size}<extra></extra>\",\"legendgroup\":\"Regulation of response to wounding\",\"marker\":{\"color\":\"#00cc96\",\"size\":[4.795338441890166],\"sizemode\":\"area\",\"sizeref\":0.04421822436741261,\"symbol\":\"circle\"},\"mode\":\"markers\",\"name\":\"Regulation of response to wounding\",\"orientation\":\"v\",\"showlegend\":true,\"x\":[2.4592668186396547e-05],\"xaxis\":\"x\",\"y\":[4.795338441890166],\"yaxis\":\"y\",\"type\":\"scatter\"},{\"hovertemplate\":\"go_term=Protein localization to cell periphery<br>fdr_bh=%{x}<br>odds=%{marker.size}<extra></extra>\",\"legendgroup\":\"Protein localization to cell periphery\",\"marker\":{\"color\":\"#ab63fa\",\"size\":[3.8998747782531566],\"sizemode\":\"area\",\"sizeref\":0.04421822436741261,\"symbol\":\"circle\"},\"mode\":\"markers\",\"name\":\"Protein localization to cell periphery\",\"orientation\":\"v\",\"showlegend\":true,\"x\":[4.7781082238412256e-05],\"xaxis\":\"x\",\"y\":[3.8998747782531566],\"yaxis\":\"y\",\"type\":\"scatter\"},{\"hovertemplate\":\"go_term=Protein folding<br>fdr_bh=%{x}<br>odds=%{marker.size}<extra></extra>\",\"legendgroup\":\"Protein folding\",\"marker\":{\"color\":\"#FFA15A\",\"size\":[4.051720139157325],\"sizemode\":\"area\",\"sizeref\":0.04421822436741261,\"symbol\":\"circle\"},\"mode\":\"markers\",\"name\":\"Protein folding\",\"orientation\":\"v\",\"showlegend\":true,\"x\":[5.660167714107379e-05],\"xaxis\":\"x\",\"y\":[4.051720139157325],\"yaxis\":\"y\",\"type\":\"scatter\"},{\"hovertemplate\":\"go_term=Antigen processing and presentation<br>fdr_bh=%{x}<br>odds=%{marker.size}<extra></extra>\",\"legendgroup\":\"Antigen processing and presentation\",\"marker\":{\"color\":\"#19d3f3\",\"size\":[4.900508533343607],\"sizemode\":\"area\",\"sizeref\":0.04421822436741261,\"symbol\":\"circle\"},\"mode\":\"markers\",\"name\":\"Antigen processing and presentation\",\"orientation\":\"v\",\"showlegend\":true,\"x\":[1.6016399923637336e-06],\"xaxis\":\"x\",\"y\":[4.900508533343607],\"yaxis\":\"y\",\"type\":\"scatter\"},{\"hovertemplate\":\"go_term=G protein-coupled receptor signaling pathway, coupled to cyclic nucleotide second messenger<br>fdr_bh=%{x}<br>odds=%{marker.size}<extra></extra>\",\"legendgroup\":\"G protein-coupled receptor signaling pathway, coupled to cyclic nucleotide second messenger\",\"marker\":{\"color\":\"#FF6692\",\"size\":[3.8905608755129957],\"sizemode\":\"area\",\"sizeref\":0.04421822436741261,\"symbol\":\"circle\"},\"mode\":\"markers\",\"name\":\"G protein-coupled receptor signaling pathway, coupled to cyclic nucleotide second messenger\",\"orientation\":\"v\",\"showlegend\":true,\"x\":[2.9498763217965923e-05],\"xaxis\":\"x\",\"y\":[3.8905608755129957],\"yaxis\":\"y\",\"type\":\"scatter\"},{\"hovertemplate\":\"go_term=Adenylate cyclase-modulating g protein-coupled receptor signaling pathway<br>fdr_bh=%{x}<br>odds=%{marker.size}<extra></extra>\",\"legendgroup\":\"Adenylate cyclase-modulating g protein-coupled receptor signaling pathway\",\"marker\":{\"color\":\"#B6E880\",\"size\":[4.146053093421514],\"sizemode\":\"area\",\"sizeref\":0.04421822436741261,\"symbol\":\"circle\"},\"mode\":\"markers\",\"name\":\"Adenylate cyclase-modulating g protein-coupled receptor signaling pathway\",\"orientation\":\"v\",\"showlegend\":true,\"x\":[2.7171773348538932e-05],\"xaxis\":\"x\",\"y\":[4.146053093421514],\"yaxis\":\"y\",\"type\":\"scatter\"},{\"hovertemplate\":\"go_term=Cellular response to abiotic stimulus<br>fdr_bh=%{x}<br>odds=%{marker.size}<extra></extra>\",\"legendgroup\":\"Cellular response to abiotic stimulus\",\"marker\":{\"color\":\"#FF97FF\",\"size\":[2.678621044507332],\"sizemode\":\"area\",\"sizeref\":0.04421822436741261,\"symbol\":\"circle\"},\"mode\":\"markers\",\"name\":\"Cellular response to abiotic stimulus\",\"orientation\":\"v\",\"showlegend\":true,\"x\":[0.0019487390874472622],\"xaxis\":\"x\",\"y\":[2.678621044507332],\"yaxis\":\"y\",\"type\":\"scatter\"},{\"hovertemplate\":\"go_term=Cellular response to environmental stimulus<br>fdr_bh=%{x}<br>odds=%{marker.size}<extra></extra>\",\"legendgroup\":\"Cellular response to environmental stimulus\",\"marker\":{\"color\":\"#FECB52\",\"size\":[2.678621044507332],\"sizemode\":\"area\",\"sizeref\":0.04421822436741261,\"symbol\":\"circle\"},\"mode\":\"markers\",\"name\":\"Cellular response to environmental stimulus\",\"orientation\":\"v\",\"showlegend\":true,\"x\":[0.0019487390874472622],\"xaxis\":\"x\",\"y\":[2.678621044507332],\"yaxis\":\"y\",\"type\":\"scatter\"},{\"hovertemplate\":\"go_term=Calcium ion transport<br>fdr_bh=%{x}<br>odds=%{marker.size}<extra></extra>\",\"legendgroup\":\"Calcium ion transport\",\"marker\":{\"color\":\"#636efa\",\"size\":[4.632957516339869],\"sizemode\":\"area\",\"sizeref\":0.04421822436741261,\"symbol\":\"circle\"},\"mode\":\"markers\",\"name\":\"Calcium ion transport\",\"orientation\":\"v\",\"showlegend\":true,\"x\":[9.004853660017082e-07],\"xaxis\":\"x\",\"y\":[4.632957516339869],\"yaxis\":\"y\",\"type\":\"scatter\"},{\"hovertemplate\":\"go_term=Cellular calcium ion homeostasis<br>fdr_bh=%{x}<br>odds=%{marker.size}<extra></extra>\",\"legendgroup\":\"Cellular calcium ion homeostasis\",\"marker\":{\"color\":\"#EF553B\",\"size\":[2.596393640198396],\"sizemode\":\"area\",\"sizeref\":0.04421822436741261,\"symbol\":\"circle\"},\"mode\":\"markers\",\"name\":\"Cellular calcium ion homeostasis\",\"orientation\":\"v\",\"showlegend\":true,\"x\":[0.0005674723991137687],\"xaxis\":\"x\",\"y\":[2.596393640198396],\"yaxis\":\"y\",\"type\":\"scatter\"},{\"hovertemplate\":\"go_term=Regulation of heart contraction<br>fdr_bh=%{x}<br>odds=%{marker.size}<extra></extra>\",\"legendgroup\":\"Regulation of heart contraction\",\"marker\":{\"color\":\"#00cc96\",\"size\":[2.9375880483569765],\"sizemode\":\"area\",\"sizeref\":0.04421822436741261,\"symbol\":\"circle\"},\"mode\":\"markers\",\"name\":\"Regulation of heart contraction\",\"orientation\":\"v\",\"showlegend\":true,\"x\":[0.001958369120257578],\"xaxis\":\"x\",\"y\":[2.9375880483569765],\"yaxis\":\"y\",\"type\":\"scatter\"},{\"hovertemplate\":\"go_term=Regulation of membrane potential<br>fdr_bh=%{x}<br>odds=%{marker.size}<extra></extra>\",\"legendgroup\":\"Regulation of membrane potential\",\"marker\":{\"color\":\"#ab63fa\",\"size\":[2.456438832938389],\"sizemode\":\"area\",\"sizeref\":0.04421822436741261,\"symbol\":\"circle\"},\"mode\":\"markers\",\"name\":\"Regulation of membrane potential\",\"orientation\":\"v\",\"showlegend\":true,\"x\":[0.0017287761860666907],\"xaxis\":\"x\",\"y\":[2.456438832938389],\"yaxis\":\"y\",\"type\":\"scatter\"},{\"hovertemplate\":\"go_term=Regulation of cytosolic calcium ion concentration<br>fdr_bh=%{x}<br>odds=%{marker.size}<extra></extra>\",\"legendgroup\":\"Regulation of cytosolic calcium ion concentration\",\"marker\":{\"color\":\"#FFA15A\",\"size\":[2.4523124115148653],\"sizemode\":\"area\",\"sizeref\":0.04421822436741261,\"symbol\":\"circle\"},\"mode\":\"markers\",\"name\":\"Regulation of cytosolic calcium ion concentration\",\"orientation\":\"v\",\"showlegend\":true,\"x\":[0.003908444217478195],\"xaxis\":\"x\",\"y\":[2.4523124115148653],\"yaxis\":\"y\",\"type\":\"scatter\"},{\"hovertemplate\":\"go_term=Calcium ion homeostasis<br>fdr_bh=%{x}<br>odds=%{marker.size}<extra></extra>\",\"legendgroup\":\"Calcium ion homeostasis\",\"marker\":{\"color\":\"#19d3f3\",\"size\":[2.516756610901241],\"sizemode\":\"area\",\"sizeref\":0.04421822436741261,\"symbol\":\"circle\"},\"mode\":\"markers\",\"name\":\"Calcium ion homeostasis\",\"orientation\":\"v\",\"showlegend\":true,\"x\":[0.0011166934798201003],\"xaxis\":\"x\",\"y\":[2.516756610901241],\"yaxis\":\"y\",\"type\":\"scatter\"},{\"hovertemplate\":\"go_term=Calcium ion transmembrane transport<br>fdr_bh=%{x}<br>odds=%{marker.size}<extra></extra>\",\"legendgroup\":\"Calcium ion transmembrane transport\",\"marker\":{\"color\":\"#FF6692\",\"size\":[4.51827944015444],\"sizemode\":\"area\",\"sizeref\":0.04421822436741261,\"symbol\":\"circle\"},\"mode\":\"markers\",\"name\":\"Calcium ion transmembrane transport\",\"orientation\":\"v\",\"showlegend\":true,\"x\":[1.2159835482577268e-05],\"xaxis\":\"x\",\"y\":[4.51827944015444],\"yaxis\":\"y\",\"type\":\"scatter\"},{\"hovertemplate\":\"go_term=Divalent metal ion transport<br>fdr_bh=%{x}<br>odds=%{marker.size}<extra></extra>\",\"legendgroup\":\"Divalent metal ion transport\",\"marker\":{\"color\":\"#B6E880\",\"size\":[3.9036315934824635],\"sizemode\":\"area\",\"sizeref\":0.04421822436741261,\"symbol\":\"circle\"},\"mode\":\"markers\",\"name\":\"Divalent metal ion transport\",\"orientation\":\"v\",\"showlegend\":true,\"x\":[6.685601759963514e-06],\"xaxis\":\"x\",\"y\":[3.9036315934824635],\"yaxis\":\"y\",\"type\":\"scatter\"},{\"hovertemplate\":\"go_term=Cellular divalent inorganic cation homeostasis<br>fdr_bh=%{x}<br>odds=%{marker.size}<extra></extra>\",\"legendgroup\":\"Cellular divalent inorganic cation homeostasis\",\"marker\":{\"color\":\"#FF97FF\",\"size\":[2.414019175952319],\"sizemode\":\"area\",\"sizeref\":0.04421822436741261,\"symbol\":\"circle\"},\"mode\":\"markers\",\"name\":\"Cellular divalent inorganic cation homeostasis\",\"orientation\":\"v\",\"showlegend\":true,\"x\":[0.0014249666208456023],\"xaxis\":\"x\",\"y\":[2.414019175952319],\"yaxis\":\"y\",\"type\":\"scatter\"},{\"hovertemplate\":\"go_term=Divalent inorganic cation homeostasis<br>fdr_bh=%{x}<br>odds=%{marker.size}<extra></extra>\",\"legendgroup\":\"Divalent inorganic cation homeostasis\",\"marker\":{\"color\":\"#FECB52\",\"size\":[2.439782052559886],\"sizemode\":\"area\",\"sizeref\":0.04421822436741261,\"symbol\":\"circle\"},\"mode\":\"markers\",\"name\":\"Divalent inorganic cation homeostasis\",\"orientation\":\"v\",\"showlegend\":true,\"x\":[0.0009795920847562366],\"xaxis\":\"x\",\"y\":[2.439782052559886],\"yaxis\":\"y\",\"type\":\"scatter\"},{\"hovertemplate\":\"go_term=Divalent inorganic cation transport<br>fdr_bh=%{x}<br>odds=%{marker.size}<extra></extra>\",\"legendgroup\":\"Divalent inorganic cation transport\",\"marker\":{\"color\":\"#636efa\",\"size\":[3.807937470520854],\"sizemode\":\"area\",\"sizeref\":0.04421822436741261,\"symbol\":\"circle\"},\"mode\":\"markers\",\"name\":\"Divalent inorganic cation transport\",\"orientation\":\"v\",\"showlegend\":true,\"x\":[8.673551803154935e-06],\"xaxis\":\"x\",\"y\":[3.807937470520854],\"yaxis\":\"y\",\"type\":\"scatter\"},{\"hovertemplate\":\"go_term=Regulation of blood circulation<br>fdr_bh=%{x}<br>odds=%{marker.size}<extra></extra>\",\"legendgroup\":\"Regulation of blood circulation\",\"marker\":{\"color\":\"#EF553B\",\"size\":[2.6593059503700958],\"sizemode\":\"area\",\"sizeref\":0.04421822436741261,\"symbol\":\"circle\"},\"mode\":\"markers\",\"name\":\"Regulation of blood circulation\",\"orientation\":\"v\",\"showlegend\":true,\"x\":[0.002874288730924773],\"xaxis\":\"x\",\"y\":[2.6593059503700958],\"yaxis\":\"y\",\"type\":\"scatter\"},{\"hovertemplate\":\"go_term=Establishment or maintenance of cell polarity<br>fdr_bh=%{x}<br>odds=%{marker.size}<extra></extra>\",\"legendgroup\":\"Establishment or maintenance of cell polarity\",\"marker\":{\"color\":\"#00cc96\",\"size\":[3.371417474140398],\"sizemode\":\"area\",\"sizeref\":0.04421822436741261,\"symbol\":\"circle\"},\"mode\":\"markers\",\"name\":\"Establishment or maintenance of cell polarity\",\"orientation\":\"v\",\"showlegend\":true,\"x\":[0.0011482121864663665],\"xaxis\":\"x\",\"y\":[3.371417474140398],\"yaxis\":\"y\",\"type\":\"scatter\"},{\"hovertemplate\":\"go_term=Regulation of cell growth<br>fdr_bh=%{x}<br>odds=%{marker.size}<extra></extra>\",\"legendgroup\":\"Regulation of cell growth\",\"marker\":{\"color\":\"#ab63fa\",\"size\":[3.046988378266769],\"sizemode\":\"area\",\"sizeref\":0.04421822436741261,\"symbol\":\"circle\"},\"mode\":\"markers\",\"name\":\"Regulation of cell growth\",\"orientation\":\"v\",\"showlegend\":true,\"x\":[4.7916863134461385e-05],\"xaxis\":\"x\",\"y\":[3.046988378266769],\"yaxis\":\"y\",\"type\":\"scatter\"},{\"hovertemplate\":\"go_term=Receptor-mediated endocytosis<br>fdr_bh=%{x}<br>odds=%{marker.size}<extra></extra>\",\"legendgroup\":\"Receptor-mediated endocytosis\",\"marker\":{\"color\":\"#FFA15A\",\"size\":[7.636363636363637],\"sizemode\":\"area\",\"sizeref\":0.04421822436741261,\"symbol\":\"circle\"},\"mode\":\"markers\",\"name\":\"Receptor-mediated endocytosis\",\"orientation\":\"v\",\"showlegend\":true,\"x\":[3.7569864125369877e-10],\"xaxis\":\"x\",\"y\":[7.636363636363637],\"yaxis\":\"y\",\"type\":\"scatter\"},{\"hovertemplate\":\"go_term=Positive regulation of cytosolic calcium ion concentration<br>fdr_bh=%{x}<br>odds=%{marker.size}<extra></extra>\",\"legendgroup\":\"Positive regulation of cytosolic calcium ion concentration\",\"marker\":{\"color\":\"#19d3f3\",\"size\":[2.3932503013258337],\"sizemode\":\"area\",\"sizeref\":0.04421822436741261,\"symbol\":\"circle\"},\"mode\":\"markers\",\"name\":\"Positive regulation of cytosolic calcium ion concentration\",\"orientation\":\"v\",\"showlegend\":true,\"x\":[0.008210052103653763],\"xaxis\":\"x\",\"y\":[2.3932503013258337],\"yaxis\":\"y\",\"type\":\"scatter\"},{\"hovertemplate\":\"go_term=Regulation of cell morphogenesis involved in differentiation<br>fdr_bh=%{x}<br>odds=%{marker.size}<extra></extra>\",\"legendgroup\":\"Regulation of cell morphogenesis involved in differentiation\",\"marker\":{\"color\":\"#FF6692\",\"size\":[3.369689781994563],\"sizemode\":\"area\",\"sizeref\":0.04421822436741261,\"symbol\":\"circle\"},\"mode\":\"markers\",\"name\":\"Regulation of cell morphogenesis involved in differentiation\",\"orientation\":\"v\",\"showlegend\":true,\"x\":[7.692628425335247e-05],\"xaxis\":\"x\",\"y\":[3.369689781994563],\"yaxis\":\"y\",\"type\":\"scatter\"},{\"hovertemplate\":\"go_term=Positive regulation of cell morphogenesis involved in differentiation<br>fdr_bh=%{x}<br>odds=%{marker.size}<extra></extra>\",\"legendgroup\":\"Positive regulation of cell morphogenesis involved in differentiation\",\"marker\":{\"color\":\"#B6E880\",\"size\":[4.247790566231631],\"sizemode\":\"area\",\"sizeref\":0.04421822436741261,\"symbol\":\"circle\"},\"mode\":\"markers\",\"name\":\"Positive regulation of cell morphogenesis involved in differentiation\",\"orientation\":\"v\",\"showlegend\":true,\"x\":[0.00022759465279437546],\"xaxis\":\"x\",\"y\":[4.247790566231631],\"yaxis\":\"y\",\"type\":\"scatter\"},{\"hovertemplate\":\"go_term=Telencephalon development<br>fdr_bh=%{x}<br>odds=%{marker.size}<extra></extra>\",\"legendgroup\":\"Telencephalon development\",\"marker\":{\"color\":\"#FF97FF\",\"size\":[2.791462844679857],\"sizemode\":\"area\",\"sizeref\":0.04421822436741261,\"symbol\":\"circle\"},\"mode\":\"markers\",\"name\":\"Telencephalon development\",\"orientation\":\"v\",\"showlegend\":true,\"x\":[0.0028557740579195734],\"xaxis\":\"x\",\"y\":[2.791462844679857],\"yaxis\":\"y\",\"type\":\"scatter\"},{\"hovertemplate\":\"go_term=Regulation of cell morphogenesis<br>fdr_bh=%{x}<br>odds=%{marker.size}<extra></extra>\",\"legendgroup\":\"Regulation of cell morphogenesis\",\"marker\":{\"color\":\"#FECB52\",\"size\":[4.16301918916043],\"sizemode\":\"area\",\"sizeref\":0.04421822436741261,\"symbol\":\"circle\"},\"mode\":\"markers\",\"name\":\"Regulation of cell morphogenesis\",\"orientation\":\"v\",\"showlegend\":true,\"x\":[4.7370552401435705e-09],\"xaxis\":\"x\",\"y\":[4.16301918916043],\"yaxis\":\"y\",\"type\":\"scatter\"},{\"hovertemplate\":\"go_term=Positive regulation of cell growth<br>fdr_bh=%{x}<br>odds=%{marker.size}<extra></extra>\",\"legendgroup\":\"Positive regulation of cell growth\",\"marker\":{\"color\":\"#636efa\",\"size\":[4.326083825435691],\"sizemode\":\"area\",\"sizeref\":0.04421822436741261,\"symbol\":\"circle\"},\"mode\":\"markers\",\"name\":\"Positive regulation of cell growth\",\"orientation\":\"v\",\"showlegend\":true,\"x\":[0.00010637095009354458],\"xaxis\":\"x\",\"y\":[4.326083825435691],\"yaxis\":\"y\",\"type\":\"scatter\"},{\"hovertemplate\":\"go_term=Forebrain development<br>fdr_bh=%{x}<br>odds=%{marker.size}<extra></extra>\",\"legendgroup\":\"Forebrain development\",\"marker\":{\"color\":\"#EF553B\",\"size\":[2.4735995319584614],\"sizemode\":\"area\",\"sizeref\":0.04421822436741261,\"symbol\":\"circle\"},\"mode\":\"markers\",\"name\":\"Forebrain development\",\"orientation\":\"v\",\"showlegend\":true,\"x\":[0.003140539959673849],\"xaxis\":\"x\",\"y\":[2.4735995319584614],\"yaxis\":\"y\",\"type\":\"scatter\"},{\"hovertemplate\":\"go_term=Regulation of actin cytoskeleton organization<br>fdr_bh=%{x}<br>odds=%{marker.size}<extra></extra>\",\"legendgroup\":\"Regulation of actin cytoskeleton organization\",\"marker\":{\"color\":\"#00cc96\",\"size\":[3.3595089099469577],\"sizemode\":\"area\",\"sizeref\":0.04421822436741261,\"symbol\":\"circle\"},\"mode\":\"markers\",\"name\":\"Regulation of actin cytoskeleton organization\",\"orientation\":\"v\",\"showlegend\":true,\"x\":[3.407616336680124e-05],\"xaxis\":\"x\",\"y\":[3.3595089099469577],\"yaxis\":\"y\",\"type\":\"scatter\"},{\"hovertemplate\":\"go_term=Regulation of actin filament-based process<br>fdr_bh=%{x}<br>odds=%{marker.size}<extra></extra>\",\"legendgroup\":\"Regulation of actin filament-based process\",\"marker\":{\"color\":\"#ab63fa\",\"size\":[3.1476909980846988],\"sizemode\":\"area\",\"sizeref\":0.04421822436741261,\"symbol\":\"circle\"},\"mode\":\"markers\",\"name\":\"Regulation of actin filament-based process\",\"orientation\":\"v\",\"showlegend\":true,\"x\":[4.7781082238412256e-05],\"xaxis\":\"x\",\"y\":[3.1476909980846988],\"yaxis\":\"y\",\"type\":\"scatter\"},{\"hovertemplate\":\"go_term=Regulation of protein catabolic process<br>fdr_bh=%{x}<br>odds=%{marker.size}<extra></extra>\",\"legendgroup\":\"Regulation of protein catabolic process\",\"marker\":{\"color\":\"#FFA15A\",\"size\":[2.2956616347069225],\"sizemode\":\"area\",\"sizeref\":0.04421822436741261,\"symbol\":\"circle\"},\"mode\":\"markers\",\"name\":\"Regulation of protein catabolic process\",\"orientation\":\"v\",\"showlegend\":true,\"x\":[0.004483530098662275],\"xaxis\":\"x\",\"y\":[2.2956616347069225],\"yaxis\":\"y\",\"type\":\"scatter\"},{\"hovertemplate\":\"go_term=Receptor metabolic process<br>fdr_bh=%{x}<br>odds=%{marker.size}<extra></extra>\",\"legendgroup\":\"Receptor metabolic process\",\"marker\":{\"color\":\"#19d3f3\",\"size\":[7.428712139867028],\"sizemode\":\"area\",\"sizeref\":0.04421822436741261,\"symbol\":\"circle\"},\"mode\":\"markers\",\"name\":\"Receptor metabolic process\",\"orientation\":\"v\",\"showlegend\":true,\"x\":[1.4912386219114475e-06],\"xaxis\":\"x\",\"y\":[7.428712139867028],\"yaxis\":\"y\",\"type\":\"scatter\"},{\"hovertemplate\":\"go_term=Positive regulation of protein catabolic process<br>fdr_bh=%{x}<br>odds=%{marker.size}<extra></extra>\",\"legendgroup\":\"Positive regulation of protein catabolic process\",\"marker\":{\"color\":\"#FF6692\",\"size\":[2.7305029305793083],\"sizemode\":\"area\",\"sizeref\":0.04421822436741261,\"symbol\":\"circle\"},\"mode\":\"markers\",\"name\":\"Positive regulation of protein catabolic process\",\"orientation\":\"v\",\"showlegend\":true,\"x\":[0.00464087969395299],\"xaxis\":\"x\",\"y\":[2.7305029305793083],\"yaxis\":\"y\",\"type\":\"scatter\"},{\"hovertemplate\":\"go_term=Regulation of hormone secretion<br>fdr_bh=%{x}<br>odds=%{marker.size}<extra></extra>\",\"legendgroup\":\"Regulation of hormone secretion\",\"marker\":{\"color\":\"#B6E880\",\"size\":[3.4149281975368933],\"sizemode\":\"area\",\"sizeref\":0.04421822436741261,\"symbol\":\"circle\"},\"mode\":\"markers\",\"name\":\"Regulation of hormone secretion\",\"orientation\":\"v\",\"showlegend\":true,\"x\":[0.00017009720705633686],\"xaxis\":\"x\",\"y\":[3.4149281975368933],\"yaxis\":\"y\",\"type\":\"scatter\"},{\"hovertemplate\":\"go_term=Blood vessel morphogenesis<br>fdr_bh=%{x}<br>odds=%{marker.size}<extra></extra>\",\"legendgroup\":\"Blood vessel morphogenesis\",\"marker\":{\"color\":\"#FF97FF\",\"size\":[3.15158966438725],\"sizemode\":\"area\",\"sizeref\":0.04421822436741261,\"symbol\":\"circle\"},\"mode\":\"markers\",\"name\":\"Blood vessel morphogenesis\",\"orientation\":\"v\",\"showlegend\":true,\"x\":[3.2227452121381974e-05],\"xaxis\":\"x\",\"y\":[3.15158966438725],\"yaxis\":\"y\",\"type\":\"scatter\"},{\"hovertemplate\":\"go_term=Regulation of axonogenesis<br>fdr_bh=%{x}<br>odds=%{marker.size}<extra></extra>\",\"legendgroup\":\"Regulation of axonogenesis\",\"marker\":{\"color\":\"#FECB52\",\"size\":[3.926368593238822],\"sizemode\":\"area\",\"sizeref\":0.04421822436741261,\"symbol\":\"circle\"},\"mode\":\"markers\",\"name\":\"Regulation of axonogenesis\",\"orientation\":\"v\",\"showlegend\":true,\"x\":[0.00023051218006761977],\"xaxis\":\"x\",\"y\":[3.926368593238822],\"yaxis\":\"y\",\"type\":\"scatter\"},{\"hovertemplate\":\"go_term=Regulation of insulin secretion<br>fdr_bh=%{x}<br>odds=%{marker.size}<extra></extra>\",\"legendgroup\":\"Regulation of insulin secretion\",\"marker\":{\"color\":\"#636efa\",\"size\":[4.043197126178716],\"sizemode\":\"area\",\"sizeref\":0.04421822436741261,\"symbol\":\"circle\"},\"mode\":\"markers\",\"name\":\"Regulation of insulin secretion\",\"orientation\":\"v\",\"showlegend\":true,\"x\":[0.0001827833187149158],\"xaxis\":\"x\",\"y\":[4.043197126178716],\"yaxis\":\"y\",\"type\":\"scatter\"},{\"hovertemplate\":\"go_term=Negative regulation of nervous system development<br>fdr_bh=%{x}<br>odds=%{marker.size}<extra></extra>\",\"legendgroup\":\"Negative regulation of nervous system development\",\"marker\":{\"color\":\"#EF553B\",\"size\":[2.678621044507332],\"sizemode\":\"area\",\"sizeref\":0.04421822436741261,\"symbol\":\"circle\"},\"mode\":\"markers\",\"name\":\"Negative regulation of nervous system development\",\"orientation\":\"v\",\"showlegend\":true,\"x\":[0.0019487390874472622],\"xaxis\":\"x\",\"y\":[2.678621044507332],\"yaxis\":\"y\",\"type\":\"scatter\"},{\"hovertemplate\":\"go_term=Regulation of peptide hormone secretion<br>fdr_bh=%{x}<br>odds=%{marker.size}<extra></extra>\",\"legendgroup\":\"Regulation of peptide hormone secretion\",\"marker\":{\"color\":\"#00cc96\",\"size\":[4.010868733256793],\"sizemode\":\"area\",\"sizeref\":0.04421822436741261,\"symbol\":\"circle\"},\"mode\":\"markers\",\"name\":\"Regulation of peptide hormone secretion\",\"orientation\":\"v\",\"showlegend\":true,\"x\":[6.232672443527061e-05],\"xaxis\":\"x\",\"y\":[4.010868733256793],\"yaxis\":\"y\",\"type\":\"scatter\"},{\"hovertemplate\":\"go_term=Regulation of neuron death<br>fdr_bh=%{x}<br>odds=%{marker.size}<extra></extra>\",\"legendgroup\":\"Regulation of neuron death\",\"marker\":{\"color\":\"#ab63fa\",\"size\":[2.4365169388989716],\"sizemode\":\"area\",\"sizeref\":0.04421822436741261,\"symbol\":\"circle\"},\"mode\":\"markers\",\"name\":\"Regulation of neuron death\",\"orientation\":\"v\",\"showlegend\":true,\"x\":[0.005396945634580809],\"xaxis\":\"x\",\"y\":[2.4365169388989716],\"yaxis\":\"y\",\"type\":\"scatter\"},{\"hovertemplate\":\"go_term=Response to peptide<br>fdr_bh=%{x}<br>odds=%{marker.size}<extra></extra>\",\"legendgroup\":\"Response to peptide\",\"marker\":{\"color\":\"#FFA15A\",\"size\":[3.424498207885305],\"sizemode\":\"area\",\"sizeref\":0.04421822436741261,\"symbol\":\"circle\"},\"mode\":\"markers\",\"name\":\"Response to peptide\",\"orientation\":\"v\",\"showlegend\":true,\"x\":[1.6184424413976393e-06],\"xaxis\":\"x\",\"y\":[3.424498207885305],\"yaxis\":\"y\",\"type\":\"scatter\"},{\"hovertemplate\":\"go_term=Cellular response to peptide<br>fdr_bh=%{x}<br>odds=%{marker.size}<extra></extra>\",\"legendgroup\":\"Cellular response to peptide\",\"marker\":{\"color\":\"#19d3f3\",\"size\":[3.975889328063241],\"sizemode\":\"area\",\"sizeref\":0.04421822436741261,\"symbol\":\"circle\"},\"mode\":\"markers\",\"name\":\"Cellular response to peptide\",\"orientation\":\"v\",\"showlegend\":true,\"x\":[1.884169337984473e-06],\"xaxis\":\"x\",\"y\":[3.975889328063241],\"yaxis\":\"y\",\"type\":\"scatter\"},{\"hovertemplate\":\"go_term=Antigen processing and presentation of exogenous peptide antigen<br>fdr_bh=%{x}<br>odds=%{marker.size}<extra></extra>\",\"legendgroup\":\"Antigen processing and presentation of exogenous peptide antigen\",\"marker\":{\"color\":\"#FF6692\",\"size\":[3.853040658751079],\"sizemode\":\"area\",\"sizeref\":0.04421822436741261,\"symbol\":\"circle\"},\"mode\":\"markers\",\"name\":\"Antigen processing and presentation of exogenous peptide antigen\",\"orientation\":\"v\",\"showlegend\":true,\"x\":[0.0004556691453304286],\"xaxis\":\"x\",\"y\":[3.853040658751079],\"yaxis\":\"y\",\"type\":\"scatter\"},{\"hovertemplate\":\"go_term=Antigen processing and presentation of exogenous antigen<br>fdr_bh=%{x}<br>odds=%{marker.size}<extra></extra>\",\"legendgroup\":\"Antigen processing and presentation of exogenous antigen\",\"marker\":{\"color\":\"#B6E880\",\"size\":[3.6708247170524535],\"sizemode\":\"area\",\"sizeref\":0.04421822436741261,\"symbol\":\"circle\"},\"mode\":\"markers\",\"name\":\"Antigen processing and presentation of exogenous antigen\",\"orientation\":\"v\",\"showlegend\":true,\"x\":[0.0006401814236577818],\"xaxis\":\"x\",\"y\":[3.6708247170524535],\"yaxis\":\"y\",\"type\":\"scatter\"},{\"hovertemplate\":\"go_term=Antigen processing and presentation of peptide antigen<br>fdr_bh=%{x}<br>odds=%{marker.size}<extra></extra>\",\"legendgroup\":\"Antigen processing and presentation of peptide antigen\",\"marker\":{\"color\":\"#FF97FF\",\"size\":[3.4851922264469795],\"sizemode\":\"area\",\"sizeref\":0.04421822436741261,\"symbol\":\"circle\"},\"mode\":\"markers\",\"name\":\"Antigen processing and presentation of peptide antigen\",\"orientation\":\"v\",\"showlegend\":true,\"x\":[0.0009162411065450295],\"xaxis\":\"x\",\"y\":[3.4851922264469795],\"yaxis\":\"y\",\"type\":\"scatter\"},{\"hovertemplate\":\"go_term=Regulation of jnk cascade<br>fdr_bh=%{x}<br>odds=%{marker.size}<extra></extra>\",\"legendgroup\":\"Regulation of jnk cascade\",\"marker\":{\"color\":\"#FECB52\",\"size\":[4.396326346630606],\"sizemode\":\"area\",\"sizeref\":0.04421822436741261,\"symbol\":\"circle\"},\"mode\":\"markers\",\"name\":\"Regulation of jnk cascade\",\"orientation\":\"v\",\"showlegend\":true,\"x\":[4.963375494714456e-05],\"xaxis\":\"x\",\"y\":[4.396326346630606],\"yaxis\":\"y\",\"type\":\"scatter\"},{\"hovertemplate\":\"go_term=Apoptotic signaling pathway<br>fdr_bh=%{x}<br>odds=%{marker.size}<extra></extra>\",\"legendgroup\":\"Apoptotic signaling pathway\",\"marker\":{\"color\":\"#636efa\",\"size\":[2.949858597285068],\"sizemode\":\"area\",\"sizeref\":0.04421822436741261,\"symbol\":\"circle\"},\"mode\":\"markers\",\"name\":\"Apoptotic signaling pathway\",\"orientation\":\"v\",\"showlegend\":true,\"x\":[0.000907656003859085],\"xaxis\":\"x\",\"y\":[2.949858597285068],\"yaxis\":\"y\",\"type\":\"scatter\"},{\"hovertemplate\":\"go_term=Golgi vesicle transport<br>fdr_bh=%{x}<br>odds=%{marker.size}<extra></extra>\",\"legendgroup\":\"Golgi vesicle transport\",\"marker\":{\"color\":\"#EF553B\",\"size\":[2.867374337269893],\"sizemode\":\"area\",\"sizeref\":0.04421822436741261,\"symbol\":\"circle\"},\"mode\":\"markers\",\"name\":\"Golgi vesicle transport\",\"orientation\":\"v\",\"showlegend\":true,\"x\":[0.0003985062522976444],\"xaxis\":\"x\",\"y\":[2.867374337269893],\"yaxis\":\"y\",\"type\":\"scatter\"},{\"hovertemplate\":\"go_term=Regulation of ion transmembrane transport<br>fdr_bh=%{x}<br>odds=%{marker.size}<extra></extra>\",\"legendgroup\":\"Regulation of ion transmembrane transport\",\"marker\":{\"color\":\"#00cc96\",\"size\":[3.4166726271368284],\"sizemode\":\"area\",\"sizeref\":0.04421822436741261,\"symbol\":\"circle\"},\"mode\":\"markers\",\"name\":\"Regulation of ion transmembrane transport\",\"orientation\":\"v\",\"showlegend\":true,\"x\":[1.6610632206938274e-06],\"xaxis\":\"x\",\"y\":[3.4166726271368284],\"yaxis\":\"y\",\"type\":\"scatter\"},{\"hovertemplate\":\"go_term=Ameboidal-type cell migration<br>fdr_bh=%{x}<br>odds=%{marker.size}<extra></extra>\",\"legendgroup\":\"Ameboidal-type cell migration\",\"marker\":{\"color\":\"#ab63fa\",\"size\":[4.674209770114943],\"sizemode\":\"area\",\"sizeref\":0.04421822436741261,\"symbol\":\"circle\"},\"mode\":\"markers\",\"name\":\"Ameboidal-type cell migration\",\"orientation\":\"v\",\"showlegend\":true,\"x\":[2.9880843878339086e-05],\"xaxis\":\"x\",\"y\":[4.674209770114943],\"yaxis\":\"y\",\"type\":\"scatter\"},{\"hovertemplate\":\"go_term=Morphogenesis of an epithelium<br>fdr_bh=%{x}<br>odds=%{marker.size}<extra></extra>\",\"legendgroup\":\"Morphogenesis of an epithelium\",\"marker\":{\"color\":\"#FFA15A\",\"size\":[3.609805073954354],\"sizemode\":\"area\",\"sizeref\":0.04421822436741261,\"symbol\":\"circle\"},\"mode\":\"markers\",\"name\":\"Morphogenesis of an epithelium\",\"orientation\":\"v\",\"showlegend\":true,\"x\":[1.1595321450406096e-06],\"xaxis\":\"x\",\"y\":[3.609805073954354],\"yaxis\":\"y\",\"type\":\"scatter\"},{\"hovertemplate\":\"go_term=Epithelial tube morphogenesis<br>fdr_bh=%{x}<br>odds=%{marker.size}<extra></extra>\",\"legendgroup\":\"Epithelial tube morphogenesis\",\"marker\":{\"color\":\"#19d3f3\",\"size\":[3.1706758304696447],\"sizemode\":\"area\",\"sizeref\":0.04421822436741261,\"symbol\":\"circle\"},\"mode\":\"markers\",\"name\":\"Epithelial tube morphogenesis\",\"orientation\":\"v\",\"showlegend\":true,\"x\":[0.000222772361670451],\"xaxis\":\"x\",\"y\":[3.1706758304696447],\"yaxis\":\"y\",\"type\":\"scatter\"},{\"hovertemplate\":\"go_term=Negative regulation of protein phosphorylation<br>fdr_bh=%{x}<br>odds=%{marker.size}<extra></extra>\",\"legendgroup\":\"Negative regulation of protein phosphorylation\",\"marker\":{\"color\":\"#FF6692\",\"size\":[2.3195368462368755],\"sizemode\":\"area\",\"sizeref\":0.04421822436741261,\"symbol\":\"circle\"},\"mode\":\"markers\",\"name\":\"Negative regulation of protein phosphorylation\",\"orientation\":\"v\",\"showlegend\":true,\"x\":[0.004242181650849286],\"xaxis\":\"x\",\"y\":[2.3195368462368755],\"yaxis\":\"y\",\"type\":\"scatter\"},{\"hovertemplate\":\"go_term=Negative regulation of protein kinase activity<br>fdr_bh=%{x}<br>odds=%{marker.size}<extra></extra>\",\"legendgroup\":\"Negative regulation of protein kinase activity\",\"marker\":{\"color\":\"#B6E880\",\"size\":[2.7797887621461768],\"sizemode\":\"area\",\"sizeref\":0.04421822436741261,\"symbol\":\"circle\"},\"mode\":\"markers\",\"name\":\"Negative regulation of protein kinase activity\",\"orientation\":\"v\",\"showlegend\":true,\"x\":[0.00417579982552153],\"xaxis\":\"x\",\"y\":[2.7797887621461768],\"yaxis\":\"y\",\"type\":\"scatter\"},{\"hovertemplate\":\"go_term=Negative regulation of kinase activity<br>fdr_bh=%{x}<br>odds=%{marker.size}<extra></extra>\",\"legendgroup\":\"Negative regulation of kinase activity\",\"marker\":{\"color\":\"#FF97FF\",\"size\":[2.5600729290033035],\"sizemode\":\"area\",\"sizeref\":0.04421822436741261,\"symbol\":\"circle\"},\"mode\":\"markers\",\"name\":\"Negative regulation of kinase activity\",\"orientation\":\"v\",\"showlegend\":true,\"x\":[0.007124213157163026],\"xaxis\":\"x\",\"y\":[2.5600729290033035],\"yaxis\":\"y\",\"type\":\"scatter\"},{\"hovertemplate\":\"go_term=Negative regulation of phosphorylation<br>fdr_bh=%{x}<br>odds=%{marker.size}<extra></extra>\",\"legendgroup\":\"Negative regulation of phosphorylation\",\"marker\":{\"color\":\"#FECB52\",\"size\":[2.4036760440835265],\"sizemode\":\"area\",\"sizeref\":0.04421822436741261,\"symbol\":\"circle\"},\"mode\":\"markers\",\"name\":\"Negative regulation of phosphorylation\",\"orientation\":\"v\",\"showlegend\":true,\"x\":[0.0019434642688095386],\"xaxis\":\"x\",\"y\":[2.4036760440835265],\"yaxis\":\"y\",\"type\":\"scatter\"},{\"hovertemplate\":\"go_term=Angiogenesis<br>fdr_bh=%{x}<br>odds=%{marker.size}<extra></extra>\",\"legendgroup\":\"Angiogenesis\",\"marker\":{\"color\":\"#636efa\",\"size\":[3.0841824168416685],\"sizemode\":\"area\",\"sizeref\":0.04421822436741261,\"symbol\":\"circle\"},\"mode\":\"markers\",\"name\":\"Angiogenesis\",\"orientation\":\"v\",\"showlegend\":true,\"x\":[0.0002867218526923344],\"xaxis\":\"x\",\"y\":[3.0841824168416685],\"yaxis\":\"y\",\"type\":\"scatter\"},{\"hovertemplate\":\"go_term=Viral life cycle<br>fdr_bh=%{x}<br>odds=%{marker.size}<extra></extra>\",\"legendgroup\":\"Viral life cycle\",\"marker\":{\"color\":\"#EF553B\",\"size\":[3.612776215347529],\"sizemode\":\"area\",\"sizeref\":0.04421822436741261,\"symbol\":\"circle\"},\"mode\":\"markers\",\"name\":\"Viral life cycle\",\"orientation\":\"v\",\"showlegend\":true,\"x\":[0.0004351866729980116],\"xaxis\":\"x\",\"y\":[3.612776215347529],\"yaxis\":\"y\",\"type\":\"scatter\"},{\"hovertemplate\":\"go_term=Entry into host<br>fdr_bh=%{x}<br>odds=%{marker.size}<extra></extra>\",\"legendgroup\":\"Entry into host\",\"marker\":{\"color\":\"#00cc96\",\"size\":[6.858860968755166],\"sizemode\":\"area\",\"sizeref\":0.04421822436741261,\"symbol\":\"circle\"},\"mode\":\"markers\",\"name\":\"Entry into host\",\"orientation\":\"v\",\"showlegend\":true,\"x\":[6.696364437005192e-06],\"xaxis\":\"x\",\"y\":[6.858860968755166],\"yaxis\":\"y\",\"type\":\"scatter\"},{\"hovertemplate\":\"go_term=Interaction with host<br>fdr_bh=%{x}<br>odds=%{marker.size}<extra></extra>\",\"legendgroup\":\"Interaction with host\",\"marker\":{\"color\":\"#ab63fa\",\"size\":[4.9551320775440715],\"sizemode\":\"area\",\"sizeref\":0.04421822436741261,\"symbol\":\"circle\"},\"mode\":\"markers\",\"name\":\"Interaction with host\",\"orientation\":\"v\",\"showlegend\":true,\"x\":[3.528991423495843e-05],\"xaxis\":\"x\",\"y\":[4.9551320775440715],\"yaxis\":\"y\",\"type\":\"scatter\"},{\"hovertemplate\":\"go_term=Movement in host environment<br>fdr_bh=%{x}<br>odds=%{marker.size}<extra></extra>\",\"legendgroup\":\"Movement in host environment\",\"marker\":{\"color\":\"#FFA15A\",\"size\":[7.19513358778626],\"sizemode\":\"area\",\"sizeref\":0.04421822436741261,\"symbol\":\"circle\"},\"mode\":\"markers\",\"name\":\"Movement in host environment\",\"orientation\":\"v\",\"showlegend\":true,\"x\":[1.8128736175156308e-06],\"xaxis\":\"x\",\"y\":[7.19513358778626],\"yaxis\":\"y\",\"type\":\"scatter\"},{\"hovertemplate\":\"go_term=Regulation of metal ion transport<br>fdr_bh=%{x}<br>odds=%{marker.size}<extra></extra>\",\"legendgroup\":\"Regulation of metal ion transport\",\"marker\":{\"color\":\"#19d3f3\",\"size\":[2.27886511131192],\"sizemode\":\"area\",\"sizeref\":0.04421822436741261,\"symbol\":\"circle\"},\"mode\":\"markers\",\"name\":\"Regulation of metal ion transport\",\"orientation\":\"v\",\"showlegend\":true,\"x\":[0.006222230667421163],\"xaxis\":\"x\",\"y\":[2.27886511131192],\"yaxis\":\"y\",\"type\":\"scatter\"},{\"hovertemplate\":\"go_term=Regulation of transmembrane transporter activity<br>fdr_bh=%{x}<br>odds=%{marker.size}<extra></extra>\",\"legendgroup\":\"Regulation of transmembrane transporter activity\",\"marker\":{\"color\":\"#FF6692\",\"size\":[3.150105580693816],\"sizemode\":\"area\",\"sizeref\":0.04421822436741261,\"symbol\":\"circle\"},\"mode\":\"markers\",\"name\":\"Regulation of transmembrane transporter activity\",\"orientation\":\"v\",\"showlegend\":true,\"x\":[0.0005310461211839363],\"xaxis\":\"x\",\"y\":[3.150105580693816],\"yaxis\":\"y\",\"type\":\"scatter\"},{\"hovertemplate\":\"go_term=Regulation of transporter activity<br>fdr_bh=%{x}<br>odds=%{marker.size}<extra></extra>\",\"legendgroup\":\"Regulation of transporter activity\",\"marker\":{\"color\":\"#B6E880\",\"size\":[3.4878455462922333],\"sizemode\":\"area\",\"sizeref\":0.04421822436741261,\"symbol\":\"circle\"},\"mode\":\"markers\",\"name\":\"Regulation of transporter activity\",\"orientation\":\"v\",\"showlegend\":true,\"x\":[8.55575475516111e-05],\"xaxis\":\"x\",\"y\":[3.4878455462922333],\"yaxis\":\"y\",\"type\":\"scatter\"},{\"hovertemplate\":\"go_term=Regulation of ion transmembrane transporter activity<br>fdr_bh=%{x}<br>odds=%{marker.size}<extra></extra>\",\"legendgroup\":\"Regulation of ion transmembrane transporter activity\",\"marker\":{\"color\":\"#FF97FF\",\"size\":[3.2673233270794246],\"sizemode\":\"area\",\"sizeref\":0.04421822436741261,\"symbol\":\"circle\"},\"mode\":\"markers\",\"name\":\"Regulation of ion transmembrane transporter activity\",\"orientation\":\"v\",\"showlegend\":true,\"x\":[0.0003884085298378013],\"xaxis\":\"x\",\"y\":[3.2673233270794246],\"yaxis\":\"y\",\"type\":\"scatter\"},{\"hovertemplate\":\"go_term=Regulation of gtpase activity<br>fdr_bh=%{x}<br>odds=%{marker.size}<extra></extra>\",\"legendgroup\":\"Regulation of gtpase activity\",\"marker\":{\"color\":\"#FECB52\",\"size\":[3.393402728435413],\"sizemode\":\"area\",\"sizeref\":0.04421822436741261,\"symbol\":\"circle\"},\"mode\":\"markers\",\"name\":\"Regulation of gtpase activity\",\"orientation\":\"v\",\"showlegend\":true,\"x\":[1.8128736175156308e-06],\"xaxis\":\"x\",\"y\":[3.393402728435413],\"yaxis\":\"y\",\"type\":\"scatter\"},{\"hovertemplate\":\"go_term=Positive regulation of gtpase activity<br>fdr_bh=%{x}<br>odds=%{marker.size}<extra></extra>\",\"legendgroup\":\"Positive regulation of gtpase activity\",\"marker\":{\"color\":\"#636efa\",\"size\":[3.8817573960764524],\"sizemode\":\"area\",\"sizeref\":0.04421822436741261,\"symbol\":\"circle\"},\"mode\":\"markers\",\"name\":\"Positive regulation of gtpase activity\",\"orientation\":\"v\",\"showlegend\":true,\"x\":[3.7954534219372043e-07],\"xaxis\":\"x\",\"y\":[3.8817573960764524],\"yaxis\":\"y\",\"type\":\"scatter\"},{\"hovertemplate\":\"go_term=Regulation of calcium ion transport<br>fdr_bh=%{x}<br>odds=%{marker.size}<extra></extra>\",\"legendgroup\":\"Regulation of calcium ion transport\",\"marker\":{\"color\":\"#EF553B\",\"size\":[3.060656228812891],\"sizemode\":\"area\",\"sizeref\":0.04421822436741261,\"symbol\":\"circle\"},\"mode\":\"markers\",\"name\":\"Regulation of calcium ion transport\",\"orientation\":\"v\",\"showlegend\":true,\"x\":[0.0009844525889234935],\"xaxis\":\"x\",\"y\":[3.060656228812891],\"yaxis\":\"y\",\"type\":\"scatter\"},{\"hovertemplate\":\"go_term=Regulation of calcium ion transmembrane transport<br>fdr_bh=%{x}<br>odds=%{marker.size}<extra></extra>\",\"legendgroup\":\"Regulation of calcium ion transmembrane transport\",\"marker\":{\"color\":\"#00cc96\",\"size\":[4.397777127815151],\"sizemode\":\"area\",\"sizeref\":0.04421822436741261,\"symbol\":\"circle\"},\"mode\":\"markers\",\"name\":\"Regulation of calcium ion transmembrane transport\",\"orientation\":\"v\",\"showlegend\":true,\"x\":[0.00017547534787065117],\"xaxis\":\"x\",\"y\":[4.397777127815151],\"yaxis\":\"y\",\"type\":\"scatter\"},{\"hovertemplate\":\"go_term=Regulation of cation transmembrane transport<br>fdr_bh=%{x}<br>odds=%{marker.size}<extra></extra>\",\"legendgroup\":\"Regulation of cation transmembrane transport\",\"marker\":{\"color\":\"#ab63fa\",\"size\":[2.8685551450167837],\"sizemode\":\"area\",\"sizeref\":0.04421822436741261,\"symbol\":\"circle\"},\"mode\":\"markers\",\"name\":\"Regulation of cation transmembrane transport\",\"orientation\":\"v\",\"showlegend\":true,\"x\":[0.0005645010359115129],\"xaxis\":\"x\",\"y\":[2.8685551450167837],\"yaxis\":\"y\",\"type\":\"scatter\"},{\"hovertemplate\":\"go_term=Regulation of cation channel activity<br>fdr_bh=%{x}<br>odds=%{marker.size}<extra></extra>\",\"legendgroup\":\"Regulation of cation channel activity\",\"marker\":{\"color\":\"#FFA15A\",\"size\":[3.7826515186220164],\"sizemode\":\"area\",\"sizeref\":0.04421822436741261,\"symbol\":\"circle\"},\"mode\":\"markers\",\"name\":\"Regulation of cation channel activity\",\"orientation\":\"v\",\"showlegend\":true,\"x\":[0.0005248471952519694],\"xaxis\":\"x\",\"y\":[3.7826515186220164],\"yaxis\":\"y\",\"type\":\"scatter\"},{\"hovertemplate\":\"go_term=Regulation of actin filament organization<br>fdr_bh=%{x}<br>odds=%{marker.size}<extra></extra>\",\"legendgroup\":\"Regulation of actin filament organization\",\"marker\":{\"color\":\"#19d3f3\",\"size\":[3.852854450389105],\"sizemode\":\"area\",\"sizeref\":0.04421822436741261,\"symbol\":\"circle\"},\"mode\":\"markers\",\"name\":\"Regulation of actin filament organization\",\"orientation\":\"v\",\"showlegend\":true,\"x\":[2.0018879392460544e-05],\"xaxis\":\"x\",\"y\":[3.852854450389105],\"yaxis\":\"y\",\"type\":\"scatter\"},{\"hovertemplate\":\"go_term=Regulation of supramolecular fiber organization<br>fdr_bh=%{x}<br>odds=%{marker.size}<extra></extra>\",\"legendgroup\":\"Regulation of supramolecular fiber organization\",\"marker\":{\"color\":\"#FF6692\",\"size\":[3.3516607837813375],\"sizemode\":\"area\",\"sizeref\":0.04421822436741261,\"symbol\":\"circle\"},\"mode\":\"markers\",\"name\":\"Regulation of supramolecular fiber organization\",\"orientation\":\"v\",\"showlegend\":true,\"x\":[2.3757400890789623e-05],\"xaxis\":\"x\",\"y\":[3.3516607837813375],\"yaxis\":\"y\",\"type\":\"scatter\"},{\"hovertemplate\":\"go_term=Muscle system process<br>fdr_bh=%{x}<br>odds=%{marker.size}<extra></extra>\",\"legendgroup\":\"Muscle system process\",\"marker\":{\"color\":\"#B6E880\",\"size\":[2.3932503013258337],\"sizemode\":\"area\",\"sizeref\":0.04421822436741261,\"symbol\":\"circle\"},\"mode\":\"markers\",\"name\":\"Muscle system process\",\"orientation\":\"v\",\"showlegend\":true,\"x\":[0.008210052103653763],\"xaxis\":\"x\",\"y\":[2.3932503013258337],\"yaxis\":\"y\",\"type\":\"scatter\"},{\"hovertemplate\":\"go_term=Wnt signaling pathway<br>fdr_bh=%{x}<br>odds=%{marker.size}<extra></extra>\",\"legendgroup\":\"Wnt signaling pathway\",\"marker\":{\"color\":\"#FF97FF\",\"size\":[2.557053226696084],\"sizemode\":\"area\",\"sizeref\":0.04421822436741261,\"symbol\":\"circle\"},\"mode\":\"markers\",\"name\":\"Wnt signaling pathway\",\"orientation\":\"v\",\"showlegend\":true,\"x\":[0.0020574031190389824],\"xaxis\":\"x\",\"y\":[2.557053226696084],\"yaxis\":\"y\",\"type\":\"scatter\"},{\"hovertemplate\":\"go_term=Cell-cell signaling by wnt<br>fdr_bh=%{x}<br>odds=%{marker.size}<extra></extra>\",\"legendgroup\":\"Cell-cell signaling by wnt\",\"marker\":{\"color\":\"#FECB52\",\"size\":[2.557053226696084],\"sizemode\":\"area\",\"sizeref\":0.04421822436741261,\"symbol\":\"circle\"},\"mode\":\"markers\",\"name\":\"Cell-cell signaling by wnt\",\"orientation\":\"v\",\"showlegend\":true,\"x\":[0.0020574031190389824],\"xaxis\":\"x\",\"y\":[2.557053226696084],\"yaxis\":\"y\",\"type\":\"scatter\"},{\"hovertemplate\":\"go_term=Cell surface receptor signaling pathway involved in cell-cell signaling<br>fdr_bh=%{x}<br>odds=%{marker.size}<extra></extra>\",\"legendgroup\":\"Cell surface receptor signaling pathway involved in cell-cell signaling\",\"marker\":{\"color\":\"#636efa\",\"size\":[2.336660553047404],\"sizemode\":\"area\",\"sizeref\":0.04421822436741261,\"symbol\":\"circle\"},\"mode\":\"markers\",\"name\":\"Cell surface receptor signaling pathway involved in cell-cell signaling\",\"orientation\":\"v\",\"showlegend\":true,\"x\":[0.002308876321510648],\"xaxis\":\"x\",\"y\":[2.336660553047404],\"yaxis\":\"y\",\"type\":\"scatter\"},{\"hovertemplate\":\"go_term=Regulation of cell shape<br>fdr_bh=%{x}<br>odds=%{marker.size}<extra></extra>\",\"legendgroup\":\"Regulation of cell shape\",\"marker\":{\"color\":\"#EF553B\",\"size\":[5.823907028223575],\"sizemode\":\"area\",\"sizeref\":0.04421822436741261,\"symbol\":\"circle\"},\"mode\":\"markers\",\"name\":\"Regulation of cell shape\",\"orientation\":\"v\",\"showlegend\":true,\"x\":[2.193319414469441e-06],\"xaxis\":\"x\",\"y\":[5.823907028223575],\"yaxis\":\"y\",\"type\":\"scatter\"},{\"hovertemplate\":\"go_term=Regulation of protein kinase b signaling<br>fdr_bh=%{x}<br>odds=%{marker.size}<extra></extra>\",\"legendgroup\":\"Regulation of protein kinase b signaling\",\"marker\":{\"color\":\"#00cc96\",\"size\":[2.9110266159695817],\"sizemode\":\"area\",\"sizeref\":0.04421822436741261,\"symbol\":\"circle\"},\"mode\":\"markers\",\"name\":\"Regulation of protein kinase b signaling\",\"orientation\":\"v\",\"showlegend\":true,\"x\":[0.003088864931996772],\"xaxis\":\"x\",\"y\":[2.9110266159695817],\"yaxis\":\"y\",\"type\":\"scatter\"},{\"hovertemplate\":\"go_term=Protein autophosphorylation<br>fdr_bh=%{x}<br>odds=%{marker.size}<extra></extra>\",\"legendgroup\":\"Protein autophosphorylation\",\"marker\":{\"color\":\"#ab63fa\",\"size\":[4.536084701815039],\"sizemode\":\"area\",\"sizeref\":0.04421822436741261,\"symbol\":\"circle\"},\"mode\":\"markers\",\"name\":\"Protein autophosphorylation\",\"orientation\":\"v\",\"showlegend\":true,\"x\":[2.1182579230780214e-05],\"xaxis\":\"x\",\"y\":[4.536084701815039],\"yaxis\":\"y\",\"type\":\"scatter\"},{\"hovertemplate\":\"go_term=Heart morphogenesis<br>fdr_bh=%{x}<br>odds=%{marker.size}<extra></extra>\",\"legendgroup\":\"Heart morphogenesis\",\"marker\":{\"color\":\"#FFA15A\",\"size\":[3.1260021249879264],\"sizemode\":\"area\",\"sizeref\":0.04421822436741261,\"symbol\":\"circle\"},\"mode\":\"markers\",\"name\":\"Heart morphogenesis\",\"orientation\":\"v\",\"showlegend\":true,\"x\":[0.0008444691231850222],\"xaxis\":\"x\",\"y\":[3.1260021249879264],\"yaxis\":\"y\",\"type\":\"scatter\"},{\"hovertemplate\":\"go_term=Response to peptide hormone<br>fdr_bh=%{x}<br>odds=%{marker.size}<extra></extra>\",\"legendgroup\":\"Response to peptide hormone\",\"marker\":{\"color\":\"#19d3f3\",\"size\":[3.469768731865506],\"sizemode\":\"area\",\"sizeref\":0.04421822436741261,\"symbol\":\"circle\"},\"mode\":\"markers\",\"name\":\"Response to peptide hormone\",\"orientation\":\"v\",\"showlegend\":true,\"x\":[6.794643719949513e-06],\"xaxis\":\"x\",\"y\":[3.469768731865506],\"yaxis\":\"y\",\"type\":\"scatter\"},{\"hovertemplate\":\"go_term=Regulation of angiogenesis<br>fdr_bh=%{x}<br>odds=%{marker.size}<extra></extra>\",\"legendgroup\":\"Regulation of angiogenesis\",\"marker\":{\"color\":\"#FF6692\",\"size\":[2.773170082512643],\"sizemode\":\"area\",\"sizeref\":0.04421822436741261,\"symbol\":\"circle\"},\"mode\":\"markers\",\"name\":\"Regulation of angiogenesis\",\"orientation\":\"v\",\"showlegend\":true,\"x\":[0.0014957087384691735],\"xaxis\":\"x\",\"y\":[2.773170082512643],\"yaxis\":\"y\",\"type\":\"scatter\"},{\"hovertemplate\":\"go_term=Positive regulation of angiogenesis<br>fdr_bh=%{x}<br>odds=%{marker.size}<extra></extra>\",\"legendgroup\":\"Positive regulation of angiogenesis\",\"marker\":{\"color\":\"#B6E880\",\"size\":[3.976295904124753],\"sizemode\":\"area\",\"sizeref\":0.04421822436741261,\"symbol\":\"circle\"},\"mode\":\"markers\",\"name\":\"Positive regulation of angiogenesis\",\"orientation\":\"v\",\"showlegend\":true,\"x\":[0.00036639104817015453],\"xaxis\":\"x\",\"y\":[3.976295904124753],\"yaxis\":\"y\",\"type\":\"scatter\"},{\"hovertemplate\":\"go_term=Cellular response to peptide hormone stimulus<br>fdr_bh=%{x}<br>odds=%{marker.size}<extra></extra>\",\"legendgroup\":\"Cellular response to peptide hormone stimulus\",\"marker\":{\"color\":\"#FF97FF\",\"size\":[3.915060836267062],\"sizemode\":\"area\",\"sizeref\":0.04421822436741261,\"symbol\":\"circle\"},\"mode\":\"markers\",\"name\":\"Cellular response to peptide hormone stimulus\",\"orientation\":\"v\",\"showlegend\":true,\"x\":[1.7072882093646947e-05],\"xaxis\":\"x\",\"y\":[3.915060836267062],\"yaxis\":\"y\",\"type\":\"scatter\"},{\"hovertemplate\":\"go_term=Regulation of vasculature development<br>fdr_bh=%{x}<br>odds=%{marker.size}<extra></extra>\",\"legendgroup\":\"Regulation of vasculature development\",\"marker\":{\"color\":\"#FECB52\",\"size\":[2.67924800635081],\"sizemode\":\"area\",\"sizeref\":0.04421822436741261,\"symbol\":\"circle\"},\"mode\":\"markers\",\"name\":\"Regulation of vasculature development\",\"orientation\":\"v\",\"showlegend\":true,\"x\":[0.0014332440068718626],\"xaxis\":\"x\",\"y\":[2.67924800635081],\"yaxis\":\"y\",\"type\":\"scatter\"},{\"hovertemplate\":\"go_term=Positive regulation of vasculature development<br>fdr_bh=%{x}<br>odds=%{marker.size}<extra></extra>\",\"legendgroup\":\"Positive regulation of vasculature development\",\"marker\":{\"color\":\"#636efa\",\"size\":[3.881485315047225],\"sizemode\":\"area\",\"sizeref\":0.04421822436741261,\"symbol\":\"circle\"},\"mode\":\"markers\",\"name\":\"Positive regulation of vasculature development\",\"orientation\":\"v\",\"showlegend\":true,\"x\":[0.0002491905668539952],\"xaxis\":\"x\",\"y\":[3.881485315047225],\"yaxis\":\"y\",\"type\":\"scatter\"},{\"hovertemplate\":\"go_term=Regulation of reactive oxygen species metabolic process<br>fdr_bh=%{x}<br>odds=%{marker.size}<extra></extra>\",\"legendgroup\":\"Regulation of reactive oxygen species metabolic process\",\"marker\":{\"color\":\"#EF553B\",\"size\":[3.9037994448299793],\"sizemode\":\"area\",\"sizeref\":0.04421822436741261,\"symbol\":\"circle\"},\"mode\":\"markers\",\"name\":\"Regulation of reactive oxygen species metabolic process\",\"orientation\":\"v\",\"showlegend\":true,\"x\":[0.00024091334462690155],\"xaxis\":\"x\",\"y\":[3.9037994448299793],\"yaxis\":\"y\",\"type\":\"scatter\"},{\"hovertemplate\":\"go_term=Response to insulin<br>fdr_bh=%{x}<br>odds=%{marker.size}<extra></extra>\",\"legendgroup\":\"Response to insulin\",\"marker\":{\"color\":\"#00cc96\",\"size\":[2.843916349809886],\"sizemode\":\"area\",\"sizeref\":0.04421822436741261,\"symbol\":\"circle\"},\"mode\":\"markers\",\"name\":\"Response to insulin\",\"orientation\":\"v\",\"showlegend\":true,\"x\":[0.003608610545201596],\"xaxis\":\"x\",\"y\":[2.843916349809886],\"yaxis\":\"y\",\"type\":\"scatter\"},{\"hovertemplate\":\"go_term=Cellular response to insulin stimulus<br>fdr_bh=%{x}<br>odds=%{marker.size}<extra></extra>\",\"legendgroup\":\"Cellular response to insulin stimulus\",\"marker\":{\"color\":\"#ab63fa\",\"size\":[3.976295904124753],\"sizemode\":\"area\",\"sizeref\":0.04421822436741261,\"symbol\":\"circle\"},\"mode\":\"markers\",\"name\":\"Cellular response to insulin stimulus\",\"orientation\":\"v\",\"showlegend\":true,\"x\":[0.00036639104817015453],\"xaxis\":\"x\",\"y\":[3.976295904124753],\"yaxis\":\"y\",\"type\":\"scatter\"},{\"hovertemplate\":\"go_term=Regulation of dendrite development<br>fdr_bh=%{x}<br>odds=%{marker.size}<extra></extra>\",\"legendgroup\":\"Regulation of dendrite development\",\"marker\":{\"color\":\"#FFA15A\",\"size\":[4.336541235085879],\"sizemode\":\"area\",\"sizeref\":0.04421822436741261,\"symbol\":\"circle\"},\"mode\":\"markers\",\"name\":\"Regulation of dendrite development\",\"orientation\":\"v\",\"showlegend\":true,\"x\":[0.0001944844332297886],\"xaxis\":\"x\",\"y\":[4.336541235085879],\"yaxis\":\"y\",\"type\":\"scatter\"}],                        {\"template\":{\"data\":{\"histogram2dcontour\":[{\"type\":\"histogram2dcontour\",\"colorbar\":{\"outlinewidth\":0,\"ticks\":\"\"},\"colorscale\":[[0.0,\"#0d0887\"],[0.1111111111111111,\"#46039f\"],[0.2222222222222222,\"#7201a8\"],[0.3333333333333333,\"#9c179e\"],[0.4444444444444444,\"#bd3786\"],[0.5555555555555556,\"#d8576b\"],[0.6666666666666666,\"#ed7953\"],[0.7777777777777778,\"#fb9f3a\"],[0.8888888888888888,\"#fdca26\"],[1.0,\"#f0f921\"]]}],\"choropleth\":[{\"type\":\"choropleth\",\"colorbar\":{\"outlinewidth\":0,\"ticks\":\"\"}}],\"histogram2d\":[{\"type\":\"histogram2d\",\"colorbar\":{\"outlinewidth\":0,\"ticks\":\"\"},\"colorscale\":[[0.0,\"#0d0887\"],[0.1111111111111111,\"#46039f\"],[0.2222222222222222,\"#7201a8\"],[0.3333333333333333,\"#9c179e\"],[0.4444444444444444,\"#bd3786\"],[0.5555555555555556,\"#d8576b\"],[0.6666666666666666,\"#ed7953\"],[0.7777777777777778,\"#fb9f3a\"],[0.8888888888888888,\"#fdca26\"],[1.0,\"#f0f921\"]]}],\"heatmap\":[{\"type\":\"heatmap\",\"colorbar\":{\"outlinewidth\":0,\"ticks\":\"\"},\"colorscale\":[[0.0,\"#0d0887\"],[0.1111111111111111,\"#46039f\"],[0.2222222222222222,\"#7201a8\"],[0.3333333333333333,\"#9c179e\"],[0.4444444444444444,\"#bd3786\"],[0.5555555555555556,\"#d8576b\"],[0.6666666666666666,\"#ed7953\"],[0.7777777777777778,\"#fb9f3a\"],[0.8888888888888888,\"#fdca26\"],[1.0,\"#f0f921\"]]}],\"heatmapgl\":[{\"type\":\"heatmapgl\",\"colorbar\":{\"outlinewidth\":0,\"ticks\":\"\"},\"colorscale\":[[0.0,\"#0d0887\"],[0.1111111111111111,\"#46039f\"],[0.2222222222222222,\"#7201a8\"],[0.3333333333333333,\"#9c179e\"],[0.4444444444444444,\"#bd3786\"],[0.5555555555555556,\"#d8576b\"],[0.6666666666666666,\"#ed7953\"],[0.7777777777777778,\"#fb9f3a\"],[0.8888888888888888,\"#fdca26\"],[1.0,\"#f0f921\"]]}],\"contourcarpet\":[{\"type\":\"contourcarpet\",\"colorbar\":{\"outlinewidth\":0,\"ticks\":\"\"}}],\"contour\":[{\"type\":\"contour\",\"colorbar\":{\"outlinewidth\":0,\"ticks\":\"\"},\"colorscale\":[[0.0,\"#0d0887\"],[0.1111111111111111,\"#46039f\"],[0.2222222222222222,\"#7201a8\"],[0.3333333333333333,\"#9c179e\"],[0.4444444444444444,\"#bd3786\"],[0.5555555555555556,\"#d8576b\"],[0.6666666666666666,\"#ed7953\"],[0.7777777777777778,\"#fb9f3a\"],[0.8888888888888888,\"#fdca26\"],[1.0,\"#f0f921\"]]}],\"surface\":[{\"type\":\"surface\",\"colorbar\":{\"outlinewidth\":0,\"ticks\":\"\"},\"colorscale\":[[0.0,\"#0d0887\"],[0.1111111111111111,\"#46039f\"],[0.2222222222222222,\"#7201a8\"],[0.3333333333333333,\"#9c179e\"],[0.4444444444444444,\"#bd3786\"],[0.5555555555555556,\"#d8576b\"],[0.6666666666666666,\"#ed7953\"],[0.7777777777777778,\"#fb9f3a\"],[0.8888888888888888,\"#fdca26\"],[1.0,\"#f0f921\"]]}],\"mesh3d\":[{\"type\":\"mesh3d\",\"colorbar\":{\"outlinewidth\":0,\"ticks\":\"\"}}],\"scatter\":[{\"fillpattern\":{\"fillmode\":\"overlay\",\"size\":10,\"solidity\":0.2},\"type\":\"scatter\"}],\"parcoords\":[{\"type\":\"parcoords\",\"line\":{\"colorbar\":{\"outlinewidth\":0,\"ticks\":\"\"}}}],\"scatterpolargl\":[{\"type\":\"scatterpolargl\",\"marker\":{\"colorbar\":{\"outlinewidth\":0,\"ticks\":\"\"}}}],\"bar\":[{\"error_x\":{\"color\":\"#2a3f5f\"},\"error_y\":{\"color\":\"#2a3f5f\"},\"marker\":{\"line\":{\"color\":\"#E5ECF6\",\"width\":0.5},\"pattern\":{\"fillmode\":\"overlay\",\"size\":10,\"solidity\":0.2}},\"type\":\"bar\"}],\"scattergeo\":[{\"type\":\"scattergeo\",\"marker\":{\"colorbar\":{\"outlinewidth\":0,\"ticks\":\"\"}}}],\"scatterpolar\":[{\"type\":\"scatterpolar\",\"marker\":{\"colorbar\":{\"outlinewidth\":0,\"ticks\":\"\"}}}],\"histogram\":[{\"marker\":{\"pattern\":{\"fillmode\":\"overlay\",\"size\":10,\"solidity\":0.2}},\"type\":\"histogram\"}],\"scattergl\":[{\"type\":\"scattergl\",\"marker\":{\"colorbar\":{\"outlinewidth\":0,\"ticks\":\"\"}}}],\"scatter3d\":[{\"type\":\"scatter3d\",\"line\":{\"colorbar\":{\"outlinewidth\":0,\"ticks\":\"\"}},\"marker\":{\"colorbar\":{\"outlinewidth\":0,\"ticks\":\"\"}}}],\"scattermapbox\":[{\"type\":\"scattermapbox\",\"marker\":{\"colorbar\":{\"outlinewidth\":0,\"ticks\":\"\"}}}],\"scatterternary\":[{\"type\":\"scatterternary\",\"marker\":{\"colorbar\":{\"outlinewidth\":0,\"ticks\":\"\"}}}],\"scattercarpet\":[{\"type\":\"scattercarpet\",\"marker\":{\"colorbar\":{\"outlinewidth\":0,\"ticks\":\"\"}}}],\"carpet\":[{\"aaxis\":{\"endlinecolor\":\"#2a3f5f\",\"gridcolor\":\"white\",\"linecolor\":\"white\",\"minorgridcolor\":\"white\",\"startlinecolor\":\"#2a3f5f\"},\"baxis\":{\"endlinecolor\":\"#2a3f5f\",\"gridcolor\":\"white\",\"linecolor\":\"white\",\"minorgridcolor\":\"white\",\"startlinecolor\":\"#2a3f5f\"},\"type\":\"carpet\"}],\"table\":[{\"cells\":{\"fill\":{\"color\":\"#EBF0F8\"},\"line\":{\"color\":\"white\"}},\"header\":{\"fill\":{\"color\":\"#C8D4E3\"},\"line\":{\"color\":\"white\"}},\"type\":\"table\"}],\"barpolar\":[{\"marker\":{\"line\":{\"color\":\"#E5ECF6\",\"width\":0.5},\"pattern\":{\"fillmode\":\"overlay\",\"size\":10,\"solidity\":0.2}},\"type\":\"barpolar\"}],\"pie\":[{\"automargin\":true,\"type\":\"pie\"}]},\"layout\":{\"autotypenumbers\":\"strict\",\"colorway\":[\"#636efa\",\"#EF553B\",\"#00cc96\",\"#ab63fa\",\"#FFA15A\",\"#19d3f3\",\"#FF6692\",\"#B6E880\",\"#FF97FF\",\"#FECB52\"],\"font\":{\"color\":\"#2a3f5f\"},\"hovermode\":\"closest\",\"hoverlabel\":{\"align\":\"left\"},\"paper_bgcolor\":\"white\",\"plot_bgcolor\":\"#E5ECF6\",\"polar\":{\"bgcolor\":\"#E5ECF6\",\"angularaxis\":{\"gridcolor\":\"white\",\"linecolor\":\"white\",\"ticks\":\"\"},\"radialaxis\":{\"gridcolor\":\"white\",\"linecolor\":\"white\",\"ticks\":\"\"}},\"ternary\":{\"bgcolor\":\"#E5ECF6\",\"aaxis\":{\"gridcolor\":\"white\",\"linecolor\":\"white\",\"ticks\":\"\"},\"baxis\":{\"gridcolor\":\"white\",\"linecolor\":\"white\",\"ticks\":\"\"},\"caxis\":{\"gridcolor\":\"white\",\"linecolor\":\"white\",\"ticks\":\"\"}},\"coloraxis\":{\"colorbar\":{\"outlinewidth\":0,\"ticks\":\"\"}},\"colorscale\":{\"sequential\":[[0.0,\"#0d0887\"],[0.1111111111111111,\"#46039f\"],[0.2222222222222222,\"#7201a8\"],[0.3333333333333333,\"#9c179e\"],[0.4444444444444444,\"#bd3786\"],[0.5555555555555556,\"#d8576b\"],[0.6666666666666666,\"#ed7953\"],[0.7777777777777778,\"#fb9f3a\"],[0.8888888888888888,\"#fdca26\"],[1.0,\"#f0f921\"]],\"sequentialminus\":[[0.0,\"#0d0887\"],[0.1111111111111111,\"#46039f\"],[0.2222222222222222,\"#7201a8\"],[0.3333333333333333,\"#9c179e\"],[0.4444444444444444,\"#bd3786\"],[0.5555555555555556,\"#d8576b\"],[0.6666666666666666,\"#ed7953\"],[0.7777777777777778,\"#fb9f3a\"],[0.8888888888888888,\"#fdca26\"],[1.0,\"#f0f921\"]],\"diverging\":[[0,\"#8e0152\"],[0.1,\"#c51b7d\"],[0.2,\"#de77ae\"],[0.3,\"#f1b6da\"],[0.4,\"#fde0ef\"],[0.5,\"#f7f7f7\"],[0.6,\"#e6f5d0\"],[0.7,\"#b8e186\"],[0.8,\"#7fbc41\"],[0.9,\"#4d9221\"],[1,\"#276419\"]]},\"xaxis\":{\"gridcolor\":\"white\",\"linecolor\":\"white\",\"ticks\":\"\",\"title\":{\"standoff\":15},\"zerolinecolor\":\"white\",\"automargin\":true,\"zerolinewidth\":2},\"yaxis\":{\"gridcolor\":\"white\",\"linecolor\":\"white\",\"ticks\":\"\",\"title\":{\"standoff\":15},\"zerolinecolor\":\"white\",\"automargin\":true,\"zerolinewidth\":2},\"scene\":{\"xaxis\":{\"backgroundcolor\":\"#E5ECF6\",\"gridcolor\":\"white\",\"linecolor\":\"white\",\"showbackground\":true,\"ticks\":\"\",\"zerolinecolor\":\"white\",\"gridwidth\":2},\"yaxis\":{\"backgroundcolor\":\"#E5ECF6\",\"gridcolor\":\"white\",\"linecolor\":\"white\",\"showbackground\":true,\"ticks\":\"\",\"zerolinecolor\":\"white\",\"gridwidth\":2},\"zaxis\":{\"backgroundcolor\":\"#E5ECF6\",\"gridcolor\":\"white\",\"linecolor\":\"white\",\"showbackground\":true,\"ticks\":\"\",\"zerolinecolor\":\"white\",\"gridwidth\":2}},\"shapedefaults\":{\"line\":{\"color\":\"#2a3f5f\"}},\"annotationdefaults\":{\"arrowcolor\":\"#2a3f5f\",\"arrowhead\":0,\"arrowwidth\":1},\"geo\":{\"bgcolor\":\"white\",\"landcolor\":\"#E5ECF6\",\"subunitcolor\":\"white\",\"showland\":true,\"showlakes\":true,\"lakecolor\":\"white\"},\"title\":{\"x\":0.05},\"mapbox\":{\"style\":\"light\"}}},\"xaxis\":{\"anchor\":\"y\",\"domain\":[0.0,1.0],\"title\":{\"text\":\"fdr_bh\"}},\"yaxis\":{\"anchor\":\"x\",\"domain\":[0.0,1.0],\"title\":{\"text\":\"odds\"}},\"legend\":{\"title\":{\"text\":\"go_term\"},\"tracegroupgap\":0,\"itemsizing\":\"constant\"},\"margin\":{\"t\":60}},                        {\"responsive\": true}                    ).then(function(){\n",
       "                            \n",
       "var gd = document.getElementById('4f2b9501-dfad-4fce-9d96-906048c9809a');\n",
       "var x = new MutationObserver(function (mutations, observer) {{\n",
       "        var display = window.getComputedStyle(gd).display;\n",
       "        if (!display || display === 'none') {{\n",
       "            console.log([gd, 'removed!']);\n",
       "            Plotly.purge(gd);\n",
       "            observer.disconnect();\n",
       "        }}\n",
       "}});\n",
       "\n",
       "// Listen for the removal of the full notebook cells\n",
       "var notebookContainer = gd.closest('#notebook-container');\n",
       "if (notebookContainer) {{\n",
       "    x.observe(notebookContainer, {childList: true});\n",
       "}}\n",
       "\n",
       "// Listen for the clearing of the current output cell\n",
       "var outputEl = gd.closest('.output');\n",
       "if (outputEl) {{\n",
       "    x.observe(outputEl, {childList: true});\n",
       "}}\n",
       "\n",
       "                        })                };                });            </script>        </div>"
      ]
     },
     "metadata": {},
     "output_type": "display_data"
    }
   ],
   "source": [
    "px.scatter(enrichment, x='fdr_bh', y='odds', size='odds', color='go_term')"
   ]
  },
  {
   "cell_type": "code",
   "execution_count": 69,
   "id": "3b22f9b2",
   "metadata": {},
   "outputs": [
    {
     "data": {
      "text/html": [
       "<div>\n",
       "<style scoped>\n",
       "    .dataframe tbody tr th:only-of-type {\n",
       "        vertical-align: middle;\n",
       "    }\n",
       "\n",
       "    .dataframe tbody tr th {\n",
       "        vertical-align: top;\n",
       "    }\n",
       "\n",
       "    .dataframe thead th {\n",
       "        text-align: right;\n",
       "    }\n",
       "</style>\n",
       "<table border=\"1\" class=\"dataframe\">\n",
       "  <thead>\n",
       "    <tr style=\"text-align: right;\">\n",
       "      <th></th>\n",
       "      <th>parent</th>\n",
       "      <th>child</th>\n",
       "      <th>value</th>\n",
       "    </tr>\n",
       "  </thead>\n",
       "  <tbody>\n",
       "    <tr>\n",
       "      <th>0</th>\n",
       "      <td>Organelle inheritance</td>\n",
       "      <td>Mitochondrion inheritance</td>\n",
       "      <td>3</td>\n",
       "    </tr>\n",
       "    <tr>\n",
       "      <th>1</th>\n",
       "      <td>Mitochondrion distribution</td>\n",
       "      <td>Mitochondrion inheritance</td>\n",
       "      <td>9</td>\n",
       "    </tr>\n",
       "    <tr>\n",
       "      <th>2</th>\n",
       "      <td>Mitochondrion organization</td>\n",
       "      <td>Mitochondrial genome maintenance</td>\n",
       "      <td>6</td>\n",
       "    </tr>\n",
       "    <tr>\n",
       "      <th>3</th>\n",
       "      <td>Biological_process</td>\n",
       "      <td>Reproduction</td>\n",
       "      <td>2</td>\n",
       "    </tr>\n",
       "    <tr>\n",
       "      <th>4</th>\n",
       "      <td>Zinc ion transmembrane transporter activity</td>\n",
       "      <td>High-affinity zinc transmembrane transporter a...</td>\n",
       "      <td>1</td>\n",
       "    </tr>\n",
       "  </tbody>\n",
       "</table>\n",
       "</div>"
      ],
      "text/plain": [
       "                                        parent  \\\n",
       "0                        Organelle inheritance   \n",
       "1                   Mitochondrion distribution   \n",
       "2                   Mitochondrion organization   \n",
       "3                           Biological_process   \n",
       "4  Zinc ion transmembrane transporter activity   \n",
       "\n",
       "                                               child  value  \n",
       "0                          Mitochondrion inheritance      3  \n",
       "1                          Mitochondrion inheritance      9  \n",
       "2                   Mitochondrial genome maintenance      6  \n",
       "3                                       Reproduction      2  \n",
       "4  High-affinity zinc transmembrane transporter a...      1  "
      ]
     },
     "execution_count": 69,
     "metadata": {},
     "output_type": "execute_result"
    }
   ],
   "source": [
    "ontology = pd.read_csv(go_ontology_path, sep='\\t')\n",
    "ontology.head()"
   ]
  },
  {
   "cell_type": "code",
   "execution_count": 78,
   "id": "bc3a36ad",
   "metadata": {},
   "outputs": [],
   "source": [
    "aux = ontology[(ontology['parent'].isin(enrichment['go_term'])) & (ontology['child'].isin(enrichment['go_term']))]"
   ]
  },
  {
   "cell_type": "code",
   "execution_count": 79,
   "id": "d1d54b92",
   "metadata": {},
   "outputs": [],
   "source": [
    "aux = pd.merge(aux.rename({'child':'go_term'}, axis=1), enrichment[['go_term', 'odds', 'fdr_bh']], on='go_term')"
   ]
  },
  {
   "cell_type": "code",
   "execution_count": 80,
   "id": "da26c36d",
   "metadata": {},
   "outputs": [
    {
     "data": {
      "text/html": [
       "<div>\n",
       "<style scoped>\n",
       "    .dataframe tbody tr th:only-of-type {\n",
       "        vertical-align: middle;\n",
       "    }\n",
       "\n",
       "    .dataframe tbody tr th {\n",
       "        vertical-align: top;\n",
       "    }\n",
       "\n",
       "    .dataframe thead th {\n",
       "        text-align: right;\n",
       "    }\n",
       "</style>\n",
       "<table border=\"1\" class=\"dataframe\">\n",
       "  <thead>\n",
       "    <tr style=\"text-align: right;\">\n",
       "      <th></th>\n",
       "      <th>parent</th>\n",
       "      <th>go_term</th>\n",
       "      <th>value</th>\n",
       "      <th>odds</th>\n",
       "      <th>fdr_bh</th>\n",
       "    </tr>\n",
       "  </thead>\n",
       "  <tbody>\n",
       "    <tr>\n",
       "      <th>0</th>\n",
       "      <td>Response to oxidative stress</td>\n",
       "      <td>Response to reactive oxygen species</td>\n",
       "      <td>6</td>\n",
       "      <td>5.476750</td>\n",
       "      <td>4.629155e-07</td>\n",
       "    </tr>\n",
       "    <tr>\n",
       "      <th>1</th>\n",
       "      <td>Negative regulation of phosphorylation</td>\n",
       "      <td>Negative regulation of protein phosphorylation</td>\n",
       "      <td>9</td>\n",
       "      <td>2.319537</td>\n",
       "      <td>4.242182e-03</td>\n",
       "    </tr>\n",
       "    <tr>\n",
       "      <th>2</th>\n",
       "      <td>Neutrophil activation</td>\n",
       "      <td>Neutrophil activation involved in immune response</td>\n",
       "      <td>9</td>\n",
       "      <td>3.633616</td>\n",
       "      <td>2.839379e-07</td>\n",
       "    </tr>\n",
       "    <tr>\n",
       "      <th>3</th>\n",
       "      <td>Immune response-regulating cell surface recept...</td>\n",
       "      <td>Immune response-activating cell surface recept...</td>\n",
       "      <td>2</td>\n",
       "      <td>3.126843</td>\n",
       "      <td>2.491906e-04</td>\n",
       "    </tr>\n",
       "    <tr>\n",
       "      <th>4</th>\n",
       "      <td>Antigen processing and presentation of exogeno...</td>\n",
       "      <td>Antigen processing and presentation of exogeno...</td>\n",
       "      <td>8</td>\n",
       "      <td>3.853041</td>\n",
       "      <td>4.556691e-04</td>\n",
       "    </tr>\n",
       "  </tbody>\n",
       "</table>\n",
       "</div>"
      ],
      "text/plain": [
       "                                              parent  \\\n",
       "0                       Response to oxidative stress   \n",
       "1             Negative regulation of phosphorylation   \n",
       "2                              Neutrophil activation   \n",
       "3  Immune response-regulating cell surface recept...   \n",
       "4  Antigen processing and presentation of exogeno...   \n",
       "\n",
       "                                             go_term  value      odds  \\\n",
       "0                Response to reactive oxygen species      6  5.476750   \n",
       "1     Negative regulation of protein phosphorylation      9  2.319537   \n",
       "2  Neutrophil activation involved in immune response      9  3.633616   \n",
       "3  Immune response-activating cell surface recept...      2  3.126843   \n",
       "4  Antigen processing and presentation of exogeno...      8  3.853041   \n",
       "\n",
       "         fdr_bh  \n",
       "0  4.629155e-07  \n",
       "1  4.242182e-03  \n",
       "2  2.839379e-07  \n",
       "3  2.491906e-04  \n",
       "4  4.556691e-04  "
      ]
     },
     "execution_count": 80,
     "metadata": {},
     "output_type": "execute_result"
    }
   ],
   "source": [
    "aux.head()"
   ]
  },
  {
   "cell_type": "code",
   "execution_count": 81,
   "id": "149d2312",
   "metadata": {},
   "outputs": [],
   "source": [
    "fig = px.treemap(aux, path=['parent', 'go_term'], values='odds', width=2000, height=1200, hover_data=['fdr_bh', 'odds'])"
   ]
  },
  {
   "cell_type": "code",
   "execution_count": 82,
   "id": "c4ec93be",
   "metadata": {},
   "outputs": [
    {
     "data": {
      "application/vnd.plotly.v1+json": {
       "config": {
        "plotlyServerURL": "https://plot.ly"
       },
       "data": [
        {
         "branchvalues": "total",
         "customdata": [
          [
           1.819566698357154e-08,
           4.306233062330623
          ],
          [
           0.0006401814236577818,
           3.6708247170524535
          ],
          [
           0.0004556691453304286,
           3.853040658751079
          ],
          [
           0.0004556691453304286,
           3.853040658751079
          ],
          [
           0.0009162411065450295,
           3.4851922264469795
          ],
          [
           1.459247949551346e-07,
           4.870763437179049
          ],
          [
           4.286316142349211e-08,
           4.331478644800865
          ],
          [
           0.000556773980295519,
           2.9928812741312742
          ],
          [
           0.000556773980295519,
           2.9928812741312742
          ],
          [
           0.0011166934798201003,
           2.516756610901241
          ],
          [
           1.2159835482577268e-05,
           4.51827944015444
          ],
          [
           0.0007516271608733033,
           3.0176113360323886
          ],
          [
           3.1902862224911027e-07,
           7.1763104152484685
          ],
          [
           0.0005674723991137687,
           2.596393640198396
          ],
          [
           0.0005674723991137687,
           2.596393640198396
          ],
          [
           0.0014249666208456023,
           2.414019175952319
          ],
          [
           0.0019487390874472622,
           2.678621044507332
          ],
          [
           0.00036639104817015453,
           3.976295904124753
          ],
          [
           0.00036639104817015453,
           3.976295904124753
          ],
          [
           1.5026184412739937e-06,
           5.252748215302413
          ],
          [
           1.5026184412739937e-06,
           5.252748215302413
          ],
          [
           6.337365335804306e-05,
           3.77889430291177
          ],
          [
           6.337365335804306e-05,
           3.77889430291177
          ],
          [
           1.884169337984473e-06,
           3.975889328063241
          ],
          [
           1.7072882093646947e-05,
           3.915060836267062
          ],
          [
           1.7072882093646947e-05,
           3.915060836267062
          ],
          [
           5.129621510574802e-07,
           6.811764705882353
          ],
          [
           5.129621510574802e-07,
           6.811764705882353
          ],
          [
           1.819566698357154e-08,
           4.306233062330623
          ],
          [
           0.000222772361670451,
           3.1706758304696447
          ],
          [
           2.517982035791671e-06,
           3.886260769815838
          ],
          [
           2.303115755792033e-06,
           5.365722865722866
          ],
          [
           1.650145052107106e-05,
           6.06262796139222
          ],
          [
           0.0002491905668539952,
           3.12684272763106
          ],
          [
           3.5439912942116353e-06,
           3.7885557920340527
          ],
          [
           5.770773256857654e-08,
           5.203789816321786
          ],
          [
           5.694727578502999e-06,
           6.273560027758501
          ],
          [
           1.6432789726588618e-09,
           4.5261936635430615
          ],
          [
           0.0037136993434985165,
           2.830858696213203
          ],
          [
           0.001195637490835149,
           2.98570527320008
          ],
          [
           0.0007035967067082537,
           3.0408799533799535
          ],
          [
           0.007124213157163026,
           2.5600729290033035
          ],
          [
           0.00417579982552153,
           2.7797887621461768
          ],
          [
           0.00417579982552153,
           2.7797887621461768
          ],
          [
           0.004242181650849286,
           2.3195368462368755
          ],
          [
           7.006137975965991e-12,
           5.000211891732538
          ],
          [
           2.8202214262817372e-08,
           9.230332167832168
          ],
          [
           2.8202214262817372e-08,
           9.230332167832168
          ],
          [
           2.8202214262817372e-08,
           9.230332167832168
          ],
          [
           2.8393787053698277e-07,
           3.633616118769883
          ],
          [
           2.4858464412591497e-07,
           3.66648837541007
          ],
          [
           1.5499501333638892e-06,
           5.6106613525968365
          ],
          [
           2.8202214262817372e-08,
           10.448009791400596
          ],
          [
           2.8202214262817372e-08,
           10.448009791400596
          ],
          [
           9.556755178832264e-06,
           4.958470976875885
          ],
          [
           0.003005039386441788,
           2.3455458695001496
          ],
          [
           0.00036639104817015453,
           3.976295904124753
          ],
          [
           0.00036639104817015453,
           3.976295904124753
          ],
          [
           0.00010637095009354458,
           4.326083825435691
          ],
          [
           0.00010637095009354458,
           4.326083825435691
          ],
          [
           0.00022759465279437546,
           4.247790566231631
          ],
          [
           2.9679075153889288e-05,
           5.576432585214846
          ],
          [
           2.9679075153889288e-05,
           5.576432585214846
          ],
          [
           0.00017333219644251118,
           3.8065329580107905
          ],
          [
           3.7954534219372043e-07,
           3.8817573960764524
          ],
          [
           5.219303821842834e-05,
           4.37032555846833
          ],
          [
           5.219303821842834e-05,
           4.37032555846833
          ],
          [
           5.219303821842834e-05,
           4.37032555846833
          ],
          [
           2.6189032904151652e-05,
           4.166264478764479
          ],
          [
           1.2724644722770947e-09,
           5.94004979253112
          ],
          [
           1.2724644722770947e-09,
           5.94004979253112
          ],
          [
           2.782914783346206e-07,
           4.629568770262468
          ],
          [
           0.00464087969395299,
           2.7305029305793083
          ],
          [
           3.6767792372547303e-07,
           7.050568561872909
          ],
          [
           3.8754091847675206e-05,
           3.3182594359064947
          ],
          [
           2.8647060825752924e-05,
           3.5565210459183674
          ],
          [
           6.725943450778252e-06,
           5.590810316234918
          ],
          [
           0.0002491905668539952,
           3.881485315047225
          ],
          [
           0.00029897337217910797,
           3.794694445615959
          ],
          [
           0.00029897337217910797,
           3.794694445615959
          ],
          [
           3.6825608700117565e-12,
           17.687289746965043
          ],
          [
           3.0940746908987224e-16,
           9.57751721570817
          ],
          [
           3.7569864125369877e-10,
           7.636363636363637
          ],
          [
           3.407616336680124e-05,
           3.3595089099469577
          ],
          [
           2.0018879392460544e-05,
           3.852854450389105
          ],
          [
           2.0018879392460544e-05,
           3.852854450389105
          ],
          [
           0.0014957087384691735,
           2.773170082512643
          ],
          [
           0.00017547534787065117,
           4.397777127815151
          ],
          [
           0.00017547534787065117,
           4.397777127815151
          ],
          [
           0.0009844525889234935,
           3.060656228812891
          ],
          [
           0.0005248471952519694,
           3.7826515186220164
          ],
          [
           0.0005248471952519694,
           3.7826515186220164
          ],
          [
           0.0005645010359115129,
           2.8685551450167837
          ],
          [
           7.692628425335247e-05,
           3.369689781994563
          ],
          [
           2.193319414469441e-06,
           5.823907028223575
          ],
          [
           0.003908444217478195,
           2.4523124115148653
          ],
          [
           0.001958369120257578,
           2.9375880483569765
          ],
          [
           0.0001827833187149158,
           4.043197126178716
          ],
          [
           0.0001827833187149158,
           4.043197126178716
          ],
          [
           0.001449533573025162,
           2.914281421380813
          ],
          [
           0.0003884085298378013,
           3.2673233270794246
          ],
          [
           0.0003884085298378013,
           3.2673233270794246
          ],
          [
           4.963375494714456e-05,
           4.396326346630606
          ],
          [
           6.232672443527061e-05,
           4.010868733256793
          ],
          [
           6.232672443527061e-05,
           4.010868733256793
          ],
          [
           2.012379226377634e-05,
           4.562016514558888
          ],
          [
           2.044974289905549e-07,
           6.337393872277593
          ],
          [
           9.291019898533115e-06,
           4.375310808834284
          ],
          [
           2.012379226377634e-05,
           4.562016514558888
          ],
          [
           0.0005310461211839363,
           3.150105580693816
          ],
          [
           1.8938914098572186e-05,
           5.384899809160306
          ],
          [
           8.217105508034587e-06,
           5.467293117431552
          ],
          [
           0.003608610545201596,
           2.843916349809886
          ],
          [
           6.794643719949513e-06,
           3.469768731865506
          ],
          [
           4.629155158002716e-07,
           5.47675043532472
          ],
          [
           2.8202214262817372e-08,
           9.230332167832168
          ],
          [
           9.291019898533115e-06,
           3.953419811320755
          ],
          [
           4.827847891053122e-06,
           6.39058524173028
          ],
          [
           1.1712758140933049e-08,
           4.285654114225543
          ],
          [
           1.1712758140933049e-08,
           11.578544061302683
          ],
          [
           1.1712758140933049e-08,
           11.578544061302683
          ],
          [
           0.004472499762014959,
           2.4524544953116383
          ],
          [
           0.0020574031190389824,
           2.557053226696084
          ],
          [
           1.819566698357154e-08,
           4.306233062330623
          ],
          [
           "(?)",
           7.1560169434994325
          ],
          [
           0.0004556691453304286,
           3.853040658751079
          ],
          [
           0.0004556691453304286,
           3.853040658751079
          ],
          [
           0.0005674723991137687,
           2.596393640198396
          ],
          [
           1.2159835482577268e-05,
           4.51827944015444
          ],
          [
           "(?)",
           6.971031147353143
          ],
          [
           0.003005039386441788,
           2.3455458695001496
          ],
          [
           0.0020574031190389824,
           2.557053226696084
          ],
          [
           3.1902862224911027e-07,
           7.1763104152484685
          ],
          [
           0.003908444217478195,
           2.4523124115148653
          ],
          [
           0.0005674723991137687,
           2.596393640198396
          ],
          [
           6.337365335804306e-05,
           3.77889430291177
          ],
          [
           0.0019487390874472622,
           2.678621044507332
          ],
          [
           1.5026184412739937e-06,
           5.252748215302413
          ],
          [
           5.129621510574802e-07,
           6.811764705882353
          ],
          [
           1.7072882093646947e-05,
           3.915060836267062
          ],
          [
           0.00036639104817015453,
           3.976295904124753
          ],
          [
           0.000556773980295519,
           2.9928812741312742
          ],
          [
           5.770773256857654e-08,
           5.203789816321786
          ],
          [
           "(?)",
           4.930775786853561
          ],
          [
           3.7569864125369877e-10,
           7.636363636363637
          ],
          [
           2.517982035791671e-06,
           3.886260769815838
          ],
          [
           1.650145052107106e-05,
           6.06262796139222
          ],
          [
           0.000556773980295519,
           2.9928812741312742
          ],
          [
           "(?)",
           8.492565593353927
          ],
          [
           3.5439912942116353e-06,
           3.7885557920340527
          ],
          [
           5.694727578502999e-06,
           6.273560027758501
          ],
          [
           1.5499501333638892e-06,
           5.6106613525968365
          ],
          [
           2.8202214262817372e-08,
           10.448009791400596
          ],
          [
           "(?)",
           10.152826830793806
          ],
          [
           0.000222772361670451,
           3.1706758304696447
          ],
          [
           0.001195637490835149,
           2.98570527320008
          ],
          [
           0.00417579982552153,
           2.7797887621461768
          ],
          [
           0.0007035967067082537,
           3.0408799533799535
          ],
          [
           "(?)",
           4.879609775240179
          ],
          [
           0.00417579982552153,
           2.7797887621461768
          ],
          [
           1.459247949551346e-07,
           4.870763437179049
          ],
          [
           4.286316142349211e-08,
           4.331478644800865
          ],
          [
           2.8202214262817372e-08,
           9.230332167832168
          ],
          [
           2.8393787053698277e-07,
           3.633616118769883
          ],
          [
           2.4858464412591497e-07,
           3.66648837541007
          ],
          [
           2.8202214262817372e-08,
           10.448009791400596
          ],
          [
           1.1712758140933049e-08,
           11.578544061302683
          ],
          [
           9.556755178832264e-06,
           4.958470976875885
          ],
          [
           7.006137975965991e-12,
           5.000211891732538
          ],
          [
           2.9679075153889288e-05,
           5.576432585214846
          ],
          [
           2.782914783346206e-07,
           4.629568770262468
          ],
          [
           3.8754091847675206e-05,
           3.3182594359064947
          ],
          [
           0.00010637095009354458,
           4.326083825435691
          ],
          [
           5.219303821842834e-05,
           4.37032555846833
          ],
          [
           1.2724644722770947e-09,
           5.94004979253112
          ],
          [
           5.219303821842834e-05,
           4.37032555846833
          ],
          [
           2.8647060825752924e-05,
           3.5565210459183674
          ],
          [
           0.00036639104817015453,
           3.976295904124753
          ],
          [
           0.00029897337217910797,
           3.794694445615959
          ],
          [
           0.00029897337217910797,
           3.794694445615959
          ],
          [
           3.6825608700117565e-12,
           17.687289746965043
          ],
          [
           2.0018879392460544e-05,
           3.852854450389105
          ],
          [
           3.407616336680124e-05,
           3.3595089099469577
          ],
          [
           0.00036639104817015453,
           3.976295904124753
          ],
          [
           0.0037136993434985165,
           2.830858696213203
          ],
          [
           0.001958369120257578,
           2.9375880483569765
          ],
          [
           0.00017547534787065117,
           4.397777127815151
          ],
          [
           "(?)",
           8.180428646437168
          ],
          [
           0.00010637095009354458,
           4.326083825435691
          ],
          [
           "(?)",
           9.193596810218137
          ],
          [
           0.00022759465279437546,
           4.247790566231631
          ],
          [
           2.9679075153889288e-05,
           5.576432585214846
          ],
          [
           0.00017333219644251118,
           3.8065329580107905
          ],
          [
           2.044974289905549e-07,
           6.337393872277593
          ],
          [
           3.7954534219372043e-07,
           3.8817573960764524
          ],
          [
           6.232672443527061e-05,
           4.010868733256793
          ],
          [
           5.219303821842834e-05,
           4.37032555846833
          ],
          [
           "(?)",
           7.0805459001452915
          ],
          [
           "(?)",
           6.135878472096208
          ],
          [
           0.0005248471952519694,
           3.7826515186220164
          ],
          [
           1.2724644722770947e-09,
           5.94004979253112
          ],
          [
           0.0009844525889234935,
           3.060656228812891
          ],
          [
           2.8202214262817372e-08,
           9.230332167832168
          ],
          [
           0.0001827833187149158,
           4.043197126178716
          ],
          [
           6.232672443527061e-05,
           4.010868733256793
          ],
          [
           0.00464087969395299,
           2.7305029305793083
          ],
          [
           3.6767792372547303e-07,
           7.050568561872909
          ],
          [
           0.0001827833187149158,
           4.043197126178716
          ],
          [
           1.8938914098572186e-05,
           5.384899809160306
          ],
          [
           2.012379226377634e-05,
           4.562016514558888
          ],
          [
           4.963375494714456e-05,
           4.396326346630606
          ],
          [
           9.291019898533115e-06,
           4.375310808834284
          ],
          [
           2.0018879392460544e-05,
           3.852854450389105
          ],
          [
           1.6432789726588618e-09,
           4.5261936635430615
          ],
          [
           0.0003884085298378013,
           3.2673233270794246
          ],
          [
           0.0005310461211839363,
           3.150105580693816
          ],
          [
           "(?)",
           6.654655397559868
          ],
          [
           0.00036639104817015453,
           3.976295904124753
          ],
          [
           "(?)",
           10.720041332733965
          ],
          [
           "(?)",
           9.25564473823649
          ],
          [
           "(?)",
           7.445658059928747
          ],
          [
           "(?)",
           6.758977186076947
          ],
          [
           5.129621510574802e-07,
           6.811764705882353
          ],
          [
           0.004472499762014959,
           2.4524544953116383
          ],
          [
           2.8202214262817372e-08,
           9.230332167832168
          ],
          [
           2.8202214262817372e-08,
           9.230332167832168
          ],
          [
           3.0940746908987224e-16,
           9.57751721570817
          ],
          [
           1.1712758140933049e-08,
           4.285654114225543
          ],
          [
           1.819566698357154e-08,
           4.306233062330623
          ],
          [
           1.1712758140933049e-08,
           11.578544061302683
          ],
          [
           4.827847891053122e-06,
           6.39058524173028
          ]
         ],
         "domain": {
          "x": [
           0,
           1
          ],
          "y": [
           0,
           1
          ]
         },
         "hovertemplate": "labels=%{label}<br>odds=%{customdata[1]}<br>parent=%{parent}<br>id=%{id}<br>fdr_bh=%{customdata[0]}<extra></extra>",
         "ids": [
          "Trans-synaptic signaling/Anterograde trans-synaptic signaling",
          "Antigen processing and presentation/Antigen processing and presentation of exogenous antigen",
          "Antigen processing and presentation of exogenous antigen/Antigen processing and presentation of exogenous peptide antigen",
          "Antigen processing and presentation of peptide antigen/Antigen processing and presentation of exogenous peptide antigen",
          "Antigen processing and presentation/Antigen processing and presentation of peptide antigen",
          "Neuron projection guidance/Axon guidance",
          "Neuron projection morphogenesis/Axonogenesis",
          "Coagulation/Blood coagulation",
          "Hemostasis/Blood coagulation",
          "Divalent inorganic cation homeostasis/Calcium ion homeostasis",
          "Calcium ion transport/Calcium ion transmembrane transport",
          "Cell junction organization/Cell junction assembly",
          "Cell-substrate adhesion/Cell-matrix adhesion",
          "Calcium ion homeostasis/Cellular calcium ion homeostasis",
          "Cellular divalent inorganic cation homeostasis/Cellular calcium ion homeostasis",
          "Divalent inorganic cation homeostasis/Cellular divalent inorganic cation homeostasis",
          "Cellular response to environmental stimulus/Cellular response to abiotic stimulus",
          "Cellular response to peptide hormone stimulus/Cellular response to insulin stimulus",
          "Response to insulin/Cellular response to insulin stimulus",
          "Cellular response to inorganic substance/Cellular response to metal ion",
          "Response to metal ion/Cellular response to metal ion",
          "Cellular response to chemical stress/Cellular response to oxidative stress",
          "Response to oxidative stress/Cellular response to oxidative stress",
          "Response to peptide/Cellular response to peptide",
          "Cellular response to peptide/Cellular response to peptide hormone stimulus",
          "Response to peptide hormone/Cellular response to peptide hormone stimulus",
          "Cellular response to oxidative stress/Cellular response to reactive oxygen species",
          "Response to reactive oxygen species/Cellular response to reactive oxygen species",
          "Anterograde trans-synaptic signaling/Chemical synaptic transmission",
          "Morphogenesis of an epithelium/Epithelial tube morphogenesis",
          "Extracellular structure organization/Extracellular matrix organization",
          "Immune response-regulating cell surface receptor signaling pathway/Fc receptor signaling pathway",
          "Fc receptor signaling pathway/Fc-epsilon receptor signaling pathway",
          "Immune response-regulating cell surface receptor signaling pathway/Immune response-activating cell surface receptor signaling pathway",
          "Immune response-regulating signaling pathway/Immune response-regulating cell surface receptor signaling pathway",
          "Cognition/Learning or memory",
          "Learning or memory/Memory",
          "Regulation of trans-synaptic signaling/Modulation of chemical synaptic transmission",
          "Regulation of apoptotic signaling pathway/Negative regulation of apoptotic signaling pathway",
          "Negative regulation of cell motility/Negative regulation of cell migration",
          "Negative regulation of locomotion/Negative regulation of cell motility",
          "Negative regulation of phosphorylation/Negative regulation of kinase activity",
          "Negative regulation of kinase activity/Negative regulation of protein kinase activity",
          "Negative regulation of protein phosphorylation/Negative regulation of protein kinase activity",
          "Negative regulation of phosphorylation/Negative regulation of protein phosphorylation",
          "Plasma membrane bounded cell projection morphogenesis/Neuron projection morphogenesis",
          "Neurotransmitter transport/Neurotransmitter secretion",
          "Regulation of neurotransmitter levels/Neurotransmitter secretion",
          "Signal release from synapse/Neurotransmitter secretion",
          "Neutrophil activation/Neutrophil activation involved in immune response",
          "Neutrophil activation involved in immune response/Neutrophil degranulation",
          "Membrane docking/Organelle localization by membrane tethering",
          "Membrane fusion/Organelle membrane fusion",
          "Organelle fusion/Organelle membrane fusion",
          "Peptidyl-serine modification/Peptidyl-serine phosphorylation",
          "Cell projection assembly/Plasma membrane bounded cell projection assembly",
          "Positive regulation of vasculature development/Positive regulation of angiogenesis",
          "Regulation of angiogenesis/Positive regulation of angiogenesis",
          "Positive regulation of growth/Positive regulation of cell growth",
          "Regulation of cell growth/Positive regulation of cell growth",
          "Regulation of cell morphogenesis involved in differentiation/Positive regulation of cell morphogenesis involved in differentiation",
          "Positive regulation of cell adhesion/Positive regulation of cell-substrate adhesion",
          "Regulation of cell-substrate adhesion/Positive regulation of cell-substrate adhesion",
          "Regulation of erk1 and erk2 cascade/Positive regulation of erk1 and erk2 cascade",
          "Regulation of gtpase activity/Positive regulation of gtpase activity",
          "Positive regulation of intracellular transport/Positive regulation of intracellular protein transport",
          "Positive regulation of protein transport/Positive regulation of intracellular protein transport",
          "Regulation of intracellular protein transport/Positive regulation of intracellular protein transport",
          "Regulation of intracellular transport/Positive regulation of intracellular transport",
          "Positive regulation of protein serine/threonine kinase activity/Positive regulation of map kinase activity",
          "Regulation of map kinase activity/Positive regulation of map kinase activity",
          "Positive regulation of cell projection organization/Positive regulation of neuron projection development",
          "Regulation of protein catabolic process/Positive regulation of protein catabolic process",
          "Regulation of protein localization to membrane/Positive regulation of protein localization to membrane",
          "Positive regulation of establishment of protein localization/Positive regulation of protein transport",
          "Positive regulation of secretion/Positive regulation of secretion by cell",
          "Modulation of chemical synaptic transmission/Positive regulation of synaptic transmission",
          "Regulation of vasculature development/Positive regulation of vasculature development",
          "Protein localization to cell periphery/Protein localization to plasma membrane",
          "Protein localization to membrane/Protein localization to plasma membrane",
          "Ras protein signal transduction/Rab protein signal transduction",
          "Small gtpase mediated signal transduction/Ras protein signal transduction",
          "Endocytosis/Receptor-mediated endocytosis",
          "Regulation of actin filament-based process/Regulation of actin cytoskeleton organization",
          "Regulation of actin cytoskeleton organization/Regulation of actin filament organization",
          "Regulation of supramolecular fiber organization/Regulation of actin filament organization",
          "Regulation of vasculature development/Regulation of angiogenesis",
          "Regulation of calcium ion transport/Regulation of calcium ion transmembrane transport",
          "Regulation of cation transmembrane transport/Regulation of calcium ion transmembrane transport",
          "Regulation of metal ion transport/Regulation of calcium ion transport",
          "Regulation of cation transmembrane transport/Regulation of cation channel activity",
          "Regulation of ion transmembrane transporter activity/Regulation of cation channel activity",
          "Regulation of ion transmembrane transport/Regulation of cation transmembrane transport",
          "Regulation of cell morphogenesis/Regulation of cell morphogenesis involved in differentiation",
          "Regulation of cell morphogenesis/Regulation of cell shape",
          "Cellular calcium ion homeostasis/Regulation of cytosolic calcium ion concentration",
          "Regulation of blood circulation/Regulation of heart contraction",
          "Regulation of peptide hormone secretion/Regulation of insulin secretion",
          "Regulation of protein secretion/Regulation of insulin secretion",
          "Regulation of intracellular transport/Regulation of intracellular protein transport",
          "Regulation of ion transmembrane transport/Regulation of ion transmembrane transporter activity",
          "Regulation of transmembrane transporter activity/Regulation of ion transmembrane transporter activity",
          "Regulation of stress-activated mapk cascade/Regulation of jnk cascade",
          "Regulation of hormone secretion/Regulation of peptide hormone secretion",
          "Regulation of peptide secretion/Regulation of peptide hormone secretion",
          "Regulation of small gtpase mediated signal transduction/Regulation of ras protein signal transduction",
          "Regulation of exocytosis/Regulation of regulated secretory pathway",
          "Regulation of stress-activated protein kinase signaling cascade/Regulation of stress-activated mapk cascade",
          "Modulation of chemical synaptic transmission/Regulation of synaptic plasticity",
          "Regulation of transporter activity/Regulation of transmembrane transporter activity",
          "Regulation of response to wounding/Regulation of wound healing",
          "Response to metal ion/Response to calcium ion",
          "Response to peptide hormone/Response to insulin",
          "Response to peptide/Response to peptide hormone",
          "Response to oxidative stress/Response to reactive oxygen species",
          "Signal release/Signal release from synapse",
          "Cell junction organization/Synapse organization",
          "Vesicle-mediated transport in synapse/Synaptic vesicle cycle",
          "Synaptic signaling/Trans-synaptic signaling",
          "Organelle membrane fusion/Vesicle fusion",
          "Vesicle organization/Vesicle fusion",
          "Sensory system development/Visual system development",
          "Cell surface receptor signaling pathway involved in cell-cell signaling/Wnt signaling pathway",
          "Anterograde trans-synaptic signaling",
          "Antigen processing and presentation",
          "Antigen processing and presentation of exogenous antigen",
          "Antigen processing and presentation of peptide antigen",
          "Calcium ion homeostasis",
          "Calcium ion transport",
          "Cell junction organization",
          "Cell projection assembly",
          "Cell surface receptor signaling pathway involved in cell-cell signaling",
          "Cell-substrate adhesion",
          "Cellular calcium ion homeostasis",
          "Cellular divalent inorganic cation homeostasis",
          "Cellular response to chemical stress",
          "Cellular response to environmental stimulus",
          "Cellular response to inorganic substance",
          "Cellular response to oxidative stress",
          "Cellular response to peptide",
          "Cellular response to peptide hormone stimulus",
          "Coagulation",
          "Cognition",
          "Divalent inorganic cation homeostasis",
          "Endocytosis",
          "Extracellular structure organization",
          "Fc receptor signaling pathway",
          "Hemostasis",
          "Immune response-regulating cell surface receptor signaling pathway",
          "Immune response-regulating signaling pathway",
          "Learning or memory",
          "Membrane docking",
          "Membrane fusion",
          "Modulation of chemical synaptic transmission",
          "Morphogenesis of an epithelium",
          "Negative regulation of cell motility",
          "Negative regulation of kinase activity",
          "Negative regulation of locomotion",
          "Negative regulation of phosphorylation",
          "Negative regulation of protein phosphorylation",
          "Neuron projection guidance",
          "Neuron projection morphogenesis",
          "Neurotransmitter transport",
          "Neutrophil activation",
          "Neutrophil activation involved in immune response",
          "Organelle fusion",
          "Organelle membrane fusion",
          "Peptidyl-serine modification",
          "Plasma membrane bounded cell projection morphogenesis",
          "Positive regulation of cell adhesion",
          "Positive regulation of cell projection organization",
          "Positive regulation of establishment of protein localization",
          "Positive regulation of growth",
          "Positive regulation of intracellular transport",
          "Positive regulation of protein serine/threonine kinase activity",
          "Positive regulation of protein transport",
          "Positive regulation of secretion",
          "Positive regulation of vasculature development",
          "Protein localization to cell periphery",
          "Protein localization to membrane",
          "Ras protein signal transduction",
          "Regulation of actin cytoskeleton organization",
          "Regulation of actin filament-based process",
          "Regulation of angiogenesis",
          "Regulation of apoptotic signaling pathway",
          "Regulation of blood circulation",
          "Regulation of calcium ion transport",
          "Regulation of cation transmembrane transport",
          "Regulation of cell growth",
          "Regulation of cell morphogenesis",
          "Regulation of cell morphogenesis involved in differentiation",
          "Regulation of cell-substrate adhesion",
          "Regulation of erk1 and erk2 cascade",
          "Regulation of exocytosis",
          "Regulation of gtpase activity",
          "Regulation of hormone secretion",
          "Regulation of intracellular protein transport",
          "Regulation of intracellular transport",
          "Regulation of ion transmembrane transport",
          "Regulation of ion transmembrane transporter activity",
          "Regulation of map kinase activity",
          "Regulation of metal ion transport",
          "Regulation of neurotransmitter levels",
          "Regulation of peptide hormone secretion",
          "Regulation of peptide secretion",
          "Regulation of protein catabolic process",
          "Regulation of protein localization to membrane",
          "Regulation of protein secretion",
          "Regulation of response to wounding",
          "Regulation of small gtpase mediated signal transduction",
          "Regulation of stress-activated mapk cascade",
          "Regulation of stress-activated protein kinase signaling cascade",
          "Regulation of supramolecular fiber organization",
          "Regulation of trans-synaptic signaling",
          "Regulation of transmembrane transporter activity",
          "Regulation of transporter activity",
          "Regulation of vasculature development",
          "Response to insulin",
          "Response to metal ion",
          "Response to oxidative stress",
          "Response to peptide",
          "Response to peptide hormone",
          "Response to reactive oxygen species",
          "Sensory system development",
          "Signal release",
          "Signal release from synapse",
          "Small gtpase mediated signal transduction",
          "Synaptic signaling",
          "Trans-synaptic signaling",
          "Vesicle organization",
          "Vesicle-mediated transport in synapse"
         ],
         "labels": [
          "Anterograde trans-synaptic signaling",
          "Antigen processing and presentation of exogenous antigen",
          "Antigen processing and presentation of exogenous peptide antigen",
          "Antigen processing and presentation of exogenous peptide antigen",
          "Antigen processing and presentation of peptide antigen",
          "Axon guidance",
          "Axonogenesis",
          "Blood coagulation",
          "Blood coagulation",
          "Calcium ion homeostasis",
          "Calcium ion transmembrane transport",
          "Cell junction assembly",
          "Cell-matrix adhesion",
          "Cellular calcium ion homeostasis",
          "Cellular calcium ion homeostasis",
          "Cellular divalent inorganic cation homeostasis",
          "Cellular response to abiotic stimulus",
          "Cellular response to insulin stimulus",
          "Cellular response to insulin stimulus",
          "Cellular response to metal ion",
          "Cellular response to metal ion",
          "Cellular response to oxidative stress",
          "Cellular response to oxidative stress",
          "Cellular response to peptide",
          "Cellular response to peptide hormone stimulus",
          "Cellular response to peptide hormone stimulus",
          "Cellular response to reactive oxygen species",
          "Cellular response to reactive oxygen species",
          "Chemical synaptic transmission",
          "Epithelial tube morphogenesis",
          "Extracellular matrix organization",
          "Fc receptor signaling pathway",
          "Fc-epsilon receptor signaling pathway",
          "Immune response-activating cell surface receptor signaling pathway",
          "Immune response-regulating cell surface receptor signaling pathway",
          "Learning or memory",
          "Memory",
          "Modulation of chemical synaptic transmission",
          "Negative regulation of apoptotic signaling pathway",
          "Negative regulation of cell migration",
          "Negative regulation of cell motility",
          "Negative regulation of kinase activity",
          "Negative regulation of protein kinase activity",
          "Negative regulation of protein kinase activity",
          "Negative regulation of protein phosphorylation",
          "Neuron projection morphogenesis",
          "Neurotransmitter secretion",
          "Neurotransmitter secretion",
          "Neurotransmitter secretion",
          "Neutrophil activation involved in immune response",
          "Neutrophil degranulation",
          "Organelle localization by membrane tethering",
          "Organelle membrane fusion",
          "Organelle membrane fusion",
          "Peptidyl-serine phosphorylation",
          "Plasma membrane bounded cell projection assembly",
          "Positive regulation of angiogenesis",
          "Positive regulation of angiogenesis",
          "Positive regulation of cell growth",
          "Positive regulation of cell growth",
          "Positive regulation of cell morphogenesis involved in differentiation",
          "Positive regulation of cell-substrate adhesion",
          "Positive regulation of cell-substrate adhesion",
          "Positive regulation of erk1 and erk2 cascade",
          "Positive regulation of gtpase activity",
          "Positive regulation of intracellular protein transport",
          "Positive regulation of intracellular protein transport",
          "Positive regulation of intracellular protein transport",
          "Positive regulation of intracellular transport",
          "Positive regulation of map kinase activity",
          "Positive regulation of map kinase activity",
          "Positive regulation of neuron projection development",
          "Positive regulation of protein catabolic process",
          "Positive regulation of protein localization to membrane",
          "Positive regulation of protein transport",
          "Positive regulation of secretion by cell",
          "Positive regulation of synaptic transmission",
          "Positive regulation of vasculature development",
          "Protein localization to plasma membrane",
          "Protein localization to plasma membrane",
          "Rab protein signal transduction",
          "Ras protein signal transduction",
          "Receptor-mediated endocytosis",
          "Regulation of actin cytoskeleton organization",
          "Regulation of actin filament organization",
          "Regulation of actin filament organization",
          "Regulation of angiogenesis",
          "Regulation of calcium ion transmembrane transport",
          "Regulation of calcium ion transmembrane transport",
          "Regulation of calcium ion transport",
          "Regulation of cation channel activity",
          "Regulation of cation channel activity",
          "Regulation of cation transmembrane transport",
          "Regulation of cell morphogenesis involved in differentiation",
          "Regulation of cell shape",
          "Regulation of cytosolic calcium ion concentration",
          "Regulation of heart contraction",
          "Regulation of insulin secretion",
          "Regulation of insulin secretion",
          "Regulation of intracellular protein transport",
          "Regulation of ion transmembrane transporter activity",
          "Regulation of ion transmembrane transporter activity",
          "Regulation of jnk cascade",
          "Regulation of peptide hormone secretion",
          "Regulation of peptide hormone secretion",
          "Regulation of ras protein signal transduction",
          "Regulation of regulated secretory pathway",
          "Regulation of stress-activated mapk cascade",
          "Regulation of synaptic plasticity",
          "Regulation of transmembrane transporter activity",
          "Regulation of wound healing",
          "Response to calcium ion",
          "Response to insulin",
          "Response to peptide hormone",
          "Response to reactive oxygen species",
          "Signal release from synapse",
          "Synapse organization",
          "Synaptic vesicle cycle",
          "Trans-synaptic signaling",
          "Vesicle fusion",
          "Vesicle fusion",
          "Visual system development",
          "Wnt signaling pathway",
          "Anterograde trans-synaptic signaling",
          "Antigen processing and presentation",
          "Antigen processing and presentation of exogenous antigen",
          "Antigen processing and presentation of peptide antigen",
          "Calcium ion homeostasis",
          "Calcium ion transport",
          "Cell junction organization",
          "Cell projection assembly",
          "Cell surface receptor signaling pathway involved in cell-cell signaling",
          "Cell-substrate adhesion",
          "Cellular calcium ion homeostasis",
          "Cellular divalent inorganic cation homeostasis",
          "Cellular response to chemical stress",
          "Cellular response to environmental stimulus",
          "Cellular response to inorganic substance",
          "Cellular response to oxidative stress",
          "Cellular response to peptide",
          "Cellular response to peptide hormone stimulus",
          "Coagulation",
          "Cognition",
          "Divalent inorganic cation homeostasis",
          "Endocytosis",
          "Extracellular structure organization",
          "Fc receptor signaling pathway",
          "Hemostasis",
          "Immune response-regulating cell surface receptor signaling pathway",
          "Immune response-regulating signaling pathway",
          "Learning or memory",
          "Membrane docking",
          "Membrane fusion",
          "Modulation of chemical synaptic transmission",
          "Morphogenesis of an epithelium",
          "Negative regulation of cell motility",
          "Negative regulation of kinase activity",
          "Negative regulation of locomotion",
          "Negative regulation of phosphorylation",
          "Negative regulation of protein phosphorylation",
          "Neuron projection guidance",
          "Neuron projection morphogenesis",
          "Neurotransmitter transport",
          "Neutrophil activation",
          "Neutrophil activation involved in immune response",
          "Organelle fusion",
          "Organelle membrane fusion",
          "Peptidyl-serine modification",
          "Plasma membrane bounded cell projection morphogenesis",
          "Positive regulation of cell adhesion",
          "Positive regulation of cell projection organization",
          "Positive regulation of establishment of protein localization",
          "Positive regulation of growth",
          "Positive regulation of intracellular transport",
          "Positive regulation of protein serine/threonine kinase activity",
          "Positive regulation of protein transport",
          "Positive regulation of secretion",
          "Positive regulation of vasculature development",
          "Protein localization to cell periphery",
          "Protein localization to membrane",
          "Ras protein signal transduction",
          "Regulation of actin cytoskeleton organization",
          "Regulation of actin filament-based process",
          "Regulation of angiogenesis",
          "Regulation of apoptotic signaling pathway",
          "Regulation of blood circulation",
          "Regulation of calcium ion transport",
          "Regulation of cation transmembrane transport",
          "Regulation of cell growth",
          "Regulation of cell morphogenesis",
          "Regulation of cell morphogenesis involved in differentiation",
          "Regulation of cell-substrate adhesion",
          "Regulation of erk1 and erk2 cascade",
          "Regulation of exocytosis",
          "Regulation of gtpase activity",
          "Regulation of hormone secretion",
          "Regulation of intracellular protein transport",
          "Regulation of intracellular transport",
          "Regulation of ion transmembrane transport",
          "Regulation of ion transmembrane transporter activity",
          "Regulation of map kinase activity",
          "Regulation of metal ion transport",
          "Regulation of neurotransmitter levels",
          "Regulation of peptide hormone secretion",
          "Regulation of peptide secretion",
          "Regulation of protein catabolic process",
          "Regulation of protein localization to membrane",
          "Regulation of protein secretion",
          "Regulation of response to wounding",
          "Regulation of small gtpase mediated signal transduction",
          "Regulation of stress-activated mapk cascade",
          "Regulation of stress-activated protein kinase signaling cascade",
          "Regulation of supramolecular fiber organization",
          "Regulation of trans-synaptic signaling",
          "Regulation of transmembrane transporter activity",
          "Regulation of transporter activity",
          "Regulation of vasculature development",
          "Response to insulin",
          "Response to metal ion",
          "Response to oxidative stress",
          "Response to peptide",
          "Response to peptide hormone",
          "Response to reactive oxygen species",
          "Sensory system development",
          "Signal release",
          "Signal release from synapse",
          "Small gtpase mediated signal transduction",
          "Synaptic signaling",
          "Trans-synaptic signaling",
          "Vesicle organization",
          "Vesicle-mediated transport in synapse"
         ],
         "name": "",
         "parents": [
          "Trans-synaptic signaling",
          "Antigen processing and presentation",
          "Antigen processing and presentation of exogenous antigen",
          "Antigen processing and presentation of peptide antigen",
          "Antigen processing and presentation",
          "Neuron projection guidance",
          "Neuron projection morphogenesis",
          "Coagulation",
          "Hemostasis",
          "Divalent inorganic cation homeostasis",
          "Calcium ion transport",
          "Cell junction organization",
          "Cell-substrate adhesion",
          "Calcium ion homeostasis",
          "Cellular divalent inorganic cation homeostasis",
          "Divalent inorganic cation homeostasis",
          "Cellular response to environmental stimulus",
          "Cellular response to peptide hormone stimulus",
          "Response to insulin",
          "Cellular response to inorganic substance",
          "Response to metal ion",
          "Cellular response to chemical stress",
          "Response to oxidative stress",
          "Response to peptide",
          "Cellular response to peptide",
          "Response to peptide hormone",
          "Cellular response to oxidative stress",
          "Response to reactive oxygen species",
          "Anterograde trans-synaptic signaling",
          "Morphogenesis of an epithelium",
          "Extracellular structure organization",
          "Immune response-regulating cell surface receptor signaling pathway",
          "Fc receptor signaling pathway",
          "Immune response-regulating cell surface receptor signaling pathway",
          "Immune response-regulating signaling pathway",
          "Cognition",
          "Learning or memory",
          "Regulation of trans-synaptic signaling",
          "Regulation of apoptotic signaling pathway",
          "Negative regulation of cell motility",
          "Negative regulation of locomotion",
          "Negative regulation of phosphorylation",
          "Negative regulation of kinase activity",
          "Negative regulation of protein phosphorylation",
          "Negative regulation of phosphorylation",
          "Plasma membrane bounded cell projection morphogenesis",
          "Neurotransmitter transport",
          "Regulation of neurotransmitter levels",
          "Signal release from synapse",
          "Neutrophil activation",
          "Neutrophil activation involved in immune response",
          "Membrane docking",
          "Membrane fusion",
          "Organelle fusion",
          "Peptidyl-serine modification",
          "Cell projection assembly",
          "Positive regulation of vasculature development",
          "Regulation of angiogenesis",
          "Positive regulation of growth",
          "Regulation of cell growth",
          "Regulation of cell morphogenesis involved in differentiation",
          "Positive regulation of cell adhesion",
          "Regulation of cell-substrate adhesion",
          "Regulation of erk1 and erk2 cascade",
          "Regulation of gtpase activity",
          "Positive regulation of intracellular transport",
          "Positive regulation of protein transport",
          "Regulation of intracellular protein transport",
          "Regulation of intracellular transport",
          "Positive regulation of protein serine/threonine kinase activity",
          "Regulation of map kinase activity",
          "Positive regulation of cell projection organization",
          "Regulation of protein catabolic process",
          "Regulation of protein localization to membrane",
          "Positive regulation of establishment of protein localization",
          "Positive regulation of secretion",
          "Modulation of chemical synaptic transmission",
          "Regulation of vasculature development",
          "Protein localization to cell periphery",
          "Protein localization to membrane",
          "Ras protein signal transduction",
          "Small gtpase mediated signal transduction",
          "Endocytosis",
          "Regulation of actin filament-based process",
          "Regulation of actin cytoskeleton organization",
          "Regulation of supramolecular fiber organization",
          "Regulation of vasculature development",
          "Regulation of calcium ion transport",
          "Regulation of cation transmembrane transport",
          "Regulation of metal ion transport",
          "Regulation of cation transmembrane transport",
          "Regulation of ion transmembrane transporter activity",
          "Regulation of ion transmembrane transport",
          "Regulation of cell morphogenesis",
          "Regulation of cell morphogenesis",
          "Cellular calcium ion homeostasis",
          "Regulation of blood circulation",
          "Regulation of peptide hormone secretion",
          "Regulation of protein secretion",
          "Regulation of intracellular transport",
          "Regulation of ion transmembrane transport",
          "Regulation of transmembrane transporter activity",
          "Regulation of stress-activated mapk cascade",
          "Regulation of hormone secretion",
          "Regulation of peptide secretion",
          "Regulation of small gtpase mediated signal transduction",
          "Regulation of exocytosis",
          "Regulation of stress-activated protein kinase signaling cascade",
          "Modulation of chemical synaptic transmission",
          "Regulation of transporter activity",
          "Regulation of response to wounding",
          "Response to metal ion",
          "Response to peptide hormone",
          "Response to peptide",
          "Response to oxidative stress",
          "Signal release",
          "Cell junction organization",
          "Vesicle-mediated transport in synapse",
          "Synaptic signaling",
          "Organelle membrane fusion",
          "Vesicle organization",
          "Sensory system development",
          "Cell surface receptor signaling pathway involved in cell-cell signaling",
          "",
          "",
          "",
          "",
          "",
          "",
          "",
          "",
          "",
          "",
          "",
          "",
          "",
          "",
          "",
          "",
          "",
          "",
          "",
          "",
          "",
          "",
          "",
          "",
          "",
          "",
          "",
          "",
          "",
          "",
          "",
          "",
          "",
          "",
          "",
          "",
          "",
          "",
          "",
          "",
          "",
          "",
          "",
          "",
          "",
          "",
          "",
          "",
          "",
          "",
          "",
          "",
          "",
          "",
          "",
          "",
          "",
          "",
          "",
          "",
          "",
          "",
          "",
          "",
          "",
          "",
          "",
          "",
          "",
          "",
          "",
          "",
          "",
          "",
          "",
          "",
          "",
          "",
          "",
          "",
          "",
          "",
          "",
          "",
          "",
          "",
          "",
          "",
          "",
          "",
          "",
          "",
          "",
          "",
          "",
          "",
          "",
          "",
          "",
          "",
          "",
          "",
          "",
          "",
          "",
          "",
          "",
          ""
         ],
         "type": "treemap",
         "values": [
          4.306233062330623,
          3.6708247170524535,
          3.853040658751079,
          3.853040658751079,
          3.4851922264469795,
          4.870763437179049,
          4.331478644800865,
          2.9928812741312742,
          2.9928812741312742,
          2.516756610901241,
          4.51827944015444,
          3.0176113360323886,
          7.1763104152484685,
          2.596393640198396,
          2.596393640198396,
          2.414019175952319,
          2.678621044507332,
          3.976295904124753,
          3.976295904124753,
          5.252748215302413,
          5.252748215302413,
          3.77889430291177,
          3.77889430291177,
          3.975889328063241,
          3.915060836267062,
          3.915060836267062,
          6.811764705882353,
          6.811764705882353,
          4.306233062330623,
          3.1706758304696447,
          3.886260769815838,
          5.365722865722866,
          6.06262796139222,
          3.12684272763106,
          3.7885557920340527,
          5.203789816321786,
          6.273560027758501,
          4.5261936635430615,
          2.830858696213203,
          2.98570527320008,
          3.0408799533799535,
          2.5600729290033035,
          2.7797887621461768,
          2.7797887621461768,
          2.3195368462368755,
          5.000211891732538,
          9.230332167832168,
          9.230332167832168,
          9.230332167832168,
          3.633616118769883,
          3.66648837541007,
          5.6106613525968365,
          10.448009791400596,
          10.448009791400596,
          4.958470976875885,
          2.3455458695001496,
          3.976295904124753,
          3.976295904124753,
          4.326083825435691,
          4.326083825435691,
          4.247790566231631,
          5.576432585214846,
          5.576432585214846,
          3.8065329580107905,
          3.8817573960764524,
          4.37032555846833,
          4.37032555846833,
          4.37032555846833,
          4.166264478764479,
          5.94004979253112,
          5.94004979253112,
          4.629568770262468,
          2.7305029305793083,
          7.050568561872909,
          3.3182594359064947,
          3.5565210459183674,
          5.590810316234918,
          3.881485315047225,
          3.794694445615959,
          3.794694445615959,
          17.687289746965043,
          9.57751721570817,
          7.636363636363637,
          3.3595089099469577,
          3.852854450389105,
          3.852854450389105,
          2.773170082512643,
          4.397777127815151,
          4.397777127815151,
          3.060656228812891,
          3.7826515186220164,
          3.7826515186220164,
          2.8685551450167837,
          3.369689781994563,
          5.823907028223575,
          2.4523124115148653,
          2.9375880483569765,
          4.043197126178716,
          4.043197126178716,
          2.914281421380813,
          3.2673233270794246,
          3.2673233270794246,
          4.396326346630606,
          4.010868733256793,
          4.010868733256793,
          4.562016514558888,
          6.337393872277593,
          4.375310808834284,
          4.562016514558888,
          3.150105580693816,
          5.384899809160306,
          5.467293117431552,
          2.843916349809886,
          3.469768731865506,
          5.47675043532472,
          9.230332167832168,
          3.953419811320755,
          6.39058524173028,
          4.285654114225543,
          11.578544061302683,
          11.578544061302683,
          2.4524544953116383,
          2.557053226696084,
          4.306233062330623,
          7.1560169434994325,
          3.853040658751079,
          3.853040658751079,
          2.596393640198396,
          4.51827944015444,
          6.971031147353143,
          2.3455458695001496,
          2.557053226696084,
          7.1763104152484685,
          2.4523124115148653,
          2.596393640198396,
          3.77889430291177,
          2.678621044507332,
          5.252748215302413,
          6.811764705882353,
          3.915060836267062,
          3.976295904124753,
          2.9928812741312742,
          5.203789816321786,
          4.930775786853561,
          7.636363636363637,
          3.886260769815838,
          6.06262796139222,
          2.9928812741312742,
          8.492565593353927,
          3.7885557920340527,
          6.273560027758501,
          5.6106613525968365,
          10.448009791400596,
          10.152826830793806,
          3.1706758304696447,
          2.98570527320008,
          2.7797887621461768,
          3.0408799533799535,
          4.879609775240179,
          2.7797887621461768,
          4.870763437179049,
          4.331478644800865,
          9.230332167832168,
          3.633616118769883,
          3.66648837541007,
          10.448009791400596,
          11.578544061302683,
          4.958470976875885,
          5.000211891732538,
          5.576432585214846,
          4.629568770262468,
          3.3182594359064947,
          4.326083825435691,
          4.37032555846833,
          5.94004979253112,
          4.37032555846833,
          3.5565210459183674,
          3.976295904124753,
          3.794694445615959,
          3.794694445615959,
          17.687289746965043,
          3.852854450389105,
          3.3595089099469577,
          3.976295904124753,
          2.830858696213203,
          2.9375880483569765,
          4.397777127815151,
          8.180428646437168,
          4.326083825435691,
          9.193596810218137,
          4.247790566231631,
          5.576432585214846,
          3.8065329580107905,
          6.337393872277593,
          3.8817573960764524,
          4.010868733256793,
          4.37032555846833,
          7.0805459001452915,
          6.135878472096208,
          3.7826515186220164,
          5.94004979253112,
          3.060656228812891,
          9.230332167832168,
          4.043197126178716,
          4.010868733256793,
          2.7305029305793083,
          7.050568561872909,
          4.043197126178716,
          5.384899809160306,
          4.562016514558888,
          4.396326346630606,
          4.375310808834284,
          3.852854450389105,
          4.5261936635430615,
          3.2673233270794246,
          3.150105580693816,
          6.654655397559868,
          3.976295904124753,
          10.720041332733965,
          9.25564473823649,
          7.445658059928747,
          6.758977186076947,
          6.811764705882353,
          2.4524544953116383,
          9.230332167832168,
          9.230332167832168,
          9.57751721570817,
          4.285654114225543,
          4.306233062330623,
          11.578544061302683,
          6.39058524173028
         ]
        }
       ],
       "layout": {
        "height": 1200,
        "legend": {
         "tracegroupgap": 0
        },
        "margin": {
         "t": 60
        },
        "template": {
         "data": {
          "bar": [
           {
            "error_x": {
             "color": "#2a3f5f"
            },
            "error_y": {
             "color": "#2a3f5f"
            },
            "marker": {
             "line": {
              "color": "#E5ECF6",
              "width": 0.5
             },
             "pattern": {
              "fillmode": "overlay",
              "size": 10,
              "solidity": 0.2
             }
            },
            "type": "bar"
           }
          ],
          "barpolar": [
           {
            "marker": {
             "line": {
              "color": "#E5ECF6",
              "width": 0.5
             },
             "pattern": {
              "fillmode": "overlay",
              "size": 10,
              "solidity": 0.2
             }
            },
            "type": "barpolar"
           }
          ],
          "carpet": [
           {
            "aaxis": {
             "endlinecolor": "#2a3f5f",
             "gridcolor": "white",
             "linecolor": "white",
             "minorgridcolor": "white",
             "startlinecolor": "#2a3f5f"
            },
            "baxis": {
             "endlinecolor": "#2a3f5f",
             "gridcolor": "white",
             "linecolor": "white",
             "minorgridcolor": "white",
             "startlinecolor": "#2a3f5f"
            },
            "type": "carpet"
           }
          ],
          "choropleth": [
           {
            "colorbar": {
             "outlinewidth": 0,
             "ticks": ""
            },
            "type": "choropleth"
           }
          ],
          "contour": [
           {
            "colorbar": {
             "outlinewidth": 0,
             "ticks": ""
            },
            "colorscale": [
             [
              0,
              "#0d0887"
             ],
             [
              0.1111111111111111,
              "#46039f"
             ],
             [
              0.2222222222222222,
              "#7201a8"
             ],
             [
              0.3333333333333333,
              "#9c179e"
             ],
             [
              0.4444444444444444,
              "#bd3786"
             ],
             [
              0.5555555555555556,
              "#d8576b"
             ],
             [
              0.6666666666666666,
              "#ed7953"
             ],
             [
              0.7777777777777778,
              "#fb9f3a"
             ],
             [
              0.8888888888888888,
              "#fdca26"
             ],
             [
              1,
              "#f0f921"
             ]
            ],
            "type": "contour"
           }
          ],
          "contourcarpet": [
           {
            "colorbar": {
             "outlinewidth": 0,
             "ticks": ""
            },
            "type": "contourcarpet"
           }
          ],
          "heatmap": [
           {
            "colorbar": {
             "outlinewidth": 0,
             "ticks": ""
            },
            "colorscale": [
             [
              0,
              "#0d0887"
             ],
             [
              0.1111111111111111,
              "#46039f"
             ],
             [
              0.2222222222222222,
              "#7201a8"
             ],
             [
              0.3333333333333333,
              "#9c179e"
             ],
             [
              0.4444444444444444,
              "#bd3786"
             ],
             [
              0.5555555555555556,
              "#d8576b"
             ],
             [
              0.6666666666666666,
              "#ed7953"
             ],
             [
              0.7777777777777778,
              "#fb9f3a"
             ],
             [
              0.8888888888888888,
              "#fdca26"
             ],
             [
              1,
              "#f0f921"
             ]
            ],
            "type": "heatmap"
           }
          ],
          "heatmapgl": [
           {
            "colorbar": {
             "outlinewidth": 0,
             "ticks": ""
            },
            "colorscale": [
             [
              0,
              "#0d0887"
             ],
             [
              0.1111111111111111,
              "#46039f"
             ],
             [
              0.2222222222222222,
              "#7201a8"
             ],
             [
              0.3333333333333333,
              "#9c179e"
             ],
             [
              0.4444444444444444,
              "#bd3786"
             ],
             [
              0.5555555555555556,
              "#d8576b"
             ],
             [
              0.6666666666666666,
              "#ed7953"
             ],
             [
              0.7777777777777778,
              "#fb9f3a"
             ],
             [
              0.8888888888888888,
              "#fdca26"
             ],
             [
              1,
              "#f0f921"
             ]
            ],
            "type": "heatmapgl"
           }
          ],
          "histogram": [
           {
            "marker": {
             "pattern": {
              "fillmode": "overlay",
              "size": 10,
              "solidity": 0.2
             }
            },
            "type": "histogram"
           }
          ],
          "histogram2d": [
           {
            "colorbar": {
             "outlinewidth": 0,
             "ticks": ""
            },
            "colorscale": [
             [
              0,
              "#0d0887"
             ],
             [
              0.1111111111111111,
              "#46039f"
             ],
             [
              0.2222222222222222,
              "#7201a8"
             ],
             [
              0.3333333333333333,
              "#9c179e"
             ],
             [
              0.4444444444444444,
              "#bd3786"
             ],
             [
              0.5555555555555556,
              "#d8576b"
             ],
             [
              0.6666666666666666,
              "#ed7953"
             ],
             [
              0.7777777777777778,
              "#fb9f3a"
             ],
             [
              0.8888888888888888,
              "#fdca26"
             ],
             [
              1,
              "#f0f921"
             ]
            ],
            "type": "histogram2d"
           }
          ],
          "histogram2dcontour": [
           {
            "colorbar": {
             "outlinewidth": 0,
             "ticks": ""
            },
            "colorscale": [
             [
              0,
              "#0d0887"
             ],
             [
              0.1111111111111111,
              "#46039f"
             ],
             [
              0.2222222222222222,
              "#7201a8"
             ],
             [
              0.3333333333333333,
              "#9c179e"
             ],
             [
              0.4444444444444444,
              "#bd3786"
             ],
             [
              0.5555555555555556,
              "#d8576b"
             ],
             [
              0.6666666666666666,
              "#ed7953"
             ],
             [
              0.7777777777777778,
              "#fb9f3a"
             ],
             [
              0.8888888888888888,
              "#fdca26"
             ],
             [
              1,
              "#f0f921"
             ]
            ],
            "type": "histogram2dcontour"
           }
          ],
          "mesh3d": [
           {
            "colorbar": {
             "outlinewidth": 0,
             "ticks": ""
            },
            "type": "mesh3d"
           }
          ],
          "parcoords": [
           {
            "line": {
             "colorbar": {
              "outlinewidth": 0,
              "ticks": ""
             }
            },
            "type": "parcoords"
           }
          ],
          "pie": [
           {
            "automargin": true,
            "type": "pie"
           }
          ],
          "scatter": [
           {
            "fillpattern": {
             "fillmode": "overlay",
             "size": 10,
             "solidity": 0.2
            },
            "type": "scatter"
           }
          ],
          "scatter3d": [
           {
            "line": {
             "colorbar": {
              "outlinewidth": 0,
              "ticks": ""
             }
            },
            "marker": {
             "colorbar": {
              "outlinewidth": 0,
              "ticks": ""
             }
            },
            "type": "scatter3d"
           }
          ],
          "scattercarpet": [
           {
            "marker": {
             "colorbar": {
              "outlinewidth": 0,
              "ticks": ""
             }
            },
            "type": "scattercarpet"
           }
          ],
          "scattergeo": [
           {
            "marker": {
             "colorbar": {
              "outlinewidth": 0,
              "ticks": ""
             }
            },
            "type": "scattergeo"
           }
          ],
          "scattergl": [
           {
            "marker": {
             "colorbar": {
              "outlinewidth": 0,
              "ticks": ""
             }
            },
            "type": "scattergl"
           }
          ],
          "scattermapbox": [
           {
            "marker": {
             "colorbar": {
              "outlinewidth": 0,
              "ticks": ""
             }
            },
            "type": "scattermapbox"
           }
          ],
          "scatterpolar": [
           {
            "marker": {
             "colorbar": {
              "outlinewidth": 0,
              "ticks": ""
             }
            },
            "type": "scatterpolar"
           }
          ],
          "scatterpolargl": [
           {
            "marker": {
             "colorbar": {
              "outlinewidth": 0,
              "ticks": ""
             }
            },
            "type": "scatterpolargl"
           }
          ],
          "scatterternary": [
           {
            "marker": {
             "colorbar": {
              "outlinewidth": 0,
              "ticks": ""
             }
            },
            "type": "scatterternary"
           }
          ],
          "surface": [
           {
            "colorbar": {
             "outlinewidth": 0,
             "ticks": ""
            },
            "colorscale": [
             [
              0,
              "#0d0887"
             ],
             [
              0.1111111111111111,
              "#46039f"
             ],
             [
              0.2222222222222222,
              "#7201a8"
             ],
             [
              0.3333333333333333,
              "#9c179e"
             ],
             [
              0.4444444444444444,
              "#bd3786"
             ],
             [
              0.5555555555555556,
              "#d8576b"
             ],
             [
              0.6666666666666666,
              "#ed7953"
             ],
             [
              0.7777777777777778,
              "#fb9f3a"
             ],
             [
              0.8888888888888888,
              "#fdca26"
             ],
             [
              1,
              "#f0f921"
             ]
            ],
            "type": "surface"
           }
          ],
          "table": [
           {
            "cells": {
             "fill": {
              "color": "#EBF0F8"
             },
             "line": {
              "color": "white"
             }
            },
            "header": {
             "fill": {
              "color": "#C8D4E3"
             },
             "line": {
              "color": "white"
             }
            },
            "type": "table"
           }
          ]
         },
         "layout": {
          "annotationdefaults": {
           "arrowcolor": "#2a3f5f",
           "arrowhead": 0,
           "arrowwidth": 1
          },
          "autotypenumbers": "strict",
          "coloraxis": {
           "colorbar": {
            "outlinewidth": 0,
            "ticks": ""
           }
          },
          "colorscale": {
           "diverging": [
            [
             0,
             "#8e0152"
            ],
            [
             0.1,
             "#c51b7d"
            ],
            [
             0.2,
             "#de77ae"
            ],
            [
             0.3,
             "#f1b6da"
            ],
            [
             0.4,
             "#fde0ef"
            ],
            [
             0.5,
             "#f7f7f7"
            ],
            [
             0.6,
             "#e6f5d0"
            ],
            [
             0.7,
             "#b8e186"
            ],
            [
             0.8,
             "#7fbc41"
            ],
            [
             0.9,
             "#4d9221"
            ],
            [
             1,
             "#276419"
            ]
           ],
           "sequential": [
            [
             0,
             "#0d0887"
            ],
            [
             0.1111111111111111,
             "#46039f"
            ],
            [
             0.2222222222222222,
             "#7201a8"
            ],
            [
             0.3333333333333333,
             "#9c179e"
            ],
            [
             0.4444444444444444,
             "#bd3786"
            ],
            [
             0.5555555555555556,
             "#d8576b"
            ],
            [
             0.6666666666666666,
             "#ed7953"
            ],
            [
             0.7777777777777778,
             "#fb9f3a"
            ],
            [
             0.8888888888888888,
             "#fdca26"
            ],
            [
             1,
             "#f0f921"
            ]
           ],
           "sequentialminus": [
            [
             0,
             "#0d0887"
            ],
            [
             0.1111111111111111,
             "#46039f"
            ],
            [
             0.2222222222222222,
             "#7201a8"
            ],
            [
             0.3333333333333333,
             "#9c179e"
            ],
            [
             0.4444444444444444,
             "#bd3786"
            ],
            [
             0.5555555555555556,
             "#d8576b"
            ],
            [
             0.6666666666666666,
             "#ed7953"
            ],
            [
             0.7777777777777778,
             "#fb9f3a"
            ],
            [
             0.8888888888888888,
             "#fdca26"
            ],
            [
             1,
             "#f0f921"
            ]
           ]
          },
          "colorway": [
           "#636efa",
           "#EF553B",
           "#00cc96",
           "#ab63fa",
           "#FFA15A",
           "#19d3f3",
           "#FF6692",
           "#B6E880",
           "#FF97FF",
           "#FECB52"
          ],
          "font": {
           "color": "#2a3f5f"
          },
          "geo": {
           "bgcolor": "white",
           "lakecolor": "white",
           "landcolor": "#E5ECF6",
           "showlakes": true,
           "showland": true,
           "subunitcolor": "white"
          },
          "hoverlabel": {
           "align": "left"
          },
          "hovermode": "closest",
          "mapbox": {
           "style": "light"
          },
          "paper_bgcolor": "white",
          "plot_bgcolor": "#E5ECF6",
          "polar": {
           "angularaxis": {
            "gridcolor": "white",
            "linecolor": "white",
            "ticks": ""
           },
           "bgcolor": "#E5ECF6",
           "radialaxis": {
            "gridcolor": "white",
            "linecolor": "white",
            "ticks": ""
           }
          },
          "scene": {
           "xaxis": {
            "backgroundcolor": "#E5ECF6",
            "gridcolor": "white",
            "gridwidth": 2,
            "linecolor": "white",
            "showbackground": true,
            "ticks": "",
            "zerolinecolor": "white"
           },
           "yaxis": {
            "backgroundcolor": "#E5ECF6",
            "gridcolor": "white",
            "gridwidth": 2,
            "linecolor": "white",
            "showbackground": true,
            "ticks": "",
            "zerolinecolor": "white"
           },
           "zaxis": {
            "backgroundcolor": "#E5ECF6",
            "gridcolor": "white",
            "gridwidth": 2,
            "linecolor": "white",
            "showbackground": true,
            "ticks": "",
            "zerolinecolor": "white"
           }
          },
          "shapedefaults": {
           "line": {
            "color": "#2a3f5f"
           }
          },
          "ternary": {
           "aaxis": {
            "gridcolor": "white",
            "linecolor": "white",
            "ticks": ""
           },
           "baxis": {
            "gridcolor": "white",
            "linecolor": "white",
            "ticks": ""
           },
           "bgcolor": "#E5ECF6",
           "caxis": {
            "gridcolor": "white",
            "linecolor": "white",
            "ticks": ""
           }
          },
          "title": {
           "x": 0.05
          },
          "xaxis": {
           "automargin": true,
           "gridcolor": "white",
           "linecolor": "white",
           "ticks": "",
           "title": {
            "standoff": 15
           },
           "zerolinecolor": "white",
           "zerolinewidth": 2
          },
          "yaxis": {
           "automargin": true,
           "gridcolor": "white",
           "linecolor": "white",
           "ticks": "",
           "title": {
            "standoff": 15
           },
           "zerolinecolor": "white",
           "zerolinewidth": 2
          }
         }
        },
        "width": 2000
       }
      },
      "text/html": [
       "<div>                            <div id=\"a3d08251-b173-48f5-87d4-df7be11469bf\" class=\"plotly-graph-div\" style=\"height:1200px; width:2000px;\"></div>            <script type=\"text/javascript\">                require([\"plotly\"], function(Plotly) {                    window.PLOTLYENV=window.PLOTLYENV || {};                                    if (document.getElementById(\"a3d08251-b173-48f5-87d4-df7be11469bf\")) {                    Plotly.newPlot(                        \"a3d08251-b173-48f5-87d4-df7be11469bf\",                        [{\"branchvalues\":\"total\",\"customdata\":[[1.819566698357154e-08,4.306233062330623],[0.0006401814236577818,3.6708247170524535],[0.0004556691453304286,3.853040658751079],[0.0004556691453304286,3.853040658751079],[0.0009162411065450295,3.4851922264469795],[1.459247949551346e-07,4.870763437179049],[4.286316142349211e-08,4.331478644800865],[0.000556773980295519,2.9928812741312742],[0.000556773980295519,2.9928812741312742],[0.0011166934798201003,2.516756610901241],[1.2159835482577268e-05,4.51827944015444],[0.0007516271608733033,3.0176113360323886],[3.1902862224911027e-07,7.1763104152484685],[0.0005674723991137687,2.596393640198396],[0.0005674723991137687,2.596393640198396],[0.0014249666208456023,2.414019175952319],[0.0019487390874472622,2.678621044507332],[0.00036639104817015453,3.976295904124753],[0.00036639104817015453,3.976295904124753],[1.5026184412739937e-06,5.252748215302413],[1.5026184412739937e-06,5.252748215302413],[6.337365335804306e-05,3.77889430291177],[6.337365335804306e-05,3.77889430291177],[1.884169337984473e-06,3.975889328063241],[1.7072882093646947e-05,3.915060836267062],[1.7072882093646947e-05,3.915060836267062],[5.129621510574802e-07,6.811764705882353],[5.129621510574802e-07,6.811764705882353],[1.819566698357154e-08,4.306233062330623],[0.000222772361670451,3.1706758304696447],[2.517982035791671e-06,3.886260769815838],[2.303115755792033e-06,5.365722865722866],[1.650145052107106e-05,6.06262796139222],[0.0002491905668539952,3.12684272763106],[3.5439912942116353e-06,3.7885557920340527],[5.770773256857654e-08,5.203789816321786],[5.694727578502999e-06,6.273560027758501],[1.6432789726588618e-09,4.5261936635430615],[0.0037136993434985165,2.830858696213203],[0.001195637490835149,2.98570527320008],[0.0007035967067082537,3.0408799533799535],[0.007124213157163026,2.5600729290033035],[0.00417579982552153,2.7797887621461768],[0.00417579982552153,2.7797887621461768],[0.004242181650849286,2.3195368462368755],[7.006137975965991e-12,5.000211891732538],[2.8202214262817372e-08,9.230332167832168],[2.8202214262817372e-08,9.230332167832168],[2.8202214262817372e-08,9.230332167832168],[2.8393787053698277e-07,3.633616118769883],[2.4858464412591497e-07,3.66648837541007],[1.5499501333638892e-06,5.6106613525968365],[2.8202214262817372e-08,10.448009791400596],[2.8202214262817372e-08,10.448009791400596],[9.556755178832264e-06,4.958470976875885],[0.003005039386441788,2.3455458695001496],[0.00036639104817015453,3.976295904124753],[0.00036639104817015453,3.976295904124753],[0.00010637095009354458,4.326083825435691],[0.00010637095009354458,4.326083825435691],[0.00022759465279437546,4.247790566231631],[2.9679075153889288e-05,5.576432585214846],[2.9679075153889288e-05,5.576432585214846],[0.00017333219644251118,3.8065329580107905],[3.7954534219372043e-07,3.8817573960764524],[5.219303821842834e-05,4.37032555846833],[5.219303821842834e-05,4.37032555846833],[5.219303821842834e-05,4.37032555846833],[2.6189032904151652e-05,4.166264478764479],[1.2724644722770947e-09,5.94004979253112],[1.2724644722770947e-09,5.94004979253112],[2.782914783346206e-07,4.629568770262468],[0.00464087969395299,2.7305029305793083],[3.6767792372547303e-07,7.050568561872909],[3.8754091847675206e-05,3.3182594359064947],[2.8647060825752924e-05,3.5565210459183674],[6.725943450778252e-06,5.590810316234918],[0.0002491905668539952,3.881485315047225],[0.00029897337217910797,3.794694445615959],[0.00029897337217910797,3.794694445615959],[3.6825608700117565e-12,17.687289746965043],[3.0940746908987224e-16,9.57751721570817],[3.7569864125369877e-10,7.636363636363637],[3.407616336680124e-05,3.3595089099469577],[2.0018879392460544e-05,3.852854450389105],[2.0018879392460544e-05,3.852854450389105],[0.0014957087384691735,2.773170082512643],[0.00017547534787065117,4.397777127815151],[0.00017547534787065117,4.397777127815151],[0.0009844525889234935,3.060656228812891],[0.0005248471952519694,3.7826515186220164],[0.0005248471952519694,3.7826515186220164],[0.0005645010359115129,2.8685551450167837],[7.692628425335247e-05,3.369689781994563],[2.193319414469441e-06,5.823907028223575],[0.003908444217478195,2.4523124115148653],[0.001958369120257578,2.9375880483569765],[0.0001827833187149158,4.043197126178716],[0.0001827833187149158,4.043197126178716],[0.001449533573025162,2.914281421380813],[0.0003884085298378013,3.2673233270794246],[0.0003884085298378013,3.2673233270794246],[4.963375494714456e-05,4.396326346630606],[6.232672443527061e-05,4.010868733256793],[6.232672443527061e-05,4.010868733256793],[2.012379226377634e-05,4.562016514558888],[2.044974289905549e-07,6.337393872277593],[9.291019898533115e-06,4.375310808834284],[2.012379226377634e-05,4.562016514558888],[0.0005310461211839363,3.150105580693816],[1.8938914098572186e-05,5.384899809160306],[8.217105508034587e-06,5.467293117431552],[0.003608610545201596,2.843916349809886],[6.794643719949513e-06,3.469768731865506],[4.629155158002716e-07,5.47675043532472],[2.8202214262817372e-08,9.230332167832168],[9.291019898533115e-06,3.953419811320755],[4.827847891053122e-06,6.39058524173028],[1.1712758140933049e-08,4.285654114225543],[1.1712758140933049e-08,11.578544061302683],[1.1712758140933049e-08,11.578544061302683],[0.004472499762014959,2.4524544953116383],[0.0020574031190389824,2.557053226696084],[1.819566698357154e-08,4.306233062330623],[\"(?)\",7.1560169434994325],[0.0004556691453304286,3.853040658751079],[0.0004556691453304286,3.853040658751079],[0.0005674723991137687,2.596393640198396],[1.2159835482577268e-05,4.51827944015444],[\"(?)\",6.971031147353143],[0.003005039386441788,2.3455458695001496],[0.0020574031190389824,2.557053226696084],[3.1902862224911027e-07,7.1763104152484685],[0.003908444217478195,2.4523124115148653],[0.0005674723991137687,2.596393640198396],[6.337365335804306e-05,3.77889430291177],[0.0019487390874472622,2.678621044507332],[1.5026184412739937e-06,5.252748215302413],[5.129621510574802e-07,6.811764705882353],[1.7072882093646947e-05,3.915060836267062],[0.00036639104817015453,3.976295904124753],[0.000556773980295519,2.9928812741312742],[5.770773256857654e-08,5.203789816321786],[\"(?)\",4.930775786853561],[3.7569864125369877e-10,7.636363636363637],[2.517982035791671e-06,3.886260769815838],[1.650145052107106e-05,6.06262796139222],[0.000556773980295519,2.9928812741312742],[\"(?)\",8.492565593353927],[3.5439912942116353e-06,3.7885557920340527],[5.694727578502999e-06,6.273560027758501],[1.5499501333638892e-06,5.6106613525968365],[2.8202214262817372e-08,10.448009791400596],[\"(?)\",10.152826830793806],[0.000222772361670451,3.1706758304696447],[0.001195637490835149,2.98570527320008],[0.00417579982552153,2.7797887621461768],[0.0007035967067082537,3.0408799533799535],[\"(?)\",4.879609775240179],[0.00417579982552153,2.7797887621461768],[1.459247949551346e-07,4.870763437179049],[4.286316142349211e-08,4.331478644800865],[2.8202214262817372e-08,9.230332167832168],[2.8393787053698277e-07,3.633616118769883],[2.4858464412591497e-07,3.66648837541007],[2.8202214262817372e-08,10.448009791400596],[1.1712758140933049e-08,11.578544061302683],[9.556755178832264e-06,4.958470976875885],[7.006137975965991e-12,5.000211891732538],[2.9679075153889288e-05,5.576432585214846],[2.782914783346206e-07,4.629568770262468],[3.8754091847675206e-05,3.3182594359064947],[0.00010637095009354458,4.326083825435691],[5.219303821842834e-05,4.37032555846833],[1.2724644722770947e-09,5.94004979253112],[5.219303821842834e-05,4.37032555846833],[2.8647060825752924e-05,3.5565210459183674],[0.00036639104817015453,3.976295904124753],[0.00029897337217910797,3.794694445615959],[0.00029897337217910797,3.794694445615959],[3.6825608700117565e-12,17.687289746965043],[2.0018879392460544e-05,3.852854450389105],[3.407616336680124e-05,3.3595089099469577],[0.00036639104817015453,3.976295904124753],[0.0037136993434985165,2.830858696213203],[0.001958369120257578,2.9375880483569765],[0.00017547534787065117,4.397777127815151],[\"(?)\",8.180428646437168],[0.00010637095009354458,4.326083825435691],[\"(?)\",9.193596810218137],[0.00022759465279437546,4.247790566231631],[2.9679075153889288e-05,5.576432585214846],[0.00017333219644251118,3.8065329580107905],[2.044974289905549e-07,6.337393872277593],[3.7954534219372043e-07,3.8817573960764524],[6.232672443527061e-05,4.010868733256793],[5.219303821842834e-05,4.37032555846833],[\"(?)\",7.0805459001452915],[\"(?)\",6.135878472096208],[0.0005248471952519694,3.7826515186220164],[1.2724644722770947e-09,5.94004979253112],[0.0009844525889234935,3.060656228812891],[2.8202214262817372e-08,9.230332167832168],[0.0001827833187149158,4.043197126178716],[6.232672443527061e-05,4.010868733256793],[0.00464087969395299,2.7305029305793083],[3.6767792372547303e-07,7.050568561872909],[0.0001827833187149158,4.043197126178716],[1.8938914098572186e-05,5.384899809160306],[2.012379226377634e-05,4.562016514558888],[4.963375494714456e-05,4.396326346630606],[9.291019898533115e-06,4.375310808834284],[2.0018879392460544e-05,3.852854450389105],[1.6432789726588618e-09,4.5261936635430615],[0.0003884085298378013,3.2673233270794246],[0.0005310461211839363,3.150105580693816],[\"(?)\",6.654655397559868],[0.00036639104817015453,3.976295904124753],[\"(?)\",10.720041332733965],[\"(?)\",9.25564473823649],[\"(?)\",7.445658059928747],[\"(?)\",6.758977186076947],[5.129621510574802e-07,6.811764705882353],[0.004472499762014959,2.4524544953116383],[2.8202214262817372e-08,9.230332167832168],[2.8202214262817372e-08,9.230332167832168],[3.0940746908987224e-16,9.57751721570817],[1.1712758140933049e-08,4.285654114225543],[1.819566698357154e-08,4.306233062330623],[1.1712758140933049e-08,11.578544061302683],[4.827847891053122e-06,6.39058524173028]],\"domain\":{\"x\":[0.0,1.0],\"y\":[0.0,1.0]},\"hovertemplate\":\"labels=%{label}<br>odds=%{customdata[1]}<br>parent=%{parent}<br>id=%{id}<br>fdr_bh=%{customdata[0]}<extra></extra>\",\"ids\":[\"Trans-synaptic signaling/Anterograde trans-synaptic signaling\",\"Antigen processing and presentation/Antigen processing and presentation of exogenous antigen\",\"Antigen processing and presentation of exogenous antigen/Antigen processing and presentation of exogenous peptide antigen\",\"Antigen processing and presentation of peptide antigen/Antigen processing and presentation of exogenous peptide antigen\",\"Antigen processing and presentation/Antigen processing and presentation of peptide antigen\",\"Neuron projection guidance/Axon guidance\",\"Neuron projection morphogenesis/Axonogenesis\",\"Coagulation/Blood coagulation\",\"Hemostasis/Blood coagulation\",\"Divalent inorganic cation homeostasis/Calcium ion homeostasis\",\"Calcium ion transport/Calcium ion transmembrane transport\",\"Cell junction organization/Cell junction assembly\",\"Cell-substrate adhesion/Cell-matrix adhesion\",\"Calcium ion homeostasis/Cellular calcium ion homeostasis\",\"Cellular divalent inorganic cation homeostasis/Cellular calcium ion homeostasis\",\"Divalent inorganic cation homeostasis/Cellular divalent inorganic cation homeostasis\",\"Cellular response to environmental stimulus/Cellular response to abiotic stimulus\",\"Cellular response to peptide hormone stimulus/Cellular response to insulin stimulus\",\"Response to insulin/Cellular response to insulin stimulus\",\"Cellular response to inorganic substance/Cellular response to metal ion\",\"Response to metal ion/Cellular response to metal ion\",\"Cellular response to chemical stress/Cellular response to oxidative stress\",\"Response to oxidative stress/Cellular response to oxidative stress\",\"Response to peptide/Cellular response to peptide\",\"Cellular response to peptide/Cellular response to peptide hormone stimulus\",\"Response to peptide hormone/Cellular response to peptide hormone stimulus\",\"Cellular response to oxidative stress/Cellular response to reactive oxygen species\",\"Response to reactive oxygen species/Cellular response to reactive oxygen species\",\"Anterograde trans-synaptic signaling/Chemical synaptic transmission\",\"Morphogenesis of an epithelium/Epithelial tube morphogenesis\",\"Extracellular structure organization/Extracellular matrix organization\",\"Immune response-regulating cell surface receptor signaling pathway/Fc receptor signaling pathway\",\"Fc receptor signaling pathway/Fc-epsilon receptor signaling pathway\",\"Immune response-regulating cell surface receptor signaling pathway/Immune response-activating cell surface receptor signaling pathway\",\"Immune response-regulating signaling pathway/Immune response-regulating cell surface receptor signaling pathway\",\"Cognition/Learning or memory\",\"Learning or memory/Memory\",\"Regulation of trans-synaptic signaling/Modulation of chemical synaptic transmission\",\"Regulation of apoptotic signaling pathway/Negative regulation of apoptotic signaling pathway\",\"Negative regulation of cell motility/Negative regulation of cell migration\",\"Negative regulation of locomotion/Negative regulation of cell motility\",\"Negative regulation of phosphorylation/Negative regulation of kinase activity\",\"Negative regulation of kinase activity/Negative regulation of protein kinase activity\",\"Negative regulation of protein phosphorylation/Negative regulation of protein kinase activity\",\"Negative regulation of phosphorylation/Negative regulation of protein phosphorylation\",\"Plasma membrane bounded cell projection morphogenesis/Neuron projection morphogenesis\",\"Neurotransmitter transport/Neurotransmitter secretion\",\"Regulation of neurotransmitter levels/Neurotransmitter secretion\",\"Signal release from synapse/Neurotransmitter secretion\",\"Neutrophil activation/Neutrophil activation involved in immune response\",\"Neutrophil activation involved in immune response/Neutrophil degranulation\",\"Membrane docking/Organelle localization by membrane tethering\",\"Membrane fusion/Organelle membrane fusion\",\"Organelle fusion/Organelle membrane fusion\",\"Peptidyl-serine modification/Peptidyl-serine phosphorylation\",\"Cell projection assembly/Plasma membrane bounded cell projection assembly\",\"Positive regulation of vasculature development/Positive regulation of angiogenesis\",\"Regulation of angiogenesis/Positive regulation of angiogenesis\",\"Positive regulation of growth/Positive regulation of cell growth\",\"Regulation of cell growth/Positive regulation of cell growth\",\"Regulation of cell morphogenesis involved in differentiation/Positive regulation of cell morphogenesis involved in differentiation\",\"Positive regulation of cell adhesion/Positive regulation of cell-substrate adhesion\",\"Regulation of cell-substrate adhesion/Positive regulation of cell-substrate adhesion\",\"Regulation of erk1 and erk2 cascade/Positive regulation of erk1 and erk2 cascade\",\"Regulation of gtpase activity/Positive regulation of gtpase activity\",\"Positive regulation of intracellular transport/Positive regulation of intracellular protein transport\",\"Positive regulation of protein transport/Positive regulation of intracellular protein transport\",\"Regulation of intracellular protein transport/Positive regulation of intracellular protein transport\",\"Regulation of intracellular transport/Positive regulation of intracellular transport\",\"Positive regulation of protein serine/threonine kinase activity/Positive regulation of map kinase activity\",\"Regulation of map kinase activity/Positive regulation of map kinase activity\",\"Positive regulation of cell projection organization/Positive regulation of neuron projection development\",\"Regulation of protein catabolic process/Positive regulation of protein catabolic process\",\"Regulation of protein localization to membrane/Positive regulation of protein localization to membrane\",\"Positive regulation of establishment of protein localization/Positive regulation of protein transport\",\"Positive regulation of secretion/Positive regulation of secretion by cell\",\"Modulation of chemical synaptic transmission/Positive regulation of synaptic transmission\",\"Regulation of vasculature development/Positive regulation of vasculature development\",\"Protein localization to cell periphery/Protein localization to plasma membrane\",\"Protein localization to membrane/Protein localization to plasma membrane\",\"Ras protein signal transduction/Rab protein signal transduction\",\"Small gtpase mediated signal transduction/Ras protein signal transduction\",\"Endocytosis/Receptor-mediated endocytosis\",\"Regulation of actin filament-based process/Regulation of actin cytoskeleton organization\",\"Regulation of actin cytoskeleton organization/Regulation of actin filament organization\",\"Regulation of supramolecular fiber organization/Regulation of actin filament organization\",\"Regulation of vasculature development/Regulation of angiogenesis\",\"Regulation of calcium ion transport/Regulation of calcium ion transmembrane transport\",\"Regulation of cation transmembrane transport/Regulation of calcium ion transmembrane transport\",\"Regulation of metal ion transport/Regulation of calcium ion transport\",\"Regulation of cation transmembrane transport/Regulation of cation channel activity\",\"Regulation of ion transmembrane transporter activity/Regulation of cation channel activity\",\"Regulation of ion transmembrane transport/Regulation of cation transmembrane transport\",\"Regulation of cell morphogenesis/Regulation of cell morphogenesis involved in differentiation\",\"Regulation of cell morphogenesis/Regulation of cell shape\",\"Cellular calcium ion homeostasis/Regulation of cytosolic calcium ion concentration\",\"Regulation of blood circulation/Regulation of heart contraction\",\"Regulation of peptide hormone secretion/Regulation of insulin secretion\",\"Regulation of protein secretion/Regulation of insulin secretion\",\"Regulation of intracellular transport/Regulation of intracellular protein transport\",\"Regulation of ion transmembrane transport/Regulation of ion transmembrane transporter activity\",\"Regulation of transmembrane transporter activity/Regulation of ion transmembrane transporter activity\",\"Regulation of stress-activated mapk cascade/Regulation of jnk cascade\",\"Regulation of hormone secretion/Regulation of peptide hormone secretion\",\"Regulation of peptide secretion/Regulation of peptide hormone secretion\",\"Regulation of small gtpase mediated signal transduction/Regulation of ras protein signal transduction\",\"Regulation of exocytosis/Regulation of regulated secretory pathway\",\"Regulation of stress-activated protein kinase signaling cascade/Regulation of stress-activated mapk cascade\",\"Modulation of chemical synaptic transmission/Regulation of synaptic plasticity\",\"Regulation of transporter activity/Regulation of transmembrane transporter activity\",\"Regulation of response to wounding/Regulation of wound healing\",\"Response to metal ion/Response to calcium ion\",\"Response to peptide hormone/Response to insulin\",\"Response to peptide/Response to peptide hormone\",\"Response to oxidative stress/Response to reactive oxygen species\",\"Signal release/Signal release from synapse\",\"Cell junction organization/Synapse organization\",\"Vesicle-mediated transport in synapse/Synaptic vesicle cycle\",\"Synaptic signaling/Trans-synaptic signaling\",\"Organelle membrane fusion/Vesicle fusion\",\"Vesicle organization/Vesicle fusion\",\"Sensory system development/Visual system development\",\"Cell surface receptor signaling pathway involved in cell-cell signaling/Wnt signaling pathway\",\"Anterograde trans-synaptic signaling\",\"Antigen processing and presentation\",\"Antigen processing and presentation of exogenous antigen\",\"Antigen processing and presentation of peptide antigen\",\"Calcium ion homeostasis\",\"Calcium ion transport\",\"Cell junction organization\",\"Cell projection assembly\",\"Cell surface receptor signaling pathway involved in cell-cell signaling\",\"Cell-substrate adhesion\",\"Cellular calcium ion homeostasis\",\"Cellular divalent inorganic cation homeostasis\",\"Cellular response to chemical stress\",\"Cellular response to environmental stimulus\",\"Cellular response to inorganic substance\",\"Cellular response to oxidative stress\",\"Cellular response to peptide\",\"Cellular response to peptide hormone stimulus\",\"Coagulation\",\"Cognition\",\"Divalent inorganic cation homeostasis\",\"Endocytosis\",\"Extracellular structure organization\",\"Fc receptor signaling pathway\",\"Hemostasis\",\"Immune response-regulating cell surface receptor signaling pathway\",\"Immune response-regulating signaling pathway\",\"Learning or memory\",\"Membrane docking\",\"Membrane fusion\",\"Modulation of chemical synaptic transmission\",\"Morphogenesis of an epithelium\",\"Negative regulation of cell motility\",\"Negative regulation of kinase activity\",\"Negative regulation of locomotion\",\"Negative regulation of phosphorylation\",\"Negative regulation of protein phosphorylation\",\"Neuron projection guidance\",\"Neuron projection morphogenesis\",\"Neurotransmitter transport\",\"Neutrophil activation\",\"Neutrophil activation involved in immune response\",\"Organelle fusion\",\"Organelle membrane fusion\",\"Peptidyl-serine modification\",\"Plasma membrane bounded cell projection morphogenesis\",\"Positive regulation of cell adhesion\",\"Positive regulation of cell projection organization\",\"Positive regulation of establishment of protein localization\",\"Positive regulation of growth\",\"Positive regulation of intracellular transport\",\"Positive regulation of protein serine/threonine kinase activity\",\"Positive regulation of protein transport\",\"Positive regulation of secretion\",\"Positive regulation of vasculature development\",\"Protein localization to cell periphery\",\"Protein localization to membrane\",\"Ras protein signal transduction\",\"Regulation of actin cytoskeleton organization\",\"Regulation of actin filament-based process\",\"Regulation of angiogenesis\",\"Regulation of apoptotic signaling pathway\",\"Regulation of blood circulation\",\"Regulation of calcium ion transport\",\"Regulation of cation transmembrane transport\",\"Regulation of cell growth\",\"Regulation of cell morphogenesis\",\"Regulation of cell morphogenesis involved in differentiation\",\"Regulation of cell-substrate adhesion\",\"Regulation of erk1 and erk2 cascade\",\"Regulation of exocytosis\",\"Regulation of gtpase activity\",\"Regulation of hormone secretion\",\"Regulation of intracellular protein transport\",\"Regulation of intracellular transport\",\"Regulation of ion transmembrane transport\",\"Regulation of ion transmembrane transporter activity\",\"Regulation of map kinase activity\",\"Regulation of metal ion transport\",\"Regulation of neurotransmitter levels\",\"Regulation of peptide hormone secretion\",\"Regulation of peptide secretion\",\"Regulation of protein catabolic process\",\"Regulation of protein localization to membrane\",\"Regulation of protein secretion\",\"Regulation of response to wounding\",\"Regulation of small gtpase mediated signal transduction\",\"Regulation of stress-activated mapk cascade\",\"Regulation of stress-activated protein kinase signaling cascade\",\"Regulation of supramolecular fiber organization\",\"Regulation of trans-synaptic signaling\",\"Regulation of transmembrane transporter activity\",\"Regulation of transporter activity\",\"Regulation of vasculature development\",\"Response to insulin\",\"Response to metal ion\",\"Response to oxidative stress\",\"Response to peptide\",\"Response to peptide hormone\",\"Response to reactive oxygen species\",\"Sensory system development\",\"Signal release\",\"Signal release from synapse\",\"Small gtpase mediated signal transduction\",\"Synaptic signaling\",\"Trans-synaptic signaling\",\"Vesicle organization\",\"Vesicle-mediated transport in synapse\"],\"labels\":[\"Anterograde trans-synaptic signaling\",\"Antigen processing and presentation of exogenous antigen\",\"Antigen processing and presentation of exogenous peptide antigen\",\"Antigen processing and presentation of exogenous peptide antigen\",\"Antigen processing and presentation of peptide antigen\",\"Axon guidance\",\"Axonogenesis\",\"Blood coagulation\",\"Blood coagulation\",\"Calcium ion homeostasis\",\"Calcium ion transmembrane transport\",\"Cell junction assembly\",\"Cell-matrix adhesion\",\"Cellular calcium ion homeostasis\",\"Cellular calcium ion homeostasis\",\"Cellular divalent inorganic cation homeostasis\",\"Cellular response to abiotic stimulus\",\"Cellular response to insulin stimulus\",\"Cellular response to insulin stimulus\",\"Cellular response to metal ion\",\"Cellular response to metal ion\",\"Cellular response to oxidative stress\",\"Cellular response to oxidative stress\",\"Cellular response to peptide\",\"Cellular response to peptide hormone stimulus\",\"Cellular response to peptide hormone stimulus\",\"Cellular response to reactive oxygen species\",\"Cellular response to reactive oxygen species\",\"Chemical synaptic transmission\",\"Epithelial tube morphogenesis\",\"Extracellular matrix organization\",\"Fc receptor signaling pathway\",\"Fc-epsilon receptor signaling pathway\",\"Immune response-activating cell surface receptor signaling pathway\",\"Immune response-regulating cell surface receptor signaling pathway\",\"Learning or memory\",\"Memory\",\"Modulation of chemical synaptic transmission\",\"Negative regulation of apoptotic signaling pathway\",\"Negative regulation of cell migration\",\"Negative regulation of cell motility\",\"Negative regulation of kinase activity\",\"Negative regulation of protein kinase activity\",\"Negative regulation of protein kinase activity\",\"Negative regulation of protein phosphorylation\",\"Neuron projection morphogenesis\",\"Neurotransmitter secretion\",\"Neurotransmitter secretion\",\"Neurotransmitter secretion\",\"Neutrophil activation involved in immune response\",\"Neutrophil degranulation\",\"Organelle localization by membrane tethering\",\"Organelle membrane fusion\",\"Organelle membrane fusion\",\"Peptidyl-serine phosphorylation\",\"Plasma membrane bounded cell projection assembly\",\"Positive regulation of angiogenesis\",\"Positive regulation of angiogenesis\",\"Positive regulation of cell growth\",\"Positive regulation of cell growth\",\"Positive regulation of cell morphogenesis involved in differentiation\",\"Positive regulation of cell-substrate adhesion\",\"Positive regulation of cell-substrate adhesion\",\"Positive regulation of erk1 and erk2 cascade\",\"Positive regulation of gtpase activity\",\"Positive regulation of intracellular protein transport\",\"Positive regulation of intracellular protein transport\",\"Positive regulation of intracellular protein transport\",\"Positive regulation of intracellular transport\",\"Positive regulation of map kinase activity\",\"Positive regulation of map kinase activity\",\"Positive regulation of neuron projection development\",\"Positive regulation of protein catabolic process\",\"Positive regulation of protein localization to membrane\",\"Positive regulation of protein transport\",\"Positive regulation of secretion by cell\",\"Positive regulation of synaptic transmission\",\"Positive regulation of vasculature development\",\"Protein localization to plasma membrane\",\"Protein localization to plasma membrane\",\"Rab protein signal transduction\",\"Ras protein signal transduction\",\"Receptor-mediated endocytosis\",\"Regulation of actin cytoskeleton organization\",\"Regulation of actin filament organization\",\"Regulation of actin filament organization\",\"Regulation of angiogenesis\",\"Regulation of calcium ion transmembrane transport\",\"Regulation of calcium ion transmembrane transport\",\"Regulation of calcium ion transport\",\"Regulation of cation channel activity\",\"Regulation of cation channel activity\",\"Regulation of cation transmembrane transport\",\"Regulation of cell morphogenesis involved in differentiation\",\"Regulation of cell shape\",\"Regulation of cytosolic calcium ion concentration\",\"Regulation of heart contraction\",\"Regulation of insulin secretion\",\"Regulation of insulin secretion\",\"Regulation of intracellular protein transport\",\"Regulation of ion transmembrane transporter activity\",\"Regulation of ion transmembrane transporter activity\",\"Regulation of jnk cascade\",\"Regulation of peptide hormone secretion\",\"Regulation of peptide hormone secretion\",\"Regulation of ras protein signal transduction\",\"Regulation of regulated secretory pathway\",\"Regulation of stress-activated mapk cascade\",\"Regulation of synaptic plasticity\",\"Regulation of transmembrane transporter activity\",\"Regulation of wound healing\",\"Response to calcium ion\",\"Response to insulin\",\"Response to peptide hormone\",\"Response to reactive oxygen species\",\"Signal release from synapse\",\"Synapse organization\",\"Synaptic vesicle cycle\",\"Trans-synaptic signaling\",\"Vesicle fusion\",\"Vesicle fusion\",\"Visual system development\",\"Wnt signaling pathway\",\"Anterograde trans-synaptic signaling\",\"Antigen processing and presentation\",\"Antigen processing and presentation of exogenous antigen\",\"Antigen processing and presentation of peptide antigen\",\"Calcium ion homeostasis\",\"Calcium ion transport\",\"Cell junction organization\",\"Cell projection assembly\",\"Cell surface receptor signaling pathway involved in cell-cell signaling\",\"Cell-substrate adhesion\",\"Cellular calcium ion homeostasis\",\"Cellular divalent inorganic cation homeostasis\",\"Cellular response to chemical stress\",\"Cellular response to environmental stimulus\",\"Cellular response to inorganic substance\",\"Cellular response to oxidative stress\",\"Cellular response to peptide\",\"Cellular response to peptide hormone stimulus\",\"Coagulation\",\"Cognition\",\"Divalent inorganic cation homeostasis\",\"Endocytosis\",\"Extracellular structure organization\",\"Fc receptor signaling pathway\",\"Hemostasis\",\"Immune response-regulating cell surface receptor signaling pathway\",\"Immune response-regulating signaling pathway\",\"Learning or memory\",\"Membrane docking\",\"Membrane fusion\",\"Modulation of chemical synaptic transmission\",\"Morphogenesis of an epithelium\",\"Negative regulation of cell motility\",\"Negative regulation of kinase activity\",\"Negative regulation of locomotion\",\"Negative regulation of phosphorylation\",\"Negative regulation of protein phosphorylation\",\"Neuron projection guidance\",\"Neuron projection morphogenesis\",\"Neurotransmitter transport\",\"Neutrophil activation\",\"Neutrophil activation involved in immune response\",\"Organelle fusion\",\"Organelle membrane fusion\",\"Peptidyl-serine modification\",\"Plasma membrane bounded cell projection morphogenesis\",\"Positive regulation of cell adhesion\",\"Positive regulation of cell projection organization\",\"Positive regulation of establishment of protein localization\",\"Positive regulation of growth\",\"Positive regulation of intracellular transport\",\"Positive regulation of protein serine/threonine kinase activity\",\"Positive regulation of protein transport\",\"Positive regulation of secretion\",\"Positive regulation of vasculature development\",\"Protein localization to cell periphery\",\"Protein localization to membrane\",\"Ras protein signal transduction\",\"Regulation of actin cytoskeleton organization\",\"Regulation of actin filament-based process\",\"Regulation of angiogenesis\",\"Regulation of apoptotic signaling pathway\",\"Regulation of blood circulation\",\"Regulation of calcium ion transport\",\"Regulation of cation transmembrane transport\",\"Regulation of cell growth\",\"Regulation of cell morphogenesis\",\"Regulation of cell morphogenesis involved in differentiation\",\"Regulation of cell-substrate adhesion\",\"Regulation of erk1 and erk2 cascade\",\"Regulation of exocytosis\",\"Regulation of gtpase activity\",\"Regulation of hormone secretion\",\"Regulation of intracellular protein transport\",\"Regulation of intracellular transport\",\"Regulation of ion transmembrane transport\",\"Regulation of ion transmembrane transporter activity\",\"Regulation of map kinase activity\",\"Regulation of metal ion transport\",\"Regulation of neurotransmitter levels\",\"Regulation of peptide hormone secretion\",\"Regulation of peptide secretion\",\"Regulation of protein catabolic process\",\"Regulation of protein localization to membrane\",\"Regulation of protein secretion\",\"Regulation of response to wounding\",\"Regulation of small gtpase mediated signal transduction\",\"Regulation of stress-activated mapk cascade\",\"Regulation of stress-activated protein kinase signaling cascade\",\"Regulation of supramolecular fiber organization\",\"Regulation of trans-synaptic signaling\",\"Regulation of transmembrane transporter activity\",\"Regulation of transporter activity\",\"Regulation of vasculature development\",\"Response to insulin\",\"Response to metal ion\",\"Response to oxidative stress\",\"Response to peptide\",\"Response to peptide hormone\",\"Response to reactive oxygen species\",\"Sensory system development\",\"Signal release\",\"Signal release from synapse\",\"Small gtpase mediated signal transduction\",\"Synaptic signaling\",\"Trans-synaptic signaling\",\"Vesicle organization\",\"Vesicle-mediated transport in synapse\"],\"name\":\"\",\"parents\":[\"Trans-synaptic signaling\",\"Antigen processing and presentation\",\"Antigen processing and presentation of exogenous antigen\",\"Antigen processing and presentation of peptide antigen\",\"Antigen processing and presentation\",\"Neuron projection guidance\",\"Neuron projection morphogenesis\",\"Coagulation\",\"Hemostasis\",\"Divalent inorganic cation homeostasis\",\"Calcium ion transport\",\"Cell junction organization\",\"Cell-substrate adhesion\",\"Calcium ion homeostasis\",\"Cellular divalent inorganic cation homeostasis\",\"Divalent inorganic cation homeostasis\",\"Cellular response to environmental stimulus\",\"Cellular response to peptide hormone stimulus\",\"Response to insulin\",\"Cellular response to inorganic substance\",\"Response to metal ion\",\"Cellular response to chemical stress\",\"Response to oxidative stress\",\"Response to peptide\",\"Cellular response to peptide\",\"Response to peptide hormone\",\"Cellular response to oxidative stress\",\"Response to reactive oxygen species\",\"Anterograde trans-synaptic signaling\",\"Morphogenesis of an epithelium\",\"Extracellular structure organization\",\"Immune response-regulating cell surface receptor signaling pathway\",\"Fc receptor signaling pathway\",\"Immune response-regulating cell surface receptor signaling pathway\",\"Immune response-regulating signaling pathway\",\"Cognition\",\"Learning or memory\",\"Regulation of trans-synaptic signaling\",\"Regulation of apoptotic signaling pathway\",\"Negative regulation of cell motility\",\"Negative regulation of locomotion\",\"Negative regulation of phosphorylation\",\"Negative regulation of kinase activity\",\"Negative regulation of protein phosphorylation\",\"Negative regulation of phosphorylation\",\"Plasma membrane bounded cell projection morphogenesis\",\"Neurotransmitter transport\",\"Regulation of neurotransmitter levels\",\"Signal release from synapse\",\"Neutrophil activation\",\"Neutrophil activation involved in immune response\",\"Membrane docking\",\"Membrane fusion\",\"Organelle fusion\",\"Peptidyl-serine modification\",\"Cell projection assembly\",\"Positive regulation of vasculature development\",\"Regulation of angiogenesis\",\"Positive regulation of growth\",\"Regulation of cell growth\",\"Regulation of cell morphogenesis involved in differentiation\",\"Positive regulation of cell adhesion\",\"Regulation of cell-substrate adhesion\",\"Regulation of erk1 and erk2 cascade\",\"Regulation of gtpase activity\",\"Positive regulation of intracellular transport\",\"Positive regulation of protein transport\",\"Regulation of intracellular protein transport\",\"Regulation of intracellular transport\",\"Positive regulation of protein serine/threonine kinase activity\",\"Regulation of map kinase activity\",\"Positive regulation of cell projection organization\",\"Regulation of protein catabolic process\",\"Regulation of protein localization to membrane\",\"Positive regulation of establishment of protein localization\",\"Positive regulation of secretion\",\"Modulation of chemical synaptic transmission\",\"Regulation of vasculature development\",\"Protein localization to cell periphery\",\"Protein localization to membrane\",\"Ras protein signal transduction\",\"Small gtpase mediated signal transduction\",\"Endocytosis\",\"Regulation of actin filament-based process\",\"Regulation of actin cytoskeleton organization\",\"Regulation of supramolecular fiber organization\",\"Regulation of vasculature development\",\"Regulation of calcium ion transport\",\"Regulation of cation transmembrane transport\",\"Regulation of metal ion transport\",\"Regulation of cation transmembrane transport\",\"Regulation of ion transmembrane transporter activity\",\"Regulation of ion transmembrane transport\",\"Regulation of cell morphogenesis\",\"Regulation of cell morphogenesis\",\"Cellular calcium ion homeostasis\",\"Regulation of blood circulation\",\"Regulation of peptide hormone secretion\",\"Regulation of protein secretion\",\"Regulation of intracellular transport\",\"Regulation of ion transmembrane transport\",\"Regulation of transmembrane transporter activity\",\"Regulation of stress-activated mapk cascade\",\"Regulation of hormone secretion\",\"Regulation of peptide secretion\",\"Regulation of small gtpase mediated signal transduction\",\"Regulation of exocytosis\",\"Regulation of stress-activated protein kinase signaling cascade\",\"Modulation of chemical synaptic transmission\",\"Regulation of transporter activity\",\"Regulation of response to wounding\",\"Response to metal ion\",\"Response to peptide hormone\",\"Response to peptide\",\"Response to oxidative stress\",\"Signal release\",\"Cell junction organization\",\"Vesicle-mediated transport in synapse\",\"Synaptic signaling\",\"Organelle membrane fusion\",\"Vesicle organization\",\"Sensory system development\",\"Cell surface receptor signaling pathway involved in cell-cell signaling\",\"\",\"\",\"\",\"\",\"\",\"\",\"\",\"\",\"\",\"\",\"\",\"\",\"\",\"\",\"\",\"\",\"\",\"\",\"\",\"\",\"\",\"\",\"\",\"\",\"\",\"\",\"\",\"\",\"\",\"\",\"\",\"\",\"\",\"\",\"\",\"\",\"\",\"\",\"\",\"\",\"\",\"\",\"\",\"\",\"\",\"\",\"\",\"\",\"\",\"\",\"\",\"\",\"\",\"\",\"\",\"\",\"\",\"\",\"\",\"\",\"\",\"\",\"\",\"\",\"\",\"\",\"\",\"\",\"\",\"\",\"\",\"\",\"\",\"\",\"\",\"\",\"\",\"\",\"\",\"\",\"\",\"\",\"\",\"\",\"\",\"\",\"\",\"\",\"\",\"\",\"\",\"\",\"\",\"\",\"\",\"\",\"\",\"\",\"\",\"\",\"\",\"\",\"\",\"\",\"\",\"\",\"\",\"\"],\"values\":[4.306233062330623,3.6708247170524535,3.853040658751079,3.853040658751079,3.4851922264469795,4.870763437179049,4.331478644800865,2.9928812741312742,2.9928812741312742,2.516756610901241,4.51827944015444,3.0176113360323886,7.1763104152484685,2.596393640198396,2.596393640198396,2.414019175952319,2.678621044507332,3.976295904124753,3.976295904124753,5.252748215302413,5.252748215302413,3.77889430291177,3.77889430291177,3.975889328063241,3.915060836267062,3.915060836267062,6.811764705882353,6.811764705882353,4.306233062330623,3.1706758304696447,3.886260769815838,5.365722865722866,6.06262796139222,3.12684272763106,3.7885557920340527,5.203789816321786,6.273560027758501,4.5261936635430615,2.830858696213203,2.98570527320008,3.0408799533799535,2.5600729290033035,2.7797887621461768,2.7797887621461768,2.3195368462368755,5.000211891732538,9.230332167832168,9.230332167832168,9.230332167832168,3.633616118769883,3.66648837541007,5.6106613525968365,10.448009791400596,10.448009791400596,4.958470976875885,2.3455458695001496,3.976295904124753,3.976295904124753,4.326083825435691,4.326083825435691,4.247790566231631,5.576432585214846,5.576432585214846,3.8065329580107905,3.8817573960764524,4.37032555846833,4.37032555846833,4.37032555846833,4.166264478764479,5.94004979253112,5.94004979253112,4.629568770262468,2.7305029305793083,7.050568561872909,3.3182594359064947,3.5565210459183674,5.590810316234918,3.881485315047225,3.794694445615959,3.794694445615959,17.687289746965043,9.57751721570817,7.636363636363637,3.3595089099469577,3.852854450389105,3.852854450389105,2.773170082512643,4.397777127815151,4.397777127815151,3.060656228812891,3.7826515186220164,3.7826515186220164,2.8685551450167837,3.369689781994563,5.823907028223575,2.4523124115148653,2.9375880483569765,4.043197126178716,4.043197126178716,2.914281421380813,3.2673233270794246,3.2673233270794246,4.396326346630606,4.010868733256793,4.010868733256793,4.562016514558888,6.337393872277593,4.375310808834284,4.562016514558888,3.150105580693816,5.384899809160306,5.467293117431552,2.843916349809886,3.469768731865506,5.47675043532472,9.230332167832168,3.953419811320755,6.39058524173028,4.285654114225543,11.578544061302683,11.578544061302683,2.4524544953116383,2.557053226696084,4.306233062330623,7.1560169434994325,3.853040658751079,3.853040658751079,2.596393640198396,4.51827944015444,6.971031147353143,2.3455458695001496,2.557053226696084,7.1763104152484685,2.4523124115148653,2.596393640198396,3.77889430291177,2.678621044507332,5.252748215302413,6.811764705882353,3.915060836267062,3.976295904124753,2.9928812741312742,5.203789816321786,4.930775786853561,7.636363636363637,3.886260769815838,6.06262796139222,2.9928812741312742,8.492565593353927,3.7885557920340527,6.273560027758501,5.6106613525968365,10.448009791400596,10.152826830793806,3.1706758304696447,2.98570527320008,2.7797887621461768,3.0408799533799535,4.879609775240179,2.7797887621461768,4.870763437179049,4.331478644800865,9.230332167832168,3.633616118769883,3.66648837541007,10.448009791400596,11.578544061302683,4.958470976875885,5.000211891732538,5.576432585214846,4.629568770262468,3.3182594359064947,4.326083825435691,4.37032555846833,5.94004979253112,4.37032555846833,3.5565210459183674,3.976295904124753,3.794694445615959,3.794694445615959,17.687289746965043,3.852854450389105,3.3595089099469577,3.976295904124753,2.830858696213203,2.9375880483569765,4.397777127815151,8.180428646437168,4.326083825435691,9.193596810218137,4.247790566231631,5.576432585214846,3.8065329580107905,6.337393872277593,3.8817573960764524,4.010868733256793,4.37032555846833,7.0805459001452915,6.135878472096208,3.7826515186220164,5.94004979253112,3.060656228812891,9.230332167832168,4.043197126178716,4.010868733256793,2.7305029305793083,7.050568561872909,4.043197126178716,5.384899809160306,4.562016514558888,4.396326346630606,4.375310808834284,3.852854450389105,4.5261936635430615,3.2673233270794246,3.150105580693816,6.654655397559868,3.976295904124753,10.720041332733965,9.25564473823649,7.445658059928747,6.758977186076947,6.811764705882353,2.4524544953116383,9.230332167832168,9.230332167832168,9.57751721570817,4.285654114225543,4.306233062330623,11.578544061302683,6.39058524173028],\"type\":\"treemap\"}],                        {\"template\":{\"data\":{\"histogram2dcontour\":[{\"type\":\"histogram2dcontour\",\"colorbar\":{\"outlinewidth\":0,\"ticks\":\"\"},\"colorscale\":[[0.0,\"#0d0887\"],[0.1111111111111111,\"#46039f\"],[0.2222222222222222,\"#7201a8\"],[0.3333333333333333,\"#9c179e\"],[0.4444444444444444,\"#bd3786\"],[0.5555555555555556,\"#d8576b\"],[0.6666666666666666,\"#ed7953\"],[0.7777777777777778,\"#fb9f3a\"],[0.8888888888888888,\"#fdca26\"],[1.0,\"#f0f921\"]]}],\"choropleth\":[{\"type\":\"choropleth\",\"colorbar\":{\"outlinewidth\":0,\"ticks\":\"\"}}],\"histogram2d\":[{\"type\":\"histogram2d\",\"colorbar\":{\"outlinewidth\":0,\"ticks\":\"\"},\"colorscale\":[[0.0,\"#0d0887\"],[0.1111111111111111,\"#46039f\"],[0.2222222222222222,\"#7201a8\"],[0.3333333333333333,\"#9c179e\"],[0.4444444444444444,\"#bd3786\"],[0.5555555555555556,\"#d8576b\"],[0.6666666666666666,\"#ed7953\"],[0.7777777777777778,\"#fb9f3a\"],[0.8888888888888888,\"#fdca26\"],[1.0,\"#f0f921\"]]}],\"heatmap\":[{\"type\":\"heatmap\",\"colorbar\":{\"outlinewidth\":0,\"ticks\":\"\"},\"colorscale\":[[0.0,\"#0d0887\"],[0.1111111111111111,\"#46039f\"],[0.2222222222222222,\"#7201a8\"],[0.3333333333333333,\"#9c179e\"],[0.4444444444444444,\"#bd3786\"],[0.5555555555555556,\"#d8576b\"],[0.6666666666666666,\"#ed7953\"],[0.7777777777777778,\"#fb9f3a\"],[0.8888888888888888,\"#fdca26\"],[1.0,\"#f0f921\"]]}],\"heatmapgl\":[{\"type\":\"heatmapgl\",\"colorbar\":{\"outlinewidth\":0,\"ticks\":\"\"},\"colorscale\":[[0.0,\"#0d0887\"],[0.1111111111111111,\"#46039f\"],[0.2222222222222222,\"#7201a8\"],[0.3333333333333333,\"#9c179e\"],[0.4444444444444444,\"#bd3786\"],[0.5555555555555556,\"#d8576b\"],[0.6666666666666666,\"#ed7953\"],[0.7777777777777778,\"#fb9f3a\"],[0.8888888888888888,\"#fdca26\"],[1.0,\"#f0f921\"]]}],\"contourcarpet\":[{\"type\":\"contourcarpet\",\"colorbar\":{\"outlinewidth\":0,\"ticks\":\"\"}}],\"contour\":[{\"type\":\"contour\",\"colorbar\":{\"outlinewidth\":0,\"ticks\":\"\"},\"colorscale\":[[0.0,\"#0d0887\"],[0.1111111111111111,\"#46039f\"],[0.2222222222222222,\"#7201a8\"],[0.3333333333333333,\"#9c179e\"],[0.4444444444444444,\"#bd3786\"],[0.5555555555555556,\"#d8576b\"],[0.6666666666666666,\"#ed7953\"],[0.7777777777777778,\"#fb9f3a\"],[0.8888888888888888,\"#fdca26\"],[1.0,\"#f0f921\"]]}],\"surface\":[{\"type\":\"surface\",\"colorbar\":{\"outlinewidth\":0,\"ticks\":\"\"},\"colorscale\":[[0.0,\"#0d0887\"],[0.1111111111111111,\"#46039f\"],[0.2222222222222222,\"#7201a8\"],[0.3333333333333333,\"#9c179e\"],[0.4444444444444444,\"#bd3786\"],[0.5555555555555556,\"#d8576b\"],[0.6666666666666666,\"#ed7953\"],[0.7777777777777778,\"#fb9f3a\"],[0.8888888888888888,\"#fdca26\"],[1.0,\"#f0f921\"]]}],\"mesh3d\":[{\"type\":\"mesh3d\",\"colorbar\":{\"outlinewidth\":0,\"ticks\":\"\"}}],\"scatter\":[{\"fillpattern\":{\"fillmode\":\"overlay\",\"size\":10,\"solidity\":0.2},\"type\":\"scatter\"}],\"parcoords\":[{\"type\":\"parcoords\",\"line\":{\"colorbar\":{\"outlinewidth\":0,\"ticks\":\"\"}}}],\"scatterpolargl\":[{\"type\":\"scatterpolargl\",\"marker\":{\"colorbar\":{\"outlinewidth\":0,\"ticks\":\"\"}}}],\"bar\":[{\"error_x\":{\"color\":\"#2a3f5f\"},\"error_y\":{\"color\":\"#2a3f5f\"},\"marker\":{\"line\":{\"color\":\"#E5ECF6\",\"width\":0.5},\"pattern\":{\"fillmode\":\"overlay\",\"size\":10,\"solidity\":0.2}},\"type\":\"bar\"}],\"scattergeo\":[{\"type\":\"scattergeo\",\"marker\":{\"colorbar\":{\"outlinewidth\":0,\"ticks\":\"\"}}}],\"scatterpolar\":[{\"type\":\"scatterpolar\",\"marker\":{\"colorbar\":{\"outlinewidth\":0,\"ticks\":\"\"}}}],\"histogram\":[{\"marker\":{\"pattern\":{\"fillmode\":\"overlay\",\"size\":10,\"solidity\":0.2}},\"type\":\"histogram\"}],\"scattergl\":[{\"type\":\"scattergl\",\"marker\":{\"colorbar\":{\"outlinewidth\":0,\"ticks\":\"\"}}}],\"scatter3d\":[{\"type\":\"scatter3d\",\"line\":{\"colorbar\":{\"outlinewidth\":0,\"ticks\":\"\"}},\"marker\":{\"colorbar\":{\"outlinewidth\":0,\"ticks\":\"\"}}}],\"scattermapbox\":[{\"type\":\"scattermapbox\",\"marker\":{\"colorbar\":{\"outlinewidth\":0,\"ticks\":\"\"}}}],\"scatterternary\":[{\"type\":\"scatterternary\",\"marker\":{\"colorbar\":{\"outlinewidth\":0,\"ticks\":\"\"}}}],\"scattercarpet\":[{\"type\":\"scattercarpet\",\"marker\":{\"colorbar\":{\"outlinewidth\":0,\"ticks\":\"\"}}}],\"carpet\":[{\"aaxis\":{\"endlinecolor\":\"#2a3f5f\",\"gridcolor\":\"white\",\"linecolor\":\"white\",\"minorgridcolor\":\"white\",\"startlinecolor\":\"#2a3f5f\"},\"baxis\":{\"endlinecolor\":\"#2a3f5f\",\"gridcolor\":\"white\",\"linecolor\":\"white\",\"minorgridcolor\":\"white\",\"startlinecolor\":\"#2a3f5f\"},\"type\":\"carpet\"}],\"table\":[{\"cells\":{\"fill\":{\"color\":\"#EBF0F8\"},\"line\":{\"color\":\"white\"}},\"header\":{\"fill\":{\"color\":\"#C8D4E3\"},\"line\":{\"color\":\"white\"}},\"type\":\"table\"}],\"barpolar\":[{\"marker\":{\"line\":{\"color\":\"#E5ECF6\",\"width\":0.5},\"pattern\":{\"fillmode\":\"overlay\",\"size\":10,\"solidity\":0.2}},\"type\":\"barpolar\"}],\"pie\":[{\"automargin\":true,\"type\":\"pie\"}]},\"layout\":{\"autotypenumbers\":\"strict\",\"colorway\":[\"#636efa\",\"#EF553B\",\"#00cc96\",\"#ab63fa\",\"#FFA15A\",\"#19d3f3\",\"#FF6692\",\"#B6E880\",\"#FF97FF\",\"#FECB52\"],\"font\":{\"color\":\"#2a3f5f\"},\"hovermode\":\"closest\",\"hoverlabel\":{\"align\":\"left\"},\"paper_bgcolor\":\"white\",\"plot_bgcolor\":\"#E5ECF6\",\"polar\":{\"bgcolor\":\"#E5ECF6\",\"angularaxis\":{\"gridcolor\":\"white\",\"linecolor\":\"white\",\"ticks\":\"\"},\"radialaxis\":{\"gridcolor\":\"white\",\"linecolor\":\"white\",\"ticks\":\"\"}},\"ternary\":{\"bgcolor\":\"#E5ECF6\",\"aaxis\":{\"gridcolor\":\"white\",\"linecolor\":\"white\",\"ticks\":\"\"},\"baxis\":{\"gridcolor\":\"white\",\"linecolor\":\"white\",\"ticks\":\"\"},\"caxis\":{\"gridcolor\":\"white\",\"linecolor\":\"white\",\"ticks\":\"\"}},\"coloraxis\":{\"colorbar\":{\"outlinewidth\":0,\"ticks\":\"\"}},\"colorscale\":{\"sequential\":[[0.0,\"#0d0887\"],[0.1111111111111111,\"#46039f\"],[0.2222222222222222,\"#7201a8\"],[0.3333333333333333,\"#9c179e\"],[0.4444444444444444,\"#bd3786\"],[0.5555555555555556,\"#d8576b\"],[0.6666666666666666,\"#ed7953\"],[0.7777777777777778,\"#fb9f3a\"],[0.8888888888888888,\"#fdca26\"],[1.0,\"#f0f921\"]],\"sequentialminus\":[[0.0,\"#0d0887\"],[0.1111111111111111,\"#46039f\"],[0.2222222222222222,\"#7201a8\"],[0.3333333333333333,\"#9c179e\"],[0.4444444444444444,\"#bd3786\"],[0.5555555555555556,\"#d8576b\"],[0.6666666666666666,\"#ed7953\"],[0.7777777777777778,\"#fb9f3a\"],[0.8888888888888888,\"#fdca26\"],[1.0,\"#f0f921\"]],\"diverging\":[[0,\"#8e0152\"],[0.1,\"#c51b7d\"],[0.2,\"#de77ae\"],[0.3,\"#f1b6da\"],[0.4,\"#fde0ef\"],[0.5,\"#f7f7f7\"],[0.6,\"#e6f5d0\"],[0.7,\"#b8e186\"],[0.8,\"#7fbc41\"],[0.9,\"#4d9221\"],[1,\"#276419\"]]},\"xaxis\":{\"gridcolor\":\"white\",\"linecolor\":\"white\",\"ticks\":\"\",\"title\":{\"standoff\":15},\"zerolinecolor\":\"white\",\"automargin\":true,\"zerolinewidth\":2},\"yaxis\":{\"gridcolor\":\"white\",\"linecolor\":\"white\",\"ticks\":\"\",\"title\":{\"standoff\":15},\"zerolinecolor\":\"white\",\"automargin\":true,\"zerolinewidth\":2},\"scene\":{\"xaxis\":{\"backgroundcolor\":\"#E5ECF6\",\"gridcolor\":\"white\",\"linecolor\":\"white\",\"showbackground\":true,\"ticks\":\"\",\"zerolinecolor\":\"white\",\"gridwidth\":2},\"yaxis\":{\"backgroundcolor\":\"#E5ECF6\",\"gridcolor\":\"white\",\"linecolor\":\"white\",\"showbackground\":true,\"ticks\":\"\",\"zerolinecolor\":\"white\",\"gridwidth\":2},\"zaxis\":{\"backgroundcolor\":\"#E5ECF6\",\"gridcolor\":\"white\",\"linecolor\":\"white\",\"showbackground\":true,\"ticks\":\"\",\"zerolinecolor\":\"white\",\"gridwidth\":2}},\"shapedefaults\":{\"line\":{\"color\":\"#2a3f5f\"}},\"annotationdefaults\":{\"arrowcolor\":\"#2a3f5f\",\"arrowhead\":0,\"arrowwidth\":1},\"geo\":{\"bgcolor\":\"white\",\"landcolor\":\"#E5ECF6\",\"subunitcolor\":\"white\",\"showland\":true,\"showlakes\":true,\"lakecolor\":\"white\"},\"title\":{\"x\":0.05},\"mapbox\":{\"style\":\"light\"}}},\"legend\":{\"tracegroupgap\":0},\"margin\":{\"t\":60},\"height\":1200,\"width\":2000},                        {\"responsive\": true}                    ).then(function(){\n",
       "                            \n",
       "var gd = document.getElementById('a3d08251-b173-48f5-87d4-df7be11469bf');\n",
       "var x = new MutationObserver(function (mutations, observer) {{\n",
       "        var display = window.getComputedStyle(gd).display;\n",
       "        if (!display || display === 'none') {{\n",
       "            console.log([gd, 'removed!']);\n",
       "            Plotly.purge(gd);\n",
       "            observer.disconnect();\n",
       "        }}\n",
       "}});\n",
       "\n",
       "// Listen for the removal of the full notebook cells\n",
       "var notebookContainer = gd.closest('#notebook-container');\n",
       "if (notebookContainer) {{\n",
       "    x.observe(notebookContainer, {childList: true});\n",
       "}}\n",
       "\n",
       "// Listen for the clearing of the current output cell\n",
       "var outputEl = gd.closest('.output');\n",
       "if (outputEl) {{\n",
       "    x.observe(outputEl, {childList: true});\n",
       "}}\n",
       "\n",
       "                        })                };                });            </script>        </div>"
      ]
     },
     "metadata": {},
     "output_type": "display_data"
    }
   ],
   "source": [
    "fig"
   ]
  },
  {
   "cell_type": "code",
   "execution_count": null,
   "id": "88159184",
   "metadata": {},
   "outputs": [],
   "source": []
  }
 ],
 "metadata": {
  "kernelspec": {
   "display_name": "Python 3 (ipykernel)",
   "language": "python",
   "name": "python3"
  },
  "language_info": {
   "codemirror_mode": {
    "name": "ipython",
    "version": 3
   },
   "file_extension": ".py",
   "mimetype": "text/x-python",
   "name": "python",
   "nbconvert_exporter": "python",
   "pygments_lexer": "ipython3",
   "version": "3.8.2"
  }
 },
 "nbformat": 4,
 "nbformat_minor": 5
}
