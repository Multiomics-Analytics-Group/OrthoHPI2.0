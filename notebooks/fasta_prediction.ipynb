{
 "cells": [
  {
   "cell_type": "code",
   "execution_count": 1,
   "id": "b0a86778",
   "metadata": {},
   "outputs": [],
   "source": [
    "#!pip install stmol\n",
    "#!pip install py3Dmol\n",
    "#!pip install --upgrade pip\n",
    "#!pip install nglview"
   ]
  },
  {
   "cell_type": "code",
   "execution_count": 6,
   "id": "b89ee4e0",
   "metadata": {},
   "outputs": [],
   "source": [
    "import pandas as pd\n",
    "from Bio.Seq import Seq\n",
    "from Bio.Blast.NCBIWWW import qblast\n",
    "from Bio.Blast.NCBIXML import parse"
   ]
  },
  {
   "cell_type": "code",
   "execution_count": 7,
   "id": "a5179295",
   "metadata": {},
   "outputs": [],
   "source": [
    "query_seq = '''MNRIDISNFDFLYVIGKGTYGIVYKALDKKENNFVAIKKIINLCDENYGISKCILRELTI\n",
    "LQKIKHKNIINLKYVFYGKDIEDKLKGENLENSCLYLAFEYCDIDLFNLIKKHNLNIKEI\n",
    "KYIIFELLLALSYFHSNNYIHRDIKPENIFITSEGEIKLGDLGMSVEKSDHMTPTVVTLW\n",
    "YRAPEILLKSTNYDQKVDIWSLGCLFMELIQGRPLFPGKNDCTQLELIYLLLGDKDKLTT\n",
    "VDKERKDMFPYFEINMLKDAIDDEHTLDLISKMLIYDPNYRISSKEALKHPCFQDIEQVK\n",
    "FSYNF'''"
   ]
  },
  {
   "cell_type": "code",
   "execution_count": 8,
   "id": "1b478e0c",
   "metadata": {},
   "outputs": [],
   "source": [
    "def convert_to_fasta(query_seq):\n",
    "    \"\"\"Converts string AA sequence into a BioPython Seq\n",
    "    \n",
    "    param string query_seq: string AA sequence\n",
    "    \n",
    "    return Seq sequence: sequence in Seq format\"\"\"\n",
    "    \n",
    "    sequence = Seq(query_seq)\n",
    "    \n",
    "    return sequence"
   ]
  },
  {
   "cell_type": "code",
   "execution_count": 9,
   "id": "7f013760",
   "metadata": {},
   "outputs": [],
   "source": [
    "sequence = convert_to_fasta(query_seq)"
   ]
  },
  {
   "cell_type": "code",
   "execution_count": 12,
   "id": "61cbfcc1",
   "metadata": {},
   "outputs": [],
   "source": [
    "result = qblast(program=\"blastp\", database=\"nr\", sequence=query_seq,\n",
    "                url_base='https://blast.ncbi.nlm.nih.gov/Blast.cgi',\n",
    "                expect=0.01, matrix_name=\"BLOSUM62\", perc_ident=100,\n",
    "                hitlist_size=1, word_size=6, format_type='XML')"
   ]
  },
  {
   "cell_type": "code",
   "execution_count": 13,
   "id": "a9119c88",
   "metadata": {},
   "outputs": [
    {
     "name": "stdout",
     "output_type": "stream",
     "text": [
      "\n",
      "\n",
      "query: unnamed protein product\n",
      "match: ref|XP_001350099.1| protein kinase 6 [Plasmodium falciparum 3D7] >gb|AAC61592.1| cdk-related protein kinase 6 [Plasmodium falciparum] >gb|ETW16854.1| CMGC/CDK protein kinase [Plasmodium falciparum Vietnam Oak-Knoll (FVO)] >gb|ETW34679.1| CMGC/CDK protein kinase [Plasmodium falciparum Tanzania (2000708)] >gb|ETW40504.1| CMGC/CDK protein kinase [Plasmodium falciparum NF135/5.C10] >gb|ETW47473.1| CMGC/CDK protein kinase [Plasmodium falciparum MaliPS096_E11] >gb|ETW59417.1| CMGC/CDK protein kinase [Plasmodium falciparum CAMP/Malaysia] >gb|EUR65933.1| CMGC/CDK protein kinase [Plasmodium falciparum 7G8] >gb|EUT76822.1| CMGC/CDK protein kinase [Plasmodium falciparum Santa Lucia] >gb|KAF4326521.1| protein kinase 6 [Plasmodium falciparum NF54] \n"
     ]
    }
   ],
   "source": [
    "for record in parse(result): \n",
    "    if record.alignments: \n",
    "        print(\"\\n\") \n",
    "        print(\"query: %s\" % record.query[:100]) \n",
    "        for align in record.alignments: \n",
    "            for hsp in align.hsps: \n",
    "                if hsp.expect < 0.001: \n",
    "                    print(\"match: %s \" % align.title)"
   ]
  },
  {
   "cell_type": "code",
   "execution_count": 4,
   "id": "c932c08e",
   "metadata": {},
   "outputs": [],
   "source": [
    "import urllib.request\n",
    "def get_alphafold_structure(query_protein=''):\n",
    "    url = 'https://alphafold.ebi.ac.uk/files/AF-query_protein-F1-model_v4.pdb'\n",
    "    request = urllib.request.Request(url.replace('query_protein', query_protein))\n",
    "    with open('output_structure.pdb', 'w') as out:\n",
    "        with urllib.request.urlopen(request) as response:\n",
    "            res = response.read().decode('utf-8')\n",
    "            out.write(res)\n",
    "            \n",
    "    return query_portein+'_output_structure.pdb'"
   ]
  },
  {
   "cell_type": "code",
   "execution_count": 2,
   "id": "d32e805e",
   "metadata": {},
   "outputs": [
    {
     "ename": "NameError",
     "evalue": "name 'query_output' is not defined",
     "output_type": "error",
     "traceback": [
      "\u001b[0;31m---------------------------------------------------------------------------\u001b[0m",
      "\u001b[0;31mNameError\u001b[0m                                 Traceback (most recent call last)",
      "Cell \u001b[0;32mIn [2], line 1\u001b[0m\n\u001b[0;32m----> 1\u001b[0m \u001b[43mquery_output\u001b[49m\n",
      "\u001b[0;31mNameError\u001b[0m: name 'query_output' is not defined"
     ]
    }
   ],
   "source": [
    "uniprot_acc = 'Q8IDW1'\n",
    "pdb_file = get_alphafold_structure(query_protein=uniprot_acc)uniprot_acc = 'Q8IDW1'"
   ]
  },
  {
   "cell_type": "code",
   "execution_count": null,
   "id": "642d5006",
   "metadata": {},
   "outputs": [],
   "source": [
    "from stmol import showmol\n",
    "import py3Dmol\n",
    "# 1A2C\n",
    "# Structure of thrombin inhibited by AERUGINOSIN298-A from a BLUE-GREEN ALGA\n",
    "xyzview = py3Dmol.view(query='pdb:1A2C') \n",
    "xyzview.setStyle({'cartoon':{'color':'spectrum'}})\n",
    "showmol(xyzview, height = 500,width=800)"
   ]
  },
  {
   "cell_type": "code",
   "execution_count": 3,
   "id": "c79bb706",
   "metadata": {},
   "outputs": [
    {
     "data": {
      "application/vnd.jupyter.widget-view+json": {
       "model_id": "4e13a1fd33fe45e09bf04c724ba88f89",
       "version_major": 2,
       "version_minor": 0
      },
      "text/plain": []
     },
     "metadata": {},
     "output_type": "display_data"
    },
    {
     "data": {
      "application/vnd.jupyter.widget-view+json": {
       "model_id": "d9cb344d900940d2abe1a19d2609cdb9",
       "version_major": 2,
       "version_minor": 0
      },
      "text/plain": [
       "NGLWidget()"
      ]
     },
     "metadata": {},
     "output_type": "display_data"
    }
   ],
   "source": [
    "import nglview as nv\n",
    "\n",
    "view = nv.show_file('output_structure.pdb')\n",
    "view"
   ]
  },
  {
   "cell_type": "code",
   "execution_count": null,
   "id": "2643109d",
   "metadata": {},
   "outputs": [],
   "source": []
  }
 ],
 "metadata": {
  "kernelspec": {
   "display_name": "Python 3 (ipykernel)",
   "language": "python",
   "name": "python3"
  },
  "language_info": {
   "codemirror_mode": {
    "name": "ipython",
    "version": 3
   },
   "file_extension": ".py",
   "mimetype": "text/x-python",
   "name": "python",
   "nbconvert_exporter": "python",
   "pygments_lexer": "ipython3",
   "version": "3.8.2"
  }
 },
 "nbformat": 4,
 "nbformat_minor": 5
}
